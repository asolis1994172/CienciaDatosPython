{
  "nbformat": 4,
  "nbformat_minor": 0,
  "metadata": {
    "colab": {
      "name": "Examen Parcial - Denis Solis.ipynb",
      "provenance": [],
      "collapsed_sections": []
    },
    "kernelspec": {
      "name": "python3",
      "display_name": "Python 3"
    }
  },
  "cells": [
    {
      "cell_type": "markdown",
      "metadata": {
        "id": "9AYwQH0GcZnw"
      },
      "source": [
        "# **Universidad Galileo**\r\n",
        "### **Instituto de Investigación de Operaciones**\r\n",
        "### ***Postgrado en Análisis y Predicción de Datos***\r\n",
        "### ***Ciencia de Datos en Python***\r\n",
        "\r\n",
        "\r\n",
        "####   Catedrático Titular: Preng Biba\r\n",
        "####   Catedrático auxiliar: Milton Godinez\r\n",
        "\r\n",
        "##### Denis Alexis Solis Arroyo - Carnet: 20 000 143\r\n",
        "\r\n",
        "\r\n",
        "\r\n",
        "![Img AltText](https://www.galileo.edu/wp-content/uploads/2010/12/logo-ug.png)\r\n",
        "\r\n",
        "    \r\n",
        "# <center> Examen parcial </center>"
      ]
    },
    {
      "cell_type": "code",
      "metadata": {
        "colab": {
          "base_uri": "https://localhost:8080/"
        },
        "id": "kGYwhN5_u2OW",
        "outputId": "89cc310c-e42e-41c7-bc98-0c11e89cc668"
      },
      "source": [
        "# Librerías a utilizar\r\n",
        "import re\r\n",
        "#!pip install rstr --- Se ejecutó una vez, por lo que se dejó comentado\r\n",
        "import rstr\r\n",
        "\r\n",
        "#Patron de la expresión regular\r\n",
        "patron = \"[A-Z][0-9][A-Z][0-9][A-Z][0-9][A-Z][0-9][A-Z][0-9][A-Z][0-9][A-Z][0-9]\"\r\n",
        "\r\n",
        "#Crear diccionario y lista\r\n",
        "validos = {}\r\n",
        "no_validos = []\r\n",
        "\r\n",
        "#Funcion para validar la palabra \"exit\"\r\n",
        "def validaTexto(texto):\r\n",
        "    entrada = '^(e|E)(x|X)(i|I)(t|T)$'\r\n",
        "    x = re.search(entrada, texto)\r\n",
        "    if(x):\r\n",
        "        return True\r\n",
        "    else:\r\n",
        "        return False\r\n",
        "\r\n",
        "#Función para validar si el código es válido o no\r\n",
        "valida = False\r\n",
        "print(\"Programa que genera códigos aleatorios\")\r\n",
        "\r\n",
        "while valida == False:\r\n",
        "  texto = input(\"Escribe exit para salir del programa: \")\r\n",
        "  valida = validaTexto(texto)\r\n",
        "  if valida == True:\r\n",
        "        print(\"Programa finalizado\")\r\n",
        "        valida = True\r\n",
        "  else:\r\n",
        "  #Función que genera el código automático\r\n",
        "    def genera_codigo():\r\n",
        "      codigo = rstr.xeger(patron)\r\n",
        "      return codigo\r\n",
        "  #Pasar resultados a variables\r\n",
        "    clave = genera_codigo()\r\n",
        "    suma_numeros = int(clave[1])+int(clave[3])+int(clave[5])+int(clave[7])+int(clave[9])+int(clave[11])+int(clave[13])\r\n",
        "    \r\n",
        "    lista_temporal = []\r\n",
        "    \r\n",
        "    for i in clave:\r\n",
        "      lista_temporal.append(clave)\r\n",
        "\r\n",
        "    if suma_numeros < 30:\r\n",
        "      no_validos.append(clave)\r\n",
        "    else:\r\n",
        "      validos[suma_numeros] = clave\r\n",
        "    print(\"Tu código es: \", clave)\r\n",
        "    \r\n",
        "# Imprimir los resultados del programa\r\n",
        "print(\"Los códigos válidos son: \")\r\n",
        "print(validos)\r\n",
        "print(\"Los códigos no válidos son: \")\r\n",
        "print(no_validos)\r\n",
        "\r\n"
      ],
      "execution_count": 174,
      "outputs": [
        {
          "output_type": "stream",
          "text": [
            "Programa que genera códigos aleatorios\n",
            "Escribe exit para salir del programa: \n",
            "Tu código es:  S4C3C7V7J5G2V1\n",
            "Escribe exit para salir del programa: \n",
            "Tu código es:  I9T4O8U3W4D5O2\n",
            "Escribe exit para salir del programa: \n",
            "Tu código es:  M0I7F5P2J9W8K7\n",
            "Escribe exit para salir del programa: exit\n",
            "Programa finalizado\n",
            "Los códigos válidos son: \n",
            "{35: 'I9T4O8U3W4D5O2', 38: 'M0I7F5P2J9W8K7'}\n",
            "Los códigos no válidos son: \n",
            "['S4C3C7V7J5G2V1']\n"
          ],
          "name": "stdout"
        }
      ]
    }
  ]
}