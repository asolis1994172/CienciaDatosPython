{
  "nbformat": 4,
  "nbformat_minor": 0,
  "metadata": {
    "colab": {
      "name": "Hoja de trabajo 2.ipynb",
      "provenance": [],
      "collapsed_sections": []
    },
    "kernelspec": {
      "name": "python3",
      "display_name": "Python 3"
    }
  },
  "cells": [
    {
      "cell_type": "markdown",
      "metadata": {
        "id": "AGyKQIaGA9ak"
      },
      "source": [
        "# **Universidad Galileo**\r\n",
        "### **Instituto de Investigación de Operaciones**\r\n",
        "### ***Postgrado en Análisis y Predicción de Datos***\r\n",
        "### ***Ciencia de Datos en Python***\r\n",
        "\r\n",
        "\r\n",
        "####   Catedrático Titular: Preng Biba\r\n",
        "####   Catedrático auxiliar: Milton Godinez\r\n",
        "\r\n",
        "##### Denis Alexis Solis Arroyo\r\n",
        "##### Carnet: 20 000 143\r\n",
        "\r\n",
        "\r\n",
        "![Img AltText](https://www.galileo.edu/wp-content/uploads/2010/12/logo-ug.png)\r\n",
        "\r\n",
        "    \r\n",
        "# <center>Hoja de trabajo # 2</center>\r\n",
        "\r\n",
        "### Ejercicio 1: Convertir segundos a horas, minutos y segundos"
      ]
    },
    {
      "cell_type": "code",
      "metadata": {
        "colab": {
          "base_uri": "https://localhost:8080/"
        },
        "id": "r4NNpLnDnubT",
        "outputId": "f5c97a6a-b66c-4929-cb5e-a90ea2038697"
      },
      "source": [
        "# Programa que calcula las horas, minutos y segundos con base en los segundos ingresados\r\n",
        "import math \r\n",
        "segundos = int(input(\"Ingrese los segundos: \"))\r\n",
        "\r\n",
        "horas = (segundos/60/60)\r\n",
        "if horas < 1:\r\n",
        "  horas1 = 0\r\n",
        "else:\r\n",
        "  horas1 = math.floor(segundos/60/60)\r\n",
        "\r\n",
        "minutos = (horas - horas1)*60\r\n",
        "minutos1 = math.floor(minutos)\r\n",
        "\r\n",
        "segundos = (minutos-minutos1)*60\r\n",
        "segundos1 = round(segundos)\r\n",
        "\r\n",
        "print(\"Horas: \", horas1, \", Minutos: \", minutos1, \", Segundos: \", segundos1)\r\n"
      ],
      "execution_count": 53,
      "outputs": [
        {
          "output_type": "stream",
          "text": [
            "Ingrese los segundos: 8569\n",
            "Horas:  2 , Minutos:  22 , Segundos:  49\n"
          ],
          "name": "stdout"
        }
      ]
    },
    {
      "cell_type": "code",
      "metadata": {
        "colab": {
          "base_uri": "https://localhost:8080/"
        },
        "id": "H0blugU6yzxD",
        "outputId": "937862b2-2e1a-49a4-ff3b-ed03a1446995"
      },
      "source": [
        "# Programa que calcula la edad\r\n",
        "from datetime import date\r\n",
        "from datetime import datetime\r\n",
        "from dateutil.relativedelta import relativedelta\r\n",
        "dia = int(input(\"Ingrese el día de nacimiento: \"))\r\n",
        "mes = dia = int(input(\"Ingrese el mes de nacimiento: \"))\r\n",
        "anio = int(input(\"Ingrese el año de nacimiento: \"))\r\n",
        "nacimiento = date(anio, mes, dia)\r\n",
        "actual = actual = date.today()\r\n",
        "edad = relativedelta(actual, nacimiento).years\r\n",
        "print(\"La edad es: \", str(edad), \"años\")\r\n"
      ],
      "execution_count": 56,
      "outputs": [
        {
          "output_type": "stream",
          "text": [
            "Ingrese el día de nacimiento: 27\n",
            "Ingrese el mes de nacimiento: 11\n",
            "Ingrese el año de nacimiento: 1995\n",
            "La edad es:  25 años\n"
          ],
          "name": "stdout"
        }
      ]
    },
    {
      "cell_type": "code",
      "metadata": {
        "colab": {
          "base_uri": "https://localhost:8080/"
        },
        "id": "DHjjlAqjhmy3",
        "outputId": "869da609-0e28-4bc4-c85d-3aae348c6be2"
      },
      "source": [
        "simbolo = str(input(\"Ingrese el caracter: \"))\r\n",
        "cantidad = int(input(\"Ingrese la cantidad de veces: \"))\r\n",
        "\r\n",
        "def traingulo():\r\n",
        "  for i in range(cantidad+1):\r\n",
        "    print(simbolo * i)\r\n",
        "\r\n",
        "traingulo()"
      ],
      "execution_count": 25,
      "outputs": [
        {
          "output_type": "stream",
          "text": [
            "Ingrese el caracter: *\n",
            "Ingrese la cantidad de veces: 5\n",
            "\n",
            "*\n",
            "**\n",
            "***\n",
            "****\n",
            "*****\n"
          ],
          "name": "stdout"
        }
      ]
    },
    {
      "cell_type": "code",
      "metadata": {
        "colab": {
          "base_uri": "https://localhost:8080/"
        },
        "id": "9zhPKcD0nf-D",
        "outputId": "c4e09db8-cf0c-4720-8155-596b53710a66"
      },
      "source": [
        "# Programa que concatena una tupla, se basa en el ingreso de 5 valores\r\n",
        "valor1 = str(input(\"Ingrese el primer valor: \"))\r\n",
        "valor2 = str(input(\"Ingrese el segundo valor: \"))\r\n",
        "valor3 = str(input(\"Ingrese el tercer valor: \"))\r\n",
        "valor4 = str(input(\"Ingrese el cuarto valor: \"))\r\n",
        "valor5 = str(input(\"Ingrese el quinto valor: \"))\r\n",
        "\r\n",
        "tup = (valor1, valor2, valor3, valor4, valor5)\r\n",
        "\r\n",
        "def concatenado():\r\n",
        "  delimitador = \"\"\r\n",
        "  resultado = delim.join(map(str, tup))\r\n",
        "  print(\"La tupla concatenada es:\", (resultado))\r\n",
        "\r\n",
        "concatenado()"
      ],
      "execution_count": 58,
      "outputs": [
        {
          "output_type": "stream",
          "text": [
            "Ingrese el primer valor: 10\n",
            "Ingrese el segundo valor: 20\n",
            "Ingrese el tercer valor: 30\n",
            "Ingrese el cuarto valor: 40\n",
            "Ingrese el quinto valor: 50\n",
            "La tupla concatenada es: 1020304050\n"
          ],
          "name": "stdout"
        }
      ]
    },
    {
      "cell_type": "code",
      "metadata": {
        "colab": {
          "base_uri": "https://localhost:8080/"
        },
        "id": "n1fx6DB8vtV3",
        "outputId": "a33ae109-2b5f-4a71-e21f-e7b009a1d964"
      },
      "source": [
        "# Programa que elimina las tuplas vacías de una lista de tuplas, se basa en el ingreso de 6 valores y cada tupla contiene dos valores\r\n",
        "tup1 = ()\r\n",
        "tup2 = (\"a\", \"b\")\r\n",
        "tup3 = (\"1\", \"2\")\r\n",
        "\r\n",
        "def quitar(tuplas): \r\n",
        "    tuplas = [i for i in tuplas if i] \r\n",
        "    return tuplas\r\n",
        "tuplas = [tup1, tup2, tup3] \r\n",
        "print(quitar(tuplas)) \r\n"
      ],
      "execution_count": 80,
      "outputs": [
        {
          "output_type": "stream",
          "text": [
            "[('a', 'b'), ('1', '2')]\n"
          ],
          "name": "stdout"
        }
      ]
    },
    {
      "cell_type": "code",
      "metadata": {
        "colab": {
          "base_uri": "https://localhost:8080/"
        },
        "id": "CgLi99Qx56Wr",
        "outputId": "413948cb-4ebd-407d-9799-b94355f25066"
      },
      "source": [
        "# Programa que calcula los promedios sobre las tuplas\r\n",
        "valor1 = int(input(\"Ingrese un valor para la primera tupla: \"))\r\n",
        "valor2 = int(input(\"Ingrese un valor para la primera tupla: \"))\r\n",
        "valor3 = int(input(\"Ingrese un valor para la segunda tupla: \"))\r\n",
        "valor4 = int(input(\"Ingrese un valor para la segunda tupla: \"))\r\n",
        "valor5 = int(input(\"Ingrese un valor para la tercera tupla: \"))\r\n",
        "valor6 = int(input(\"Ingrese un valor para la tercera tupla: \"))\r\n",
        "\r\n",
        "tup1 = (valor1, valor2)\r\n",
        "tup2 = (valor3, valor4)\r\n",
        "tup3 = (valor5, valor6)\r\n",
        "\r\n",
        "def promedio(tuplas):\r\n",
        "  tuplas = [sum(tup1)/len(tup1), sum(tup2)/len(tup2), sum(tup3)/len(tup3)]\r\n",
        "  return tuplas\r\n",
        "\r\n",
        "print(promedio(tuplas))"
      ],
      "execution_count": 88,
      "outputs": [
        {
          "output_type": "stream",
          "text": [
            "Ingrese un valor para la primera tupla: 3\n",
            "Ingrese un valor para la primera tupla: 4\n",
            "Ingrese un valor para la segunda tupla: 5\n",
            "Ingrese un valor para la segunda tupla: 10\n",
            "Ingrese un valor para la tercera tupla: 60\n",
            "Ingrese un valor para la tercera tupla: 20\n",
            "[3.5, 7.5, 40.0]\n"
          ],
          "name": "stdout"
        }
      ]
    },
    {
      "cell_type": "code",
      "metadata": {
        "id": "lQ2AFWUy_A-R"
      },
      "source": [
        ""
      ],
      "execution_count": null,
      "outputs": []
    }
  ]
}