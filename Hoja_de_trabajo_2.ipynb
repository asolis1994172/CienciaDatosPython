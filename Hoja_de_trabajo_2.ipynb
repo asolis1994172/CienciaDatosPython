{
  "nbformat": 4,
  "nbformat_minor": 0,
  "metadata": {
    "colab": {
      "name": "Hoja de trabajo 2.ipynb",
      "provenance": [],
      "collapsed_sections": []
    },
    "kernelspec": {
      "name": "python3",
      "display_name": "Python 3"
    }
  },
  "cells": [
    {
      "cell_type": "markdown",
      "metadata": {
        "id": "AGyKQIaGA9ak"
      },
      "source": [
        "# **Universidad Galileo**\r\n",
        "### **Instituto de Investigación de Operaciones**\r\n",
        "### ***Postgrado en Análisis y Predicción de Datos***\r\n",
        "### ***Ciencia de Datos en Python***\r\n",
        "\r\n",
        "\r\n",
        "####   Catedrático Titular: Preng Biba\r\n",
        "####   Catedrático auxiliar: Milton Godinez\r\n",
        "\r\n",
        "##### Marto Fredy Xam Chivalán - Carnet: 20 000 144\r\n",
        "##### Denis Alexis Solis Arroyo - Carnet: 20 000 143\r\n",
        "\r\n",
        "\r\n",
        "\r\n",
        "![Img AltText](https://www.galileo.edu/wp-content/uploads/2010/12/logo-ug.png)\r\n",
        "\r\n",
        "    \r\n",
        "# <center> Hoja de trabajo # 2</center>\r\n",
        "\r\n",
        "## Parte #1: Programación y sintáxis\r\n",
        "##### Ejercicio 1: Haga un programa en Python que reciba de parámetro un número de segundos y que despliegue en pantalla, las horas, minutos y segundos que representan"
      ]
    },
    {
      "cell_type": "code",
      "metadata": {
        "colab": {
          "base_uri": "https://localhost:8080/"
        },
        "id": "r4NNpLnDnubT",
        "outputId": "c7fa9bd4-6f0f-462c-d535-2843e9b5341d"
      },
      "source": [
        "try:\r\n",
        "    entrada = int(input(\"Ingrese los segundos: \"))\r\n",
        "    horas = entrada/3600\r\n",
        "    minutos = (horas - int(horas))*60\r\n",
        "    segundos = (minutos - int(minutos))*60\r\n",
        "    print(int(horas), \" horas, \", int(minutos), \" minutos y \", int(segundos), \" segundos\")\r\n",
        "except:\r\n",
        "    print(\"Datos no válidos\")\r\n"
      ],
      "execution_count": null,
      "outputs": [
        {
          "output_type": "stream",
          "text": [
            "Ingrese los segundos: 5871\n",
            "1  horas,  37  minutos y  51  segundos\n"
          ],
          "name": "stdout"
        }
      ]
    },
    {
      "cell_type": "markdown",
      "metadata": {
        "id": "HMszriXawG3J"
      },
      "source": [
        "##### Ejercicio 2: Haga  una  función  en  Python  que  dado  un  número  entre  1  y  20.  Y  un  caracter  cualquiera despliegue cuatro patrones triangulares"
      ]
    },
    {
      "cell_type": "code",
      "metadata": {
        "colab": {
          "base_uri": "https://localhost:8080/"
        },
        "id": "cujiOkZgwY1n",
        "outputId": "b82df917-35cf-44f4-f5d8-810bde5810b1"
      },
      "source": [
        "import re\r\n",
        "\r\n",
        "def validaCadena(cadena):\r\n",
        "    patron = \"^\\W$\"\r\n",
        "    x = re.search(patron, cadena)\r\n",
        "    if(x):\r\n",
        "        return True\r\n",
        "    else:\r\n",
        "        return False\r\n",
        "# Inputs\r\n",
        "cadena = input(\"Ingrese un caracter: \")\r\n",
        "numeroi = int(input(\"Ingrese un número entre 1 y 20: \"))\r\n",
        "\r\n",
        "\r\n",
        "# Resultado\r\n",
        "try:\r\n",
        "        if((numeroi<1) or (numeroi>20)):\r\n",
        "            print(\"Valor fuera del rango\")\r\n",
        "        else:\r\n",
        "            def main(): \r\n",
        "                validacion = validaCadena(cadena)\r\n",
        "                if(validacion == True):\r\n",
        "                    for i in range(numeroi):\r\n",
        "                        print(\" \" * (numeroi -i -1) + cadena * (1 * i +1))\r\n",
        "\r\n",
        "                    print(\"\")\r\n",
        "\r\n",
        "                    for i in range(numeroi-1, -1, -1):\r\n",
        "                        print(\" \" * (numeroi -i -1) + cadena * (1 * i +1))\r\n",
        "\r\n",
        "                    print(\"\")\r\n",
        "\r\n",
        "                    for i in range(numeroi):\r\n",
        "                        print(cadena * (i +1))\r\n",
        "\r\n",
        "                    print(\"\")\r\n",
        "\r\n",
        "                    for i in range(numeroi-1,-1,-1):\r\n",
        "                        print(cadena * (i +1))\r\n",
        "                else:\r\n",
        "                    print(\"El caracter es incorrecto\")\r\n",
        "            main()\r\n",
        "except:\r\n",
        "    print(\"Revisar caracter y rango\")\r\n",
        "\t\r\n",
        "\t\r\n",
        "\t\r\n"
      ],
      "execution_count": null,
      "outputs": [
        {
          "output_type": "stream",
          "text": [
            "Ingrese un caracter: *\n",
            "Ingrese un número entre 1 y 20: 4\n",
            "   *\n",
            "  **\n",
            " ***\n",
            "****\n",
            "\n",
            "****\n",
            " ***\n",
            "  **\n",
            "   *\n",
            "\n",
            "*\n",
            "**\n",
            "***\n",
            "****\n",
            "\n",
            "****\n",
            "***\n",
            "**\n",
            "*\n"
          ],
          "name": "stdout"
        }
      ]
    },
    {
      "cell_type": "markdown",
      "metadata": {
        "id": "zg2I3ms14fSO"
      },
      "source": [
        "##### Ejercicio 3: Haga un programa en Python que la fecha de nacimiento de una persona despliegue la edad de la persona en años, meses y días"
      ]
    },
    {
      "cell_type": "code",
      "metadata": {
        "colab": {
          "base_uri": "https://localhost:8080/"
        },
        "id": "GXwE2SEByXo6",
        "outputId": "186d1850-8efc-44ed-e293-acd12db2008d"
      },
      "source": [
        "# Programa que calcula la edad\r\n",
        "from datetime import date\r\n",
        "from datetime import datetime\r\n",
        "from dateutil.relativedelta import relativedelta\r\n",
        "\r\n",
        "try:\r\n",
        "  dia = int(input(\"Ingrese el día de nacimiento: \"))\r\n",
        "  \r\n",
        "  if dia >= 1 and dia <32:\r\n",
        "    vdia = True\r\n",
        "  else:\r\n",
        "    vdia = False\r\n",
        "\r\n",
        "  \r\n",
        "  mes = dia = int(input(\"Ingrese el mes de nacimiento: \"))\r\n",
        "\r\n",
        "  if mes >= 1 and mes <13:\r\n",
        "    vmes = True\r\n",
        "  else:\r\n",
        "    vmes = False\r\n",
        "\r\n",
        "  anio = int(input(\"Ingrese el año de nacimiento: \"))\r\n",
        "\r\n",
        "  if anio >= 1900:\r\n",
        "    vanio = True\r\n",
        "  else:\r\n",
        "    vanio = False\r\n",
        "\r\n",
        "except:\r\n",
        "  print(\"El tipo de dato es incorrecto\")\r\n",
        "\r\n",
        "try:\r\n",
        "      nacimiento = date(anio, mes, dia)\r\n",
        "      actual = actual = date.today()\r\n",
        "      edad = relativedelta(actual, nacimiento).years\r\n",
        "\r\n",
        "      if vdia == True and vmes == True and vanio == True:\r\n",
        "          print(\"La edad es: \", str(edad), \"años\")\r\n",
        "      else:\r\n",
        "          print(\"La fecha ingresada es incorrecta\")\r\n",
        "\r\n",
        "except:\r\n",
        "      print(\"La fecha ingresada es incorrecta\")"
      ],
      "execution_count": null,
      "outputs": [
        {
          "output_type": "stream",
          "text": [
            "Ingrese el día de nacimiento: 17\n",
            "Ingrese el mes de nacimiento: 2\n",
            "Ingrese el año de nacimiento: 1994\n",
            "La edad es:  27 años\n"
          ],
          "name": "stdout"
        }
      ]
    },
    {
      "cell_type": "markdown",
      "metadata": {
        "id": "Zfn1lfad5BG3"
      },
      "source": [
        "## Parte #2: Estructuras de datos\r\n",
        "##### Ejercicio 1: Escriba una función en Python que dada una tupla de elementos (numeros o letras) esta se convierta a un string"
      ]
    },
    {
      "cell_type": "code",
      "metadata": {
        "colab": {
          "base_uri": "https://localhost:8080/"
        },
        "id": "9zhPKcD0nf-D",
        "outputId": "f0dcadbf-1c67-4df6-88d9-222a1a44b0ad"
      },
      "source": [
        "### Programa que concatena una tupla, se basa en el ingreso de 5 valores\r\n",
        "valor1 = str(input(\"Ingrese el primer valor: \"))\r\n",
        "valor2 = str(input(\"Ingrese el segundo valor: \"))\r\n",
        "valor3 = str(input(\"Ingrese el tercer valor: \"))\r\n",
        "valor4 = str(input(\"Ingrese el cuarto valor: \"))\r\n",
        "valor5 = str(input(\"Ingrese el quinto valor: \"))\r\n",
        "\r\n",
        "tup = (valor1, valor2, valor3, valor4, valor5)\r\n",
        "\r\n",
        "def concatenado():\r\n",
        "    delimitador = \"\"\r\n",
        "    resultado = delimitador.join(map(str, tup))\r\n",
        "    return resultado\r\n",
        "\r\n",
        "var = concatenado()\r\n",
        "\r\n",
        "import re\r\n",
        "\r\n",
        "def validaCadena(cadena):\r\n",
        "    patron = \"^\\w*$\"\r\n",
        "    x = re.search(patron, cadena)\r\n",
        "    if (x):\r\n",
        "        return True\r\n",
        "    else:\r\n",
        "        return False\r\n",
        "\r\n",
        "def main():\r\n",
        "    cadena = var        \r\n",
        "    validacion = validaCadena(cadena)\r\n",
        "    if (validacion == True):\r\n",
        "        print(\"La tupla concatenada es: \", var)\r\n",
        "    else:\r\n",
        "        print(\"Los valores son inválidos\")\r\n",
        "main()"
      ],
      "execution_count": 89,
      "outputs": [
        {
          "output_type": "stream",
          "text": [
            "Ingrese el primer valor: 10\n",
            "Ingrese el segundo valor: 20\n",
            "Ingrese el tercer valor: 30\n",
            "Ingrese el cuarto valor: 40\n",
            "Ingrese el quinto valor: 50\n",
            "La tupla concatenada es:  1020304050\n"
          ],
          "name": "stdout"
        }
      ]
    },
    {
      "cell_type": "markdown",
      "metadata": {
        "id": "m3Uff9_SIwZJ"
      },
      "source": [
        "##### Ejercicio 2: Crear un programa que dada una lista de tuplas, elimine las tuplas que estén vacías"
      ]
    },
    {
      "cell_type": "code",
      "metadata": {
        "colab": {
          "base_uri": "https://localhost:8080/"
        },
        "id": "n1fx6DB8vtV3",
        "outputId": "fb639ace-47bf-4d46-d493-2ea11f6cc803"
      },
      "source": [
        "# Programa que elimina las tuplas vacías de una lista de tuplas, se basa en el ingreso de 6 valores y cada tupla contiene dos valores\r\n",
        "tup1 = ()\r\n",
        "tup2 = (\"a\", \"b\")\r\n",
        "tup3 = (\"1\", \"2\")\r\n",
        "\r\n",
        "def quitar(tuplas): \r\n",
        "    tuplas = [i for i in tuplas if i] \r\n",
        "    return tuplas\r\n",
        "tuplas = [tup1, tup2, tup3] \r\n",
        "print(quitar(tuplas)) \r\n"
      ],
      "execution_count": 90,
      "outputs": [
        {
          "output_type": "stream",
          "text": [
            "[('a', 'b'), ('1', '2')]\n"
          ],
          "name": "stdout"
        }
      ]
    },
    {
      "cell_type": "markdown",
      "metadata": {
        "id": "k510AweBJOj1"
      },
      "source": [
        "##### Ejercicio 3: Crear una función que dada una tupla con números, produzca una tupla con el promedio de cada tupla individual"
      ]
    },
    {
      "cell_type": "code",
      "metadata": {
        "colab": {
          "base_uri": "https://localhost:8080/"
        },
        "id": "CgLi99Qx56Wr",
        "outputId": "30dc7fcf-f675-4769-8f1b-6861dec9834f"
      },
      "source": [
        "# Programa que calcula los promedios sobre las tuplas\r\n",
        "valor1 = int(input(\"Ingrese un valor para la primera tupla: \"))\r\n",
        "valor2 = int(input(\"Ingrese un valor para la primera tupla: \"))\r\n",
        "valor3 = int(input(\"Ingrese un valor para la segunda tupla: \"))\r\n",
        "valor4 = int(input(\"Ingrese un valor para la segunda tupla: \"))\r\n",
        "valor5 = int(input(\"Ingrese un valor para la tercera tupla: \"))\r\n",
        "valor6 = int(input(\"Ingrese un valor para la tercera tupla: \"))\r\n",
        "\r\n",
        "tup1 = (valor1, valor2)\r\n",
        "tup2 = (valor3, valor4)\r\n",
        "tup3 = (valor5, valor6)\r\n",
        "\r\n",
        "def promedio(tuplas):\r\n",
        "  tuplas = (sum(tup1)/len(tup1), sum(tup2)/len(tup2), sum(tup3)/len(tup3))\r\n",
        "  return tuplas\r\n",
        "\r\n",
        "print(\"El promedio de cada tupla individual es: \", promedio(tuplas))"
      ],
      "execution_count": 95,
      "outputs": [
        {
          "output_type": "stream",
          "text": [
            "Ingrese un valor para la primera tupla: 16\n",
            "Ingrese un valor para la primera tupla: 8\n",
            "Ingrese un valor para la segunda tupla: 3\n",
            "Ingrese un valor para la segunda tupla: 5\n",
            "Ingrese un valor para la tercera tupla: 4\n",
            "Ingrese un valor para la tercera tupla: 2\n",
            "El promedio de cada tupla individual es:  (12.0, 4.0, 3.0)\n"
          ],
          "name": "stdout"
        }
      ]
    }
  ]
}