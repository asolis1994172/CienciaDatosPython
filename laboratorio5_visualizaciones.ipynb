{
 "metadata": {
  "language_info": {
   "codemirror_mode": {
    "name": "ipython",
    "version": 3
   },
   "file_extension": ".py",
   "mimetype": "text/x-python",
   "name": "python",
   "nbconvert_exporter": "python",
   "pygments_lexer": "ipython3",
   "version": "3.8.5-final"
  },
  "orig_nbformat": 2,
  "kernelspec": {
   "name": "python385jvsc74a57bd0b3ba2566441a7c06988d0923437866b63cedc61552a5af99d1f4fb67d367b25f",
   "display_name": "Python 3.8.5 64-bit (conda)"
  }
 },
 "nbformat": 4,
 "nbformat_minor": 2,
 "cells": [
  {
   "source": [
    "Postgrado en Análisis y Predicción de Datos  \n",
    "IIO - Universidad Galileo  \n",
    "Marzo, 2021  \n",
    " \n",
    "<H1><center> Laboratorio #5 - Visualizaciones</center></H1>"
   ],
   "cell_type": "markdown",
   "metadata": {}
  },
  {
   "source": [
    "## Instrucciones\n",
    "En este laboratorio debe poner en práctica sus conocimientos sobre visualizaciones y las librerías vistas en clase. Gracias al análisis de su laboratorio anterior, ha desarrolado una estrategia que desean implementar y ahora deben hacer una presentación para el CEO de la empresa. Para explicar los fundamentos de la estrategia le piden mostrar los mismos descubrimientos pero en una forma visual utilizando gráficos y así poderlos explicar más fácil. Puede utilizar cualquiera de las 3 librerias que vimos en clase para resolver este laboratorio. A lo largo de este Jupyter Notebook encontrará varias instrucciones indicando los pasos que debe realizar y los resultados esperados para completar su práctica. Debe trabajar en este mismo Notebook lo que se le solicita y luego cargar el archivo _laboratorio5_visualizaciones.ipynb_ al GES, no modifique el nombre del archivo."
   ],
   "cell_type": "markdown",
   "metadata": {}
  },
  {
   "cell_type": "code",
   "execution_count": 100,
   "metadata": {},
   "outputs": [],
   "source": [
    "import pandas as pd\n",
    "import os\n",
    "import matplotlib.pyplot as plt \n",
    "import seaborn as sns \n",
    "import plotly.express as px \n",
    "from datetime import date, datetime\n",
    "import datetime"
   ]
  },
  {
   "source": [
    "## Cargando los archivos y completando data faltante\n",
    "\n",
    "Cree un DataFrame llamado 'data' que contenga la información de todos los archivos dentro de la carpeta 'data'. Considere que al cargar cada uno de los archivos puede tener errores en la columna _username_ , cada archivo tiene un solo valor de _username_ entonces puede rellenar los errores con el valor correspondiente de cada archivo.\n",
    "La columna _upload_date_ indica la fecha en que el _post_ fué publicado. Convierta el campo *upload_data* a *date_time*.  Puede utilizar el método to_datetime() de pandas.\n",
    "Utilice esta columna para descartar los datos del 25 de diciembre 2020 en adelante.\n",
    "\n",
    "*Estos pasos ya los realizó en su laboratorio anterior, puede copiarlos*"
   ],
   "cell_type": "markdown",
   "metadata": {}
  },
  {
   "cell_type": "code",
   "execution_count": 101,
   "metadata": {},
   "outputs": [
    {
     "output_type": "execute_result",
     "data": {
      "text/plain": [
       "['buthewestie.txt',\n",
       " 'dechuchos.txt',\n",
       " 'guatemalapetfriendly.txt',\n",
       " 'potter_cm.txt',\n",
       " 'viajaconorus.txt']"
      ]
     },
     "metadata": {},
     "execution_count": 101
    }
   ],
   "source": [
    "#lea todos los archivos dentro de la carpeta data, luego cree un DataFrame consolidado llamado data\n",
    "files = [file for file in os.listdir(\"./data\")]\n",
    "data = pd.DataFrame()\n",
    "data1 = pd.DataFrame()\n",
    "files"
   ]
  },
  {
   "cell_type": "code",
   "execution_count": 102,
   "metadata": {},
   "outputs": [],
   "source": [
    "for file in files:\n",
    "    df = pd.read_csv(\"./data/\" + file, sep = \"|\")\n",
    "    data1 = pd.concat([data1, df])"
   ]
  },
  {
   "cell_type": "code",
   "execution_count": 150,
   "metadata": {},
   "outputs": [
    {
     "output_type": "execute_result",
     "data": {
      "text/plain": [
       "   Unnamed: 0                        csrf_token  viewer  viewer_id  \\\n",
       "0           0  D6iS7WnSFbhB9ZUFt5nWK51xdDegcZ6V     NaN        NaN   \n",
       "1           1  n9cW3xMiT311ZhtAfXYnEYO9dRBGkbhE     NaN        NaN   \n",
       "2           2  Y5WDcpqc8y0rsED1yI8YciJSgEqLJ9bT     NaN        NaN   \n",
       "3           3  5vFgXtmB2ihqowxoeLeVKvWA8UrpxAsa     NaN        NaN   \n",
       "4           4  F4ejlkqj0IhfwjCDxNAdffQCjBci05NN     NaN        NaN   \n",
       "\n",
       "  country_code language_code locale                             device_id  \\\n",
       "0           GT            en  en_US  D4425F91-940E-4EE7-8FAA-4E1AAA1A8B58   \n",
       "1           GT            en  en_US  D4EBBE02-4EF2-46E4-ACA7-4F8908A0C0AF   \n",
       "2           GT            en  en_US  251B69CB-92EE-4D3A-B536-72AD356D98D8   \n",
       "3           GT            en  en_US  A0334128-ADCC-4A0F-8FD9-F27024D2BC57   \n",
       "4           GT            en  en_US  4C162E02-7158-4F01-AE88-7A3FC33167EE   \n",
       "\n",
       "                                browser_push_pub_key  key_id  ...  \\\n",
       "0  BIBn3E_rWTci8Xn6P9Xj3btShT85Wdtne0LtwNUyRQ5XjF...      88  ...   \n",
       "1  BIBn3E_rWTci8Xn6P9Xj3btShT85Wdtne0LtwNUyRQ5XjF...      88  ...   \n",
       "2  BIBn3E_rWTci8Xn6P9Xj3btShT85Wdtne0LtwNUyRQ5XjF...      88  ...   \n",
       "3  BIBn3E_rWTci8Xn6P9Xj3btShT85Wdtne0LtwNUyRQ5XjF...      88  ...   \n",
       "4  BIBn3E_rWTci8Xn6P9Xj3btShT85Wdtne0LtwNUyRQ5XjF...      88  ...   \n",
       "\n",
       "  viewer_has_saved_to_collection  viewer_in_photo_of_you  viewer_can_reshare  \\\n",
       "0                          False                   False                True   \n",
       "1                          False                   False                True   \n",
       "2                          False                   False                True   \n",
       "3                          False                   False                True   \n",
       "4                          False                   False                True   \n",
       "\n",
       "  video_url has_audio video_view_count     username      full_name  \\\n",
       "0       NaN       NaN              NaN  buthewestie  Bu the Westie   \n",
       "1       NaN       NaN              NaN  buthewestie  Bu the Westie   \n",
       "2       NaN       NaN              NaN  buthewestie  Bu the Westie   \n",
       "3       NaN       NaN              NaN  buthewestie  Bu the Westie   \n",
       "4       NaN       NaN              NaN  buthewestie  Bu the Westie   \n",
       "\n",
       "          upload_date                                           hashtags  \n",
       "0 2020-12-21 09:22:24                                                 []  \n",
       "1 2020-12-20 09:32:18                                                 []  \n",
       "2 2020-12-16 09:28:28                                    ['dogapproved']  \n",
       "3 2020-12-13 14:57:03            ['OliyBu', 'ThiagoyBu', 'OliThiagoyBu']  \n",
       "4 2020-12-07 11:44:15  ['christmaspresent', 'bestchristmaspresent', '...  \n",
       "\n",
       "[5 rows x 52 columns]"
      ],
      "text/html": "<div>\n<style scoped>\n    .dataframe tbody tr th:only-of-type {\n        vertical-align: middle;\n    }\n\n    .dataframe tbody tr th {\n        vertical-align: top;\n    }\n\n    .dataframe thead th {\n        text-align: right;\n    }\n</style>\n<table border=\"1\" class=\"dataframe\">\n  <thead>\n    <tr style=\"text-align: right;\">\n      <th></th>\n      <th>Unnamed: 0</th>\n      <th>csrf_token</th>\n      <th>viewer</th>\n      <th>viewer_id</th>\n      <th>country_code</th>\n      <th>language_code</th>\n      <th>locale</th>\n      <th>device_id</th>\n      <th>browser_push_pub_key</th>\n      <th>key_id</th>\n      <th>...</th>\n      <th>viewer_has_saved_to_collection</th>\n      <th>viewer_in_photo_of_you</th>\n      <th>viewer_can_reshare</th>\n      <th>video_url</th>\n      <th>has_audio</th>\n      <th>video_view_count</th>\n      <th>username</th>\n      <th>full_name</th>\n      <th>upload_date</th>\n      <th>hashtags</th>\n    </tr>\n  </thead>\n  <tbody>\n    <tr>\n      <th>0</th>\n      <td>0</td>\n      <td>D6iS7WnSFbhB9ZUFt5nWK51xdDegcZ6V</td>\n      <td>NaN</td>\n      <td>NaN</td>\n      <td>GT</td>\n      <td>en</td>\n      <td>en_US</td>\n      <td>D4425F91-940E-4EE7-8FAA-4E1AAA1A8B58</td>\n      <td>BIBn3E_rWTci8Xn6P9Xj3btShT85Wdtne0LtwNUyRQ5XjF...</td>\n      <td>88</td>\n      <td>...</td>\n      <td>False</td>\n      <td>False</td>\n      <td>True</td>\n      <td>NaN</td>\n      <td>NaN</td>\n      <td>NaN</td>\n      <td>buthewestie</td>\n      <td>Bu the Westie</td>\n      <td>2020-12-21 09:22:24</td>\n      <td>[]</td>\n    </tr>\n    <tr>\n      <th>1</th>\n      <td>1</td>\n      <td>n9cW3xMiT311ZhtAfXYnEYO9dRBGkbhE</td>\n      <td>NaN</td>\n      <td>NaN</td>\n      <td>GT</td>\n      <td>en</td>\n      <td>en_US</td>\n      <td>D4EBBE02-4EF2-46E4-ACA7-4F8908A0C0AF</td>\n      <td>BIBn3E_rWTci8Xn6P9Xj3btShT85Wdtne0LtwNUyRQ5XjF...</td>\n      <td>88</td>\n      <td>...</td>\n      <td>False</td>\n      <td>False</td>\n      <td>True</td>\n      <td>NaN</td>\n      <td>NaN</td>\n      <td>NaN</td>\n      <td>buthewestie</td>\n      <td>Bu the Westie</td>\n      <td>2020-12-20 09:32:18</td>\n      <td>[]</td>\n    </tr>\n    <tr>\n      <th>2</th>\n      <td>2</td>\n      <td>Y5WDcpqc8y0rsED1yI8YciJSgEqLJ9bT</td>\n      <td>NaN</td>\n      <td>NaN</td>\n      <td>GT</td>\n      <td>en</td>\n      <td>en_US</td>\n      <td>251B69CB-92EE-4D3A-B536-72AD356D98D8</td>\n      <td>BIBn3E_rWTci8Xn6P9Xj3btShT85Wdtne0LtwNUyRQ5XjF...</td>\n      <td>88</td>\n      <td>...</td>\n      <td>False</td>\n      <td>False</td>\n      <td>True</td>\n      <td>NaN</td>\n      <td>NaN</td>\n      <td>NaN</td>\n      <td>buthewestie</td>\n      <td>Bu the Westie</td>\n      <td>2020-12-16 09:28:28</td>\n      <td>['dogapproved']</td>\n    </tr>\n    <tr>\n      <th>3</th>\n      <td>3</td>\n      <td>5vFgXtmB2ihqowxoeLeVKvWA8UrpxAsa</td>\n      <td>NaN</td>\n      <td>NaN</td>\n      <td>GT</td>\n      <td>en</td>\n      <td>en_US</td>\n      <td>A0334128-ADCC-4A0F-8FD9-F27024D2BC57</td>\n      <td>BIBn3E_rWTci8Xn6P9Xj3btShT85Wdtne0LtwNUyRQ5XjF...</td>\n      <td>88</td>\n      <td>...</td>\n      <td>False</td>\n      <td>False</td>\n      <td>True</td>\n      <td>NaN</td>\n      <td>NaN</td>\n      <td>NaN</td>\n      <td>buthewestie</td>\n      <td>Bu the Westie</td>\n      <td>2020-12-13 14:57:03</td>\n      <td>['OliyBu', 'ThiagoyBu', 'OliThiagoyBu']</td>\n    </tr>\n    <tr>\n      <th>4</th>\n      <td>4</td>\n      <td>F4ejlkqj0IhfwjCDxNAdffQCjBci05NN</td>\n      <td>NaN</td>\n      <td>NaN</td>\n      <td>GT</td>\n      <td>en</td>\n      <td>en_US</td>\n      <td>4C162E02-7158-4F01-AE88-7A3FC33167EE</td>\n      <td>BIBn3E_rWTci8Xn6P9Xj3btShT85Wdtne0LtwNUyRQ5XjF...</td>\n      <td>88</td>\n      <td>...</td>\n      <td>False</td>\n      <td>False</td>\n      <td>True</td>\n      <td>NaN</td>\n      <td>NaN</td>\n      <td>NaN</td>\n      <td>buthewestie</td>\n      <td>Bu the Westie</td>\n      <td>2020-12-07 11:44:15</td>\n      <td>['christmaspresent', 'bestchristmaspresent', '...</td>\n    </tr>\n  </tbody>\n</table>\n<p>5 rows × 52 columns</p>\n</div>"
     },
     "metadata": {},
     "execution_count": 150
    }
   ],
   "source": [
    "data = data1\n",
    "data.head()"
   ]
  },
  {
   "cell_type": "code",
   "execution_count": 104,
   "metadata": {},
   "outputs": [],
   "source": [
    "col = [\"username\"]\n",
    "data.loc[:,col] = data.loc[:, col].ffill()"
   ]
  },
  {
   "cell_type": "code",
   "execution_count": 105,
   "metadata": {},
   "outputs": [
    {
     "output_type": "execute_result",
     "data": {
      "text/plain": [
       "   Unnamed: 0                        csrf_token  viewer  viewer_id  \\\n",
       "0           0  D6iS7WnSFbhB9ZUFt5nWK51xdDegcZ6V     NaN        NaN   \n",
       "1           1  n9cW3xMiT311ZhtAfXYnEYO9dRBGkbhE     NaN        NaN   \n",
       "2           2  Y5WDcpqc8y0rsED1yI8YciJSgEqLJ9bT     NaN        NaN   \n",
       "3           3  5vFgXtmB2ihqowxoeLeVKvWA8UrpxAsa     NaN        NaN   \n",
       "4           4  F4ejlkqj0IhfwjCDxNAdffQCjBci05NN     NaN        NaN   \n",
       "\n",
       "  country_code language_code locale                             device_id  \\\n",
       "0           GT            en  en_US  D4425F91-940E-4EE7-8FAA-4E1AAA1A8B58   \n",
       "1           GT            en  en_US  D4EBBE02-4EF2-46E4-ACA7-4F8908A0C0AF   \n",
       "2           GT            en  en_US  251B69CB-92EE-4D3A-B536-72AD356D98D8   \n",
       "3           GT            en  en_US  A0334128-ADCC-4A0F-8FD9-F27024D2BC57   \n",
       "4           GT            en  en_US  4C162E02-7158-4F01-AE88-7A3FC33167EE   \n",
       "\n",
       "                                browser_push_pub_key  key_id  ...  \\\n",
       "0  BIBn3E_rWTci8Xn6P9Xj3btShT85Wdtne0LtwNUyRQ5XjF...      88  ...   \n",
       "1  BIBn3E_rWTci8Xn6P9Xj3btShT85Wdtne0LtwNUyRQ5XjF...      88  ...   \n",
       "2  BIBn3E_rWTci8Xn6P9Xj3btShT85Wdtne0LtwNUyRQ5XjF...      88  ...   \n",
       "3  BIBn3E_rWTci8Xn6P9Xj3btShT85Wdtne0LtwNUyRQ5XjF...      88  ...   \n",
       "4  BIBn3E_rWTci8Xn6P9Xj3btShT85Wdtne0LtwNUyRQ5XjF...      88  ...   \n",
       "\n",
       "  viewer_has_saved_to_collection  viewer_in_photo_of_you  viewer_can_reshare  \\\n",
       "0                          False                   False                True   \n",
       "1                          False                   False                True   \n",
       "2                          False                   False                True   \n",
       "3                          False                   False                True   \n",
       "4                          False                   False                True   \n",
       "\n",
       "  video_url has_audio video_view_count     username      full_name  \\\n",
       "0       NaN       NaN              NaN  buthewestie  Bu the Westie   \n",
       "1       NaN       NaN              NaN  buthewestie  Bu the Westie   \n",
       "2       NaN       NaN              NaN  buthewestie  Bu the Westie   \n",
       "3       NaN       NaN              NaN  buthewestie  Bu the Westie   \n",
       "4       NaN       NaN              NaN  buthewestie  Bu the Westie   \n",
       "\n",
       "          upload_date                                           hashtags  \n",
       "0 2020-12-21 09:22:24                                                 []  \n",
       "1 2020-12-20 09:32:18                                                 []  \n",
       "2 2020-12-16 09:28:28                                    ['dogapproved']  \n",
       "3 2020-12-13 14:57:03            ['OliyBu', 'ThiagoyBu', 'OliThiagoyBu']  \n",
       "4 2020-12-07 11:44:15  ['christmaspresent', 'bestchristmaspresent', '...  \n",
       "\n",
       "[5 rows x 52 columns]"
      ],
      "text/html": "<div>\n<style scoped>\n    .dataframe tbody tr th:only-of-type {\n        vertical-align: middle;\n    }\n\n    .dataframe tbody tr th {\n        vertical-align: top;\n    }\n\n    .dataframe thead th {\n        text-align: right;\n    }\n</style>\n<table border=\"1\" class=\"dataframe\">\n  <thead>\n    <tr style=\"text-align: right;\">\n      <th></th>\n      <th>Unnamed: 0</th>\n      <th>csrf_token</th>\n      <th>viewer</th>\n      <th>viewer_id</th>\n      <th>country_code</th>\n      <th>language_code</th>\n      <th>locale</th>\n      <th>device_id</th>\n      <th>browser_push_pub_key</th>\n      <th>key_id</th>\n      <th>...</th>\n      <th>viewer_has_saved_to_collection</th>\n      <th>viewer_in_photo_of_you</th>\n      <th>viewer_can_reshare</th>\n      <th>video_url</th>\n      <th>has_audio</th>\n      <th>video_view_count</th>\n      <th>username</th>\n      <th>full_name</th>\n      <th>upload_date</th>\n      <th>hashtags</th>\n    </tr>\n  </thead>\n  <tbody>\n    <tr>\n      <th>0</th>\n      <td>0</td>\n      <td>D6iS7WnSFbhB9ZUFt5nWK51xdDegcZ6V</td>\n      <td>NaN</td>\n      <td>NaN</td>\n      <td>GT</td>\n      <td>en</td>\n      <td>en_US</td>\n      <td>D4425F91-940E-4EE7-8FAA-4E1AAA1A8B58</td>\n      <td>BIBn3E_rWTci8Xn6P9Xj3btShT85Wdtne0LtwNUyRQ5XjF...</td>\n      <td>88</td>\n      <td>...</td>\n      <td>False</td>\n      <td>False</td>\n      <td>True</td>\n      <td>NaN</td>\n      <td>NaN</td>\n      <td>NaN</td>\n      <td>buthewestie</td>\n      <td>Bu the Westie</td>\n      <td>2020-12-21 09:22:24</td>\n      <td>[]</td>\n    </tr>\n    <tr>\n      <th>1</th>\n      <td>1</td>\n      <td>n9cW3xMiT311ZhtAfXYnEYO9dRBGkbhE</td>\n      <td>NaN</td>\n      <td>NaN</td>\n      <td>GT</td>\n      <td>en</td>\n      <td>en_US</td>\n      <td>D4EBBE02-4EF2-46E4-ACA7-4F8908A0C0AF</td>\n      <td>BIBn3E_rWTci8Xn6P9Xj3btShT85Wdtne0LtwNUyRQ5XjF...</td>\n      <td>88</td>\n      <td>...</td>\n      <td>False</td>\n      <td>False</td>\n      <td>True</td>\n      <td>NaN</td>\n      <td>NaN</td>\n      <td>NaN</td>\n      <td>buthewestie</td>\n      <td>Bu the Westie</td>\n      <td>2020-12-20 09:32:18</td>\n      <td>[]</td>\n    </tr>\n    <tr>\n      <th>2</th>\n      <td>2</td>\n      <td>Y5WDcpqc8y0rsED1yI8YciJSgEqLJ9bT</td>\n      <td>NaN</td>\n      <td>NaN</td>\n      <td>GT</td>\n      <td>en</td>\n      <td>en_US</td>\n      <td>251B69CB-92EE-4D3A-B536-72AD356D98D8</td>\n      <td>BIBn3E_rWTci8Xn6P9Xj3btShT85Wdtne0LtwNUyRQ5XjF...</td>\n      <td>88</td>\n      <td>...</td>\n      <td>False</td>\n      <td>False</td>\n      <td>True</td>\n      <td>NaN</td>\n      <td>NaN</td>\n      <td>NaN</td>\n      <td>buthewestie</td>\n      <td>Bu the Westie</td>\n      <td>2020-12-16 09:28:28</td>\n      <td>['dogapproved']</td>\n    </tr>\n    <tr>\n      <th>3</th>\n      <td>3</td>\n      <td>5vFgXtmB2ihqowxoeLeVKvWA8UrpxAsa</td>\n      <td>NaN</td>\n      <td>NaN</td>\n      <td>GT</td>\n      <td>en</td>\n      <td>en_US</td>\n      <td>A0334128-ADCC-4A0F-8FD9-F27024D2BC57</td>\n      <td>BIBn3E_rWTci8Xn6P9Xj3btShT85Wdtne0LtwNUyRQ5XjF...</td>\n      <td>88</td>\n      <td>...</td>\n      <td>False</td>\n      <td>False</td>\n      <td>True</td>\n      <td>NaN</td>\n      <td>NaN</td>\n      <td>NaN</td>\n      <td>buthewestie</td>\n      <td>Bu the Westie</td>\n      <td>2020-12-13 14:57:03</td>\n      <td>['OliyBu', 'ThiagoyBu', 'OliThiagoyBu']</td>\n    </tr>\n    <tr>\n      <th>4</th>\n      <td>4</td>\n      <td>F4ejlkqj0IhfwjCDxNAdffQCjBci05NN</td>\n      <td>NaN</td>\n      <td>NaN</td>\n      <td>GT</td>\n      <td>en</td>\n      <td>en_US</td>\n      <td>4C162E02-7158-4F01-AE88-7A3FC33167EE</td>\n      <td>BIBn3E_rWTci8Xn6P9Xj3btShT85Wdtne0LtwNUyRQ5XjF...</td>\n      <td>88</td>\n      <td>...</td>\n      <td>False</td>\n      <td>False</td>\n      <td>True</td>\n      <td>NaN</td>\n      <td>NaN</td>\n      <td>NaN</td>\n      <td>buthewestie</td>\n      <td>Bu the Westie</td>\n      <td>2020-12-07 11:44:15</td>\n      <td>['christmaspresent', 'bestchristmaspresent', '...</td>\n    </tr>\n  </tbody>\n</table>\n<p>5 rows × 52 columns</p>\n</div>"
     },
     "metadata": {},
     "execution_count": 105
    }
   ],
   "source": [
    "data['upload_date'] = pd.to_datetime(data['upload_date'])\n",
    "data = data[ data[\"upload_date\"] < '2020-12-25']\n",
    "data.head()"
   ]
  },
  {
   "source": [
    "## Cuál es la cuenta con mas publicaciones?\n",
    "El campo _id_ es un identificador único para cada _post_ . Utilizando groupby() cree una tabla mostrando la cantidad de _posts_ para cada _username_.  Muestre una gráfica de barras donde el eje x sea el nombre de la cuenta y el eje y (altura) sea la cantidad de publicaciones."
   ],
   "cell_type": "markdown",
   "metadata": {}
  },
  {
   "cell_type": "code",
   "execution_count": 106,
   "metadata": {},
   "outputs": [],
   "source": [
    "publi_mas = data.groupby([\"username\"])[\"id\"].count()"
   ]
  },
  {
   "cell_type": "code",
   "execution_count": 107,
   "metadata": {},
   "outputs": [
    {
     "output_type": "display_data",
     "data": {
      "application/vnd.plotly.v1+json": {
       "config": {
        "plotlyServerURL": "https://plot.ly"
       },
       "data": [
        {
         "alignmentgroup": "True",
         "hovertemplate": "x=%{x}<br>y=%{y}<br>text=%{text}<extra></extra>",
         "legendgroup": "",
         "marker": {
          "color": "#636efa"
         },
         "name": "",
         "offsetgroup": "",
         "orientation": "v",
         "showlegend": false,
         "text": [
          611,
          360,
          591,
          240,
          286
         ],
         "textposition": "auto",
         "type": "bar",
         "x": [
          "buthewestie",
          "guatemalapetfriendly",
          "kimpugdashian",
          "potter_cm",
          "viajaconorus"
         ],
         "xaxis": "x",
         "y": [
          611,
          360,
          591,
          240,
          286
         ],
         "yaxis": "y"
        }
       ],
       "layout": {
        "barmode": "relative",
        "legend": {
         "tracegroupgap": 0
        },
        "template": {
         "data": {
          "bar": [
           {
            "error_x": {
             "color": "#2a3f5f"
            },
            "error_y": {
             "color": "#2a3f5f"
            },
            "marker": {
             "line": {
              "color": "#E5ECF6",
              "width": 0.5
             }
            },
            "type": "bar"
           }
          ],
          "barpolar": [
           {
            "marker": {
             "line": {
              "color": "#E5ECF6",
              "width": 0.5
             }
            },
            "type": "barpolar"
           }
          ],
          "carpet": [
           {
            "aaxis": {
             "endlinecolor": "#2a3f5f",
             "gridcolor": "white",
             "linecolor": "white",
             "minorgridcolor": "white",
             "startlinecolor": "#2a3f5f"
            },
            "baxis": {
             "endlinecolor": "#2a3f5f",
             "gridcolor": "white",
             "linecolor": "white",
             "minorgridcolor": "white",
             "startlinecolor": "#2a3f5f"
            },
            "type": "carpet"
           }
          ],
          "choropleth": [
           {
            "colorbar": {
             "outlinewidth": 0,
             "ticks": ""
            },
            "type": "choropleth"
           }
          ],
          "contour": [
           {
            "colorbar": {
             "outlinewidth": 0,
             "ticks": ""
            },
            "colorscale": [
             [
              0,
              "#0d0887"
             ],
             [
              0.1111111111111111,
              "#46039f"
             ],
             [
              0.2222222222222222,
              "#7201a8"
             ],
             [
              0.3333333333333333,
              "#9c179e"
             ],
             [
              0.4444444444444444,
              "#bd3786"
             ],
             [
              0.5555555555555556,
              "#d8576b"
             ],
             [
              0.6666666666666666,
              "#ed7953"
             ],
             [
              0.7777777777777778,
              "#fb9f3a"
             ],
             [
              0.8888888888888888,
              "#fdca26"
             ],
             [
              1,
              "#f0f921"
             ]
            ],
            "type": "contour"
           }
          ],
          "contourcarpet": [
           {
            "colorbar": {
             "outlinewidth": 0,
             "ticks": ""
            },
            "type": "contourcarpet"
           }
          ],
          "heatmap": [
           {
            "colorbar": {
             "outlinewidth": 0,
             "ticks": ""
            },
            "colorscale": [
             [
              0,
              "#0d0887"
             ],
             [
              0.1111111111111111,
              "#46039f"
             ],
             [
              0.2222222222222222,
              "#7201a8"
             ],
             [
              0.3333333333333333,
              "#9c179e"
             ],
             [
              0.4444444444444444,
              "#bd3786"
             ],
             [
              0.5555555555555556,
              "#d8576b"
             ],
             [
              0.6666666666666666,
              "#ed7953"
             ],
             [
              0.7777777777777778,
              "#fb9f3a"
             ],
             [
              0.8888888888888888,
              "#fdca26"
             ],
             [
              1,
              "#f0f921"
             ]
            ],
            "type": "heatmap"
           }
          ],
          "heatmapgl": [
           {
            "colorbar": {
             "outlinewidth": 0,
             "ticks": ""
            },
            "colorscale": [
             [
              0,
              "#0d0887"
             ],
             [
              0.1111111111111111,
              "#46039f"
             ],
             [
              0.2222222222222222,
              "#7201a8"
             ],
             [
              0.3333333333333333,
              "#9c179e"
             ],
             [
              0.4444444444444444,
              "#bd3786"
             ],
             [
              0.5555555555555556,
              "#d8576b"
             ],
             [
              0.6666666666666666,
              "#ed7953"
             ],
             [
              0.7777777777777778,
              "#fb9f3a"
             ],
             [
              0.8888888888888888,
              "#fdca26"
             ],
             [
              1,
              "#f0f921"
             ]
            ],
            "type": "heatmapgl"
           }
          ],
          "histogram": [
           {
            "marker": {
             "colorbar": {
              "outlinewidth": 0,
              "ticks": ""
             }
            },
            "type": "histogram"
           }
          ],
          "histogram2d": [
           {
            "colorbar": {
             "outlinewidth": 0,
             "ticks": ""
            },
            "colorscale": [
             [
              0,
              "#0d0887"
             ],
             [
              0.1111111111111111,
              "#46039f"
             ],
             [
              0.2222222222222222,
              "#7201a8"
             ],
             [
              0.3333333333333333,
              "#9c179e"
             ],
             [
              0.4444444444444444,
              "#bd3786"
             ],
             [
              0.5555555555555556,
              "#d8576b"
             ],
             [
              0.6666666666666666,
              "#ed7953"
             ],
             [
              0.7777777777777778,
              "#fb9f3a"
             ],
             [
              0.8888888888888888,
              "#fdca26"
             ],
             [
              1,
              "#f0f921"
             ]
            ],
            "type": "histogram2d"
           }
          ],
          "histogram2dcontour": [
           {
            "colorbar": {
             "outlinewidth": 0,
             "ticks": ""
            },
            "colorscale": [
             [
              0,
              "#0d0887"
             ],
             [
              0.1111111111111111,
              "#46039f"
             ],
             [
              0.2222222222222222,
              "#7201a8"
             ],
             [
              0.3333333333333333,
              "#9c179e"
             ],
             [
              0.4444444444444444,
              "#bd3786"
             ],
             [
              0.5555555555555556,
              "#d8576b"
             ],
             [
              0.6666666666666666,
              "#ed7953"
             ],
             [
              0.7777777777777778,
              "#fb9f3a"
             ],
             [
              0.8888888888888888,
              "#fdca26"
             ],
             [
              1,
              "#f0f921"
             ]
            ],
            "type": "histogram2dcontour"
           }
          ],
          "mesh3d": [
           {
            "colorbar": {
             "outlinewidth": 0,
             "ticks": ""
            },
            "type": "mesh3d"
           }
          ],
          "parcoords": [
           {
            "line": {
             "colorbar": {
              "outlinewidth": 0,
              "ticks": ""
             }
            },
            "type": "parcoords"
           }
          ],
          "pie": [
           {
            "automargin": true,
            "type": "pie"
           }
          ],
          "scatter": [
           {
            "marker": {
             "colorbar": {
              "outlinewidth": 0,
              "ticks": ""
             }
            },
            "type": "scatter"
           }
          ],
          "scatter3d": [
           {
            "line": {
             "colorbar": {
              "outlinewidth": 0,
              "ticks": ""
             }
            },
            "marker": {
             "colorbar": {
              "outlinewidth": 0,
              "ticks": ""
             }
            },
            "type": "scatter3d"
           }
          ],
          "scattercarpet": [
           {
            "marker": {
             "colorbar": {
              "outlinewidth": 0,
              "ticks": ""
             }
            },
            "type": "scattercarpet"
           }
          ],
          "scattergeo": [
           {
            "marker": {
             "colorbar": {
              "outlinewidth": 0,
              "ticks": ""
             }
            },
            "type": "scattergeo"
           }
          ],
          "scattergl": [
           {
            "marker": {
             "colorbar": {
              "outlinewidth": 0,
              "ticks": ""
             }
            },
            "type": "scattergl"
           }
          ],
          "scattermapbox": [
           {
            "marker": {
             "colorbar": {
              "outlinewidth": 0,
              "ticks": ""
             }
            },
            "type": "scattermapbox"
           }
          ],
          "scatterpolar": [
           {
            "marker": {
             "colorbar": {
              "outlinewidth": 0,
              "ticks": ""
             }
            },
            "type": "scatterpolar"
           }
          ],
          "scatterpolargl": [
           {
            "marker": {
             "colorbar": {
              "outlinewidth": 0,
              "ticks": ""
             }
            },
            "type": "scatterpolargl"
           }
          ],
          "scatterternary": [
           {
            "marker": {
             "colorbar": {
              "outlinewidth": 0,
              "ticks": ""
             }
            },
            "type": "scatterternary"
           }
          ],
          "surface": [
           {
            "colorbar": {
             "outlinewidth": 0,
             "ticks": ""
            },
            "colorscale": [
             [
              0,
              "#0d0887"
             ],
             [
              0.1111111111111111,
              "#46039f"
             ],
             [
              0.2222222222222222,
              "#7201a8"
             ],
             [
              0.3333333333333333,
              "#9c179e"
             ],
             [
              0.4444444444444444,
              "#bd3786"
             ],
             [
              0.5555555555555556,
              "#d8576b"
             ],
             [
              0.6666666666666666,
              "#ed7953"
             ],
             [
              0.7777777777777778,
              "#fb9f3a"
             ],
             [
              0.8888888888888888,
              "#fdca26"
             ],
             [
              1,
              "#f0f921"
             ]
            ],
            "type": "surface"
           }
          ],
          "table": [
           {
            "cells": {
             "fill": {
              "color": "#EBF0F8"
             },
             "line": {
              "color": "white"
             }
            },
            "header": {
             "fill": {
              "color": "#C8D4E3"
             },
             "line": {
              "color": "white"
             }
            },
            "type": "table"
           }
          ]
         },
         "layout": {
          "annotationdefaults": {
           "arrowcolor": "#2a3f5f",
           "arrowhead": 0,
           "arrowwidth": 1
          },
          "autotypenumbers": "strict",
          "coloraxis": {
           "colorbar": {
            "outlinewidth": 0,
            "ticks": ""
           }
          },
          "colorscale": {
           "diverging": [
            [
             0,
             "#8e0152"
            ],
            [
             0.1,
             "#c51b7d"
            ],
            [
             0.2,
             "#de77ae"
            ],
            [
             0.3,
             "#f1b6da"
            ],
            [
             0.4,
             "#fde0ef"
            ],
            [
             0.5,
             "#f7f7f7"
            ],
            [
             0.6,
             "#e6f5d0"
            ],
            [
             0.7,
             "#b8e186"
            ],
            [
             0.8,
             "#7fbc41"
            ],
            [
             0.9,
             "#4d9221"
            ],
            [
             1,
             "#276419"
            ]
           ],
           "sequential": [
            [
             0,
             "#0d0887"
            ],
            [
             0.1111111111111111,
             "#46039f"
            ],
            [
             0.2222222222222222,
             "#7201a8"
            ],
            [
             0.3333333333333333,
             "#9c179e"
            ],
            [
             0.4444444444444444,
             "#bd3786"
            ],
            [
             0.5555555555555556,
             "#d8576b"
            ],
            [
             0.6666666666666666,
             "#ed7953"
            ],
            [
             0.7777777777777778,
             "#fb9f3a"
            ],
            [
             0.8888888888888888,
             "#fdca26"
            ],
            [
             1,
             "#f0f921"
            ]
           ],
           "sequentialminus": [
            [
             0,
             "#0d0887"
            ],
            [
             0.1111111111111111,
             "#46039f"
            ],
            [
             0.2222222222222222,
             "#7201a8"
            ],
            [
             0.3333333333333333,
             "#9c179e"
            ],
            [
             0.4444444444444444,
             "#bd3786"
            ],
            [
             0.5555555555555556,
             "#d8576b"
            ],
            [
             0.6666666666666666,
             "#ed7953"
            ],
            [
             0.7777777777777778,
             "#fb9f3a"
            ],
            [
             0.8888888888888888,
             "#fdca26"
            ],
            [
             1,
             "#f0f921"
            ]
           ]
          },
          "colorway": [
           "#636efa",
           "#EF553B",
           "#00cc96",
           "#ab63fa",
           "#FFA15A",
           "#19d3f3",
           "#FF6692",
           "#B6E880",
           "#FF97FF",
           "#FECB52"
          ],
          "font": {
           "color": "#2a3f5f"
          },
          "geo": {
           "bgcolor": "white",
           "lakecolor": "white",
           "landcolor": "#E5ECF6",
           "showlakes": true,
           "showland": true,
           "subunitcolor": "white"
          },
          "hoverlabel": {
           "align": "left"
          },
          "hovermode": "closest",
          "mapbox": {
           "style": "light"
          },
          "paper_bgcolor": "white",
          "plot_bgcolor": "#E5ECF6",
          "polar": {
           "angularaxis": {
            "gridcolor": "white",
            "linecolor": "white",
            "ticks": ""
           },
           "bgcolor": "#E5ECF6",
           "radialaxis": {
            "gridcolor": "white",
            "linecolor": "white",
            "ticks": ""
           }
          },
          "scene": {
           "xaxis": {
            "backgroundcolor": "#E5ECF6",
            "gridcolor": "white",
            "gridwidth": 2,
            "linecolor": "white",
            "showbackground": true,
            "ticks": "",
            "zerolinecolor": "white"
           },
           "yaxis": {
            "backgroundcolor": "#E5ECF6",
            "gridcolor": "white",
            "gridwidth": 2,
            "linecolor": "white",
            "showbackground": true,
            "ticks": "",
            "zerolinecolor": "white"
           },
           "zaxis": {
            "backgroundcolor": "#E5ECF6",
            "gridcolor": "white",
            "gridwidth": 2,
            "linecolor": "white",
            "showbackground": true,
            "ticks": "",
            "zerolinecolor": "white"
           }
          },
          "shapedefaults": {
           "line": {
            "color": "#2a3f5f"
           }
          },
          "ternary": {
           "aaxis": {
            "gridcolor": "white",
            "linecolor": "white",
            "ticks": ""
           },
           "baxis": {
            "gridcolor": "white",
            "linecolor": "white",
            "ticks": ""
           },
           "bgcolor": "#E5ECF6",
           "caxis": {
            "gridcolor": "white",
            "linecolor": "white",
            "ticks": ""
           }
          },
          "title": {
           "x": 0.05
          },
          "xaxis": {
           "automargin": true,
           "gridcolor": "white",
           "linecolor": "white",
           "ticks": "",
           "title": {
            "standoff": 15
           },
           "zerolinecolor": "white",
           "zerolinewidth": 2
          },
          "yaxis": {
           "automargin": true,
           "gridcolor": "white",
           "linecolor": "white",
           "ticks": "",
           "title": {
            "standoff": 15
           },
           "zerolinecolor": "white",
           "zerolinewidth": 2
          }
         }
        },
        "title": {
         "text": "Publicaciones por cuenta"
        },
        "xaxis": {
         "anchor": "y",
         "domain": [
          0,
          1
         ],
         "title": {
          "text": "x"
         }
        },
        "yaxis": {
         "anchor": "x",
         "domain": [
          0,
          1
         ],
         "title": {
          "text": "y"
         }
        }
       }
      }
     },
     "metadata": {}
    }
   ],
   "source": [
    "px.bar(x=publi_mas.index, y=publi_mas, text= publi_mas, title=\"Publicaciones por cuenta\")"
   ]
  },
  {
   "source": [
    "## Tendencia de publicaciones para la cuenta con el mayor  número de publicaciones\n",
    "\n",
    "La cuenta _buthewestie_ es la cuenta con la mayor cantidad de publicaciones. Utilice un gráfico de líneas para mostrar la tendencia de la cantidad de publicaciones por *día*. La gráfica debe tener la fecha de publicación en el eje x y la cantidad de publicaciones en el eje y. Recuerde quitar la parte de hora a la fecha."
   ],
   "cell_type": "markdown",
   "metadata": {}
  },
  {
   "cell_type": "code",
   "execution_count": 108,
   "metadata": {},
   "outputs": [
    {
     "output_type": "stream",
     "name": "stderr",
     "text": [
      "<ipython-input-108-f605467b0a52>:2: SettingWithCopyWarning:\n\n\nA value is trying to be set on a copy of a slice from a DataFrame.\nTry using .loc[row_indexer,col_indexer] = value instead\n\nSee the caveats in the documentation: https://pandas.pydata.org/pandas-docs/stable/user_guide/indexing.html#returning-a-view-versus-a-copy\n\n"
     ]
    }
   ],
   "source": [
    "buthewestie_df = data[(data.username==\"buthewestie\")]\n",
    "buthewestie_df[\"upload_date\"] = buthewestie_df[\"upload_date\"].dt.date\n",
    "buthewestie_date = buthewestie_df.groupby([\"upload_date\"])[\"id\"].count()"
   ]
  },
  {
   "cell_type": "code",
   "execution_count": 109,
   "metadata": {},
   "outputs": [
    {
     "output_type": "display_data",
     "data": {
      "application/vnd.plotly.v1+json": {
       "config": {
        "plotlyServerURL": "https://plot.ly"
       },
       "data": [
        {
         "alignmentgroup": "True",
         "hovertemplate": "x=%{x}<br>y=%{y}<br>text=%{text}<extra></extra>",
         "legendgroup": "",
         "marker": {
          "color": "#636efa"
         },
         "name": "",
         "offsetgroup": "",
         "orientation": "v",
         "showlegend": false,
         "text": [
          1,
          1,
          1,
          2,
          1,
          1,
          1,
          1,
          1,
          1,
          1,
          2,
          1,
          1,
          1,
          1,
          1,
          2,
          1,
          2,
          2,
          2,
          2,
          1,
          1,
          2,
          1,
          1,
          1,
          1,
          1,
          1,
          1,
          1,
          1,
          1,
          1,
          1,
          1,
          1,
          1,
          1,
          1,
          2,
          1,
          1,
          1,
          1,
          1,
          1,
          1,
          1,
          1,
          1,
          1,
          1,
          1,
          2,
          1,
          1,
          1,
          2,
          2,
          1,
          2,
          2,
          2,
          2,
          1,
          1,
          1,
          2,
          2,
          1,
          1,
          1,
          1,
          1,
          1,
          1,
          1,
          1,
          1,
          1,
          1,
          1,
          1,
          1,
          1,
          1,
          1,
          1,
          1,
          1,
          1,
          1,
          1,
          1,
          1,
          1,
          1,
          1,
          1,
          1,
          1,
          1,
          2,
          1,
          1,
          1,
          1,
          1,
          1,
          1,
          1,
          1,
          1,
          1,
          1,
          1,
          1,
          1,
          1,
          1,
          1,
          1,
          1,
          1,
          1,
          1,
          1,
          1,
          1,
          1,
          1,
          1,
          1,
          1,
          1,
          1,
          1,
          1,
          1,
          1,
          1,
          1,
          1,
          2,
          1,
          1,
          1,
          1,
          1,
          1,
          1,
          1,
          1,
          1,
          1,
          1,
          1,
          1,
          1,
          1,
          1,
          1,
          1,
          1,
          1,
          1,
          1,
          1,
          1,
          2,
          1,
          1,
          1,
          1,
          1,
          1,
          1,
          1,
          1,
          1,
          1,
          1,
          1,
          1,
          1,
          1,
          1,
          1,
          1,
          1,
          1,
          1,
          1,
          1,
          1,
          2,
          1,
          1,
          1,
          1,
          1,
          2,
          1,
          1,
          1,
          1,
          1,
          1,
          2,
          1,
          2,
          1,
          1,
          1,
          1,
          1,
          1,
          1,
          1,
          1,
          1,
          1,
          1,
          1,
          1,
          1,
          2,
          1,
          1,
          1,
          1,
          1,
          1,
          1,
          1,
          1,
          1,
          1,
          1,
          1,
          1,
          2,
          1,
          1,
          1,
          1,
          1,
          1,
          1,
          1,
          2,
          1,
          1,
          1,
          1,
          1,
          1,
          1,
          1,
          1,
          2,
          1,
          1,
          1,
          1,
          1,
          1,
          1,
          1,
          1,
          1,
          1,
          1,
          1,
          1,
          1,
          1,
          1,
          1,
          1,
          1,
          1,
          1,
          1,
          1,
          1,
          1,
          1,
          1,
          1,
          1,
          1,
          1,
          1,
          1,
          1,
          1,
          1,
          1,
          1,
          1,
          1,
          1,
          1,
          1,
          1,
          1,
          1,
          1,
          1,
          2,
          1,
          1,
          1,
          1,
          1,
          1,
          1,
          1,
          1,
          1,
          1,
          1,
          1,
          1,
          1,
          1,
          1,
          1,
          1,
          1,
          1,
          1,
          1,
          1,
          2,
          1,
          1,
          1,
          1,
          1,
          1,
          1,
          1,
          1,
          1,
          1,
          1,
          1,
          1,
          1,
          1,
          1,
          1,
          1,
          1,
          1,
          1,
          1,
          1,
          1,
          1,
          1,
          1,
          1,
          1,
          1,
          1,
          1,
          1,
          1,
          1,
          1,
          1,
          1,
          1,
          1,
          1,
          1,
          1,
          1,
          1,
          1,
          1,
          1,
          1,
          1,
          1,
          1,
          1,
          1,
          1,
          1,
          1,
          1,
          1,
          1,
          1,
          1,
          1,
          1,
          1,
          1,
          1,
          1,
          1,
          1,
          1,
          1,
          1,
          1,
          1,
          1,
          1,
          1,
          1,
          1,
          1,
          1,
          1,
          1,
          1,
          1,
          1,
          1,
          1,
          1,
          1,
          1,
          1,
          1,
          1,
          1,
          1,
          1,
          1,
          1,
          1,
          1,
          1,
          1,
          1,
          1,
          1,
          1,
          1,
          1,
          1,
          1,
          1,
          1,
          1,
          1,
          1,
          1,
          1,
          1,
          1,
          1,
          1,
          1,
          1,
          1,
          1,
          1,
          1,
          1,
          1,
          1,
          1,
          1,
          1,
          1,
          1,
          1,
          1,
          1,
          1,
          1,
          1,
          1,
          1,
          1,
          1,
          1,
          1,
          1,
          1,
          1,
          1,
          1,
          1,
          1,
          1,
          1,
          1,
          1,
          1,
          1,
          1,
          1,
          1,
          1,
          1,
          1,
          1,
          1,
          1,
          1,
          1,
          1,
          1,
          1,
          1,
          1,
          1,
          1,
          1,
          1,
          1,
          1,
          1,
          1,
          1,
          1,
          1,
          1,
          1,
          1,
          1,
          1,
          1,
          1,
          1,
          1,
          1,
          1,
          1,
          1,
          1,
          1,
          1,
          1,
          1,
          1,
          1,
          1,
          1,
          1,
          1,
          1,
          1,
          1,
          1,
          1,
          1,
          1,
          1,
          1,
          1,
          1,
          1,
          1,
          1,
          1,
          1,
          1,
          1,
          1,
          1,
          1,
          1,
          1,
          1,
          1,
          1
         ],
         "textposition": "auto",
         "type": "bar",
         "x": [
          "2015-11-03",
          "2015-11-04",
          "2015-11-05",
          "2015-11-07",
          "2015-11-08",
          "2015-11-10",
          "2015-11-12",
          "2015-11-15",
          "2015-11-16",
          "2015-11-17",
          "2015-11-18",
          "2015-11-19",
          "2015-11-20",
          "2015-11-22",
          "2015-11-24",
          "2015-11-25",
          "2015-11-29",
          "2015-12-03",
          "2015-12-14",
          "2015-12-15",
          "2015-12-16",
          "2015-12-17",
          "2015-12-18",
          "2015-12-22",
          "2015-12-23",
          "2015-12-25",
          "2015-12-27",
          "2015-12-29",
          "2015-12-30",
          "2015-12-31",
          "2016-01-01",
          "2016-01-02",
          "2016-01-03",
          "2016-01-04",
          "2016-01-06",
          "2016-01-07",
          "2016-01-08",
          "2016-01-09",
          "2016-01-10",
          "2016-01-11",
          "2016-01-13",
          "2016-01-14",
          "2016-01-15",
          "2016-01-17",
          "2016-01-19",
          "2016-01-20",
          "2016-01-21",
          "2016-01-23",
          "2016-01-25",
          "2016-01-28",
          "2016-01-29",
          "2016-02-01",
          "2016-02-05",
          "2016-02-09",
          "2016-02-10",
          "2016-02-11",
          "2016-02-13",
          "2016-02-14",
          "2016-02-15",
          "2016-02-16",
          "2016-02-17",
          "2016-02-18",
          "2016-02-19",
          "2016-02-21",
          "2016-02-22",
          "2016-02-23",
          "2016-02-24",
          "2016-02-25",
          "2016-02-26",
          "2016-02-27",
          "2016-02-28",
          "2016-02-29",
          "2016-03-01",
          "2016-03-02",
          "2016-03-03",
          "2016-03-05",
          "2016-03-06",
          "2016-03-08",
          "2016-03-09",
          "2016-03-10",
          "2016-03-11",
          "2016-03-12",
          "2016-03-15",
          "2016-03-17",
          "2016-03-18",
          "2016-03-21",
          "2016-03-23",
          "2016-03-25",
          "2016-03-26",
          "2016-03-27",
          "2016-03-29",
          "2016-03-30",
          "2016-03-31",
          "2016-04-01",
          "2016-04-03",
          "2016-04-04",
          "2016-04-05",
          "2016-04-06",
          "2016-04-07",
          "2016-04-10",
          "2016-04-16",
          "2016-04-17",
          "2016-04-18",
          "2016-04-19",
          "2016-04-20",
          "2016-04-23",
          "2016-04-24",
          "2016-04-26",
          "2016-04-27",
          "2016-05-01",
          "2016-05-02",
          "2016-05-09",
          "2016-05-10",
          "2016-05-12",
          "2016-05-16",
          "2016-05-17",
          "2016-05-18",
          "2016-05-20",
          "2016-05-21",
          "2016-05-24",
          "2016-05-27",
          "2016-05-29",
          "2016-05-30",
          "2016-05-31",
          "2016-06-06",
          "2016-06-09",
          "2016-06-13",
          "2016-06-17",
          "2016-06-18",
          "2016-06-19",
          "2016-06-23",
          "2016-06-25",
          "2016-06-26",
          "2016-06-29",
          "2016-07-06",
          "2016-07-07",
          "2016-07-08",
          "2016-07-09",
          "2016-07-10",
          "2016-07-12",
          "2016-07-14",
          "2016-07-17",
          "2016-08-21",
          "2016-08-22",
          "2016-08-24",
          "2016-08-26",
          "2016-08-27",
          "2016-08-28",
          "2016-10-31",
          "2016-11-06",
          "2016-11-14",
          "2016-11-15",
          "2016-11-16",
          "2016-11-17",
          "2016-11-19",
          "2016-11-21",
          "2016-11-22",
          "2016-11-23",
          "2016-11-24",
          "2016-11-25",
          "2016-11-28",
          "2016-12-07",
          "2016-12-25",
          "2017-01-14",
          "2017-01-17",
          "2017-01-24",
          "2017-01-27",
          "2017-02-07",
          "2017-02-13",
          "2017-02-25",
          "2017-03-01",
          "2017-03-13",
          "2017-04-10",
          "2017-04-13",
          "2017-04-17",
          "2017-04-19",
          "2017-04-24",
          "2017-04-25",
          "2017-04-27",
          "2017-04-29",
          "2017-05-03",
          "2017-05-04",
          "2017-06-19",
          "2017-07-02",
          "2017-07-03",
          "2017-07-04",
          "2017-07-05",
          "2017-07-06",
          "2017-07-09",
          "2017-07-10",
          "2017-07-11",
          "2017-07-12",
          "2017-07-13",
          "2017-07-17",
          "2017-07-19",
          "2017-07-20",
          "2017-07-22",
          "2017-07-23",
          "2017-07-24",
          "2017-07-25",
          "2017-07-26",
          "2017-07-27",
          "2017-07-28",
          "2017-07-29",
          "2017-07-30",
          "2017-07-31",
          "2017-08-01",
          "2017-08-02",
          "2017-08-03",
          "2017-08-04",
          "2017-08-05",
          "2017-08-06",
          "2017-08-07",
          "2017-08-08",
          "2017-08-09",
          "2017-08-10",
          "2017-08-11",
          "2017-08-12",
          "2017-08-13",
          "2017-08-14",
          "2017-08-15",
          "2017-08-16",
          "2017-08-17",
          "2017-08-18",
          "2017-08-19",
          "2017-08-20",
          "2017-08-21",
          "2017-08-22",
          "2017-08-23",
          "2017-08-24",
          "2017-08-25",
          "2017-08-26",
          "2017-08-27",
          "2017-08-28",
          "2017-08-29",
          "2017-08-30",
          "2017-08-31",
          "2017-09-01",
          "2017-09-02",
          "2017-09-03",
          "2017-09-04",
          "2017-09-05",
          "2017-09-06",
          "2017-09-07",
          "2017-09-08",
          "2017-09-09",
          "2017-09-10",
          "2017-09-11",
          "2017-09-12",
          "2017-09-13",
          "2017-09-14",
          "2017-09-15",
          "2017-09-16",
          "2017-09-17",
          "2017-09-18",
          "2017-09-19",
          "2017-09-20",
          "2017-09-21",
          "2017-09-22",
          "2017-09-23",
          "2017-09-24",
          "2017-09-25",
          "2017-09-26",
          "2017-09-27",
          "2017-09-28",
          "2017-09-29",
          "2017-09-30",
          "2017-10-01",
          "2017-10-02",
          "2017-10-03",
          "2017-10-04",
          "2017-10-05",
          "2017-10-06",
          "2017-10-07",
          "2017-10-08",
          "2017-10-09",
          "2017-10-10",
          "2017-10-11",
          "2017-10-12",
          "2017-10-13",
          "2017-10-14",
          "2017-10-15",
          "2017-10-16",
          "2017-10-18",
          "2017-10-19",
          "2017-10-21",
          "2017-10-22",
          "2017-10-23",
          "2017-10-24",
          "2017-10-26",
          "2017-10-31",
          "2017-11-02",
          "2017-11-03",
          "2017-11-05",
          "2017-11-08",
          "2017-11-13",
          "2017-11-15",
          "2017-11-20",
          "2017-11-21",
          "2017-11-22",
          "2017-11-23",
          "2017-11-26",
          "2017-11-27",
          "2017-11-29",
          "2017-11-30",
          "2017-12-01",
          "2017-12-05",
          "2017-12-08",
          "2017-12-13",
          "2017-12-14",
          "2017-12-20",
          "2017-12-21",
          "2017-12-25",
          "2017-12-27",
          "2017-12-28",
          "2017-12-30",
          "2017-12-31",
          "2018-01-03",
          "2018-01-04",
          "2018-01-07",
          "2018-01-11",
          "2018-01-15",
          "2018-01-16",
          "2018-01-17",
          "2018-01-21",
          "2018-01-23",
          "2018-01-24",
          "2018-01-27",
          "2018-01-29",
          "2018-01-30",
          "2018-02-01",
          "2018-02-04",
          "2018-02-05",
          "2018-02-08",
          "2018-02-10",
          "2018-02-11",
          "2018-02-14",
          "2018-02-19",
          "2018-02-23",
          "2018-02-25",
          "2018-03-01",
          "2018-03-02",
          "2018-03-04",
          "2018-03-07",
          "2018-03-08",
          "2018-03-12",
          "2018-03-16",
          "2018-03-18",
          "2018-03-20",
          "2018-03-22",
          "2018-03-25",
          "2018-03-28",
          "2018-03-30",
          "2018-04-01",
          "2018-04-04",
          "2018-04-06",
          "2018-04-08",
          "2018-04-10",
          "2018-04-12",
          "2018-04-15",
          "2018-04-17",
          "2018-04-19",
          "2018-04-22",
          "2018-04-25",
          "2018-04-26",
          "2018-04-29",
          "2018-05-01",
          "2018-05-03",
          "2018-05-04",
          "2018-05-07",
          "2018-05-09",
          "2018-05-10",
          "2018-05-13",
          "2018-05-14",
          "2018-05-17",
          "2018-05-21",
          "2018-05-23",
          "2018-05-24",
          "2018-05-30",
          "2018-05-31",
          "2018-06-05",
          "2018-06-08",
          "2018-06-09",
          "2018-06-17",
          "2018-06-20",
          "2018-06-22",
          "2018-06-23",
          "2018-06-28",
          "2018-07-03",
          "2018-07-05",
          "2018-07-10",
          "2018-07-14",
          "2018-07-18",
          "2018-07-20",
          "2018-07-23",
          "2018-07-25",
          "2018-08-01",
          "2018-08-07",
          "2018-08-10",
          "2018-08-13",
          "2018-08-20",
          "2018-08-21",
          "2018-08-25",
          "2018-08-26",
          "2018-08-28",
          "2018-08-30",
          "2018-09-01",
          "2018-09-02",
          "2018-09-06",
          "2018-09-08",
          "2018-09-10",
          "2018-09-14",
          "2018-09-15",
          "2018-09-18",
          "2018-09-22",
          "2018-09-23",
          "2018-09-24",
          "2018-09-28",
          "2018-10-06",
          "2018-10-09",
          "2018-10-10",
          "2018-10-16",
          "2018-10-18",
          "2018-10-19",
          "2018-10-21",
          "2018-10-24",
          "2018-10-28",
          "2018-11-01",
          "2018-11-07",
          "2018-11-11",
          "2018-11-14",
          "2018-11-15",
          "2018-11-21",
          "2018-11-22",
          "2018-11-25",
          "2018-11-29",
          "2018-11-30",
          "2018-12-03",
          "2018-12-05",
          "2018-12-08",
          "2018-12-09",
          "2018-12-12",
          "2018-12-13",
          "2018-12-16",
          "2018-12-18",
          "2018-12-26",
          "2018-12-30",
          "2019-01-01",
          "2019-01-03",
          "2019-01-07",
          "2019-01-10",
          "2019-01-12",
          "2019-01-13",
          "2019-01-16",
          "2019-01-27",
          "2019-02-06",
          "2019-02-07",
          "2019-02-14",
          "2019-02-17",
          "2019-02-19",
          "2019-02-21",
          "2019-02-25",
          "2019-02-27",
          "2019-03-04",
          "2019-03-07",
          "2019-03-13",
          "2019-03-16",
          "2019-03-22",
          "2019-03-24",
          "2019-03-27",
          "2019-03-28",
          "2019-04-05",
          "2019-04-06",
          "2019-04-16",
          "2019-04-20",
          "2019-04-25",
          "2019-04-27",
          "2019-04-28",
          "2019-05-13",
          "2019-05-15",
          "2019-05-16",
          "2019-05-21",
          "2019-05-31",
          "2019-06-03",
          "2019-06-16",
          "2019-07-02",
          "2019-07-08",
          "2019-07-12",
          "2019-07-16",
          "2019-07-21",
          "2019-07-30",
          "2019-08-07",
          "2019-08-09",
          "2019-08-11",
          "2019-08-24",
          "2019-08-26",
          "2019-08-28",
          "2019-09-01",
          "2019-09-08",
          "2019-09-13",
          "2019-09-15",
          "2019-09-24",
          "2019-09-29",
          "2019-10-01",
          "2019-10-15",
          "2019-10-26",
          "2019-11-13",
          "2019-11-21",
          "2019-11-29",
          "2019-12-01",
          "2019-12-02",
          "2019-12-09",
          "2019-12-11",
          "2019-12-12",
          "2019-12-14",
          "2019-12-23",
          "2019-12-25",
          "2019-12-31",
          "2020-01-01",
          "2020-01-05",
          "2020-01-14",
          "2020-01-15",
          "2020-01-20",
          "2020-01-23",
          "2020-01-25",
          "2020-01-30",
          "2020-02-08",
          "2020-02-12",
          "2020-02-13",
          "2020-02-14",
          "2020-02-19",
          "2020-02-25",
          "2020-03-02",
          "2020-03-08",
          "2020-03-09",
          "2020-03-23",
          "2020-03-24",
          "2020-03-25",
          "2020-03-27",
          "2020-03-28",
          "2020-04-01",
          "2020-04-06",
          "2020-04-08",
          "2020-04-17",
          "2020-04-18",
          "2020-05-06",
          "2020-05-08",
          "2020-05-17",
          "2020-05-25",
          "2020-05-28",
          "2020-05-30",
          "2020-06-03",
          "2020-06-05",
          "2020-06-09",
          "2020-06-10",
          "2020-06-15",
          "2020-06-20",
          "2020-07-10",
          "2020-07-16",
          "2020-07-19",
          "2020-07-23",
          "2020-07-25",
          "2020-07-31",
          "2020-08-14",
          "2020-08-20",
          "2020-08-27",
          "2020-09-04",
          "2020-10-03",
          "2020-10-07",
          "2020-10-22",
          "2020-10-27",
          "2020-11-05",
          "2020-11-23",
          "2020-11-28",
          "2020-12-02",
          "2020-12-07",
          "2020-12-13",
          "2020-12-16",
          "2020-12-20",
          "2020-12-21"
         ],
         "xaxis": "x",
         "y": [
          1,
          1,
          1,
          2,
          1,
          1,
          1,
          1,
          1,
          1,
          1,
          2,
          1,
          1,
          1,
          1,
          1,
          2,
          1,
          2,
          2,
          2,
          2,
          1,
          1,
          2,
          1,
          1,
          1,
          1,
          1,
          1,
          1,
          1,
          1,
          1,
          1,
          1,
          1,
          1,
          1,
          1,
          1,
          2,
          1,
          1,
          1,
          1,
          1,
          1,
          1,
          1,
          1,
          1,
          1,
          1,
          1,
          2,
          1,
          1,
          1,
          2,
          2,
          1,
          2,
          2,
          2,
          2,
          1,
          1,
          1,
          2,
          2,
          1,
          1,
          1,
          1,
          1,
          1,
          1,
          1,
          1,
          1,
          1,
          1,
          1,
          1,
          1,
          1,
          1,
          1,
          1,
          1,
          1,
          1,
          1,
          1,
          1,
          1,
          1,
          1,
          1,
          1,
          1,
          1,
          1,
          2,
          1,
          1,
          1,
          1,
          1,
          1,
          1,
          1,
          1,
          1,
          1,
          1,
          1,
          1,
          1,
          1,
          1,
          1,
          1,
          1,
          1,
          1,
          1,
          1,
          1,
          1,
          1,
          1,
          1,
          1,
          1,
          1,
          1,
          1,
          1,
          1,
          1,
          1,
          1,
          1,
          2,
          1,
          1,
          1,
          1,
          1,
          1,
          1,
          1,
          1,
          1,
          1,
          1,
          1,
          1,
          1,
          1,
          1,
          1,
          1,
          1,
          1,
          1,
          1,
          1,
          1,
          2,
          1,
          1,
          1,
          1,
          1,
          1,
          1,
          1,
          1,
          1,
          1,
          1,
          1,
          1,
          1,
          1,
          1,
          1,
          1,
          1,
          1,
          1,
          1,
          1,
          1,
          2,
          1,
          1,
          1,
          1,
          1,
          2,
          1,
          1,
          1,
          1,
          1,
          1,
          2,
          1,
          2,
          1,
          1,
          1,
          1,
          1,
          1,
          1,
          1,
          1,
          1,
          1,
          1,
          1,
          1,
          1,
          2,
          1,
          1,
          1,
          1,
          1,
          1,
          1,
          1,
          1,
          1,
          1,
          1,
          1,
          1,
          2,
          1,
          1,
          1,
          1,
          1,
          1,
          1,
          1,
          2,
          1,
          1,
          1,
          1,
          1,
          1,
          1,
          1,
          1,
          2,
          1,
          1,
          1,
          1,
          1,
          1,
          1,
          1,
          1,
          1,
          1,
          1,
          1,
          1,
          1,
          1,
          1,
          1,
          1,
          1,
          1,
          1,
          1,
          1,
          1,
          1,
          1,
          1,
          1,
          1,
          1,
          1,
          1,
          1,
          1,
          1,
          1,
          1,
          1,
          1,
          1,
          1,
          1,
          1,
          1,
          1,
          1,
          1,
          1,
          2,
          1,
          1,
          1,
          1,
          1,
          1,
          1,
          1,
          1,
          1,
          1,
          1,
          1,
          1,
          1,
          1,
          1,
          1,
          1,
          1,
          1,
          1,
          1,
          1,
          2,
          1,
          1,
          1,
          1,
          1,
          1,
          1,
          1,
          1,
          1,
          1,
          1,
          1,
          1,
          1,
          1,
          1,
          1,
          1,
          1,
          1,
          1,
          1,
          1,
          1,
          1,
          1,
          1,
          1,
          1,
          1,
          1,
          1,
          1,
          1,
          1,
          1,
          1,
          1,
          1,
          1,
          1,
          1,
          1,
          1,
          1,
          1,
          1,
          1,
          1,
          1,
          1,
          1,
          1,
          1,
          1,
          1,
          1,
          1,
          1,
          1,
          1,
          1,
          1,
          1,
          1,
          1,
          1,
          1,
          1,
          1,
          1,
          1,
          1,
          1,
          1,
          1,
          1,
          1,
          1,
          1,
          1,
          1,
          1,
          1,
          1,
          1,
          1,
          1,
          1,
          1,
          1,
          1,
          1,
          1,
          1,
          1,
          1,
          1,
          1,
          1,
          1,
          1,
          1,
          1,
          1,
          1,
          1,
          1,
          1,
          1,
          1,
          1,
          1,
          1,
          1,
          1,
          1,
          1,
          1,
          1,
          1,
          1,
          1,
          1,
          1,
          1,
          1,
          1,
          1,
          1,
          1,
          1,
          1,
          1,
          1,
          1,
          1,
          1,
          1,
          1,
          1,
          1,
          1,
          1,
          1,
          1,
          1,
          1,
          1,
          1,
          1,
          1,
          1,
          1,
          1,
          1,
          1,
          1,
          1,
          1,
          1,
          1,
          1,
          1,
          1,
          1,
          1,
          1,
          1,
          1,
          1,
          1,
          1,
          1,
          1,
          1,
          1,
          1,
          1,
          1,
          1,
          1,
          1,
          1,
          1,
          1,
          1,
          1,
          1,
          1,
          1,
          1,
          1,
          1,
          1,
          1,
          1,
          1,
          1,
          1,
          1,
          1,
          1,
          1,
          1,
          1,
          1,
          1,
          1,
          1,
          1,
          1,
          1,
          1,
          1,
          1,
          1,
          1,
          1,
          1,
          1,
          1,
          1,
          1,
          1,
          1,
          1,
          1,
          1,
          1,
          1,
          1,
          1,
          1,
          1,
          1,
          1,
          1,
          1
         ],
         "yaxis": "y"
        }
       ],
       "layout": {
        "barmode": "relative",
        "legend": {
         "tracegroupgap": 0
        },
        "template": {
         "data": {
          "bar": [
           {
            "error_x": {
             "color": "#2a3f5f"
            },
            "error_y": {
             "color": "#2a3f5f"
            },
            "marker": {
             "line": {
              "color": "#E5ECF6",
              "width": 0.5
             }
            },
            "type": "bar"
           }
          ],
          "barpolar": [
           {
            "marker": {
             "line": {
              "color": "#E5ECF6",
              "width": 0.5
             }
            },
            "type": "barpolar"
           }
          ],
          "carpet": [
           {
            "aaxis": {
             "endlinecolor": "#2a3f5f",
             "gridcolor": "white",
             "linecolor": "white",
             "minorgridcolor": "white",
             "startlinecolor": "#2a3f5f"
            },
            "baxis": {
             "endlinecolor": "#2a3f5f",
             "gridcolor": "white",
             "linecolor": "white",
             "minorgridcolor": "white",
             "startlinecolor": "#2a3f5f"
            },
            "type": "carpet"
           }
          ],
          "choropleth": [
           {
            "colorbar": {
             "outlinewidth": 0,
             "ticks": ""
            },
            "type": "choropleth"
           }
          ],
          "contour": [
           {
            "colorbar": {
             "outlinewidth": 0,
             "ticks": ""
            },
            "colorscale": [
             [
              0,
              "#0d0887"
             ],
             [
              0.1111111111111111,
              "#46039f"
             ],
             [
              0.2222222222222222,
              "#7201a8"
             ],
             [
              0.3333333333333333,
              "#9c179e"
             ],
             [
              0.4444444444444444,
              "#bd3786"
             ],
             [
              0.5555555555555556,
              "#d8576b"
             ],
             [
              0.6666666666666666,
              "#ed7953"
             ],
             [
              0.7777777777777778,
              "#fb9f3a"
             ],
             [
              0.8888888888888888,
              "#fdca26"
             ],
             [
              1,
              "#f0f921"
             ]
            ],
            "type": "contour"
           }
          ],
          "contourcarpet": [
           {
            "colorbar": {
             "outlinewidth": 0,
             "ticks": ""
            },
            "type": "contourcarpet"
           }
          ],
          "heatmap": [
           {
            "colorbar": {
             "outlinewidth": 0,
             "ticks": ""
            },
            "colorscale": [
             [
              0,
              "#0d0887"
             ],
             [
              0.1111111111111111,
              "#46039f"
             ],
             [
              0.2222222222222222,
              "#7201a8"
             ],
             [
              0.3333333333333333,
              "#9c179e"
             ],
             [
              0.4444444444444444,
              "#bd3786"
             ],
             [
              0.5555555555555556,
              "#d8576b"
             ],
             [
              0.6666666666666666,
              "#ed7953"
             ],
             [
              0.7777777777777778,
              "#fb9f3a"
             ],
             [
              0.8888888888888888,
              "#fdca26"
             ],
             [
              1,
              "#f0f921"
             ]
            ],
            "type": "heatmap"
           }
          ],
          "heatmapgl": [
           {
            "colorbar": {
             "outlinewidth": 0,
             "ticks": ""
            },
            "colorscale": [
             [
              0,
              "#0d0887"
             ],
             [
              0.1111111111111111,
              "#46039f"
             ],
             [
              0.2222222222222222,
              "#7201a8"
             ],
             [
              0.3333333333333333,
              "#9c179e"
             ],
             [
              0.4444444444444444,
              "#bd3786"
             ],
             [
              0.5555555555555556,
              "#d8576b"
             ],
             [
              0.6666666666666666,
              "#ed7953"
             ],
             [
              0.7777777777777778,
              "#fb9f3a"
             ],
             [
              0.8888888888888888,
              "#fdca26"
             ],
             [
              1,
              "#f0f921"
             ]
            ],
            "type": "heatmapgl"
           }
          ],
          "histogram": [
           {
            "marker": {
             "colorbar": {
              "outlinewidth": 0,
              "ticks": ""
             }
            },
            "type": "histogram"
           }
          ],
          "histogram2d": [
           {
            "colorbar": {
             "outlinewidth": 0,
             "ticks": ""
            },
            "colorscale": [
             [
              0,
              "#0d0887"
             ],
             [
              0.1111111111111111,
              "#46039f"
             ],
             [
              0.2222222222222222,
              "#7201a8"
             ],
             [
              0.3333333333333333,
              "#9c179e"
             ],
             [
              0.4444444444444444,
              "#bd3786"
             ],
             [
              0.5555555555555556,
              "#d8576b"
             ],
             [
              0.6666666666666666,
              "#ed7953"
             ],
             [
              0.7777777777777778,
              "#fb9f3a"
             ],
             [
              0.8888888888888888,
              "#fdca26"
             ],
             [
              1,
              "#f0f921"
             ]
            ],
            "type": "histogram2d"
           }
          ],
          "histogram2dcontour": [
           {
            "colorbar": {
             "outlinewidth": 0,
             "ticks": ""
            },
            "colorscale": [
             [
              0,
              "#0d0887"
             ],
             [
              0.1111111111111111,
              "#46039f"
             ],
             [
              0.2222222222222222,
              "#7201a8"
             ],
             [
              0.3333333333333333,
              "#9c179e"
             ],
             [
              0.4444444444444444,
              "#bd3786"
             ],
             [
              0.5555555555555556,
              "#d8576b"
             ],
             [
              0.6666666666666666,
              "#ed7953"
             ],
             [
              0.7777777777777778,
              "#fb9f3a"
             ],
             [
              0.8888888888888888,
              "#fdca26"
             ],
             [
              1,
              "#f0f921"
             ]
            ],
            "type": "histogram2dcontour"
           }
          ],
          "mesh3d": [
           {
            "colorbar": {
             "outlinewidth": 0,
             "ticks": ""
            },
            "type": "mesh3d"
           }
          ],
          "parcoords": [
           {
            "line": {
             "colorbar": {
              "outlinewidth": 0,
              "ticks": ""
             }
            },
            "type": "parcoords"
           }
          ],
          "pie": [
           {
            "automargin": true,
            "type": "pie"
           }
          ],
          "scatter": [
           {
            "marker": {
             "colorbar": {
              "outlinewidth": 0,
              "ticks": ""
             }
            },
            "type": "scatter"
           }
          ],
          "scatter3d": [
           {
            "line": {
             "colorbar": {
              "outlinewidth": 0,
              "ticks": ""
             }
            },
            "marker": {
             "colorbar": {
              "outlinewidth": 0,
              "ticks": ""
             }
            },
            "type": "scatter3d"
           }
          ],
          "scattercarpet": [
           {
            "marker": {
             "colorbar": {
              "outlinewidth": 0,
              "ticks": ""
             }
            },
            "type": "scattercarpet"
           }
          ],
          "scattergeo": [
           {
            "marker": {
             "colorbar": {
              "outlinewidth": 0,
              "ticks": ""
             }
            },
            "type": "scattergeo"
           }
          ],
          "scattergl": [
           {
            "marker": {
             "colorbar": {
              "outlinewidth": 0,
              "ticks": ""
             }
            },
            "type": "scattergl"
           }
          ],
          "scattermapbox": [
           {
            "marker": {
             "colorbar": {
              "outlinewidth": 0,
              "ticks": ""
             }
            },
            "type": "scattermapbox"
           }
          ],
          "scatterpolar": [
           {
            "marker": {
             "colorbar": {
              "outlinewidth": 0,
              "ticks": ""
             }
            },
            "type": "scatterpolar"
           }
          ],
          "scatterpolargl": [
           {
            "marker": {
             "colorbar": {
              "outlinewidth": 0,
              "ticks": ""
             }
            },
            "type": "scatterpolargl"
           }
          ],
          "scatterternary": [
           {
            "marker": {
             "colorbar": {
              "outlinewidth": 0,
              "ticks": ""
             }
            },
            "type": "scatterternary"
           }
          ],
          "surface": [
           {
            "colorbar": {
             "outlinewidth": 0,
             "ticks": ""
            },
            "colorscale": [
             [
              0,
              "#0d0887"
             ],
             [
              0.1111111111111111,
              "#46039f"
             ],
             [
              0.2222222222222222,
              "#7201a8"
             ],
             [
              0.3333333333333333,
              "#9c179e"
             ],
             [
              0.4444444444444444,
              "#bd3786"
             ],
             [
              0.5555555555555556,
              "#d8576b"
             ],
             [
              0.6666666666666666,
              "#ed7953"
             ],
             [
              0.7777777777777778,
              "#fb9f3a"
             ],
             [
              0.8888888888888888,
              "#fdca26"
             ],
             [
              1,
              "#f0f921"
             ]
            ],
            "type": "surface"
           }
          ],
          "table": [
           {
            "cells": {
             "fill": {
              "color": "#EBF0F8"
             },
             "line": {
              "color": "white"
             }
            },
            "header": {
             "fill": {
              "color": "#C8D4E3"
             },
             "line": {
              "color": "white"
             }
            },
            "type": "table"
           }
          ]
         },
         "layout": {
          "annotationdefaults": {
           "arrowcolor": "#2a3f5f",
           "arrowhead": 0,
           "arrowwidth": 1
          },
          "autotypenumbers": "strict",
          "coloraxis": {
           "colorbar": {
            "outlinewidth": 0,
            "ticks": ""
           }
          },
          "colorscale": {
           "diverging": [
            [
             0,
             "#8e0152"
            ],
            [
             0.1,
             "#c51b7d"
            ],
            [
             0.2,
             "#de77ae"
            ],
            [
             0.3,
             "#f1b6da"
            ],
            [
             0.4,
             "#fde0ef"
            ],
            [
             0.5,
             "#f7f7f7"
            ],
            [
             0.6,
             "#e6f5d0"
            ],
            [
             0.7,
             "#b8e186"
            ],
            [
             0.8,
             "#7fbc41"
            ],
            [
             0.9,
             "#4d9221"
            ],
            [
             1,
             "#276419"
            ]
           ],
           "sequential": [
            [
             0,
             "#0d0887"
            ],
            [
             0.1111111111111111,
             "#46039f"
            ],
            [
             0.2222222222222222,
             "#7201a8"
            ],
            [
             0.3333333333333333,
             "#9c179e"
            ],
            [
             0.4444444444444444,
             "#bd3786"
            ],
            [
             0.5555555555555556,
             "#d8576b"
            ],
            [
             0.6666666666666666,
             "#ed7953"
            ],
            [
             0.7777777777777778,
             "#fb9f3a"
            ],
            [
             0.8888888888888888,
             "#fdca26"
            ],
            [
             1,
             "#f0f921"
            ]
           ],
           "sequentialminus": [
            [
             0,
             "#0d0887"
            ],
            [
             0.1111111111111111,
             "#46039f"
            ],
            [
             0.2222222222222222,
             "#7201a8"
            ],
            [
             0.3333333333333333,
             "#9c179e"
            ],
            [
             0.4444444444444444,
             "#bd3786"
            ],
            [
             0.5555555555555556,
             "#d8576b"
            ],
            [
             0.6666666666666666,
             "#ed7953"
            ],
            [
             0.7777777777777778,
             "#fb9f3a"
            ],
            [
             0.8888888888888888,
             "#fdca26"
            ],
            [
             1,
             "#f0f921"
            ]
           ]
          },
          "colorway": [
           "#636efa",
           "#EF553B",
           "#00cc96",
           "#ab63fa",
           "#FFA15A",
           "#19d3f3",
           "#FF6692",
           "#B6E880",
           "#FF97FF",
           "#FECB52"
          ],
          "font": {
           "color": "#2a3f5f"
          },
          "geo": {
           "bgcolor": "white",
           "lakecolor": "white",
           "landcolor": "#E5ECF6",
           "showlakes": true,
           "showland": true,
           "subunitcolor": "white"
          },
          "hoverlabel": {
           "align": "left"
          },
          "hovermode": "closest",
          "mapbox": {
           "style": "light"
          },
          "paper_bgcolor": "white",
          "plot_bgcolor": "#E5ECF6",
          "polar": {
           "angularaxis": {
            "gridcolor": "white",
            "linecolor": "white",
            "ticks": ""
           },
           "bgcolor": "#E5ECF6",
           "radialaxis": {
            "gridcolor": "white",
            "linecolor": "white",
            "ticks": ""
           }
          },
          "scene": {
           "xaxis": {
            "backgroundcolor": "#E5ECF6",
            "gridcolor": "white",
            "gridwidth": 2,
            "linecolor": "white",
            "showbackground": true,
            "ticks": "",
            "zerolinecolor": "white"
           },
           "yaxis": {
            "backgroundcolor": "#E5ECF6",
            "gridcolor": "white",
            "gridwidth": 2,
            "linecolor": "white",
            "showbackground": true,
            "ticks": "",
            "zerolinecolor": "white"
           },
           "zaxis": {
            "backgroundcolor": "#E5ECF6",
            "gridcolor": "white",
            "gridwidth": 2,
            "linecolor": "white",
            "showbackground": true,
            "ticks": "",
            "zerolinecolor": "white"
           }
          },
          "shapedefaults": {
           "line": {
            "color": "#2a3f5f"
           }
          },
          "ternary": {
           "aaxis": {
            "gridcolor": "white",
            "linecolor": "white",
            "ticks": ""
           },
           "baxis": {
            "gridcolor": "white",
            "linecolor": "white",
            "ticks": ""
           },
           "bgcolor": "#E5ECF6",
           "caxis": {
            "gridcolor": "white",
            "linecolor": "white",
            "ticks": ""
           }
          },
          "title": {
           "x": 0.05
          },
          "xaxis": {
           "automargin": true,
           "gridcolor": "white",
           "linecolor": "white",
           "ticks": "",
           "title": {
            "standoff": 15
           },
           "zerolinecolor": "white",
           "zerolinewidth": 2
          },
          "yaxis": {
           "automargin": true,
           "gridcolor": "white",
           "linecolor": "white",
           "ticks": "",
           "title": {
            "standoff": 15
           },
           "zerolinecolor": "white",
           "zerolinewidth": 2
          }
         }
        },
        "title": {
         "text": "Publicaciones por día buthewestie"
        },
        "xaxis": {
         "anchor": "y",
         "domain": [
          0,
          1
         ],
         "title": {
          "text": "x"
         }
        },
        "yaxis": {
         "anchor": "x",
         "domain": [
          0,
          1
         ],
         "title": {
          "text": "y"
         }
        }
       }
      }
     },
     "metadata": {}
    }
   ],
   "source": [
    "px.bar(x=buthewestie_date.index, y=buthewestie_date, text= buthewestie_date, title = \"Publicaciones por día buthewestie\")"
   ]
  },
  {
   "source": [
    "La tendencia por día no dice mucho porque es raro el día en que hace más de una pulicación. Realice una gráfica de cantidad de posts por año/mes y vea si el resultado da un resultado. \n",
    "\n",
    "Tips: \n",
    "* Investigue sobre strftime() https://www.programiz.com/python-programming/datetime/strftime\n",
    "* https://stackoverflow.com/questions/51105648/ordering-and-formatting-dates-on-x-axis-in-seaborn-bar-plot\n",
    "* set_xticklabels() le ayuda a cambiar la orientacion de las etiquetas del eje x para que no se sobrepongan https://matplotlib.org/stable/api/_as_gen/matplotlib.axes.Axes.set_xticklabels.html\n"
   ],
   "cell_type": "markdown",
   "metadata": {}
  },
  {
   "cell_type": "code",
   "execution_count": 110,
   "metadata": {},
   "outputs": [
    {
     "output_type": "stream",
     "name": "stderr",
     "text": [
      "<ipython-input-110-832495872847>:2: SettingWithCopyWarning:\n\n\nA value is trying to be set on a copy of a slice from a DataFrame.\nTry using .loc[row_indexer,col_indexer] = value instead\n\nSee the caveats in the documentation: https://pandas.pydata.org/pandas-docs/stable/user_guide/indexing.html#returning-a-view-versus-a-copy\n\n"
     ]
    },
    {
     "output_type": "execute_result",
     "data": {
      "text/plain": [
       "   Unnamed: 0                        csrf_token  viewer  viewer_id  \\\n",
       "0           0  D6iS7WnSFbhB9ZUFt5nWK51xdDegcZ6V     NaN        NaN   \n",
       "1           1  n9cW3xMiT311ZhtAfXYnEYO9dRBGkbhE     NaN        NaN   \n",
       "2           2  Y5WDcpqc8y0rsED1yI8YciJSgEqLJ9bT     NaN        NaN   \n",
       "3           3  5vFgXtmB2ihqowxoeLeVKvWA8UrpxAsa     NaN        NaN   \n",
       "4           4  F4ejlkqj0IhfwjCDxNAdffQCjBci05NN     NaN        NaN   \n",
       "\n",
       "  country_code language_code locale                             device_id  \\\n",
       "0           GT            en  en_US  D4425F91-940E-4EE7-8FAA-4E1AAA1A8B58   \n",
       "1           GT            en  en_US  D4EBBE02-4EF2-46E4-ACA7-4F8908A0C0AF   \n",
       "2           GT            en  en_US  251B69CB-92EE-4D3A-B536-72AD356D98D8   \n",
       "3           GT            en  en_US  A0334128-ADCC-4A0F-8FD9-F27024D2BC57   \n",
       "4           GT            en  en_US  4C162E02-7158-4F01-AE88-7A3FC33167EE   \n",
       "\n",
       "                                browser_push_pub_key  key_id  ...  \\\n",
       "0  BIBn3E_rWTci8Xn6P9Xj3btShT85Wdtne0LtwNUyRQ5XjF...      88  ...   \n",
       "1  BIBn3E_rWTci8Xn6P9Xj3btShT85Wdtne0LtwNUyRQ5XjF...      88  ...   \n",
       "2  BIBn3E_rWTci8Xn6P9Xj3btShT85Wdtne0LtwNUyRQ5XjF...      88  ...   \n",
       "3  BIBn3E_rWTci8Xn6P9Xj3btShT85Wdtne0LtwNUyRQ5XjF...      88  ...   \n",
       "4  BIBn3E_rWTci8Xn6P9Xj3btShT85Wdtne0LtwNUyRQ5XjF...      88  ...   \n",
       "\n",
       "  viewer_in_photo_of_you  viewer_can_reshare  video_url has_audio  \\\n",
       "0                  False                True        NaN       NaN   \n",
       "1                  False                True        NaN       NaN   \n",
       "2                  False                True        NaN       NaN   \n",
       "3                  False                True        NaN       NaN   \n",
       "4                  False                True        NaN       NaN   \n",
       "\n",
       "  video_view_count     username      full_name         upload_date  \\\n",
       "0              NaN  buthewestie  Bu the Westie 2020-12-21 09:22:24   \n",
       "1              NaN  buthewestie  Bu the Westie 2020-12-20 09:32:18   \n",
       "2              NaN  buthewestie  Bu the Westie 2020-12-16 09:28:28   \n",
       "3              NaN  buthewestie  Bu the Westie 2020-12-13 14:57:03   \n",
       "4              NaN  buthewestie  Bu the Westie 2020-12-07 11:44:15   \n",
       "\n",
       "                                            hashtags  period  \n",
       "0                                                 []   20-12  \n",
       "1                                                 []   20-12  \n",
       "2                                    ['dogapproved']   20-12  \n",
       "3            ['OliyBu', 'ThiagoyBu', 'OliThiagoyBu']   20-12  \n",
       "4  ['christmaspresent', 'bestchristmaspresent', '...   20-12  \n",
       "\n",
       "[5 rows x 53 columns]"
      ],
      "text/html": "<div>\n<style scoped>\n    .dataframe tbody tr th:only-of-type {\n        vertical-align: middle;\n    }\n\n    .dataframe tbody tr th {\n        vertical-align: top;\n    }\n\n    .dataframe thead th {\n        text-align: right;\n    }\n</style>\n<table border=\"1\" class=\"dataframe\">\n  <thead>\n    <tr style=\"text-align: right;\">\n      <th></th>\n      <th>Unnamed: 0</th>\n      <th>csrf_token</th>\n      <th>viewer</th>\n      <th>viewer_id</th>\n      <th>country_code</th>\n      <th>language_code</th>\n      <th>locale</th>\n      <th>device_id</th>\n      <th>browser_push_pub_key</th>\n      <th>key_id</th>\n      <th>...</th>\n      <th>viewer_in_photo_of_you</th>\n      <th>viewer_can_reshare</th>\n      <th>video_url</th>\n      <th>has_audio</th>\n      <th>video_view_count</th>\n      <th>username</th>\n      <th>full_name</th>\n      <th>upload_date</th>\n      <th>hashtags</th>\n      <th>period</th>\n    </tr>\n  </thead>\n  <tbody>\n    <tr>\n      <th>0</th>\n      <td>0</td>\n      <td>D6iS7WnSFbhB9ZUFt5nWK51xdDegcZ6V</td>\n      <td>NaN</td>\n      <td>NaN</td>\n      <td>GT</td>\n      <td>en</td>\n      <td>en_US</td>\n      <td>D4425F91-940E-4EE7-8FAA-4E1AAA1A8B58</td>\n      <td>BIBn3E_rWTci8Xn6P9Xj3btShT85Wdtne0LtwNUyRQ5XjF...</td>\n      <td>88</td>\n      <td>...</td>\n      <td>False</td>\n      <td>True</td>\n      <td>NaN</td>\n      <td>NaN</td>\n      <td>NaN</td>\n      <td>buthewestie</td>\n      <td>Bu the Westie</td>\n      <td>2020-12-21 09:22:24</td>\n      <td>[]</td>\n      <td>20-12</td>\n    </tr>\n    <tr>\n      <th>1</th>\n      <td>1</td>\n      <td>n9cW3xMiT311ZhtAfXYnEYO9dRBGkbhE</td>\n      <td>NaN</td>\n      <td>NaN</td>\n      <td>GT</td>\n      <td>en</td>\n      <td>en_US</td>\n      <td>D4EBBE02-4EF2-46E4-ACA7-4F8908A0C0AF</td>\n      <td>BIBn3E_rWTci8Xn6P9Xj3btShT85Wdtne0LtwNUyRQ5XjF...</td>\n      <td>88</td>\n      <td>...</td>\n      <td>False</td>\n      <td>True</td>\n      <td>NaN</td>\n      <td>NaN</td>\n      <td>NaN</td>\n      <td>buthewestie</td>\n      <td>Bu the Westie</td>\n      <td>2020-12-20 09:32:18</td>\n      <td>[]</td>\n      <td>20-12</td>\n    </tr>\n    <tr>\n      <th>2</th>\n      <td>2</td>\n      <td>Y5WDcpqc8y0rsED1yI8YciJSgEqLJ9bT</td>\n      <td>NaN</td>\n      <td>NaN</td>\n      <td>GT</td>\n      <td>en</td>\n      <td>en_US</td>\n      <td>251B69CB-92EE-4D3A-B536-72AD356D98D8</td>\n      <td>BIBn3E_rWTci8Xn6P9Xj3btShT85Wdtne0LtwNUyRQ5XjF...</td>\n      <td>88</td>\n      <td>...</td>\n      <td>False</td>\n      <td>True</td>\n      <td>NaN</td>\n      <td>NaN</td>\n      <td>NaN</td>\n      <td>buthewestie</td>\n      <td>Bu the Westie</td>\n      <td>2020-12-16 09:28:28</td>\n      <td>['dogapproved']</td>\n      <td>20-12</td>\n    </tr>\n    <tr>\n      <th>3</th>\n      <td>3</td>\n      <td>5vFgXtmB2ihqowxoeLeVKvWA8UrpxAsa</td>\n      <td>NaN</td>\n      <td>NaN</td>\n      <td>GT</td>\n      <td>en</td>\n      <td>en_US</td>\n      <td>A0334128-ADCC-4A0F-8FD9-F27024D2BC57</td>\n      <td>BIBn3E_rWTci8Xn6P9Xj3btShT85Wdtne0LtwNUyRQ5XjF...</td>\n      <td>88</td>\n      <td>...</td>\n      <td>False</td>\n      <td>True</td>\n      <td>NaN</td>\n      <td>NaN</td>\n      <td>NaN</td>\n      <td>buthewestie</td>\n      <td>Bu the Westie</td>\n      <td>2020-12-13 14:57:03</td>\n      <td>['OliyBu', 'ThiagoyBu', 'OliThiagoyBu']</td>\n      <td>20-12</td>\n    </tr>\n    <tr>\n      <th>4</th>\n      <td>4</td>\n      <td>F4ejlkqj0IhfwjCDxNAdffQCjBci05NN</td>\n      <td>NaN</td>\n      <td>NaN</td>\n      <td>GT</td>\n      <td>en</td>\n      <td>en_US</td>\n      <td>4C162E02-7158-4F01-AE88-7A3FC33167EE</td>\n      <td>BIBn3E_rWTci8Xn6P9Xj3btShT85Wdtne0LtwNUyRQ5XjF...</td>\n      <td>88</td>\n      <td>...</td>\n      <td>False</td>\n      <td>True</td>\n      <td>NaN</td>\n      <td>NaN</td>\n      <td>NaN</td>\n      <td>buthewestie</td>\n      <td>Bu the Westie</td>\n      <td>2020-12-07 11:44:15</td>\n      <td>['christmaspresent', 'bestchristmaspresent', '...</td>\n      <td>20-12</td>\n    </tr>\n  </tbody>\n</table>\n<p>5 rows × 53 columns</p>\n</div>"
     },
     "metadata": {},
     "execution_count": 110
    }
   ],
   "source": [
    "buthewestie_df1 = data[(data.username==\"buthewestie\")]\n",
    "buthewestie_df1[\"period\"] = buthewestie_df1[\"upload_date\"].dt.strftime(\"%y-%m\")\n",
    "buthewestie_df1.head()"
   ]
  },
  {
   "cell_type": "code",
   "execution_count": 111,
   "metadata": {},
   "outputs": [
    {
     "output_type": "execute_result",
     "data": {
      "text/plain": [
       "period\n",
       "15-11    19\n",
       "15-12    19\n",
       "16-01    22\n",
       "16-02    29\n",
       "16-03    22\n",
       "         ..\n",
       "20-08     3\n",
       "20-09     1\n",
       "20-10     4\n",
       "20-11     3\n",
       "20-12     6\n",
       "Name: id, Length: 61, dtype: int64"
      ]
     },
     "metadata": {},
     "execution_count": 111
    }
   ],
   "source": [
    "buthewestie_period = buthewestie_df1.groupby([\"period\"])[\"id\"].count()\n",
    "buthewestie_period"
   ]
  },
  {
   "cell_type": "code",
   "execution_count": 112,
   "metadata": {},
   "outputs": [
    {
     "output_type": "display_data",
     "data": {
      "application/vnd.plotly.v1+json": {
       "config": {
        "plotlyServerURL": "https://plot.ly"
       },
       "data": [
        {
         "alignmentgroup": "True",
         "hovertemplate": "x=%{x}<br>y=%{y}<br>text=%{text}<extra></extra>",
         "legendgroup": "",
         "marker": {
          "color": "#636efa"
         },
         "name": "",
         "offsetgroup": "",
         "orientation": "v",
         "showlegend": false,
         "text": [
          19,
          19,
          22,
          29,
          22,
          17,
          15,
          10,
          8,
          7,
          1,
          12,
          2,
          4,
          3,
          2,
          9,
          2,
          1,
          25,
          34,
          33,
          24,
          14,
          13,
          13,
          11,
          13,
          13,
          14,
          8,
          8,
          10,
          12,
          9,
          10,
          10,
          8,
          8,
          8,
          7,
          5,
          2,
          6,
          6,
          6,
          3,
          3,
          9,
          8,
          6,
          8,
          5,
          6,
          6,
          6,
          3,
          1,
          4,
          3,
          6
         ],
         "textposition": "outside",
         "texttemplate": "%{text:.1s}",
         "type": "bar",
         "x": [
          "15-11",
          "15-12",
          "16-01",
          "16-02",
          "16-03",
          "16-04",
          "16-05",
          "16-06",
          "16-07",
          "16-08",
          "16-10",
          "16-11",
          "16-12",
          "17-01",
          "17-02",
          "17-03",
          "17-04",
          "17-05",
          "17-06",
          "17-07",
          "17-08",
          "17-09",
          "17-10",
          "17-11",
          "17-12",
          "18-01",
          "18-02",
          "18-03",
          "18-04",
          "18-05",
          "18-06",
          "18-07",
          "18-08",
          "18-09",
          "18-10",
          "18-11",
          "18-12",
          "19-01",
          "19-02",
          "19-03",
          "19-04",
          "19-05",
          "19-06",
          "19-07",
          "19-08",
          "19-09",
          "19-10",
          "19-11",
          "19-12",
          "20-01",
          "20-02",
          "20-03",
          "20-04",
          "20-05",
          "20-06",
          "20-07",
          "20-08",
          "20-09",
          "20-10",
          "20-11",
          "20-12"
         ],
         "xaxis": "x",
         "y": [
          19,
          19,
          22,
          29,
          22,
          17,
          15,
          10,
          8,
          7,
          1,
          12,
          2,
          4,
          3,
          2,
          9,
          2,
          1,
          25,
          34,
          33,
          24,
          14,
          13,
          13,
          11,
          13,
          13,
          14,
          8,
          8,
          10,
          12,
          9,
          10,
          10,
          8,
          8,
          8,
          7,
          5,
          2,
          6,
          6,
          6,
          3,
          3,
          9,
          8,
          6,
          8,
          5,
          6,
          6,
          6,
          3,
          1,
          4,
          3,
          6
         ],
         "yaxis": "y"
        }
       ],
       "layout": {
        "barmode": "relative",
        "legend": {
         "tracegroupgap": 0
        },
        "template": {
         "data": {
          "bar": [
           {
            "error_x": {
             "color": "#2a3f5f"
            },
            "error_y": {
             "color": "#2a3f5f"
            },
            "marker": {
             "line": {
              "color": "#E5ECF6",
              "width": 0.5
             }
            },
            "type": "bar"
           }
          ],
          "barpolar": [
           {
            "marker": {
             "line": {
              "color": "#E5ECF6",
              "width": 0.5
             }
            },
            "type": "barpolar"
           }
          ],
          "carpet": [
           {
            "aaxis": {
             "endlinecolor": "#2a3f5f",
             "gridcolor": "white",
             "linecolor": "white",
             "minorgridcolor": "white",
             "startlinecolor": "#2a3f5f"
            },
            "baxis": {
             "endlinecolor": "#2a3f5f",
             "gridcolor": "white",
             "linecolor": "white",
             "minorgridcolor": "white",
             "startlinecolor": "#2a3f5f"
            },
            "type": "carpet"
           }
          ],
          "choropleth": [
           {
            "colorbar": {
             "outlinewidth": 0,
             "ticks": ""
            },
            "type": "choropleth"
           }
          ],
          "contour": [
           {
            "colorbar": {
             "outlinewidth": 0,
             "ticks": ""
            },
            "colorscale": [
             [
              0,
              "#0d0887"
             ],
             [
              0.1111111111111111,
              "#46039f"
             ],
             [
              0.2222222222222222,
              "#7201a8"
             ],
             [
              0.3333333333333333,
              "#9c179e"
             ],
             [
              0.4444444444444444,
              "#bd3786"
             ],
             [
              0.5555555555555556,
              "#d8576b"
             ],
             [
              0.6666666666666666,
              "#ed7953"
             ],
             [
              0.7777777777777778,
              "#fb9f3a"
             ],
             [
              0.8888888888888888,
              "#fdca26"
             ],
             [
              1,
              "#f0f921"
             ]
            ],
            "type": "contour"
           }
          ],
          "contourcarpet": [
           {
            "colorbar": {
             "outlinewidth": 0,
             "ticks": ""
            },
            "type": "contourcarpet"
           }
          ],
          "heatmap": [
           {
            "colorbar": {
             "outlinewidth": 0,
             "ticks": ""
            },
            "colorscale": [
             [
              0,
              "#0d0887"
             ],
             [
              0.1111111111111111,
              "#46039f"
             ],
             [
              0.2222222222222222,
              "#7201a8"
             ],
             [
              0.3333333333333333,
              "#9c179e"
             ],
             [
              0.4444444444444444,
              "#bd3786"
             ],
             [
              0.5555555555555556,
              "#d8576b"
             ],
             [
              0.6666666666666666,
              "#ed7953"
             ],
             [
              0.7777777777777778,
              "#fb9f3a"
             ],
             [
              0.8888888888888888,
              "#fdca26"
             ],
             [
              1,
              "#f0f921"
             ]
            ],
            "type": "heatmap"
           }
          ],
          "heatmapgl": [
           {
            "colorbar": {
             "outlinewidth": 0,
             "ticks": ""
            },
            "colorscale": [
             [
              0,
              "#0d0887"
             ],
             [
              0.1111111111111111,
              "#46039f"
             ],
             [
              0.2222222222222222,
              "#7201a8"
             ],
             [
              0.3333333333333333,
              "#9c179e"
             ],
             [
              0.4444444444444444,
              "#bd3786"
             ],
             [
              0.5555555555555556,
              "#d8576b"
             ],
             [
              0.6666666666666666,
              "#ed7953"
             ],
             [
              0.7777777777777778,
              "#fb9f3a"
             ],
             [
              0.8888888888888888,
              "#fdca26"
             ],
             [
              1,
              "#f0f921"
             ]
            ],
            "type": "heatmapgl"
           }
          ],
          "histogram": [
           {
            "marker": {
             "colorbar": {
              "outlinewidth": 0,
              "ticks": ""
             }
            },
            "type": "histogram"
           }
          ],
          "histogram2d": [
           {
            "colorbar": {
             "outlinewidth": 0,
             "ticks": ""
            },
            "colorscale": [
             [
              0,
              "#0d0887"
             ],
             [
              0.1111111111111111,
              "#46039f"
             ],
             [
              0.2222222222222222,
              "#7201a8"
             ],
             [
              0.3333333333333333,
              "#9c179e"
             ],
             [
              0.4444444444444444,
              "#bd3786"
             ],
             [
              0.5555555555555556,
              "#d8576b"
             ],
             [
              0.6666666666666666,
              "#ed7953"
             ],
             [
              0.7777777777777778,
              "#fb9f3a"
             ],
             [
              0.8888888888888888,
              "#fdca26"
             ],
             [
              1,
              "#f0f921"
             ]
            ],
            "type": "histogram2d"
           }
          ],
          "histogram2dcontour": [
           {
            "colorbar": {
             "outlinewidth": 0,
             "ticks": ""
            },
            "colorscale": [
             [
              0,
              "#0d0887"
             ],
             [
              0.1111111111111111,
              "#46039f"
             ],
             [
              0.2222222222222222,
              "#7201a8"
             ],
             [
              0.3333333333333333,
              "#9c179e"
             ],
             [
              0.4444444444444444,
              "#bd3786"
             ],
             [
              0.5555555555555556,
              "#d8576b"
             ],
             [
              0.6666666666666666,
              "#ed7953"
             ],
             [
              0.7777777777777778,
              "#fb9f3a"
             ],
             [
              0.8888888888888888,
              "#fdca26"
             ],
             [
              1,
              "#f0f921"
             ]
            ],
            "type": "histogram2dcontour"
           }
          ],
          "mesh3d": [
           {
            "colorbar": {
             "outlinewidth": 0,
             "ticks": ""
            },
            "type": "mesh3d"
           }
          ],
          "parcoords": [
           {
            "line": {
             "colorbar": {
              "outlinewidth": 0,
              "ticks": ""
             }
            },
            "type": "parcoords"
           }
          ],
          "pie": [
           {
            "automargin": true,
            "type": "pie"
           }
          ],
          "scatter": [
           {
            "marker": {
             "colorbar": {
              "outlinewidth": 0,
              "ticks": ""
             }
            },
            "type": "scatter"
           }
          ],
          "scatter3d": [
           {
            "line": {
             "colorbar": {
              "outlinewidth": 0,
              "ticks": ""
             }
            },
            "marker": {
             "colorbar": {
              "outlinewidth": 0,
              "ticks": ""
             }
            },
            "type": "scatter3d"
           }
          ],
          "scattercarpet": [
           {
            "marker": {
             "colorbar": {
              "outlinewidth": 0,
              "ticks": ""
             }
            },
            "type": "scattercarpet"
           }
          ],
          "scattergeo": [
           {
            "marker": {
             "colorbar": {
              "outlinewidth": 0,
              "ticks": ""
             }
            },
            "type": "scattergeo"
           }
          ],
          "scattergl": [
           {
            "marker": {
             "colorbar": {
              "outlinewidth": 0,
              "ticks": ""
             }
            },
            "type": "scattergl"
           }
          ],
          "scattermapbox": [
           {
            "marker": {
             "colorbar": {
              "outlinewidth": 0,
              "ticks": ""
             }
            },
            "type": "scattermapbox"
           }
          ],
          "scatterpolar": [
           {
            "marker": {
             "colorbar": {
              "outlinewidth": 0,
              "ticks": ""
             }
            },
            "type": "scatterpolar"
           }
          ],
          "scatterpolargl": [
           {
            "marker": {
             "colorbar": {
              "outlinewidth": 0,
              "ticks": ""
             }
            },
            "type": "scatterpolargl"
           }
          ],
          "scatterternary": [
           {
            "marker": {
             "colorbar": {
              "outlinewidth": 0,
              "ticks": ""
             }
            },
            "type": "scatterternary"
           }
          ],
          "surface": [
           {
            "colorbar": {
             "outlinewidth": 0,
             "ticks": ""
            },
            "colorscale": [
             [
              0,
              "#0d0887"
             ],
             [
              0.1111111111111111,
              "#46039f"
             ],
             [
              0.2222222222222222,
              "#7201a8"
             ],
             [
              0.3333333333333333,
              "#9c179e"
             ],
             [
              0.4444444444444444,
              "#bd3786"
             ],
             [
              0.5555555555555556,
              "#d8576b"
             ],
             [
              0.6666666666666666,
              "#ed7953"
             ],
             [
              0.7777777777777778,
              "#fb9f3a"
             ],
             [
              0.8888888888888888,
              "#fdca26"
             ],
             [
              1,
              "#f0f921"
             ]
            ],
            "type": "surface"
           }
          ],
          "table": [
           {
            "cells": {
             "fill": {
              "color": "#EBF0F8"
             },
             "line": {
              "color": "white"
             }
            },
            "header": {
             "fill": {
              "color": "#C8D4E3"
             },
             "line": {
              "color": "white"
             }
            },
            "type": "table"
           }
          ]
         },
         "layout": {
          "annotationdefaults": {
           "arrowcolor": "#2a3f5f",
           "arrowhead": 0,
           "arrowwidth": 1
          },
          "autotypenumbers": "strict",
          "coloraxis": {
           "colorbar": {
            "outlinewidth": 0,
            "ticks": ""
           }
          },
          "colorscale": {
           "diverging": [
            [
             0,
             "#8e0152"
            ],
            [
             0.1,
             "#c51b7d"
            ],
            [
             0.2,
             "#de77ae"
            ],
            [
             0.3,
             "#f1b6da"
            ],
            [
             0.4,
             "#fde0ef"
            ],
            [
             0.5,
             "#f7f7f7"
            ],
            [
             0.6,
             "#e6f5d0"
            ],
            [
             0.7,
             "#b8e186"
            ],
            [
             0.8,
             "#7fbc41"
            ],
            [
             0.9,
             "#4d9221"
            ],
            [
             1,
             "#276419"
            ]
           ],
           "sequential": [
            [
             0,
             "#0d0887"
            ],
            [
             0.1111111111111111,
             "#46039f"
            ],
            [
             0.2222222222222222,
             "#7201a8"
            ],
            [
             0.3333333333333333,
             "#9c179e"
            ],
            [
             0.4444444444444444,
             "#bd3786"
            ],
            [
             0.5555555555555556,
             "#d8576b"
            ],
            [
             0.6666666666666666,
             "#ed7953"
            ],
            [
             0.7777777777777778,
             "#fb9f3a"
            ],
            [
             0.8888888888888888,
             "#fdca26"
            ],
            [
             1,
             "#f0f921"
            ]
           ],
           "sequentialminus": [
            [
             0,
             "#0d0887"
            ],
            [
             0.1111111111111111,
             "#46039f"
            ],
            [
             0.2222222222222222,
             "#7201a8"
            ],
            [
             0.3333333333333333,
             "#9c179e"
            ],
            [
             0.4444444444444444,
             "#bd3786"
            ],
            [
             0.5555555555555556,
             "#d8576b"
            ],
            [
             0.6666666666666666,
             "#ed7953"
            ],
            [
             0.7777777777777778,
             "#fb9f3a"
            ],
            [
             0.8888888888888888,
             "#fdca26"
            ],
            [
             1,
             "#f0f921"
            ]
           ]
          },
          "colorway": [
           "#636efa",
           "#EF553B",
           "#00cc96",
           "#ab63fa",
           "#FFA15A",
           "#19d3f3",
           "#FF6692",
           "#B6E880",
           "#FF97FF",
           "#FECB52"
          ],
          "font": {
           "color": "#2a3f5f"
          },
          "geo": {
           "bgcolor": "white",
           "lakecolor": "white",
           "landcolor": "#E5ECF6",
           "showlakes": true,
           "showland": true,
           "subunitcolor": "white"
          },
          "hoverlabel": {
           "align": "left"
          },
          "hovermode": "closest",
          "mapbox": {
           "style": "light"
          },
          "paper_bgcolor": "white",
          "plot_bgcolor": "#E5ECF6",
          "polar": {
           "angularaxis": {
            "gridcolor": "white",
            "linecolor": "white",
            "ticks": ""
           },
           "bgcolor": "#E5ECF6",
           "radialaxis": {
            "gridcolor": "white",
            "linecolor": "white",
            "ticks": ""
           }
          },
          "scene": {
           "xaxis": {
            "backgroundcolor": "#E5ECF6",
            "gridcolor": "white",
            "gridwidth": 2,
            "linecolor": "white",
            "showbackground": true,
            "ticks": "",
            "zerolinecolor": "white"
           },
           "yaxis": {
            "backgroundcolor": "#E5ECF6",
            "gridcolor": "white",
            "gridwidth": 2,
            "linecolor": "white",
            "showbackground": true,
            "ticks": "",
            "zerolinecolor": "white"
           },
           "zaxis": {
            "backgroundcolor": "#E5ECF6",
            "gridcolor": "white",
            "gridwidth": 2,
            "linecolor": "white",
            "showbackground": true,
            "ticks": "",
            "zerolinecolor": "white"
           }
          },
          "shapedefaults": {
           "line": {
            "color": "#2a3f5f"
           }
          },
          "ternary": {
           "aaxis": {
            "gridcolor": "white",
            "linecolor": "white",
            "ticks": ""
           },
           "baxis": {
            "gridcolor": "white",
            "linecolor": "white",
            "ticks": ""
           },
           "bgcolor": "#E5ECF6",
           "caxis": {
            "gridcolor": "white",
            "linecolor": "white",
            "ticks": ""
           }
          },
          "title": {
           "x": 0.05
          },
          "xaxis": {
           "automargin": true,
           "gridcolor": "white",
           "linecolor": "white",
           "ticks": "",
           "title": {
            "standoff": 15
           },
           "zerolinecolor": "white",
           "zerolinewidth": 2
          },
          "yaxis": {
           "automargin": true,
           "gridcolor": "white",
           "linecolor": "white",
           "ticks": "",
           "title": {
            "standoff": 15
           },
           "zerolinecolor": "white",
           "zerolinewidth": 2
          }
         }
        },
        "title": {
         "text": "Publicaciones por mes y año buthewestie"
        },
        "uniformtext": {
         "minsize": 1,
         "mode": "hide"
        },
        "xaxis": {
         "anchor": "y",
         "domain": [
          0,
          1
         ],
         "title": {
          "text": "x"
         }
        },
        "yaxis": {
         "anchor": "x",
         "domain": [
          0,
          1
         ],
         "title": {
          "text": "y"
         }
        }
       }
      }
     },
     "metadata": {}
    }
   ],
   "source": [
    "periodo = px.bar(x=buthewestie_period.index, y=buthewestie_period, text= buthewestie_period, title = \"Publicaciones por mes y año buthewestie\", orientation=\"v\")\n",
    "periodo.update_traces(texttemplate='%{text:.1s}', textposition='outside')\n",
    "periodo.update_layout(uniformtext_minsize=1, uniformtext_mode='hide')\n",
    "periodo.show()"
   ]
  },
  {
   "source": [
    "## Scatterplot de likes vs. comentarios\n",
    "\n",
    "Realice un scatterplot con la cantidad de likes en el eje x y la cantidad de comentarios en el eje x. Cada punto representa un post. Continue utilizando solo los posts de buthewestie."
   ],
   "cell_type": "markdown",
   "metadata": {}
  },
  {
   "cell_type": "code",
   "execution_count": 113,
   "metadata": {},
   "outputs": [
    {
     "output_type": "execute_result",
     "data": {
      "text/plain": [
       "Text(0.5, 1.0, 'Scatter plot comments vs likes Buthewestie')"
      ]
     },
     "metadata": {},
     "execution_count": 113
    },
    {
     "output_type": "display_data",
     "data": {
      "text/plain": "<Figure size 432x288 with 1 Axes>",
      "image/svg+xml": "<?xml version=\"1.0\" encoding=\"utf-8\" standalone=\"no\"?>\r\n<!DOCTYPE svg PUBLIC \"-//W3C//DTD SVG 1.1//EN\"\r\n  \"http://www.w3.org/Graphics/SVG/1.1/DTD/svg11.dtd\">\r\n<!-- Created with matplotlib (https://matplotlib.org/) -->\r\n<svg height=\"277.314375pt\" version=\"1.1\" viewBox=\"0 0 406.794893 277.314375\" width=\"406.794893pt\" xmlns=\"http://www.w3.org/2000/svg\" xmlns:xlink=\"http://www.w3.org/1999/xlink\">\r\n <metadata>\r\n  <rdf:RDF xmlns:cc=\"http://creativecommons.org/ns#\" xmlns:dc=\"http://purl.org/dc/elements/1.1/\" xmlns:rdf=\"http://www.w3.org/1999/02/22-rdf-syntax-ns#\">\r\n   <cc:Work>\r\n    <dc:type rdf:resource=\"http://purl.org/dc/dcmitype/StillImage\"/>\r\n    <dc:date>2021-04-11T00:42:52.215264</dc:date>\r\n    <dc:format>image/svg+xml</dc:format>\r\n    <dc:creator>\r\n     <cc:Agent>\r\n      <dc:title>Matplotlib v3.3.2, https://matplotlib.org/</dc:title>\r\n     </cc:Agent>\r\n    </dc:creator>\r\n   </cc:Work>\r\n  </rdf:RDF>\r\n </metadata>\r\n <defs>\r\n  <style type=\"text/css\">*{stroke-linecap:butt;stroke-linejoin:round;}</style>\r\n </defs>\r\n <g id=\"figure_1\">\r\n  <g id=\"patch_1\">\r\n   <path d=\"M 0 277.314375 \r\nL 406.794893 277.314375 \r\nL 406.794893 0 \r\nL 0 0 \r\nz\r\n\" style=\"fill:none;\"/>\r\n  </g>\r\n  <g id=\"axes_1\">\r\n   <g id=\"patch_2\">\r\n    <path d=\"M 53.328125 239.758125 \r\nL 388.128125 239.758125 \r\nL 388.128125 22.318125 \r\nL 53.328125 22.318125 \r\nz\r\n\" style=\"fill:#ffffff;\"/>\r\n   </g>\r\n   <g id=\"PathCollection_1\">\r\n    <defs>\r\n     <path d=\"M 0 3 \r\nC 0.795609 3 1.55874 2.683901 2.12132 2.12132 \r\nC 2.683901 1.55874 3 0.795609 3 0 \r\nC 3 -0.795609 2.683901 -1.55874 2.12132 -2.12132 \r\nC 1.55874 -2.683901 0.795609 -3 0 -3 \r\nC -0.795609 -3 -1.55874 -2.683901 -2.12132 -2.12132 \r\nC -2.683901 -1.55874 -3 -0.795609 -3 0 \r\nC -3 0.795609 -2.683901 1.55874 -2.12132 2.12132 \r\nC -1.55874 2.683901 -0.795609 3 0 3 \r\nz\r\n\" id=\"m5b4bebe21f\" style=\"stroke:#1f77b4;\"/>\r\n    </defs>\r\n    <g clip-path=\"url(#pac1c370e6d)\">\r\n     <use style=\"fill:#1f77b4;stroke:#1f77b4;\" x=\"101.609345\" xlink:href=\"#m5b4bebe21f\" y=\"228.074191\"/>\r\n     <use style=\"fill:#1f77b4;stroke:#1f77b4;\" x=\"102.344079\" xlink:href=\"#m5b4bebe21f\" y=\"229.274389\"/>\r\n     <use style=\"fill:#1f77b4;stroke:#1f77b4;\" x=\"104.364598\" xlink:href=\"#m5b4bebe21f\" y=\"229.394409\"/>\r\n     <use style=\"fill:#1f77b4;stroke:#1f77b4;\" x=\"132.284497\" xlink:href=\"#m5b4bebe21f\" y=\"226.994012\"/>\r\n     <use style=\"fill:#1f77b4;stroke:#1f77b4;\" x=\"116.487712\" xlink:href=\"#m5b4bebe21f\" y=\"229.154369\"/>\r\n     <use style=\"fill:#1f77b4;stroke:#1f77b4;\" x=\"88.93518\" xlink:href=\"#m5b4bebe21f\" y=\"229.514429\"/>\r\n     <use style=\"fill:#1f77b4;stroke:#1f77b4;\" x=\"92.608851\" xlink:href=\"#m5b4bebe21f\" y=\"229.754469\"/>\r\n     <use style=\"fill:#1f77b4;stroke:#1f77b4;\" x=\"106.936168\" xlink:href=\"#m5b4bebe21f\" y=\"227.714131\"/>\r\n     <use style=\"fill:#1f77b4;stroke:#1f77b4;\" x=\"120.712434\" xlink:href=\"#m5b4bebe21f\" y=\"229.154369\"/>\r\n     <use style=\"fill:#1f77b4;stroke:#1f77b4;\" x=\"79.934687\" xlink:href=\"#m5b4bebe21f\" y=\"229.874489\"/>\r\n     <use style=\"fill:#1f77b4;stroke:#1f77b4;\" x=\"97.935674\" xlink:href=\"#m5b4bebe21f\" y=\"229.634449\"/>\r\n     <use style=\"fill:#1f77b4;stroke:#1f77b4;\" x=\"115.936662\" xlink:href=\"#m5b4bebe21f\" y=\"229.03435\"/>\r\n     <use style=\"fill:#1f77b4;stroke:#1f77b4;\" x=\"97.935674\" xlink:href=\"#m5b4bebe21f\" y=\"229.874489\"/>\r\n     <use style=\"fill:#1f77b4;stroke:#1f77b4;\" x=\"107.119852\" xlink:href=\"#m5b4bebe21f\" y=\"229.634449\"/>\r\n     <use style=\"fill:#1f77b4;stroke:#1f77b4;\" x=\"118.140864\" xlink:href=\"#m5b4bebe21f\" y=\"229.03435\"/>\r\n     <use style=\"fill:#1f77b4;stroke:#1f77b4;\" x=\"105.650383\" xlink:href=\"#m5b4bebe21f\" y=\"229.274389\"/>\r\n     <use style=\"fill:#1f77b4;stroke:#1f77b4;\" x=\"104.180915\" xlink:href=\"#m5b4bebe21f\" y=\"228.91433\"/>\r\n     <use style=\"fill:#1f77b4;stroke:#1f77b4;\" x=\"103.078814\" xlink:href=\"#m5b4bebe21f\" y=\"229.154369\"/>\r\n     <use style=\"fill:#1f77b4;stroke:#1f77b4;\" x=\"181.511688\" xlink:href=\"#m5b4bebe21f\" y=\"229.394409\"/>\r\n     <use style=\"fill:#1f77b4;stroke:#1f77b4;\" x=\"218.615764\" xlink:href=\"#m5b4bebe21f\" y=\"32.201761\"/>\r\n     <use style=\"fill:#1f77b4;stroke:#1f77b4;\" x=\"164.796485\" xlink:href=\"#m5b4bebe21f\" y=\"229.154369\"/>\r\n     <use style=\"fill:#1f77b4;stroke:#1f77b4;\" x=\"102.89513\" xlink:href=\"#m5b4bebe21f\" y=\"227.714131\"/>\r\n     <use style=\"fill:#1f77b4;stroke:#1f77b4;\" x=\"114.28351\" xlink:href=\"#m5b4bebe21f\" y=\"228.67429\"/>\r\n     <use style=\"fill:#1f77b4;stroke:#1f77b4;\" x=\"248.739866\" xlink:href=\"#m5b4bebe21f\" y=\"228.31423\"/>\r\n     <use style=\"fill:#1f77b4;stroke:#1f77b4;\" x=\"125.67189\" xlink:href=\"#m5b4bebe21f\" y=\"228.67429\"/>\r\n     <use style=\"fill:#1f77b4;stroke:#1f77b4;\" x=\"153.408105\" xlink:href=\"#m5b4bebe21f\" y=\"229.274389\"/>\r\n     <use style=\"fill:#1f77b4;stroke:#1f77b4;\" x=\"144.958662\" xlink:href=\"#m5b4bebe21f\" y=\"229.03435\"/>\r\n     <use style=\"fill:#1f77b4;stroke:#1f77b4;\" x=\"219.350498\" xlink:href=\"#m5b4bebe21f\" y=\"228.55427\"/>\r\n     <use style=\"fill:#1f77b4;stroke:#1f77b4;\" x=\"101.793029\" xlink:href=\"#m5b4bebe21f\" y=\"228.79431\"/>\r\n     <use style=\"fill:#1f77b4;stroke:#1f77b4;\" x=\"176.184865\" xlink:href=\"#m5b4bebe21f\" y=\"228.79431\"/>\r\n     <use style=\"fill:#1f77b4;stroke:#1f77b4;\" x=\"141.101308\" xlink:href=\"#m5b4bebe21f\" y=\"229.03435\"/>\r\n     <use style=\"fill:#1f77b4;stroke:#1f77b4;\" x=\"124.569788\" xlink:href=\"#m5b4bebe21f\" y=\"228.79431\"/>\r\n     <use style=\"fill:#1f77b4;stroke:#1f77b4;\" x=\"131.733447\" xlink:href=\"#m5b4bebe21f\" y=\"229.154369\"/>\r\n     <use style=\"fill:#1f77b4;stroke:#1f77b4;\" x=\"114.467193\" xlink:href=\"#m5b4bebe21f\" y=\"229.274389\"/>\r\n     <use style=\"fill:#1f77b4;stroke:#1f77b4;\" x=\"124.386105\" xlink:href=\"#m5b4bebe21f\" y=\"229.634449\"/>\r\n     <use style=\"fill:#1f77b4;stroke:#1f77b4;\" x=\"117.222447\" xlink:href=\"#m5b4bebe21f\" y=\"229.154369\"/>\r\n     <use style=\"fill:#1f77b4;stroke:#1f77b4;\" x=\"187.756928\" xlink:href=\"#m5b4bebe21f\" y=\"228.43425\"/>\r\n     <use style=\"fill:#1f77b4;stroke:#1f77b4;\" x=\"81.036788\" xlink:href=\"#m5b4bebe21f\" y=\"229.634449\"/>\r\n     <use style=\"fill:#1f77b4;stroke:#1f77b4;\" x=\"105.650383\" xlink:href=\"#m5b4bebe21f\" y=\"229.394409\"/>\r\n     <use style=\"fill:#1f77b4;stroke:#1f77b4;\" x=\"103.997231\" xlink:href=\"#m5b4bebe21f\" y=\"229.514429\"/>\r\n     <use style=\"fill:#1f77b4;stroke:#1f77b4;\" x=\"108.956687\" xlink:href=\"#m5b4bebe21f\" y=\"229.754469\"/>\r\n     <use style=\"fill:#1f77b4;stroke:#1f77b4;\" x=\"130.815029\" xlink:href=\"#m5b4bebe21f\" y=\"229.634449\"/>\r\n     <use style=\"fill:#1f77b4;stroke:#1f77b4;\" x=\"112.814041\" xlink:href=\"#m5b4bebe21f\" y=\"229.154369\"/>\r\n     <use style=\"fill:#1f77b4;stroke:#1f77b4;\" x=\"123.835054\" xlink:href=\"#m5b4bebe21f\" y=\"228.79431\"/>\r\n     <use style=\"fill:#1f77b4;stroke:#1f77b4;\" x=\"141.284991\" xlink:href=\"#m5b4bebe21f\" y=\"228.31423\"/>\r\n     <use style=\"fill:#1f77b4;stroke:#1f77b4;\" x=\"126.039257\" xlink:href=\"#m5b4bebe21f\" y=\"229.394409\"/>\r\n     <use style=\"fill:#1f77b4;stroke:#1f77b4;\" x=\"124.018738\" xlink:href=\"#m5b4bebe21f\" y=\"229.754469\"/>\r\n     <use style=\"fill:#1f77b4;stroke:#1f77b4;\" x=\"129.529244\" xlink:href=\"#m5b4bebe21f\" y=\"229.154369\"/>\r\n     <use style=\"fill:#1f77b4;stroke:#1f77b4;\" x=\"171.77646\" xlink:href=\"#m5b4bebe21f\" y=\"228.91433\"/>\r\n     <use style=\"fill:#1f77b4;stroke:#1f77b4;\" x=\"97.384624\" xlink:href=\"#m5b4bebe21f\" y=\"229.634449\"/>\r\n     <use style=\"fill:#1f77b4;stroke:#1f77b4;\" x=\"179.858536\" xlink:href=\"#m5b4bebe21f\" y=\"228.79431\"/>\r\n     <use style=\"fill:#1f77b4;stroke:#1f77b4;\" x=\"123.284004\" xlink:href=\"#m5b4bebe21f\" y=\"228.43425\"/>\r\n     <use style=\"fill:#1f77b4;stroke:#1f77b4;\" x=\"140.366573\" xlink:href=\"#m5b4bebe21f\" y=\"229.274389\"/>\r\n     <use style=\"fill:#1f77b4;stroke:#1f77b4;\" x=\"185.552726\" xlink:href=\"#m5b4bebe21f\" y=\"228.91433\"/>\r\n     <use style=\"fill:#1f77b4;stroke:#1f77b4;\" x=\"105.650383\" xlink:href=\"#m5b4bebe21f\" y=\"229.634449\"/>\r\n     <use style=\"fill:#1f77b4;stroke:#1f77b4;\" x=\"107.854586\" xlink:href=\"#m5b4bebe21f\" y=\"229.754469\"/>\r\n     <use style=\"fill:#1f77b4;stroke:#1f77b4;\" x=\"222.656802\" xlink:href=\"#m5b4bebe21f\" y=\"155.942248\"/>\r\n     <use style=\"fill:#1f77b4;stroke:#1f77b4;\" x=\"116.487712\" xlink:href=\"#m5b4bebe21f\" y=\"229.394409\"/>\r\n     <use style=\"fill:#1f77b4;stroke:#1f77b4;\" x=\"125.304523\" xlink:href=\"#m5b4bebe21f\" y=\"229.154369\"/>\r\n     <use style=\"fill:#1f77b4;stroke:#1f77b4;\" x=\"106.936168\" xlink:href=\"#m5b4bebe21f\" y=\"229.634449\"/>\r\n     <use style=\"fill:#1f77b4;stroke:#1f77b4;\" x=\"119.242966\" xlink:href=\"#m5b4bebe21f\" y=\"229.03435\"/>\r\n     <use style=\"fill:#1f77b4;stroke:#1f77b4;\" x=\"372.909943\" xlink:href=\"#m5b4bebe21f\" y=\"227.114032\"/>\r\n     <use style=\"fill:#1f77b4;stroke:#1f77b4;\" x=\"181.511688\" xlink:href=\"#m5b4bebe21f\" y=\"224.473594\"/>\r\n     <use style=\"fill:#1f77b4;stroke:#1f77b4;\" x=\"150.285485\" xlink:href=\"#m5b4bebe21f\" y=\"227.954171\"/>\r\n     <use style=\"fill:#1f77b4;stroke:#1f77b4;\" x=\"142.570776\" xlink:href=\"#m5b4bebe21f\" y=\"228.67429\"/>\r\n     <use style=\"fill:#1f77b4;stroke:#1f77b4;\" x=\"164.245434\" xlink:href=\"#m5b4bebe21f\" y=\"228.55427\"/>\r\n     <use style=\"fill:#1f77b4;stroke:#1f77b4;\" x=\"142.570776\" xlink:href=\"#m5b4bebe21f\" y=\"229.394409\"/>\r\n     <use style=\"fill:#1f77b4;stroke:#1f77b4;\" x=\"117.222447\" xlink:href=\"#m5b4bebe21f\" y=\"228.91433\"/>\r\n     <use style=\"fill:#1f77b4;stroke:#1f77b4;\" x=\"115.201928\" xlink:href=\"#m5b4bebe21f\" y=\"227.834151\"/>\r\n     <use style=\"fill:#1f77b4;stroke:#1f77b4;\" x=\"110.058788\" xlink:href=\"#m5b4bebe21f\" y=\"229.03435\"/>\r\n     <use style=\"fill:#1f77b4;stroke:#1f77b4;\" x=\"106.568801\" xlink:href=\"#m5b4bebe21f\" y=\"229.634449\"/>\r\n     <use style=\"fill:#1f77b4;stroke:#1f77b4;\" x=\"79.383636\" xlink:href=\"#m5b4bebe21f\" y=\"229.634449\"/>\r\n     <use style=\"fill:#1f77b4;stroke:#1f77b4;\" x=\"141.836042\" xlink:href=\"#m5b4bebe21f\" y=\"215.832164\"/>\r\n     <use style=\"fill:#1f77b4;stroke:#1f77b4;\" x=\"135.039751\" xlink:href=\"#m5b4bebe21f\" y=\"229.03435\"/>\r\n     <use style=\"fill:#1f77b4;stroke:#1f77b4;\" x=\"177.47065\" xlink:href=\"#m5b4bebe21f\" y=\"227.474091\"/>\r\n     <use style=\"fill:#1f77b4;stroke:#1f77b4;\" x=\"145.87708\" xlink:href=\"#m5b4bebe21f\" y=\"228.19421\"/>\r\n     <use style=\"fill:#1f77b4;stroke:#1f77b4;\" x=\"121.814535\" xlink:href=\"#m5b4bebe21f\" y=\"229.03435\"/>\r\n     <use style=\"fill:#1f77b4;stroke:#1f77b4;\" x=\"112.814041\" xlink:href=\"#m5b4bebe21f\" y=\"229.514429\"/>\r\n     <use style=\"fill:#1f77b4;stroke:#1f77b4;\" x=\"114.467193\" xlink:href=\"#m5b4bebe21f\" y=\"228.91433\"/>\r\n     <use style=\"fill:#1f77b4;stroke:#1f77b4;\" x=\"166.633321\" xlink:href=\"#m5b4bebe21f\" y=\"228.67429\"/>\r\n     <use style=\"fill:#1f77b4;stroke:#1f77b4;\" x=\"119.059282\" xlink:href=\"#m5b4bebe21f\" y=\"228.67429\"/>\r\n     <use style=\"fill:#1f77b4;stroke:#1f77b4;\" x=\"154.142839\" xlink:href=\"#m5b4bebe21f\" y=\"228.79431\"/>\r\n     <use style=\"fill:#1f77b4;stroke:#1f77b4;\" x=\"213.288941\" xlink:href=\"#m5b4bebe21f\" y=\"228.67429\"/>\r\n     <use style=\"fill:#1f77b4;stroke:#1f77b4;\" x=\"147.713915\" xlink:href=\"#m5b4bebe21f\" y=\"227.954171\"/>\r\n     <use style=\"fill:#1f77b4;stroke:#1f77b4;\" x=\"145.693396\" xlink:href=\"#m5b4bebe21f\" y=\"228.67429\"/>\r\n     <use style=\"fill:#1f77b4;stroke:#1f77b4;\" x=\"156.898093\" xlink:href=\"#m5b4bebe21f\" y=\"229.274389\"/>\r\n     <use style=\"fill:#1f77b4;stroke:#1f77b4;\" x=\"139.264472\" xlink:href=\"#m5b4bebe21f\" y=\"229.154369\"/>\r\n     <use style=\"fill:#1f77b4;stroke:#1f77b4;\" x=\"157.449143\" xlink:href=\"#m5b4bebe21f\" y=\"228.67429\"/>\r\n     <use style=\"fill:#1f77b4;stroke:#1f77b4;\" x=\"137.61132\" xlink:href=\"#m5b4bebe21f\" y=\"229.274389\"/>\r\n     <use style=\"fill:#1f77b4;stroke:#1f77b4;\" x=\"201.900561\" xlink:href=\"#m5b4bebe21f\" y=\"197.109064\"/>\r\n     <use style=\"fill:#1f77b4;stroke:#1f77b4;\" x=\"172.143827\" xlink:href=\"#m5b4bebe21f\" y=\"228.43425\"/>\r\n     <use style=\"fill:#1f77b4;stroke:#1f77b4;\" x=\"154.877574\" xlink:href=\"#m5b4bebe21f\" y=\"228.31423\"/>\r\n     <use style=\"fill:#1f77b4;stroke:#1f77b4;\" x=\"129.529244\" xlink:href=\"#m5b4bebe21f\" y=\"228.43425\"/>\r\n     <use style=\"fill:#1f77b4;stroke:#1f77b4;\" x=\"140.550257\" xlink:href=\"#m5b4bebe21f\" y=\"229.154369\"/>\r\n     <use style=\"fill:#1f77b4;stroke:#1f77b4;\" x=\"134.856067\" xlink:href=\"#m5b4bebe21f\" y=\"229.154369\"/>\r\n     <use style=\"fill:#1f77b4;stroke:#1f77b4;\" x=\"158.918612\" xlink:href=\"#m5b4bebe21f\" y=\"229.274389\"/>\r\n     <use style=\"fill:#1f77b4;stroke:#1f77b4;\" x=\"148.816017\" xlink:href=\"#m5b4bebe21f\" y=\"228.19421\"/>\r\n     <use style=\"fill:#1f77b4;stroke:#1f77b4;\" x=\"211.268422\" xlink:href=\"#m5b4bebe21f\" y=\"225.913833\"/>\r\n     <use style=\"fill:#1f77b4;stroke:#1f77b4;\" x=\"121.447168\" xlink:href=\"#m5b4bebe21f\" y=\"227.954171\"/>\r\n     <use style=\"fill:#1f77b4;stroke:#1f77b4;\" x=\"104.731965\" xlink:href=\"#m5b4bebe21f\" y=\"229.03435\"/>\r\n     <use style=\"fill:#1f77b4;stroke:#1f77b4;\" x=\"125.67189\" xlink:href=\"#m5b4bebe21f\" y=\"228.67429\"/>\r\n     <use style=\"fill:#1f77b4;stroke:#1f77b4;\" x=\"106.01775\" xlink:href=\"#m5b4bebe21f\" y=\"229.394409\"/>\r\n     <use style=\"fill:#1f77b4;stroke:#1f77b4;\" x=\"125.855573\" xlink:href=\"#m5b4bebe21f\" y=\"229.03435\"/>\r\n     <use style=\"fill:#1f77b4;stroke:#1f77b4;\" x=\"134.305016\" xlink:href=\"#m5b4bebe21f\" y=\"229.03435\"/>\r\n     <use style=\"fill:#1f77b4;stroke:#1f77b4;\" x=\"162.224915\" xlink:href=\"#m5b4bebe21f\" y=\"227.594111\"/>\r\n     <use style=\"fill:#1f77b4;stroke:#1f77b4;\" x=\"125.120839\" xlink:href=\"#m5b4bebe21f\" y=\"229.514429\"/>\r\n     <use style=\"fill:#1f77b4;stroke:#1f77b4;\" x=\"121.263485\" xlink:href=\"#m5b4bebe21f\" y=\"228.43425\"/>\r\n     <use style=\"fill:#1f77b4;stroke:#1f77b4;\" x=\"143.856561\" xlink:href=\"#m5b4bebe21f\" y=\"228.074191\"/>\r\n     <use style=\"fill:#1f77b4;stroke:#1f77b4;\" x=\"149.918118\" xlink:href=\"#m5b4bebe21f\" y=\"228.19421\"/>\r\n     <use style=\"fill:#1f77b4;stroke:#1f77b4;\" x=\"134.4887\" xlink:href=\"#m5b4bebe21f\" y=\"229.154369\"/>\r\n     <use style=\"fill:#1f77b4;stroke:#1f77b4;\" x=\"129.345561\" xlink:href=\"#m5b4bebe21f\" y=\"228.79431\"/>\r\n     <use style=\"fill:#1f77b4;stroke:#1f77b4;\" x=\"121.263485\" xlink:href=\"#m5b4bebe21f\" y=\"229.274389\"/>\r\n     <use style=\"fill:#1f77b4;stroke:#1f77b4;\" x=\"114.099826\" xlink:href=\"#m5b4bebe21f\" y=\"229.394409\"/>\r\n     <use style=\"fill:#1f77b4;stroke:#1f77b4;\" x=\"158.183877\" xlink:href=\"#m5b4bebe21f\" y=\"224.713634\"/>\r\n     <use style=\"fill:#1f77b4;stroke:#1f77b4;\" x=\"161.490181\" xlink:href=\"#m5b4bebe21f\" y=\"228.79431\"/>\r\n     <use style=\"fill:#1f77b4;stroke:#1f77b4;\" x=\"130.447662\" xlink:href=\"#m5b4bebe21f\" y=\"228.19421\"/>\r\n     <use style=\"fill:#1f77b4;stroke:#1f77b4;\" x=\"127.692409\" xlink:href=\"#m5b4bebe21f\" y=\"228.43425\"/>\r\n     <use style=\"fill:#1f77b4;stroke:#1f77b4;\" x=\"139.448156\" xlink:href=\"#m5b4bebe21f\" y=\"228.55427\"/>\r\n     <use style=\"fill:#1f77b4;stroke:#1f77b4;\" x=\"145.87708\" xlink:href=\"#m5b4bebe21f\" y=\"228.91433\"/>\r\n     <use style=\"fill:#1f77b4;stroke:#1f77b4;\" x=\"134.121333\" xlink:href=\"#m5b4bebe21f\" y=\"228.55427\"/>\r\n     <use style=\"fill:#1f77b4;stroke:#1f77b4;\" x=\"127.876092\" xlink:href=\"#m5b4bebe21f\" y=\"229.274389\"/>\r\n     <use style=\"fill:#1f77b4;stroke:#1f77b4;\" x=\"128.427143\" xlink:href=\"#m5b4bebe21f\" y=\"229.154369\"/>\r\n     <use style=\"fill:#1f77b4;stroke:#1f77b4;\" x=\"116.120345\" xlink:href=\"#m5b4bebe21f\" y=\"228.91433\"/>\r\n     <use style=\"fill:#1f77b4;stroke:#1f77b4;\" x=\"106.01775\" xlink:href=\"#m5b4bebe21f\" y=\"229.514429\"/>\r\n     <use style=\"fill:#1f77b4;stroke:#1f77b4;\" x=\"106.385117\" xlink:href=\"#m5b4bebe21f\" y=\"229.514429\"/>\r\n     <use style=\"fill:#1f77b4;stroke:#1f77b4;\" x=\"166.449637\" xlink:href=\"#m5b4bebe21f\" y=\"229.274389\"/>\r\n     <use style=\"fill:#1f77b4;stroke:#1f77b4;\" x=\"144.774979\" xlink:href=\"#m5b4bebe21f\" y=\"229.03435\"/>\r\n     <use style=\"fill:#1f77b4;stroke:#1f77b4;\" x=\"130.263978\" xlink:href=\"#m5b4bebe21f\" y=\"229.514429\"/>\r\n     <use style=\"fill:#1f77b4;stroke:#1f77b4;\" x=\"193.634802\" xlink:href=\"#m5b4bebe21f\" y=\"228.79431\"/>\r\n     <use style=\"fill:#1f77b4;stroke:#1f77b4;\" x=\"155.244941\" xlink:href=\"#m5b4bebe21f\" y=\"229.274389\"/>\r\n     <use style=\"fill:#1f77b4;stroke:#1f77b4;\" x=\"149.734434\" xlink:href=\"#m5b4bebe21f\" y=\"228.19421\"/>\r\n     <use style=\"fill:#1f77b4;stroke:#1f77b4;\" x=\"118.140864\" xlink:href=\"#m5b4bebe21f\" y=\"229.274389\"/>\r\n     <use style=\"fill:#1f77b4;stroke:#1f77b4;\" x=\"130.263978\" xlink:href=\"#m5b4bebe21f\" y=\"229.154369\"/>\r\n     <use style=\"fill:#1f77b4;stroke:#1f77b4;\" x=\"164.796485\" xlink:href=\"#m5b4bebe21f\" y=\"228.31423\"/>\r\n     <use style=\"fill:#1f77b4;stroke:#1f77b4;\" x=\"162.041232\" xlink:href=\"#m5b4bebe21f\" y=\"228.79431\"/>\r\n     <use style=\"fill:#1f77b4;stroke:#1f77b4;\" x=\"155.979675\" xlink:href=\"#m5b4bebe21f\" y=\"227.714131\"/>\r\n     <use style=\"fill:#1f77b4;stroke:#1f77b4;\" x=\"114.467193\" xlink:href=\"#m5b4bebe21f\" y=\"228.074191\"/>\r\n     <use style=\"fill:#1f77b4;stroke:#1f77b4;\" x=\"148.632333\" xlink:href=\"#m5b4bebe21f\" y=\"227.954171\"/>\r\n     <use style=\"fill:#1f77b4;stroke:#1f77b4;\" x=\"135.407118\" xlink:href=\"#m5b4bebe21f\" y=\"228.67429\"/>\r\n     <use style=\"fill:#1f77b4;stroke:#1f77b4;\" x=\"125.67189\" xlink:href=\"#m5b4bebe21f\" y=\"228.91433\"/>\r\n     <use style=\"fill:#1f77b4;stroke:#1f77b4;\" x=\"140.550257\" xlink:href=\"#m5b4bebe21f\" y=\"227.714131\"/>\r\n     <use style=\"fill:#1f77b4;stroke:#1f77b4;\" x=\"148.9997\" xlink:href=\"#m5b4bebe21f\" y=\"226.994012\"/>\r\n     <use style=\"fill:#1f77b4;stroke:#1f77b4;\" x=\"207.594751\" xlink:href=\"#m5b4bebe21f\" y=\"228.55427\"/>\r\n     <use style=\"fill:#1f77b4;stroke:#1f77b4;\" x=\"152.12232\" xlink:href=\"#m5b4bebe21f\" y=\"227.354071\"/>\r\n     <use style=\"fill:#1f77b4;stroke:#1f77b4;\" x=\"182.981156\" xlink:href=\"#m5b4bebe21f\" y=\"227.594111\"/>\r\n     <use style=\"fill:#1f77b4;stroke:#1f77b4;\" x=\"171.77646\" xlink:href=\"#m5b4bebe21f\" y=\"226.633952\"/>\r\n     <use style=\"fill:#1f77b4;stroke:#1f77b4;\" x=\"161.673865\" xlink:href=\"#m5b4bebe21f\" y=\"226.994012\"/>\r\n     <use style=\"fill:#1f77b4;stroke:#1f77b4;\" x=\"109.691421\" xlink:href=\"#m5b4bebe21f\" y=\"229.394409\"/>\r\n     <use style=\"fill:#1f77b4;stroke:#1f77b4;\" x=\"128.610826\" xlink:href=\"#m5b4bebe21f\" y=\"228.31423\"/>\r\n     <use style=\"fill:#1f77b4;stroke:#1f77b4;\" x=\"130.815029\" xlink:href=\"#m5b4bebe21f\" y=\"229.03435\"/>\r\n     <use style=\"fill:#1f77b4;stroke:#1f77b4;\" x=\"135.039751\" xlink:href=\"#m5b4bebe21f\" y=\"228.074191\"/>\r\n     <use style=\"fill:#1f77b4;stroke:#1f77b4;\" x=\"162.775966\" xlink:href=\"#m5b4bebe21f\" y=\"226.633952\"/>\r\n     <use style=\"fill:#1f77b4;stroke:#1f77b4;\" x=\"206.125283\" xlink:href=\"#m5b4bebe21f\" y=\"225.433753\"/>\r\n     <use style=\"fill:#1f77b4;stroke:#1f77b4;\" x=\"150.285485\" xlink:href=\"#m5b4bebe21f\" y=\"228.074191\"/>\r\n     <use style=\"fill:#1f77b4;stroke:#1f77b4;\" x=\"184.450625\" xlink:href=\"#m5b4bebe21f\" y=\"226.273893\"/>\r\n     <use style=\"fill:#1f77b4;stroke:#1f77b4;\" x=\"156.163358\" xlink:href=\"#m5b4bebe21f\" y=\"226.513932\"/>\r\n     <use style=\"fill:#1f77b4;stroke:#1f77b4;\" x=\"127.692409\" xlink:href=\"#m5b4bebe21f\" y=\"226.633952\"/>\r\n     <use style=\"fill:#1f77b4;stroke:#1f77b4;\" x=\"139.080789\" xlink:href=\"#m5b4bebe21f\" y=\"228.19421\"/>\r\n     <use style=\"fill:#1f77b4;stroke:#1f77b4;\" x=\"155.612308\" xlink:href=\"#m5b4bebe21f\" y=\"223.993515\"/>\r\n     <use style=\"fill:#1f77b4;stroke:#1f77b4;\" x=\"165.347536\" xlink:href=\"#m5b4bebe21f\" y=\"227.954171\"/>\r\n     <use style=\"fill:#1f77b4;stroke:#1f77b4;\" x=\"128.79451\" xlink:href=\"#m5b4bebe21f\" y=\"228.67429\"/>\r\n     <use style=\"fill:#1f77b4;stroke:#1f77b4;\" x=\"175.450131\" xlink:href=\"#m5b4bebe21f\" y=\"227.114032\"/>\r\n     <use style=\"fill:#1f77b4;stroke:#1f77b4;\" x=\"185.001675\" xlink:href=\"#m5b4bebe21f\" y=\"226.633952\"/>\r\n     <use style=\"fill:#1f77b4;stroke:#1f77b4;\" x=\"346.459513\" xlink:href=\"#m5b4bebe21f\" y=\"40.003053\"/>\r\n     <use style=\"fill:#1f77b4;stroke:#1f77b4;\" x=\"151.754953\" xlink:href=\"#m5b4bebe21f\" y=\"224.833654\"/>\r\n     <use style=\"fill:#1f77b4;stroke:#1f77b4;\" x=\"126.039257\" xlink:href=\"#m5b4bebe21f\" y=\"227.954171\"/>\r\n     <use style=\"fill:#1f77b4;stroke:#1f77b4;\" x=\"131.733447\" xlink:href=\"#m5b4bebe21f\" y=\"228.79431\"/>\r\n     <use style=\"fill:#1f77b4;stroke:#1f77b4;\" x=\"201.533194\" xlink:href=\"#m5b4bebe21f\" y=\"225.673793\"/>\r\n     <use style=\"fill:#1f77b4;stroke:#1f77b4;\" x=\"182.613789\" xlink:href=\"#m5b4bebe21f\" y=\"224.593614\"/>\r\n     <use style=\"fill:#1f77b4;stroke:#1f77b4;\" x=\"148.081282\" xlink:href=\"#m5b4bebe21f\" y=\"228.31423\"/>\r\n     <use style=\"fill:#1f77b4;stroke:#1f77b4;\" x=\"125.67189\" xlink:href=\"#m5b4bebe21f\" y=\"229.274389\"/>\r\n     <use style=\"fill:#1f77b4;stroke:#1f77b4;\" x=\"166.633321\" xlink:href=\"#m5b4bebe21f\" y=\"227.474091\"/>\r\n     <use style=\"fill:#1f77b4;stroke:#1f77b4;\" x=\"158.367561\" xlink:href=\"#m5b4bebe21f\" y=\"226.513932\"/>\r\n     <use style=\"fill:#1f77b4;stroke:#1f77b4;\" x=\"124.202421\" xlink:href=\"#m5b4bebe21f\" y=\"228.31423\"/>\r\n     <use style=\"fill:#1f77b4;stroke:#1f77b4;\" x=\"133.753966\" xlink:href=\"#m5b4bebe21f\" y=\"227.834151\"/>\r\n     <use style=\"fill:#1f77b4;stroke:#1f77b4;\" x=\"172.143827\" xlink:href=\"#m5b4bebe21f\" y=\"216.432263\"/>\r\n     <use style=\"fill:#1f77b4;stroke:#1f77b4;\" x=\"284.374474\" xlink:href=\"#m5b4bebe21f\" y=\"225.073694\"/>\r\n     <use style=\"fill:#1f77b4;stroke:#1f77b4;\" x=\"141.836042\" xlink:href=\"#m5b4bebe21f\" y=\"228.31423\"/>\r\n     <use style=\"fill:#1f77b4;stroke:#1f77b4;\" x=\"175.266447\" xlink:href=\"#m5b4bebe21f\" y=\"228.31423\"/>\r\n     <use style=\"fill:#1f77b4;stroke:#1f77b4;\" x=\"134.4887\" xlink:href=\"#m5b4bebe21f\" y=\"229.394409\"/>\r\n     <use style=\"fill:#1f77b4;stroke:#1f77b4;\" x=\"131.549763\" xlink:href=\"#m5b4bebe21f\" y=\"229.754469\"/>\r\n     <use style=\"fill:#1f77b4;stroke:#1f77b4;\" x=\"182.430106\" xlink:href=\"#m5b4bebe21f\" y=\"227.234051\"/>\r\n     <use style=\"fill:#1f77b4;stroke:#1f77b4;\" x=\"121.814535\" xlink:href=\"#m5b4bebe21f\" y=\"227.954171\"/>\r\n     <use style=\"fill:#1f77b4;stroke:#1f77b4;\" x=\"128.427143\" xlink:href=\"#m5b4bebe21f\" y=\"229.154369\"/>\r\n     <use style=\"fill:#1f77b4;stroke:#1f77b4;\" x=\"121.447168\" xlink:href=\"#m5b4bebe21f\" y=\"228.91433\"/>\r\n     <use style=\"fill:#1f77b4;stroke:#1f77b4;\" x=\"151.020219\" xlink:href=\"#m5b4bebe21f\" y=\"228.43425\"/>\r\n     <use style=\"fill:#1f77b4;stroke:#1f77b4;\" x=\"141.101308\" xlink:href=\"#m5b4bebe21f\" y=\"228.074191\"/>\r\n     <use style=\"fill:#1f77b4;stroke:#1f77b4;\" x=\"132.835548\" xlink:href=\"#m5b4bebe21f\" y=\"229.514429\"/>\r\n     <use style=\"fill:#1f77b4;stroke:#1f77b4;\" x=\"210.533688\" xlink:href=\"#m5b4bebe21f\" y=\"225.913833\"/>\r\n     <use style=\"fill:#1f77b4;stroke:#1f77b4;\" x=\"131.549763\" xlink:href=\"#m5b4bebe21f\" y=\"229.154369\"/>\r\n     <use style=\"fill:#1f77b4;stroke:#1f77b4;\" x=\"142.570776\" xlink:href=\"#m5b4bebe21f\" y=\"228.91433\"/>\r\n     <use style=\"fill:#1f77b4;stroke:#1f77b4;\" x=\"166.633321\" xlink:href=\"#m5b4bebe21f\" y=\"228.43425\"/>\r\n     <use style=\"fill:#1f77b4;stroke:#1f77b4;\" x=\"115.936662\" xlink:href=\"#m5b4bebe21f\" y=\"228.074191\"/>\r\n     <use style=\"fill:#1f77b4;stroke:#1f77b4;\" x=\"138.529738\" xlink:href=\"#m5b4bebe21f\" y=\"228.55427\"/>\r\n     <use style=\"fill:#1f77b4;stroke:#1f77b4;\" x=\"178.756435\" xlink:href=\"#m5b4bebe21f\" y=\"226.633952\"/>\r\n     <use style=\"fill:#1f77b4;stroke:#1f77b4;\" x=\"142.019725\" xlink:href=\"#m5b4bebe21f\" y=\"228.91433\"/>\r\n     <use style=\"fill:#1f77b4;stroke:#1f77b4;\" x=\"140.18289\" xlink:href=\"#m5b4bebe21f\" y=\"229.274389\"/>\r\n     <use style=\"fill:#1f77b4;stroke:#1f77b4;\" x=\"162.775966\" xlink:href=\"#m5b4bebe21f\" y=\"228.31423\"/>\r\n     <use style=\"fill:#1f77b4;stroke:#1f77b4;\" x=\"114.834561\" xlink:href=\"#m5b4bebe21f\" y=\"229.03435\"/>\r\n     <use style=\"fill:#1f77b4;stroke:#1f77b4;\" x=\"219.534182\" xlink:href=\"#m5b4bebe21f\" y=\"220.392919\"/>\r\n     <use style=\"fill:#1f77b4;stroke:#1f77b4;\" x=\"212.18684\" xlink:href=\"#m5b4bebe21f\" y=\"163.023421\"/>\r\n     <use style=\"fill:#1f77b4;stroke:#1f77b4;\" x=\"121.447168\" xlink:href=\"#m5b4bebe21f\" y=\"228.55427\"/>\r\n     <use style=\"fill:#1f77b4;stroke:#1f77b4;\" x=\"148.632333\" xlink:href=\"#m5b4bebe21f\" y=\"227.714131\"/>\r\n     <use style=\"fill:#1f77b4;stroke:#1f77b4;\" x=\"125.304523\" xlink:href=\"#m5b4bebe21f\" y=\"228.43425\"/>\r\n     <use style=\"fill:#1f77b4;stroke:#1f77b4;\" x=\"175.633814\" xlink:href=\"#m5b4bebe21f\" y=\"227.954171\"/>\r\n     <use style=\"fill:#1f77b4;stroke:#1f77b4;\" x=\"135.590801\" xlink:href=\"#m5b4bebe21f\" y=\"229.03435\"/>\r\n     <use style=\"fill:#1f77b4;stroke:#1f77b4;\" x=\"174.715397\" xlink:href=\"#m5b4bebe21f\" y=\"227.474091\"/>\r\n     <use style=\"fill:#1f77b4;stroke:#1f77b4;\" x=\"134.305016\" xlink:href=\"#m5b4bebe21f\" y=\"227.834151\"/>\r\n     <use style=\"fill:#1f77b4;stroke:#1f77b4;\" x=\"140.18289\" xlink:href=\"#m5b4bebe21f\" y=\"227.114032\"/>\r\n     <use style=\"fill:#1f77b4;stroke:#1f77b4;\" x=\"132.468181\" xlink:href=\"#m5b4bebe21f\" y=\"228.43425\"/>\r\n     <use style=\"fill:#1f77b4;stroke:#1f77b4;\" x=\"116.85508\" xlink:href=\"#m5b4bebe21f\" y=\"229.754469\"/>\r\n     <use style=\"fill:#1f77b4;stroke:#1f77b4;\" x=\"149.918118\" xlink:href=\"#m5b4bebe21f\" y=\"228.43425\"/>\r\n     <use style=\"fill:#1f77b4;stroke:#1f77b4;\" x=\"132.835548\" xlink:href=\"#m5b4bebe21f\" y=\"229.154369\"/>\r\n     <use style=\"fill:#1f77b4;stroke:#1f77b4;\" x=\"142.75446\" xlink:href=\"#m5b4bebe21f\" y=\"228.91433\"/>\r\n     <use style=\"fill:#1f77b4;stroke:#1f77b4;\" x=\"169.939624\" xlink:href=\"#m5b4bebe21f\" y=\"228.19421\"/>\r\n     <use style=\"fill:#1f77b4;stroke:#1f77b4;\" x=\"119.426649\" xlink:href=\"#m5b4bebe21f\" y=\"228.67429\"/>\r\n     <use style=\"fill:#1f77b4;stroke:#1f77b4;\" x=\"123.284004\" xlink:href=\"#m5b4bebe21f\" y=\"229.03435\"/>\r\n     <use style=\"fill:#1f77b4;stroke:#1f77b4;\" x=\"152.12232\" xlink:href=\"#m5b4bebe21f\" y=\"228.19421\"/>\r\n     <use style=\"fill:#1f77b4;stroke:#1f77b4;\" x=\"119.242966\" xlink:href=\"#m5b4bebe21f\" y=\"229.514429\"/>\r\n     <use style=\"fill:#1f77b4;stroke:#1f77b4;\" x=\"169.939624\" xlink:href=\"#m5b4bebe21f\" y=\"226.153873\"/>\r\n     <use style=\"fill:#1f77b4;stroke:#1f77b4;\" x=\"130.080295\" xlink:href=\"#m5b4bebe21f\" y=\"228.91433\"/>\r\n     <use style=\"fill:#1f77b4;stroke:#1f77b4;\" x=\"133.937649\" xlink:href=\"#m5b4bebe21f\" y=\"228.074191\"/>\r\n     <use style=\"fill:#1f77b4;stroke:#1f77b4;\" x=\"146.244447\" xlink:href=\"#m5b4bebe21f\" y=\"229.514429\"/>\r\n     <use style=\"fill:#1f77b4;stroke:#1f77b4;\" x=\"148.448649\" xlink:href=\"#m5b4bebe21f\" y=\"229.03435\"/>\r\n     <use style=\"fill:#1f77b4;stroke:#1f77b4;\" x=\"137.61132\" xlink:href=\"#m5b4bebe21f\" y=\"226.633952\"/>\r\n     <use style=\"fill:#1f77b4;stroke:#1f77b4;\" x=\"135.407118\" xlink:href=\"#m5b4bebe21f\" y=\"229.754469\"/>\r\n     <use style=\"fill:#1f77b4;stroke:#1f77b4;\" x=\"147.713915\" xlink:href=\"#m5b4bebe21f\" y=\"229.154369\"/>\r\n     <use style=\"fill:#1f77b4;stroke:#1f77b4;\" x=\"145.326029\" xlink:href=\"#m5b4bebe21f\" y=\"228.91433\"/>\r\n     <use style=\"fill:#1f77b4;stroke:#1f77b4;\" x=\"137.795004\" xlink:href=\"#m5b4bebe21f\" y=\"229.394409\"/>\r\n     <use style=\"fill:#1f77b4;stroke:#1f77b4;\" x=\"153.224422\" xlink:href=\"#m5b4bebe21f\" y=\"228.19421\"/>\r\n     <use style=\"fill:#1f77b4;stroke:#1f77b4;\" x=\"144.040244\" xlink:href=\"#m5b4bebe21f\" y=\"228.79431\"/>\r\n     <use style=\"fill:#1f77b4;stroke:#1f77b4;\" x=\"120.52875\" xlink:href=\"#m5b4bebe21f\" y=\"228.074191\"/>\r\n     <use style=\"fill:#1f77b4;stroke:#1f77b4;\" x=\"120.896118\" xlink:href=\"#m5b4bebe21f\" y=\"228.67429\"/>\r\n     <use style=\"fill:#1f77b4;stroke:#1f77b4;\" x=\"140.550257\" xlink:href=\"#m5b4bebe21f\" y=\"228.55427\"/>\r\n     <use style=\"fill:#1f77b4;stroke:#1f77b4;\" x=\"128.427143\" xlink:href=\"#m5b4bebe21f\" y=\"229.514429\"/>\r\n     <use style=\"fill:#1f77b4;stroke:#1f77b4;\" x=\"117.038763\" xlink:href=\"#m5b4bebe21f\" y=\"229.03435\"/>\r\n     <use style=\"fill:#1f77b4;stroke:#1f77b4;\" x=\"131.733447\" xlink:href=\"#m5b4bebe21f\" y=\"228.91433\"/>\r\n     <use style=\"fill:#1f77b4;stroke:#1f77b4;\" x=\"120.52875\" xlink:href=\"#m5b4bebe21f\" y=\"229.394409\"/>\r\n     <use style=\"fill:#1f77b4;stroke:#1f77b4;\" x=\"142.938143\" xlink:href=\"#m5b4bebe21f\" y=\"228.91433\"/>\r\n     <use style=\"fill:#1f77b4;stroke:#1f77b4;\" x=\"134.4887\" xlink:href=\"#m5b4bebe21f\" y=\"229.274389\"/>\r\n     <use style=\"fill:#1f77b4;stroke:#1f77b4;\" x=\"136.509219\" xlink:href=\"#m5b4bebe21f\" y=\"229.394409\"/>\r\n     <use style=\"fill:#1f77b4;stroke:#1f77b4;\" x=\"141.836042\" xlink:href=\"#m5b4bebe21f\" y=\"228.31423\"/>\r\n     <use style=\"fill:#1f77b4;stroke:#1f77b4;\" x=\"150.836536\" xlink:href=\"#m5b4bebe21f\" y=\"227.714131\"/>\r\n     <use style=\"fill:#1f77b4;stroke:#1f77b4;\" x=\"135.407118\" xlink:href=\"#m5b4bebe21f\" y=\"229.394409\"/>\r\n     <use style=\"fill:#1f77b4;stroke:#1f77b4;\" x=\"127.876092\" xlink:href=\"#m5b4bebe21f\" y=\"228.43425\"/>\r\n     <use style=\"fill:#1f77b4;stroke:#1f77b4;\" x=\"154.69389\" xlink:href=\"#m5b4bebe21f\" y=\"227.354071\"/>\r\n     <use style=\"fill:#1f77b4;stroke:#1f77b4;\" x=\"150.469169\" xlink:href=\"#m5b4bebe21f\" y=\"227.354071\"/>\r\n     <use style=\"fill:#1f77b4;stroke:#1f77b4;\" x=\"129.529244\" xlink:href=\"#m5b4bebe21f\" y=\"228.91433\"/>\r\n     <use style=\"fill:#1f77b4;stroke:#1f77b4;\" x=\"137.61132\" xlink:href=\"#m5b4bebe21f\" y=\"227.474091\"/>\r\n     <use style=\"fill:#1f77b4;stroke:#1f77b4;\" x=\"166.265953\" xlink:href=\"#m5b4bebe21f\" y=\"228.67429\"/>\r\n     <use style=\"fill:#1f77b4;stroke:#1f77b4;\" x=\"130.263978\" xlink:href=\"#m5b4bebe21f\" y=\"227.234051\"/>\r\n     <use style=\"fill:#1f77b4;stroke:#1f77b4;\" x=\"135.407118\" xlink:href=\"#m5b4bebe21f\" y=\"227.714131\"/>\r\n     <use style=\"fill:#1f77b4;stroke:#1f77b4;\" x=\"115.201928\" xlink:href=\"#m5b4bebe21f\" y=\"229.754469\"/>\r\n     <use style=\"fill:#1f77b4;stroke:#1f77b4;\" x=\"127.325042\" xlink:href=\"#m5b4bebe21f\" y=\"229.274389\"/>\r\n     <use style=\"fill:#1f77b4;stroke:#1f77b4;\" x=\"128.059776\" xlink:href=\"#m5b4bebe21f\" y=\"229.03435\"/>\r\n     <use style=\"fill:#1f77b4;stroke:#1f77b4;\" x=\"123.10032\" xlink:href=\"#m5b4bebe21f\" y=\"229.274389\"/>\r\n     <use style=\"fill:#1f77b4;stroke:#1f77b4;\" x=\"135.774485\" xlink:href=\"#m5b4bebe21f\" y=\"229.03435\"/>\r\n     <use style=\"fill:#1f77b4;stroke:#1f77b4;\" x=\"135.223434\" xlink:href=\"#m5b4bebe21f\" y=\"228.67429\"/>\r\n     <use style=\"fill:#1f77b4;stroke:#1f77b4;\" x=\"102.160396\" xlink:href=\"#m5b4bebe21f\" y=\"229.394409\"/>\r\n     <use style=\"fill:#1f77b4;stroke:#1f77b4;\" x=\"98.119358\" xlink:href=\"#m5b4bebe21f\" y=\"229.634449\"/>\r\n     <use style=\"fill:#1f77b4;stroke:#1f77b4;\" x=\"118.140864\" xlink:href=\"#m5b4bebe21f\" y=\"228.79431\"/>\r\n     <use style=\"fill:#1f77b4;stroke:#1f77b4;\" x=\"114.099826\" xlink:href=\"#m5b4bebe21f\" y=\"228.91433\"/>\r\n     <use style=\"fill:#1f77b4;stroke:#1f77b4;\" x=\"111.895624\" xlink:href=\"#m5b4bebe21f\" y=\"229.274389\"/>\r\n     <use style=\"fill:#1f77b4;stroke:#1f77b4;\" x=\"114.28351\" xlink:href=\"#m5b4bebe21f\" y=\"229.03435\"/>\r\n     <use style=\"fill:#1f77b4;stroke:#1f77b4;\" x=\"106.385117\" xlink:href=\"#m5b4bebe21f\" y=\"228.91433\"/>\r\n     <use style=\"fill:#1f77b4;stroke:#1f77b4;\" x=\"114.650877\" xlink:href=\"#m5b4bebe21f\" y=\"229.274389\"/>\r\n     <use style=\"fill:#1f77b4;stroke:#1f77b4;\" x=\"108.405636\" xlink:href=\"#m5b4bebe21f\" y=\"227.354071\"/>\r\n     <use style=\"fill:#1f77b4;stroke:#1f77b4;\" x=\"93.710953\" xlink:href=\"#m5b4bebe21f\" y=\"229.394409\"/>\r\n     <use style=\"fill:#1f77b4;stroke:#1f77b4;\" x=\"102.527763\" xlink:href=\"#m5b4bebe21f\" y=\"228.43425\"/>\r\n     <use style=\"fill:#1f77b4;stroke:#1f77b4;\" x=\"128.243459\" xlink:href=\"#m5b4bebe21f\" y=\"227.474091\"/>\r\n     <use style=\"fill:#1f77b4;stroke:#1f77b4;\" x=\"115.752978\" xlink:href=\"#m5b4bebe21f\" y=\"228.19421\"/>\r\n     <use style=\"fill:#1f77b4;stroke:#1f77b4;\" x=\"136.509219\" xlink:href=\"#m5b4bebe21f\" y=\"221.833157\"/>\r\n     <use style=\"fill:#1f77b4;stroke:#1f77b4;\" x=\"96.466206\" xlink:href=\"#m5b4bebe21f\" y=\"229.394409\"/>\r\n     <use style=\"fill:#1f77b4;stroke:#1f77b4;\" x=\"112.446674\" xlink:href=\"#m5b4bebe21f\" y=\"228.43425\"/>\r\n     <use style=\"fill:#1f77b4;stroke:#1f77b4;\" x=\"158.734928\" xlink:href=\"#m5b4bebe21f\" y=\"226.513932\"/>\r\n     <use style=\"fill:#1f77b4;stroke:#1f77b4;\" x=\"111.16089\" xlink:href=\"#m5b4bebe21f\" y=\"229.03435\"/>\r\n     <use style=\"fill:#1f77b4;stroke:#1f77b4;\" x=\"114.650877\" xlink:href=\"#m5b4bebe21f\" y=\"227.954171\"/>\r\n     <use style=\"fill:#1f77b4;stroke:#1f77b4;\" x=\"92.792535\" xlink:href=\"#m5b4bebe21f\" y=\"228.55427\"/>\r\n     <use style=\"fill:#1f77b4;stroke:#1f77b4;\" x=\"110.058788\" xlink:href=\"#m5b4bebe21f\" y=\"229.154369\"/>\r\n     <use style=\"fill:#1f77b4;stroke:#1f77b4;\" x=\"110.977206\" xlink:href=\"#m5b4bebe21f\" y=\"228.79431\"/>\r\n     <use style=\"fill:#1f77b4;stroke:#1f77b4;\" x=\"89.118864\" xlink:href=\"#m5b4bebe21f\" y=\"229.634449\"/>\r\n     <use style=\"fill:#1f77b4;stroke:#1f77b4;\" x=\"110.793522\" xlink:href=\"#m5b4bebe21f\" y=\"228.43425\"/>\r\n     <use style=\"fill:#1f77b4;stroke:#1f77b4;\" x=\"115.385611\" xlink:href=\"#m5b4bebe21f\" y=\"229.03435\"/>\r\n     <use style=\"fill:#1f77b4;stroke:#1f77b4;\" x=\"117.957181\" xlink:href=\"#m5b4bebe21f\" y=\"229.514429\"/>\r\n     <use style=\"fill:#1f77b4;stroke:#1f77b4;\" x=\"105.099333\" xlink:href=\"#m5b4bebe21f\" y=\"229.274389\"/>\r\n     <use style=\"fill:#1f77b4;stroke:#1f77b4;\" x=\"111.895624\" xlink:href=\"#m5b4bebe21f\" y=\"228.67429\"/>\r\n     <use style=\"fill:#1f77b4;stroke:#1f77b4;\" x=\"95.731472\" xlink:href=\"#m5b4bebe21f\" y=\"229.394409\"/>\r\n     <use style=\"fill:#1f77b4;stroke:#1f77b4;\" x=\"111.528257\" xlink:href=\"#m5b4bebe21f\" y=\"228.31423\"/>\r\n     <use style=\"fill:#1f77b4;stroke:#1f77b4;\" x=\"95.731472\" xlink:href=\"#m5b4bebe21f\" y=\"229.03435\"/>\r\n     <use style=\"fill:#1f77b4;stroke:#1f77b4;\" x=\"111.528257\" xlink:href=\"#m5b4bebe21f\" y=\"228.79431\"/>\r\n     <use style=\"fill:#1f77b4;stroke:#1f77b4;\" x=\"110.977206\" xlink:href=\"#m5b4bebe21f\" y=\"229.394409\"/>\r\n     <use style=\"fill:#1f77b4;stroke:#1f77b4;\" x=\"108.405636\" xlink:href=\"#m5b4bebe21f\" y=\"228.43425\"/>\r\n     <use style=\"fill:#1f77b4;stroke:#1f77b4;\" x=\"99.221459\" xlink:href=\"#m5b4bebe21f\" y=\"229.154369\"/>\r\n     <use style=\"fill:#1f77b4;stroke:#1f77b4;\" x=\"112.814041\" xlink:href=\"#m5b4bebe21f\" y=\"229.154369\"/>\r\n     <use style=\"fill:#1f77b4;stroke:#1f77b4;\" x=\"102.344079\" xlink:href=\"#m5b4bebe21f\" y=\"229.154369\"/>\r\n     <use style=\"fill:#1f77b4;stroke:#1f77b4;\" x=\"105.834067\" xlink:href=\"#m5b4bebe21f\" y=\"228.31423\"/>\r\n     <use style=\"fill:#1f77b4;stroke:#1f77b4;\" x=\"107.670902\" xlink:href=\"#m5b4bebe21f\" y=\"228.67429\"/>\r\n     <use style=\"fill:#1f77b4;stroke:#1f77b4;\" x=\"101.609345\" xlink:href=\"#m5b4bebe21f\" y=\"229.754469\"/>\r\n     <use style=\"fill:#1f77b4;stroke:#1f77b4;\" x=\"95.731472\" xlink:href=\"#m5b4bebe21f\" y=\"229.274389\"/>\r\n     <use style=\"fill:#1f77b4;stroke:#1f77b4;\" x=\"115.569295\" xlink:href=\"#m5b4bebe21f\" y=\"228.55427\"/>\r\n     <use style=\"fill:#1f77b4;stroke:#1f77b4;\" x=\"99.956193\" xlink:href=\"#m5b4bebe21f\" y=\"228.67429\"/>\r\n     <use style=\"fill:#1f77b4;stroke:#1f77b4;\" x=\"113.365092\" xlink:href=\"#m5b4bebe21f\" y=\"227.834151\"/>\r\n     <use style=\"fill:#1f77b4;stroke:#1f77b4;\" x=\"98.486725\" xlink:href=\"#m5b4bebe21f\" y=\"228.31423\"/>\r\n     <use style=\"fill:#1f77b4;stroke:#1f77b4;\" x=\"95.915155\" xlink:href=\"#m5b4bebe21f\" y=\"228.67429\"/>\r\n     <use style=\"fill:#1f77b4;stroke:#1f77b4;\" x=\"109.875105\" xlink:href=\"#m5b4bebe21f\" y=\"228.19421\"/>\r\n     <use style=\"fill:#1f77b4;stroke:#1f77b4;\" x=\"100.690927\" xlink:href=\"#m5b4bebe21f\" y=\"228.19421\"/>\r\n     <use style=\"fill:#1f77b4;stroke:#1f77b4;\" x=\"106.201434\" xlink:href=\"#m5b4bebe21f\" y=\"228.074191\"/>\r\n     <use style=\"fill:#1f77b4;stroke:#1f77b4;\" x=\"100.874611\" xlink:href=\"#m5b4bebe21f\" y=\"228.79431\"/>\r\n     <use style=\"fill:#1f77b4;stroke:#1f77b4;\" x=\"104.364598\" xlink:href=\"#m5b4bebe21f\" y=\"227.954171\"/>\r\n     <use style=\"fill:#1f77b4;stroke:#1f77b4;\" x=\"96.098839\" xlink:href=\"#m5b4bebe21f\" y=\"228.074191\"/>\r\n     <use style=\"fill:#1f77b4;stroke:#1f77b4;\" x=\"99.405143\" xlink:href=\"#m5b4bebe21f\" y=\"229.274389\"/>\r\n     <use style=\"fill:#1f77b4;stroke:#1f77b4;\" x=\"109.140371\" xlink:href=\"#m5b4bebe21f\" y=\"228.67429\"/>\r\n     <use style=\"fill:#1f77b4;stroke:#1f77b4;\" x=\"102.344079\" xlink:href=\"#m5b4bebe21f\" y=\"228.79431\"/>\r\n     <use style=\"fill:#1f77b4;stroke:#1f77b4;\" x=\"96.282522\" xlink:href=\"#m5b4bebe21f\" y=\"229.754469\"/>\r\n     <use style=\"fill:#1f77b4;stroke:#1f77b4;\" x=\"97.935674\" xlink:href=\"#m5b4bebe21f\" y=\"229.154369\"/>\r\n     <use style=\"fill:#1f77b4;stroke:#1f77b4;\" x=\"105.099333\" xlink:href=\"#m5b4bebe21f\" y=\"228.91433\"/>\r\n     <use style=\"fill:#1f77b4;stroke:#1f77b4;\" x=\"99.037776\" xlink:href=\"#m5b4bebe21f\" y=\"228.91433\"/>\r\n     <use style=\"fill:#1f77b4;stroke:#1f77b4;\" x=\"105.283016\" xlink:href=\"#m5b4bebe21f\" y=\"228.19421\"/>\r\n     <use style=\"fill:#1f77b4;stroke:#1f77b4;\" x=\"99.956193\" xlink:href=\"#m5b4bebe21f\" y=\"228.55427\"/>\r\n     <use style=\"fill:#1f77b4;stroke:#1f77b4;\" x=\"94.445687\" xlink:href=\"#m5b4bebe21f\" y=\"229.514429\"/>\r\n     <use style=\"fill:#1f77b4;stroke:#1f77b4;\" x=\"102.344079\" xlink:href=\"#m5b4bebe21f\" y=\"228.31423\"/>\r\n     <use style=\"fill:#1f77b4;stroke:#1f77b4;\" x=\"88.567813\" xlink:href=\"#m5b4bebe21f\" y=\"228.67429\"/>\r\n     <use style=\"fill:#1f77b4;stroke:#1f77b4;\" x=\"88.016763\" xlink:href=\"#m5b4bebe21f\" y=\"229.754469\"/>\r\n     <use style=\"fill:#1f77b4;stroke:#1f77b4;\" x=\"93.343586\" xlink:href=\"#m5b4bebe21f\" y=\"229.274389\"/>\r\n     <use style=\"fill:#1f77b4;stroke:#1f77b4;\" x=\"99.221459\" xlink:href=\"#m5b4bebe21f\" y=\"228.67429\"/>\r\n     <use style=\"fill:#1f77b4;stroke:#1f77b4;\" x=\"98.486725\" xlink:href=\"#m5b4bebe21f\" y=\"229.03435\"/>\r\n     <use style=\"fill:#1f77b4;stroke:#1f77b4;\" x=\"91.323067\" xlink:href=\"#m5b4bebe21f\" y=\"229.03435\"/>\r\n     <use style=\"fill:#1f77b4;stroke:#1f77b4;\" x=\"88.38413\" xlink:href=\"#m5b4bebe21f\" y=\"229.274389\"/>\r\n     <use style=\"fill:#1f77b4;stroke:#1f77b4;\" x=\"85.628877\" xlink:href=\"#m5b4bebe21f\" y=\"229.754469\"/>\r\n     <use style=\"fill:#1f77b4;stroke:#1f77b4;\" x=\"83.424674\" xlink:href=\"#m5b4bebe21f\" y=\"229.03435\"/>\r\n     <use style=\"fill:#1f77b4;stroke:#1f77b4;\" x=\"92.608851\" xlink:href=\"#m5b4bebe21f\" y=\"229.03435\"/>\r\n     <use style=\"fill:#1f77b4;stroke:#1f77b4;\" x=\"89.853598\" xlink:href=\"#m5b4bebe21f\" y=\"228.91433\"/>\r\n     <use style=\"fill:#1f77b4;stroke:#1f77b4;\" x=\"101.425662\" xlink:href=\"#m5b4bebe21f\" y=\"228.19421\"/>\r\n     <use style=\"fill:#1f77b4;stroke:#1f77b4;\" x=\"86.363611\" xlink:href=\"#m5b4bebe21f\" y=\"229.634449\"/>\r\n     <use style=\"fill:#1f77b4;stroke:#1f77b4;\" x=\"87.282029\" xlink:href=\"#m5b4bebe21f\" y=\"229.274389\"/>\r\n     <use style=\"fill:#1f77b4;stroke:#1f77b4;\" x=\"88.93518\" xlink:href=\"#m5b4bebe21f\" y=\"229.394409\"/>\r\n     <use style=\"fill:#1f77b4;stroke:#1f77b4;\" x=\"88.751497\" xlink:href=\"#m5b4bebe21f\" y=\"229.874489\"/>\r\n     <use style=\"fill:#1f77b4;stroke:#1f77b4;\" x=\"89.302548\" xlink:href=\"#m5b4bebe21f\" y=\"229.874489\"/>\r\n     <use style=\"fill:#1f77b4;stroke:#1f77b4;\" x=\"95.731472\" xlink:href=\"#m5b4bebe21f\" y=\"228.55427\"/>\r\n     <use style=\"fill:#1f77b4;stroke:#1f77b4;\" x=\"89.486231\" xlink:href=\"#m5b4bebe21f\" y=\"229.274389\"/>\r\n     <use style=\"fill:#1f77b4;stroke:#1f77b4;\" x=\"87.833079\" xlink:href=\"#m5b4bebe21f\" y=\"229.634449\"/>\r\n     <use style=\"fill:#1f77b4;stroke:#1f77b4;\" x=\"89.853598\" xlink:href=\"#m5b4bebe21f\" y=\"229.634449\"/>\r\n     <use style=\"fill:#1f77b4;stroke:#1f77b4;\" x=\"91.139383\" xlink:href=\"#m5b4bebe21f\" y=\"229.154369\"/>\r\n     <use style=\"fill:#1f77b4;stroke:#1f77b4;\" x=\"84.894142\" xlink:href=\"#m5b4bebe21f\" y=\"228.67429\"/>\r\n     <use style=\"fill:#1f77b4;stroke:#1f77b4;\" x=\"87.465712\" xlink:href=\"#m5b4bebe21f\" y=\"229.634449\"/>\r\n     <use style=\"fill:#1f77b4;stroke:#1f77b4;\" x=\"89.118864\" xlink:href=\"#m5b4bebe21f\" y=\"229.03435\"/>\r\n     <use style=\"fill:#1f77b4;stroke:#1f77b4;\" x=\"90.404649\" xlink:href=\"#m5b4bebe21f\" y=\"229.634449\"/>\r\n     <use style=\"fill:#1f77b4;stroke:#1f77b4;\" x=\"87.649396\" xlink:href=\"#m5b4bebe21f\" y=\"229.274389\"/>\r\n     <use style=\"fill:#1f77b4;stroke:#1f77b4;\" x=\"85.81256\" xlink:href=\"#m5b4bebe21f\" y=\"229.874489\"/>\r\n     <use style=\"fill:#1f77b4;stroke:#1f77b4;\" x=\"90.955699\" xlink:href=\"#m5b4bebe21f\" y=\"228.79431\"/>\r\n     <use style=\"fill:#1f77b4;stroke:#1f77b4;\" x=\"88.016763\" xlink:href=\"#m5b4bebe21f\" y=\"229.634449\"/>\r\n     <use style=\"fill:#1f77b4;stroke:#1f77b4;\" x=\"94.813054\" xlink:href=\"#m5b4bebe21f\" y=\"227.354071\"/>\r\n     <use style=\"fill:#1f77b4;stroke:#1f77b4;\" x=\"86.914661\" xlink:href=\"#m5b4bebe21f\" y=\"229.394409\"/>\r\n     <use style=\"fill:#1f77b4;stroke:#1f77b4;\" x=\"81.220472\" xlink:href=\"#m5b4bebe21f\" y=\"229.634449\"/>\r\n     <use style=\"fill:#1f77b4;stroke:#1f77b4;\" x=\"88.93518\" xlink:href=\"#m5b4bebe21f\" y=\"229.03435\"/>\r\n     <use style=\"fill:#1f77b4;stroke:#1f77b4;\" x=\"86.914661\" xlink:href=\"#m5b4bebe21f\" y=\"228.91433\"/>\r\n     <use style=\"fill:#1f77b4;stroke:#1f77b4;\" x=\"89.669915\" xlink:href=\"#m5b4bebe21f\" y=\"229.394409\"/>\r\n     <use style=\"fill:#1f77b4;stroke:#1f77b4;\" x=\"90.220965\" xlink:href=\"#m5b4bebe21f\" y=\"227.834151\"/>\r\n     <use style=\"fill:#1f77b4;stroke:#1f77b4;\" x=\"84.894142\" xlink:href=\"#m5b4bebe21f\" y=\"229.274389\"/>\r\n     <use style=\"fill:#1f77b4;stroke:#1f77b4;\" x=\"88.016763\" xlink:href=\"#m5b4bebe21f\" y=\"229.154369\"/>\r\n     <use style=\"fill:#1f77b4;stroke:#1f77b4;\" x=\"81.955206\" xlink:href=\"#m5b4bebe21f\" y=\"229.754469\"/>\r\n     <use style=\"fill:#1f77b4;stroke:#1f77b4;\" x=\"85.077826\" xlink:href=\"#m5b4bebe21f\" y=\"229.514429\"/>\r\n     <use style=\"fill:#1f77b4;stroke:#1f77b4;\" x=\"87.649396\" xlink:href=\"#m5b4bebe21f\" y=\"229.754469\"/>\r\n     <use style=\"fill:#1f77b4;stroke:#1f77b4;\" x=\"82.322573\" xlink:href=\"#m5b4bebe21f\" y=\"229.874489\"/>\r\n     <use style=\"fill:#1f77b4;stroke:#1f77b4;\" x=\"83.608358\" xlink:href=\"#m5b4bebe21f\" y=\"229.754469\"/>\r\n     <use style=\"fill:#1f77b4;stroke:#1f77b4;\" x=\"84.526775\" xlink:href=\"#m5b4bebe21f\" y=\"229.394409\"/>\r\n     <use style=\"fill:#1f77b4;stroke:#1f77b4;\" x=\"83.792041\" xlink:href=\"#m5b4bebe21f\" y=\"229.154369\"/>\r\n     <use style=\"fill:#1f77b4;stroke:#1f77b4;\" x=\"82.506256\" xlink:href=\"#m5b4bebe21f\" y=\"229.634449\"/>\r\n     <use style=\"fill:#1f77b4;stroke:#1f77b4;\" x=\"83.424674\" xlink:href=\"#m5b4bebe21f\" y=\"229.634449\"/>\r\n     <use style=\"fill:#1f77b4;stroke:#1f77b4;\" x=\"86.179927\" xlink:href=\"#m5b4bebe21f\" y=\"229.634449\"/>\r\n     <use style=\"fill:#1f77b4;stroke:#1f77b4;\" x=\"90.404649\" xlink:href=\"#m5b4bebe21f\" y=\"228.55427\"/>\r\n     <use style=\"fill:#1f77b4;stroke:#1f77b4;\" x=\"91.323067\" xlink:href=\"#m5b4bebe21f\" y=\"227.714131\"/>\r\n     <use style=\"fill:#1f77b4;stroke:#1f77b4;\" x=\"80.669421\" xlink:href=\"#m5b4bebe21f\" y=\"229.634449\"/>\r\n     <use style=\"fill:#1f77b4;stroke:#1f77b4;\" x=\"78.465218\" xlink:href=\"#m5b4bebe21f\" y=\"229.514429\"/>\r\n     <use style=\"fill:#1f77b4;stroke:#1f77b4;\" x=\"81.955206\" xlink:href=\"#m5b4bebe21f\" y=\"229.634449\"/>\r\n     <use style=\"fill:#1f77b4;stroke:#1f77b4;\" x=\"79.016269\" xlink:href=\"#m5b4bebe21f\" y=\"229.874489\"/>\r\n     <use style=\"fill:#1f77b4;stroke:#1f77b4;\" x=\"82.68994\" xlink:href=\"#m5b4bebe21f\" y=\"229.394409\"/>\r\n     <use style=\"fill:#1f77b4;stroke:#1f77b4;\" x=\"84.159408\" xlink:href=\"#m5b4bebe21f\" y=\"229.394409\"/>\r\n     <use style=\"fill:#1f77b4;stroke:#1f77b4;\" x=\"81.771522\" xlink:href=\"#m5b4bebe21f\" y=\"229.754469\"/>\r\n     <use style=\"fill:#1f77b4;stroke:#1f77b4;\" x=\"83.792041\" xlink:href=\"#m5b4bebe21f\" y=\"228.67429\"/>\r\n     <use style=\"fill:#1f77b4;stroke:#1f77b4;\" x=\"81.220472\" xlink:href=\"#m5b4bebe21f\" y=\"229.874489\"/>\r\n     <use style=\"fill:#1f77b4;stroke:#1f77b4;\" x=\"82.68994\" xlink:href=\"#m5b4bebe21f\" y=\"229.154369\"/>\r\n     <use style=\"fill:#1f77b4;stroke:#1f77b4;\" x=\"83.975725\" xlink:href=\"#m5b4bebe21f\" y=\"229.394409\"/>\r\n     <use style=\"fill:#1f77b4;stroke:#1f77b4;\" x=\"80.302054\" xlink:href=\"#m5b4bebe21f\" y=\"229.874489\"/>\r\n     <use style=\"fill:#1f77b4;stroke:#1f77b4;\" x=\"78.832585\" xlink:href=\"#m5b4bebe21f\" y=\"229.754469\"/>\r\n     <use style=\"fill:#1f77b4;stroke:#1f77b4;\" x=\"82.68994\" xlink:href=\"#m5b4bebe21f\" y=\"229.754469\"/>\r\n     <use style=\"fill:#1f77b4;stroke:#1f77b4;\" x=\"79.56732\" xlink:href=\"#m5b4bebe21f\" y=\"229.634449\"/>\r\n     <use style=\"fill:#1f77b4;stroke:#1f77b4;\" x=\"81.404155\" xlink:href=\"#m5b4bebe21f\" y=\"228.43425\"/>\r\n     <use style=\"fill:#1f77b4;stroke:#1f77b4;\" x=\"75.709965\" xlink:href=\"#m5b4bebe21f\" y=\"229.634449\"/>\r\n     <use style=\"fill:#1f77b4;stroke:#1f77b4;\" x=\"80.11837\" xlink:href=\"#m5b4bebe21f\" y=\"229.394409\"/>\r\n     <use style=\"fill:#1f77b4;stroke:#1f77b4;\" x=\"80.485737\" xlink:href=\"#m5b4bebe21f\" y=\"229.394409\"/>\r\n     <use style=\"fill:#1f77b4;stroke:#1f77b4;\" x=\"74.975231\" xlink:href=\"#m5b4bebe21f\" y=\"229.754469\"/>\r\n     <use style=\"fill:#1f77b4;stroke:#1f77b4;\" x=\"79.016269\" xlink:href=\"#m5b4bebe21f\" y=\"229.874489\"/>\r\n     <use style=\"fill:#1f77b4;stroke:#1f77b4;\" x=\"78.097851\" xlink:href=\"#m5b4bebe21f\" y=\"229.874489\"/>\r\n     <use style=\"fill:#1f77b4;stroke:#1f77b4;\" x=\"80.853104\" xlink:href=\"#m5b4bebe21f\" y=\"228.79431\"/>\r\n     <use style=\"fill:#1f77b4;stroke:#1f77b4;\" x=\"79.751003\" xlink:href=\"#m5b4bebe21f\" y=\"229.754469\"/>\r\n     <use style=\"fill:#1f77b4;stroke:#1f77b4;\" x=\"79.934687\" xlink:href=\"#m5b4bebe21f\" y=\"229.754469\"/>\r\n     <use style=\"fill:#1f77b4;stroke:#1f77b4;\" x=\"82.138889\" xlink:href=\"#m5b4bebe21f\" y=\"229.274389\"/>\r\n     <use style=\"fill:#1f77b4;stroke:#1f77b4;\" x=\"78.648902\" xlink:href=\"#m5b4bebe21f\" y=\"229.274389\"/>\r\n     <use style=\"fill:#1f77b4;stroke:#1f77b4;\" x=\"78.648902\" xlink:href=\"#m5b4bebe21f\" y=\"229.514429\"/>\r\n     <use style=\"fill:#1f77b4;stroke:#1f77b4;\" x=\"77.914168\" xlink:href=\"#m5b4bebe21f\" y=\"229.754469\"/>\r\n     <use style=\"fill:#1f77b4;stroke:#1f77b4;\" x=\"79.199953\" xlink:href=\"#m5b4bebe21f\" y=\"229.754469\"/>\r\n     <use style=\"fill:#1f77b4;stroke:#1f77b4;\" x=\"84.710459\" xlink:href=\"#m5b4bebe21f\" y=\"229.514429\"/>\r\n     <use style=\"fill:#1f77b4;stroke:#1f77b4;\" x=\"76.812066\" xlink:href=\"#m5b4bebe21f\" y=\"229.634449\"/>\r\n     <use style=\"fill:#1f77b4;stroke:#1f77b4;\" x=\"74.791547\" xlink:href=\"#m5b4bebe21f\" y=\"229.634449\"/>\r\n     <use style=\"fill:#1f77b4;stroke:#1f77b4;\" x=\"76.261016\" xlink:href=\"#m5b4bebe21f\" y=\"229.754469\"/>\r\n     <use style=\"fill:#1f77b4;stroke:#1f77b4;\" x=\"77.730484\" xlink:href=\"#m5b4bebe21f\" y=\"229.874489\"/>\r\n     <use style=\"fill:#1f77b4;stroke:#1f77b4;\" x=\"73.138395\" xlink:href=\"#m5b4bebe21f\" y=\"229.754469\"/>\r\n     <use style=\"fill:#1f77b4;stroke:#1f77b4;\" x=\"74.607864\" xlink:href=\"#m5b4bebe21f\" y=\"229.634449\"/>\r\n     <use style=\"fill:#1f77b4;stroke:#1f77b4;\" x=\"76.99575\" xlink:href=\"#m5b4bebe21f\" y=\"229.634449\"/>\r\n     <use style=\"fill:#1f77b4;stroke:#1f77b4;\" x=\"78.832585\" xlink:href=\"#m5b4bebe21f\" y=\"229.03435\"/>\r\n     <use style=\"fill:#1f77b4;stroke:#1f77b4;\" x=\"73.505763\" xlink:href=\"#m5b4bebe21f\" y=\"229.514429\"/>\r\n     <use style=\"fill:#1f77b4;stroke:#1f77b4;\" x=\"74.791547\" xlink:href=\"#m5b4bebe21f\" y=\"229.634449\"/>\r\n     <use style=\"fill:#1f77b4;stroke:#1f77b4;\" x=\"74.975231\" xlink:href=\"#m5b4bebe21f\" y=\"229.754469\"/>\r\n     <use style=\"fill:#1f77b4;stroke:#1f77b4;\" x=\"78.097851\" xlink:href=\"#m5b4bebe21f\" y=\"229.154369\"/>\r\n     <use style=\"fill:#1f77b4;stroke:#1f77b4;\" x=\"75.893649\" xlink:href=\"#m5b4bebe21f\" y=\"229.514429\"/>\r\n     <use style=\"fill:#1f77b4;stroke:#1f77b4;\" x=\"77.546801\" xlink:href=\"#m5b4bebe21f\" y=\"229.514429\"/>\r\n     <use style=\"fill:#1f77b4;stroke:#1f77b4;\" x=\"78.281535\" xlink:href=\"#m5b4bebe21f\" y=\"229.754469\"/>\r\n     <use style=\"fill:#1f77b4;stroke:#1f77b4;\" x=\"75.342598\" xlink:href=\"#m5b4bebe21f\" y=\"229.634449\"/>\r\n     <use style=\"fill:#1f77b4;stroke:#1f77b4;\" x=\"77.363117\" xlink:href=\"#m5b4bebe21f\" y=\"229.394409\"/>\r\n     <use style=\"fill:#1f77b4;stroke:#1f77b4;\" x=\"74.056813\" xlink:href=\"#m5b4bebe21f\" y=\"229.874489\"/>\r\n     <use style=\"fill:#1f77b4;stroke:#1f77b4;\" x=\"74.791547\" xlink:href=\"#m5b4bebe21f\" y=\"229.874489\"/>\r\n     <use style=\"fill:#1f77b4;stroke:#1f77b4;\" x=\"75.158914\" xlink:href=\"#m5b4bebe21f\" y=\"229.754469\"/>\r\n     <use style=\"fill:#1f77b4;stroke:#1f77b4;\" x=\"72.036294\" xlink:href=\"#m5b4bebe21f\" y=\"229.874489\"/>\r\n     <use style=\"fill:#1f77b4;stroke:#1f77b4;\" x=\"74.240497\" xlink:href=\"#m5b4bebe21f\" y=\"229.514429\"/>\r\n     <use style=\"fill:#1f77b4;stroke:#1f77b4;\" x=\"75.526282\" xlink:href=\"#m5b4bebe21f\" y=\"229.514429\"/>\r\n     <use style=\"fill:#1f77b4;stroke:#1f77b4;\" x=\"77.546801\" xlink:href=\"#m5b4bebe21f\" y=\"229.514429\"/>\r\n     <use style=\"fill:#1f77b4;stroke:#1f77b4;\" x=\"74.607864\" xlink:href=\"#m5b4bebe21f\" y=\"229.634449\"/>\r\n     <use style=\"fill:#1f77b4;stroke:#1f77b4;\" x=\"77.363117\" xlink:href=\"#m5b4bebe21f\" y=\"229.754469\"/>\r\n     <use style=\"fill:#1f77b4;stroke:#1f77b4;\" x=\"76.444699\" xlink:href=\"#m5b4bebe21f\" y=\"229.754469\"/>\r\n     <use style=\"fill:#1f77b4;stroke:#1f77b4;\" x=\"74.240497\" xlink:href=\"#m5b4bebe21f\" y=\"229.634449\"/>\r\n     <use style=\"fill:#1f77b4;stroke:#1f77b4;\" x=\"74.056813\" xlink:href=\"#m5b4bebe21f\" y=\"229.874489\"/>\r\n     <use style=\"fill:#1f77b4;stroke:#1f77b4;\" x=\"75.342598\" xlink:href=\"#m5b4bebe21f\" y=\"229.874489\"/>\r\n     <use style=\"fill:#1f77b4;stroke:#1f77b4;\" x=\"75.342598\" xlink:href=\"#m5b4bebe21f\" y=\"229.634449\"/>\r\n     <use style=\"fill:#1f77b4;stroke:#1f77b4;\" x=\"75.709965\" xlink:href=\"#m5b4bebe21f\" y=\"229.754469\"/>\r\n     <use style=\"fill:#1f77b4;stroke:#1f77b4;\" x=\"72.587345\" xlink:href=\"#m5b4bebe21f\" y=\"229.754469\"/>\r\n     <use style=\"fill:#1f77b4;stroke:#1f77b4;\" x=\"77.363117\" xlink:href=\"#m5b4bebe21f\" y=\"229.634449\"/>\r\n     <use style=\"fill:#1f77b4;stroke:#1f77b4;\" x=\"72.587345\" xlink:href=\"#m5b4bebe21f\" y=\"229.874489\"/>\r\n     <use style=\"fill:#1f77b4;stroke:#1f77b4;\" x=\"75.158914\" xlink:href=\"#m5b4bebe21f\" y=\"229.634449\"/>\r\n     <use style=\"fill:#1f77b4;stroke:#1f77b4;\" x=\"72.219978\" xlink:href=\"#m5b4bebe21f\" y=\"229.874489\"/>\r\n     <use style=\"fill:#1f77b4;stroke:#1f77b4;\" x=\"71.485244\" xlink:href=\"#m5b4bebe21f\" y=\"229.874489\"/>\r\n     <use style=\"fill:#1f77b4;stroke:#1f77b4;\" x=\"73.689446\" xlink:href=\"#m5b4bebe21f\" y=\"229.874489\"/>\r\n     <use style=\"fill:#1f77b4;stroke:#1f77b4;\" x=\"72.771028\" xlink:href=\"#m5b4bebe21f\" y=\"229.874489\"/>\r\n     <use style=\"fill:#1f77b4;stroke:#1f77b4;\" x=\"84.526775\" xlink:href=\"#m5b4bebe21f\" y=\"228.074191\"/>\r\n     <use style=\"fill:#1f77b4;stroke:#1f77b4;\" x=\"72.036294\" xlink:href=\"#m5b4bebe21f\" y=\"229.874489\"/>\r\n     <use style=\"fill:#1f77b4;stroke:#1f77b4;\" x=\"74.975231\" xlink:href=\"#m5b4bebe21f\" y=\"229.874489\"/>\r\n     <use style=\"fill:#1f77b4;stroke:#1f77b4;\" x=\"72.219978\" xlink:href=\"#m5b4bebe21f\" y=\"229.874489\"/>\r\n     <use style=\"fill:#1f77b4;stroke:#1f77b4;\" x=\"71.485244\" xlink:href=\"#m5b4bebe21f\" y=\"229.754469\"/>\r\n     <use style=\"fill:#1f77b4;stroke:#1f77b4;\" x=\"73.689446\" xlink:href=\"#m5b4bebe21f\" y=\"229.874489\"/>\r\n     <use style=\"fill:#1f77b4;stroke:#1f77b4;\" x=\"73.505763\" xlink:href=\"#m5b4bebe21f\" y=\"229.874489\"/>\r\n     <use style=\"fill:#1f77b4;stroke:#1f77b4;\" x=\"72.587345\" xlink:href=\"#m5b4bebe21f\" y=\"229.154369\"/>\r\n     <use style=\"fill:#1f77b4;stroke:#1f77b4;\" x=\"71.117876\" xlink:href=\"#m5b4bebe21f\" y=\"229.514429\"/>\r\n     <use style=\"fill:#1f77b4;stroke:#1f77b4;\" x=\"73.138395\" xlink:href=\"#m5b4bebe21f\" y=\"229.514429\"/>\r\n     <use style=\"fill:#1f77b4;stroke:#1f77b4;\" x=\"73.505763\" xlink:href=\"#m5b4bebe21f\" y=\"229.754469\"/>\r\n     <use style=\"fill:#1f77b4;stroke:#1f77b4;\" x=\"74.056813\" xlink:href=\"#m5b4bebe21f\" y=\"229.514429\"/>\r\n     <use style=\"fill:#1f77b4;stroke:#1f77b4;\" x=\"73.87313\" xlink:href=\"#m5b4bebe21f\" y=\"229.394409\"/>\r\n     <use style=\"fill:#1f77b4;stroke:#1f77b4;\" x=\"75.158914\" xlink:href=\"#m5b4bebe21f\" y=\"229.754469\"/>\r\n     <use style=\"fill:#1f77b4;stroke:#1f77b4;\" x=\"71.668927\" xlink:href=\"#m5b4bebe21f\" y=\"229.754469\"/>\r\n     <use style=\"fill:#1f77b4;stroke:#1f77b4;\" x=\"79.934687\" xlink:href=\"#m5b4bebe21f\" y=\"229.274389\"/>\r\n     <use style=\"fill:#1f77b4;stroke:#1f77b4;\" x=\"71.668927\" xlink:href=\"#m5b4bebe21f\" y=\"229.514429\"/>\r\n     <use style=\"fill:#1f77b4;stroke:#1f77b4;\" x=\"72.403661\" xlink:href=\"#m5b4bebe21f\" y=\"229.154369\"/>\r\n     <use style=\"fill:#1f77b4;stroke:#1f77b4;\" x=\"75.342598\" xlink:href=\"#m5b4bebe21f\" y=\"229.514429\"/>\r\n     <use style=\"fill:#1f77b4;stroke:#1f77b4;\" x=\"74.791547\" xlink:href=\"#m5b4bebe21f\" y=\"229.394409\"/>\r\n     <use style=\"fill:#1f77b4;stroke:#1f77b4;\" x=\"73.322079\" xlink:href=\"#m5b4bebe21f\" y=\"229.754469\"/>\r\n     <use style=\"fill:#1f77b4;stroke:#1f77b4;\" x=\"71.668927\" xlink:href=\"#m5b4bebe21f\" y=\"229.514429\"/>\r\n     <use style=\"fill:#1f77b4;stroke:#1f77b4;\" x=\"74.056813\" xlink:href=\"#m5b4bebe21f\" y=\"229.514429\"/>\r\n     <use style=\"fill:#1f77b4;stroke:#1f77b4;\" x=\"73.138395\" xlink:href=\"#m5b4bebe21f\" y=\"229.874489\"/>\r\n     <use style=\"fill:#1f77b4;stroke:#1f77b4;\" x=\"69.097357\" xlink:href=\"#m5b4bebe21f\" y=\"229.634449\"/>\r\n     <use style=\"fill:#1f77b4;stroke:#1f77b4;\" x=\"72.036294\" xlink:href=\"#m5b4bebe21f\" y=\"229.874489\"/>\r\n     <use style=\"fill:#1f77b4;stroke:#1f77b4;\" x=\"73.689446\" xlink:href=\"#m5b4bebe21f\" y=\"229.874489\"/>\r\n     <use style=\"fill:#1f77b4;stroke:#1f77b4;\" x=\"70.383142\" xlink:href=\"#m5b4bebe21f\" y=\"229.514429\"/>\r\n     <use style=\"fill:#1f77b4;stroke:#1f77b4;\" x=\"100.139877\" xlink:href=\"#m5b4bebe21f\" y=\"228.55427\"/>\r\n     <use style=\"fill:#1f77b4;stroke:#1f77b4;\" x=\"69.464725\" xlink:href=\"#m5b4bebe21f\" y=\"229.754469\"/>\r\n     <use style=\"fill:#1f77b4;stroke:#1f77b4;\" x=\"71.852611\" xlink:href=\"#m5b4bebe21f\" y=\"229.874489\"/>\r\n     <use style=\"fill:#1f77b4;stroke:#1f77b4;\" x=\"70.750509\" xlink:href=\"#m5b4bebe21f\" y=\"229.274389\"/>\r\n     <use style=\"fill:#1f77b4;stroke:#1f77b4;\" x=\"73.689446\" xlink:href=\"#m5b4bebe21f\" y=\"229.634449\"/>\r\n     <use style=\"fill:#1f77b4;stroke:#1f77b4;\" x=\"73.138395\" xlink:href=\"#m5b4bebe21f\" y=\"229.874489\"/>\r\n     <use style=\"fill:#1f77b4;stroke:#1f77b4;\" x=\"69.648408\" xlink:href=\"#m5b4bebe21f\" y=\"229.874489\"/>\r\n     <use style=\"fill:#1f77b4;stroke:#1f77b4;\" x=\"72.587345\" xlink:href=\"#m5b4bebe21f\" y=\"229.754469\"/>\r\n     <use style=\"fill:#1f77b4;stroke:#1f77b4;\" x=\"71.30156\" xlink:href=\"#m5b4bebe21f\" y=\"229.754469\"/>\r\n     <use style=\"fill:#1f77b4;stroke:#1f77b4;\" x=\"72.036294\" xlink:href=\"#m5b4bebe21f\" y=\"229.874489\"/>\r\n     <use style=\"fill:#1f77b4;stroke:#1f77b4;\" x=\"72.036294\" xlink:href=\"#m5b4bebe21f\" y=\"229.874489\"/>\r\n     <use style=\"fill:#1f77b4;stroke:#1f77b4;\" x=\"72.036294\" xlink:href=\"#m5b4bebe21f\" y=\"229.874489\"/>\r\n     <use style=\"fill:#1f77b4;stroke:#1f77b4;\" x=\"71.30156\" xlink:href=\"#m5b4bebe21f\" y=\"229.874489\"/>\r\n     <use style=\"fill:#1f77b4;stroke:#1f77b4;\" x=\"70.750509\" xlink:href=\"#m5b4bebe21f\" y=\"229.874489\"/>\r\n     <use style=\"fill:#1f77b4;stroke:#1f77b4;\" x=\"69.832092\" xlink:href=\"#m5b4bebe21f\" y=\"229.754469\"/>\r\n     <use style=\"fill:#1f77b4;stroke:#1f77b4;\" x=\"70.566826\" xlink:href=\"#m5b4bebe21f\" y=\"229.874489\"/>\r\n     <use style=\"fill:#1f77b4;stroke:#1f77b4;\" x=\"71.30156\" xlink:href=\"#m5b4bebe21f\" y=\"229.754469\"/>\r\n     <use style=\"fill:#1f77b4;stroke:#1f77b4;\" x=\"70.934193\" xlink:href=\"#m5b4bebe21f\" y=\"229.874489\"/>\r\n     <use style=\"fill:#1f77b4;stroke:#1f77b4;\" x=\"72.403661\" xlink:href=\"#m5b4bebe21f\" y=\"229.514429\"/>\r\n     <use style=\"fill:#1f77b4;stroke:#1f77b4;\" x=\"70.566826\" xlink:href=\"#m5b4bebe21f\" y=\"229.874489\"/>\r\n     <use style=\"fill:#1f77b4;stroke:#1f77b4;\" x=\"71.668927\" xlink:href=\"#m5b4bebe21f\" y=\"229.634449\"/>\r\n     <use style=\"fill:#1f77b4;stroke:#1f77b4;\" x=\"70.015775\" xlink:href=\"#m5b4bebe21f\" y=\"229.874489\"/>\r\n     <use style=\"fill:#1f77b4;stroke:#1f77b4;\" x=\"70.566826\" xlink:href=\"#m5b4bebe21f\" y=\"229.874489\"/>\r\n     <use style=\"fill:#1f77b4;stroke:#1f77b4;\" x=\"71.485244\" xlink:href=\"#m5b4bebe21f\" y=\"229.874489\"/>\r\n     <use style=\"fill:#1f77b4;stroke:#1f77b4;\" x=\"73.322079\" xlink:href=\"#m5b4bebe21f\" y=\"229.874489\"/>\r\n     <use style=\"fill:#1f77b4;stroke:#1f77b4;\" x=\"70.750509\" xlink:href=\"#m5b4bebe21f\" y=\"229.874489\"/>\r\n     <use style=\"fill:#1f77b4;stroke:#1f77b4;\" x=\"69.281041\" xlink:href=\"#m5b4bebe21f\" y=\"229.754469\"/>\r\n     <use style=\"fill:#1f77b4;stroke:#1f77b4;\" x=\"69.281041\" xlink:href=\"#m5b4bebe21f\" y=\"229.634449\"/>\r\n     <use style=\"fill:#1f77b4;stroke:#1f77b4;\" x=\"70.383142\" xlink:href=\"#m5b4bebe21f\" y=\"229.754469\"/>\r\n     <use style=\"fill:#1f77b4;stroke:#1f77b4;\" x=\"72.036294\" xlink:href=\"#m5b4bebe21f\" y=\"229.634449\"/>\r\n     <use style=\"fill:#1f77b4;stroke:#1f77b4;\" x=\"70.566826\" xlink:href=\"#m5b4bebe21f\" y=\"229.874489\"/>\r\n     <use style=\"fill:#1f77b4;stroke:#1f77b4;\" x=\"73.138395\" xlink:href=\"#m5b4bebe21f\" y=\"229.874489\"/>\r\n     <use style=\"fill:#1f77b4;stroke:#1f77b4;\" x=\"73.322079\" xlink:href=\"#m5b4bebe21f\" y=\"229.874489\"/>\r\n     <use style=\"fill:#1f77b4;stroke:#1f77b4;\" x=\"75.342598\" xlink:href=\"#m5b4bebe21f\" y=\"229.514429\"/>\r\n     <use style=\"fill:#1f77b4;stroke:#1f77b4;\" x=\"72.954712\" xlink:href=\"#m5b4bebe21f\" y=\"229.874489\"/>\r\n     <use style=\"fill:#1f77b4;stroke:#1f77b4;\" x=\"70.566826\" xlink:href=\"#m5b4bebe21f\" y=\"229.874489\"/>\r\n     <use style=\"fill:#1f77b4;stroke:#1f77b4;\" x=\"71.852611\" xlink:href=\"#m5b4bebe21f\" y=\"229.874489\"/>\r\n     <use style=\"fill:#1f77b4;stroke:#1f77b4;\" x=\"72.403661\" xlink:href=\"#m5b4bebe21f\" y=\"229.634449\"/>\r\n     <use style=\"fill:#1f77b4;stroke:#1f77b4;\" x=\"75.342598\" xlink:href=\"#m5b4bebe21f\" y=\"229.874489\"/>\r\n     <use style=\"fill:#1f77b4;stroke:#1f77b4;\" x=\"69.097357\" xlink:href=\"#m5b4bebe21f\" y=\"229.874489\"/>\r\n     <use style=\"fill:#1f77b4;stroke:#1f77b4;\" x=\"74.42418\" xlink:href=\"#m5b4bebe21f\" y=\"229.874489\"/>\r\n     <use style=\"fill:#1f77b4;stroke:#1f77b4;\" x=\"74.056813\" xlink:href=\"#m5b4bebe21f\" y=\"229.514429\"/>\r\n     <use style=\"fill:#1f77b4;stroke:#1f77b4;\" x=\"74.056813\" xlink:href=\"#m5b4bebe21f\" y=\"229.394409\"/>\r\n     <use style=\"fill:#1f77b4;stroke:#1f77b4;\" x=\"71.852611\" xlink:href=\"#m5b4bebe21f\" y=\"229.874489\"/>\r\n     <use style=\"fill:#1f77b4;stroke:#1f77b4;\" x=\"72.954712\" xlink:href=\"#m5b4bebe21f\" y=\"229.634449\"/>\r\n     <use style=\"fill:#1f77b4;stroke:#1f77b4;\" x=\"75.158914\" xlink:href=\"#m5b4bebe21f\" y=\"229.874489\"/>\r\n     <use style=\"fill:#1f77b4;stroke:#1f77b4;\" x=\"71.117876\" xlink:href=\"#m5b4bebe21f\" y=\"229.874489\"/>\r\n     <use style=\"fill:#1f77b4;stroke:#1f77b4;\" x=\"75.342598\" xlink:href=\"#m5b4bebe21f\" y=\"229.394409\"/>\r\n     <use style=\"fill:#1f77b4;stroke:#1f77b4;\" x=\"71.117876\" xlink:href=\"#m5b4bebe21f\" y=\"229.634449\"/>\r\n     <use style=\"fill:#1f77b4;stroke:#1f77b4;\" x=\"72.403661\" xlink:href=\"#m5b4bebe21f\" y=\"229.274389\"/>\r\n     <use style=\"fill:#1f77b4;stroke:#1f77b4;\" x=\"72.036294\" xlink:href=\"#m5b4bebe21f\" y=\"229.874489\"/>\r\n     <use style=\"fill:#1f77b4;stroke:#1f77b4;\" x=\"72.587345\" xlink:href=\"#m5b4bebe21f\" y=\"229.874489\"/>\r\n     <use style=\"fill:#1f77b4;stroke:#1f77b4;\" x=\"72.771028\" xlink:href=\"#m5b4bebe21f\" y=\"229.394409\"/>\r\n     <use style=\"fill:#1f77b4;stroke:#1f77b4;\" x=\"72.587345\" xlink:href=\"#m5b4bebe21f\" y=\"229.874489\"/>\r\n     <use style=\"fill:#1f77b4;stroke:#1f77b4;\" x=\"72.036294\" xlink:href=\"#m5b4bebe21f\" y=\"229.754469\"/>\r\n     <use style=\"fill:#1f77b4;stroke:#1f77b4;\" x=\"72.771028\" xlink:href=\"#m5b4bebe21f\" y=\"229.874489\"/>\r\n     <use style=\"fill:#1f77b4;stroke:#1f77b4;\" x=\"71.30156\" xlink:href=\"#m5b4bebe21f\" y=\"229.394409\"/>\r\n     <use style=\"fill:#1f77b4;stroke:#1f77b4;\" x=\"73.322079\" xlink:href=\"#m5b4bebe21f\" y=\"228.55427\"/>\r\n     <use style=\"fill:#1f77b4;stroke:#1f77b4;\" x=\"73.138395\" xlink:href=\"#m5b4bebe21f\" y=\"229.154369\"/>\r\n     <use style=\"fill:#1f77b4;stroke:#1f77b4;\" x=\"74.240497\" xlink:href=\"#m5b4bebe21f\" y=\"229.874489\"/>\r\n     <use style=\"fill:#1f77b4;stroke:#1f77b4;\" x=\"73.138395\" xlink:href=\"#m5b4bebe21f\" y=\"229.514429\"/>\r\n     <use style=\"fill:#1f77b4;stroke:#1f77b4;\" x=\"70.199459\" xlink:href=\"#m5b4bebe21f\" y=\"229.394409\"/>\r\n     <use style=\"fill:#1f77b4;stroke:#1f77b4;\" x=\"71.668927\" xlink:href=\"#m5b4bebe21f\" y=\"229.874489\"/>\r\n     <use style=\"fill:#1f77b4;stroke:#1f77b4;\" x=\"72.954712\" xlink:href=\"#m5b4bebe21f\" y=\"229.874489\"/>\r\n     <use style=\"fill:#1f77b4;stroke:#1f77b4;\" x=\"71.852611\" xlink:href=\"#m5b4bebe21f\" y=\"229.874489\"/>\r\n     <use style=\"fill:#1f77b4;stroke:#1f77b4;\" x=\"71.30156\" xlink:href=\"#m5b4bebe21f\" y=\"229.874489\"/>\r\n     <use style=\"fill:#1f77b4;stroke:#1f77b4;\" x=\"71.668927\" xlink:href=\"#m5b4bebe21f\" y=\"229.394409\"/>\r\n     <use style=\"fill:#1f77b4;stroke:#1f77b4;\" x=\"69.097357\" xlink:href=\"#m5b4bebe21f\" y=\"229.874489\"/>\r\n     <use style=\"fill:#1f77b4;stroke:#1f77b4;\" x=\"70.015775\" xlink:href=\"#m5b4bebe21f\" y=\"229.874489\"/>\r\n     <use style=\"fill:#1f77b4;stroke:#1f77b4;\" x=\"71.852611\" xlink:href=\"#m5b4bebe21f\" y=\"229.634449\"/>\r\n     <use style=\"fill:#1f77b4;stroke:#1f77b4;\" x=\"72.403661\" xlink:href=\"#m5b4bebe21f\" y=\"229.874489\"/>\r\n     <use style=\"fill:#1f77b4;stroke:#1f77b4;\" x=\"70.383142\" xlink:href=\"#m5b4bebe21f\" y=\"229.634449\"/>\r\n     <use style=\"fill:#1f77b4;stroke:#1f77b4;\" x=\"72.771028\" xlink:href=\"#m5b4bebe21f\" y=\"229.514429\"/>\r\n     <use style=\"fill:#1f77b4;stroke:#1f77b4;\" x=\"69.281041\" xlink:href=\"#m5b4bebe21f\" y=\"229.874489\"/>\r\n     <use style=\"fill:#1f77b4;stroke:#1f77b4;\" x=\"72.036294\" xlink:href=\"#m5b4bebe21f\" y=\"229.274389\"/>\r\n     <use style=\"fill:#1f77b4;stroke:#1f77b4;\" x=\"70.750509\" xlink:href=\"#m5b4bebe21f\" y=\"229.874489\"/>\r\n     <use style=\"fill:#1f77b4;stroke:#1f77b4;\" x=\"72.036294\" xlink:href=\"#m5b4bebe21f\" y=\"229.874489\"/>\r\n     <use style=\"fill:#1f77b4;stroke:#1f77b4;\" x=\"71.117876\" xlink:href=\"#m5b4bebe21f\" y=\"229.874489\"/>\r\n     <use style=\"fill:#1f77b4;stroke:#1f77b4;\" x=\"72.036294\" xlink:href=\"#m5b4bebe21f\" y=\"229.754469\"/>\r\n     <use style=\"fill:#1f77b4;stroke:#1f77b4;\" x=\"71.30156\" xlink:href=\"#m5b4bebe21f\" y=\"229.874489\"/>\r\n     <use style=\"fill:#1f77b4;stroke:#1f77b4;\" x=\"70.934193\" xlink:href=\"#m5b4bebe21f\" y=\"229.874489\"/>\r\n     <use style=\"fill:#1f77b4;stroke:#1f77b4;\" x=\"70.566826\" xlink:href=\"#m5b4bebe21f\" y=\"229.394409\"/>\r\n     <use style=\"fill:#1f77b4;stroke:#1f77b4;\" x=\"72.403661\" xlink:href=\"#m5b4bebe21f\" y=\"229.874489\"/>\r\n     <use style=\"fill:#1f77b4;stroke:#1f77b4;\" x=\"70.383142\" xlink:href=\"#m5b4bebe21f\" y=\"229.874489\"/>\r\n     <use style=\"fill:#1f77b4;stroke:#1f77b4;\" x=\"72.403661\" xlink:href=\"#m5b4bebe21f\" y=\"229.634449\"/>\r\n     <use style=\"fill:#1f77b4;stroke:#1f77b4;\" x=\"70.199459\" xlink:href=\"#m5b4bebe21f\" y=\"229.874489\"/>\r\n     <use style=\"fill:#1f77b4;stroke:#1f77b4;\" x=\"72.219978\" xlink:href=\"#m5b4bebe21f\" y=\"229.634449\"/>\r\n     <use style=\"fill:#1f77b4;stroke:#1f77b4;\" x=\"72.403661\" xlink:href=\"#m5b4bebe21f\" y=\"229.634449\"/>\r\n     <use style=\"fill:#1f77b4;stroke:#1f77b4;\" x=\"71.30156\" xlink:href=\"#m5b4bebe21f\" y=\"229.874489\"/>\r\n     <use style=\"fill:#1f77b4;stroke:#1f77b4;\" x=\"70.383142\" xlink:href=\"#m5b4bebe21f\" y=\"229.754469\"/>\r\n     <use style=\"fill:#1f77b4;stroke:#1f77b4;\" x=\"72.771028\" xlink:href=\"#m5b4bebe21f\" y=\"229.394409\"/>\r\n     <use style=\"fill:#1f77b4;stroke:#1f77b4;\" x=\"72.587345\" xlink:href=\"#m5b4bebe21f\" y=\"229.394409\"/>\r\n     <use style=\"fill:#1f77b4;stroke:#1f77b4;\" x=\"72.036294\" xlink:href=\"#m5b4bebe21f\" y=\"229.874489\"/>\r\n     <use style=\"fill:#1f77b4;stroke:#1f77b4;\" x=\"72.771028\" xlink:href=\"#m5b4bebe21f\" y=\"229.634449\"/>\r\n     <use style=\"fill:#1f77b4;stroke:#1f77b4;\" x=\"70.199459\" xlink:href=\"#m5b4bebe21f\" y=\"229.874489\"/>\r\n     <use style=\"fill:#1f77b4;stroke:#1f77b4;\" x=\"71.30156\" xlink:href=\"#m5b4bebe21f\" y=\"229.634449\"/>\r\n     <use style=\"fill:#1f77b4;stroke:#1f77b4;\" x=\"71.30156\" xlink:href=\"#m5b4bebe21f\" y=\"229.634449\"/>\r\n     <use style=\"fill:#1f77b4;stroke:#1f77b4;\" x=\"72.036294\" xlink:href=\"#m5b4bebe21f\" y=\"229.634449\"/>\r\n     <use style=\"fill:#1f77b4;stroke:#1f77b4;\" x=\"70.566826\" xlink:href=\"#m5b4bebe21f\" y=\"229.634449\"/>\r\n     <use style=\"fill:#1f77b4;stroke:#1f77b4;\" x=\"72.587345\" xlink:href=\"#m5b4bebe21f\" y=\"229.754469\"/>\r\n     <use style=\"fill:#1f77b4;stroke:#1f77b4;\" x=\"70.566826\" xlink:href=\"#m5b4bebe21f\" y=\"229.634449\"/>\r\n     <use style=\"fill:#1f77b4;stroke:#1f77b4;\" x=\"71.485244\" xlink:href=\"#m5b4bebe21f\" y=\"229.874489\"/>\r\n     <use style=\"fill:#1f77b4;stroke:#1f77b4;\" x=\"73.87313\" xlink:href=\"#m5b4bebe21f\" y=\"229.394409\"/>\r\n     <use style=\"fill:#1f77b4;stroke:#1f77b4;\" x=\"70.383142\" xlink:href=\"#m5b4bebe21f\" y=\"229.874489\"/>\r\n     <use style=\"fill:#1f77b4;stroke:#1f77b4;\" x=\"71.30156\" xlink:href=\"#m5b4bebe21f\" y=\"229.874489\"/>\r\n     <use style=\"fill:#1f77b4;stroke:#1f77b4;\" x=\"71.30156\" xlink:href=\"#m5b4bebe21f\" y=\"229.874489\"/>\r\n     <use style=\"fill:#1f77b4;stroke:#1f77b4;\" x=\"68.546307\" xlink:href=\"#m5b4bebe21f\" y=\"229.634449\"/>\r\n     <use style=\"fill:#1f77b4;stroke:#1f77b4;\" x=\"69.464725\" xlink:href=\"#m5b4bebe21f\" y=\"229.874489\"/>\r\n     <use style=\"fill:#1f77b4;stroke:#1f77b4;\" x=\"69.648408\" xlink:href=\"#m5b4bebe21f\" y=\"229.874489\"/>\r\n     <use style=\"fill:#1f77b4;stroke:#1f77b4;\" x=\"69.832092\" xlink:href=\"#m5b4bebe21f\" y=\"229.874489\"/>\r\n     <use style=\"fill:#1f77b4;stroke:#1f77b4;\" x=\"70.015775\" xlink:href=\"#m5b4bebe21f\" y=\"229.874489\"/>\r\n     <use style=\"fill:#1f77b4;stroke:#1f77b4;\" x=\"69.832092\" xlink:href=\"#m5b4bebe21f\" y=\"229.754469\"/>\r\n     <use style=\"fill:#1f77b4;stroke:#1f77b4;\" x=\"72.954712\" xlink:href=\"#m5b4bebe21f\" y=\"229.514429\"/>\r\n     <use style=\"fill:#1f77b4;stroke:#1f77b4;\" x=\"69.464725\" xlink:href=\"#m5b4bebe21f\" y=\"229.874489\"/>\r\n     <use style=\"fill:#1f77b4;stroke:#1f77b4;\" x=\"70.750509\" xlink:href=\"#m5b4bebe21f\" y=\"229.634449\"/>\r\n     <use style=\"fill:#1f77b4;stroke:#1f77b4;\" x=\"70.015775\" xlink:href=\"#m5b4bebe21f\" y=\"229.874489\"/>\r\n     <use style=\"fill:#1f77b4;stroke:#1f77b4;\" x=\"72.036294\" xlink:href=\"#m5b4bebe21f\" y=\"229.754469\"/>\r\n     <use style=\"fill:#1f77b4;stroke:#1f77b4;\" x=\"69.281041\" xlink:href=\"#m5b4bebe21f\" y=\"229.634449\"/>\r\n     <use style=\"fill:#1f77b4;stroke:#1f77b4;\" x=\"69.464725\" xlink:href=\"#m5b4bebe21f\" y=\"229.634449\"/>\r\n     <use style=\"fill:#1f77b4;stroke:#1f77b4;\" x=\"71.668927\" xlink:href=\"#m5b4bebe21f\" y=\"229.754469\"/>\r\n     <use style=\"fill:#1f77b4;stroke:#1f77b4;\" x=\"71.117876\" xlink:href=\"#m5b4bebe21f\" y=\"229.754469\"/>\r\n     <use style=\"fill:#1f77b4;stroke:#1f77b4;\" x=\"71.117876\" xlink:href=\"#m5b4bebe21f\" y=\"229.874489\"/>\r\n     <use style=\"fill:#1f77b4;stroke:#1f77b4;\" x=\"69.832092\" xlink:href=\"#m5b4bebe21f\" y=\"229.874489\"/>\r\n     <use style=\"fill:#1f77b4;stroke:#1f77b4;\" x=\"73.505763\" xlink:href=\"#m5b4bebe21f\" y=\"229.874489\"/>\r\n     <use style=\"fill:#1f77b4;stroke:#1f77b4;\" x=\"71.30156\" xlink:href=\"#m5b4bebe21f\" y=\"229.394409\"/>\r\n     <use style=\"fill:#1f77b4;stroke:#1f77b4;\" x=\"71.30156\" xlink:href=\"#m5b4bebe21f\" y=\"229.874489\"/>\r\n     <use style=\"fill:#1f77b4;stroke:#1f77b4;\" x=\"70.750509\" xlink:href=\"#m5b4bebe21f\" y=\"229.874489\"/>\r\n     <use style=\"fill:#1f77b4;stroke:#1f77b4;\" x=\"72.403661\" xlink:href=\"#m5b4bebe21f\" y=\"229.754469\"/>\r\n     <use style=\"fill:#1f77b4;stroke:#1f77b4;\" x=\"70.934193\" xlink:href=\"#m5b4bebe21f\" y=\"229.874489\"/>\r\n     <use style=\"fill:#1f77b4;stroke:#1f77b4;\" x=\"70.199459\" xlink:href=\"#m5b4bebe21f\" y=\"229.874489\"/>\r\n     <use style=\"fill:#1f77b4;stroke:#1f77b4;\" x=\"70.383142\" xlink:href=\"#m5b4bebe21f\" y=\"229.634449\"/>\r\n     <use style=\"fill:#1f77b4;stroke:#1f77b4;\" x=\"70.566826\" xlink:href=\"#m5b4bebe21f\" y=\"229.874489\"/>\r\n     <use style=\"fill:#1f77b4;stroke:#1f77b4;\" x=\"71.852611\" xlink:href=\"#m5b4bebe21f\" y=\"229.874489\"/>\r\n     <use style=\"fill:#1f77b4;stroke:#1f77b4;\" x=\"70.934193\" xlink:href=\"#m5b4bebe21f\" y=\"229.514429\"/>\r\n     <use style=\"fill:#1f77b4;stroke:#1f77b4;\" x=\"70.750509\" xlink:href=\"#m5b4bebe21f\" y=\"229.874489\"/>\r\n     <use style=\"fill:#1f77b4;stroke:#1f77b4;\" x=\"68.913674\" xlink:href=\"#m5b4bebe21f\" y=\"229.874489\"/>\r\n     <use style=\"fill:#1f77b4;stroke:#1f77b4;\" x=\"70.566826\" xlink:href=\"#m5b4bebe21f\" y=\"229.634449\"/>\r\n     <use style=\"fill:#1f77b4;stroke:#1f77b4;\" x=\"79.934687\" xlink:href=\"#m5b4bebe21f\" y=\"229.154369\"/>\r\n     <use style=\"fill:#1f77b4;stroke:#1f77b4;\" x=\"69.648408\" xlink:href=\"#m5b4bebe21f\" y=\"229.874489\"/>\r\n     <use style=\"fill:#1f77b4;stroke:#1f77b4;\" x=\"71.117876\" xlink:href=\"#m5b4bebe21f\" y=\"229.754469\"/>\r\n    </g>\r\n   </g>\r\n   <g id=\"matplotlib.axis_1\">\r\n    <g id=\"xtick_1\">\r\n     <g id=\"line2d_1\">\r\n      <defs>\r\n       <path d=\"M 0 0 \r\nL 0 3.5 \r\n\" id=\"m46eae9d1af\" style=\"stroke:#000000;stroke-width:0.8;\"/>\r\n      </defs>\r\n      <g>\r\n       <use style=\"stroke:#000000;stroke-width:0.8;\" x=\"65.423687\" xlink:href=\"#m46eae9d1af\" y=\"239.758125\"/>\r\n      </g>\r\n     </g>\r\n     <g id=\"text_1\">\r\n      <!-- 0 -->\r\n      <g transform=\"translate(62.242437 254.356562)scale(0.1 -0.1)\">\r\n       <defs>\r\n        <path d=\"M 31.78125 66.40625 \r\nQ 24.171875 66.40625 20.328125 58.90625 \r\nQ 16.5 51.421875 16.5 36.375 \r\nQ 16.5 21.390625 20.328125 13.890625 \r\nQ 24.171875 6.390625 31.78125 6.390625 \r\nQ 39.453125 6.390625 43.28125 13.890625 \r\nQ 47.125 21.390625 47.125 36.375 \r\nQ 47.125 51.421875 43.28125 58.90625 \r\nQ 39.453125 66.40625 31.78125 66.40625 \r\nz\r\nM 31.78125 74.21875 \r\nQ 44.046875 74.21875 50.515625 64.515625 \r\nQ 56.984375 54.828125 56.984375 36.375 \r\nQ 56.984375 17.96875 50.515625 8.265625 \r\nQ 44.046875 -1.421875 31.78125 -1.421875 \r\nQ 19.53125 -1.421875 13.0625 8.265625 \r\nQ 6.59375 17.96875 6.59375 36.375 \r\nQ 6.59375 54.828125 13.0625 64.515625 \r\nQ 19.53125 74.21875 31.78125 74.21875 \r\nz\r\n\" id=\"DejaVuSans-48\"/>\r\n       </defs>\r\n       <use xlink:href=\"#DejaVuSans-48\"/>\r\n      </g>\r\n     </g>\r\n    </g>\r\n    <g id=\"xtick_2\">\r\n     <g id=\"line2d_2\">\r\n      <g>\r\n       <use style=\"stroke:#000000;stroke-width:0.8;\" x=\"111.344573\" xlink:href=\"#m46eae9d1af\" y=\"239.758125\"/>\r\n      </g>\r\n     </g>\r\n     <g id=\"text_2\">\r\n      <!-- 250 -->\r\n      <g transform=\"translate(101.800823 254.356562)scale(0.1 -0.1)\">\r\n       <defs>\r\n        <path d=\"M 19.1875 8.296875 \r\nL 53.609375 8.296875 \r\nL 53.609375 0 \r\nL 7.328125 0 \r\nL 7.328125 8.296875 \r\nQ 12.9375 14.109375 22.625 23.890625 \r\nQ 32.328125 33.6875 34.8125 36.53125 \r\nQ 39.546875 41.84375 41.421875 45.53125 \r\nQ 43.3125 49.21875 43.3125 52.78125 \r\nQ 43.3125 58.59375 39.234375 62.25 \r\nQ 35.15625 65.921875 28.609375 65.921875 \r\nQ 23.96875 65.921875 18.8125 64.3125 \r\nQ 13.671875 62.703125 7.8125 59.421875 \r\nL 7.8125 69.390625 \r\nQ 13.765625 71.78125 18.9375 73 \r\nQ 24.125 74.21875 28.421875 74.21875 \r\nQ 39.75 74.21875 46.484375 68.546875 \r\nQ 53.21875 62.890625 53.21875 53.421875 \r\nQ 53.21875 48.921875 51.53125 44.890625 \r\nQ 49.859375 40.875 45.40625 35.40625 \r\nQ 44.1875 33.984375 37.640625 27.21875 \r\nQ 31.109375 20.453125 19.1875 8.296875 \r\nz\r\n\" id=\"DejaVuSans-50\"/>\r\n        <path d=\"M 10.796875 72.90625 \r\nL 49.515625 72.90625 \r\nL 49.515625 64.59375 \r\nL 19.828125 64.59375 \r\nL 19.828125 46.734375 \r\nQ 21.96875 47.46875 24.109375 47.828125 \r\nQ 26.265625 48.1875 28.421875 48.1875 \r\nQ 40.625 48.1875 47.75 41.5 \r\nQ 54.890625 34.8125 54.890625 23.390625 \r\nQ 54.890625 11.625 47.5625 5.09375 \r\nQ 40.234375 -1.421875 26.90625 -1.421875 \r\nQ 22.3125 -1.421875 17.546875 -0.640625 \r\nQ 12.796875 0.140625 7.71875 1.703125 \r\nL 7.71875 11.625 \r\nQ 12.109375 9.234375 16.796875 8.0625 \r\nQ 21.484375 6.890625 26.703125 6.890625 \r\nQ 35.15625 6.890625 40.078125 11.328125 \r\nQ 45.015625 15.765625 45.015625 23.390625 \r\nQ 45.015625 31 40.078125 35.4375 \r\nQ 35.15625 39.890625 26.703125 39.890625 \r\nQ 22.75 39.890625 18.8125 39.015625 \r\nQ 14.890625 38.140625 10.796875 36.28125 \r\nz\r\n\" id=\"DejaVuSans-53\"/>\r\n       </defs>\r\n       <use xlink:href=\"#DejaVuSans-50\"/>\r\n       <use x=\"63.623047\" xlink:href=\"#DejaVuSans-53\"/>\r\n       <use x=\"127.246094\" xlink:href=\"#DejaVuSans-48\"/>\r\n      </g>\r\n     </g>\r\n    </g>\r\n    <g id=\"xtick_3\">\r\n     <g id=\"line2d_3\">\r\n      <g>\r\n       <use style=\"stroke:#000000;stroke-width:0.8;\" x=\"157.26546\" xlink:href=\"#m46eae9d1af\" y=\"239.758125\"/>\r\n      </g>\r\n     </g>\r\n     <g id=\"text_3\">\r\n      <!-- 500 -->\r\n      <g transform=\"translate(147.72171 254.356562)scale(0.1 -0.1)\">\r\n       <use xlink:href=\"#DejaVuSans-53\"/>\r\n       <use x=\"63.623047\" xlink:href=\"#DejaVuSans-48\"/>\r\n       <use x=\"127.246094\" xlink:href=\"#DejaVuSans-48\"/>\r\n      </g>\r\n     </g>\r\n    </g>\r\n    <g id=\"xtick_4\">\r\n     <g id=\"line2d_4\">\r\n      <g>\r\n       <use style=\"stroke:#000000;stroke-width:0.8;\" x=\"203.186346\" xlink:href=\"#m46eae9d1af\" y=\"239.758125\"/>\r\n      </g>\r\n     </g>\r\n     <g id=\"text_4\">\r\n      <!-- 750 -->\r\n      <g transform=\"translate(193.642596 254.356562)scale(0.1 -0.1)\">\r\n       <defs>\r\n        <path d=\"M 8.203125 72.90625 \r\nL 55.078125 72.90625 \r\nL 55.078125 68.703125 \r\nL 28.609375 0 \r\nL 18.3125 0 \r\nL 43.21875 64.59375 \r\nL 8.203125 64.59375 \r\nz\r\n\" id=\"DejaVuSans-55\"/>\r\n       </defs>\r\n       <use xlink:href=\"#DejaVuSans-55\"/>\r\n       <use x=\"63.623047\" xlink:href=\"#DejaVuSans-53\"/>\r\n       <use x=\"127.246094\" xlink:href=\"#DejaVuSans-48\"/>\r\n      </g>\r\n     </g>\r\n    </g>\r\n    <g id=\"xtick_5\">\r\n     <g id=\"line2d_5\">\r\n      <g>\r\n       <use style=\"stroke:#000000;stroke-width:0.8;\" x=\"249.107233\" xlink:href=\"#m46eae9d1af\" y=\"239.758125\"/>\r\n      </g>\r\n     </g>\r\n     <g id=\"text_5\">\r\n      <!-- 1000 -->\r\n      <g transform=\"translate(236.382233 254.356562)scale(0.1 -0.1)\">\r\n       <defs>\r\n        <path d=\"M 12.40625 8.296875 \r\nL 28.515625 8.296875 \r\nL 28.515625 63.921875 \r\nL 10.984375 60.40625 \r\nL 10.984375 69.390625 \r\nL 28.421875 72.90625 \r\nL 38.28125 72.90625 \r\nL 38.28125 8.296875 \r\nL 54.390625 8.296875 \r\nL 54.390625 0 \r\nL 12.40625 0 \r\nz\r\n\" id=\"DejaVuSans-49\"/>\r\n       </defs>\r\n       <use xlink:href=\"#DejaVuSans-49\"/>\r\n       <use x=\"63.623047\" xlink:href=\"#DejaVuSans-48\"/>\r\n       <use x=\"127.246094\" xlink:href=\"#DejaVuSans-48\"/>\r\n       <use x=\"190.869141\" xlink:href=\"#DejaVuSans-48\"/>\r\n      </g>\r\n     </g>\r\n    </g>\r\n    <g id=\"xtick_6\">\r\n     <g id=\"line2d_6\">\r\n      <g>\r\n       <use style=\"stroke:#000000;stroke-width:0.8;\" x=\"295.02812\" xlink:href=\"#m46eae9d1af\" y=\"239.758125\"/>\r\n      </g>\r\n     </g>\r\n     <g id=\"text_6\">\r\n      <!-- 1250 -->\r\n      <g transform=\"translate(282.30312 254.356562)scale(0.1 -0.1)\">\r\n       <use xlink:href=\"#DejaVuSans-49\"/>\r\n       <use x=\"63.623047\" xlink:href=\"#DejaVuSans-50\"/>\r\n       <use x=\"127.246094\" xlink:href=\"#DejaVuSans-53\"/>\r\n       <use x=\"190.869141\" xlink:href=\"#DejaVuSans-48\"/>\r\n      </g>\r\n     </g>\r\n    </g>\r\n    <g id=\"xtick_7\">\r\n     <g id=\"line2d_7\">\r\n      <g>\r\n       <use style=\"stroke:#000000;stroke-width:0.8;\" x=\"340.949006\" xlink:href=\"#m46eae9d1af\" y=\"239.758125\"/>\r\n      </g>\r\n     </g>\r\n     <g id=\"text_7\">\r\n      <!-- 1500 -->\r\n      <g transform=\"translate(328.224006 254.356562)scale(0.1 -0.1)\">\r\n       <use xlink:href=\"#DejaVuSans-49\"/>\r\n       <use x=\"63.623047\" xlink:href=\"#DejaVuSans-53\"/>\r\n       <use x=\"127.246094\" xlink:href=\"#DejaVuSans-48\"/>\r\n       <use x=\"190.869141\" xlink:href=\"#DejaVuSans-48\"/>\r\n      </g>\r\n     </g>\r\n    </g>\r\n    <g id=\"xtick_8\">\r\n     <g id=\"line2d_8\">\r\n      <g>\r\n       <use style=\"stroke:#000000;stroke-width:0.8;\" x=\"386.869893\" xlink:href=\"#m46eae9d1af\" y=\"239.758125\"/>\r\n      </g>\r\n     </g>\r\n     <g id=\"text_8\">\r\n      <!-- 1750 -->\r\n      <g transform=\"translate(374.144893 254.356562)scale(0.1 -0.1)\">\r\n       <use xlink:href=\"#DejaVuSans-49\"/>\r\n       <use x=\"63.623047\" xlink:href=\"#DejaVuSans-55\"/>\r\n       <use x=\"127.246094\" xlink:href=\"#DejaVuSans-53\"/>\r\n       <use x=\"190.869141\" xlink:href=\"#DejaVuSans-48\"/>\r\n      </g>\r\n     </g>\r\n    </g>\r\n    <g id=\"text_9\">\r\n     <!-- Comentarios -->\r\n     <g transform=\"translate(188.928906 268.034687)scale(0.1 -0.1)\">\r\n      <defs>\r\n       <path d=\"M 64.40625 67.28125 \r\nL 64.40625 56.890625 \r\nQ 59.421875 61.53125 53.78125 63.8125 \r\nQ 48.140625 66.109375 41.796875 66.109375 \r\nQ 29.296875 66.109375 22.65625 58.46875 \r\nQ 16.015625 50.828125 16.015625 36.375 \r\nQ 16.015625 21.96875 22.65625 14.328125 \r\nQ 29.296875 6.6875 41.796875 6.6875 \r\nQ 48.140625 6.6875 53.78125 8.984375 \r\nQ 59.421875 11.28125 64.40625 15.921875 \r\nL 64.40625 5.609375 \r\nQ 59.234375 2.09375 53.4375 0.328125 \r\nQ 47.65625 -1.421875 41.21875 -1.421875 \r\nQ 24.65625 -1.421875 15.125 8.703125 \r\nQ 5.609375 18.84375 5.609375 36.375 \r\nQ 5.609375 53.953125 15.125 64.078125 \r\nQ 24.65625 74.21875 41.21875 74.21875 \r\nQ 47.75 74.21875 53.53125 72.484375 \r\nQ 59.328125 70.75 64.40625 67.28125 \r\nz\r\n\" id=\"DejaVuSans-67\"/>\r\n       <path d=\"M 30.609375 48.390625 \r\nQ 23.390625 48.390625 19.1875 42.75 \r\nQ 14.984375 37.109375 14.984375 27.296875 \r\nQ 14.984375 17.484375 19.15625 11.84375 \r\nQ 23.34375 6.203125 30.609375 6.203125 \r\nQ 37.796875 6.203125 41.984375 11.859375 \r\nQ 46.1875 17.53125 46.1875 27.296875 \r\nQ 46.1875 37.015625 41.984375 42.703125 \r\nQ 37.796875 48.390625 30.609375 48.390625 \r\nz\r\nM 30.609375 56 \r\nQ 42.328125 56 49.015625 48.375 \r\nQ 55.71875 40.765625 55.71875 27.296875 \r\nQ 55.71875 13.875 49.015625 6.21875 \r\nQ 42.328125 -1.421875 30.609375 -1.421875 \r\nQ 18.84375 -1.421875 12.171875 6.21875 \r\nQ 5.515625 13.875 5.515625 27.296875 \r\nQ 5.515625 40.765625 12.171875 48.375 \r\nQ 18.84375 56 30.609375 56 \r\nz\r\n\" id=\"DejaVuSans-111\"/>\r\n       <path d=\"M 52 44.1875 \r\nQ 55.375 50.25 60.0625 53.125 \r\nQ 64.75 56 71.09375 56 \r\nQ 79.640625 56 84.28125 50.015625 \r\nQ 88.921875 44.046875 88.921875 33.015625 \r\nL 88.921875 0 \r\nL 79.890625 0 \r\nL 79.890625 32.71875 \r\nQ 79.890625 40.578125 77.09375 44.375 \r\nQ 74.3125 48.1875 68.609375 48.1875 \r\nQ 61.625 48.1875 57.5625 43.546875 \r\nQ 53.515625 38.921875 53.515625 30.90625 \r\nL 53.515625 0 \r\nL 44.484375 0 \r\nL 44.484375 32.71875 \r\nQ 44.484375 40.625 41.703125 44.40625 \r\nQ 38.921875 48.1875 33.109375 48.1875 \r\nQ 26.21875 48.1875 22.15625 43.53125 \r\nQ 18.109375 38.875 18.109375 30.90625 \r\nL 18.109375 0 \r\nL 9.078125 0 \r\nL 9.078125 54.6875 \r\nL 18.109375 54.6875 \r\nL 18.109375 46.1875 \r\nQ 21.1875 51.21875 25.484375 53.609375 \r\nQ 29.78125 56 35.6875 56 \r\nQ 41.65625 56 45.828125 52.96875 \r\nQ 50 49.953125 52 44.1875 \r\nz\r\n\" id=\"DejaVuSans-109\"/>\r\n       <path d=\"M 56.203125 29.59375 \r\nL 56.203125 25.203125 \r\nL 14.890625 25.203125 \r\nQ 15.484375 15.921875 20.484375 11.0625 \r\nQ 25.484375 6.203125 34.421875 6.203125 \r\nQ 39.59375 6.203125 44.453125 7.46875 \r\nQ 49.3125 8.734375 54.109375 11.28125 \r\nL 54.109375 2.78125 \r\nQ 49.265625 0.734375 44.1875 -0.34375 \r\nQ 39.109375 -1.421875 33.890625 -1.421875 \r\nQ 20.796875 -1.421875 13.15625 6.1875 \r\nQ 5.515625 13.8125 5.515625 26.8125 \r\nQ 5.515625 40.234375 12.765625 48.109375 \r\nQ 20.015625 56 32.328125 56 \r\nQ 43.359375 56 49.78125 48.890625 \r\nQ 56.203125 41.796875 56.203125 29.59375 \r\nz\r\nM 47.21875 32.234375 \r\nQ 47.125 39.59375 43.09375 43.984375 \r\nQ 39.0625 48.390625 32.421875 48.390625 \r\nQ 24.90625 48.390625 20.390625 44.140625 \r\nQ 15.875 39.890625 15.1875 32.171875 \r\nz\r\n\" id=\"DejaVuSans-101\"/>\r\n       <path d=\"M 54.890625 33.015625 \r\nL 54.890625 0 \r\nL 45.90625 0 \r\nL 45.90625 32.71875 \r\nQ 45.90625 40.484375 42.875 44.328125 \r\nQ 39.84375 48.1875 33.796875 48.1875 \r\nQ 26.515625 48.1875 22.3125 43.546875 \r\nQ 18.109375 38.921875 18.109375 30.90625 \r\nL 18.109375 0 \r\nL 9.078125 0 \r\nL 9.078125 54.6875 \r\nL 18.109375 54.6875 \r\nL 18.109375 46.1875 \r\nQ 21.34375 51.125 25.703125 53.5625 \r\nQ 30.078125 56 35.796875 56 \r\nQ 45.21875 56 50.046875 50.171875 \r\nQ 54.890625 44.34375 54.890625 33.015625 \r\nz\r\n\" id=\"DejaVuSans-110\"/>\r\n       <path d=\"M 18.3125 70.21875 \r\nL 18.3125 54.6875 \r\nL 36.8125 54.6875 \r\nL 36.8125 47.703125 \r\nL 18.3125 47.703125 \r\nL 18.3125 18.015625 \r\nQ 18.3125 11.328125 20.140625 9.421875 \r\nQ 21.96875 7.515625 27.59375 7.515625 \r\nL 36.8125 7.515625 \r\nL 36.8125 0 \r\nL 27.59375 0 \r\nQ 17.1875 0 13.234375 3.875 \r\nQ 9.28125 7.765625 9.28125 18.015625 \r\nL 9.28125 47.703125 \r\nL 2.6875 47.703125 \r\nL 2.6875 54.6875 \r\nL 9.28125 54.6875 \r\nL 9.28125 70.21875 \r\nz\r\n\" id=\"DejaVuSans-116\"/>\r\n       <path d=\"M 34.28125 27.484375 \r\nQ 23.390625 27.484375 19.1875 25 \r\nQ 14.984375 22.515625 14.984375 16.5 \r\nQ 14.984375 11.71875 18.140625 8.90625 \r\nQ 21.296875 6.109375 26.703125 6.109375 \r\nQ 34.1875 6.109375 38.703125 11.40625 \r\nQ 43.21875 16.703125 43.21875 25.484375 \r\nL 43.21875 27.484375 \r\nz\r\nM 52.203125 31.203125 \r\nL 52.203125 0 \r\nL 43.21875 0 \r\nL 43.21875 8.296875 \r\nQ 40.140625 3.328125 35.546875 0.953125 \r\nQ 30.953125 -1.421875 24.3125 -1.421875 \r\nQ 15.921875 -1.421875 10.953125 3.296875 \r\nQ 6 8.015625 6 15.921875 \r\nQ 6 25.140625 12.171875 29.828125 \r\nQ 18.359375 34.515625 30.609375 34.515625 \r\nL 43.21875 34.515625 \r\nL 43.21875 35.40625 \r\nQ 43.21875 41.609375 39.140625 45 \r\nQ 35.0625 48.390625 27.6875 48.390625 \r\nQ 23 48.390625 18.546875 47.265625 \r\nQ 14.109375 46.140625 10.015625 43.890625 \r\nL 10.015625 52.203125 \r\nQ 14.9375 54.109375 19.578125 55.046875 \r\nQ 24.21875 56 28.609375 56 \r\nQ 40.484375 56 46.34375 49.84375 \r\nQ 52.203125 43.703125 52.203125 31.203125 \r\nz\r\n\" id=\"DejaVuSans-97\"/>\r\n       <path d=\"M 41.109375 46.296875 \r\nQ 39.59375 47.171875 37.8125 47.578125 \r\nQ 36.03125 48 33.890625 48 \r\nQ 26.265625 48 22.1875 43.046875 \r\nQ 18.109375 38.09375 18.109375 28.8125 \r\nL 18.109375 0 \r\nL 9.078125 0 \r\nL 9.078125 54.6875 \r\nL 18.109375 54.6875 \r\nL 18.109375 46.1875 \r\nQ 20.953125 51.171875 25.484375 53.578125 \r\nQ 30.03125 56 36.53125 56 \r\nQ 37.453125 56 38.578125 55.875 \r\nQ 39.703125 55.765625 41.0625 55.515625 \r\nz\r\n\" id=\"DejaVuSans-114\"/>\r\n       <path d=\"M 9.421875 54.6875 \r\nL 18.40625 54.6875 \r\nL 18.40625 0 \r\nL 9.421875 0 \r\nz\r\nM 9.421875 75.984375 \r\nL 18.40625 75.984375 \r\nL 18.40625 64.59375 \r\nL 9.421875 64.59375 \r\nz\r\n\" id=\"DejaVuSans-105\"/>\r\n       <path d=\"M 44.28125 53.078125 \r\nL 44.28125 44.578125 \r\nQ 40.484375 46.53125 36.375 47.5 \r\nQ 32.28125 48.484375 27.875 48.484375 \r\nQ 21.1875 48.484375 17.84375 46.4375 \r\nQ 14.5 44.390625 14.5 40.28125 \r\nQ 14.5 37.15625 16.890625 35.375 \r\nQ 19.28125 33.59375 26.515625 31.984375 \r\nL 29.59375 31.296875 \r\nQ 39.15625 29.25 43.1875 25.515625 \r\nQ 47.21875 21.78125 47.21875 15.09375 \r\nQ 47.21875 7.46875 41.1875 3.015625 \r\nQ 35.15625 -1.421875 24.609375 -1.421875 \r\nQ 20.21875 -1.421875 15.453125 -0.5625 \r\nQ 10.6875 0.296875 5.421875 2 \r\nL 5.421875 11.28125 \r\nQ 10.40625 8.6875 15.234375 7.390625 \r\nQ 20.0625 6.109375 24.8125 6.109375 \r\nQ 31.15625 6.109375 34.5625 8.28125 \r\nQ 37.984375 10.453125 37.984375 14.40625 \r\nQ 37.984375 18.0625 35.515625 20.015625 \r\nQ 33.0625 21.96875 24.703125 23.78125 \r\nL 21.578125 24.515625 \r\nQ 13.234375 26.265625 9.515625 29.90625 \r\nQ 5.8125 33.546875 5.8125 39.890625 \r\nQ 5.8125 47.609375 11.28125 51.796875 \r\nQ 16.75 56 26.8125 56 \r\nQ 31.78125 56 36.171875 55.265625 \r\nQ 40.578125 54.546875 44.28125 53.078125 \r\nz\r\n\" id=\"DejaVuSans-115\"/>\r\n      </defs>\r\n      <use xlink:href=\"#DejaVuSans-67\"/>\r\n      <use x=\"69.824219\" xlink:href=\"#DejaVuSans-111\"/>\r\n      <use x=\"131.005859\" xlink:href=\"#DejaVuSans-109\"/>\r\n      <use x=\"228.417969\" xlink:href=\"#DejaVuSans-101\"/>\r\n      <use x=\"289.941406\" xlink:href=\"#DejaVuSans-110\"/>\r\n      <use x=\"353.320312\" xlink:href=\"#DejaVuSans-116\"/>\r\n      <use x=\"392.529297\" xlink:href=\"#DejaVuSans-97\"/>\r\n      <use x=\"453.808594\" xlink:href=\"#DejaVuSans-114\"/>\r\n      <use x=\"494.921875\" xlink:href=\"#DejaVuSans-105\"/>\r\n      <use x=\"522.705078\" xlink:href=\"#DejaVuSans-111\"/>\r\n      <use x=\"583.886719\" xlink:href=\"#DejaVuSans-115\"/>\r\n     </g>\r\n    </g>\r\n   </g>\r\n   <g id=\"matplotlib.axis_2\">\r\n    <g id=\"ytick_1\">\r\n     <g id=\"line2d_9\">\r\n      <defs>\r\n       <path d=\"M 0 0 \r\nL -3.5 0 \r\n\" id=\"mfe136721a0\" style=\"stroke:#000000;stroke-width:0.8;\"/>\r\n      </defs>\r\n      <g>\r\n       <use style=\"stroke:#000000;stroke-width:0.8;\" x=\"53.328125\" xlink:href=\"#mfe136721a0\" y=\"229.874489\"/>\r\n      </g>\r\n     </g>\r\n     <g id=\"text_10\">\r\n      <!-- 0 -->\r\n      <g transform=\"translate(39.965625 233.673707)scale(0.1 -0.1)\">\r\n       <use xlink:href=\"#DejaVuSans-48\"/>\r\n      </g>\r\n     </g>\r\n    </g>\r\n    <g id=\"ytick_2\">\r\n     <g id=\"line2d_10\">\r\n      <g>\r\n       <use style=\"stroke:#000000;stroke-width:0.8;\" x=\"53.328125\" xlink:href=\"#mfe136721a0\" y=\"199.869521\"/>\r\n      </g>\r\n     </g>\r\n     <g id=\"text_11\">\r\n      <!-- 250 -->\r\n      <g transform=\"translate(27.240625 203.66874)scale(0.1 -0.1)\">\r\n       <use xlink:href=\"#DejaVuSans-50\"/>\r\n       <use x=\"63.623047\" xlink:href=\"#DejaVuSans-53\"/>\r\n       <use x=\"127.246094\" xlink:href=\"#DejaVuSans-48\"/>\r\n      </g>\r\n     </g>\r\n    </g>\r\n    <g id=\"ytick_3\">\r\n     <g id=\"line2d_11\">\r\n      <g>\r\n       <use style=\"stroke:#000000;stroke-width:0.8;\" x=\"53.328125\" xlink:href=\"#mfe136721a0\" y=\"169.864553\"/>\r\n      </g>\r\n     </g>\r\n     <g id=\"text_12\">\r\n      <!-- 500 -->\r\n      <g transform=\"translate(27.240625 173.663772)scale(0.1 -0.1)\">\r\n       <use xlink:href=\"#DejaVuSans-53\"/>\r\n       <use x=\"63.623047\" xlink:href=\"#DejaVuSans-48\"/>\r\n       <use x=\"127.246094\" xlink:href=\"#DejaVuSans-48\"/>\r\n      </g>\r\n     </g>\r\n    </g>\r\n    <g id=\"ytick_4\">\r\n     <g id=\"line2d_12\">\r\n      <g>\r\n       <use style=\"stroke:#000000;stroke-width:0.8;\" x=\"53.328125\" xlink:href=\"#mfe136721a0\" y=\"139.859586\"/>\r\n      </g>\r\n     </g>\r\n     <g id=\"text_13\">\r\n      <!-- 750 -->\r\n      <g transform=\"translate(27.240625 143.658804)scale(0.1 -0.1)\">\r\n       <use xlink:href=\"#DejaVuSans-55\"/>\r\n       <use x=\"63.623047\" xlink:href=\"#DejaVuSans-53\"/>\r\n       <use x=\"127.246094\" xlink:href=\"#DejaVuSans-48\"/>\r\n      </g>\r\n     </g>\r\n    </g>\r\n    <g id=\"ytick_5\">\r\n     <g id=\"line2d_13\">\r\n      <g>\r\n       <use style=\"stroke:#000000;stroke-width:0.8;\" x=\"53.328125\" xlink:href=\"#mfe136721a0\" y=\"109.854618\"/>\r\n      </g>\r\n     </g>\r\n     <g id=\"text_14\">\r\n      <!-- 1000 -->\r\n      <g transform=\"translate(20.878125 113.653837)scale(0.1 -0.1)\">\r\n       <use xlink:href=\"#DejaVuSans-49\"/>\r\n       <use x=\"63.623047\" xlink:href=\"#DejaVuSans-48\"/>\r\n       <use x=\"127.246094\" xlink:href=\"#DejaVuSans-48\"/>\r\n       <use x=\"190.869141\" xlink:href=\"#DejaVuSans-48\"/>\r\n      </g>\r\n     </g>\r\n    </g>\r\n    <g id=\"ytick_6\">\r\n     <g id=\"line2d_14\">\r\n      <g>\r\n       <use style=\"stroke:#000000;stroke-width:0.8;\" x=\"53.328125\" xlink:href=\"#mfe136721a0\" y=\"79.84965\"/>\r\n      </g>\r\n     </g>\r\n     <g id=\"text_15\">\r\n      <!-- 1250 -->\r\n      <g transform=\"translate(20.878125 83.648869)scale(0.1 -0.1)\">\r\n       <use xlink:href=\"#DejaVuSans-49\"/>\r\n       <use x=\"63.623047\" xlink:href=\"#DejaVuSans-50\"/>\r\n       <use x=\"127.246094\" xlink:href=\"#DejaVuSans-53\"/>\r\n       <use x=\"190.869141\" xlink:href=\"#DejaVuSans-48\"/>\r\n      </g>\r\n     </g>\r\n    </g>\r\n    <g id=\"ytick_7\">\r\n     <g id=\"line2d_15\">\r\n      <g>\r\n       <use style=\"stroke:#000000;stroke-width:0.8;\" x=\"53.328125\" xlink:href=\"#mfe136721a0\" y=\"49.844682\"/>\r\n      </g>\r\n     </g>\r\n     <g id=\"text_16\">\r\n      <!-- 1500 -->\r\n      <g transform=\"translate(20.878125 53.643901)scale(0.1 -0.1)\">\r\n       <use xlink:href=\"#DejaVuSans-49\"/>\r\n       <use x=\"63.623047\" xlink:href=\"#DejaVuSans-53\"/>\r\n       <use x=\"127.246094\" xlink:href=\"#DejaVuSans-48\"/>\r\n       <use x=\"190.869141\" xlink:href=\"#DejaVuSans-48\"/>\r\n      </g>\r\n     </g>\r\n    </g>\r\n    <g id=\"text_17\">\r\n     <!-- Likes -->\r\n     <g transform=\"translate(14.798438 143.608437)rotate(-90)scale(0.1 -0.1)\">\r\n      <defs>\r\n       <path d=\"M 9.8125 72.90625 \r\nL 19.671875 72.90625 \r\nL 19.671875 8.296875 \r\nL 55.171875 8.296875 \r\nL 55.171875 0 \r\nL 9.8125 0 \r\nz\r\n\" id=\"DejaVuSans-76\"/>\r\n       <path d=\"M 9.078125 75.984375 \r\nL 18.109375 75.984375 \r\nL 18.109375 31.109375 \r\nL 44.921875 54.6875 \r\nL 56.390625 54.6875 \r\nL 27.390625 29.109375 \r\nL 57.625 0 \r\nL 45.90625 0 \r\nL 18.109375 26.703125 \r\nL 18.109375 0 \r\nL 9.078125 0 \r\nz\r\n\" id=\"DejaVuSans-107\"/>\r\n      </defs>\r\n      <use xlink:href=\"#DejaVuSans-76\"/>\r\n      <use x=\"55.712891\" xlink:href=\"#DejaVuSans-105\"/>\r\n      <use x=\"83.496094\" xlink:href=\"#DejaVuSans-107\"/>\r\n      <use x=\"137.78125\" xlink:href=\"#DejaVuSans-101\"/>\r\n      <use x=\"199.304688\" xlink:href=\"#DejaVuSans-115\"/>\r\n     </g>\r\n    </g>\r\n   </g>\r\n   <g id=\"patch_3\">\r\n    <path d=\"M 53.328125 239.758125 \r\nL 53.328125 22.318125 \r\n\" style=\"fill:none;stroke:#000000;stroke-linecap:square;stroke-linejoin:miter;stroke-width:0.8;\"/>\r\n   </g>\r\n   <g id=\"patch_4\">\r\n    <path d=\"M 388.128125 239.758125 \r\nL 388.128125 22.318125 \r\n\" style=\"fill:none;stroke:#000000;stroke-linecap:square;stroke-linejoin:miter;stroke-width:0.8;\"/>\r\n   </g>\r\n   <g id=\"patch_5\">\r\n    <path d=\"M 53.328125 239.758125 \r\nL 388.128125 239.758125 \r\n\" style=\"fill:none;stroke:#000000;stroke-linecap:square;stroke-linejoin:miter;stroke-width:0.8;\"/>\r\n   </g>\r\n   <g id=\"patch_6\">\r\n    <path d=\"M 53.328125 22.318125 \r\nL 388.128125 22.318125 \r\n\" style=\"fill:none;stroke:#000000;stroke-linecap:square;stroke-linejoin:miter;stroke-width:0.8;\"/>\r\n   </g>\r\n   <g id=\"text_18\">\r\n    <!-- Scatter plot comments vs likes Buthewestie -->\r\n    <g transform=\"translate(89.129375 16.318125)scale(0.12 -0.12)\">\r\n     <defs>\r\n      <path d=\"M 53.515625 70.515625 \r\nL 53.515625 60.890625 \r\nQ 47.90625 63.578125 42.921875 64.890625 \r\nQ 37.9375 66.21875 33.296875 66.21875 \r\nQ 25.25 66.21875 20.875 63.09375 \r\nQ 16.5 59.96875 16.5 54.203125 \r\nQ 16.5 49.359375 19.40625 46.890625 \r\nQ 22.3125 44.4375 30.421875 42.921875 \r\nL 36.375 41.703125 \r\nQ 47.40625 39.59375 52.65625 34.296875 \r\nQ 57.90625 29 57.90625 20.125 \r\nQ 57.90625 9.515625 50.796875 4.046875 \r\nQ 43.703125 -1.421875 29.984375 -1.421875 \r\nQ 24.8125 -1.421875 18.96875 -0.25 \r\nQ 13.140625 0.921875 6.890625 3.21875 \r\nL 6.890625 13.375 \r\nQ 12.890625 10.015625 18.65625 8.296875 \r\nQ 24.421875 6.59375 29.984375 6.59375 \r\nQ 38.421875 6.59375 43.015625 9.90625 \r\nQ 47.609375 13.234375 47.609375 19.390625 \r\nQ 47.609375 24.75 44.3125 27.78125 \r\nQ 41.015625 30.8125 33.5 32.328125 \r\nL 27.484375 33.5 \r\nQ 16.453125 35.6875 11.515625 40.375 \r\nQ 6.59375 45.0625 6.59375 53.421875 \r\nQ 6.59375 63.09375 13.40625 68.65625 \r\nQ 20.21875 74.21875 32.171875 74.21875 \r\nQ 37.3125 74.21875 42.625 73.28125 \r\nQ 47.953125 72.359375 53.515625 70.515625 \r\nz\r\n\" id=\"DejaVuSans-83\"/>\r\n      <path d=\"M 48.78125 52.59375 \r\nL 48.78125 44.1875 \r\nQ 44.96875 46.296875 41.140625 47.34375 \r\nQ 37.3125 48.390625 33.40625 48.390625 \r\nQ 24.65625 48.390625 19.8125 42.84375 \r\nQ 14.984375 37.3125 14.984375 27.296875 \r\nQ 14.984375 17.28125 19.8125 11.734375 \r\nQ 24.65625 6.203125 33.40625 6.203125 \r\nQ 37.3125 6.203125 41.140625 7.25 \r\nQ 44.96875 8.296875 48.78125 10.40625 \r\nL 48.78125 2.09375 \r\nQ 45.015625 0.34375 40.984375 -0.53125 \r\nQ 36.96875 -1.421875 32.421875 -1.421875 \r\nQ 20.0625 -1.421875 12.78125 6.34375 \r\nQ 5.515625 14.109375 5.515625 27.296875 \r\nQ 5.515625 40.671875 12.859375 48.328125 \r\nQ 20.21875 56 33.015625 56 \r\nQ 37.15625 56 41.109375 55.140625 \r\nQ 45.0625 54.296875 48.78125 52.59375 \r\nz\r\n\" id=\"DejaVuSans-99\"/>\r\n      <path id=\"DejaVuSans-32\"/>\r\n      <path d=\"M 18.109375 8.203125 \r\nL 18.109375 -20.796875 \r\nL 9.078125 -20.796875 \r\nL 9.078125 54.6875 \r\nL 18.109375 54.6875 \r\nL 18.109375 46.390625 \r\nQ 20.953125 51.265625 25.265625 53.625 \r\nQ 29.59375 56 35.59375 56 \r\nQ 45.5625 56 51.78125 48.09375 \r\nQ 58.015625 40.1875 58.015625 27.296875 \r\nQ 58.015625 14.40625 51.78125 6.484375 \r\nQ 45.5625 -1.421875 35.59375 -1.421875 \r\nQ 29.59375 -1.421875 25.265625 0.953125 \r\nQ 20.953125 3.328125 18.109375 8.203125 \r\nz\r\nM 48.6875 27.296875 \r\nQ 48.6875 37.203125 44.609375 42.84375 \r\nQ 40.53125 48.484375 33.40625 48.484375 \r\nQ 26.265625 48.484375 22.1875 42.84375 \r\nQ 18.109375 37.203125 18.109375 27.296875 \r\nQ 18.109375 17.390625 22.1875 11.75 \r\nQ 26.265625 6.109375 33.40625 6.109375 \r\nQ 40.53125 6.109375 44.609375 11.75 \r\nQ 48.6875 17.390625 48.6875 27.296875 \r\nz\r\n\" id=\"DejaVuSans-112\"/>\r\n      <path d=\"M 9.421875 75.984375 \r\nL 18.40625 75.984375 \r\nL 18.40625 0 \r\nL 9.421875 0 \r\nz\r\n\" id=\"DejaVuSans-108\"/>\r\n      <path d=\"M 2.984375 54.6875 \r\nL 12.5 54.6875 \r\nL 29.59375 8.796875 \r\nL 46.6875 54.6875 \r\nL 56.203125 54.6875 \r\nL 35.6875 0 \r\nL 23.484375 0 \r\nz\r\n\" id=\"DejaVuSans-118\"/>\r\n      <path d=\"M 19.671875 34.8125 \r\nL 19.671875 8.109375 \r\nL 35.5 8.109375 \r\nQ 43.453125 8.109375 47.28125 11.40625 \r\nQ 51.125 14.703125 51.125 21.484375 \r\nQ 51.125 28.328125 47.28125 31.5625 \r\nQ 43.453125 34.8125 35.5 34.8125 \r\nz\r\nM 19.671875 64.796875 \r\nL 19.671875 42.828125 \r\nL 34.28125 42.828125 \r\nQ 41.5 42.828125 45.03125 45.53125 \r\nQ 48.578125 48.25 48.578125 53.8125 \r\nQ 48.578125 59.328125 45.03125 62.0625 \r\nQ 41.5 64.796875 34.28125 64.796875 \r\nz\r\nM 9.8125 72.90625 \r\nL 35.015625 72.90625 \r\nQ 46.296875 72.90625 52.390625 68.21875 \r\nQ 58.5 63.53125 58.5 54.890625 \r\nQ 58.5 48.1875 55.375 44.234375 \r\nQ 52.25 40.28125 46.1875 39.3125 \r\nQ 53.46875 37.75 57.5 32.78125 \r\nQ 61.53125 27.828125 61.53125 20.40625 \r\nQ 61.53125 10.640625 54.890625 5.3125 \r\nQ 48.25 0 35.984375 0 \r\nL 9.8125 0 \r\nz\r\n\" id=\"DejaVuSans-66\"/>\r\n      <path d=\"M 8.5 21.578125 \r\nL 8.5 54.6875 \r\nL 17.484375 54.6875 \r\nL 17.484375 21.921875 \r\nQ 17.484375 14.15625 20.5 10.265625 \r\nQ 23.53125 6.390625 29.59375 6.390625 \r\nQ 36.859375 6.390625 41.078125 11.03125 \r\nQ 45.3125 15.671875 45.3125 23.6875 \r\nL 45.3125 54.6875 \r\nL 54.296875 54.6875 \r\nL 54.296875 0 \r\nL 45.3125 0 \r\nL 45.3125 8.40625 \r\nQ 42.046875 3.421875 37.71875 1 \r\nQ 33.40625 -1.421875 27.6875 -1.421875 \r\nQ 18.265625 -1.421875 13.375 4.4375 \r\nQ 8.5 10.296875 8.5 21.578125 \r\nz\r\nM 31.109375 56 \r\nz\r\n\" id=\"DejaVuSans-117\"/>\r\n      <path d=\"M 54.890625 33.015625 \r\nL 54.890625 0 \r\nL 45.90625 0 \r\nL 45.90625 32.71875 \r\nQ 45.90625 40.484375 42.875 44.328125 \r\nQ 39.84375 48.1875 33.796875 48.1875 \r\nQ 26.515625 48.1875 22.3125 43.546875 \r\nQ 18.109375 38.921875 18.109375 30.90625 \r\nL 18.109375 0 \r\nL 9.078125 0 \r\nL 9.078125 75.984375 \r\nL 18.109375 75.984375 \r\nL 18.109375 46.1875 \r\nQ 21.34375 51.125 25.703125 53.5625 \r\nQ 30.078125 56 35.796875 56 \r\nQ 45.21875 56 50.046875 50.171875 \r\nQ 54.890625 44.34375 54.890625 33.015625 \r\nz\r\n\" id=\"DejaVuSans-104\"/>\r\n      <path d=\"M 4.203125 54.6875 \r\nL 13.1875 54.6875 \r\nL 24.421875 12.015625 \r\nL 35.59375 54.6875 \r\nL 46.1875 54.6875 \r\nL 57.421875 12.015625 \r\nL 68.609375 54.6875 \r\nL 77.59375 54.6875 \r\nL 63.28125 0 \r\nL 52.6875 0 \r\nL 40.921875 44.828125 \r\nL 29.109375 0 \r\nL 18.5 0 \r\nz\r\n\" id=\"DejaVuSans-119\"/>\r\n     </defs>\r\n     <use xlink:href=\"#DejaVuSans-83\"/>\r\n     <use x=\"63.476562\" xlink:href=\"#DejaVuSans-99\"/>\r\n     <use x=\"118.457031\" xlink:href=\"#DejaVuSans-97\"/>\r\n     <use x=\"179.736328\" xlink:href=\"#DejaVuSans-116\"/>\r\n     <use x=\"218.945312\" xlink:href=\"#DejaVuSans-116\"/>\r\n     <use x=\"258.154297\" xlink:href=\"#DejaVuSans-101\"/>\r\n     <use x=\"319.677734\" xlink:href=\"#DejaVuSans-114\"/>\r\n     <use x=\"360.791016\" xlink:href=\"#DejaVuSans-32\"/>\r\n     <use x=\"392.578125\" xlink:href=\"#DejaVuSans-112\"/>\r\n     <use x=\"456.054688\" xlink:href=\"#DejaVuSans-108\"/>\r\n     <use x=\"483.837891\" xlink:href=\"#DejaVuSans-111\"/>\r\n     <use x=\"545.019531\" xlink:href=\"#DejaVuSans-116\"/>\r\n     <use x=\"584.228516\" xlink:href=\"#DejaVuSans-32\"/>\r\n     <use x=\"616.015625\" xlink:href=\"#DejaVuSans-99\"/>\r\n     <use x=\"670.996094\" xlink:href=\"#DejaVuSans-111\"/>\r\n     <use x=\"732.177734\" xlink:href=\"#DejaVuSans-109\"/>\r\n     <use x=\"829.589844\" xlink:href=\"#DejaVuSans-109\"/>\r\n     <use x=\"927.001953\" xlink:href=\"#DejaVuSans-101\"/>\r\n     <use x=\"988.525391\" xlink:href=\"#DejaVuSans-110\"/>\r\n     <use x=\"1051.904297\" xlink:href=\"#DejaVuSans-116\"/>\r\n     <use x=\"1091.113281\" xlink:href=\"#DejaVuSans-115\"/>\r\n     <use x=\"1143.212891\" xlink:href=\"#DejaVuSans-32\"/>\r\n     <use x=\"1175\" xlink:href=\"#DejaVuSans-118\"/>\r\n     <use x=\"1234.179688\" xlink:href=\"#DejaVuSans-115\"/>\r\n     <use x=\"1286.279297\" xlink:href=\"#DejaVuSans-32\"/>\r\n     <use x=\"1318.066406\" xlink:href=\"#DejaVuSans-108\"/>\r\n     <use x=\"1345.849609\" xlink:href=\"#DejaVuSans-105\"/>\r\n     <use x=\"1373.632812\" xlink:href=\"#DejaVuSans-107\"/>\r\n     <use x=\"1427.917969\" xlink:href=\"#DejaVuSans-101\"/>\r\n     <use x=\"1489.441406\" xlink:href=\"#DejaVuSans-115\"/>\r\n     <use x=\"1541.541016\" xlink:href=\"#DejaVuSans-32\"/>\r\n     <use x=\"1573.328125\" xlink:href=\"#DejaVuSans-66\"/>\r\n     <use x=\"1641.931641\" xlink:href=\"#DejaVuSans-117\"/>\r\n     <use x=\"1705.310547\" xlink:href=\"#DejaVuSans-116\"/>\r\n     <use x=\"1744.519531\" xlink:href=\"#DejaVuSans-104\"/>\r\n     <use x=\"1807.898438\" xlink:href=\"#DejaVuSans-101\"/>\r\n     <use x=\"1869.421875\" xlink:href=\"#DejaVuSans-119\"/>\r\n     <use x=\"1951.208984\" xlink:href=\"#DejaVuSans-101\"/>\r\n     <use x=\"2012.732422\" xlink:href=\"#DejaVuSans-115\"/>\r\n     <use x=\"2064.832031\" xlink:href=\"#DejaVuSans-116\"/>\r\n     <use x=\"2104.041016\" xlink:href=\"#DejaVuSans-105\"/>\r\n     <use x=\"2131.824219\" xlink:href=\"#DejaVuSans-101\"/>\r\n    </g>\r\n   </g>\r\n  </g>\r\n </g>\r\n <defs>\r\n  <clipPath id=\"pac1c370e6d\">\r\n   <rect height=\"217.44\" width=\"334.8\" x=\"53.328125\" y=\"22.318125\"/>\r\n  </clipPath>\r\n </defs>\r\n</svg>\r\n",
      "image/png": "[encoded data removed]"
     },
     "metadata": {
      "needs_background": "light"
     }
    }
   ],
   "source": [
    "plt.scatter(x=buthewestie_df1[\"likes\"], y = buthewestie_df1[\"comments\"])\n",
    "plt.xlabel(\"Comentarios\")\n",
    "plt.ylabel(\"Likes\")\n",
    "plt.title(\"Scatter plot comments vs likes Buthewestie\")"
   ]
  },
  {
   "source": [
    "Parece que los giveaway nos estan afectando la visualización. La columna [caption] es la descripción que le pusieron al post y nos puede ayudar a idenfiticar si el post es un giveaway. Cree una nueva columna que tenga valores true cuando la columna caption contenga el texto 'GIVEAWAY', asegurese de considerar todas las variantes en mayúsculas, minúsculas, alternando, etc. Utilice esta nueva columna para asignar color a los puntos en la gráfica y así identificar si los giveaway son los post con mas comentarios.\n",
    "\n",
    "Recuerde que pandas es su mejor amigo para estos temas, lea sobre *contains()*. Ponga atención al parámetro *case*"
   ],
   "cell_type": "markdown",
   "metadata": {}
  },
  {
   "cell_type": "code",
   "execution_count": 114,
   "metadata": {},
   "outputs": [
    {
     "output_type": "stream",
     "name": "stderr",
     "text": [
      "<ipython-input-114-e290ced0e7f6>:2: SettingWithCopyWarning:\n\n\nA value is trying to be set on a copy of a slice from a DataFrame.\nTry using .loc[row_indexer,col_indexer] = value instead\n\nSee the caveats in the documentation: https://pandas.pydata.org/pandas-docs/stable/user_guide/indexing.html#returning-a-view-versus-a-copy\n\n"
     ]
    },
    {
     "output_type": "execute_result",
     "data": {
      "text/plain": [
       "     Unnamed: 0                        csrf_token  viewer  viewer_id  \\\n",
       "0             0  D6iS7WnSFbhB9ZUFt5nWK51xdDegcZ6V     NaN        NaN   \n",
       "1             1  n9cW3xMiT311ZhtAfXYnEYO9dRBGkbhE     NaN        NaN   \n",
       "2             2  Y5WDcpqc8y0rsED1yI8YciJSgEqLJ9bT     NaN        NaN   \n",
       "3             3  5vFgXtmB2ihqowxoeLeVKvWA8UrpxAsa     NaN        NaN   \n",
       "4             4  F4ejlkqj0IhfwjCDxNAdffQCjBci05NN     NaN        NaN   \n",
       "..          ...                               ...     ...        ...   \n",
       "606         606  lLQgEa78j6QFwhq717s8BU1FL8usguHp     NaN        NaN   \n",
       "607         607  vi3biCcNLaTQrifbEdcEtP5yMkwBYU5o     NaN        NaN   \n",
       "608         608  tY75MYuS1MdDv7naOD8EfG4jBr4yiZHl     NaN        NaN   \n",
       "609         609  yRJV07BScJ1McXfo5ooyDn9edtfSyVSv     NaN        NaN   \n",
       "610         610  sqamxlx8q2FXKjIwg71eOti5GH8RRvBY     NaN        NaN   \n",
       "\n",
       "    country_code language_code locale                             device_id  \\\n",
       "0             GT            en  en_US  D4425F91-940E-4EE7-8FAA-4E1AAA1A8B58   \n",
       "1             GT            en  en_US  D4EBBE02-4EF2-46E4-ACA7-4F8908A0C0AF   \n",
       "2             GT            en  en_US  251B69CB-92EE-4D3A-B536-72AD356D98D8   \n",
       "3             GT            en  en_US  A0334128-ADCC-4A0F-8FD9-F27024D2BC57   \n",
       "4             GT            en  en_US  4C162E02-7158-4F01-AE88-7A3FC33167EE   \n",
       "..           ...           ...    ...                                   ...   \n",
       "606           GT            en  en_US  D22DA205-3C77-4C2F-98CD-92B7BC36AA82   \n",
       "607           GT            en  en_US  CCFD5672-0336-4B1E-A1B0-E86D8E80B71D   \n",
       "608           GT            en  en_US  7C5217A9-B98B-4B91-92C5-C6DFB65E8F4A   \n",
       "609           GT            en  en_US  5355A009-18D9-4564-B015-383C4C97E056   \n",
       "610           GT            en  en_US  0355BF40-4D87-4A42-A60F-8D020A786417   \n",
       "\n",
       "                                  browser_push_pub_key  key_id  ...  \\\n",
       "0    BIBn3E_rWTci8Xn6P9Xj3btShT85Wdtne0LtwNUyRQ5XjF...      88  ...   \n",
       "1    BIBn3E_rWTci8Xn6P9Xj3btShT85Wdtne0LtwNUyRQ5XjF...      88  ...   \n",
       "2    BIBn3E_rWTci8Xn6P9Xj3btShT85Wdtne0LtwNUyRQ5XjF...      88  ...   \n",
       "3    BIBn3E_rWTci8Xn6P9Xj3btShT85Wdtne0LtwNUyRQ5XjF...      88  ...   \n",
       "4    BIBn3E_rWTci8Xn6P9Xj3btShT85Wdtne0LtwNUyRQ5XjF...      88  ...   \n",
       "..                                                 ...     ...  ...   \n",
       "606  BIBn3E_rWTci8Xn6P9Xj3btShT85Wdtne0LtwNUyRQ5XjF...      88  ...   \n",
       "607  BIBn3E_rWTci8Xn6P9Xj3btShT85Wdtne0LtwNUyRQ5XjF...      88  ...   \n",
       "608  BIBn3E_rWTci8Xn6P9Xj3btShT85Wdtne0LtwNUyRQ5XjF...      88  ...   \n",
       "609  BIBn3E_rWTci8Xn6P9Xj3btShT85Wdtne0LtwNUyRQ5XjF...      88  ...   \n",
       "610  BIBn3E_rWTci8Xn6P9Xj3btShT85Wdtne0LtwNUyRQ5XjF...      88  ...   \n",
       "\n",
       "    viewer_can_reshare  video_url  has_audio video_view_count     username  \\\n",
       "0                 True        NaN        NaN              NaN  buthewestie   \n",
       "1                 True        NaN        NaN              NaN  buthewestie   \n",
       "2                 True        NaN        NaN              NaN  buthewestie   \n",
       "3                 True        NaN        NaN              NaN  buthewestie   \n",
       "4                 True        NaN        NaN              NaN  buthewestie   \n",
       "..                 ...        ...        ...              ...          ...   \n",
       "606               True        NaN        NaN              NaN  buthewestie   \n",
       "607               True        NaN        NaN              NaN  buthewestie   \n",
       "608               True        NaN        NaN              NaN  buthewestie   \n",
       "609               True        NaN        NaN              NaN  buthewestie   \n",
       "610               True        NaN        NaN              NaN  buthewestie   \n",
       "\n",
       "         full_name         upload_date  \\\n",
       "0    Bu the Westie 2020-12-21 09:22:24   \n",
       "1    Bu the Westie 2020-12-20 09:32:18   \n",
       "2    Bu the Westie 2020-12-16 09:28:28   \n",
       "3    Bu the Westie 2020-12-13 14:57:03   \n",
       "4    Bu the Westie 2020-12-07 11:44:15   \n",
       "..             ...                 ...   \n",
       "606  Bu the Westie 2015-11-07 23:28:45   \n",
       "607  Bu the Westie 2015-11-07 13:47:59   \n",
       "608  Bu the Westie 2015-11-05 19:29:54   \n",
       "609  Bu the Westie 2015-11-04 21:30:26   \n",
       "610  Bu the Westie 2015-11-03 20:58:59   \n",
       "\n",
       "                                              hashtags  period  giveaway  \n",
       "0                                                   []   20-12     False  \n",
       "1                                                   []   20-12     False  \n",
       "2                                      ['dogapproved']   20-12     False  \n",
       "3              ['OliyBu', 'ThiagoyBu', 'OliThiagoyBu']   20-12     False  \n",
       "4    ['christmaspresent', 'bestchristmaspresent', '...   20-12     False  \n",
       "..                                                 ...     ...       ...  \n",
       "606  ['home', 'homesweethome', 'sleeping', 'instada...   15-11     False  \n",
       "607  ['home', 'homesweethome', 'ball', 'instadaily'...   15-11     False  \n",
       "608  ['home', 'homesweethome', 'sleeping', 'instada...   15-11     False  \n",
       "609  ['home', 'homesweethome', 'sleeping', 'instada...   15-11     False  \n",
       "610  ['home', 'homesweethome', 'sleeping', 'instada...   15-11     False  \n",
       "\n",
       "[611 rows x 54 columns]"
      ],
      "text/html": "<div>\n<style scoped>\n    .dataframe tbody tr th:only-of-type {\n        vertical-align: middle;\n    }\n\n    .dataframe tbody tr th {\n        vertical-align: top;\n    }\n\n    .dataframe thead th {\n        text-align: right;\n    }\n</style>\n<table border=\"1\" class=\"dataframe\">\n  <thead>\n    <tr style=\"text-align: right;\">\n      <th></th>\n      <th>Unnamed: 0</th>\n      <th>csrf_token</th>\n      <th>viewer</th>\n      <th>viewer_id</th>\n      <th>country_code</th>\n      <th>language_code</th>\n      <th>locale</th>\n      <th>device_id</th>\n      <th>browser_push_pub_key</th>\n      <th>key_id</th>\n      <th>...</th>\n      <th>viewer_can_reshare</th>\n      <th>video_url</th>\n      <th>has_audio</th>\n      <th>video_view_count</th>\n      <th>username</th>\n      <th>full_name</th>\n      <th>upload_date</th>\n      <th>hashtags</th>\n      <th>period</th>\n      <th>giveaway</th>\n    </tr>\n  </thead>\n  <tbody>\n    <tr>\n      <th>0</th>\n      <td>0</td>\n      <td>D6iS7WnSFbhB9ZUFt5nWK51xdDegcZ6V</td>\n      <td>NaN</td>\n      <td>NaN</td>\n      <td>GT</td>\n      <td>en</td>\n      <td>en_US</td>\n      <td>D4425F91-940E-4EE7-8FAA-4E1AAA1A8B58</td>\n      <td>BIBn3E_rWTci8Xn6P9Xj3btShT85Wdtne0LtwNUyRQ5XjF...</td>\n      <td>88</td>\n      <td>...</td>\n      <td>True</td>\n      <td>NaN</td>\n      <td>NaN</td>\n      <td>NaN</td>\n      <td>buthewestie</td>\n      <td>Bu the Westie</td>\n      <td>2020-12-21 09:22:24</td>\n      <td>[]</td>\n      <td>20-12</td>\n      <td>False</td>\n    </tr>\n    <tr>\n      <th>1</th>\n      <td>1</td>\n      <td>n9cW3xMiT311ZhtAfXYnEYO9dRBGkbhE</td>\n      <td>NaN</td>\n      <td>NaN</td>\n      <td>GT</td>\n      <td>en</td>\n      <td>en_US</td>\n      <td>D4EBBE02-4EF2-46E4-ACA7-4F8908A0C0AF</td>\n      <td>BIBn3E_rWTci8Xn6P9Xj3btShT85Wdtne0LtwNUyRQ5XjF...</td>\n      <td>88</td>\n      <td>...</td>\n      <td>True</td>\n      <td>NaN</td>\n      <td>NaN</td>\n      <td>NaN</td>\n      <td>buthewestie</td>\n      <td>Bu the Westie</td>\n      <td>2020-12-20 09:32:18</td>\n      <td>[]</td>\n      <td>20-12</td>\n      <td>False</td>\n    </tr>\n    <tr>\n      <th>2</th>\n      <td>2</td>\n      <td>Y5WDcpqc8y0rsED1yI8YciJSgEqLJ9bT</td>\n      <td>NaN</td>\n      <td>NaN</td>\n      <td>GT</td>\n      <td>en</td>\n      <td>en_US</td>\n      <td>251B69CB-92EE-4D3A-B536-72AD356D98D8</td>\n      <td>BIBn3E_rWTci8Xn6P9Xj3btShT85Wdtne0LtwNUyRQ5XjF...</td>\n      <td>88</td>\n      <td>...</td>\n      <td>True</td>\n      <td>NaN</td>\n      <td>NaN</td>\n      <td>NaN</td>\n      <td>buthewestie</td>\n      <td>Bu the Westie</td>\n      <td>2020-12-16 09:28:28</td>\n      <td>['dogapproved']</td>\n      <td>20-12</td>\n      <td>False</td>\n    </tr>\n    <tr>\n      <th>3</th>\n      <td>3</td>\n      <td>5vFgXtmB2ihqowxoeLeVKvWA8UrpxAsa</td>\n      <td>NaN</td>\n      <td>NaN</td>\n      <td>GT</td>\n      <td>en</td>\n      <td>en_US</td>\n      <td>A0334128-ADCC-4A0F-8FD9-F27024D2BC57</td>\n      <td>BIBn3E_rWTci8Xn6P9Xj3btShT85Wdtne0LtwNUyRQ5XjF...</td>\n      <td>88</td>\n      <td>...</td>\n      <td>True</td>\n      <td>NaN</td>\n      <td>NaN</td>\n      <td>NaN</td>\n      <td>buthewestie</td>\n      <td>Bu the Westie</td>\n      <td>2020-12-13 14:57:03</td>\n      <td>['OliyBu', 'ThiagoyBu', 'OliThiagoyBu']</td>\n      <td>20-12</td>\n      <td>False</td>\n    </tr>\n    <tr>\n      <th>4</th>\n      <td>4</td>\n      <td>F4ejlkqj0IhfwjCDxNAdffQCjBci05NN</td>\n      <td>NaN</td>\n      <td>NaN</td>\n      <td>GT</td>\n      <td>en</td>\n      <td>en_US</td>\n      <td>4C162E02-7158-4F01-AE88-7A3FC33167EE</td>\n      <td>BIBn3E_rWTci8Xn6P9Xj3btShT85Wdtne0LtwNUyRQ5XjF...</td>\n      <td>88</td>\n      <td>...</td>\n      <td>True</td>\n      <td>NaN</td>\n      <td>NaN</td>\n      <td>NaN</td>\n      <td>buthewestie</td>\n      <td>Bu the Westie</td>\n      <td>2020-12-07 11:44:15</td>\n      <td>['christmaspresent', 'bestchristmaspresent', '...</td>\n      <td>20-12</td>\n      <td>False</td>\n    </tr>\n    <tr>\n      <th>...</th>\n      <td>...</td>\n      <td>...</td>\n      <td>...</td>\n      <td>...</td>\n      <td>...</td>\n      <td>...</td>\n      <td>...</td>\n      <td>...</td>\n      <td>...</td>\n      <td>...</td>\n      <td>...</td>\n      <td>...</td>\n      <td>...</td>\n      <td>...</td>\n      <td>...</td>\n      <td>...</td>\n      <td>...</td>\n      <td>...</td>\n      <td>...</td>\n      <td>...</td>\n      <td>...</td>\n    </tr>\n    <tr>\n      <th>606</th>\n      <td>606</td>\n      <td>lLQgEa78j6QFwhq717s8BU1FL8usguHp</td>\n      <td>NaN</td>\n      <td>NaN</td>\n      <td>GT</td>\n      <td>en</td>\n      <td>en_US</td>\n      <td>D22DA205-3C77-4C2F-98CD-92B7BC36AA82</td>\n      <td>BIBn3E_rWTci8Xn6P9Xj3btShT85Wdtne0LtwNUyRQ5XjF...</td>\n      <td>88</td>\n      <td>...</td>\n      <td>True</td>\n      <td>NaN</td>\n      <td>NaN</td>\n      <td>NaN</td>\n      <td>buthewestie</td>\n      <td>Bu the Westie</td>\n      <td>2015-11-07 23:28:45</td>\n      <td>['home', 'homesweethome', 'sleeping', 'instada...</td>\n      <td>15-11</td>\n      <td>False</td>\n    </tr>\n    <tr>\n      <th>607</th>\n      <td>607</td>\n      <td>vi3biCcNLaTQrifbEdcEtP5yMkwBYU5o</td>\n      <td>NaN</td>\n      <td>NaN</td>\n      <td>GT</td>\n      <td>en</td>\n      <td>en_US</td>\n      <td>CCFD5672-0336-4B1E-A1B0-E86D8E80B71D</td>\n      <td>BIBn3E_rWTci8Xn6P9Xj3btShT85Wdtne0LtwNUyRQ5XjF...</td>\n      <td>88</td>\n      <td>...</td>\n      <td>True</td>\n      <td>NaN</td>\n      <td>NaN</td>\n      <td>NaN</td>\n      <td>buthewestie</td>\n      <td>Bu the Westie</td>\n      <td>2015-11-07 13:47:59</td>\n      <td>['home', 'homesweethome', 'ball', 'instadaily'...</td>\n      <td>15-11</td>\n      <td>False</td>\n    </tr>\n    <tr>\n      <th>608</th>\n      <td>608</td>\n      <td>tY75MYuS1MdDv7naOD8EfG4jBr4yiZHl</td>\n      <td>NaN</td>\n      <td>NaN</td>\n      <td>GT</td>\n      <td>en</td>\n      <td>en_US</td>\n      <td>7C5217A9-B98B-4B91-92C5-C6DFB65E8F4A</td>\n      <td>BIBn3E_rWTci8Xn6P9Xj3btShT85Wdtne0LtwNUyRQ5XjF...</td>\n      <td>88</td>\n      <td>...</td>\n      <td>True</td>\n      <td>NaN</td>\n      <td>NaN</td>\n      <td>NaN</td>\n      <td>buthewestie</td>\n      <td>Bu the Westie</td>\n      <td>2015-11-05 19:29:54</td>\n      <td>['home', 'homesweethome', 'sleeping', 'instada...</td>\n      <td>15-11</td>\n      <td>False</td>\n    </tr>\n    <tr>\n      <th>609</th>\n      <td>609</td>\n      <td>yRJV07BScJ1McXfo5ooyDn9edtfSyVSv</td>\n      <td>NaN</td>\n      <td>NaN</td>\n      <td>GT</td>\n      <td>en</td>\n      <td>en_US</td>\n      <td>5355A009-18D9-4564-B015-383C4C97E056</td>\n      <td>BIBn3E_rWTci8Xn6P9Xj3btShT85Wdtne0LtwNUyRQ5XjF...</td>\n      <td>88</td>\n      <td>...</td>\n      <td>True</td>\n      <td>NaN</td>\n      <td>NaN</td>\n      <td>NaN</td>\n      <td>buthewestie</td>\n      <td>Bu the Westie</td>\n      <td>2015-11-04 21:30:26</td>\n      <td>['home', 'homesweethome', 'sleeping', 'instada...</td>\n      <td>15-11</td>\n      <td>False</td>\n    </tr>\n    <tr>\n      <th>610</th>\n      <td>610</td>\n      <td>sqamxlx8q2FXKjIwg71eOti5GH8RRvBY</td>\n      <td>NaN</td>\n      <td>NaN</td>\n      <td>GT</td>\n      <td>en</td>\n      <td>en_US</td>\n      <td>0355BF40-4D87-4A42-A60F-8D020A786417</td>\n      <td>BIBn3E_rWTci8Xn6P9Xj3btShT85Wdtne0LtwNUyRQ5XjF...</td>\n      <td>88</td>\n      <td>...</td>\n      <td>True</td>\n      <td>NaN</td>\n      <td>NaN</td>\n      <td>NaN</td>\n      <td>buthewestie</td>\n      <td>Bu the Westie</td>\n      <td>2015-11-03 20:58:59</td>\n      <td>['home', 'homesweethome', 'sleeping', 'instada...</td>\n      <td>15-11</td>\n      <td>False</td>\n    </tr>\n  </tbody>\n</table>\n<p>611 rows × 54 columns</p>\n</div>"
     },
     "metadata": {},
     "execution_count": 114
    }
   ],
   "source": [
    "giveaway = '^(g|G)(i|I)(v|V)(e|E)(a|A)(w|W)(a|A)(y|Y)$'\n",
    "buthewestie_df1[\"giveaway\"] = buthewestie_df1[\"caption\"].str.contains('giveaway', case = False, regex = None)\n",
    "buthewestie_df1\n"
   ]
  },
  {
   "cell_type": "code",
   "execution_count": 115,
   "metadata": {},
   "outputs": [
    {
     "output_type": "execute_result",
     "data": {
      "text/plain": [
       "Text(0.5, 1.0, 'Scatter plot comments vs likes Buthewestie')"
      ]
     },
     "metadata": {},
     "execution_count": 115
    },
    {
     "output_type": "display_data",
     "data": {
      "text/plain": "<Figure size 432x288 with 1 Axes>",
      "image/svg+xml": "<?xml version=\"1.0\" encoding=\"utf-8\" standalone=\"no\"?>\r\n<!DOCTYPE svg PUBLIC \"-//W3C//DTD SVG 1.1//EN\"\r\n  \"http://www.w3.org/Graphics/SVG/1.1/DTD/svg11.dtd\">\r\n<!-- Created with matplotlib (https://matplotlib.org/) -->\r\n<svg height=\"277.314375pt\" version=\"1.1\" viewBox=\"0 0 406.794893 277.314375\" width=\"406.794893pt\" xmlns=\"http://www.w3.org/2000/svg\" xmlns:xlink=\"http://www.w3.org/1999/xlink\">\r\n <metadata>\r\n  <rdf:RDF xmlns:cc=\"http://creativecommons.org/ns#\" xmlns:dc=\"http://purl.org/dc/elements/1.1/\" xmlns:rdf=\"http://www.w3.org/1999/02/22-rdf-syntax-ns#\">\r\n   <cc:Work>\r\n    <dc:type rdf:resource=\"http://purl.org/dc/dcmitype/StillImage\"/>\r\n    <dc:date>2021-04-11T00:42:53.222233</dc:date>\r\n    <dc:format>image/svg+xml</dc:format>\r\n    <dc:creator>\r\n     <cc:Agent>\r\n      <dc:title>Matplotlib v3.3.2, https://matplotlib.org/</dc:title>\r\n     </cc:Agent>\r\n    </dc:creator>\r\n   </cc:Work>\r\n  </rdf:RDF>\r\n </metadata>\r\n <defs>\r\n  <style type=\"text/css\">*{stroke-linecap:butt;stroke-linejoin:round;}</style>\r\n </defs>\r\n <g id=\"figure_1\">\r\n  <g id=\"patch_1\">\r\n   <path d=\"M 0 277.314375 \r\nL 406.794893 277.314375 \r\nL 406.794893 0 \r\nL 0 0 \r\nz\r\n\" style=\"fill:none;\"/>\r\n  </g>\r\n  <g id=\"axes_1\">\r\n   <g id=\"patch_2\">\r\n    <path d=\"M 53.328125 239.758125 \r\nL 388.128125 239.758125 \r\nL 388.128125 22.318125 \r\nL 53.328125 22.318125 \r\nz\r\n\" style=\"fill:#ffffff;\"/>\r\n   </g>\r\n   <g id=\"PathCollection_1\">\r\n    <defs>\r\n     <path d=\"M 0 3 \r\nC 0.795609 3 1.55874 2.683901 2.12132 2.12132 \r\nC 2.683901 1.55874 3 0.795609 3 -0 \r\nC 3 -0.795609 2.683901 -1.55874 2.12132 -2.12132 \r\nC 1.55874 -2.683901 0.795609 -3 0 -3 \r\nC -0.795609 -3 -1.55874 -2.683901 -2.12132 -2.12132 \r\nC -2.683901 -1.55874 -3 -0.795609 -3 0 \r\nC -3 0.795609 -2.683901 1.55874 -2.12132 2.12132 \r\nC -1.55874 2.683901 -0.795609 3 0 3 \r\nz\r\n\" id=\"C0_0_152b4b0874\"/>\r\n    </defs>\r\n    <g clip-path=\"url(#p82da0593bd)\">\r\n     <use style=\"fill:#440154;stroke:#440154;\" x=\"101.609345\" xlink:href=\"#C0_0_152b4b0874\" y=\"228.074191\"/>\r\n    </g>\r\n    <g clip-path=\"url(#p82da0593bd)\">\r\n     <use style=\"fill:#440154;stroke:#440154;\" x=\"102.344079\" xlink:href=\"#C0_0_152b4b0874\" y=\"229.274389\"/>\r\n    </g>\r\n    <g clip-path=\"url(#p82da0593bd)\">\r\n     <use style=\"fill:#440154;stroke:#440154;\" x=\"104.364598\" xlink:href=\"#C0_0_152b4b0874\" y=\"229.394409\"/>\r\n    </g>\r\n    <g clip-path=\"url(#p82da0593bd)\">\r\n     <use style=\"fill:#440154;stroke:#440154;\" x=\"132.284497\" xlink:href=\"#C0_0_152b4b0874\" y=\"226.994012\"/>\r\n    </g>\r\n    <g clip-path=\"url(#p82da0593bd)\">\r\n     <use style=\"fill:#440154;stroke:#440154;\" x=\"116.487712\" xlink:href=\"#C0_0_152b4b0874\" y=\"229.154369\"/>\r\n    </g>\r\n    <g clip-path=\"url(#p82da0593bd)\">\r\n     <use style=\"fill:#440154;stroke:#440154;\" x=\"88.93518\" xlink:href=\"#C0_0_152b4b0874\" y=\"229.514429\"/>\r\n    </g>\r\n    <g clip-path=\"url(#p82da0593bd)\">\r\n     <use style=\"fill:#440154;stroke:#440154;\" x=\"92.608851\" xlink:href=\"#C0_0_152b4b0874\" y=\"229.754469\"/>\r\n    </g>\r\n    <g clip-path=\"url(#p82da0593bd)\">\r\n     <use style=\"fill:#440154;stroke:#440154;\" x=\"106.936168\" xlink:href=\"#C0_0_152b4b0874\" y=\"227.714131\"/>\r\n    </g>\r\n    <g clip-path=\"url(#p82da0593bd)\">\r\n     <use style=\"fill:#440154;stroke:#440154;\" x=\"120.712434\" xlink:href=\"#C0_0_152b4b0874\" y=\"229.154369\"/>\r\n    </g>\r\n    <g clip-path=\"url(#p82da0593bd)\">\r\n     <use style=\"fill:#440154;stroke:#440154;\" x=\"79.934687\" xlink:href=\"#C0_0_152b4b0874\" y=\"229.874489\"/>\r\n    </g>\r\n    <g clip-path=\"url(#p82da0593bd)\">\r\n     <use style=\"fill:#440154;stroke:#440154;\" x=\"97.935674\" xlink:href=\"#C0_0_152b4b0874\" y=\"229.634449\"/>\r\n    </g>\r\n    <g clip-path=\"url(#p82da0593bd)\">\r\n     <use style=\"fill:#440154;stroke:#440154;\" x=\"115.936662\" xlink:href=\"#C0_0_152b4b0874\" y=\"229.03435\"/>\r\n    </g>\r\n    <g clip-path=\"url(#p82da0593bd)\">\r\n     <use style=\"fill:#440154;stroke:#440154;\" x=\"97.935674\" xlink:href=\"#C0_0_152b4b0874\" y=\"229.874489\"/>\r\n    </g>\r\n    <g clip-path=\"url(#p82da0593bd)\">\r\n     <use style=\"fill:#440154;stroke:#440154;\" x=\"107.119852\" xlink:href=\"#C0_0_152b4b0874\" y=\"229.634449\"/>\r\n    </g>\r\n    <g clip-path=\"url(#p82da0593bd)\">\r\n     <use style=\"fill:#440154;stroke:#440154;\" x=\"118.140864\" xlink:href=\"#C0_0_152b4b0874\" y=\"229.03435\"/>\r\n    </g>\r\n    <g clip-path=\"url(#p82da0593bd)\">\r\n     <use style=\"fill:#440154;stroke:#440154;\" x=\"105.650383\" xlink:href=\"#C0_0_152b4b0874\" y=\"229.274389\"/>\r\n    </g>\r\n    <g clip-path=\"url(#p82da0593bd)\">\r\n     <use style=\"fill:#440154;stroke:#440154;\" x=\"104.180915\" xlink:href=\"#C0_0_152b4b0874\" y=\"228.91433\"/>\r\n    </g>\r\n    <g clip-path=\"url(#p82da0593bd)\">\r\n     <use style=\"fill:#440154;stroke:#440154;\" x=\"103.078814\" xlink:href=\"#C0_0_152b4b0874\" y=\"229.154369\"/>\r\n    </g>\r\n    <g clip-path=\"url(#p82da0593bd)\">\r\n     <use style=\"fill:#440154;stroke:#440154;\" x=\"181.511688\" xlink:href=\"#C0_0_152b4b0874\" y=\"229.394409\"/>\r\n    </g>\r\n    <g clip-path=\"url(#p82da0593bd)\">\r\n     <use style=\"fill:#fde725;stroke:#fde725;\" x=\"218.615764\" xlink:href=\"#C0_0_152b4b0874\" y=\"32.201761\"/>\r\n    </g>\r\n    <g clip-path=\"url(#p82da0593bd)\">\r\n     <use style=\"fill:#440154;stroke:#440154;\" x=\"164.796485\" xlink:href=\"#C0_0_152b4b0874\" y=\"229.154369\"/>\r\n    </g>\r\n    <g clip-path=\"url(#p82da0593bd)\">\r\n     <use style=\"fill:#440154;stroke:#440154;\" x=\"102.89513\" xlink:href=\"#C0_0_152b4b0874\" y=\"227.714131\"/>\r\n    </g>\r\n    <g clip-path=\"url(#p82da0593bd)\">\r\n     <use style=\"fill:#440154;stroke:#440154;\" x=\"114.28351\" xlink:href=\"#C0_0_152b4b0874\" y=\"228.67429\"/>\r\n    </g>\r\n    <g clip-path=\"url(#p82da0593bd)\">\r\n     <use style=\"fill:#440154;stroke:#440154;\" x=\"248.739866\" xlink:href=\"#C0_0_152b4b0874\" y=\"228.31423\"/>\r\n    </g>\r\n    <g clip-path=\"url(#p82da0593bd)\">\r\n     <use style=\"fill:#440154;stroke:#440154;\" x=\"125.67189\" xlink:href=\"#C0_0_152b4b0874\" y=\"228.67429\"/>\r\n    </g>\r\n    <g clip-path=\"url(#p82da0593bd)\">\r\n     <use style=\"fill:#440154;stroke:#440154;\" x=\"153.408105\" xlink:href=\"#C0_0_152b4b0874\" y=\"229.274389\"/>\r\n    </g>\r\n    <g clip-path=\"url(#p82da0593bd)\">\r\n     <use style=\"fill:#440154;stroke:#440154;\" x=\"144.958662\" xlink:href=\"#C0_0_152b4b0874\" y=\"229.03435\"/>\r\n    </g>\r\n    <g clip-path=\"url(#p82da0593bd)\">\r\n     <use style=\"fill:#440154;stroke:#440154;\" x=\"219.350498\" xlink:href=\"#C0_0_152b4b0874\" y=\"228.55427\"/>\r\n    </g>\r\n    <g clip-path=\"url(#p82da0593bd)\">\r\n     <use style=\"fill:#440154;stroke:#440154;\" x=\"101.793029\" xlink:href=\"#C0_0_152b4b0874\" y=\"228.79431\"/>\r\n    </g>\r\n    <g clip-path=\"url(#p82da0593bd)\">\r\n     <use style=\"fill:#440154;stroke:#440154;\" x=\"176.184865\" xlink:href=\"#C0_0_152b4b0874\" y=\"228.79431\"/>\r\n    </g>\r\n    <g clip-path=\"url(#p82da0593bd)\">\r\n     <use style=\"fill:#440154;stroke:#440154;\" x=\"141.101308\" xlink:href=\"#C0_0_152b4b0874\" y=\"229.03435\"/>\r\n    </g>\r\n    <g clip-path=\"url(#p82da0593bd)\">\r\n     <use style=\"fill:#440154;stroke:#440154;\" x=\"124.569788\" xlink:href=\"#C0_0_152b4b0874\" y=\"228.79431\"/>\r\n    </g>\r\n    <g clip-path=\"url(#p82da0593bd)\">\r\n     <use style=\"fill:#440154;stroke:#440154;\" x=\"131.733447\" xlink:href=\"#C0_0_152b4b0874\" y=\"229.154369\"/>\r\n    </g>\r\n    <g clip-path=\"url(#p82da0593bd)\">\r\n     <use style=\"fill:#440154;stroke:#440154;\" x=\"114.467193\" xlink:href=\"#C0_0_152b4b0874\" y=\"229.274389\"/>\r\n    </g>\r\n    <g clip-path=\"url(#p82da0593bd)\">\r\n     <use style=\"fill:#440154;stroke:#440154;\" x=\"124.386105\" xlink:href=\"#C0_0_152b4b0874\" y=\"229.634449\"/>\r\n    </g>\r\n    <g clip-path=\"url(#p82da0593bd)\">\r\n     <use style=\"fill:#440154;stroke:#440154;\" x=\"117.222447\" xlink:href=\"#C0_0_152b4b0874\" y=\"229.154369\"/>\r\n    </g>\r\n    <g clip-path=\"url(#p82da0593bd)\">\r\n     <use style=\"fill:#440154;stroke:#440154;\" x=\"187.756928\" xlink:href=\"#C0_0_152b4b0874\" y=\"228.43425\"/>\r\n    </g>\r\n    <g clip-path=\"url(#p82da0593bd)\">\r\n     <use style=\"fill:#440154;stroke:#440154;\" x=\"81.036788\" xlink:href=\"#C0_0_152b4b0874\" y=\"229.634449\"/>\r\n    </g>\r\n    <g clip-path=\"url(#p82da0593bd)\">\r\n     <use style=\"fill:#440154;stroke:#440154;\" x=\"105.650383\" xlink:href=\"#C0_0_152b4b0874\" y=\"229.394409\"/>\r\n    </g>\r\n    <g clip-path=\"url(#p82da0593bd)\">\r\n     <use style=\"fill:#440154;stroke:#440154;\" x=\"103.997231\" xlink:href=\"#C0_0_152b4b0874\" y=\"229.514429\"/>\r\n    </g>\r\n    <g clip-path=\"url(#p82da0593bd)\">\r\n     <use style=\"fill:#440154;stroke:#440154;\" x=\"108.956687\" xlink:href=\"#C0_0_152b4b0874\" y=\"229.754469\"/>\r\n    </g>\r\n    <g clip-path=\"url(#p82da0593bd)\">\r\n     <use style=\"fill:#440154;stroke:#440154;\" x=\"130.815029\" xlink:href=\"#C0_0_152b4b0874\" y=\"229.634449\"/>\r\n    </g>\r\n    <g clip-path=\"url(#p82da0593bd)\">\r\n     <use style=\"fill:#440154;stroke:#440154;\" x=\"112.814041\" xlink:href=\"#C0_0_152b4b0874\" y=\"229.154369\"/>\r\n    </g>\r\n    <g clip-path=\"url(#p82da0593bd)\">\r\n     <use style=\"fill:#440154;stroke:#440154;\" x=\"123.835054\" xlink:href=\"#C0_0_152b4b0874\" y=\"228.79431\"/>\r\n    </g>\r\n    <g clip-path=\"url(#p82da0593bd)\">\r\n     <use style=\"fill:#440154;stroke:#440154;\" x=\"141.284991\" xlink:href=\"#C0_0_152b4b0874\" y=\"228.31423\"/>\r\n    </g>\r\n    <g clip-path=\"url(#p82da0593bd)\">\r\n     <use style=\"fill:#440154;stroke:#440154;\" x=\"126.039257\" xlink:href=\"#C0_0_152b4b0874\" y=\"229.394409\"/>\r\n    </g>\r\n    <g clip-path=\"url(#p82da0593bd)\">\r\n     <use style=\"fill:#440154;stroke:#440154;\" x=\"124.018738\" xlink:href=\"#C0_0_152b4b0874\" y=\"229.754469\"/>\r\n    </g>\r\n    <g clip-path=\"url(#p82da0593bd)\">\r\n     <use style=\"fill:#440154;stroke:#440154;\" x=\"129.529244\" xlink:href=\"#C0_0_152b4b0874\" y=\"229.154369\"/>\r\n    </g>\r\n    <g clip-path=\"url(#p82da0593bd)\">\r\n     <use style=\"fill:#440154;stroke:#440154;\" x=\"171.77646\" xlink:href=\"#C0_0_152b4b0874\" y=\"228.91433\"/>\r\n    </g>\r\n    <g clip-path=\"url(#p82da0593bd)\">\r\n     <use style=\"fill:#440154;stroke:#440154;\" x=\"97.384624\" xlink:href=\"#C0_0_152b4b0874\" y=\"229.634449\"/>\r\n    </g>\r\n    <g clip-path=\"url(#p82da0593bd)\">\r\n     <use style=\"fill:#440154;stroke:#440154;\" x=\"179.858536\" xlink:href=\"#C0_0_152b4b0874\" y=\"228.79431\"/>\r\n    </g>\r\n    <g clip-path=\"url(#p82da0593bd)\">\r\n     <use style=\"fill:#440154;stroke:#440154;\" x=\"123.284004\" xlink:href=\"#C0_0_152b4b0874\" y=\"228.43425\"/>\r\n    </g>\r\n    <g clip-path=\"url(#p82da0593bd)\">\r\n     <use style=\"fill:#440154;stroke:#440154;\" x=\"140.366573\" xlink:href=\"#C0_0_152b4b0874\" y=\"229.274389\"/>\r\n    </g>\r\n    <g clip-path=\"url(#p82da0593bd)\">\r\n     <use style=\"fill:#440154;stroke:#440154;\" x=\"185.552726\" xlink:href=\"#C0_0_152b4b0874\" y=\"228.91433\"/>\r\n    </g>\r\n    <g clip-path=\"url(#p82da0593bd)\">\r\n     <use style=\"fill:#440154;stroke:#440154;\" x=\"105.650383\" xlink:href=\"#C0_0_152b4b0874\" y=\"229.634449\"/>\r\n    </g>\r\n    <g clip-path=\"url(#p82da0593bd)\">\r\n     <use style=\"fill:#440154;stroke:#440154;\" x=\"107.854586\" xlink:href=\"#C0_0_152b4b0874\" y=\"229.754469\"/>\r\n    </g>\r\n    <g clip-path=\"url(#p82da0593bd)\">\r\n     <use style=\"fill:#fde725;stroke:#fde725;\" x=\"222.656802\" xlink:href=\"#C0_0_152b4b0874\" y=\"155.942248\"/>\r\n    </g>\r\n    <g clip-path=\"url(#p82da0593bd)\">\r\n     <use style=\"fill:#440154;stroke:#440154;\" x=\"116.487712\" xlink:href=\"#C0_0_152b4b0874\" y=\"229.394409\"/>\r\n    </g>\r\n    <g clip-path=\"url(#p82da0593bd)\">\r\n     <use style=\"fill:#440154;stroke:#440154;\" x=\"125.304523\" xlink:href=\"#C0_0_152b4b0874\" y=\"229.154369\"/>\r\n    </g>\r\n    <g clip-path=\"url(#p82da0593bd)\">\r\n     <use style=\"fill:#440154;stroke:#440154;\" x=\"106.936168\" xlink:href=\"#C0_0_152b4b0874\" y=\"229.634449\"/>\r\n    </g>\r\n    <g clip-path=\"url(#p82da0593bd)\">\r\n     <use style=\"fill:#440154;stroke:#440154;\" x=\"119.242966\" xlink:href=\"#C0_0_152b4b0874\" y=\"229.03435\"/>\r\n    </g>\r\n    <g clip-path=\"url(#p82da0593bd)\">\r\n     <use style=\"fill:#440154;stroke:#440154;\" x=\"372.909943\" xlink:href=\"#C0_0_152b4b0874\" y=\"227.114032\"/>\r\n    </g>\r\n    <g clip-path=\"url(#p82da0593bd)\">\r\n     <use style=\"fill:#440154;stroke:#440154;\" x=\"181.511688\" xlink:href=\"#C0_0_152b4b0874\" y=\"224.473594\"/>\r\n    </g>\r\n    <g clip-path=\"url(#p82da0593bd)\">\r\n     <use style=\"fill:#440154;stroke:#440154;\" x=\"150.285485\" xlink:href=\"#C0_0_152b4b0874\" y=\"227.954171\"/>\r\n    </g>\r\n    <g clip-path=\"url(#p82da0593bd)\">\r\n     <use style=\"fill:#440154;stroke:#440154;\" x=\"142.570776\" xlink:href=\"#C0_0_152b4b0874\" y=\"228.67429\"/>\r\n    </g>\r\n    <g clip-path=\"url(#p82da0593bd)\">\r\n     <use style=\"fill:#440154;stroke:#440154;\" x=\"164.245434\" xlink:href=\"#C0_0_152b4b0874\" y=\"228.55427\"/>\r\n    </g>\r\n    <g clip-path=\"url(#p82da0593bd)\">\r\n     <use style=\"fill:#440154;stroke:#440154;\" x=\"142.570776\" xlink:href=\"#C0_0_152b4b0874\" y=\"229.394409\"/>\r\n    </g>\r\n    <g clip-path=\"url(#p82da0593bd)\">\r\n     <use style=\"fill:#440154;stroke:#440154;\" x=\"117.222447\" xlink:href=\"#C0_0_152b4b0874\" y=\"228.91433\"/>\r\n    </g>\r\n    <g clip-path=\"url(#p82da0593bd)\">\r\n     <use style=\"fill:#440154;stroke:#440154;\" x=\"115.201928\" xlink:href=\"#C0_0_152b4b0874\" y=\"227.834151\"/>\r\n    </g>\r\n    <g clip-path=\"url(#p82da0593bd)\">\r\n     <use style=\"fill:#440154;stroke:#440154;\" x=\"110.058788\" xlink:href=\"#C0_0_152b4b0874\" y=\"229.03435\"/>\r\n    </g>\r\n    <g clip-path=\"url(#p82da0593bd)\">\r\n     <use style=\"fill:#440154;stroke:#440154;\" x=\"106.568801\" xlink:href=\"#C0_0_152b4b0874\" y=\"229.634449\"/>\r\n    </g>\r\n    <g clip-path=\"url(#p82da0593bd)\">\r\n     <use style=\"fill:#440154;stroke:#440154;\" x=\"79.383636\" xlink:href=\"#C0_0_152b4b0874\" y=\"229.634449\"/>\r\n    </g>\r\n    <g clip-path=\"url(#p82da0593bd)\">\r\n     <use style=\"fill:#fde725;stroke:#fde725;\" x=\"141.836042\" xlink:href=\"#C0_0_152b4b0874\" y=\"215.832164\"/>\r\n    </g>\r\n    <g clip-path=\"url(#p82da0593bd)\">\r\n     <use style=\"fill:#440154;stroke:#440154;\" x=\"135.039751\" xlink:href=\"#C0_0_152b4b0874\" y=\"229.03435\"/>\r\n    </g>\r\n    <g clip-path=\"url(#p82da0593bd)\">\r\n     <use style=\"fill:#440154;stroke:#440154;\" x=\"177.47065\" xlink:href=\"#C0_0_152b4b0874\" y=\"227.474091\"/>\r\n    </g>\r\n    <g clip-path=\"url(#p82da0593bd)\">\r\n     <use style=\"fill:#440154;stroke:#440154;\" x=\"145.87708\" xlink:href=\"#C0_0_152b4b0874\" y=\"228.19421\"/>\r\n    </g>\r\n    <g clip-path=\"url(#p82da0593bd)\">\r\n     <use style=\"fill:#440154;stroke:#440154;\" x=\"121.814535\" xlink:href=\"#C0_0_152b4b0874\" y=\"229.03435\"/>\r\n    </g>\r\n    <g clip-path=\"url(#p82da0593bd)\">\r\n     <use style=\"fill:#440154;stroke:#440154;\" x=\"112.814041\" xlink:href=\"#C0_0_152b4b0874\" y=\"229.514429\"/>\r\n    </g>\r\n    <g clip-path=\"url(#p82da0593bd)\">\r\n     <use style=\"fill:#440154;stroke:#440154;\" x=\"114.467193\" xlink:href=\"#C0_0_152b4b0874\" y=\"228.91433\"/>\r\n    </g>\r\n    <g clip-path=\"url(#p82da0593bd)\">\r\n     <use style=\"fill:#440154;stroke:#440154;\" x=\"166.633321\" xlink:href=\"#C0_0_152b4b0874\" y=\"228.67429\"/>\r\n    </g>\r\n    <g clip-path=\"url(#p82da0593bd)\">\r\n     <use style=\"fill:#440154;stroke:#440154;\" x=\"119.059282\" xlink:href=\"#C0_0_152b4b0874\" y=\"228.67429\"/>\r\n    </g>\r\n    <g clip-path=\"url(#p82da0593bd)\">\r\n     <use style=\"fill:#440154;stroke:#440154;\" x=\"154.142839\" xlink:href=\"#C0_0_152b4b0874\" y=\"228.79431\"/>\r\n    </g>\r\n    <g clip-path=\"url(#p82da0593bd)\">\r\n     <use style=\"fill:#440154;stroke:#440154;\" x=\"213.288941\" xlink:href=\"#C0_0_152b4b0874\" y=\"228.67429\"/>\r\n    </g>\r\n    <g clip-path=\"url(#p82da0593bd)\">\r\n     <use style=\"fill:#440154;stroke:#440154;\" x=\"147.713915\" xlink:href=\"#C0_0_152b4b0874\" y=\"227.954171\"/>\r\n    </g>\r\n    <g clip-path=\"url(#p82da0593bd)\">\r\n     <use style=\"fill:#440154;stroke:#440154;\" x=\"145.693396\" xlink:href=\"#C0_0_152b4b0874\" y=\"228.67429\"/>\r\n    </g>\r\n    <g clip-path=\"url(#p82da0593bd)\">\r\n     <use style=\"fill:#440154;stroke:#440154;\" x=\"156.898093\" xlink:href=\"#C0_0_152b4b0874\" y=\"229.274389\"/>\r\n    </g>\r\n    <g clip-path=\"url(#p82da0593bd)\">\r\n     <use style=\"fill:#440154;stroke:#440154;\" x=\"139.264472\" xlink:href=\"#C0_0_152b4b0874\" y=\"229.154369\"/>\r\n    </g>\r\n    <g clip-path=\"url(#p82da0593bd)\">\r\n     <use style=\"fill:#440154;stroke:#440154;\" x=\"157.449143\" xlink:href=\"#C0_0_152b4b0874\" y=\"228.67429\"/>\r\n    </g>\r\n    <g clip-path=\"url(#p82da0593bd)\">\r\n     <use style=\"fill:#440154;stroke:#440154;\" x=\"137.61132\" xlink:href=\"#C0_0_152b4b0874\" y=\"229.274389\"/>\r\n    </g>\r\n    <g clip-path=\"url(#p82da0593bd)\">\r\n     <use style=\"fill:#fde725;stroke:#fde725;\" x=\"201.900561\" xlink:href=\"#C0_0_152b4b0874\" y=\"197.109064\"/>\r\n    </g>\r\n    <g clip-path=\"url(#p82da0593bd)\">\r\n     <use style=\"fill:#440154;stroke:#440154;\" x=\"172.143827\" xlink:href=\"#C0_0_152b4b0874\" y=\"228.43425\"/>\r\n    </g>\r\n    <g clip-path=\"url(#p82da0593bd)\">\r\n     <use style=\"fill:#440154;stroke:#440154;\" x=\"154.877574\" xlink:href=\"#C0_0_152b4b0874\" y=\"228.31423\"/>\r\n    </g>\r\n    <g clip-path=\"url(#p82da0593bd)\">\r\n     <use style=\"fill:#440154;stroke:#440154;\" x=\"129.529244\" xlink:href=\"#C0_0_152b4b0874\" y=\"228.43425\"/>\r\n    </g>\r\n    <g clip-path=\"url(#p82da0593bd)\">\r\n     <use style=\"fill:#440154;stroke:#440154;\" x=\"140.550257\" xlink:href=\"#C0_0_152b4b0874\" y=\"229.154369\"/>\r\n    </g>\r\n    <g clip-path=\"url(#p82da0593bd)\">\r\n     <use style=\"fill:#440154;stroke:#440154;\" x=\"134.856067\" xlink:href=\"#C0_0_152b4b0874\" y=\"229.154369\"/>\r\n    </g>\r\n    <g clip-path=\"url(#p82da0593bd)\">\r\n     <use style=\"fill:#440154;stroke:#440154;\" x=\"158.918612\" xlink:href=\"#C0_0_152b4b0874\" y=\"229.274389\"/>\r\n    </g>\r\n    <g clip-path=\"url(#p82da0593bd)\">\r\n     <use style=\"fill:#440154;stroke:#440154;\" x=\"148.816017\" xlink:href=\"#C0_0_152b4b0874\" y=\"228.19421\"/>\r\n    </g>\r\n    <g clip-path=\"url(#p82da0593bd)\">\r\n     <use style=\"fill:#fde725;stroke:#fde725;\" x=\"211.268422\" xlink:href=\"#C0_0_152b4b0874\" y=\"225.913833\"/>\r\n    </g>\r\n    <g clip-path=\"url(#p82da0593bd)\">\r\n     <use style=\"fill:#440154;stroke:#440154;\" x=\"121.447168\" xlink:href=\"#C0_0_152b4b0874\" y=\"227.954171\"/>\r\n    </g>\r\n    <g clip-path=\"url(#p82da0593bd)\">\r\n     <use style=\"fill:#440154;stroke:#440154;\" x=\"104.731965\" xlink:href=\"#C0_0_152b4b0874\" y=\"229.03435\"/>\r\n    </g>\r\n    <g clip-path=\"url(#p82da0593bd)\">\r\n     <use style=\"fill:#440154;stroke:#440154;\" x=\"125.67189\" xlink:href=\"#C0_0_152b4b0874\" y=\"228.67429\"/>\r\n    </g>\r\n    <g clip-path=\"url(#p82da0593bd)\">\r\n     <use style=\"fill:#440154;stroke:#440154;\" x=\"106.01775\" xlink:href=\"#C0_0_152b4b0874\" y=\"229.394409\"/>\r\n    </g>\r\n    <g clip-path=\"url(#p82da0593bd)\">\r\n     <use style=\"fill:#440154;stroke:#440154;\" x=\"125.855573\" xlink:href=\"#C0_0_152b4b0874\" y=\"229.03435\"/>\r\n    </g>\r\n    <g clip-path=\"url(#p82da0593bd)\">\r\n     <use style=\"fill:#440154;stroke:#440154;\" x=\"134.305016\" xlink:href=\"#C0_0_152b4b0874\" y=\"229.03435\"/>\r\n    </g>\r\n    <g clip-path=\"url(#p82da0593bd)\">\r\n     <use style=\"fill:#440154;stroke:#440154;\" x=\"162.224915\" xlink:href=\"#C0_0_152b4b0874\" y=\"227.594111\"/>\r\n    </g>\r\n    <g clip-path=\"url(#p82da0593bd)\">\r\n     <use style=\"fill:#440154;stroke:#440154;\" x=\"125.120839\" xlink:href=\"#C0_0_152b4b0874\" y=\"229.514429\"/>\r\n    </g>\r\n    <g clip-path=\"url(#p82da0593bd)\">\r\n     <use style=\"fill:#440154;stroke:#440154;\" x=\"121.263485\" xlink:href=\"#C0_0_152b4b0874\" y=\"228.43425\"/>\r\n    </g>\r\n    <g clip-path=\"url(#p82da0593bd)\">\r\n     <use style=\"fill:#440154;stroke:#440154;\" x=\"143.856561\" xlink:href=\"#C0_0_152b4b0874\" y=\"228.074191\"/>\r\n    </g>\r\n    <g clip-path=\"url(#p82da0593bd)\">\r\n     <use style=\"fill:#440154;stroke:#440154;\" x=\"149.918118\" xlink:href=\"#C0_0_152b4b0874\" y=\"228.19421\"/>\r\n    </g>\r\n    <g clip-path=\"url(#p82da0593bd)\">\r\n     <use style=\"fill:#440154;stroke:#440154;\" x=\"134.4887\" xlink:href=\"#C0_0_152b4b0874\" y=\"229.154369\"/>\r\n    </g>\r\n    <g clip-path=\"url(#p82da0593bd)\">\r\n     <use style=\"fill:#440154;stroke:#440154;\" x=\"129.345561\" xlink:href=\"#C0_0_152b4b0874\" y=\"228.79431\"/>\r\n    </g>\r\n    <g clip-path=\"url(#p82da0593bd)\">\r\n     <use style=\"fill:#440154;stroke:#440154;\" x=\"121.263485\" xlink:href=\"#C0_0_152b4b0874\" y=\"229.274389\"/>\r\n    </g>\r\n    <g clip-path=\"url(#p82da0593bd)\">\r\n     <use style=\"fill:#440154;stroke:#440154;\" x=\"114.099826\" xlink:href=\"#C0_0_152b4b0874\" y=\"229.394409\"/>\r\n    </g>\r\n    <g clip-path=\"url(#p82da0593bd)\">\r\n     <use style=\"fill:#440154;stroke:#440154;\" x=\"158.183877\" xlink:href=\"#C0_0_152b4b0874\" y=\"224.713634\"/>\r\n    </g>\r\n    <g clip-path=\"url(#p82da0593bd)\">\r\n     <use style=\"fill:#440154;stroke:#440154;\" x=\"161.490181\" xlink:href=\"#C0_0_152b4b0874\" y=\"228.79431\"/>\r\n    </g>\r\n    <g clip-path=\"url(#p82da0593bd)\">\r\n     <use style=\"fill:#440154;stroke:#440154;\" x=\"130.447662\" xlink:href=\"#C0_0_152b4b0874\" y=\"228.19421\"/>\r\n    </g>\r\n    <g clip-path=\"url(#p82da0593bd)\">\r\n     <use style=\"fill:#440154;stroke:#440154;\" x=\"127.692409\" xlink:href=\"#C0_0_152b4b0874\" y=\"228.43425\"/>\r\n    </g>\r\n    <g clip-path=\"url(#p82da0593bd)\">\r\n     <use style=\"fill:#440154;stroke:#440154;\" x=\"139.448156\" xlink:href=\"#C0_0_152b4b0874\" y=\"228.55427\"/>\r\n    </g>\r\n    <g clip-path=\"url(#p82da0593bd)\">\r\n     <use style=\"fill:#440154;stroke:#440154;\" x=\"145.87708\" xlink:href=\"#C0_0_152b4b0874\" y=\"228.91433\"/>\r\n    </g>\r\n    <g clip-path=\"url(#p82da0593bd)\">\r\n     <use style=\"fill:#440154;stroke:#440154;\" x=\"134.121333\" xlink:href=\"#C0_0_152b4b0874\" y=\"228.55427\"/>\r\n    </g>\r\n    <g clip-path=\"url(#p82da0593bd)\">\r\n     <use style=\"fill:#440154;stroke:#440154;\" x=\"127.876092\" xlink:href=\"#C0_0_152b4b0874\" y=\"229.274389\"/>\r\n    </g>\r\n    <g clip-path=\"url(#p82da0593bd)\">\r\n     <use style=\"fill:#440154;stroke:#440154;\" x=\"128.427143\" xlink:href=\"#C0_0_152b4b0874\" y=\"229.154369\"/>\r\n    </g>\r\n    <g clip-path=\"url(#p82da0593bd)\">\r\n     <use style=\"fill:#440154;stroke:#440154;\" x=\"116.120345\" xlink:href=\"#C0_0_152b4b0874\" y=\"228.91433\"/>\r\n    </g>\r\n    <g clip-path=\"url(#p82da0593bd)\">\r\n     <use style=\"fill:#440154;stroke:#440154;\" x=\"106.01775\" xlink:href=\"#C0_0_152b4b0874\" y=\"229.514429\"/>\r\n    </g>\r\n    <g clip-path=\"url(#p82da0593bd)\">\r\n     <use style=\"fill:#440154;stroke:#440154;\" x=\"106.385117\" xlink:href=\"#C0_0_152b4b0874\" y=\"229.514429\"/>\r\n    </g>\r\n    <g clip-path=\"url(#p82da0593bd)\">\r\n     <use style=\"fill:#440154;stroke:#440154;\" x=\"166.449637\" xlink:href=\"#C0_0_152b4b0874\" y=\"229.274389\"/>\r\n    </g>\r\n    <g clip-path=\"url(#p82da0593bd)\">\r\n     <use style=\"fill:#440154;stroke:#440154;\" x=\"144.774979\" xlink:href=\"#C0_0_152b4b0874\" y=\"229.03435\"/>\r\n    </g>\r\n    <g clip-path=\"url(#p82da0593bd)\">\r\n     <use style=\"fill:#440154;stroke:#440154;\" x=\"130.263978\" xlink:href=\"#C0_0_152b4b0874\" y=\"229.514429\"/>\r\n    </g>\r\n    <g clip-path=\"url(#p82da0593bd)\">\r\n     <use style=\"fill:#440154;stroke:#440154;\" x=\"193.634802\" xlink:href=\"#C0_0_152b4b0874\" y=\"228.79431\"/>\r\n    </g>\r\n    <g clip-path=\"url(#p82da0593bd)\">\r\n     <use style=\"fill:#440154;stroke:#440154;\" x=\"155.244941\" xlink:href=\"#C0_0_152b4b0874\" y=\"229.274389\"/>\r\n    </g>\r\n    <g clip-path=\"url(#p82da0593bd)\">\r\n     <use style=\"fill:#440154;stroke:#440154;\" x=\"149.734434\" xlink:href=\"#C0_0_152b4b0874\" y=\"228.19421\"/>\r\n    </g>\r\n    <g clip-path=\"url(#p82da0593bd)\">\r\n     <use style=\"fill:#440154;stroke:#440154;\" x=\"118.140864\" xlink:href=\"#C0_0_152b4b0874\" y=\"229.274389\"/>\r\n    </g>\r\n    <g clip-path=\"url(#p82da0593bd)\">\r\n     <use style=\"fill:#440154;stroke:#440154;\" x=\"130.263978\" xlink:href=\"#C0_0_152b4b0874\" y=\"229.154369\"/>\r\n    </g>\r\n    <g clip-path=\"url(#p82da0593bd)\">\r\n     <use style=\"fill:#440154;stroke:#440154;\" x=\"164.796485\" xlink:href=\"#C0_0_152b4b0874\" y=\"228.31423\"/>\r\n    </g>\r\n    <g clip-path=\"url(#p82da0593bd)\">\r\n     <use style=\"fill:#440154;stroke:#440154;\" x=\"162.041232\" xlink:href=\"#C0_0_152b4b0874\" y=\"228.79431\"/>\r\n    </g>\r\n    <g clip-path=\"url(#p82da0593bd)\">\r\n     <use style=\"fill:#440154;stroke:#440154;\" x=\"155.979675\" xlink:href=\"#C0_0_152b4b0874\" y=\"227.714131\"/>\r\n    </g>\r\n    <g clip-path=\"url(#p82da0593bd)\">\r\n     <use style=\"fill:#440154;stroke:#440154;\" x=\"114.467193\" xlink:href=\"#C0_0_152b4b0874\" y=\"228.074191\"/>\r\n    </g>\r\n    <g clip-path=\"url(#p82da0593bd)\">\r\n     <use style=\"fill:#440154;stroke:#440154;\" x=\"148.632333\" xlink:href=\"#C0_0_152b4b0874\" y=\"227.954171\"/>\r\n    </g>\r\n    <g clip-path=\"url(#p82da0593bd)\">\r\n     <use style=\"fill:#440154;stroke:#440154;\" x=\"135.407118\" xlink:href=\"#C0_0_152b4b0874\" y=\"228.67429\"/>\r\n    </g>\r\n    <g clip-path=\"url(#p82da0593bd)\">\r\n     <use style=\"fill:#440154;stroke:#440154;\" x=\"125.67189\" xlink:href=\"#C0_0_152b4b0874\" y=\"228.91433\"/>\r\n    </g>\r\n    <g clip-path=\"url(#p82da0593bd)\">\r\n     <use style=\"fill:#440154;stroke:#440154;\" x=\"140.550257\" xlink:href=\"#C0_0_152b4b0874\" y=\"227.714131\"/>\r\n    </g>\r\n    <g clip-path=\"url(#p82da0593bd)\">\r\n     <use style=\"fill:#440154;stroke:#440154;\" x=\"148.9997\" xlink:href=\"#C0_0_152b4b0874\" y=\"226.994012\"/>\r\n    </g>\r\n    <g clip-path=\"url(#p82da0593bd)\">\r\n     <use style=\"fill:#440154;stroke:#440154;\" x=\"207.594751\" xlink:href=\"#C0_0_152b4b0874\" y=\"228.55427\"/>\r\n    </g>\r\n    <g clip-path=\"url(#p82da0593bd)\">\r\n     <use style=\"fill:#440154;stroke:#440154;\" x=\"152.12232\" xlink:href=\"#C0_0_152b4b0874\" y=\"227.354071\"/>\r\n    </g>\r\n    <g clip-path=\"url(#p82da0593bd)\">\r\n     <use style=\"fill:#440154;stroke:#440154;\" x=\"182.981156\" xlink:href=\"#C0_0_152b4b0874\" y=\"227.594111\"/>\r\n    </g>\r\n    <g clip-path=\"url(#p82da0593bd)\">\r\n     <use style=\"fill:#440154;stroke:#440154;\" x=\"171.77646\" xlink:href=\"#C0_0_152b4b0874\" y=\"226.633952\"/>\r\n    </g>\r\n    <g clip-path=\"url(#p82da0593bd)\">\r\n     <use style=\"fill:#440154;stroke:#440154;\" x=\"161.673865\" xlink:href=\"#C0_0_152b4b0874\" y=\"226.994012\"/>\r\n    </g>\r\n    <g clip-path=\"url(#p82da0593bd)\">\r\n     <use style=\"fill:#440154;stroke:#440154;\" x=\"109.691421\" xlink:href=\"#C0_0_152b4b0874\" y=\"229.394409\"/>\r\n    </g>\r\n    <g clip-path=\"url(#p82da0593bd)\">\r\n     <use style=\"fill:#440154;stroke:#440154;\" x=\"128.610826\" xlink:href=\"#C0_0_152b4b0874\" y=\"228.31423\"/>\r\n    </g>\r\n    <g clip-path=\"url(#p82da0593bd)\">\r\n     <use style=\"fill:#440154;stroke:#440154;\" x=\"130.815029\" xlink:href=\"#C0_0_152b4b0874\" y=\"229.03435\"/>\r\n    </g>\r\n    <g clip-path=\"url(#p82da0593bd)\">\r\n     <use style=\"fill:#440154;stroke:#440154;\" x=\"135.039751\" xlink:href=\"#C0_0_152b4b0874\" y=\"228.074191\"/>\r\n    </g>\r\n    <g clip-path=\"url(#p82da0593bd)\">\r\n     <use style=\"fill:#440154;stroke:#440154;\" x=\"162.775966\" xlink:href=\"#C0_0_152b4b0874\" y=\"226.633952\"/>\r\n    </g>\r\n    <g clip-path=\"url(#p82da0593bd)\">\r\n     <use style=\"fill:#440154;stroke:#440154;\" x=\"206.125283\" xlink:href=\"#C0_0_152b4b0874\" y=\"225.433753\"/>\r\n    </g>\r\n    <g clip-path=\"url(#p82da0593bd)\">\r\n     <use style=\"fill:#440154;stroke:#440154;\" x=\"150.285485\" xlink:href=\"#C0_0_152b4b0874\" y=\"228.074191\"/>\r\n    </g>\r\n    <g clip-path=\"url(#p82da0593bd)\">\r\n     <use style=\"fill:#440154;stroke:#440154;\" x=\"184.450625\" xlink:href=\"#C0_0_152b4b0874\" y=\"226.273893\"/>\r\n    </g>\r\n    <g clip-path=\"url(#p82da0593bd)\">\r\n     <use style=\"fill:#440154;stroke:#440154;\" x=\"156.163358\" xlink:href=\"#C0_0_152b4b0874\" y=\"226.513932\"/>\r\n    </g>\r\n    <g clip-path=\"url(#p82da0593bd)\">\r\n     <use style=\"fill:#440154;stroke:#440154;\" x=\"127.692409\" xlink:href=\"#C0_0_152b4b0874\" y=\"226.633952\"/>\r\n    </g>\r\n    <g clip-path=\"url(#p82da0593bd)\">\r\n     <use style=\"fill:#440154;stroke:#440154;\" x=\"139.080789\" xlink:href=\"#C0_0_152b4b0874\" y=\"228.19421\"/>\r\n    </g>\r\n    <g clip-path=\"url(#p82da0593bd)\">\r\n     <use style=\"fill:#440154;stroke:#440154;\" x=\"155.612308\" xlink:href=\"#C0_0_152b4b0874\" y=\"223.993515\"/>\r\n    </g>\r\n    <g clip-path=\"url(#p82da0593bd)\">\r\n     <use style=\"fill:#440154;stroke:#440154;\" x=\"165.347536\" xlink:href=\"#C0_0_152b4b0874\" y=\"227.954171\"/>\r\n    </g>\r\n    <g clip-path=\"url(#p82da0593bd)\">\r\n     <use style=\"fill:#440154;stroke:#440154;\" x=\"128.79451\" xlink:href=\"#C0_0_152b4b0874\" y=\"228.67429\"/>\r\n    </g>\r\n    <g clip-path=\"url(#p82da0593bd)\">\r\n     <use style=\"fill:#440154;stroke:#440154;\" x=\"175.450131\" xlink:href=\"#C0_0_152b4b0874\" y=\"227.114032\"/>\r\n    </g>\r\n    <g clip-path=\"url(#p82da0593bd)\">\r\n     <use style=\"fill:#440154;stroke:#440154;\" x=\"185.001675\" xlink:href=\"#C0_0_152b4b0874\" y=\"226.633952\"/>\r\n    </g>\r\n    <g clip-path=\"url(#p82da0593bd)\">\r\n     <use style=\"fill:#440154;stroke:#440154;\" x=\"346.459513\" xlink:href=\"#C0_0_152b4b0874\" y=\"40.003053\"/>\r\n    </g>\r\n    <g clip-path=\"url(#p82da0593bd)\">\r\n     <use style=\"fill:#440154;stroke:#440154;\" x=\"151.754953\" xlink:href=\"#C0_0_152b4b0874\" y=\"224.833654\"/>\r\n    </g>\r\n    <g clip-path=\"url(#p82da0593bd)\">\r\n     <use style=\"fill:#440154;stroke:#440154;\" x=\"126.039257\" xlink:href=\"#C0_0_152b4b0874\" y=\"227.954171\"/>\r\n    </g>\r\n    <g clip-path=\"url(#p82da0593bd)\">\r\n     <use style=\"fill:#440154;stroke:#440154;\" x=\"131.733447\" xlink:href=\"#C0_0_152b4b0874\" y=\"228.79431\"/>\r\n    </g>\r\n    <g clip-path=\"url(#p82da0593bd)\">\r\n     <use style=\"fill:#440154;stroke:#440154;\" x=\"201.533194\" xlink:href=\"#C0_0_152b4b0874\" y=\"225.673793\"/>\r\n    </g>\r\n    <g clip-path=\"url(#p82da0593bd)\">\r\n     <use style=\"fill:#440154;stroke:#440154;\" x=\"182.613789\" xlink:href=\"#C0_0_152b4b0874\" y=\"224.593614\"/>\r\n    </g>\r\n    <g clip-path=\"url(#p82da0593bd)\">\r\n     <use style=\"fill:#440154;stroke:#440154;\" x=\"148.081282\" xlink:href=\"#C0_0_152b4b0874\" y=\"228.31423\"/>\r\n    </g>\r\n    <g clip-path=\"url(#p82da0593bd)\">\r\n     <use style=\"fill:#440154;stroke:#440154;\" x=\"125.67189\" xlink:href=\"#C0_0_152b4b0874\" y=\"229.274389\"/>\r\n    </g>\r\n    <g clip-path=\"url(#p82da0593bd)\">\r\n     <use style=\"fill:#440154;stroke:#440154;\" x=\"166.633321\" xlink:href=\"#C0_0_152b4b0874\" y=\"227.474091\"/>\r\n    </g>\r\n    <g clip-path=\"url(#p82da0593bd)\">\r\n     <use style=\"fill:#440154;stroke:#440154;\" x=\"158.367561\" xlink:href=\"#C0_0_152b4b0874\" y=\"226.513932\"/>\r\n    </g>\r\n    <g clip-path=\"url(#p82da0593bd)\">\r\n     <use style=\"fill:#440154;stroke:#440154;\" x=\"124.202421\" xlink:href=\"#C0_0_152b4b0874\" y=\"228.31423\"/>\r\n    </g>\r\n    <g clip-path=\"url(#p82da0593bd)\">\r\n     <use style=\"fill:#440154;stroke:#440154;\" x=\"133.753966\" xlink:href=\"#C0_0_152b4b0874\" y=\"227.834151\"/>\r\n    </g>\r\n    <g clip-path=\"url(#p82da0593bd)\">\r\n     <use style=\"fill:#fde725;stroke:#fde725;\" x=\"172.143827\" xlink:href=\"#C0_0_152b4b0874\" y=\"216.432263\"/>\r\n    </g>\r\n    <g clip-path=\"url(#p82da0593bd)\">\r\n     <use style=\"fill:#440154;stroke:#440154;\" x=\"284.374474\" xlink:href=\"#C0_0_152b4b0874\" y=\"225.073694\"/>\r\n    </g>\r\n    <g clip-path=\"url(#p82da0593bd)\">\r\n     <use style=\"fill:#440154;stroke:#440154;\" x=\"141.836042\" xlink:href=\"#C0_0_152b4b0874\" y=\"228.31423\"/>\r\n    </g>\r\n    <g clip-path=\"url(#p82da0593bd)\">\r\n     <use style=\"fill:#440154;stroke:#440154;\" x=\"175.266447\" xlink:href=\"#C0_0_152b4b0874\" y=\"228.31423\"/>\r\n    </g>\r\n    <g clip-path=\"url(#p82da0593bd)\">\r\n     <use style=\"fill:#440154;stroke:#440154;\" x=\"134.4887\" xlink:href=\"#C0_0_152b4b0874\" y=\"229.394409\"/>\r\n    </g>\r\n    <g clip-path=\"url(#p82da0593bd)\">\r\n     <use style=\"fill:#440154;stroke:#440154;\" x=\"131.549763\" xlink:href=\"#C0_0_152b4b0874\" y=\"229.754469\"/>\r\n    </g>\r\n    <g clip-path=\"url(#p82da0593bd)\">\r\n     <use style=\"fill:#440154;stroke:#440154;\" x=\"182.430106\" xlink:href=\"#C0_0_152b4b0874\" y=\"227.234051\"/>\r\n    </g>\r\n    <g clip-path=\"url(#p82da0593bd)\">\r\n     <use style=\"fill:#440154;stroke:#440154;\" x=\"121.814535\" xlink:href=\"#C0_0_152b4b0874\" y=\"227.954171\"/>\r\n    </g>\r\n    <g clip-path=\"url(#p82da0593bd)\">\r\n     <use style=\"fill:#440154;stroke:#440154;\" x=\"128.427143\" xlink:href=\"#C0_0_152b4b0874\" y=\"229.154369\"/>\r\n    </g>\r\n    <g clip-path=\"url(#p82da0593bd)\">\r\n     <use style=\"fill:#440154;stroke:#440154;\" x=\"121.447168\" xlink:href=\"#C0_0_152b4b0874\" y=\"228.91433\"/>\r\n    </g>\r\n    <g clip-path=\"url(#p82da0593bd)\">\r\n     <use style=\"fill:#440154;stroke:#440154;\" x=\"151.020219\" xlink:href=\"#C0_0_152b4b0874\" y=\"228.43425\"/>\r\n    </g>\r\n    <g clip-path=\"url(#p82da0593bd)\">\r\n     <use style=\"fill:#440154;stroke:#440154;\" x=\"141.101308\" xlink:href=\"#C0_0_152b4b0874\" y=\"228.074191\"/>\r\n    </g>\r\n    <g clip-path=\"url(#p82da0593bd)\">\r\n     <use style=\"fill:#440154;stroke:#440154;\" x=\"132.835548\" xlink:href=\"#C0_0_152b4b0874\" y=\"229.514429\"/>\r\n    </g>\r\n    <g clip-path=\"url(#p82da0593bd)\">\r\n     <use style=\"fill:#440154;stroke:#440154;\" x=\"210.533688\" xlink:href=\"#C0_0_152b4b0874\" y=\"225.913833\"/>\r\n    </g>\r\n    <g clip-path=\"url(#p82da0593bd)\">\r\n     <use style=\"fill:#440154;stroke:#440154;\" x=\"131.549763\" xlink:href=\"#C0_0_152b4b0874\" y=\"229.154369\"/>\r\n    </g>\r\n    <g clip-path=\"url(#p82da0593bd)\">\r\n     <use style=\"fill:#440154;stroke:#440154;\" x=\"142.570776\" xlink:href=\"#C0_0_152b4b0874\" y=\"228.91433\"/>\r\n    </g>\r\n    <g clip-path=\"url(#p82da0593bd)\">\r\n     <use style=\"fill:#440154;stroke:#440154;\" x=\"166.633321\" xlink:href=\"#C0_0_152b4b0874\" y=\"228.43425\"/>\r\n    </g>\r\n    <g clip-path=\"url(#p82da0593bd)\">\r\n     <use style=\"fill:#440154;stroke:#440154;\" x=\"115.936662\" xlink:href=\"#C0_0_152b4b0874\" y=\"228.074191\"/>\r\n    </g>\r\n    <g clip-path=\"url(#p82da0593bd)\">\r\n     <use style=\"fill:#440154;stroke:#440154;\" x=\"138.529738\" xlink:href=\"#C0_0_152b4b0874\" y=\"228.55427\"/>\r\n    </g>\r\n    <g clip-path=\"url(#p82da0593bd)\">\r\n     <use style=\"fill:#440154;stroke:#440154;\" x=\"178.756435\" xlink:href=\"#C0_0_152b4b0874\" y=\"226.633952\"/>\r\n    </g>\r\n    <g clip-path=\"url(#p82da0593bd)\">\r\n     <use style=\"fill:#440154;stroke:#440154;\" x=\"142.019725\" xlink:href=\"#C0_0_152b4b0874\" y=\"228.91433\"/>\r\n    </g>\r\n    <g clip-path=\"url(#p82da0593bd)\">\r\n     <use style=\"fill:#440154;stroke:#440154;\" x=\"140.18289\" xlink:href=\"#C0_0_152b4b0874\" y=\"229.274389\"/>\r\n    </g>\r\n    <g clip-path=\"url(#p82da0593bd)\">\r\n     <use style=\"fill:#440154;stroke:#440154;\" x=\"162.775966\" xlink:href=\"#C0_0_152b4b0874\" y=\"228.31423\"/>\r\n    </g>\r\n    <g clip-path=\"url(#p82da0593bd)\">\r\n     <use style=\"fill:#440154;stroke:#440154;\" x=\"114.834561\" xlink:href=\"#C0_0_152b4b0874\" y=\"229.03435\"/>\r\n    </g>\r\n    <g clip-path=\"url(#p82da0593bd)\">\r\n     <use style=\"fill:#440154;stroke:#440154;\" x=\"219.534182\" xlink:href=\"#C0_0_152b4b0874\" y=\"220.392919\"/>\r\n    </g>\r\n    <g clip-path=\"url(#p82da0593bd)\">\r\n     <use style=\"fill:#fde725;stroke:#fde725;\" x=\"212.18684\" xlink:href=\"#C0_0_152b4b0874\" y=\"163.023421\"/>\r\n    </g>\r\n    <g clip-path=\"url(#p82da0593bd)\">\r\n     <use style=\"fill:#440154;stroke:#440154;\" x=\"121.447168\" xlink:href=\"#C0_0_152b4b0874\" y=\"228.55427\"/>\r\n    </g>\r\n    <g clip-path=\"url(#p82da0593bd)\">\r\n     <use style=\"fill:#440154;stroke:#440154;\" x=\"148.632333\" xlink:href=\"#C0_0_152b4b0874\" y=\"227.714131\"/>\r\n    </g>\r\n    <g clip-path=\"url(#p82da0593bd)\">\r\n     <use style=\"fill:#440154;stroke:#440154;\" x=\"125.304523\" xlink:href=\"#C0_0_152b4b0874\" y=\"228.43425\"/>\r\n    </g>\r\n    <g clip-path=\"url(#p82da0593bd)\">\r\n     <use style=\"fill:#440154;stroke:#440154;\" x=\"175.633814\" xlink:href=\"#C0_0_152b4b0874\" y=\"227.954171\"/>\r\n    </g>\r\n    <g clip-path=\"url(#p82da0593bd)\">\r\n     <use style=\"fill:#fde725;stroke:#fde725;\" x=\"135.590801\" xlink:href=\"#C0_0_152b4b0874\" y=\"229.03435\"/>\r\n    </g>\r\n    <g clip-path=\"url(#p82da0593bd)\">\r\n     <use style=\"fill:#fde725;stroke:#fde725;\" x=\"174.715397\" xlink:href=\"#C0_0_152b4b0874\" y=\"227.474091\"/>\r\n    </g>\r\n    <g clip-path=\"url(#p82da0593bd)\">\r\n     <use style=\"fill:#440154;stroke:#440154;\" x=\"134.305016\" xlink:href=\"#C0_0_152b4b0874\" y=\"227.834151\"/>\r\n    </g>\r\n    <g clip-path=\"url(#p82da0593bd)\">\r\n     <use style=\"fill:#440154;stroke:#440154;\" x=\"140.18289\" xlink:href=\"#C0_0_152b4b0874\" y=\"227.114032\"/>\r\n    </g>\r\n    <g clip-path=\"url(#p82da0593bd)\">\r\n     <use style=\"fill:#440154;stroke:#440154;\" x=\"132.468181\" xlink:href=\"#C0_0_152b4b0874\" y=\"228.43425\"/>\r\n    </g>\r\n    <g clip-path=\"url(#p82da0593bd)\">\r\n     <use style=\"fill:#440154;stroke:#440154;\" x=\"116.85508\" xlink:href=\"#C0_0_152b4b0874\" y=\"229.754469\"/>\r\n    </g>\r\n    <g clip-path=\"url(#p82da0593bd)\">\r\n     <use style=\"fill:#440154;stroke:#440154;\" x=\"149.918118\" xlink:href=\"#C0_0_152b4b0874\" y=\"228.43425\"/>\r\n    </g>\r\n    <g clip-path=\"url(#p82da0593bd)\">\r\n     <use style=\"fill:#440154;stroke:#440154;\" x=\"132.835548\" xlink:href=\"#C0_0_152b4b0874\" y=\"229.154369\"/>\r\n    </g>\r\n    <g clip-path=\"url(#p82da0593bd)\">\r\n     <use style=\"fill:#440154;stroke:#440154;\" x=\"142.75446\" xlink:href=\"#C0_0_152b4b0874\" y=\"228.91433\"/>\r\n    </g>\r\n    <g clip-path=\"url(#p82da0593bd)\">\r\n     <use style=\"fill:#440154;stroke:#440154;\" x=\"169.939624\" xlink:href=\"#C0_0_152b4b0874\" y=\"228.19421\"/>\r\n    </g>\r\n    <g clip-path=\"url(#p82da0593bd)\">\r\n     <use style=\"fill:#440154;stroke:#440154;\" x=\"119.426649\" xlink:href=\"#C0_0_152b4b0874\" y=\"228.67429\"/>\r\n    </g>\r\n    <g clip-path=\"url(#p82da0593bd)\">\r\n     <use style=\"fill:#440154;stroke:#440154;\" x=\"123.284004\" xlink:href=\"#C0_0_152b4b0874\" y=\"229.03435\"/>\r\n    </g>\r\n    <g clip-path=\"url(#p82da0593bd)\">\r\n     <use style=\"fill:#440154;stroke:#440154;\" x=\"152.12232\" xlink:href=\"#C0_0_152b4b0874\" y=\"228.19421\"/>\r\n    </g>\r\n    <g clip-path=\"url(#p82da0593bd)\">\r\n     <use style=\"fill:#440154;stroke:#440154;\" x=\"119.242966\" xlink:href=\"#C0_0_152b4b0874\" y=\"229.514429\"/>\r\n    </g>\r\n    <g clip-path=\"url(#p82da0593bd)\">\r\n     <use style=\"fill:#440154;stroke:#440154;\" x=\"169.939624\" xlink:href=\"#C0_0_152b4b0874\" y=\"226.153873\"/>\r\n    </g>\r\n    <g clip-path=\"url(#p82da0593bd)\">\r\n     <use style=\"fill:#440154;stroke:#440154;\" x=\"130.080295\" xlink:href=\"#C0_0_152b4b0874\" y=\"228.91433\"/>\r\n    </g>\r\n    <g clip-path=\"url(#p82da0593bd)\">\r\n     <use style=\"fill:#440154;stroke:#440154;\" x=\"133.937649\" xlink:href=\"#C0_0_152b4b0874\" y=\"228.074191\"/>\r\n    </g>\r\n    <g clip-path=\"url(#p82da0593bd)\">\r\n     <use style=\"fill:#440154;stroke:#440154;\" x=\"146.244447\" xlink:href=\"#C0_0_152b4b0874\" y=\"229.514429\"/>\r\n    </g>\r\n    <g clip-path=\"url(#p82da0593bd)\">\r\n     <use style=\"fill:#440154;stroke:#440154;\" x=\"148.448649\" xlink:href=\"#C0_0_152b4b0874\" y=\"229.03435\"/>\r\n    </g>\r\n    <g clip-path=\"url(#p82da0593bd)\">\r\n     <use style=\"fill:#440154;stroke:#440154;\" x=\"137.61132\" xlink:href=\"#C0_0_152b4b0874\" y=\"226.633952\"/>\r\n    </g>\r\n    <g clip-path=\"url(#p82da0593bd)\">\r\n     <use style=\"fill:#440154;stroke:#440154;\" x=\"135.407118\" xlink:href=\"#C0_0_152b4b0874\" y=\"229.754469\"/>\r\n    </g>\r\n    <g clip-path=\"url(#p82da0593bd)\">\r\n     <use style=\"fill:#440154;stroke:#440154;\" x=\"147.713915\" xlink:href=\"#C0_0_152b4b0874\" y=\"229.154369\"/>\r\n    </g>\r\n    <g clip-path=\"url(#p82da0593bd)\">\r\n     <use style=\"fill:#440154;stroke:#440154;\" x=\"145.326029\" xlink:href=\"#C0_0_152b4b0874\" y=\"228.91433\"/>\r\n    </g>\r\n    <g clip-path=\"url(#p82da0593bd)\">\r\n     <use style=\"fill:#440154;stroke:#440154;\" x=\"137.795004\" xlink:href=\"#C0_0_152b4b0874\" y=\"229.394409\"/>\r\n    </g>\r\n    <g clip-path=\"url(#p82da0593bd)\">\r\n     <use style=\"fill:#440154;stroke:#440154;\" x=\"153.224422\" xlink:href=\"#C0_0_152b4b0874\" y=\"228.19421\"/>\r\n    </g>\r\n    <g clip-path=\"url(#p82da0593bd)\">\r\n     <use style=\"fill:#440154;stroke:#440154;\" x=\"144.040244\" xlink:href=\"#C0_0_152b4b0874\" y=\"228.79431\"/>\r\n    </g>\r\n    <g clip-path=\"url(#p82da0593bd)\">\r\n     <use style=\"fill:#440154;stroke:#440154;\" x=\"120.52875\" xlink:href=\"#C0_0_152b4b0874\" y=\"228.074191\"/>\r\n    </g>\r\n    <g clip-path=\"url(#p82da0593bd)\">\r\n     <use style=\"fill:#440154;stroke:#440154;\" x=\"120.896118\" xlink:href=\"#C0_0_152b4b0874\" y=\"228.67429\"/>\r\n    </g>\r\n    <g clip-path=\"url(#p82da0593bd)\">\r\n     <use style=\"fill:#440154;stroke:#440154;\" x=\"140.550257\" xlink:href=\"#C0_0_152b4b0874\" y=\"228.55427\"/>\r\n    </g>\r\n    <g clip-path=\"url(#p82da0593bd)\">\r\n     <use style=\"fill:#440154;stroke:#440154;\" x=\"128.427143\" xlink:href=\"#C0_0_152b4b0874\" y=\"229.514429\"/>\r\n    </g>\r\n    <g clip-path=\"url(#p82da0593bd)\">\r\n     <use style=\"fill:#440154;stroke:#440154;\" x=\"117.038763\" xlink:href=\"#C0_0_152b4b0874\" y=\"229.03435\"/>\r\n    </g>\r\n    <g clip-path=\"url(#p82da0593bd)\">\r\n     <use style=\"fill:#440154;stroke:#440154;\" x=\"131.733447\" xlink:href=\"#C0_0_152b4b0874\" y=\"228.91433\"/>\r\n    </g>\r\n    <g clip-path=\"url(#p82da0593bd)\">\r\n     <use style=\"fill:#440154;stroke:#440154;\" x=\"120.52875\" xlink:href=\"#C0_0_152b4b0874\" y=\"229.394409\"/>\r\n    </g>\r\n    <g clip-path=\"url(#p82da0593bd)\">\r\n     <use style=\"fill:#440154;stroke:#440154;\" x=\"142.938143\" xlink:href=\"#C0_0_152b4b0874\" y=\"228.91433\"/>\r\n    </g>\r\n    <g clip-path=\"url(#p82da0593bd)\">\r\n     <use style=\"fill:#440154;stroke:#440154;\" x=\"134.4887\" xlink:href=\"#C0_0_152b4b0874\" y=\"229.274389\"/>\r\n    </g>\r\n    <g clip-path=\"url(#p82da0593bd)\">\r\n     <use style=\"fill:#440154;stroke:#440154;\" x=\"136.509219\" xlink:href=\"#C0_0_152b4b0874\" y=\"229.394409\"/>\r\n    </g>\r\n    <g clip-path=\"url(#p82da0593bd)\">\r\n     <use style=\"fill:#440154;stroke:#440154;\" x=\"141.836042\" xlink:href=\"#C0_0_152b4b0874\" y=\"228.31423\"/>\r\n    </g>\r\n    <g clip-path=\"url(#p82da0593bd)\">\r\n     <use style=\"fill:#440154;stroke:#440154;\" x=\"150.836536\" xlink:href=\"#C0_0_152b4b0874\" y=\"227.714131\"/>\r\n    </g>\r\n    <g clip-path=\"url(#p82da0593bd)\">\r\n     <use style=\"fill:#440154;stroke:#440154;\" x=\"135.407118\" xlink:href=\"#C0_0_152b4b0874\" y=\"229.394409\"/>\r\n    </g>\r\n    <g clip-path=\"url(#p82da0593bd)\">\r\n     <use style=\"fill:#440154;stroke:#440154;\" x=\"127.876092\" xlink:href=\"#C0_0_152b4b0874\" y=\"228.43425\"/>\r\n    </g>\r\n    <g clip-path=\"url(#p82da0593bd)\">\r\n     <use style=\"fill:#440154;stroke:#440154;\" x=\"154.69389\" xlink:href=\"#C0_0_152b4b0874\" y=\"227.354071\"/>\r\n    </g>\r\n    <g clip-path=\"url(#p82da0593bd)\">\r\n     <use style=\"fill:#440154;stroke:#440154;\" x=\"150.469169\" xlink:href=\"#C0_0_152b4b0874\" y=\"227.354071\"/>\r\n    </g>\r\n    <g clip-path=\"url(#p82da0593bd)\">\r\n     <use style=\"fill:#440154;stroke:#440154;\" x=\"129.529244\" xlink:href=\"#C0_0_152b4b0874\" y=\"228.91433\"/>\r\n    </g>\r\n    <g clip-path=\"url(#p82da0593bd)\">\r\n     <use style=\"fill:#440154;stroke:#440154;\" x=\"137.61132\" xlink:href=\"#C0_0_152b4b0874\" y=\"227.474091\"/>\r\n    </g>\r\n    <g clip-path=\"url(#p82da0593bd)\">\r\n     <use style=\"fill:#440154;stroke:#440154;\" x=\"166.265953\" xlink:href=\"#C0_0_152b4b0874\" y=\"228.67429\"/>\r\n    </g>\r\n    <g clip-path=\"url(#p82da0593bd)\">\r\n     <use style=\"fill:#440154;stroke:#440154;\" x=\"130.263978\" xlink:href=\"#C0_0_152b4b0874\" y=\"227.234051\"/>\r\n    </g>\r\n    <g clip-path=\"url(#p82da0593bd)\">\r\n     <use style=\"fill:#440154;stroke:#440154;\" x=\"135.407118\" xlink:href=\"#C0_0_152b4b0874\" y=\"227.714131\"/>\r\n    </g>\r\n    <g clip-path=\"url(#p82da0593bd)\">\r\n     <use style=\"fill:#440154;stroke:#440154;\" x=\"115.201928\" xlink:href=\"#C0_0_152b4b0874\" y=\"229.754469\"/>\r\n    </g>\r\n    <g clip-path=\"url(#p82da0593bd)\">\r\n     <use style=\"fill:#440154;stroke:#440154;\" x=\"127.325042\" xlink:href=\"#C0_0_152b4b0874\" y=\"229.274389\"/>\r\n    </g>\r\n    <g clip-path=\"url(#p82da0593bd)\">\r\n     <use style=\"fill:#440154;stroke:#440154;\" x=\"128.059776\" xlink:href=\"#C0_0_152b4b0874\" y=\"229.03435\"/>\r\n    </g>\r\n    <g clip-path=\"url(#p82da0593bd)\">\r\n     <use style=\"fill:#440154;stroke:#440154;\" x=\"123.10032\" xlink:href=\"#C0_0_152b4b0874\" y=\"229.274389\"/>\r\n    </g>\r\n    <g clip-path=\"url(#p82da0593bd)\">\r\n     <use style=\"fill:#440154;stroke:#440154;\" x=\"135.774485\" xlink:href=\"#C0_0_152b4b0874\" y=\"229.03435\"/>\r\n    </g>\r\n    <g clip-path=\"url(#p82da0593bd)\">\r\n     <use style=\"fill:#440154;stroke:#440154;\" x=\"135.223434\" xlink:href=\"#C0_0_152b4b0874\" y=\"228.67429\"/>\r\n    </g>\r\n    <g clip-path=\"url(#p82da0593bd)\">\r\n     <use style=\"fill:#440154;stroke:#440154;\" x=\"102.160396\" xlink:href=\"#C0_0_152b4b0874\" y=\"229.394409\"/>\r\n    </g>\r\n    <g clip-path=\"url(#p82da0593bd)\">\r\n     <use style=\"fill:#440154;stroke:#440154;\" x=\"98.119358\" xlink:href=\"#C0_0_152b4b0874\" y=\"229.634449\"/>\r\n    </g>\r\n    <g clip-path=\"url(#p82da0593bd)\">\r\n     <use style=\"fill:#440154;stroke:#440154;\" x=\"118.140864\" xlink:href=\"#C0_0_152b4b0874\" y=\"228.79431\"/>\r\n    </g>\r\n    <g clip-path=\"url(#p82da0593bd)\">\r\n     <use style=\"fill:#440154;stroke:#440154;\" x=\"114.099826\" xlink:href=\"#C0_0_152b4b0874\" y=\"228.91433\"/>\r\n    </g>\r\n    <g clip-path=\"url(#p82da0593bd)\">\r\n     <use style=\"fill:#440154;stroke:#440154;\" x=\"111.895624\" xlink:href=\"#C0_0_152b4b0874\" y=\"229.274389\"/>\r\n    </g>\r\n    <g clip-path=\"url(#p82da0593bd)\">\r\n     <use style=\"fill:#440154;stroke:#440154;\" x=\"114.28351\" xlink:href=\"#C0_0_152b4b0874\" y=\"229.03435\"/>\r\n    </g>\r\n    <g clip-path=\"url(#p82da0593bd)\">\r\n     <use style=\"fill:#440154;stroke:#440154;\" x=\"106.385117\" xlink:href=\"#C0_0_152b4b0874\" y=\"228.91433\"/>\r\n    </g>\r\n    <g clip-path=\"url(#p82da0593bd)\">\r\n     <use style=\"fill:#440154;stroke:#440154;\" x=\"114.650877\" xlink:href=\"#C0_0_152b4b0874\" y=\"229.274389\"/>\r\n    </g>\r\n    <g clip-path=\"url(#p82da0593bd)\">\r\n     <use style=\"fill:#440154;stroke:#440154;\" x=\"108.405636\" xlink:href=\"#C0_0_152b4b0874\" y=\"227.354071\"/>\r\n    </g>\r\n    <g clip-path=\"url(#p82da0593bd)\">\r\n     <use style=\"fill:#440154;stroke:#440154;\" x=\"93.710953\" xlink:href=\"#C0_0_152b4b0874\" y=\"229.394409\"/>\r\n    </g>\r\n    <g clip-path=\"url(#p82da0593bd)\">\r\n     <use style=\"fill:#440154;stroke:#440154;\" x=\"102.527763\" xlink:href=\"#C0_0_152b4b0874\" y=\"228.43425\"/>\r\n    </g>\r\n    <g clip-path=\"url(#p82da0593bd)\">\r\n     <use style=\"fill:#440154;stroke:#440154;\" x=\"128.243459\" xlink:href=\"#C0_0_152b4b0874\" y=\"227.474091\"/>\r\n    </g>\r\n    <g clip-path=\"url(#p82da0593bd)\">\r\n     <use style=\"fill:#440154;stroke:#440154;\" x=\"115.752978\" xlink:href=\"#C0_0_152b4b0874\" y=\"228.19421\"/>\r\n    </g>\r\n    <g clip-path=\"url(#p82da0593bd)\">\r\n     <use style=\"fill:#440154;stroke:#440154;\" x=\"136.509219\" xlink:href=\"#C0_0_152b4b0874\" y=\"221.833157\"/>\r\n    </g>\r\n    <g clip-path=\"url(#p82da0593bd)\">\r\n     <use style=\"fill:#440154;stroke:#440154;\" x=\"96.466206\" xlink:href=\"#C0_0_152b4b0874\" y=\"229.394409\"/>\r\n    </g>\r\n    <g clip-path=\"url(#p82da0593bd)\">\r\n     <use style=\"fill:#440154;stroke:#440154;\" x=\"112.446674\" xlink:href=\"#C0_0_152b4b0874\" y=\"228.43425\"/>\r\n    </g>\r\n    <g clip-path=\"url(#p82da0593bd)\">\r\n     <use style=\"fill:#440154;stroke:#440154;\" x=\"158.734928\" xlink:href=\"#C0_0_152b4b0874\" y=\"226.513932\"/>\r\n    </g>\r\n    <g clip-path=\"url(#p82da0593bd)\">\r\n     <use style=\"fill:#440154;stroke:#440154;\" x=\"111.16089\" xlink:href=\"#C0_0_152b4b0874\" y=\"229.03435\"/>\r\n    </g>\r\n    <g clip-path=\"url(#p82da0593bd)\">\r\n     <use style=\"fill:#440154;stroke:#440154;\" x=\"114.650877\" xlink:href=\"#C0_0_152b4b0874\" y=\"227.954171\"/>\r\n    </g>\r\n    <g clip-path=\"url(#p82da0593bd)\">\r\n     <use style=\"fill:#440154;stroke:#440154;\" x=\"92.792535\" xlink:href=\"#C0_0_152b4b0874\" y=\"228.55427\"/>\r\n    </g>\r\n    <g clip-path=\"url(#p82da0593bd)\">\r\n     <use style=\"fill:#440154;stroke:#440154;\" x=\"110.058788\" xlink:href=\"#C0_0_152b4b0874\" y=\"229.154369\"/>\r\n    </g>\r\n    <g clip-path=\"url(#p82da0593bd)\">\r\n     <use style=\"fill:#440154;stroke:#440154;\" x=\"110.977206\" xlink:href=\"#C0_0_152b4b0874\" y=\"228.79431\"/>\r\n    </g>\r\n    <g clip-path=\"url(#p82da0593bd)\">\r\n     <use style=\"fill:#440154;stroke:#440154;\" x=\"89.118864\" xlink:href=\"#C0_0_152b4b0874\" y=\"229.634449\"/>\r\n    </g>\r\n    <g clip-path=\"url(#p82da0593bd)\">\r\n     <use style=\"fill:#440154;stroke:#440154;\" x=\"110.793522\" xlink:href=\"#C0_0_152b4b0874\" y=\"228.43425\"/>\r\n    </g>\r\n    <g clip-path=\"url(#p82da0593bd)\">\r\n     <use style=\"fill:#440154;stroke:#440154;\" x=\"115.385611\" xlink:href=\"#C0_0_152b4b0874\" y=\"229.03435\"/>\r\n    </g>\r\n    <g clip-path=\"url(#p82da0593bd)\">\r\n     <use style=\"fill:#440154;stroke:#440154;\" x=\"117.957181\" xlink:href=\"#C0_0_152b4b0874\" y=\"229.514429\"/>\r\n    </g>\r\n    <g clip-path=\"url(#p82da0593bd)\">\r\n     <use style=\"fill:#440154;stroke:#440154;\" x=\"105.099333\" xlink:href=\"#C0_0_152b4b0874\" y=\"229.274389\"/>\r\n    </g>\r\n    <g clip-path=\"url(#p82da0593bd)\">\r\n     <use style=\"fill:#440154;stroke:#440154;\" x=\"111.895624\" xlink:href=\"#C0_0_152b4b0874\" y=\"228.67429\"/>\r\n    </g>\r\n    <g clip-path=\"url(#p82da0593bd)\">\r\n     <use style=\"fill:#440154;stroke:#440154;\" x=\"95.731472\" xlink:href=\"#C0_0_152b4b0874\" y=\"229.394409\"/>\r\n    </g>\r\n    <g clip-path=\"url(#p82da0593bd)\">\r\n     <use style=\"fill:#440154;stroke:#440154;\" x=\"111.528257\" xlink:href=\"#C0_0_152b4b0874\" y=\"228.31423\"/>\r\n    </g>\r\n    <g clip-path=\"url(#p82da0593bd)\">\r\n     <use style=\"fill:#440154;stroke:#440154;\" x=\"95.731472\" xlink:href=\"#C0_0_152b4b0874\" y=\"229.03435\"/>\r\n    </g>\r\n    <g clip-path=\"url(#p82da0593bd)\">\r\n     <use style=\"fill:#440154;stroke:#440154;\" x=\"111.528257\" xlink:href=\"#C0_0_152b4b0874\" y=\"228.79431\"/>\r\n    </g>\r\n    <g clip-path=\"url(#p82da0593bd)\">\r\n     <use style=\"fill:#440154;stroke:#440154;\" x=\"110.977206\" xlink:href=\"#C0_0_152b4b0874\" y=\"229.394409\"/>\r\n    </g>\r\n    <g clip-path=\"url(#p82da0593bd)\">\r\n     <use style=\"fill:#440154;stroke:#440154;\" x=\"108.405636\" xlink:href=\"#C0_0_152b4b0874\" y=\"228.43425\"/>\r\n    </g>\r\n    <g clip-path=\"url(#p82da0593bd)\">\r\n     <use style=\"fill:#440154;stroke:#440154;\" x=\"99.221459\" xlink:href=\"#C0_0_152b4b0874\" y=\"229.154369\"/>\r\n    </g>\r\n    <g clip-path=\"url(#p82da0593bd)\">\r\n     <use style=\"fill:#440154;stroke:#440154;\" x=\"112.814041\" xlink:href=\"#C0_0_152b4b0874\" y=\"229.154369\"/>\r\n    </g>\r\n    <g clip-path=\"url(#p82da0593bd)\">\r\n     <use style=\"fill:#440154;stroke:#440154;\" x=\"102.344079\" xlink:href=\"#C0_0_152b4b0874\" y=\"229.154369\"/>\r\n    </g>\r\n    <g clip-path=\"url(#p82da0593bd)\">\r\n     <use style=\"fill:#440154;stroke:#440154;\" x=\"105.834067\" xlink:href=\"#C0_0_152b4b0874\" y=\"228.31423\"/>\r\n    </g>\r\n    <g clip-path=\"url(#p82da0593bd)\">\r\n     <use style=\"fill:#440154;stroke:#440154;\" x=\"107.670902\" xlink:href=\"#C0_0_152b4b0874\" y=\"228.67429\"/>\r\n    </g>\r\n    <g clip-path=\"url(#p82da0593bd)\">\r\n     <use style=\"fill:#440154;stroke:#440154;\" x=\"101.609345\" xlink:href=\"#C0_0_152b4b0874\" y=\"229.754469\"/>\r\n    </g>\r\n    <g clip-path=\"url(#p82da0593bd)\">\r\n     <use style=\"fill:#440154;stroke:#440154;\" x=\"95.731472\" xlink:href=\"#C0_0_152b4b0874\" y=\"229.274389\"/>\r\n    </g>\r\n    <g clip-path=\"url(#p82da0593bd)\">\r\n     <use style=\"fill:#440154;stroke:#440154;\" x=\"115.569295\" xlink:href=\"#C0_0_152b4b0874\" y=\"228.55427\"/>\r\n    </g>\r\n    <g clip-path=\"url(#p82da0593bd)\">\r\n     <use style=\"fill:#440154;stroke:#440154;\" x=\"99.956193\" xlink:href=\"#C0_0_152b4b0874\" y=\"228.67429\"/>\r\n    </g>\r\n    <g clip-path=\"url(#p82da0593bd)\">\r\n     <use style=\"fill:#440154;stroke:#440154;\" x=\"113.365092\" xlink:href=\"#C0_0_152b4b0874\" y=\"227.834151\"/>\r\n    </g>\r\n    <g clip-path=\"url(#p82da0593bd)\">\r\n     <use style=\"fill:#440154;stroke:#440154;\" x=\"98.486725\" xlink:href=\"#C0_0_152b4b0874\" y=\"228.31423\"/>\r\n    </g>\r\n    <g clip-path=\"url(#p82da0593bd)\">\r\n     <use style=\"fill:#440154;stroke:#440154;\" x=\"95.915155\" xlink:href=\"#C0_0_152b4b0874\" y=\"228.67429\"/>\r\n    </g>\r\n    <g clip-path=\"url(#p82da0593bd)\">\r\n     <use style=\"fill:#440154;stroke:#440154;\" x=\"109.875105\" xlink:href=\"#C0_0_152b4b0874\" y=\"228.19421\"/>\r\n    </g>\r\n    <g clip-path=\"url(#p82da0593bd)\">\r\n     <use style=\"fill:#440154;stroke:#440154;\" x=\"100.690927\" xlink:href=\"#C0_0_152b4b0874\" y=\"228.19421\"/>\r\n    </g>\r\n    <g clip-path=\"url(#p82da0593bd)\">\r\n     <use style=\"fill:#440154;stroke:#440154;\" x=\"106.201434\" xlink:href=\"#C0_0_152b4b0874\" y=\"228.074191\"/>\r\n    </g>\r\n    <g clip-path=\"url(#p82da0593bd)\">\r\n     <use style=\"fill:#440154;stroke:#440154;\" x=\"100.874611\" xlink:href=\"#C0_0_152b4b0874\" y=\"228.79431\"/>\r\n    </g>\r\n    <g clip-path=\"url(#p82da0593bd)\">\r\n     <use style=\"fill:#440154;stroke:#440154;\" x=\"104.364598\" xlink:href=\"#C0_0_152b4b0874\" y=\"227.954171\"/>\r\n    </g>\r\n    <g clip-path=\"url(#p82da0593bd)\">\r\n     <use style=\"fill:#440154;stroke:#440154;\" x=\"96.098839\" xlink:href=\"#C0_0_152b4b0874\" y=\"228.074191\"/>\r\n    </g>\r\n    <g clip-path=\"url(#p82da0593bd)\">\r\n     <use style=\"fill:#440154;stroke:#440154;\" x=\"99.405143\" xlink:href=\"#C0_0_152b4b0874\" y=\"229.274389\"/>\r\n    </g>\r\n    <g clip-path=\"url(#p82da0593bd)\">\r\n     <use style=\"fill:#440154;stroke:#440154;\" x=\"109.140371\" xlink:href=\"#C0_0_152b4b0874\" y=\"228.67429\"/>\r\n    </g>\r\n    <g clip-path=\"url(#p82da0593bd)\">\r\n     <use style=\"fill:#440154;stroke:#440154;\" x=\"102.344079\" xlink:href=\"#C0_0_152b4b0874\" y=\"228.79431\"/>\r\n    </g>\r\n    <g clip-path=\"url(#p82da0593bd)\">\r\n     <use style=\"fill:#440154;stroke:#440154;\" x=\"96.282522\" xlink:href=\"#C0_0_152b4b0874\" y=\"229.754469\"/>\r\n    </g>\r\n    <g clip-path=\"url(#p82da0593bd)\">\r\n     <use style=\"fill:#440154;stroke:#440154;\" x=\"97.935674\" xlink:href=\"#C0_0_152b4b0874\" y=\"229.154369\"/>\r\n    </g>\r\n    <g clip-path=\"url(#p82da0593bd)\">\r\n     <use style=\"fill:#440154;stroke:#440154;\" x=\"105.099333\" xlink:href=\"#C0_0_152b4b0874\" y=\"228.91433\"/>\r\n    </g>\r\n    <g clip-path=\"url(#p82da0593bd)\">\r\n     <use style=\"fill:#440154;stroke:#440154;\" x=\"99.037776\" xlink:href=\"#C0_0_152b4b0874\" y=\"228.91433\"/>\r\n    </g>\r\n    <g clip-path=\"url(#p82da0593bd)\">\r\n     <use style=\"fill:#440154;stroke:#440154;\" x=\"105.283016\" xlink:href=\"#C0_0_152b4b0874\" y=\"228.19421\"/>\r\n    </g>\r\n    <g clip-path=\"url(#p82da0593bd)\">\r\n     <use style=\"fill:#440154;stroke:#440154;\" x=\"99.956193\" xlink:href=\"#C0_0_152b4b0874\" y=\"228.55427\"/>\r\n    </g>\r\n    <g clip-path=\"url(#p82da0593bd)\">\r\n     <use style=\"fill:#440154;stroke:#440154;\" x=\"94.445687\" xlink:href=\"#C0_0_152b4b0874\" y=\"229.514429\"/>\r\n    </g>\r\n    <g clip-path=\"url(#p82da0593bd)\">\r\n     <use style=\"fill:#440154;stroke:#440154;\" x=\"102.344079\" xlink:href=\"#C0_0_152b4b0874\" y=\"228.31423\"/>\r\n    </g>\r\n    <g clip-path=\"url(#p82da0593bd)\">\r\n     <use style=\"fill:#440154;stroke:#440154;\" x=\"88.567813\" xlink:href=\"#C0_0_152b4b0874\" y=\"228.67429\"/>\r\n    </g>\r\n    <g clip-path=\"url(#p82da0593bd)\">\r\n     <use style=\"fill:#440154;stroke:#440154;\" x=\"88.016763\" xlink:href=\"#C0_0_152b4b0874\" y=\"229.754469\"/>\r\n    </g>\r\n    <g clip-path=\"url(#p82da0593bd)\">\r\n     <use style=\"fill:#440154;stroke:#440154;\" x=\"93.343586\" xlink:href=\"#C0_0_152b4b0874\" y=\"229.274389\"/>\r\n    </g>\r\n    <g clip-path=\"url(#p82da0593bd)\">\r\n     <use style=\"fill:#440154;stroke:#440154;\" x=\"99.221459\" xlink:href=\"#C0_0_152b4b0874\" y=\"228.67429\"/>\r\n    </g>\r\n    <g clip-path=\"url(#p82da0593bd)\">\r\n     <use style=\"fill:#440154;stroke:#440154;\" x=\"98.486725\" xlink:href=\"#C0_0_152b4b0874\" y=\"229.03435\"/>\r\n    </g>\r\n    <g clip-path=\"url(#p82da0593bd)\">\r\n     <use style=\"fill:#440154;stroke:#440154;\" x=\"91.323067\" xlink:href=\"#C0_0_152b4b0874\" y=\"229.03435\"/>\r\n    </g>\r\n    <g clip-path=\"url(#p82da0593bd)\">\r\n     <use style=\"fill:#440154;stroke:#440154;\" x=\"88.38413\" xlink:href=\"#C0_0_152b4b0874\" y=\"229.274389\"/>\r\n    </g>\r\n    <g clip-path=\"url(#p82da0593bd)\">\r\n     <use style=\"fill:#440154;stroke:#440154;\" x=\"85.628877\" xlink:href=\"#C0_0_152b4b0874\" y=\"229.754469\"/>\r\n    </g>\r\n    <g clip-path=\"url(#p82da0593bd)\">\r\n     <use style=\"fill:#440154;stroke:#440154;\" x=\"83.424674\" xlink:href=\"#C0_0_152b4b0874\" y=\"229.03435\"/>\r\n    </g>\r\n    <g clip-path=\"url(#p82da0593bd)\">\r\n     <use style=\"fill:#440154;stroke:#440154;\" x=\"92.608851\" xlink:href=\"#C0_0_152b4b0874\" y=\"229.03435\"/>\r\n    </g>\r\n    <g clip-path=\"url(#p82da0593bd)\">\r\n     <use style=\"fill:#440154;stroke:#440154;\" x=\"89.853598\" xlink:href=\"#C0_0_152b4b0874\" y=\"228.91433\"/>\r\n    </g>\r\n    <g clip-path=\"url(#p82da0593bd)\">\r\n     <use style=\"fill:#440154;stroke:#440154;\" x=\"101.425662\" xlink:href=\"#C0_0_152b4b0874\" y=\"228.19421\"/>\r\n    </g>\r\n    <g clip-path=\"url(#p82da0593bd)\">\r\n     <use style=\"fill:#440154;stroke:#440154;\" x=\"86.363611\" xlink:href=\"#C0_0_152b4b0874\" y=\"229.634449\"/>\r\n    </g>\r\n    <g clip-path=\"url(#p82da0593bd)\">\r\n     <use style=\"fill:#440154;stroke:#440154;\" x=\"87.282029\" xlink:href=\"#C0_0_152b4b0874\" y=\"229.274389\"/>\r\n    </g>\r\n    <g clip-path=\"url(#p82da0593bd)\">\r\n     <use style=\"fill:#440154;stroke:#440154;\" x=\"88.93518\" xlink:href=\"#C0_0_152b4b0874\" y=\"229.394409\"/>\r\n    </g>\r\n    <g clip-path=\"url(#p82da0593bd)\">\r\n     <use style=\"fill:#440154;stroke:#440154;\" x=\"88.751497\" xlink:href=\"#C0_0_152b4b0874\" y=\"229.874489\"/>\r\n    </g>\r\n    <g clip-path=\"url(#p82da0593bd)\">\r\n     <use style=\"fill:#440154;stroke:#440154;\" x=\"89.302548\" xlink:href=\"#C0_0_152b4b0874\" y=\"229.874489\"/>\r\n    </g>\r\n    <g clip-path=\"url(#p82da0593bd)\">\r\n     <use style=\"fill:#440154;stroke:#440154;\" x=\"95.731472\" xlink:href=\"#C0_0_152b4b0874\" y=\"228.55427\"/>\r\n    </g>\r\n    <g clip-path=\"url(#p82da0593bd)\">\r\n     <use style=\"fill:#440154;stroke:#440154;\" x=\"89.486231\" xlink:href=\"#C0_0_152b4b0874\" y=\"229.274389\"/>\r\n    </g>\r\n    <g clip-path=\"url(#p82da0593bd)\">\r\n     <use style=\"fill:#440154;stroke:#440154;\" x=\"87.833079\" xlink:href=\"#C0_0_152b4b0874\" y=\"229.634449\"/>\r\n    </g>\r\n    <g clip-path=\"url(#p82da0593bd)\">\r\n     <use style=\"fill:#440154;stroke:#440154;\" x=\"89.853598\" xlink:href=\"#C0_0_152b4b0874\" y=\"229.634449\"/>\r\n    </g>\r\n    <g clip-path=\"url(#p82da0593bd)\">\r\n     <use style=\"fill:#440154;stroke:#440154;\" x=\"91.139383\" xlink:href=\"#C0_0_152b4b0874\" y=\"229.154369\"/>\r\n    </g>\r\n    <g clip-path=\"url(#p82da0593bd)\">\r\n     <use style=\"fill:#440154;stroke:#440154;\" x=\"84.894142\" xlink:href=\"#C0_0_152b4b0874\" y=\"228.67429\"/>\r\n    </g>\r\n    <g clip-path=\"url(#p82da0593bd)\">\r\n     <use style=\"fill:#440154;stroke:#440154;\" x=\"87.465712\" xlink:href=\"#C0_0_152b4b0874\" y=\"229.634449\"/>\r\n    </g>\r\n    <g clip-path=\"url(#p82da0593bd)\">\r\n     <use style=\"fill:#440154;stroke:#440154;\" x=\"89.118864\" xlink:href=\"#C0_0_152b4b0874\" y=\"229.03435\"/>\r\n    </g>\r\n    <g clip-path=\"url(#p82da0593bd)\">\r\n     <use style=\"fill:#440154;stroke:#440154;\" x=\"90.404649\" xlink:href=\"#C0_0_152b4b0874\" y=\"229.634449\"/>\r\n    </g>\r\n    <g clip-path=\"url(#p82da0593bd)\">\r\n     <use style=\"fill:#440154;stroke:#440154;\" x=\"87.649396\" xlink:href=\"#C0_0_152b4b0874\" y=\"229.274389\"/>\r\n    </g>\r\n    <g clip-path=\"url(#p82da0593bd)\">\r\n     <use style=\"fill:#440154;stroke:#440154;\" x=\"85.81256\" xlink:href=\"#C0_0_152b4b0874\" y=\"229.874489\"/>\r\n    </g>\r\n    <g clip-path=\"url(#p82da0593bd)\">\r\n     <use style=\"fill:#440154;stroke:#440154;\" x=\"90.955699\" xlink:href=\"#C0_0_152b4b0874\" y=\"228.79431\"/>\r\n    </g>\r\n    <g clip-path=\"url(#p82da0593bd)\">\r\n     <use style=\"fill:#440154;stroke:#440154;\" x=\"88.016763\" xlink:href=\"#C0_0_152b4b0874\" y=\"229.634449\"/>\r\n    </g>\r\n    <g clip-path=\"url(#p82da0593bd)\">\r\n     <use style=\"fill:#440154;stroke:#440154;\" x=\"94.813054\" xlink:href=\"#C0_0_152b4b0874\" y=\"227.354071\"/>\r\n    </g>\r\n    <g clip-path=\"url(#p82da0593bd)\">\r\n     <use style=\"fill:#440154;stroke:#440154;\" x=\"86.914661\" xlink:href=\"#C0_0_152b4b0874\" y=\"229.394409\"/>\r\n    </g>\r\n    <g clip-path=\"url(#p82da0593bd)\">\r\n     <use style=\"fill:#440154;stroke:#440154;\" x=\"81.220472\" xlink:href=\"#C0_0_152b4b0874\" y=\"229.634449\"/>\r\n    </g>\r\n    <g clip-path=\"url(#p82da0593bd)\">\r\n     <use style=\"fill:#440154;stroke:#440154;\" x=\"88.93518\" xlink:href=\"#C0_0_152b4b0874\" y=\"229.03435\"/>\r\n    </g>\r\n    <g clip-path=\"url(#p82da0593bd)\">\r\n     <use style=\"fill:#440154;stroke:#440154;\" x=\"86.914661\" xlink:href=\"#C0_0_152b4b0874\" y=\"228.91433\"/>\r\n    </g>\r\n    <g clip-path=\"url(#p82da0593bd)\">\r\n     <use style=\"fill:#440154;stroke:#440154;\" x=\"89.669915\" xlink:href=\"#C0_0_152b4b0874\" y=\"229.394409\"/>\r\n    </g>\r\n    <g clip-path=\"url(#p82da0593bd)\">\r\n     <use style=\"fill:#440154;stroke:#440154;\" x=\"90.220965\" xlink:href=\"#C0_0_152b4b0874\" y=\"227.834151\"/>\r\n    </g>\r\n    <g clip-path=\"url(#p82da0593bd)\">\r\n     <use style=\"fill:#440154;stroke:#440154;\" x=\"84.894142\" xlink:href=\"#C0_0_152b4b0874\" y=\"229.274389\"/>\r\n    </g>\r\n    <g clip-path=\"url(#p82da0593bd)\">\r\n     <use style=\"fill:#440154;stroke:#440154;\" x=\"88.016763\" xlink:href=\"#C0_0_152b4b0874\" y=\"229.154369\"/>\r\n    </g>\r\n    <g clip-path=\"url(#p82da0593bd)\">\r\n     <use style=\"fill:#440154;stroke:#440154;\" x=\"81.955206\" xlink:href=\"#C0_0_152b4b0874\" y=\"229.754469\"/>\r\n    </g>\r\n    <g clip-path=\"url(#p82da0593bd)\">\r\n     <use style=\"fill:#440154;stroke:#440154;\" x=\"85.077826\" xlink:href=\"#C0_0_152b4b0874\" y=\"229.514429\"/>\r\n    </g>\r\n    <g clip-path=\"url(#p82da0593bd)\">\r\n     <use style=\"fill:#440154;stroke:#440154;\" x=\"87.649396\" xlink:href=\"#C0_0_152b4b0874\" y=\"229.754469\"/>\r\n    </g>\r\n    <g clip-path=\"url(#p82da0593bd)\">\r\n     <use style=\"fill:#440154;stroke:#440154;\" x=\"82.322573\" xlink:href=\"#C0_0_152b4b0874\" y=\"229.874489\"/>\r\n    </g>\r\n    <g clip-path=\"url(#p82da0593bd)\">\r\n     <use style=\"fill:#440154;stroke:#440154;\" x=\"83.608358\" xlink:href=\"#C0_0_152b4b0874\" y=\"229.754469\"/>\r\n    </g>\r\n    <g clip-path=\"url(#p82da0593bd)\">\r\n     <use style=\"fill:#440154;stroke:#440154;\" x=\"84.526775\" xlink:href=\"#C0_0_152b4b0874\" y=\"229.394409\"/>\r\n    </g>\r\n    <g clip-path=\"url(#p82da0593bd)\">\r\n     <use style=\"fill:#440154;stroke:#440154;\" x=\"83.792041\" xlink:href=\"#C0_0_152b4b0874\" y=\"229.154369\"/>\r\n    </g>\r\n    <g clip-path=\"url(#p82da0593bd)\">\r\n     <use style=\"fill:#440154;stroke:#440154;\" x=\"82.506256\" xlink:href=\"#C0_0_152b4b0874\" y=\"229.634449\"/>\r\n    </g>\r\n    <g clip-path=\"url(#p82da0593bd)\">\r\n     <use style=\"fill:#440154;stroke:#440154;\" x=\"83.424674\" xlink:href=\"#C0_0_152b4b0874\" y=\"229.634449\"/>\r\n    </g>\r\n    <g clip-path=\"url(#p82da0593bd)\">\r\n     <use style=\"fill:#440154;stroke:#440154;\" x=\"86.179927\" xlink:href=\"#C0_0_152b4b0874\" y=\"229.634449\"/>\r\n    </g>\r\n    <g clip-path=\"url(#p82da0593bd)\">\r\n     <use style=\"fill:#440154;stroke:#440154;\" x=\"90.404649\" xlink:href=\"#C0_0_152b4b0874\" y=\"228.55427\"/>\r\n    </g>\r\n    <g clip-path=\"url(#p82da0593bd)\">\r\n     <use style=\"fill:#440154;stroke:#440154;\" x=\"91.323067\" xlink:href=\"#C0_0_152b4b0874\" y=\"227.714131\"/>\r\n    </g>\r\n    <g clip-path=\"url(#p82da0593bd)\">\r\n     <use style=\"fill:#440154;stroke:#440154;\" x=\"80.669421\" xlink:href=\"#C0_0_152b4b0874\" y=\"229.634449\"/>\r\n    </g>\r\n    <g clip-path=\"url(#p82da0593bd)\">\r\n     <use style=\"fill:#440154;stroke:#440154;\" x=\"78.465218\" xlink:href=\"#C0_0_152b4b0874\" y=\"229.514429\"/>\r\n    </g>\r\n    <g clip-path=\"url(#p82da0593bd)\">\r\n     <use style=\"fill:#440154;stroke:#440154;\" x=\"81.955206\" xlink:href=\"#C0_0_152b4b0874\" y=\"229.634449\"/>\r\n    </g>\r\n    <g clip-path=\"url(#p82da0593bd)\">\r\n     <use style=\"fill:#440154;stroke:#440154;\" x=\"79.016269\" xlink:href=\"#C0_0_152b4b0874\" y=\"229.874489\"/>\r\n    </g>\r\n    <g clip-path=\"url(#p82da0593bd)\">\r\n     <use style=\"fill:#440154;stroke:#440154;\" x=\"82.68994\" xlink:href=\"#C0_0_152b4b0874\" y=\"229.394409\"/>\r\n    </g>\r\n    <g clip-path=\"url(#p82da0593bd)\">\r\n     <use style=\"fill:#440154;stroke:#440154;\" x=\"84.159408\" xlink:href=\"#C0_0_152b4b0874\" y=\"229.394409\"/>\r\n    </g>\r\n    <g clip-path=\"url(#p82da0593bd)\">\r\n     <use style=\"fill:#440154;stroke:#440154;\" x=\"81.771522\" xlink:href=\"#C0_0_152b4b0874\" y=\"229.754469\"/>\r\n    </g>\r\n    <g clip-path=\"url(#p82da0593bd)\">\r\n     <use style=\"fill:#440154;stroke:#440154;\" x=\"83.792041\" xlink:href=\"#C0_0_152b4b0874\" y=\"228.67429\"/>\r\n    </g>\r\n    <g clip-path=\"url(#p82da0593bd)\">\r\n     <use style=\"fill:#440154;stroke:#440154;\" x=\"81.220472\" xlink:href=\"#C0_0_152b4b0874\" y=\"229.874489\"/>\r\n    </g>\r\n    <g clip-path=\"url(#p82da0593bd)\">\r\n     <use style=\"fill:#440154;stroke:#440154;\" x=\"82.68994\" xlink:href=\"#C0_0_152b4b0874\" y=\"229.154369\"/>\r\n    </g>\r\n    <g clip-path=\"url(#p82da0593bd)\">\r\n     <use style=\"fill:#440154;stroke:#440154;\" x=\"83.975725\" xlink:href=\"#C0_0_152b4b0874\" y=\"229.394409\"/>\r\n    </g>\r\n    <g clip-path=\"url(#p82da0593bd)\">\r\n     <use style=\"fill:#440154;stroke:#440154;\" x=\"80.302054\" xlink:href=\"#C0_0_152b4b0874\" y=\"229.874489\"/>\r\n    </g>\r\n    <g clip-path=\"url(#p82da0593bd)\">\r\n     <use style=\"fill:#440154;stroke:#440154;\" x=\"78.832585\" xlink:href=\"#C0_0_152b4b0874\" y=\"229.754469\"/>\r\n    </g>\r\n    <g clip-path=\"url(#p82da0593bd)\">\r\n     <use style=\"fill:#440154;stroke:#440154;\" x=\"82.68994\" xlink:href=\"#C0_0_152b4b0874\" y=\"229.754469\"/>\r\n    </g>\r\n    <g clip-path=\"url(#p82da0593bd)\">\r\n     <use style=\"fill:#440154;stroke:#440154;\" x=\"79.56732\" xlink:href=\"#C0_0_152b4b0874\" y=\"229.634449\"/>\r\n    </g>\r\n    <g clip-path=\"url(#p82da0593bd)\">\r\n     <use style=\"fill:#440154;stroke:#440154;\" x=\"81.404155\" xlink:href=\"#C0_0_152b4b0874\" y=\"228.43425\"/>\r\n    </g>\r\n    <g clip-path=\"url(#p82da0593bd)\">\r\n     <use style=\"fill:#440154;stroke:#440154;\" x=\"75.709965\" xlink:href=\"#C0_0_152b4b0874\" y=\"229.634449\"/>\r\n    </g>\r\n    <g clip-path=\"url(#p82da0593bd)\">\r\n     <use style=\"fill:#440154;stroke:#440154;\" x=\"80.11837\" xlink:href=\"#C0_0_152b4b0874\" y=\"229.394409\"/>\r\n    </g>\r\n    <g clip-path=\"url(#p82da0593bd)\">\r\n     <use style=\"fill:#440154;stroke:#440154;\" x=\"80.485737\" xlink:href=\"#C0_0_152b4b0874\" y=\"229.394409\"/>\r\n    </g>\r\n    <g clip-path=\"url(#p82da0593bd)\">\r\n     <use style=\"fill:#440154;stroke:#440154;\" x=\"74.975231\" xlink:href=\"#C0_0_152b4b0874\" y=\"229.754469\"/>\r\n    </g>\r\n    <g clip-path=\"url(#p82da0593bd)\">\r\n     <use style=\"fill:#440154;stroke:#440154;\" x=\"79.016269\" xlink:href=\"#C0_0_152b4b0874\" y=\"229.874489\"/>\r\n    </g>\r\n    <g clip-path=\"url(#p82da0593bd)\">\r\n     <use style=\"fill:#440154;stroke:#440154;\" x=\"78.097851\" xlink:href=\"#C0_0_152b4b0874\" y=\"229.874489\"/>\r\n    </g>\r\n    <g clip-path=\"url(#p82da0593bd)\">\r\n     <use style=\"fill:#440154;stroke:#440154;\" x=\"80.853104\" xlink:href=\"#C0_0_152b4b0874\" y=\"228.79431\"/>\r\n    </g>\r\n    <g clip-path=\"url(#p82da0593bd)\">\r\n     <use style=\"fill:#440154;stroke:#440154;\" x=\"79.751003\" xlink:href=\"#C0_0_152b4b0874\" y=\"229.754469\"/>\r\n    </g>\r\n    <g clip-path=\"url(#p82da0593bd)\">\r\n     <use style=\"fill:#440154;stroke:#440154;\" x=\"79.934687\" xlink:href=\"#C0_0_152b4b0874\" y=\"229.754469\"/>\r\n    </g>\r\n    <g clip-path=\"url(#p82da0593bd)\">\r\n     <use style=\"fill:#440154;stroke:#440154;\" x=\"82.138889\" xlink:href=\"#C0_0_152b4b0874\" y=\"229.274389\"/>\r\n    </g>\r\n    <g clip-path=\"url(#p82da0593bd)\">\r\n     <use style=\"fill:#440154;stroke:#440154;\" x=\"78.648902\" xlink:href=\"#C0_0_152b4b0874\" y=\"229.274389\"/>\r\n    </g>\r\n    <g clip-path=\"url(#p82da0593bd)\">\r\n     <use style=\"fill:#440154;stroke:#440154;\" x=\"78.648902\" xlink:href=\"#C0_0_152b4b0874\" y=\"229.514429\"/>\r\n    </g>\r\n    <g clip-path=\"url(#p82da0593bd)\">\r\n     <use style=\"fill:#440154;stroke:#440154;\" x=\"77.914168\" xlink:href=\"#C0_0_152b4b0874\" y=\"229.754469\"/>\r\n    </g>\r\n    <g clip-path=\"url(#p82da0593bd)\">\r\n     <use style=\"fill:#440154;stroke:#440154;\" x=\"79.199953\" xlink:href=\"#C0_0_152b4b0874\" y=\"229.754469\"/>\r\n    </g>\r\n    <g clip-path=\"url(#p82da0593bd)\">\r\n     <use style=\"fill:#440154;stroke:#440154;\" x=\"84.710459\" xlink:href=\"#C0_0_152b4b0874\" y=\"229.514429\"/>\r\n    </g>\r\n    <g clip-path=\"url(#p82da0593bd)\">\r\n     <use style=\"fill:#440154;stroke:#440154;\" x=\"76.812066\" xlink:href=\"#C0_0_152b4b0874\" y=\"229.634449\"/>\r\n    </g>\r\n    <g clip-path=\"url(#p82da0593bd)\">\r\n     <use style=\"fill:#440154;stroke:#440154;\" x=\"74.791547\" xlink:href=\"#C0_0_152b4b0874\" y=\"229.634449\"/>\r\n    </g>\r\n    <g clip-path=\"url(#p82da0593bd)\">\r\n     <use style=\"fill:#440154;stroke:#440154;\" x=\"76.261016\" xlink:href=\"#C0_0_152b4b0874\" y=\"229.754469\"/>\r\n    </g>\r\n    <g clip-path=\"url(#p82da0593bd)\">\r\n     <use style=\"fill:#440154;stroke:#440154;\" x=\"77.730484\" xlink:href=\"#C0_0_152b4b0874\" y=\"229.874489\"/>\r\n    </g>\r\n    <g clip-path=\"url(#p82da0593bd)\">\r\n     <use style=\"fill:#440154;stroke:#440154;\" x=\"73.138395\" xlink:href=\"#C0_0_152b4b0874\" y=\"229.754469\"/>\r\n    </g>\r\n    <g clip-path=\"url(#p82da0593bd)\">\r\n     <use style=\"fill:#440154;stroke:#440154;\" x=\"74.607864\" xlink:href=\"#C0_0_152b4b0874\" y=\"229.634449\"/>\r\n    </g>\r\n    <g clip-path=\"url(#p82da0593bd)\">\r\n     <use style=\"fill:#440154;stroke:#440154;\" x=\"76.99575\" xlink:href=\"#C0_0_152b4b0874\" y=\"229.634449\"/>\r\n    </g>\r\n    <g clip-path=\"url(#p82da0593bd)\">\r\n     <use style=\"fill:#440154;stroke:#440154;\" x=\"78.832585\" xlink:href=\"#C0_0_152b4b0874\" y=\"229.03435\"/>\r\n    </g>\r\n    <g clip-path=\"url(#p82da0593bd)\">\r\n     <use style=\"fill:#440154;stroke:#440154;\" x=\"73.505763\" xlink:href=\"#C0_0_152b4b0874\" y=\"229.514429\"/>\r\n    </g>\r\n    <g clip-path=\"url(#p82da0593bd)\">\r\n     <use style=\"fill:#440154;stroke:#440154;\" x=\"74.791547\" xlink:href=\"#C0_0_152b4b0874\" y=\"229.634449\"/>\r\n    </g>\r\n    <g clip-path=\"url(#p82da0593bd)\">\r\n     <use style=\"fill:#440154;stroke:#440154;\" x=\"74.975231\" xlink:href=\"#C0_0_152b4b0874\" y=\"229.754469\"/>\r\n    </g>\r\n    <g clip-path=\"url(#p82da0593bd)\">\r\n     <use style=\"fill:#440154;stroke:#440154;\" x=\"78.097851\" xlink:href=\"#C0_0_152b4b0874\" y=\"229.154369\"/>\r\n    </g>\r\n    <g clip-path=\"url(#p82da0593bd)\">\r\n     <use style=\"fill:#440154;stroke:#440154;\" x=\"75.893649\" xlink:href=\"#C0_0_152b4b0874\" y=\"229.514429\"/>\r\n    </g>\r\n    <g clip-path=\"url(#p82da0593bd)\">\r\n     <use style=\"fill:#440154;stroke:#440154;\" x=\"77.546801\" xlink:href=\"#C0_0_152b4b0874\" y=\"229.514429\"/>\r\n    </g>\r\n    <g clip-path=\"url(#p82da0593bd)\">\r\n     <use style=\"fill:#440154;stroke:#440154;\" x=\"78.281535\" xlink:href=\"#C0_0_152b4b0874\" y=\"229.754469\"/>\r\n    </g>\r\n    <g clip-path=\"url(#p82da0593bd)\">\r\n     <use style=\"fill:#440154;stroke:#440154;\" x=\"75.342598\" xlink:href=\"#C0_0_152b4b0874\" y=\"229.634449\"/>\r\n    </g>\r\n    <g clip-path=\"url(#p82da0593bd)\">\r\n     <use style=\"fill:#440154;stroke:#440154;\" x=\"77.363117\" xlink:href=\"#C0_0_152b4b0874\" y=\"229.394409\"/>\r\n    </g>\r\n    <g clip-path=\"url(#p82da0593bd)\">\r\n     <use style=\"fill:#440154;stroke:#440154;\" x=\"74.056813\" xlink:href=\"#C0_0_152b4b0874\" y=\"229.874489\"/>\r\n    </g>\r\n    <g clip-path=\"url(#p82da0593bd)\">\r\n     <use style=\"fill:#440154;stroke:#440154;\" x=\"74.791547\" xlink:href=\"#C0_0_152b4b0874\" y=\"229.874489\"/>\r\n    </g>\r\n    <g clip-path=\"url(#p82da0593bd)\">\r\n     <use style=\"fill:#440154;stroke:#440154;\" x=\"75.158914\" xlink:href=\"#C0_0_152b4b0874\" y=\"229.754469\"/>\r\n    </g>\r\n    <g clip-path=\"url(#p82da0593bd)\">\r\n     <use style=\"fill:#440154;stroke:#440154;\" x=\"72.036294\" xlink:href=\"#C0_0_152b4b0874\" y=\"229.874489\"/>\r\n    </g>\r\n    <g clip-path=\"url(#p82da0593bd)\">\r\n     <use style=\"fill:#440154;stroke:#440154;\" x=\"74.240497\" xlink:href=\"#C0_0_152b4b0874\" y=\"229.514429\"/>\r\n    </g>\r\n    <g clip-path=\"url(#p82da0593bd)\">\r\n     <use style=\"fill:#440154;stroke:#440154;\" x=\"75.526282\" xlink:href=\"#C0_0_152b4b0874\" y=\"229.514429\"/>\r\n    </g>\r\n    <g clip-path=\"url(#p82da0593bd)\">\r\n     <use style=\"fill:#440154;stroke:#440154;\" x=\"77.546801\" xlink:href=\"#C0_0_152b4b0874\" y=\"229.514429\"/>\r\n    </g>\r\n    <g clip-path=\"url(#p82da0593bd)\">\r\n     <use style=\"fill:#440154;stroke:#440154;\" x=\"74.607864\" xlink:href=\"#C0_0_152b4b0874\" y=\"229.634449\"/>\r\n    </g>\r\n    <g clip-path=\"url(#p82da0593bd)\">\r\n     <use style=\"fill:#440154;stroke:#440154;\" x=\"77.363117\" xlink:href=\"#C0_0_152b4b0874\" y=\"229.754469\"/>\r\n    </g>\r\n    <g clip-path=\"url(#p82da0593bd)\">\r\n     <use style=\"fill:#440154;stroke:#440154;\" x=\"76.444699\" xlink:href=\"#C0_0_152b4b0874\" y=\"229.754469\"/>\r\n    </g>\r\n    <g clip-path=\"url(#p82da0593bd)\">\r\n     <use style=\"fill:#440154;stroke:#440154;\" x=\"74.240497\" xlink:href=\"#C0_0_152b4b0874\" y=\"229.634449\"/>\r\n    </g>\r\n    <g clip-path=\"url(#p82da0593bd)\">\r\n     <use style=\"fill:#440154;stroke:#440154;\" x=\"74.056813\" xlink:href=\"#C0_0_152b4b0874\" y=\"229.874489\"/>\r\n    </g>\r\n    <g clip-path=\"url(#p82da0593bd)\">\r\n     <use style=\"fill:#440154;stroke:#440154;\" x=\"75.342598\" xlink:href=\"#C0_0_152b4b0874\" y=\"229.874489\"/>\r\n    </g>\r\n    <g clip-path=\"url(#p82da0593bd)\">\r\n     <use style=\"fill:#440154;stroke:#440154;\" x=\"75.342598\" xlink:href=\"#C0_0_152b4b0874\" y=\"229.634449\"/>\r\n    </g>\r\n    <g clip-path=\"url(#p82da0593bd)\">\r\n     <use style=\"fill:#440154;stroke:#440154;\" x=\"75.709965\" xlink:href=\"#C0_0_152b4b0874\" y=\"229.754469\"/>\r\n    </g>\r\n    <g clip-path=\"url(#p82da0593bd)\">\r\n     <use style=\"fill:#440154;stroke:#440154;\" x=\"72.587345\" xlink:href=\"#C0_0_152b4b0874\" y=\"229.754469\"/>\r\n    </g>\r\n    <g clip-path=\"url(#p82da0593bd)\">\r\n     <use style=\"fill:#440154;stroke:#440154;\" x=\"77.363117\" xlink:href=\"#C0_0_152b4b0874\" y=\"229.634449\"/>\r\n    </g>\r\n    <g clip-path=\"url(#p82da0593bd)\">\r\n     <use style=\"fill:#440154;stroke:#440154;\" x=\"72.587345\" xlink:href=\"#C0_0_152b4b0874\" y=\"229.874489\"/>\r\n    </g>\r\n    <g clip-path=\"url(#p82da0593bd)\">\r\n     <use style=\"fill:#440154;stroke:#440154;\" x=\"75.158914\" xlink:href=\"#C0_0_152b4b0874\" y=\"229.634449\"/>\r\n    </g>\r\n    <g clip-path=\"url(#p82da0593bd)\">\r\n     <use style=\"fill:#440154;stroke:#440154;\" x=\"72.219978\" xlink:href=\"#C0_0_152b4b0874\" y=\"229.874489\"/>\r\n    </g>\r\n    <g clip-path=\"url(#p82da0593bd)\">\r\n     <use style=\"fill:#440154;stroke:#440154;\" x=\"71.485244\" xlink:href=\"#C0_0_152b4b0874\" y=\"229.874489\"/>\r\n    </g>\r\n    <g clip-path=\"url(#p82da0593bd)\">\r\n     <use style=\"fill:#440154;stroke:#440154;\" x=\"73.689446\" xlink:href=\"#C0_0_152b4b0874\" y=\"229.874489\"/>\r\n    </g>\r\n    <g clip-path=\"url(#p82da0593bd)\">\r\n     <use style=\"fill:#440154;stroke:#440154;\" x=\"72.771028\" xlink:href=\"#C0_0_152b4b0874\" y=\"229.874489\"/>\r\n    </g>\r\n    <g clip-path=\"url(#p82da0593bd)\">\r\n     <use style=\"fill:#440154;stroke:#440154;\" x=\"84.526775\" xlink:href=\"#C0_0_152b4b0874\" y=\"228.074191\"/>\r\n    </g>\r\n    <g clip-path=\"url(#p82da0593bd)\">\r\n     <use style=\"fill:#440154;stroke:#440154;\" x=\"72.036294\" xlink:href=\"#C0_0_152b4b0874\" y=\"229.874489\"/>\r\n    </g>\r\n    <g clip-path=\"url(#p82da0593bd)\">\r\n     <use style=\"fill:#440154;stroke:#440154;\" x=\"74.975231\" xlink:href=\"#C0_0_152b4b0874\" y=\"229.874489\"/>\r\n    </g>\r\n    <g clip-path=\"url(#p82da0593bd)\">\r\n     <use style=\"fill:#440154;stroke:#440154;\" x=\"72.219978\" xlink:href=\"#C0_0_152b4b0874\" y=\"229.874489\"/>\r\n    </g>\r\n    <g clip-path=\"url(#p82da0593bd)\">\r\n     <use style=\"fill:#440154;stroke:#440154;\" x=\"71.485244\" xlink:href=\"#C0_0_152b4b0874\" y=\"229.754469\"/>\r\n    </g>\r\n    <g clip-path=\"url(#p82da0593bd)\">\r\n     <use style=\"fill:#440154;stroke:#440154;\" x=\"73.689446\" xlink:href=\"#C0_0_152b4b0874\" y=\"229.874489\"/>\r\n    </g>\r\n    <g clip-path=\"url(#p82da0593bd)\">\r\n     <use style=\"fill:#440154;stroke:#440154;\" x=\"73.505763\" xlink:href=\"#C0_0_152b4b0874\" y=\"229.874489\"/>\r\n    </g>\r\n    <g clip-path=\"url(#p82da0593bd)\">\r\n     <use style=\"fill:#440154;stroke:#440154;\" x=\"72.587345\" xlink:href=\"#C0_0_152b4b0874\" y=\"229.154369\"/>\r\n    </g>\r\n    <g clip-path=\"url(#p82da0593bd)\">\r\n     <use style=\"fill:#440154;stroke:#440154;\" x=\"71.117876\" xlink:href=\"#C0_0_152b4b0874\" y=\"229.514429\"/>\r\n    </g>\r\n    <g clip-path=\"url(#p82da0593bd)\">\r\n     <use style=\"fill:#440154;stroke:#440154;\" x=\"73.138395\" xlink:href=\"#C0_0_152b4b0874\" y=\"229.514429\"/>\r\n    </g>\r\n    <g clip-path=\"url(#p82da0593bd)\">\r\n     <use style=\"fill:#440154;stroke:#440154;\" x=\"73.505763\" xlink:href=\"#C0_0_152b4b0874\" y=\"229.754469\"/>\r\n    </g>\r\n    <g clip-path=\"url(#p82da0593bd)\">\r\n     <use style=\"fill:#440154;stroke:#440154;\" x=\"74.056813\" xlink:href=\"#C0_0_152b4b0874\" y=\"229.514429\"/>\r\n    </g>\r\n    <g clip-path=\"url(#p82da0593bd)\">\r\n     <use style=\"fill:#440154;stroke:#440154;\" x=\"73.87313\" xlink:href=\"#C0_0_152b4b0874\" y=\"229.394409\"/>\r\n    </g>\r\n    <g clip-path=\"url(#p82da0593bd)\">\r\n     <use style=\"fill:#440154;stroke:#440154;\" x=\"75.158914\" xlink:href=\"#C0_0_152b4b0874\" y=\"229.754469\"/>\r\n    </g>\r\n    <g clip-path=\"url(#p82da0593bd)\">\r\n     <use style=\"fill:#440154;stroke:#440154;\" x=\"71.668927\" xlink:href=\"#C0_0_152b4b0874\" y=\"229.754469\"/>\r\n    </g>\r\n    <g clip-path=\"url(#p82da0593bd)\">\r\n     <use style=\"fill:#440154;stroke:#440154;\" x=\"79.934687\" xlink:href=\"#C0_0_152b4b0874\" y=\"229.274389\"/>\r\n    </g>\r\n    <g clip-path=\"url(#p82da0593bd)\">\r\n     <use style=\"fill:#440154;stroke:#440154;\" x=\"71.668927\" xlink:href=\"#C0_0_152b4b0874\" y=\"229.514429\"/>\r\n    </g>\r\n    <g clip-path=\"url(#p82da0593bd)\">\r\n     <use style=\"fill:#440154;stroke:#440154;\" x=\"72.403661\" xlink:href=\"#C0_0_152b4b0874\" y=\"229.154369\"/>\r\n    </g>\r\n    <g clip-path=\"url(#p82da0593bd)\">\r\n     <use style=\"fill:#440154;stroke:#440154;\" x=\"75.342598\" xlink:href=\"#C0_0_152b4b0874\" y=\"229.514429\"/>\r\n    </g>\r\n    <g clip-path=\"url(#p82da0593bd)\">\r\n     <use style=\"fill:#440154;stroke:#440154;\" x=\"74.791547\" xlink:href=\"#C0_0_152b4b0874\" y=\"229.394409\"/>\r\n    </g>\r\n    <g clip-path=\"url(#p82da0593bd)\">\r\n     <use style=\"fill:#440154;stroke:#440154;\" x=\"73.322079\" xlink:href=\"#C0_0_152b4b0874\" y=\"229.754469\"/>\r\n    </g>\r\n    <g clip-path=\"url(#p82da0593bd)\">\r\n     <use style=\"fill:#440154;stroke:#440154;\" x=\"71.668927\" xlink:href=\"#C0_0_152b4b0874\" y=\"229.514429\"/>\r\n    </g>\r\n    <g clip-path=\"url(#p82da0593bd)\">\r\n     <use style=\"fill:#440154;stroke:#440154;\" x=\"74.056813\" xlink:href=\"#C0_0_152b4b0874\" y=\"229.514429\"/>\r\n    </g>\r\n    <g clip-path=\"url(#p82da0593bd)\">\r\n     <use style=\"fill:#440154;stroke:#440154;\" x=\"73.138395\" xlink:href=\"#C0_0_152b4b0874\" y=\"229.874489\"/>\r\n    </g>\r\n    <g clip-path=\"url(#p82da0593bd)\">\r\n     <use style=\"fill:#440154;stroke:#440154;\" x=\"69.097357\" xlink:href=\"#C0_0_152b4b0874\" y=\"229.634449\"/>\r\n    </g>\r\n    <g clip-path=\"url(#p82da0593bd)\">\r\n     <use style=\"fill:#440154;stroke:#440154;\" x=\"72.036294\" xlink:href=\"#C0_0_152b4b0874\" y=\"229.874489\"/>\r\n    </g>\r\n    <g clip-path=\"url(#p82da0593bd)\">\r\n     <use style=\"fill:#440154;stroke:#440154;\" x=\"73.689446\" xlink:href=\"#C0_0_152b4b0874\" y=\"229.874489\"/>\r\n    </g>\r\n    <g clip-path=\"url(#p82da0593bd)\">\r\n     <use style=\"fill:#440154;stroke:#440154;\" x=\"70.383142\" xlink:href=\"#C0_0_152b4b0874\" y=\"229.514429\"/>\r\n    </g>\r\n    <g clip-path=\"url(#p82da0593bd)\">\r\n     <use style=\"fill:#440154;stroke:#440154;\" x=\"100.139877\" xlink:href=\"#C0_0_152b4b0874\" y=\"228.55427\"/>\r\n    </g>\r\n    <g clip-path=\"url(#p82da0593bd)\">\r\n     <use style=\"fill:#440154;stroke:#440154;\" x=\"69.464725\" xlink:href=\"#C0_0_152b4b0874\" y=\"229.754469\"/>\r\n    </g>\r\n    <g clip-path=\"url(#p82da0593bd)\">\r\n     <use style=\"fill:#440154;stroke:#440154;\" x=\"71.852611\" xlink:href=\"#C0_0_152b4b0874\" y=\"229.874489\"/>\r\n    </g>\r\n    <g clip-path=\"url(#p82da0593bd)\">\r\n     <use style=\"fill:#440154;stroke:#440154;\" x=\"70.750509\" xlink:href=\"#C0_0_152b4b0874\" y=\"229.274389\"/>\r\n    </g>\r\n    <g clip-path=\"url(#p82da0593bd)\">\r\n     <use style=\"fill:#440154;stroke:#440154;\" x=\"73.689446\" xlink:href=\"#C0_0_152b4b0874\" y=\"229.634449\"/>\r\n    </g>\r\n    <g clip-path=\"url(#p82da0593bd)\">\r\n     <use style=\"fill:#440154;stroke:#440154;\" x=\"73.138395\" xlink:href=\"#C0_0_152b4b0874\" y=\"229.874489\"/>\r\n    </g>\r\n    <g clip-path=\"url(#p82da0593bd)\">\r\n     <use style=\"fill:#440154;stroke:#440154;\" x=\"69.648408\" xlink:href=\"#C0_0_152b4b0874\" y=\"229.874489\"/>\r\n    </g>\r\n    <g clip-path=\"url(#p82da0593bd)\">\r\n     <use style=\"fill:#440154;stroke:#440154;\" x=\"72.587345\" xlink:href=\"#C0_0_152b4b0874\" y=\"229.754469\"/>\r\n    </g>\r\n    <g clip-path=\"url(#p82da0593bd)\">\r\n     <use style=\"fill:#440154;stroke:#440154;\" x=\"71.30156\" xlink:href=\"#C0_0_152b4b0874\" y=\"229.754469\"/>\r\n    </g>\r\n    <g clip-path=\"url(#p82da0593bd)\">\r\n     <use style=\"fill:#440154;stroke:#440154;\" x=\"72.036294\" xlink:href=\"#C0_0_152b4b0874\" y=\"229.874489\"/>\r\n    </g>\r\n    <g clip-path=\"url(#p82da0593bd)\">\r\n     <use style=\"fill:#440154;stroke:#440154;\" x=\"72.036294\" xlink:href=\"#C0_0_152b4b0874\" y=\"229.874489\"/>\r\n    </g>\r\n    <g clip-path=\"url(#p82da0593bd)\">\r\n     <use style=\"fill:#440154;stroke:#440154;\" x=\"72.036294\" xlink:href=\"#C0_0_152b4b0874\" y=\"229.874489\"/>\r\n    </g>\r\n    <g clip-path=\"url(#p82da0593bd)\">\r\n     <use style=\"fill:#440154;stroke:#440154;\" x=\"71.30156\" xlink:href=\"#C0_0_152b4b0874\" y=\"229.874489\"/>\r\n    </g>\r\n    <g clip-path=\"url(#p82da0593bd)\">\r\n     <use style=\"fill:#440154;stroke:#440154;\" x=\"70.750509\" xlink:href=\"#C0_0_152b4b0874\" y=\"229.874489\"/>\r\n    </g>\r\n    <g clip-path=\"url(#p82da0593bd)\">\r\n     <use style=\"fill:#440154;stroke:#440154;\" x=\"69.832092\" xlink:href=\"#C0_0_152b4b0874\" y=\"229.754469\"/>\r\n    </g>\r\n    <g clip-path=\"url(#p82da0593bd)\">\r\n     <use style=\"fill:#440154;stroke:#440154;\" x=\"70.566826\" xlink:href=\"#C0_0_152b4b0874\" y=\"229.874489\"/>\r\n    </g>\r\n    <g clip-path=\"url(#p82da0593bd)\">\r\n     <use style=\"fill:#440154;stroke:#440154;\" x=\"71.30156\" xlink:href=\"#C0_0_152b4b0874\" y=\"229.754469\"/>\r\n    </g>\r\n    <g clip-path=\"url(#p82da0593bd)\">\r\n     <use style=\"fill:#440154;stroke:#440154;\" x=\"70.934193\" xlink:href=\"#C0_0_152b4b0874\" y=\"229.874489\"/>\r\n    </g>\r\n    <g clip-path=\"url(#p82da0593bd)\">\r\n     <use style=\"fill:#440154;stroke:#440154;\" x=\"72.403661\" xlink:href=\"#C0_0_152b4b0874\" y=\"229.514429\"/>\r\n    </g>\r\n    <g clip-path=\"url(#p82da0593bd)\">\r\n     <use style=\"fill:#440154;stroke:#440154;\" x=\"70.566826\" xlink:href=\"#C0_0_152b4b0874\" y=\"229.874489\"/>\r\n    </g>\r\n    <g clip-path=\"url(#p82da0593bd)\">\r\n     <use style=\"fill:#440154;stroke:#440154;\" x=\"71.668927\" xlink:href=\"#C0_0_152b4b0874\" y=\"229.634449\"/>\r\n    </g>\r\n    <g clip-path=\"url(#p82da0593bd)\">\r\n     <use style=\"fill:#440154;stroke:#440154;\" x=\"70.015775\" xlink:href=\"#C0_0_152b4b0874\" y=\"229.874489\"/>\r\n    </g>\r\n    <g clip-path=\"url(#p82da0593bd)\">\r\n     <use style=\"fill:#440154;stroke:#440154;\" x=\"70.566826\" xlink:href=\"#C0_0_152b4b0874\" y=\"229.874489\"/>\r\n    </g>\r\n    <g clip-path=\"url(#p82da0593bd)\">\r\n     <use style=\"fill:#440154;stroke:#440154;\" x=\"71.485244\" xlink:href=\"#C0_0_152b4b0874\" y=\"229.874489\"/>\r\n    </g>\r\n    <g clip-path=\"url(#p82da0593bd)\">\r\n     <use style=\"fill:#440154;stroke:#440154;\" x=\"73.322079\" xlink:href=\"#C0_0_152b4b0874\" y=\"229.874489\"/>\r\n    </g>\r\n    <g clip-path=\"url(#p82da0593bd)\">\r\n     <use style=\"fill:#440154;stroke:#440154;\" x=\"70.750509\" xlink:href=\"#C0_0_152b4b0874\" y=\"229.874489\"/>\r\n    </g>\r\n    <g clip-path=\"url(#p82da0593bd)\">\r\n     <use style=\"fill:#440154;stroke:#440154;\" x=\"69.281041\" xlink:href=\"#C0_0_152b4b0874\" y=\"229.754469\"/>\r\n    </g>\r\n    <g clip-path=\"url(#p82da0593bd)\">\r\n     <use style=\"fill:#440154;stroke:#440154;\" x=\"69.281041\" xlink:href=\"#C0_0_152b4b0874\" y=\"229.634449\"/>\r\n    </g>\r\n    <g clip-path=\"url(#p82da0593bd)\">\r\n     <use style=\"fill:#440154;stroke:#440154;\" x=\"70.383142\" xlink:href=\"#C0_0_152b4b0874\" y=\"229.754469\"/>\r\n    </g>\r\n    <g clip-path=\"url(#p82da0593bd)\">\r\n     <use style=\"fill:#440154;stroke:#440154;\" x=\"72.036294\" xlink:href=\"#C0_0_152b4b0874\" y=\"229.634449\"/>\r\n    </g>\r\n    <g clip-path=\"url(#p82da0593bd)\">\r\n     <use style=\"fill:#440154;stroke:#440154;\" x=\"70.566826\" xlink:href=\"#C0_0_152b4b0874\" y=\"229.874489\"/>\r\n    </g>\r\n    <g clip-path=\"url(#p82da0593bd)\">\r\n     <use style=\"fill:#440154;stroke:#440154;\" x=\"73.138395\" xlink:href=\"#C0_0_152b4b0874\" y=\"229.874489\"/>\r\n    </g>\r\n    <g clip-path=\"url(#p82da0593bd)\">\r\n     <use style=\"fill:#440154;stroke:#440154;\" x=\"73.322079\" xlink:href=\"#C0_0_152b4b0874\" y=\"229.874489\"/>\r\n    </g>\r\n    <g clip-path=\"url(#p82da0593bd)\">\r\n     <use style=\"fill:#440154;stroke:#440154;\" x=\"75.342598\" xlink:href=\"#C0_0_152b4b0874\" y=\"229.514429\"/>\r\n    </g>\r\n    <g clip-path=\"url(#p82da0593bd)\">\r\n     <use style=\"fill:#440154;stroke:#440154;\" x=\"72.954712\" xlink:href=\"#C0_0_152b4b0874\" y=\"229.874489\"/>\r\n    </g>\r\n    <g clip-path=\"url(#p82da0593bd)\">\r\n     <use style=\"fill:#440154;stroke:#440154;\" x=\"70.566826\" xlink:href=\"#C0_0_152b4b0874\" y=\"229.874489\"/>\r\n    </g>\r\n    <g clip-path=\"url(#p82da0593bd)\">\r\n     <use style=\"fill:#440154;stroke:#440154;\" x=\"71.852611\" xlink:href=\"#C0_0_152b4b0874\" y=\"229.874489\"/>\r\n    </g>\r\n    <g clip-path=\"url(#p82da0593bd)\">\r\n     <use style=\"fill:#440154;stroke:#440154;\" x=\"72.403661\" xlink:href=\"#C0_0_152b4b0874\" y=\"229.634449\"/>\r\n    </g>\r\n    <g clip-path=\"url(#p82da0593bd)\">\r\n     <use style=\"fill:#440154;stroke:#440154;\" x=\"75.342598\" xlink:href=\"#C0_0_152b4b0874\" y=\"229.874489\"/>\r\n    </g>\r\n    <g clip-path=\"url(#p82da0593bd)\">\r\n     <use style=\"fill:#440154;stroke:#440154;\" x=\"69.097357\" xlink:href=\"#C0_0_152b4b0874\" y=\"229.874489\"/>\r\n    </g>\r\n    <g clip-path=\"url(#p82da0593bd)\">\r\n     <use style=\"fill:#440154;stroke:#440154;\" x=\"74.42418\" xlink:href=\"#C0_0_152b4b0874\" y=\"229.874489\"/>\r\n    </g>\r\n    <g clip-path=\"url(#p82da0593bd)\">\r\n     <use style=\"fill:#440154;stroke:#440154;\" x=\"74.056813\" xlink:href=\"#C0_0_152b4b0874\" y=\"229.514429\"/>\r\n    </g>\r\n    <g clip-path=\"url(#p82da0593bd)\">\r\n     <use style=\"fill:#440154;stroke:#440154;\" x=\"74.056813\" xlink:href=\"#C0_0_152b4b0874\" y=\"229.394409\"/>\r\n    </g>\r\n    <g clip-path=\"url(#p82da0593bd)\">\r\n     <use style=\"fill:#440154;stroke:#440154;\" x=\"71.852611\" xlink:href=\"#C0_0_152b4b0874\" y=\"229.874489\"/>\r\n    </g>\r\n    <g clip-path=\"url(#p82da0593bd)\">\r\n     <use style=\"fill:#440154;stroke:#440154;\" x=\"72.954712\" xlink:href=\"#C0_0_152b4b0874\" y=\"229.634449\"/>\r\n    </g>\r\n    <g clip-path=\"url(#p82da0593bd)\">\r\n     <use style=\"fill:#440154;stroke:#440154;\" x=\"75.158914\" xlink:href=\"#C0_0_152b4b0874\" y=\"229.874489\"/>\r\n    </g>\r\n    <g clip-path=\"url(#p82da0593bd)\">\r\n     <use style=\"fill:#440154;stroke:#440154;\" x=\"71.117876\" xlink:href=\"#C0_0_152b4b0874\" y=\"229.874489\"/>\r\n    </g>\r\n    <g clip-path=\"url(#p82da0593bd)\">\r\n     <use style=\"fill:#440154;stroke:#440154;\" x=\"75.342598\" xlink:href=\"#C0_0_152b4b0874\" y=\"229.394409\"/>\r\n    </g>\r\n    <g clip-path=\"url(#p82da0593bd)\">\r\n     <use style=\"fill:#440154;stroke:#440154;\" x=\"71.117876\" xlink:href=\"#C0_0_152b4b0874\" y=\"229.634449\"/>\r\n    </g>\r\n    <g clip-path=\"url(#p82da0593bd)\">\r\n     <use style=\"fill:#440154;stroke:#440154;\" x=\"72.403661\" xlink:href=\"#C0_0_152b4b0874\" y=\"229.274389\"/>\r\n    </g>\r\n    <g clip-path=\"url(#p82da0593bd)\">\r\n     <use style=\"fill:#440154;stroke:#440154;\" x=\"72.036294\" xlink:href=\"#C0_0_152b4b0874\" y=\"229.874489\"/>\r\n    </g>\r\n    <g clip-path=\"url(#p82da0593bd)\">\r\n     <use style=\"fill:#440154;stroke:#440154;\" x=\"72.587345\" xlink:href=\"#C0_0_152b4b0874\" y=\"229.874489\"/>\r\n    </g>\r\n    <g clip-path=\"url(#p82da0593bd)\">\r\n     <use style=\"fill:#440154;stroke:#440154;\" x=\"72.771028\" xlink:href=\"#C0_0_152b4b0874\" y=\"229.394409\"/>\r\n    </g>\r\n    <g clip-path=\"url(#p82da0593bd)\">\r\n     <use style=\"fill:#440154;stroke:#440154;\" x=\"72.587345\" xlink:href=\"#C0_0_152b4b0874\" y=\"229.874489\"/>\r\n    </g>\r\n    <g clip-path=\"url(#p82da0593bd)\">\r\n     <use style=\"fill:#440154;stroke:#440154;\" x=\"72.036294\" xlink:href=\"#C0_0_152b4b0874\" y=\"229.754469\"/>\r\n    </g>\r\n    <g clip-path=\"url(#p82da0593bd)\">\r\n     <use style=\"fill:#440154;stroke:#440154;\" x=\"72.771028\" xlink:href=\"#C0_0_152b4b0874\" y=\"229.874489\"/>\r\n    </g>\r\n    <g clip-path=\"url(#p82da0593bd)\">\r\n     <use style=\"fill:#440154;stroke:#440154;\" x=\"71.30156\" xlink:href=\"#C0_0_152b4b0874\" y=\"229.394409\"/>\r\n    </g>\r\n    <g clip-path=\"url(#p82da0593bd)\">\r\n     <use style=\"fill:#440154;stroke:#440154;\" x=\"73.322079\" xlink:href=\"#C0_0_152b4b0874\" y=\"228.55427\"/>\r\n    </g>\r\n    <g clip-path=\"url(#p82da0593bd)\">\r\n     <use style=\"fill:#440154;stroke:#440154;\" x=\"73.138395\" xlink:href=\"#C0_0_152b4b0874\" y=\"229.154369\"/>\r\n    </g>\r\n    <g clip-path=\"url(#p82da0593bd)\">\r\n     <use style=\"fill:#440154;stroke:#440154;\" x=\"74.240497\" xlink:href=\"#C0_0_152b4b0874\" y=\"229.874489\"/>\r\n    </g>\r\n    <g clip-path=\"url(#p82da0593bd)\">\r\n     <use style=\"fill:#440154;stroke:#440154;\" x=\"73.138395\" xlink:href=\"#C0_0_152b4b0874\" y=\"229.514429\"/>\r\n    </g>\r\n    <g clip-path=\"url(#p82da0593bd)\">\r\n     <use style=\"fill:#440154;stroke:#440154;\" x=\"70.199459\" xlink:href=\"#C0_0_152b4b0874\" y=\"229.394409\"/>\r\n    </g>\r\n    <g clip-path=\"url(#p82da0593bd)\">\r\n     <use style=\"fill:#440154;stroke:#440154;\" x=\"71.668927\" xlink:href=\"#C0_0_152b4b0874\" y=\"229.874489\"/>\r\n    </g>\r\n    <g clip-path=\"url(#p82da0593bd)\">\r\n     <use style=\"fill:#440154;stroke:#440154;\" x=\"72.954712\" xlink:href=\"#C0_0_152b4b0874\" y=\"229.874489\"/>\r\n    </g>\r\n    <g clip-path=\"url(#p82da0593bd)\">\r\n     <use style=\"fill:#440154;stroke:#440154;\" x=\"71.852611\" xlink:href=\"#C0_0_152b4b0874\" y=\"229.874489\"/>\r\n    </g>\r\n    <g clip-path=\"url(#p82da0593bd)\">\r\n     <use style=\"fill:#440154;stroke:#440154;\" x=\"71.30156\" xlink:href=\"#C0_0_152b4b0874\" y=\"229.874489\"/>\r\n    </g>\r\n    <g clip-path=\"url(#p82da0593bd)\">\r\n     <use style=\"fill:#440154;stroke:#440154;\" x=\"71.668927\" xlink:href=\"#C0_0_152b4b0874\" y=\"229.394409\"/>\r\n    </g>\r\n    <g clip-path=\"url(#p82da0593bd)\">\r\n     <use style=\"fill:#440154;stroke:#440154;\" x=\"69.097357\" xlink:href=\"#C0_0_152b4b0874\" y=\"229.874489\"/>\r\n    </g>\r\n    <g clip-path=\"url(#p82da0593bd)\">\r\n     <use style=\"fill:#440154;stroke:#440154;\" x=\"70.015775\" xlink:href=\"#C0_0_152b4b0874\" y=\"229.874489\"/>\r\n    </g>\r\n    <g clip-path=\"url(#p82da0593bd)\">\r\n     <use style=\"fill:#440154;stroke:#440154;\" x=\"71.852611\" xlink:href=\"#C0_0_152b4b0874\" y=\"229.634449\"/>\r\n    </g>\r\n    <g clip-path=\"url(#p82da0593bd)\">\r\n     <use style=\"fill:#440154;stroke:#440154;\" x=\"72.403661\" xlink:href=\"#C0_0_152b4b0874\" y=\"229.874489\"/>\r\n    </g>\r\n    <g clip-path=\"url(#p82da0593bd)\">\r\n     <use style=\"fill:#440154;stroke:#440154;\" x=\"70.383142\" xlink:href=\"#C0_0_152b4b0874\" y=\"229.634449\"/>\r\n    </g>\r\n    <g clip-path=\"url(#p82da0593bd)\">\r\n     <use style=\"fill:#440154;stroke:#440154;\" x=\"72.771028\" xlink:href=\"#C0_0_152b4b0874\" y=\"229.514429\"/>\r\n    </g>\r\n    <g clip-path=\"url(#p82da0593bd)\">\r\n     <use style=\"fill:#440154;stroke:#440154;\" x=\"69.281041\" xlink:href=\"#C0_0_152b4b0874\" y=\"229.874489\"/>\r\n    </g>\r\n    <g clip-path=\"url(#p82da0593bd)\">\r\n     <use style=\"fill:#440154;stroke:#440154;\" x=\"72.036294\" xlink:href=\"#C0_0_152b4b0874\" y=\"229.274389\"/>\r\n    </g>\r\n    <g clip-path=\"url(#p82da0593bd)\">\r\n     <use style=\"fill:#440154;stroke:#440154;\" x=\"70.750509\" xlink:href=\"#C0_0_152b4b0874\" y=\"229.874489\"/>\r\n    </g>\r\n    <g clip-path=\"url(#p82da0593bd)\">\r\n     <use style=\"fill:#440154;stroke:#440154;\" x=\"72.036294\" xlink:href=\"#C0_0_152b4b0874\" y=\"229.874489\"/>\r\n    </g>\r\n    <g clip-path=\"url(#p82da0593bd)\">\r\n     <use style=\"fill:#440154;stroke:#440154;\" x=\"71.117876\" xlink:href=\"#C0_0_152b4b0874\" y=\"229.874489\"/>\r\n    </g>\r\n    <g clip-path=\"url(#p82da0593bd)\">\r\n     <use style=\"fill:#440154;stroke:#440154;\" x=\"72.036294\" xlink:href=\"#C0_0_152b4b0874\" y=\"229.754469\"/>\r\n    </g>\r\n    <g clip-path=\"url(#p82da0593bd)\">\r\n     <use style=\"fill:#440154;stroke:#440154;\" x=\"71.30156\" xlink:href=\"#C0_0_152b4b0874\" y=\"229.874489\"/>\r\n    </g>\r\n    <g clip-path=\"url(#p82da0593bd)\">\r\n     <use style=\"fill:#440154;stroke:#440154;\" x=\"70.934193\" xlink:href=\"#C0_0_152b4b0874\" y=\"229.874489\"/>\r\n    </g>\r\n    <g clip-path=\"url(#p82da0593bd)\">\r\n     <use style=\"fill:#440154;stroke:#440154;\" x=\"70.566826\" xlink:href=\"#C0_0_152b4b0874\" y=\"229.394409\"/>\r\n    </g>\r\n    <g clip-path=\"url(#p82da0593bd)\">\r\n     <use style=\"fill:#440154;stroke:#440154;\" x=\"72.403661\" xlink:href=\"#C0_0_152b4b0874\" y=\"229.874489\"/>\r\n    </g>\r\n    <g clip-path=\"url(#p82da0593bd)\">\r\n     <use style=\"fill:#440154;stroke:#440154;\" x=\"70.383142\" xlink:href=\"#C0_0_152b4b0874\" y=\"229.874489\"/>\r\n    </g>\r\n    <g clip-path=\"url(#p82da0593bd)\">\r\n     <use style=\"fill:#440154;stroke:#440154;\" x=\"72.403661\" xlink:href=\"#C0_0_152b4b0874\" y=\"229.634449\"/>\r\n    </g>\r\n    <g clip-path=\"url(#p82da0593bd)\">\r\n     <use style=\"fill:#440154;stroke:#440154;\" x=\"70.199459\" xlink:href=\"#C0_0_152b4b0874\" y=\"229.874489\"/>\r\n    </g>\r\n    <g clip-path=\"url(#p82da0593bd)\">\r\n     <use style=\"fill:#440154;stroke:#440154;\" x=\"72.219978\" xlink:href=\"#C0_0_152b4b0874\" y=\"229.634449\"/>\r\n    </g>\r\n    <g clip-path=\"url(#p82da0593bd)\">\r\n     <use style=\"fill:#440154;stroke:#440154;\" x=\"72.403661\" xlink:href=\"#C0_0_152b4b0874\" y=\"229.634449\"/>\r\n    </g>\r\n    <g clip-path=\"url(#p82da0593bd)\">\r\n     <use style=\"fill:#440154;stroke:#440154;\" x=\"71.30156\" xlink:href=\"#C0_0_152b4b0874\" y=\"229.874489\"/>\r\n    </g>\r\n    <g clip-path=\"url(#p82da0593bd)\">\r\n     <use style=\"fill:#440154;stroke:#440154;\" x=\"70.383142\" xlink:href=\"#C0_0_152b4b0874\" y=\"229.754469\"/>\r\n    </g>\r\n    <g clip-path=\"url(#p82da0593bd)\">\r\n     <use style=\"fill:#440154;stroke:#440154;\" x=\"72.771028\" xlink:href=\"#C0_0_152b4b0874\" y=\"229.394409\"/>\r\n    </g>\r\n    <g clip-path=\"url(#p82da0593bd)\">\r\n     <use style=\"fill:#440154;stroke:#440154;\" x=\"72.587345\" xlink:href=\"#C0_0_152b4b0874\" y=\"229.394409\"/>\r\n    </g>\r\n    <g clip-path=\"url(#p82da0593bd)\">\r\n     <use style=\"fill:#440154;stroke:#440154;\" x=\"72.036294\" xlink:href=\"#C0_0_152b4b0874\" y=\"229.874489\"/>\r\n    </g>\r\n    <g clip-path=\"url(#p82da0593bd)\">\r\n     <use style=\"fill:#440154;stroke:#440154;\" x=\"72.771028\" xlink:href=\"#C0_0_152b4b0874\" y=\"229.634449\"/>\r\n    </g>\r\n    <g clip-path=\"url(#p82da0593bd)\">\r\n     <use style=\"fill:#440154;stroke:#440154;\" x=\"70.199459\" xlink:href=\"#C0_0_152b4b0874\" y=\"229.874489\"/>\r\n    </g>\r\n    <g clip-path=\"url(#p82da0593bd)\">\r\n     <use style=\"fill:#440154;stroke:#440154;\" x=\"71.30156\" xlink:href=\"#C0_0_152b4b0874\" y=\"229.634449\"/>\r\n    </g>\r\n    <g clip-path=\"url(#p82da0593bd)\">\r\n     <use style=\"fill:#440154;stroke:#440154;\" x=\"71.30156\" xlink:href=\"#C0_0_152b4b0874\" y=\"229.634449\"/>\r\n    </g>\r\n    <g clip-path=\"url(#p82da0593bd)\">\r\n     <use style=\"fill:#440154;stroke:#440154;\" x=\"72.036294\" xlink:href=\"#C0_0_152b4b0874\" y=\"229.634449\"/>\r\n    </g>\r\n    <g clip-path=\"url(#p82da0593bd)\">\r\n     <use style=\"fill:#440154;stroke:#440154;\" x=\"70.566826\" xlink:href=\"#C0_0_152b4b0874\" y=\"229.634449\"/>\r\n    </g>\r\n    <g clip-path=\"url(#p82da0593bd)\">\r\n     <use style=\"fill:#440154;stroke:#440154;\" x=\"72.587345\" xlink:href=\"#C0_0_152b4b0874\" y=\"229.754469\"/>\r\n    </g>\r\n    <g clip-path=\"url(#p82da0593bd)\">\r\n     <use style=\"fill:#440154;stroke:#440154;\" x=\"70.566826\" xlink:href=\"#C0_0_152b4b0874\" y=\"229.634449\"/>\r\n    </g>\r\n    <g clip-path=\"url(#p82da0593bd)\">\r\n     <use style=\"fill:#440154;stroke:#440154;\" x=\"71.485244\" xlink:href=\"#C0_0_152b4b0874\" y=\"229.874489\"/>\r\n    </g>\r\n    <g clip-path=\"url(#p82da0593bd)\">\r\n     <use style=\"fill:#440154;stroke:#440154;\" x=\"73.87313\" xlink:href=\"#C0_0_152b4b0874\" y=\"229.394409\"/>\r\n    </g>\r\n    <g clip-path=\"url(#p82da0593bd)\">\r\n     <use style=\"fill:#440154;stroke:#440154;\" x=\"70.383142\" xlink:href=\"#C0_0_152b4b0874\" y=\"229.874489\"/>\r\n    </g>\r\n    <g clip-path=\"url(#p82da0593bd)\">\r\n     <use style=\"fill:#440154;stroke:#440154;\" x=\"71.30156\" xlink:href=\"#C0_0_152b4b0874\" y=\"229.874489\"/>\r\n    </g>\r\n    <g clip-path=\"url(#p82da0593bd)\">\r\n     <use style=\"fill:#440154;stroke:#440154;\" x=\"71.30156\" xlink:href=\"#C0_0_152b4b0874\" y=\"229.874489\"/>\r\n    </g>\r\n    <g clip-path=\"url(#p82da0593bd)\">\r\n     <use style=\"fill:#440154;stroke:#440154;\" x=\"68.546307\" xlink:href=\"#C0_0_152b4b0874\" y=\"229.634449\"/>\r\n    </g>\r\n    <g clip-path=\"url(#p82da0593bd)\">\r\n     <use style=\"fill:#440154;stroke:#440154;\" x=\"69.464725\" xlink:href=\"#C0_0_152b4b0874\" y=\"229.874489\"/>\r\n    </g>\r\n    <g clip-path=\"url(#p82da0593bd)\">\r\n     <use style=\"fill:#440154;stroke:#440154;\" x=\"69.648408\" xlink:href=\"#C0_0_152b4b0874\" y=\"229.874489\"/>\r\n    </g>\r\n    <g clip-path=\"url(#p82da0593bd)\">\r\n     <use style=\"fill:#440154;stroke:#440154;\" x=\"69.832092\" xlink:href=\"#C0_0_152b4b0874\" y=\"229.874489\"/>\r\n    </g>\r\n    <g clip-path=\"url(#p82da0593bd)\">\r\n     <use style=\"fill:#440154;stroke:#440154;\" x=\"70.015775\" xlink:href=\"#C0_0_152b4b0874\" y=\"229.874489\"/>\r\n    </g>\r\n    <g clip-path=\"url(#p82da0593bd)\">\r\n     <use style=\"fill:#440154;stroke:#440154;\" x=\"69.832092\" xlink:href=\"#C0_0_152b4b0874\" y=\"229.754469\"/>\r\n    </g>\r\n    <g clip-path=\"url(#p82da0593bd)\">\r\n     <use style=\"fill:#440154;stroke:#440154;\" x=\"72.954712\" xlink:href=\"#C0_0_152b4b0874\" y=\"229.514429\"/>\r\n    </g>\r\n    <g clip-path=\"url(#p82da0593bd)\">\r\n     <use style=\"fill:#440154;stroke:#440154;\" x=\"69.464725\" xlink:href=\"#C0_0_152b4b0874\" y=\"229.874489\"/>\r\n    </g>\r\n    <g clip-path=\"url(#p82da0593bd)\">\r\n     <use style=\"fill:#440154;stroke:#440154;\" x=\"70.750509\" xlink:href=\"#C0_0_152b4b0874\" y=\"229.634449\"/>\r\n    </g>\r\n    <g clip-path=\"url(#p82da0593bd)\">\r\n     <use style=\"fill:#440154;stroke:#440154;\" x=\"70.015775\" xlink:href=\"#C0_0_152b4b0874\" y=\"229.874489\"/>\r\n    </g>\r\n    <g clip-path=\"url(#p82da0593bd)\">\r\n     <use style=\"fill:#440154;stroke:#440154;\" x=\"72.036294\" xlink:href=\"#C0_0_152b4b0874\" y=\"229.754469\"/>\r\n    </g>\r\n    <g clip-path=\"url(#p82da0593bd)\">\r\n     <use style=\"fill:#440154;stroke:#440154;\" x=\"69.281041\" xlink:href=\"#C0_0_152b4b0874\" y=\"229.634449\"/>\r\n    </g>\r\n    <g clip-path=\"url(#p82da0593bd)\">\r\n     <use style=\"fill:#440154;stroke:#440154;\" x=\"69.464725\" xlink:href=\"#C0_0_152b4b0874\" y=\"229.634449\"/>\r\n    </g>\r\n    <g clip-path=\"url(#p82da0593bd)\">\r\n     <use style=\"fill:#440154;stroke:#440154;\" x=\"71.668927\" xlink:href=\"#C0_0_152b4b0874\" y=\"229.754469\"/>\r\n    </g>\r\n    <g clip-path=\"url(#p82da0593bd)\">\r\n     <use style=\"fill:#440154;stroke:#440154;\" x=\"71.117876\" xlink:href=\"#C0_0_152b4b0874\" y=\"229.754469\"/>\r\n    </g>\r\n    <g clip-path=\"url(#p82da0593bd)\">\r\n     <use style=\"fill:#440154;stroke:#440154;\" x=\"71.117876\" xlink:href=\"#C0_0_152b4b0874\" y=\"229.874489\"/>\r\n    </g>\r\n    <g clip-path=\"url(#p82da0593bd)\">\r\n     <use style=\"fill:#440154;stroke:#440154;\" x=\"69.832092\" xlink:href=\"#C0_0_152b4b0874\" y=\"229.874489\"/>\r\n    </g>\r\n    <g clip-path=\"url(#p82da0593bd)\">\r\n     <use style=\"fill:#440154;stroke:#440154;\" x=\"73.505763\" xlink:href=\"#C0_0_152b4b0874\" y=\"229.874489\"/>\r\n    </g>\r\n    <g clip-path=\"url(#p82da0593bd)\">\r\n     <use style=\"fill:#440154;stroke:#440154;\" x=\"71.30156\" xlink:href=\"#C0_0_152b4b0874\" y=\"229.394409\"/>\r\n    </g>\r\n    <g clip-path=\"url(#p82da0593bd)\">\r\n     <use style=\"fill:#440154;stroke:#440154;\" x=\"71.30156\" xlink:href=\"#C0_0_152b4b0874\" y=\"229.874489\"/>\r\n    </g>\r\n    <g clip-path=\"url(#p82da0593bd)\">\r\n     <use style=\"fill:#440154;stroke:#440154;\" x=\"70.750509\" xlink:href=\"#C0_0_152b4b0874\" y=\"229.874489\"/>\r\n    </g>\r\n    <g clip-path=\"url(#p82da0593bd)\">\r\n     <use style=\"fill:#440154;stroke:#440154;\" x=\"72.403661\" xlink:href=\"#C0_0_152b4b0874\" y=\"229.754469\"/>\r\n    </g>\r\n    <g clip-path=\"url(#p82da0593bd)\">\r\n     <use style=\"fill:#440154;stroke:#440154;\" x=\"70.934193\" xlink:href=\"#C0_0_152b4b0874\" y=\"229.874489\"/>\r\n    </g>\r\n    <g clip-path=\"url(#p82da0593bd)\">\r\n     <use style=\"fill:#440154;stroke:#440154;\" x=\"70.199459\" xlink:href=\"#C0_0_152b4b0874\" y=\"229.874489\"/>\r\n    </g>\r\n    <g clip-path=\"url(#p82da0593bd)\">\r\n     <use style=\"fill:#440154;stroke:#440154;\" x=\"70.383142\" xlink:href=\"#C0_0_152b4b0874\" y=\"229.634449\"/>\r\n    </g>\r\n    <g clip-path=\"url(#p82da0593bd)\">\r\n     <use style=\"fill:#440154;stroke:#440154;\" x=\"70.566826\" xlink:href=\"#C0_0_152b4b0874\" y=\"229.874489\"/>\r\n    </g>\r\n    <g clip-path=\"url(#p82da0593bd)\">\r\n     <use style=\"fill:#440154;stroke:#440154;\" x=\"71.852611\" xlink:href=\"#C0_0_152b4b0874\" y=\"229.874489\"/>\r\n    </g>\r\n    <g clip-path=\"url(#p82da0593bd)\">\r\n     <use style=\"fill:#440154;stroke:#440154;\" x=\"70.934193\" xlink:href=\"#C0_0_152b4b0874\" y=\"229.514429\"/>\r\n    </g>\r\n    <g clip-path=\"url(#p82da0593bd)\">\r\n     <use style=\"fill:#440154;stroke:#440154;\" x=\"70.750509\" xlink:href=\"#C0_0_152b4b0874\" y=\"229.874489\"/>\r\n    </g>\r\n    <g clip-path=\"url(#p82da0593bd)\">\r\n     <use style=\"fill:#440154;stroke:#440154;\" x=\"68.913674\" xlink:href=\"#C0_0_152b4b0874\" y=\"229.874489\"/>\r\n    </g>\r\n    <g clip-path=\"url(#p82da0593bd)\">\r\n     <use style=\"fill:#440154;stroke:#440154;\" x=\"70.566826\" xlink:href=\"#C0_0_152b4b0874\" y=\"229.634449\"/>\r\n    </g>\r\n    <g clip-path=\"url(#p82da0593bd)\">\r\n     <use style=\"fill:#440154;stroke:#440154;\" x=\"79.934687\" xlink:href=\"#C0_0_152b4b0874\" y=\"229.154369\"/>\r\n    </g>\r\n    <g clip-path=\"url(#p82da0593bd)\">\r\n     <use style=\"fill:#440154;stroke:#440154;\" x=\"69.648408\" xlink:href=\"#C0_0_152b4b0874\" y=\"229.874489\"/>\r\n    </g>\r\n    <g clip-path=\"url(#p82da0593bd)\">\r\n     <use style=\"fill:#440154;stroke:#440154;\" x=\"71.117876\" xlink:href=\"#C0_0_152b4b0874\" y=\"229.754469\"/>\r\n    </g>\r\n   </g>\r\n   <g id=\"matplotlib.axis_1\">\r\n    <g id=\"xtick_1\">\r\n     <g id=\"line2d_1\">\r\n      <defs>\r\n       <path d=\"M 0 0 \r\nL 0 3.5 \r\n\" id=\"m4f14a0baad\" style=\"stroke:#000000;stroke-width:0.8;\"/>\r\n      </defs>\r\n      <g>\r\n       <use style=\"stroke:#000000;stroke-width:0.8;\" x=\"65.423687\" xlink:href=\"#m4f14a0baad\" y=\"239.758125\"/>\r\n      </g>\r\n     </g>\r\n     <g id=\"text_1\">\r\n      <!-- 0 -->\r\n      <g transform=\"translate(62.242437 254.356562)scale(0.1 -0.1)\">\r\n       <defs>\r\n        <path d=\"M 31.78125 66.40625 \r\nQ 24.171875 66.40625 20.328125 58.90625 \r\nQ 16.5 51.421875 16.5 36.375 \r\nQ 16.5 21.390625 20.328125 13.890625 \r\nQ 24.171875 6.390625 31.78125 6.390625 \r\nQ 39.453125 6.390625 43.28125 13.890625 \r\nQ 47.125 21.390625 47.125 36.375 \r\nQ 47.125 51.421875 43.28125 58.90625 \r\nQ 39.453125 66.40625 31.78125 66.40625 \r\nz\r\nM 31.78125 74.21875 \r\nQ 44.046875 74.21875 50.515625 64.515625 \r\nQ 56.984375 54.828125 56.984375 36.375 \r\nQ 56.984375 17.96875 50.515625 8.265625 \r\nQ 44.046875 -1.421875 31.78125 -1.421875 \r\nQ 19.53125 -1.421875 13.0625 8.265625 \r\nQ 6.59375 17.96875 6.59375 36.375 \r\nQ 6.59375 54.828125 13.0625 64.515625 \r\nQ 19.53125 74.21875 31.78125 74.21875 \r\nz\r\n\" id=\"DejaVuSans-48\"/>\r\n       </defs>\r\n       <use xlink:href=\"#DejaVuSans-48\"/>\r\n      </g>\r\n     </g>\r\n    </g>\r\n    <g id=\"xtick_2\">\r\n     <g id=\"line2d_2\">\r\n      <g>\r\n       <use style=\"stroke:#000000;stroke-width:0.8;\" x=\"111.344573\" xlink:href=\"#m4f14a0baad\" y=\"239.758125\"/>\r\n      </g>\r\n     </g>\r\n     <g id=\"text_2\">\r\n      <!-- 250 -->\r\n      <g transform=\"translate(101.800823 254.356562)scale(0.1 -0.1)\">\r\n       <defs>\r\n        <path d=\"M 19.1875 8.296875 \r\nL 53.609375 8.296875 \r\nL 53.609375 0 \r\nL 7.328125 0 \r\nL 7.328125 8.296875 \r\nQ 12.9375 14.109375 22.625 23.890625 \r\nQ 32.328125 33.6875 34.8125 36.53125 \r\nQ 39.546875 41.84375 41.421875 45.53125 \r\nQ 43.3125 49.21875 43.3125 52.78125 \r\nQ 43.3125 58.59375 39.234375 62.25 \r\nQ 35.15625 65.921875 28.609375 65.921875 \r\nQ 23.96875 65.921875 18.8125 64.3125 \r\nQ 13.671875 62.703125 7.8125 59.421875 \r\nL 7.8125 69.390625 \r\nQ 13.765625 71.78125 18.9375 73 \r\nQ 24.125 74.21875 28.421875 74.21875 \r\nQ 39.75 74.21875 46.484375 68.546875 \r\nQ 53.21875 62.890625 53.21875 53.421875 \r\nQ 53.21875 48.921875 51.53125 44.890625 \r\nQ 49.859375 40.875 45.40625 35.40625 \r\nQ 44.1875 33.984375 37.640625 27.21875 \r\nQ 31.109375 20.453125 19.1875 8.296875 \r\nz\r\n\" id=\"DejaVuSans-50\"/>\r\n        <path d=\"M 10.796875 72.90625 \r\nL 49.515625 72.90625 \r\nL 49.515625 64.59375 \r\nL 19.828125 64.59375 \r\nL 19.828125 46.734375 \r\nQ 21.96875 47.46875 24.109375 47.828125 \r\nQ 26.265625 48.1875 28.421875 48.1875 \r\nQ 40.625 48.1875 47.75 41.5 \r\nQ 54.890625 34.8125 54.890625 23.390625 \r\nQ 54.890625 11.625 47.5625 5.09375 \r\nQ 40.234375 -1.421875 26.90625 -1.421875 \r\nQ 22.3125 -1.421875 17.546875 -0.640625 \r\nQ 12.796875 0.140625 7.71875 1.703125 \r\nL 7.71875 11.625 \r\nQ 12.109375 9.234375 16.796875 8.0625 \r\nQ 21.484375 6.890625 26.703125 6.890625 \r\nQ 35.15625 6.890625 40.078125 11.328125 \r\nQ 45.015625 15.765625 45.015625 23.390625 \r\nQ 45.015625 31 40.078125 35.4375 \r\nQ 35.15625 39.890625 26.703125 39.890625 \r\nQ 22.75 39.890625 18.8125 39.015625 \r\nQ 14.890625 38.140625 10.796875 36.28125 \r\nz\r\n\" id=\"DejaVuSans-53\"/>\r\n       </defs>\r\n       <use xlink:href=\"#DejaVuSans-50\"/>\r\n       <use x=\"63.623047\" xlink:href=\"#DejaVuSans-53\"/>\r\n       <use x=\"127.246094\" xlink:href=\"#DejaVuSans-48\"/>\r\n      </g>\r\n     </g>\r\n    </g>\r\n    <g id=\"xtick_3\">\r\n     <g id=\"line2d_3\">\r\n      <g>\r\n       <use style=\"stroke:#000000;stroke-width:0.8;\" x=\"157.26546\" xlink:href=\"#m4f14a0baad\" y=\"239.758125\"/>\r\n      </g>\r\n     </g>\r\n     <g id=\"text_3\">\r\n      <!-- 500 -->\r\n      <g transform=\"translate(147.72171 254.356562)scale(0.1 -0.1)\">\r\n       <use xlink:href=\"#DejaVuSans-53\"/>\r\n       <use x=\"63.623047\" xlink:href=\"#DejaVuSans-48\"/>\r\n       <use x=\"127.246094\" xlink:href=\"#DejaVuSans-48\"/>\r\n      </g>\r\n     </g>\r\n    </g>\r\n    <g id=\"xtick_4\">\r\n     <g id=\"line2d_4\">\r\n      <g>\r\n       <use style=\"stroke:#000000;stroke-width:0.8;\" x=\"203.186346\" xlink:href=\"#m4f14a0baad\" y=\"239.758125\"/>\r\n      </g>\r\n     </g>\r\n     <g id=\"text_4\">\r\n      <!-- 750 -->\r\n      <g transform=\"translate(193.642596 254.356562)scale(0.1 -0.1)\">\r\n       <defs>\r\n        <path d=\"M 8.203125 72.90625 \r\nL 55.078125 72.90625 \r\nL 55.078125 68.703125 \r\nL 28.609375 0 \r\nL 18.3125 0 \r\nL 43.21875 64.59375 \r\nL 8.203125 64.59375 \r\nz\r\n\" id=\"DejaVuSans-55\"/>\r\n       </defs>\r\n       <use xlink:href=\"#DejaVuSans-55\"/>\r\n       <use x=\"63.623047\" xlink:href=\"#DejaVuSans-53\"/>\r\n       <use x=\"127.246094\" xlink:href=\"#DejaVuSans-48\"/>\r\n      </g>\r\n     </g>\r\n    </g>\r\n    <g id=\"xtick_5\">\r\n     <g id=\"line2d_5\">\r\n      <g>\r\n       <use style=\"stroke:#000000;stroke-width:0.8;\" x=\"249.107233\" xlink:href=\"#m4f14a0baad\" y=\"239.758125\"/>\r\n      </g>\r\n     </g>\r\n     <g id=\"text_5\">\r\n      <!-- 1000 -->\r\n      <g transform=\"translate(236.382233 254.356562)scale(0.1 -0.1)\">\r\n       <defs>\r\n        <path d=\"M 12.40625 8.296875 \r\nL 28.515625 8.296875 \r\nL 28.515625 63.921875 \r\nL 10.984375 60.40625 \r\nL 10.984375 69.390625 \r\nL 28.421875 72.90625 \r\nL 38.28125 72.90625 \r\nL 38.28125 8.296875 \r\nL 54.390625 8.296875 \r\nL 54.390625 0 \r\nL 12.40625 0 \r\nz\r\n\" id=\"DejaVuSans-49\"/>\r\n       </defs>\r\n       <use xlink:href=\"#DejaVuSans-49\"/>\r\n       <use x=\"63.623047\" xlink:href=\"#DejaVuSans-48\"/>\r\n       <use x=\"127.246094\" xlink:href=\"#DejaVuSans-48\"/>\r\n       <use x=\"190.869141\" xlink:href=\"#DejaVuSans-48\"/>\r\n      </g>\r\n     </g>\r\n    </g>\r\n    <g id=\"xtick_6\">\r\n     <g id=\"line2d_6\">\r\n      <g>\r\n       <use style=\"stroke:#000000;stroke-width:0.8;\" x=\"295.02812\" xlink:href=\"#m4f14a0baad\" y=\"239.758125\"/>\r\n      </g>\r\n     </g>\r\n     <g id=\"text_6\">\r\n      <!-- 1250 -->\r\n      <g transform=\"translate(282.30312 254.356562)scale(0.1 -0.1)\">\r\n       <use xlink:href=\"#DejaVuSans-49\"/>\r\n       <use x=\"63.623047\" xlink:href=\"#DejaVuSans-50\"/>\r\n       <use x=\"127.246094\" xlink:href=\"#DejaVuSans-53\"/>\r\n       <use x=\"190.869141\" xlink:href=\"#DejaVuSans-48\"/>\r\n      </g>\r\n     </g>\r\n    </g>\r\n    <g id=\"xtick_7\">\r\n     <g id=\"line2d_7\">\r\n      <g>\r\n       <use style=\"stroke:#000000;stroke-width:0.8;\" x=\"340.949006\" xlink:href=\"#m4f14a0baad\" y=\"239.758125\"/>\r\n      </g>\r\n     </g>\r\n     <g id=\"text_7\">\r\n      <!-- 1500 -->\r\n      <g transform=\"translate(328.224006 254.356562)scale(0.1 -0.1)\">\r\n       <use xlink:href=\"#DejaVuSans-49\"/>\r\n       <use x=\"63.623047\" xlink:href=\"#DejaVuSans-53\"/>\r\n       <use x=\"127.246094\" xlink:href=\"#DejaVuSans-48\"/>\r\n       <use x=\"190.869141\" xlink:href=\"#DejaVuSans-48\"/>\r\n      </g>\r\n     </g>\r\n    </g>\r\n    <g id=\"xtick_8\">\r\n     <g id=\"line2d_8\">\r\n      <g>\r\n       <use style=\"stroke:#000000;stroke-width:0.8;\" x=\"386.869893\" xlink:href=\"#m4f14a0baad\" y=\"239.758125\"/>\r\n      </g>\r\n     </g>\r\n     <g id=\"text_8\">\r\n      <!-- 1750 -->\r\n      <g transform=\"translate(374.144893 254.356562)scale(0.1 -0.1)\">\r\n       <use xlink:href=\"#DejaVuSans-49\"/>\r\n       <use x=\"63.623047\" xlink:href=\"#DejaVuSans-55\"/>\r\n       <use x=\"127.246094\" xlink:href=\"#DejaVuSans-53\"/>\r\n       <use x=\"190.869141\" xlink:href=\"#DejaVuSans-48\"/>\r\n      </g>\r\n     </g>\r\n    </g>\r\n    <g id=\"text_9\">\r\n     <!-- Comentarios -->\r\n     <g transform=\"translate(188.928906 268.034687)scale(0.1 -0.1)\">\r\n      <defs>\r\n       <path d=\"M 64.40625 67.28125 \r\nL 64.40625 56.890625 \r\nQ 59.421875 61.53125 53.78125 63.8125 \r\nQ 48.140625 66.109375 41.796875 66.109375 \r\nQ 29.296875 66.109375 22.65625 58.46875 \r\nQ 16.015625 50.828125 16.015625 36.375 \r\nQ 16.015625 21.96875 22.65625 14.328125 \r\nQ 29.296875 6.6875 41.796875 6.6875 \r\nQ 48.140625 6.6875 53.78125 8.984375 \r\nQ 59.421875 11.28125 64.40625 15.921875 \r\nL 64.40625 5.609375 \r\nQ 59.234375 2.09375 53.4375 0.328125 \r\nQ 47.65625 -1.421875 41.21875 -1.421875 \r\nQ 24.65625 -1.421875 15.125 8.703125 \r\nQ 5.609375 18.84375 5.609375 36.375 \r\nQ 5.609375 53.953125 15.125 64.078125 \r\nQ 24.65625 74.21875 41.21875 74.21875 \r\nQ 47.75 74.21875 53.53125 72.484375 \r\nQ 59.328125 70.75 64.40625 67.28125 \r\nz\r\n\" id=\"DejaVuSans-67\"/>\r\n       <path d=\"M 30.609375 48.390625 \r\nQ 23.390625 48.390625 19.1875 42.75 \r\nQ 14.984375 37.109375 14.984375 27.296875 \r\nQ 14.984375 17.484375 19.15625 11.84375 \r\nQ 23.34375 6.203125 30.609375 6.203125 \r\nQ 37.796875 6.203125 41.984375 11.859375 \r\nQ 46.1875 17.53125 46.1875 27.296875 \r\nQ 46.1875 37.015625 41.984375 42.703125 \r\nQ 37.796875 48.390625 30.609375 48.390625 \r\nz\r\nM 30.609375 56 \r\nQ 42.328125 56 49.015625 48.375 \r\nQ 55.71875 40.765625 55.71875 27.296875 \r\nQ 55.71875 13.875 49.015625 6.21875 \r\nQ 42.328125 -1.421875 30.609375 -1.421875 \r\nQ 18.84375 -1.421875 12.171875 6.21875 \r\nQ 5.515625 13.875 5.515625 27.296875 \r\nQ 5.515625 40.765625 12.171875 48.375 \r\nQ 18.84375 56 30.609375 56 \r\nz\r\n\" id=\"DejaVuSans-111\"/>\r\n       <path d=\"M 52 44.1875 \r\nQ 55.375 50.25 60.0625 53.125 \r\nQ 64.75 56 71.09375 56 \r\nQ 79.640625 56 84.28125 50.015625 \r\nQ 88.921875 44.046875 88.921875 33.015625 \r\nL 88.921875 0 \r\nL 79.890625 0 \r\nL 79.890625 32.71875 \r\nQ 79.890625 40.578125 77.09375 44.375 \r\nQ 74.3125 48.1875 68.609375 48.1875 \r\nQ 61.625 48.1875 57.5625 43.546875 \r\nQ 53.515625 38.921875 53.515625 30.90625 \r\nL 53.515625 0 \r\nL 44.484375 0 \r\nL 44.484375 32.71875 \r\nQ 44.484375 40.625 41.703125 44.40625 \r\nQ 38.921875 48.1875 33.109375 48.1875 \r\nQ 26.21875 48.1875 22.15625 43.53125 \r\nQ 18.109375 38.875 18.109375 30.90625 \r\nL 18.109375 0 \r\nL 9.078125 0 \r\nL 9.078125 54.6875 \r\nL 18.109375 54.6875 \r\nL 18.109375 46.1875 \r\nQ 21.1875 51.21875 25.484375 53.609375 \r\nQ 29.78125 56 35.6875 56 \r\nQ 41.65625 56 45.828125 52.96875 \r\nQ 50 49.953125 52 44.1875 \r\nz\r\n\" id=\"DejaVuSans-109\"/>\r\n       <path d=\"M 56.203125 29.59375 \r\nL 56.203125 25.203125 \r\nL 14.890625 25.203125 \r\nQ 15.484375 15.921875 20.484375 11.0625 \r\nQ 25.484375 6.203125 34.421875 6.203125 \r\nQ 39.59375 6.203125 44.453125 7.46875 \r\nQ 49.3125 8.734375 54.109375 11.28125 \r\nL 54.109375 2.78125 \r\nQ 49.265625 0.734375 44.1875 -0.34375 \r\nQ 39.109375 -1.421875 33.890625 -1.421875 \r\nQ 20.796875 -1.421875 13.15625 6.1875 \r\nQ 5.515625 13.8125 5.515625 26.8125 \r\nQ 5.515625 40.234375 12.765625 48.109375 \r\nQ 20.015625 56 32.328125 56 \r\nQ 43.359375 56 49.78125 48.890625 \r\nQ 56.203125 41.796875 56.203125 29.59375 \r\nz\r\nM 47.21875 32.234375 \r\nQ 47.125 39.59375 43.09375 43.984375 \r\nQ 39.0625 48.390625 32.421875 48.390625 \r\nQ 24.90625 48.390625 20.390625 44.140625 \r\nQ 15.875 39.890625 15.1875 32.171875 \r\nz\r\n\" id=\"DejaVuSans-101\"/>\r\n       <path d=\"M 54.890625 33.015625 \r\nL 54.890625 0 \r\nL 45.90625 0 \r\nL 45.90625 32.71875 \r\nQ 45.90625 40.484375 42.875 44.328125 \r\nQ 39.84375 48.1875 33.796875 48.1875 \r\nQ 26.515625 48.1875 22.3125 43.546875 \r\nQ 18.109375 38.921875 18.109375 30.90625 \r\nL 18.109375 0 \r\nL 9.078125 0 \r\nL 9.078125 54.6875 \r\nL 18.109375 54.6875 \r\nL 18.109375 46.1875 \r\nQ 21.34375 51.125 25.703125 53.5625 \r\nQ 30.078125 56 35.796875 56 \r\nQ 45.21875 56 50.046875 50.171875 \r\nQ 54.890625 44.34375 54.890625 33.015625 \r\nz\r\n\" id=\"DejaVuSans-110\"/>\r\n       <path d=\"M 18.3125 70.21875 \r\nL 18.3125 54.6875 \r\nL 36.8125 54.6875 \r\nL 36.8125 47.703125 \r\nL 18.3125 47.703125 \r\nL 18.3125 18.015625 \r\nQ 18.3125 11.328125 20.140625 9.421875 \r\nQ 21.96875 7.515625 27.59375 7.515625 \r\nL 36.8125 7.515625 \r\nL 36.8125 0 \r\nL 27.59375 0 \r\nQ 17.1875 0 13.234375 3.875 \r\nQ 9.28125 7.765625 9.28125 18.015625 \r\nL 9.28125 47.703125 \r\nL 2.6875 47.703125 \r\nL 2.6875 54.6875 \r\nL 9.28125 54.6875 \r\nL 9.28125 70.21875 \r\nz\r\n\" id=\"DejaVuSans-116\"/>\r\n       <path d=\"M 34.28125 27.484375 \r\nQ 23.390625 27.484375 19.1875 25 \r\nQ 14.984375 22.515625 14.984375 16.5 \r\nQ 14.984375 11.71875 18.140625 8.90625 \r\nQ 21.296875 6.109375 26.703125 6.109375 \r\nQ 34.1875 6.109375 38.703125 11.40625 \r\nQ 43.21875 16.703125 43.21875 25.484375 \r\nL 43.21875 27.484375 \r\nz\r\nM 52.203125 31.203125 \r\nL 52.203125 0 \r\nL 43.21875 0 \r\nL 43.21875 8.296875 \r\nQ 40.140625 3.328125 35.546875 0.953125 \r\nQ 30.953125 -1.421875 24.3125 -1.421875 \r\nQ 15.921875 -1.421875 10.953125 3.296875 \r\nQ 6 8.015625 6 15.921875 \r\nQ 6 25.140625 12.171875 29.828125 \r\nQ 18.359375 34.515625 30.609375 34.515625 \r\nL 43.21875 34.515625 \r\nL 43.21875 35.40625 \r\nQ 43.21875 41.609375 39.140625 45 \r\nQ 35.0625 48.390625 27.6875 48.390625 \r\nQ 23 48.390625 18.546875 47.265625 \r\nQ 14.109375 46.140625 10.015625 43.890625 \r\nL 10.015625 52.203125 \r\nQ 14.9375 54.109375 19.578125 55.046875 \r\nQ 24.21875 56 28.609375 56 \r\nQ 40.484375 56 46.34375 49.84375 \r\nQ 52.203125 43.703125 52.203125 31.203125 \r\nz\r\n\" id=\"DejaVuSans-97\"/>\r\n       <path d=\"M 41.109375 46.296875 \r\nQ 39.59375 47.171875 37.8125 47.578125 \r\nQ 36.03125 48 33.890625 48 \r\nQ 26.265625 48 22.1875 43.046875 \r\nQ 18.109375 38.09375 18.109375 28.8125 \r\nL 18.109375 0 \r\nL 9.078125 0 \r\nL 9.078125 54.6875 \r\nL 18.109375 54.6875 \r\nL 18.109375 46.1875 \r\nQ 20.953125 51.171875 25.484375 53.578125 \r\nQ 30.03125 56 36.53125 56 \r\nQ 37.453125 56 38.578125 55.875 \r\nQ 39.703125 55.765625 41.0625 55.515625 \r\nz\r\n\" id=\"DejaVuSans-114\"/>\r\n       <path d=\"M 9.421875 54.6875 \r\nL 18.40625 54.6875 \r\nL 18.40625 0 \r\nL 9.421875 0 \r\nz\r\nM 9.421875 75.984375 \r\nL 18.40625 75.984375 \r\nL 18.40625 64.59375 \r\nL 9.421875 64.59375 \r\nz\r\n\" id=\"DejaVuSans-105\"/>\r\n       <path d=\"M 44.28125 53.078125 \r\nL 44.28125 44.578125 \r\nQ 40.484375 46.53125 36.375 47.5 \r\nQ 32.28125 48.484375 27.875 48.484375 \r\nQ 21.1875 48.484375 17.84375 46.4375 \r\nQ 14.5 44.390625 14.5 40.28125 \r\nQ 14.5 37.15625 16.890625 35.375 \r\nQ 19.28125 33.59375 26.515625 31.984375 \r\nL 29.59375 31.296875 \r\nQ 39.15625 29.25 43.1875 25.515625 \r\nQ 47.21875 21.78125 47.21875 15.09375 \r\nQ 47.21875 7.46875 41.1875 3.015625 \r\nQ 35.15625 -1.421875 24.609375 -1.421875 \r\nQ 20.21875 -1.421875 15.453125 -0.5625 \r\nQ 10.6875 0.296875 5.421875 2 \r\nL 5.421875 11.28125 \r\nQ 10.40625 8.6875 15.234375 7.390625 \r\nQ 20.0625 6.109375 24.8125 6.109375 \r\nQ 31.15625 6.109375 34.5625 8.28125 \r\nQ 37.984375 10.453125 37.984375 14.40625 \r\nQ 37.984375 18.0625 35.515625 20.015625 \r\nQ 33.0625 21.96875 24.703125 23.78125 \r\nL 21.578125 24.515625 \r\nQ 13.234375 26.265625 9.515625 29.90625 \r\nQ 5.8125 33.546875 5.8125 39.890625 \r\nQ 5.8125 47.609375 11.28125 51.796875 \r\nQ 16.75 56 26.8125 56 \r\nQ 31.78125 56 36.171875 55.265625 \r\nQ 40.578125 54.546875 44.28125 53.078125 \r\nz\r\n\" id=\"DejaVuSans-115\"/>\r\n      </defs>\r\n      <use xlink:href=\"#DejaVuSans-67\"/>\r\n      <use x=\"69.824219\" xlink:href=\"#DejaVuSans-111\"/>\r\n      <use x=\"131.005859\" xlink:href=\"#DejaVuSans-109\"/>\r\n      <use x=\"228.417969\" xlink:href=\"#DejaVuSans-101\"/>\r\n      <use x=\"289.941406\" xlink:href=\"#DejaVuSans-110\"/>\r\n      <use x=\"353.320312\" xlink:href=\"#DejaVuSans-116\"/>\r\n      <use x=\"392.529297\" xlink:href=\"#DejaVuSans-97\"/>\r\n      <use x=\"453.808594\" xlink:href=\"#DejaVuSans-114\"/>\r\n      <use x=\"494.921875\" xlink:href=\"#DejaVuSans-105\"/>\r\n      <use x=\"522.705078\" xlink:href=\"#DejaVuSans-111\"/>\r\n      <use x=\"583.886719\" xlink:href=\"#DejaVuSans-115\"/>\r\n     </g>\r\n    </g>\r\n   </g>\r\n   <g id=\"matplotlib.axis_2\">\r\n    <g id=\"ytick_1\">\r\n     <g id=\"line2d_9\">\r\n      <defs>\r\n       <path d=\"M 0 0 \r\nL -3.5 0 \r\n\" id=\"ma2192f5c4d\" style=\"stroke:#000000;stroke-width:0.8;\"/>\r\n      </defs>\r\n      <g>\r\n       <use style=\"stroke:#000000;stroke-width:0.8;\" x=\"53.328125\" xlink:href=\"#ma2192f5c4d\" y=\"229.874489\"/>\r\n      </g>\r\n     </g>\r\n     <g id=\"text_10\">\r\n      <!-- 0 -->\r\n      <g transform=\"translate(39.965625 233.673707)scale(0.1 -0.1)\">\r\n       <use xlink:href=\"#DejaVuSans-48\"/>\r\n      </g>\r\n     </g>\r\n    </g>\r\n    <g id=\"ytick_2\">\r\n     <g id=\"line2d_10\">\r\n      <g>\r\n       <use style=\"stroke:#000000;stroke-width:0.8;\" x=\"53.328125\" xlink:href=\"#ma2192f5c4d\" y=\"199.869521\"/>\r\n      </g>\r\n     </g>\r\n     <g id=\"text_11\">\r\n      <!-- 250 -->\r\n      <g transform=\"translate(27.240625 203.66874)scale(0.1 -0.1)\">\r\n       <use xlink:href=\"#DejaVuSans-50\"/>\r\n       <use x=\"63.623047\" xlink:href=\"#DejaVuSans-53\"/>\r\n       <use x=\"127.246094\" xlink:href=\"#DejaVuSans-48\"/>\r\n      </g>\r\n     </g>\r\n    </g>\r\n    <g id=\"ytick_3\">\r\n     <g id=\"line2d_11\">\r\n      <g>\r\n       <use style=\"stroke:#000000;stroke-width:0.8;\" x=\"53.328125\" xlink:href=\"#ma2192f5c4d\" y=\"169.864553\"/>\r\n      </g>\r\n     </g>\r\n     <g id=\"text_12\">\r\n      <!-- 500 -->\r\n      <g transform=\"translate(27.240625 173.663772)scale(0.1 -0.1)\">\r\n       <use xlink:href=\"#DejaVuSans-53\"/>\r\n       <use x=\"63.623047\" xlink:href=\"#DejaVuSans-48\"/>\r\n       <use x=\"127.246094\" xlink:href=\"#DejaVuSans-48\"/>\r\n      </g>\r\n     </g>\r\n    </g>\r\n    <g id=\"ytick_4\">\r\n     <g id=\"line2d_12\">\r\n      <g>\r\n       <use style=\"stroke:#000000;stroke-width:0.8;\" x=\"53.328125\" xlink:href=\"#ma2192f5c4d\" y=\"139.859586\"/>\r\n      </g>\r\n     </g>\r\n     <g id=\"text_13\">\r\n      <!-- 750 -->\r\n      <g transform=\"translate(27.240625 143.658804)scale(0.1 -0.1)\">\r\n       <use xlink:href=\"#DejaVuSans-55\"/>\r\n       <use x=\"63.623047\" xlink:href=\"#DejaVuSans-53\"/>\r\n       <use x=\"127.246094\" xlink:href=\"#DejaVuSans-48\"/>\r\n      </g>\r\n     </g>\r\n    </g>\r\n    <g id=\"ytick_5\">\r\n     <g id=\"line2d_13\">\r\n      <g>\r\n       <use style=\"stroke:#000000;stroke-width:0.8;\" x=\"53.328125\" xlink:href=\"#ma2192f5c4d\" y=\"109.854618\"/>\r\n      </g>\r\n     </g>\r\n     <g id=\"text_14\">\r\n      <!-- 1000 -->\r\n      <g transform=\"translate(20.878125 113.653837)scale(0.1 -0.1)\">\r\n       <use xlink:href=\"#DejaVuSans-49\"/>\r\n       <use x=\"63.623047\" xlink:href=\"#DejaVuSans-48\"/>\r\n       <use x=\"127.246094\" xlink:href=\"#DejaVuSans-48\"/>\r\n       <use x=\"190.869141\" xlink:href=\"#DejaVuSans-48\"/>\r\n      </g>\r\n     </g>\r\n    </g>\r\n    <g id=\"ytick_6\">\r\n     <g id=\"line2d_14\">\r\n      <g>\r\n       <use style=\"stroke:#000000;stroke-width:0.8;\" x=\"53.328125\" xlink:href=\"#ma2192f5c4d\" y=\"79.84965\"/>\r\n      </g>\r\n     </g>\r\n     <g id=\"text_15\">\r\n      <!-- 1250 -->\r\n      <g transform=\"translate(20.878125 83.648869)scale(0.1 -0.1)\">\r\n       <use xlink:href=\"#DejaVuSans-49\"/>\r\n       <use x=\"63.623047\" xlink:href=\"#DejaVuSans-50\"/>\r\n       <use x=\"127.246094\" xlink:href=\"#DejaVuSans-53\"/>\r\n       <use x=\"190.869141\" xlink:href=\"#DejaVuSans-48\"/>\r\n      </g>\r\n     </g>\r\n    </g>\r\n    <g id=\"ytick_7\">\r\n     <g id=\"line2d_15\">\r\n      <g>\r\n       <use style=\"stroke:#000000;stroke-width:0.8;\" x=\"53.328125\" xlink:href=\"#ma2192f5c4d\" y=\"49.844682\"/>\r\n      </g>\r\n     </g>\r\n     <g id=\"text_16\">\r\n      <!-- 1500 -->\r\n      <g transform=\"translate(20.878125 53.643901)scale(0.1 -0.1)\">\r\n       <use xlink:href=\"#DejaVuSans-49\"/>\r\n       <use x=\"63.623047\" xlink:href=\"#DejaVuSans-53\"/>\r\n       <use x=\"127.246094\" xlink:href=\"#DejaVuSans-48\"/>\r\n       <use x=\"190.869141\" xlink:href=\"#DejaVuSans-48\"/>\r\n      </g>\r\n     </g>\r\n    </g>\r\n    <g id=\"text_17\">\r\n     <!-- Likes -->\r\n     <g transform=\"translate(14.798438 143.608437)rotate(-90)scale(0.1 -0.1)\">\r\n      <defs>\r\n       <path d=\"M 9.8125 72.90625 \r\nL 19.671875 72.90625 \r\nL 19.671875 8.296875 \r\nL 55.171875 8.296875 \r\nL 55.171875 0 \r\nL 9.8125 0 \r\nz\r\n\" id=\"DejaVuSans-76\"/>\r\n       <path d=\"M 9.078125 75.984375 \r\nL 18.109375 75.984375 \r\nL 18.109375 31.109375 \r\nL 44.921875 54.6875 \r\nL 56.390625 54.6875 \r\nL 27.390625 29.109375 \r\nL 57.625 0 \r\nL 45.90625 0 \r\nL 18.109375 26.703125 \r\nL 18.109375 0 \r\nL 9.078125 0 \r\nz\r\n\" id=\"DejaVuSans-107\"/>\r\n      </defs>\r\n      <use xlink:href=\"#DejaVuSans-76\"/>\r\n      <use x=\"55.712891\" xlink:href=\"#DejaVuSans-105\"/>\r\n      <use x=\"83.496094\" xlink:href=\"#DejaVuSans-107\"/>\r\n      <use x=\"137.78125\" xlink:href=\"#DejaVuSans-101\"/>\r\n      <use x=\"199.304688\" xlink:href=\"#DejaVuSans-115\"/>\r\n     </g>\r\n    </g>\r\n   </g>\r\n   <g id=\"patch_3\">\r\n    <path d=\"M 53.328125 239.758125 \r\nL 53.328125 22.318125 \r\n\" style=\"fill:none;stroke:#000000;stroke-linecap:square;stroke-linejoin:miter;stroke-width:0.8;\"/>\r\n   </g>\r\n   <g id=\"patch_4\">\r\n    <path d=\"M 388.128125 239.758125 \r\nL 388.128125 22.318125 \r\n\" style=\"fill:none;stroke:#000000;stroke-linecap:square;stroke-linejoin:miter;stroke-width:0.8;\"/>\r\n   </g>\r\n   <g id=\"patch_5\">\r\n    <path d=\"M 53.328125 239.758125 \r\nL 388.128125 239.758125 \r\n\" style=\"fill:none;stroke:#000000;stroke-linecap:square;stroke-linejoin:miter;stroke-width:0.8;\"/>\r\n   </g>\r\n   <g id=\"patch_6\">\r\n    <path d=\"M 53.328125 22.318125 \r\nL 388.128125 22.318125 \r\n\" style=\"fill:none;stroke:#000000;stroke-linecap:square;stroke-linejoin:miter;stroke-width:0.8;\"/>\r\n   </g>\r\n   <g id=\"text_18\">\r\n    <!-- Scatter plot comments vs likes Buthewestie -->\r\n    <g transform=\"translate(89.129375 16.318125)scale(0.12 -0.12)\">\r\n     <defs>\r\n      <path d=\"M 53.515625 70.515625 \r\nL 53.515625 60.890625 \r\nQ 47.90625 63.578125 42.921875 64.890625 \r\nQ 37.9375 66.21875 33.296875 66.21875 \r\nQ 25.25 66.21875 20.875 63.09375 \r\nQ 16.5 59.96875 16.5 54.203125 \r\nQ 16.5 49.359375 19.40625 46.890625 \r\nQ 22.3125 44.4375 30.421875 42.921875 \r\nL 36.375 41.703125 \r\nQ 47.40625 39.59375 52.65625 34.296875 \r\nQ 57.90625 29 57.90625 20.125 \r\nQ 57.90625 9.515625 50.796875 4.046875 \r\nQ 43.703125 -1.421875 29.984375 -1.421875 \r\nQ 24.8125 -1.421875 18.96875 -0.25 \r\nQ 13.140625 0.921875 6.890625 3.21875 \r\nL 6.890625 13.375 \r\nQ 12.890625 10.015625 18.65625 8.296875 \r\nQ 24.421875 6.59375 29.984375 6.59375 \r\nQ 38.421875 6.59375 43.015625 9.90625 \r\nQ 47.609375 13.234375 47.609375 19.390625 \r\nQ 47.609375 24.75 44.3125 27.78125 \r\nQ 41.015625 30.8125 33.5 32.328125 \r\nL 27.484375 33.5 \r\nQ 16.453125 35.6875 11.515625 40.375 \r\nQ 6.59375 45.0625 6.59375 53.421875 \r\nQ 6.59375 63.09375 13.40625 68.65625 \r\nQ 20.21875 74.21875 32.171875 74.21875 \r\nQ 37.3125 74.21875 42.625 73.28125 \r\nQ 47.953125 72.359375 53.515625 70.515625 \r\nz\r\n\" id=\"DejaVuSans-83\"/>\r\n      <path d=\"M 48.78125 52.59375 \r\nL 48.78125 44.1875 \r\nQ 44.96875 46.296875 41.140625 47.34375 \r\nQ 37.3125 48.390625 33.40625 48.390625 \r\nQ 24.65625 48.390625 19.8125 42.84375 \r\nQ 14.984375 37.3125 14.984375 27.296875 \r\nQ 14.984375 17.28125 19.8125 11.734375 \r\nQ 24.65625 6.203125 33.40625 6.203125 \r\nQ 37.3125 6.203125 41.140625 7.25 \r\nQ 44.96875 8.296875 48.78125 10.40625 \r\nL 48.78125 2.09375 \r\nQ 45.015625 0.34375 40.984375 -0.53125 \r\nQ 36.96875 -1.421875 32.421875 -1.421875 \r\nQ 20.0625 -1.421875 12.78125 6.34375 \r\nQ 5.515625 14.109375 5.515625 27.296875 \r\nQ 5.515625 40.671875 12.859375 48.328125 \r\nQ 20.21875 56 33.015625 56 \r\nQ 37.15625 56 41.109375 55.140625 \r\nQ 45.0625 54.296875 48.78125 52.59375 \r\nz\r\n\" id=\"DejaVuSans-99\"/>\r\n      <path id=\"DejaVuSans-32\"/>\r\n      <path d=\"M 18.109375 8.203125 \r\nL 18.109375 -20.796875 \r\nL 9.078125 -20.796875 \r\nL 9.078125 54.6875 \r\nL 18.109375 54.6875 \r\nL 18.109375 46.390625 \r\nQ 20.953125 51.265625 25.265625 53.625 \r\nQ 29.59375 56 35.59375 56 \r\nQ 45.5625 56 51.78125 48.09375 \r\nQ 58.015625 40.1875 58.015625 27.296875 \r\nQ 58.015625 14.40625 51.78125 6.484375 \r\nQ 45.5625 -1.421875 35.59375 -1.421875 \r\nQ 29.59375 -1.421875 25.265625 0.953125 \r\nQ 20.953125 3.328125 18.109375 8.203125 \r\nz\r\nM 48.6875 27.296875 \r\nQ 48.6875 37.203125 44.609375 42.84375 \r\nQ 40.53125 48.484375 33.40625 48.484375 \r\nQ 26.265625 48.484375 22.1875 42.84375 \r\nQ 18.109375 37.203125 18.109375 27.296875 \r\nQ 18.109375 17.390625 22.1875 11.75 \r\nQ 26.265625 6.109375 33.40625 6.109375 \r\nQ 40.53125 6.109375 44.609375 11.75 \r\nQ 48.6875 17.390625 48.6875 27.296875 \r\nz\r\n\" id=\"DejaVuSans-112\"/>\r\n      <path d=\"M 9.421875 75.984375 \r\nL 18.40625 75.984375 \r\nL 18.40625 0 \r\nL 9.421875 0 \r\nz\r\n\" id=\"DejaVuSans-108\"/>\r\n      <path d=\"M 2.984375 54.6875 \r\nL 12.5 54.6875 \r\nL 29.59375 8.796875 \r\nL 46.6875 54.6875 \r\nL 56.203125 54.6875 \r\nL 35.6875 0 \r\nL 23.484375 0 \r\nz\r\n\" id=\"DejaVuSans-118\"/>\r\n      <path d=\"M 19.671875 34.8125 \r\nL 19.671875 8.109375 \r\nL 35.5 8.109375 \r\nQ 43.453125 8.109375 47.28125 11.40625 \r\nQ 51.125 14.703125 51.125 21.484375 \r\nQ 51.125 28.328125 47.28125 31.5625 \r\nQ 43.453125 34.8125 35.5 34.8125 \r\nz\r\nM 19.671875 64.796875 \r\nL 19.671875 42.828125 \r\nL 34.28125 42.828125 \r\nQ 41.5 42.828125 45.03125 45.53125 \r\nQ 48.578125 48.25 48.578125 53.8125 \r\nQ 48.578125 59.328125 45.03125 62.0625 \r\nQ 41.5 64.796875 34.28125 64.796875 \r\nz\r\nM 9.8125 72.90625 \r\nL 35.015625 72.90625 \r\nQ 46.296875 72.90625 52.390625 68.21875 \r\nQ 58.5 63.53125 58.5 54.890625 \r\nQ 58.5 48.1875 55.375 44.234375 \r\nQ 52.25 40.28125 46.1875 39.3125 \r\nQ 53.46875 37.75 57.5 32.78125 \r\nQ 61.53125 27.828125 61.53125 20.40625 \r\nQ 61.53125 10.640625 54.890625 5.3125 \r\nQ 48.25 0 35.984375 0 \r\nL 9.8125 0 \r\nz\r\n\" id=\"DejaVuSans-66\"/>\r\n      <path d=\"M 8.5 21.578125 \r\nL 8.5 54.6875 \r\nL 17.484375 54.6875 \r\nL 17.484375 21.921875 \r\nQ 17.484375 14.15625 20.5 10.265625 \r\nQ 23.53125 6.390625 29.59375 6.390625 \r\nQ 36.859375 6.390625 41.078125 11.03125 \r\nQ 45.3125 15.671875 45.3125 23.6875 \r\nL 45.3125 54.6875 \r\nL 54.296875 54.6875 \r\nL 54.296875 0 \r\nL 45.3125 0 \r\nL 45.3125 8.40625 \r\nQ 42.046875 3.421875 37.71875 1 \r\nQ 33.40625 -1.421875 27.6875 -1.421875 \r\nQ 18.265625 -1.421875 13.375 4.4375 \r\nQ 8.5 10.296875 8.5 21.578125 \r\nz\r\nM 31.109375 56 \r\nz\r\n\" id=\"DejaVuSans-117\"/>\r\n      <path d=\"M 54.890625 33.015625 \r\nL 54.890625 0 \r\nL 45.90625 0 \r\nL 45.90625 32.71875 \r\nQ 45.90625 40.484375 42.875 44.328125 \r\nQ 39.84375 48.1875 33.796875 48.1875 \r\nQ 26.515625 48.1875 22.3125 43.546875 \r\nQ 18.109375 38.921875 18.109375 30.90625 \r\nL 18.109375 0 \r\nL 9.078125 0 \r\nL 9.078125 75.984375 \r\nL 18.109375 75.984375 \r\nL 18.109375 46.1875 \r\nQ 21.34375 51.125 25.703125 53.5625 \r\nQ 30.078125 56 35.796875 56 \r\nQ 45.21875 56 50.046875 50.171875 \r\nQ 54.890625 44.34375 54.890625 33.015625 \r\nz\r\n\" id=\"DejaVuSans-104\"/>\r\n      <path d=\"M 4.203125 54.6875 \r\nL 13.1875 54.6875 \r\nL 24.421875 12.015625 \r\nL 35.59375 54.6875 \r\nL 46.1875 54.6875 \r\nL 57.421875 12.015625 \r\nL 68.609375 54.6875 \r\nL 77.59375 54.6875 \r\nL 63.28125 0 \r\nL 52.6875 0 \r\nL 40.921875 44.828125 \r\nL 29.109375 0 \r\nL 18.5 0 \r\nz\r\n\" id=\"DejaVuSans-119\"/>\r\n     </defs>\r\n     <use xlink:href=\"#DejaVuSans-83\"/>\r\n     <use x=\"63.476562\" xlink:href=\"#DejaVuSans-99\"/>\r\n     <use x=\"118.457031\" xlink:href=\"#DejaVuSans-97\"/>\r\n     <use x=\"179.736328\" xlink:href=\"#DejaVuSans-116\"/>\r\n     <use x=\"218.945312\" xlink:href=\"#DejaVuSans-116\"/>\r\n     <use x=\"258.154297\" xlink:href=\"#DejaVuSans-101\"/>\r\n     <use x=\"319.677734\" xlink:href=\"#DejaVuSans-114\"/>\r\n     <use x=\"360.791016\" xlink:href=\"#DejaVuSans-32\"/>\r\n     <use x=\"392.578125\" xlink:href=\"#DejaVuSans-112\"/>\r\n     <use x=\"456.054688\" xlink:href=\"#DejaVuSans-108\"/>\r\n     <use x=\"483.837891\" xlink:href=\"#DejaVuSans-111\"/>\r\n     <use x=\"545.019531\" xlink:href=\"#DejaVuSans-116\"/>\r\n     <use x=\"584.228516\" xlink:href=\"#DejaVuSans-32\"/>\r\n     <use x=\"616.015625\" xlink:href=\"#DejaVuSans-99\"/>\r\n     <use x=\"670.996094\" xlink:href=\"#DejaVuSans-111\"/>\r\n     <use x=\"732.177734\" xlink:href=\"#DejaVuSans-109\"/>\r\n     <use x=\"829.589844\" xlink:href=\"#DejaVuSans-109\"/>\r\n     <use x=\"927.001953\" xlink:href=\"#DejaVuSans-101\"/>\r\n     <use x=\"988.525391\" xlink:href=\"#DejaVuSans-110\"/>\r\n     <use x=\"1051.904297\" xlink:href=\"#DejaVuSans-116\"/>\r\n     <use x=\"1091.113281\" xlink:href=\"#DejaVuSans-115\"/>\r\n     <use x=\"1143.212891\" xlink:href=\"#DejaVuSans-32\"/>\r\n     <use x=\"1175\" xlink:href=\"#DejaVuSans-118\"/>\r\n     <use x=\"1234.179688\" xlink:href=\"#DejaVuSans-115\"/>\r\n     <use x=\"1286.279297\" xlink:href=\"#DejaVuSans-32\"/>\r\n     <use x=\"1318.066406\" xlink:href=\"#DejaVuSans-108\"/>\r\n     <use x=\"1345.849609\" xlink:href=\"#DejaVuSans-105\"/>\r\n     <use x=\"1373.632812\" xlink:href=\"#DejaVuSans-107\"/>\r\n     <use x=\"1427.917969\" xlink:href=\"#DejaVuSans-101\"/>\r\n     <use x=\"1489.441406\" xlink:href=\"#DejaVuSans-115\"/>\r\n     <use x=\"1541.541016\" xlink:href=\"#DejaVuSans-32\"/>\r\n     <use x=\"1573.328125\" xlink:href=\"#DejaVuSans-66\"/>\r\n     <use x=\"1641.931641\" xlink:href=\"#DejaVuSans-117\"/>\r\n     <use x=\"1705.310547\" xlink:href=\"#DejaVuSans-116\"/>\r\n     <use x=\"1744.519531\" xlink:href=\"#DejaVuSans-104\"/>\r\n     <use x=\"1807.898438\" xlink:href=\"#DejaVuSans-101\"/>\r\n     <use x=\"1869.421875\" xlink:href=\"#DejaVuSans-119\"/>\r\n     <use x=\"1951.208984\" xlink:href=\"#DejaVuSans-101\"/>\r\n     <use x=\"2012.732422\" xlink:href=\"#DejaVuSans-115\"/>\r\n     <use x=\"2064.832031\" xlink:href=\"#DejaVuSans-116\"/>\r\n     <use x=\"2104.041016\" xlink:href=\"#DejaVuSans-105\"/>\r\n     <use x=\"2131.824219\" xlink:href=\"#DejaVuSans-101\"/>\r\n    </g>\r\n   </g>\r\n  </g>\r\n </g>\r\n <defs>\r\n  <clipPath id=\"p82da0593bd\">\r\n   <rect height=\"217.44\" width=\"334.8\" x=\"53.328125\" y=\"22.318125\"/>\r\n  </clipPath>\r\n </defs>\r\n</svg>\r\n",
      "image/png": "[encoded data removed]"
     },
     "metadata": {
      "needs_background": "light"
     }
    }
   ],
   "source": [
    "plt.scatter(x=buthewestie_df1[\"likes\"], y = buthewestie_df1[\"comments\"], c = buthewestie_df1[\"giveaway\"])\n",
    "plt.xlabel(\"Comentarios\")\n",
    "plt.ylabel(\"Likes\")\n",
    "plt.title(\"Scatter plot comments vs likes Buthewestie\")"
   ]
  },
  {
   "source": [
    "En efecto, los giveaway son los post que estan sesgando los datos. Una forma de eliminar estos valores atípicos sería calcular las desviaciones estándar, pero nosotros lo haremos más sencillo y aplicaremos un filtro para eliminar todos los post con más de 100 comentarios. Luego de esto repita la gráfica. "
   ],
   "cell_type": "markdown",
   "metadata": {}
  },
  {
   "cell_type": "code",
   "execution_count": 151,
   "metadata": {},
   "outputs": [
    {
     "output_type": "execute_result",
     "data": {
      "text/plain": [
       "   Unnamed: 0                        csrf_token  viewer  viewer_id  \\\n",
       "0           0  D6iS7WnSFbhB9ZUFt5nWK51xdDegcZ6V     NaN        NaN   \n",
       "1           1  n9cW3xMiT311ZhtAfXYnEYO9dRBGkbhE     NaN        NaN   \n",
       "2           2  Y5WDcpqc8y0rsED1yI8YciJSgEqLJ9bT     NaN        NaN   \n",
       "3           3  5vFgXtmB2ihqowxoeLeVKvWA8UrpxAsa     NaN        NaN   \n",
       "4           4  F4ejlkqj0IhfwjCDxNAdffQCjBci05NN     NaN        NaN   \n",
       "\n",
       "  country_code language_code locale                             device_id  \\\n",
       "0           GT            en  en_US  D4425F91-940E-4EE7-8FAA-4E1AAA1A8B58   \n",
       "1           GT            en  en_US  D4EBBE02-4EF2-46E4-ACA7-4F8908A0C0AF   \n",
       "2           GT            en  en_US  251B69CB-92EE-4D3A-B536-72AD356D98D8   \n",
       "3           GT            en  en_US  A0334128-ADCC-4A0F-8FD9-F27024D2BC57   \n",
       "4           GT            en  en_US  4C162E02-7158-4F01-AE88-7A3FC33167EE   \n",
       "\n",
       "                                browser_push_pub_key  key_id  ... has_audio  \\\n",
       "0  BIBn3E_rWTci8Xn6P9Xj3btShT85Wdtne0LtwNUyRQ5XjF...      88  ...       NaN   \n",
       "1  BIBn3E_rWTci8Xn6P9Xj3btShT85Wdtne0LtwNUyRQ5XjF...      88  ...       NaN   \n",
       "2  BIBn3E_rWTci8Xn6P9Xj3btShT85Wdtne0LtwNUyRQ5XjF...      88  ...       NaN   \n",
       "3  BIBn3E_rWTci8Xn6P9Xj3btShT85Wdtne0LtwNUyRQ5XjF...      88  ...       NaN   \n",
       "4  BIBn3E_rWTci8Xn6P9Xj3btShT85Wdtne0LtwNUyRQ5XjF...      88  ...       NaN   \n",
       "\n",
       "   video_view_count     username      full_name         upload_date  \\\n",
       "0               NaN  buthewestie  Bu the Westie 2020-12-21 09:22:24   \n",
       "1               NaN  buthewestie  Bu the Westie 2020-12-20 09:32:18   \n",
       "2               NaN  buthewestie  Bu the Westie 2020-12-16 09:28:28   \n",
       "3               NaN  buthewestie  Bu the Westie 2020-12-13 14:57:03   \n",
       "4               NaN  buthewestie  Bu the Westie 2020-12-07 11:44:15   \n",
       "\n",
       "                                            hashtags  period giveaway  \\\n",
       "0                                                 []   20-12    False   \n",
       "1                                                 []   20-12    False   \n",
       "2                                    ['dogapproved']   20-12    False   \n",
       "3            ['OliyBu', 'ThiagoyBu', 'OliThiagoyBu']   20-12    False   \n",
       "4  ['christmaspresent', 'bestchristmaspresent', '...   20-12    False   \n",
       "\n",
       "   weekday  hora  \n",
       "0        0     9  \n",
       "1        6     9  \n",
       "2        2     9  \n",
       "3        6    14  \n",
       "4        0    11  \n",
       "\n",
       "[5 rows x 56 columns]"
      ],
      "text/html": "<div>\n<style scoped>\n    .dataframe tbody tr th:only-of-type {\n        vertical-align: middle;\n    }\n\n    .dataframe tbody tr th {\n        vertical-align: top;\n    }\n\n    .dataframe thead th {\n        text-align: right;\n    }\n</style>\n<table border=\"1\" class=\"dataframe\">\n  <thead>\n    <tr style=\"text-align: right;\">\n      <th></th>\n      <th>Unnamed: 0</th>\n      <th>csrf_token</th>\n      <th>viewer</th>\n      <th>viewer_id</th>\n      <th>country_code</th>\n      <th>language_code</th>\n      <th>locale</th>\n      <th>device_id</th>\n      <th>browser_push_pub_key</th>\n      <th>key_id</th>\n      <th>...</th>\n      <th>has_audio</th>\n      <th>video_view_count</th>\n      <th>username</th>\n      <th>full_name</th>\n      <th>upload_date</th>\n      <th>hashtags</th>\n      <th>period</th>\n      <th>giveaway</th>\n      <th>weekday</th>\n      <th>hora</th>\n    </tr>\n  </thead>\n  <tbody>\n    <tr>\n      <th>0</th>\n      <td>0</td>\n      <td>D6iS7WnSFbhB9ZUFt5nWK51xdDegcZ6V</td>\n      <td>NaN</td>\n      <td>NaN</td>\n      <td>GT</td>\n      <td>en</td>\n      <td>en_US</td>\n      <td>D4425F91-940E-4EE7-8FAA-4E1AAA1A8B58</td>\n      <td>BIBn3E_rWTci8Xn6P9Xj3btShT85Wdtne0LtwNUyRQ5XjF...</td>\n      <td>88</td>\n      <td>...</td>\n      <td>NaN</td>\n      <td>NaN</td>\n      <td>buthewestie</td>\n      <td>Bu the Westie</td>\n      <td>2020-12-21 09:22:24</td>\n      <td>[]</td>\n      <td>20-12</td>\n      <td>False</td>\n      <td>0</td>\n      <td>9</td>\n    </tr>\n    <tr>\n      <th>1</th>\n      <td>1</td>\n      <td>n9cW3xMiT311ZhtAfXYnEYO9dRBGkbhE</td>\n      <td>NaN</td>\n      <td>NaN</td>\n      <td>GT</td>\n      <td>en</td>\n      <td>en_US</td>\n      <td>D4EBBE02-4EF2-46E4-ACA7-4F8908A0C0AF</td>\n      <td>BIBn3E_rWTci8Xn6P9Xj3btShT85Wdtne0LtwNUyRQ5XjF...</td>\n      <td>88</td>\n      <td>...</td>\n      <td>NaN</td>\n      <td>NaN</td>\n      <td>buthewestie</td>\n      <td>Bu the Westie</td>\n      <td>2020-12-20 09:32:18</td>\n      <td>[]</td>\n      <td>20-12</td>\n      <td>False</td>\n      <td>6</td>\n      <td>9</td>\n    </tr>\n    <tr>\n      <th>2</th>\n      <td>2</td>\n      <td>Y5WDcpqc8y0rsED1yI8YciJSgEqLJ9bT</td>\n      <td>NaN</td>\n      <td>NaN</td>\n      <td>GT</td>\n      <td>en</td>\n      <td>en_US</td>\n      <td>251B69CB-92EE-4D3A-B536-72AD356D98D8</td>\n      <td>BIBn3E_rWTci8Xn6P9Xj3btShT85Wdtne0LtwNUyRQ5XjF...</td>\n      <td>88</td>\n      <td>...</td>\n      <td>NaN</td>\n      <td>NaN</td>\n      <td>buthewestie</td>\n      <td>Bu the Westie</td>\n      <td>2020-12-16 09:28:28</td>\n      <td>['dogapproved']</td>\n      <td>20-12</td>\n      <td>False</td>\n      <td>2</td>\n      <td>9</td>\n    </tr>\n    <tr>\n      <th>3</th>\n      <td>3</td>\n      <td>5vFgXtmB2ihqowxoeLeVKvWA8UrpxAsa</td>\n      <td>NaN</td>\n      <td>NaN</td>\n      <td>GT</td>\n      <td>en</td>\n      <td>en_US</td>\n      <td>A0334128-ADCC-4A0F-8FD9-F27024D2BC57</td>\n      <td>BIBn3E_rWTci8Xn6P9Xj3btShT85Wdtne0LtwNUyRQ5XjF...</td>\n      <td>88</td>\n      <td>...</td>\n      <td>NaN</td>\n      <td>NaN</td>\n      <td>buthewestie</td>\n      <td>Bu the Westie</td>\n      <td>2020-12-13 14:57:03</td>\n      <td>['OliyBu', 'ThiagoyBu', 'OliThiagoyBu']</td>\n      <td>20-12</td>\n      <td>False</td>\n      <td>6</td>\n      <td>14</td>\n    </tr>\n    <tr>\n      <th>4</th>\n      <td>4</td>\n      <td>F4ejlkqj0IhfwjCDxNAdffQCjBci05NN</td>\n      <td>NaN</td>\n      <td>NaN</td>\n      <td>GT</td>\n      <td>en</td>\n      <td>en_US</td>\n      <td>4C162E02-7158-4F01-AE88-7A3FC33167EE</td>\n      <td>BIBn3E_rWTci8Xn6P9Xj3btShT85Wdtne0LtwNUyRQ5XjF...</td>\n      <td>88</td>\n      <td>...</td>\n      <td>NaN</td>\n      <td>NaN</td>\n      <td>buthewestie</td>\n      <td>Bu the Westie</td>\n      <td>2020-12-07 11:44:15</td>\n      <td>['christmaspresent', 'bestchristmaspresent', '...</td>\n      <td>20-12</td>\n      <td>False</td>\n      <td>0</td>\n      <td>11</td>\n    </tr>\n  </tbody>\n</table>\n<p>5 rows × 56 columns</p>\n</div>"
     },
     "metadata": {},
     "execution_count": 151
    }
   ],
   "source": [
    "buthewestie_df1 =  buthewestie_df1[(buthewestie_df1.comments <100)]\n",
    "buthewestie_df1.head()"
   ]
  },
  {
   "cell_type": "code",
   "execution_count": 117,
   "metadata": {},
   "outputs": [
    {
     "output_type": "execute_result",
     "data": {
      "text/plain": [
       "Text(0.5, 1.0, 'Scatter plot comments vs likes Buthewestie')"
      ]
     },
     "metadata": {},
     "execution_count": 117
    },
    {
     "output_type": "display_data",
     "data": {
      "text/plain": "<Figure size 432x288 with 1 Axes>",
      "image/svg+xml": "<?xml version=\"1.0\" encoding=\"utf-8\" standalone=\"no\"?>\r\n<!DOCTYPE svg PUBLIC \"-//W3C//DTD SVG 1.1//EN\"\r\n  \"http://www.w3.org/Graphics/SVG/1.1/DTD/svg11.dtd\">\r\n<!-- Created with matplotlib (https://matplotlib.org/) -->\r\n<svg height=\"277.314375pt\" version=\"1.1\" viewBox=\"0 0 394.069893 277.314375\" width=\"394.069893pt\" xmlns=\"http://www.w3.org/2000/svg\" xmlns:xlink=\"http://www.w3.org/1999/xlink\">\r\n <metadata>\r\n  <rdf:RDF xmlns:cc=\"http://creativecommons.org/ns#\" xmlns:dc=\"http://purl.org/dc/elements/1.1/\" xmlns:rdf=\"http://www.w3.org/1999/02/22-rdf-syntax-ns#\">\r\n   <cc:Work>\r\n    <dc:type rdf:resource=\"http://purl.org/dc/dcmitype/StillImage\"/>\r\n    <dc:date>2021-04-11T00:42:54.886701</dc:date>\r\n    <dc:format>image/svg+xml</dc:format>\r\n    <dc:creator>\r\n     <cc:Agent>\r\n      <dc:title>Matplotlib v3.3.2, https://matplotlib.org/</dc:title>\r\n     </cc:Agent>\r\n    </dc:creator>\r\n   </cc:Work>\r\n  </rdf:RDF>\r\n </metadata>\r\n <defs>\r\n  <style type=\"text/css\">*{stroke-linecap:butt;stroke-linejoin:round;}</style>\r\n </defs>\r\n <g id=\"figure_1\">\r\n  <g id=\"patch_1\">\r\n   <path d=\"M 0 277.314375 \r\nL 394.069893 277.314375 \r\nL 394.069893 0 \r\nL 0 0 \r\nz\r\n\" style=\"fill:none;\"/>\r\n  </g>\r\n  <g id=\"axes_1\">\r\n   <g id=\"patch_2\">\r\n    <path d=\"M 40.603125 239.758125 \r\nL 375.403125 239.758125 \r\nL 375.403125 22.318125 \r\nL 40.603125 22.318125 \r\nz\r\n\" style=\"fill:#ffffff;\"/>\r\n   </g>\r\n   <g id=\"PathCollection_1\">\r\n    <defs>\r\n     <path d=\"M 0 3 \r\nC 0.795609 3 1.55874 2.683901 2.12132 2.12132 \r\nC 2.683901 1.55874 3 0.795609 3 -0 \r\nC 3 -0.795609 2.683901 -1.55874 2.12132 -2.12132 \r\nC 1.55874 -2.683901 0.795609 -3 0 -3 \r\nC -0.795609 -3 -1.55874 -2.683901 -2.12132 -2.12132 \r\nC -2.683901 -1.55874 -3 -0.795609 -3 0 \r\nC -3 0.795609 -2.683901 1.55874 -2.12132 2.12132 \r\nC -1.55874 2.683901 -0.795609 3 0 3 \r\nz\r\n\" id=\"C0_0_9a0d8db78e\"/>\r\n    </defs>\r\n    <g clip-path=\"url(#p40caf103f7)\">\r\n     <use style=\"fill:#440154;stroke:#440154;\" x=\"88.884345\" xlink:href=\"#C0_0_9a0d8db78e\" y=\"192.341692\"/>\r\n    </g>\r\n    <g clip-path=\"url(#p40caf103f7)\">\r\n     <use style=\"fill:#440154;stroke:#440154;\" x=\"89.619079\" xlink:href=\"#C0_0_9a0d8db78e\" y=\"217.363557\"/>\r\n    </g>\r\n    <g clip-path=\"url(#p40caf103f7)\">\r\n     <use style=\"fill:#440154;stroke:#440154;\" x=\"91.639598\" xlink:href=\"#C0_0_9a0d8db78e\" y=\"219.865743\"/>\r\n    </g>\r\n    <g clip-path=\"url(#p40caf103f7)\">\r\n     <use style=\"fill:#440154;stroke:#440154;\" x=\"119.559497\" xlink:href=\"#C0_0_9a0d8db78e\" y=\"169.822015\"/>\r\n    </g>\r\n    <g clip-path=\"url(#p40caf103f7)\">\r\n     <use style=\"fill:#440154;stroke:#440154;\" x=\"103.762712\" xlink:href=\"#C0_0_9a0d8db78e\" y=\"214.86137\"/>\r\n    </g>\r\n    <g clip-path=\"url(#p40caf103f7)\">\r\n     <use style=\"fill:#440154;stroke:#440154;\" x=\"76.21018\" xlink:href=\"#C0_0_9a0d8db78e\" y=\"222.367929\"/>\r\n    </g>\r\n    <g clip-path=\"url(#p40caf103f7)\">\r\n     <use style=\"fill:#440154;stroke:#440154;\" x=\"79.883851\" xlink:href=\"#C0_0_9a0d8db78e\" y=\"227.372302\"/>\r\n    </g>\r\n    <g clip-path=\"url(#p40caf103f7)\">\r\n     <use style=\"fill:#440154;stroke:#440154;\" x=\"94.211168\" xlink:href=\"#C0_0_9a0d8db78e\" y=\"184.835133\"/>\r\n    </g>\r\n    <g clip-path=\"url(#p40caf103f7)\">\r\n     <use style=\"fill:#440154;stroke:#440154;\" x=\"107.987434\" xlink:href=\"#C0_0_9a0d8db78e\" y=\"214.86137\"/>\r\n    </g>\r\n    <g clip-path=\"url(#p40caf103f7)\">\r\n     <use style=\"fill:#440154;stroke:#440154;\" x=\"67.209687\" xlink:href=\"#C0_0_9a0d8db78e\" y=\"229.874489\"/>\r\n    </g>\r\n    <g clip-path=\"url(#p40caf103f7)\">\r\n     <use style=\"fill:#440154;stroke:#440154;\" x=\"85.210674\" xlink:href=\"#C0_0_9a0d8db78e\" y=\"224.870116\"/>\r\n    </g>\r\n    <g clip-path=\"url(#p40caf103f7)\">\r\n     <use style=\"fill:#440154;stroke:#440154;\" x=\"103.211662\" xlink:href=\"#C0_0_9a0d8db78e\" y=\"212.359184\"/>\r\n    </g>\r\n    <g clip-path=\"url(#p40caf103f7)\">\r\n     <use style=\"fill:#440154;stroke:#440154;\" x=\"85.210674\" xlink:href=\"#C0_0_9a0d8db78e\" y=\"229.874489\"/>\r\n    </g>\r\n    <g clip-path=\"url(#p40caf103f7)\">\r\n     <use style=\"fill:#440154;stroke:#440154;\" x=\"94.394852\" xlink:href=\"#C0_0_9a0d8db78e\" y=\"224.870116\"/>\r\n    </g>\r\n    <g clip-path=\"url(#p40caf103f7)\">\r\n     <use style=\"fill:#440154;stroke:#440154;\" x=\"105.415864\" xlink:href=\"#C0_0_9a0d8db78e\" y=\"212.359184\"/>\r\n    </g>\r\n    <g clip-path=\"url(#p40caf103f7)\">\r\n     <use style=\"fill:#440154;stroke:#440154;\" x=\"92.925383\" xlink:href=\"#C0_0_9a0d8db78e\" y=\"217.363557\"/>\r\n    </g>\r\n    <g clip-path=\"url(#p40caf103f7)\">\r\n     <use style=\"fill:#440154;stroke:#440154;\" x=\"91.455915\" xlink:href=\"#C0_0_9a0d8db78e\" y=\"209.856997\"/>\r\n    </g>\r\n    <g clip-path=\"url(#p40caf103f7)\">\r\n     <use style=\"fill:#440154;stroke:#440154;\" x=\"90.353814\" xlink:href=\"#C0_0_9a0d8db78e\" y=\"214.86137\"/>\r\n    </g>\r\n    <g clip-path=\"url(#p40caf103f7)\">\r\n     <use style=\"fill:#440154;stroke:#440154;\" x=\"168.786688\" xlink:href=\"#C0_0_9a0d8db78e\" y=\"219.865743\"/>\r\n    </g>\r\n    <g clip-path=\"url(#p40caf103f7)\">\r\n     <use style=\"fill:#440154;stroke:#440154;\" x=\"152.071485\" xlink:href=\"#C0_0_9a0d8db78e\" y=\"214.86137\"/>\r\n    </g>\r\n    <g clip-path=\"url(#p40caf103f7)\">\r\n     <use style=\"fill:#440154;stroke:#440154;\" x=\"90.17013\" xlink:href=\"#C0_0_9a0d8db78e\" y=\"184.835133\"/>\r\n    </g>\r\n    <g clip-path=\"url(#p40caf103f7)\">\r\n     <use style=\"fill:#440154;stroke:#440154;\" x=\"101.55851\" xlink:href=\"#C0_0_9a0d8db78e\" y=\"204.852624\"/>\r\n    </g>\r\n    <g clip-path=\"url(#p40caf103f7)\">\r\n     <use style=\"fill:#440154;stroke:#440154;\" x=\"236.014866\" xlink:href=\"#C0_0_9a0d8db78e\" y=\"197.346065\"/>\r\n    </g>\r\n    <g clip-path=\"url(#p40caf103f7)\">\r\n     <use style=\"fill:#440154;stroke:#440154;\" x=\"112.94689\" xlink:href=\"#C0_0_9a0d8db78e\" y=\"204.852624\"/>\r\n    </g>\r\n    <g clip-path=\"url(#p40caf103f7)\">\r\n     <use style=\"fill:#440154;stroke:#440154;\" x=\"140.683105\" xlink:href=\"#C0_0_9a0d8db78e\" y=\"217.363557\"/>\r\n    </g>\r\n    <g clip-path=\"url(#p40caf103f7)\">\r\n     <use style=\"fill:#440154;stroke:#440154;\" x=\"132.233662\" xlink:href=\"#C0_0_9a0d8db78e\" y=\"212.359184\"/>\r\n    </g>\r\n    <g clip-path=\"url(#p40caf103f7)\">\r\n     <use style=\"fill:#440154;stroke:#440154;\" x=\"206.625498\" xlink:href=\"#C0_0_9a0d8db78e\" y=\"202.350438\"/>\r\n    </g>\r\n    <g clip-path=\"url(#p40caf103f7)\">\r\n     <use style=\"fill:#440154;stroke:#440154;\" x=\"89.068029\" xlink:href=\"#C0_0_9a0d8db78e\" y=\"207.354811\"/>\r\n    </g>\r\n    <g clip-path=\"url(#p40caf103f7)\">\r\n     <use style=\"fill:#440154;stroke:#440154;\" x=\"163.459865\" xlink:href=\"#C0_0_9a0d8db78e\" y=\"207.354811\"/>\r\n    </g>\r\n    <g clip-path=\"url(#p40caf103f7)\">\r\n     <use style=\"fill:#440154;stroke:#440154;\" x=\"128.376308\" xlink:href=\"#C0_0_9a0d8db78e\" y=\"212.359184\"/>\r\n    </g>\r\n    <g clip-path=\"url(#p40caf103f7)\">\r\n     <use style=\"fill:#440154;stroke:#440154;\" x=\"111.844788\" xlink:href=\"#C0_0_9a0d8db78e\" y=\"207.354811\"/>\r\n    </g>\r\n    <g clip-path=\"url(#p40caf103f7)\">\r\n     <use style=\"fill:#440154;stroke:#440154;\" x=\"119.008447\" xlink:href=\"#C0_0_9a0d8db78e\" y=\"214.86137\"/>\r\n    </g>\r\n    <g clip-path=\"url(#p40caf103f7)\">\r\n     <use style=\"fill:#440154;stroke:#440154;\" x=\"101.742193\" xlink:href=\"#C0_0_9a0d8db78e\" y=\"217.363557\"/>\r\n    </g>\r\n    <g clip-path=\"url(#p40caf103f7)\">\r\n     <use style=\"fill:#440154;stroke:#440154;\" x=\"111.661105\" xlink:href=\"#C0_0_9a0d8db78e\" y=\"224.870116\"/>\r\n    </g>\r\n    <g clip-path=\"url(#p40caf103f7)\">\r\n     <use style=\"fill:#440154;stroke:#440154;\" x=\"104.497447\" xlink:href=\"#C0_0_9a0d8db78e\" y=\"214.86137\"/>\r\n    </g>\r\n    <g clip-path=\"url(#p40caf103f7)\">\r\n     <use style=\"fill:#440154;stroke:#440154;\" x=\"175.031928\" xlink:href=\"#C0_0_9a0d8db78e\" y=\"199.848252\"/>\r\n    </g>\r\n    <g clip-path=\"url(#p40caf103f7)\">\r\n     <use style=\"fill:#440154;stroke:#440154;\" x=\"68.311788\" xlink:href=\"#C0_0_9a0d8db78e\" y=\"224.870116\"/>\r\n    </g>\r\n    <g clip-path=\"url(#p40caf103f7)\">\r\n     <use style=\"fill:#440154;stroke:#440154;\" x=\"92.925383\" xlink:href=\"#C0_0_9a0d8db78e\" y=\"219.865743\"/>\r\n    </g>\r\n    <g clip-path=\"url(#p40caf103f7)\">\r\n     <use style=\"fill:#440154;stroke:#440154;\" x=\"91.272231\" xlink:href=\"#C0_0_9a0d8db78e\" y=\"222.367929\"/>\r\n    </g>\r\n    <g clip-path=\"url(#p40caf103f7)\">\r\n     <use style=\"fill:#440154;stroke:#440154;\" x=\"96.231687\" xlink:href=\"#C0_0_9a0d8db78e\" y=\"227.372302\"/>\r\n    </g>\r\n    <g clip-path=\"url(#p40caf103f7)\">\r\n     <use style=\"fill:#440154;stroke:#440154;\" x=\"118.090029\" xlink:href=\"#C0_0_9a0d8db78e\" y=\"224.870116\"/>\r\n    </g>\r\n    <g clip-path=\"url(#p40caf103f7)\">\r\n     <use style=\"fill:#440154;stroke:#440154;\" x=\"100.089041\" xlink:href=\"#C0_0_9a0d8db78e\" y=\"214.86137\"/>\r\n    </g>\r\n    <g clip-path=\"url(#p40caf103f7)\">\r\n     <use style=\"fill:#440154;stroke:#440154;\" x=\"111.110054\" xlink:href=\"#C0_0_9a0d8db78e\" y=\"207.354811\"/>\r\n    </g>\r\n    <g clip-path=\"url(#p40caf103f7)\">\r\n     <use style=\"fill:#440154;stroke:#440154;\" x=\"128.559991\" xlink:href=\"#C0_0_9a0d8db78e\" y=\"197.346065\"/>\r\n    </g>\r\n    <g clip-path=\"url(#p40caf103f7)\">\r\n     <use style=\"fill:#440154;stroke:#440154;\" x=\"113.314257\" xlink:href=\"#C0_0_9a0d8db78e\" y=\"219.865743\"/>\r\n    </g>\r\n    <g clip-path=\"url(#p40caf103f7)\">\r\n     <use style=\"fill:#440154;stroke:#440154;\" x=\"111.293738\" xlink:href=\"#C0_0_9a0d8db78e\" y=\"227.372302\"/>\r\n    </g>\r\n    <g clip-path=\"url(#p40caf103f7)\">\r\n     <use style=\"fill:#440154;stroke:#440154;\" x=\"116.804244\" xlink:href=\"#C0_0_9a0d8db78e\" y=\"214.86137\"/>\r\n    </g>\r\n    <g clip-path=\"url(#p40caf103f7)\">\r\n     <use style=\"fill:#440154;stroke:#440154;\" x=\"159.05146\" xlink:href=\"#C0_0_9a0d8db78e\" y=\"209.856997\"/>\r\n    </g>\r\n    <g clip-path=\"url(#p40caf103f7)\">\r\n     <use style=\"fill:#440154;stroke:#440154;\" x=\"84.659624\" xlink:href=\"#C0_0_9a0d8db78e\" y=\"224.870116\"/>\r\n    </g>\r\n    <g clip-path=\"url(#p40caf103f7)\">\r\n     <use style=\"fill:#440154;stroke:#440154;\" x=\"167.133536\" xlink:href=\"#C0_0_9a0d8db78e\" y=\"207.354811\"/>\r\n    </g>\r\n    <g clip-path=\"url(#p40caf103f7)\">\r\n     <use style=\"fill:#440154;stroke:#440154;\" x=\"110.559004\" xlink:href=\"#C0_0_9a0d8db78e\" y=\"199.848252\"/>\r\n    </g>\r\n    <g clip-path=\"url(#p40caf103f7)\">\r\n     <use style=\"fill:#440154;stroke:#440154;\" x=\"127.641573\" xlink:href=\"#C0_0_9a0d8db78e\" y=\"217.363557\"/>\r\n    </g>\r\n    <g clip-path=\"url(#p40caf103f7)\">\r\n     <use style=\"fill:#440154;stroke:#440154;\" x=\"172.827726\" xlink:href=\"#C0_0_9a0d8db78e\" y=\"209.856997\"/>\r\n    </g>\r\n    <g clip-path=\"url(#p40caf103f7)\">\r\n     <use style=\"fill:#440154;stroke:#440154;\" x=\"92.925383\" xlink:href=\"#C0_0_9a0d8db78e\" y=\"224.870116\"/>\r\n    </g>\r\n    <g clip-path=\"url(#p40caf103f7)\">\r\n     <use style=\"fill:#440154;stroke:#440154;\" x=\"95.129586\" xlink:href=\"#C0_0_9a0d8db78e\" y=\"227.372302\"/>\r\n    </g>\r\n    <g clip-path=\"url(#p40caf103f7)\">\r\n     <use style=\"fill:#440154;stroke:#440154;\" x=\"103.762712\" xlink:href=\"#C0_0_9a0d8db78e\" y=\"219.865743\"/>\r\n    </g>\r\n    <g clip-path=\"url(#p40caf103f7)\">\r\n     <use style=\"fill:#440154;stroke:#440154;\" x=\"112.579523\" xlink:href=\"#C0_0_9a0d8db78e\" y=\"214.86137\"/>\r\n    </g>\r\n    <g clip-path=\"url(#p40caf103f7)\">\r\n     <use style=\"fill:#440154;stroke:#440154;\" x=\"94.211168\" xlink:href=\"#C0_0_9a0d8db78e\" y=\"224.870116\"/>\r\n    </g>\r\n    <g clip-path=\"url(#p40caf103f7)\">\r\n     <use style=\"fill:#440154;stroke:#440154;\" x=\"106.517966\" xlink:href=\"#C0_0_9a0d8db78e\" y=\"212.359184\"/>\r\n    </g>\r\n    <g clip-path=\"url(#p40caf103f7)\">\r\n     <use style=\"fill:#440154;stroke:#440154;\" x=\"360.184943\" xlink:href=\"#C0_0_9a0d8db78e\" y=\"172.324201\"/>\r\n    </g>\r\n    <g clip-path=\"url(#p40caf103f7)\">\r\n     <use style=\"fill:#440154;stroke:#440154;\" x=\"168.786688\" xlink:href=\"#C0_0_9a0d8db78e\" y=\"117.2761\"/>\r\n    </g>\r\n    <g clip-path=\"url(#p40caf103f7)\">\r\n     <use style=\"fill:#440154;stroke:#440154;\" x=\"137.560485\" xlink:href=\"#C0_0_9a0d8db78e\" y=\"189.839506\"/>\r\n    </g>\r\n    <g clip-path=\"url(#p40caf103f7)\">\r\n     <use style=\"fill:#440154;stroke:#440154;\" x=\"129.845776\" xlink:href=\"#C0_0_9a0d8db78e\" y=\"204.852624\"/>\r\n    </g>\r\n    <g clip-path=\"url(#p40caf103f7)\">\r\n     <use style=\"fill:#440154;stroke:#440154;\" x=\"151.520434\" xlink:href=\"#C0_0_9a0d8db78e\" y=\"202.350438\"/>\r\n    </g>\r\n    <g clip-path=\"url(#p40caf103f7)\">\r\n     <use style=\"fill:#440154;stroke:#440154;\" x=\"129.845776\" xlink:href=\"#C0_0_9a0d8db78e\" y=\"219.865743\"/>\r\n    </g>\r\n    <g clip-path=\"url(#p40caf103f7)\">\r\n     <use style=\"fill:#440154;stroke:#440154;\" x=\"104.497447\" xlink:href=\"#C0_0_9a0d8db78e\" y=\"209.856997\"/>\r\n    </g>\r\n    <g clip-path=\"url(#p40caf103f7)\">\r\n     <use style=\"fill:#440154;stroke:#440154;\" x=\"102.476928\" xlink:href=\"#C0_0_9a0d8db78e\" y=\"187.337319\"/>\r\n    </g>\r\n    <g clip-path=\"url(#p40caf103f7)\">\r\n     <use style=\"fill:#440154;stroke:#440154;\" x=\"97.333788\" xlink:href=\"#C0_0_9a0d8db78e\" y=\"212.359184\"/>\r\n    </g>\r\n    <g clip-path=\"url(#p40caf103f7)\">\r\n     <use style=\"fill:#440154;stroke:#440154;\" x=\"93.843801\" xlink:href=\"#C0_0_9a0d8db78e\" y=\"224.870116\"/>\r\n    </g>\r\n    <g clip-path=\"url(#p40caf103f7)\">\r\n     <use style=\"fill:#440154;stroke:#440154;\" x=\"66.658636\" xlink:href=\"#C0_0_9a0d8db78e\" y=\"224.870116\"/>\r\n    </g>\r\n    <g clip-path=\"url(#p40caf103f7)\">\r\n     <use style=\"fill:#440154;stroke:#440154;\" x=\"122.314751\" xlink:href=\"#C0_0_9a0d8db78e\" y=\"212.359184\"/>\r\n    </g>\r\n    <g clip-path=\"url(#p40caf103f7)\">\r\n     <use style=\"fill:#440154;stroke:#440154;\" x=\"164.74565\" xlink:href=\"#C0_0_9a0d8db78e\" y=\"179.83076\"/>\r\n    </g>\r\n    <g clip-path=\"url(#p40caf103f7)\">\r\n     <use style=\"fill:#440154;stroke:#440154;\" x=\"133.15208\" xlink:href=\"#C0_0_9a0d8db78e\" y=\"194.843879\"/>\r\n    </g>\r\n    <g clip-path=\"url(#p40caf103f7)\">\r\n     <use style=\"fill:#440154;stroke:#440154;\" x=\"109.089535\" xlink:href=\"#C0_0_9a0d8db78e\" y=\"212.359184\"/>\r\n    </g>\r\n    <g clip-path=\"url(#p40caf103f7)\">\r\n     <use style=\"fill:#440154;stroke:#440154;\" x=\"100.089041\" xlink:href=\"#C0_0_9a0d8db78e\" y=\"222.367929\"/>\r\n    </g>\r\n    <g clip-path=\"url(#p40caf103f7)\">\r\n     <use style=\"fill:#440154;stroke:#440154;\" x=\"101.742193\" xlink:href=\"#C0_0_9a0d8db78e\" y=\"209.856997\"/>\r\n    </g>\r\n    <g clip-path=\"url(#p40caf103f7)\">\r\n     <use style=\"fill:#440154;stroke:#440154;\" x=\"153.908321\" xlink:href=\"#C0_0_9a0d8db78e\" y=\"204.852624\"/>\r\n    </g>\r\n    <g clip-path=\"url(#p40caf103f7)\">\r\n     <use style=\"fill:#440154;stroke:#440154;\" x=\"106.334282\" xlink:href=\"#C0_0_9a0d8db78e\" y=\"204.852624\"/>\r\n    </g>\r\n    <g clip-path=\"url(#p40caf103f7)\">\r\n     <use style=\"fill:#440154;stroke:#440154;\" x=\"141.417839\" xlink:href=\"#C0_0_9a0d8db78e\" y=\"207.354811\"/>\r\n    </g>\r\n    <g clip-path=\"url(#p40caf103f7)\">\r\n     <use style=\"fill:#440154;stroke:#440154;\" x=\"200.563941\" xlink:href=\"#C0_0_9a0d8db78e\" y=\"204.852624\"/>\r\n    </g>\r\n    <g clip-path=\"url(#p40caf103f7)\">\r\n     <use style=\"fill:#440154;stroke:#440154;\" x=\"134.988915\" xlink:href=\"#C0_0_9a0d8db78e\" y=\"189.839506\"/>\r\n    </g>\r\n    <g clip-path=\"url(#p40caf103f7)\">\r\n     <use style=\"fill:#440154;stroke:#440154;\" x=\"132.968396\" xlink:href=\"#C0_0_9a0d8db78e\" y=\"204.852624\"/>\r\n    </g>\r\n    <g clip-path=\"url(#p40caf103f7)\">\r\n     <use style=\"fill:#440154;stroke:#440154;\" x=\"144.173093\" xlink:href=\"#C0_0_9a0d8db78e\" y=\"217.363557\"/>\r\n    </g>\r\n    <g clip-path=\"url(#p40caf103f7)\">\r\n     <use style=\"fill:#440154;stroke:#440154;\" x=\"126.539472\" xlink:href=\"#C0_0_9a0d8db78e\" y=\"214.86137\"/>\r\n    </g>\r\n    <g clip-path=\"url(#p40caf103f7)\">\r\n     <use style=\"fill:#440154;stroke:#440154;\" x=\"144.724143\" xlink:href=\"#C0_0_9a0d8db78e\" y=\"204.852624\"/>\r\n    </g>\r\n    <g clip-path=\"url(#p40caf103f7)\">\r\n     <use style=\"fill:#440154;stroke:#440154;\" x=\"124.88632\" xlink:href=\"#C0_0_9a0d8db78e\" y=\"217.363557\"/>\r\n    </g>\r\n    <g clip-path=\"url(#p40caf103f7)\">\r\n     <use style=\"fill:#440154;stroke:#440154;\" x=\"159.418827\" xlink:href=\"#C0_0_9a0d8db78e\" y=\"199.848252\"/>\r\n    </g>\r\n    <g clip-path=\"url(#p40caf103f7)\">\r\n     <use style=\"fill:#440154;stroke:#440154;\" x=\"142.152574\" xlink:href=\"#C0_0_9a0d8db78e\" y=\"197.346065\"/>\r\n    </g>\r\n    <g clip-path=\"url(#p40caf103f7)\">\r\n     <use style=\"fill:#440154;stroke:#440154;\" x=\"116.804244\" xlink:href=\"#C0_0_9a0d8db78e\" y=\"199.848252\"/>\r\n    </g>\r\n    <g clip-path=\"url(#p40caf103f7)\">\r\n     <use style=\"fill:#440154;stroke:#440154;\" x=\"127.825257\" xlink:href=\"#C0_0_9a0d8db78e\" y=\"214.86137\"/>\r\n    </g>\r\n    <g clip-path=\"url(#p40caf103f7)\">\r\n     <use style=\"fill:#440154;stroke:#440154;\" x=\"122.131067\" xlink:href=\"#C0_0_9a0d8db78e\" y=\"214.86137\"/>\r\n    </g>\r\n    <g clip-path=\"url(#p40caf103f7)\">\r\n     <use style=\"fill:#440154;stroke:#440154;\" x=\"146.193612\" xlink:href=\"#C0_0_9a0d8db78e\" y=\"217.363557\"/>\r\n    </g>\r\n    <g clip-path=\"url(#p40caf103f7)\">\r\n     <use style=\"fill:#440154;stroke:#440154;\" x=\"136.091017\" xlink:href=\"#C0_0_9a0d8db78e\" y=\"194.843879\"/>\r\n    </g>\r\n    <g clip-path=\"url(#p40caf103f7)\">\r\n     <use style=\"fill:#fde725;stroke:#fde725;\" x=\"198.543422\" xlink:href=\"#C0_0_9a0d8db78e\" y=\"147.302337\"/>\r\n    </g>\r\n    <g clip-path=\"url(#p40caf103f7)\">\r\n     <use style=\"fill:#440154;stroke:#440154;\" x=\"108.722168\" xlink:href=\"#C0_0_9a0d8db78e\" y=\"189.839506\"/>\r\n    </g>\r\n    <g clip-path=\"url(#p40caf103f7)\">\r\n     <use style=\"fill:#440154;stroke:#440154;\" x=\"92.006965\" xlink:href=\"#C0_0_9a0d8db78e\" y=\"212.359184\"/>\r\n    </g>\r\n    <g clip-path=\"url(#p40caf103f7)\">\r\n     <use style=\"fill:#440154;stroke:#440154;\" x=\"112.94689\" xlink:href=\"#C0_0_9a0d8db78e\" y=\"204.852624\"/>\r\n    </g>\r\n    <g clip-path=\"url(#p40caf103f7)\">\r\n     <use style=\"fill:#440154;stroke:#440154;\" x=\"93.29275\" xlink:href=\"#C0_0_9a0d8db78e\" y=\"219.865743\"/>\r\n    </g>\r\n    <g clip-path=\"url(#p40caf103f7)\">\r\n     <use style=\"fill:#440154;stroke:#440154;\" x=\"113.130573\" xlink:href=\"#C0_0_9a0d8db78e\" y=\"212.359184\"/>\r\n    </g>\r\n    <g clip-path=\"url(#p40caf103f7)\">\r\n     <use style=\"fill:#440154;stroke:#440154;\" x=\"121.580016\" xlink:href=\"#C0_0_9a0d8db78e\" y=\"212.359184\"/>\r\n    </g>\r\n    <g clip-path=\"url(#p40caf103f7)\">\r\n     <use style=\"fill:#440154;stroke:#440154;\" x=\"149.499915\" xlink:href=\"#C0_0_9a0d8db78e\" y=\"182.332947\"/>\r\n    </g>\r\n    <g clip-path=\"url(#p40caf103f7)\">\r\n     <use style=\"fill:#440154;stroke:#440154;\" x=\"112.395839\" xlink:href=\"#C0_0_9a0d8db78e\" y=\"222.367929\"/>\r\n    </g>\r\n    <g clip-path=\"url(#p40caf103f7)\">\r\n     <use style=\"fill:#440154;stroke:#440154;\" x=\"108.538485\" xlink:href=\"#C0_0_9a0d8db78e\" y=\"199.848252\"/>\r\n    </g>\r\n    <g clip-path=\"url(#p40caf103f7)\">\r\n     <use style=\"fill:#440154;stroke:#440154;\" x=\"131.131561\" xlink:href=\"#C0_0_9a0d8db78e\" y=\"192.341692\"/>\r\n    </g>\r\n    <g clip-path=\"url(#p40caf103f7)\">\r\n     <use style=\"fill:#440154;stroke:#440154;\" x=\"137.193118\" xlink:href=\"#C0_0_9a0d8db78e\" y=\"194.843879\"/>\r\n    </g>\r\n    <g clip-path=\"url(#p40caf103f7)\">\r\n     <use style=\"fill:#440154;stroke:#440154;\" x=\"121.7637\" xlink:href=\"#C0_0_9a0d8db78e\" y=\"214.86137\"/>\r\n    </g>\r\n    <g clip-path=\"url(#p40caf103f7)\">\r\n     <use style=\"fill:#440154;stroke:#440154;\" x=\"116.620561\" xlink:href=\"#C0_0_9a0d8db78e\" y=\"207.354811\"/>\r\n    </g>\r\n    <g clip-path=\"url(#p40caf103f7)\">\r\n     <use style=\"fill:#440154;stroke:#440154;\" x=\"108.538485\" xlink:href=\"#C0_0_9a0d8db78e\" y=\"217.363557\"/>\r\n    </g>\r\n    <g clip-path=\"url(#p40caf103f7)\">\r\n     <use style=\"fill:#440154;stroke:#440154;\" x=\"101.374826\" xlink:href=\"#C0_0_9a0d8db78e\" y=\"219.865743\"/>\r\n    </g>\r\n    <g clip-path=\"url(#p40caf103f7)\">\r\n     <use style=\"fill:#440154;stroke:#440154;\" x=\"145.458877\" xlink:href=\"#C0_0_9a0d8db78e\" y=\"122.280473\"/>\r\n    </g>\r\n    <g clip-path=\"url(#p40caf103f7)\">\r\n     <use style=\"fill:#440154;stroke:#440154;\" x=\"148.765181\" xlink:href=\"#C0_0_9a0d8db78e\" y=\"207.354811\"/>\r\n    </g>\r\n    <g clip-path=\"url(#p40caf103f7)\">\r\n     <use style=\"fill:#440154;stroke:#440154;\" x=\"117.722662\" xlink:href=\"#C0_0_9a0d8db78e\" y=\"194.843879\"/>\r\n    </g>\r\n    <g clip-path=\"url(#p40caf103f7)\">\r\n     <use style=\"fill:#440154;stroke:#440154;\" x=\"114.967409\" xlink:href=\"#C0_0_9a0d8db78e\" y=\"199.848252\"/>\r\n    </g>\r\n    <g clip-path=\"url(#p40caf103f7)\">\r\n     <use style=\"fill:#440154;stroke:#440154;\" x=\"126.723156\" xlink:href=\"#C0_0_9a0d8db78e\" y=\"202.350438\"/>\r\n    </g>\r\n    <g clip-path=\"url(#p40caf103f7)\">\r\n     <use style=\"fill:#440154;stroke:#440154;\" x=\"133.15208\" xlink:href=\"#C0_0_9a0d8db78e\" y=\"209.856997\"/>\r\n    </g>\r\n    <g clip-path=\"url(#p40caf103f7)\">\r\n     <use style=\"fill:#440154;stroke:#440154;\" x=\"121.396333\" xlink:href=\"#C0_0_9a0d8db78e\" y=\"202.350438\"/>\r\n    </g>\r\n    <g clip-path=\"url(#p40caf103f7)\">\r\n     <use style=\"fill:#440154;stroke:#440154;\" x=\"115.151092\" xlink:href=\"#C0_0_9a0d8db78e\" y=\"217.363557\"/>\r\n    </g>\r\n    <g clip-path=\"url(#p40caf103f7)\">\r\n     <use style=\"fill:#440154;stroke:#440154;\" x=\"115.702143\" xlink:href=\"#C0_0_9a0d8db78e\" y=\"214.86137\"/>\r\n    </g>\r\n    <g clip-path=\"url(#p40caf103f7)\">\r\n     <use style=\"fill:#440154;stroke:#440154;\" x=\"103.395345\" xlink:href=\"#C0_0_9a0d8db78e\" y=\"209.856997\"/>\r\n    </g>\r\n    <g clip-path=\"url(#p40caf103f7)\">\r\n     <use style=\"fill:#440154;stroke:#440154;\" x=\"93.29275\" xlink:href=\"#C0_0_9a0d8db78e\" y=\"222.367929\"/>\r\n    </g>\r\n    <g clip-path=\"url(#p40caf103f7)\">\r\n     <use style=\"fill:#440154;stroke:#440154;\" x=\"93.660117\" xlink:href=\"#C0_0_9a0d8db78e\" y=\"222.367929\"/>\r\n    </g>\r\n    <g clip-path=\"url(#p40caf103f7)\">\r\n     <use style=\"fill:#440154;stroke:#440154;\" x=\"153.724637\" xlink:href=\"#C0_0_9a0d8db78e\" y=\"217.363557\"/>\r\n    </g>\r\n    <g clip-path=\"url(#p40caf103f7)\">\r\n     <use style=\"fill:#440154;stroke:#440154;\" x=\"132.049979\" xlink:href=\"#C0_0_9a0d8db78e\" y=\"212.359184\"/>\r\n    </g>\r\n    <g clip-path=\"url(#p40caf103f7)\">\r\n     <use style=\"fill:#440154;stroke:#440154;\" x=\"117.538978\" xlink:href=\"#C0_0_9a0d8db78e\" y=\"222.367929\"/>\r\n    </g>\r\n    <g clip-path=\"url(#p40caf103f7)\">\r\n     <use style=\"fill:#440154;stroke:#440154;\" x=\"180.909802\" xlink:href=\"#C0_0_9a0d8db78e\" y=\"207.354811\"/>\r\n    </g>\r\n    <g clip-path=\"url(#p40caf103f7)\">\r\n     <use style=\"fill:#440154;stroke:#440154;\" x=\"142.519941\" xlink:href=\"#C0_0_9a0d8db78e\" y=\"217.363557\"/>\r\n    </g>\r\n    <g clip-path=\"url(#p40caf103f7)\">\r\n     <use style=\"fill:#440154;stroke:#440154;\" x=\"137.009434\" xlink:href=\"#C0_0_9a0d8db78e\" y=\"194.843879\"/>\r\n    </g>\r\n    <g clip-path=\"url(#p40caf103f7)\">\r\n     <use style=\"fill:#440154;stroke:#440154;\" x=\"105.415864\" xlink:href=\"#C0_0_9a0d8db78e\" y=\"217.363557\"/>\r\n    </g>\r\n    <g clip-path=\"url(#p40caf103f7)\">\r\n     <use style=\"fill:#440154;stroke:#440154;\" x=\"117.538978\" xlink:href=\"#C0_0_9a0d8db78e\" y=\"214.86137\"/>\r\n    </g>\r\n    <g clip-path=\"url(#p40caf103f7)\">\r\n     <use style=\"fill:#440154;stroke:#440154;\" x=\"152.071485\" xlink:href=\"#C0_0_9a0d8db78e\" y=\"197.346065\"/>\r\n    </g>\r\n    <g clip-path=\"url(#p40caf103f7)\">\r\n     <use style=\"fill:#440154;stroke:#440154;\" x=\"149.316232\" xlink:href=\"#C0_0_9a0d8db78e\" y=\"207.354811\"/>\r\n    </g>\r\n    <g clip-path=\"url(#p40caf103f7)\">\r\n     <use style=\"fill:#440154;stroke:#440154;\" x=\"143.254675\" xlink:href=\"#C0_0_9a0d8db78e\" y=\"184.835133\"/>\r\n    </g>\r\n    <g clip-path=\"url(#p40caf103f7)\">\r\n     <use style=\"fill:#440154;stroke:#440154;\" x=\"101.742193\" xlink:href=\"#C0_0_9a0d8db78e\" y=\"192.341692\"/>\r\n    </g>\r\n    <g clip-path=\"url(#p40caf103f7)\">\r\n     <use style=\"fill:#440154;stroke:#440154;\" x=\"135.907333\" xlink:href=\"#C0_0_9a0d8db78e\" y=\"189.839506\"/>\r\n    </g>\r\n    <g clip-path=\"url(#p40caf103f7)\">\r\n     <use style=\"fill:#440154;stroke:#440154;\" x=\"122.682118\" xlink:href=\"#C0_0_9a0d8db78e\" y=\"204.852624\"/>\r\n    </g>\r\n    <g clip-path=\"url(#p40caf103f7)\">\r\n     <use style=\"fill:#440154;stroke:#440154;\" x=\"112.94689\" xlink:href=\"#C0_0_9a0d8db78e\" y=\"209.856997\"/>\r\n    </g>\r\n    <g clip-path=\"url(#p40caf103f7)\">\r\n     <use style=\"fill:#440154;stroke:#440154;\" x=\"127.825257\" xlink:href=\"#C0_0_9a0d8db78e\" y=\"184.835133\"/>\r\n    </g>\r\n    <g clip-path=\"url(#p40caf103f7)\">\r\n     <use style=\"fill:#440154;stroke:#440154;\" x=\"136.2747\" xlink:href=\"#C0_0_9a0d8db78e\" y=\"169.822015\"/>\r\n    </g>\r\n    <g clip-path=\"url(#p40caf103f7)\">\r\n     <use style=\"fill:#440154;stroke:#440154;\" x=\"194.869751\" xlink:href=\"#C0_0_9a0d8db78e\" y=\"202.350438\"/>\r\n    </g>\r\n    <g clip-path=\"url(#p40caf103f7)\">\r\n     <use style=\"fill:#440154;stroke:#440154;\" x=\"139.39732\" xlink:href=\"#C0_0_9a0d8db78e\" y=\"177.328574\"/>\r\n    </g>\r\n    <g clip-path=\"url(#p40caf103f7)\">\r\n     <use style=\"fill:#440154;stroke:#440154;\" x=\"170.256156\" xlink:href=\"#C0_0_9a0d8db78e\" y=\"182.332947\"/>\r\n    </g>\r\n    <g clip-path=\"url(#p40caf103f7)\">\r\n     <use style=\"fill:#440154;stroke:#440154;\" x=\"159.05146\" xlink:href=\"#C0_0_9a0d8db78e\" y=\"162.315455\"/>\r\n    </g>\r\n    <g clip-path=\"url(#p40caf103f7)\">\r\n     <use style=\"fill:#440154;stroke:#440154;\" x=\"148.948865\" xlink:href=\"#C0_0_9a0d8db78e\" y=\"169.822015\"/>\r\n    </g>\r\n    <g clip-path=\"url(#p40caf103f7)\">\r\n     <use style=\"fill:#440154;stroke:#440154;\" x=\"96.966421\" xlink:href=\"#C0_0_9a0d8db78e\" y=\"219.865743\"/>\r\n    </g>\r\n    <g clip-path=\"url(#p40caf103f7)\">\r\n     <use style=\"fill:#440154;stroke:#440154;\" x=\"115.885826\" xlink:href=\"#C0_0_9a0d8db78e\" y=\"197.346065\"/>\r\n    </g>\r\n    <g clip-path=\"url(#p40caf103f7)\">\r\n     <use style=\"fill:#440154;stroke:#440154;\" x=\"118.090029\" xlink:href=\"#C0_0_9a0d8db78e\" y=\"212.359184\"/>\r\n    </g>\r\n    <g clip-path=\"url(#p40caf103f7)\">\r\n     <use style=\"fill:#440154;stroke:#440154;\" x=\"122.314751\" xlink:href=\"#C0_0_9a0d8db78e\" y=\"192.341692\"/>\r\n    </g>\r\n    <g clip-path=\"url(#p40caf103f7)\">\r\n     <use style=\"fill:#440154;stroke:#440154;\" x=\"150.050966\" xlink:href=\"#C0_0_9a0d8db78e\" y=\"162.315455\"/>\r\n    </g>\r\n    <g clip-path=\"url(#p40caf103f7)\">\r\n     <use style=\"fill:#440154;stroke:#440154;\" x=\"193.400283\" xlink:href=\"#C0_0_9a0d8db78e\" y=\"137.293591\"/>\r\n    </g>\r\n    <g clip-path=\"url(#p40caf103f7)\">\r\n     <use style=\"fill:#440154;stroke:#440154;\" x=\"137.560485\" xlink:href=\"#C0_0_9a0d8db78e\" y=\"192.341692\"/>\r\n    </g>\r\n    <g clip-path=\"url(#p40caf103f7)\">\r\n     <use style=\"fill:#440154;stroke:#440154;\" x=\"171.725625\" xlink:href=\"#C0_0_9a0d8db78e\" y=\"154.808896\"/>\r\n    </g>\r\n    <g clip-path=\"url(#p40caf103f7)\">\r\n     <use style=\"fill:#440154;stroke:#440154;\" x=\"143.438358\" xlink:href=\"#C0_0_9a0d8db78e\" y=\"159.813269\"/>\r\n    </g>\r\n    <g clip-path=\"url(#p40caf103f7)\">\r\n     <use style=\"fill:#440154;stroke:#440154;\" x=\"114.967409\" xlink:href=\"#C0_0_9a0d8db78e\" y=\"162.315455\"/>\r\n    </g>\r\n    <g clip-path=\"url(#p40caf103f7)\">\r\n     <use style=\"fill:#440154;stroke:#440154;\" x=\"126.355789\" xlink:href=\"#C0_0_9a0d8db78e\" y=\"194.843879\"/>\r\n    </g>\r\n    <g clip-path=\"url(#p40caf103f7)\">\r\n     <use style=\"fill:#440154;stroke:#440154;\" x=\"142.887308\" xlink:href=\"#C0_0_9a0d8db78e\" y=\"107.267354\"/>\r\n    </g>\r\n    <g clip-path=\"url(#p40caf103f7)\">\r\n     <use style=\"fill:#440154;stroke:#440154;\" x=\"152.622536\" xlink:href=\"#C0_0_9a0d8db78e\" y=\"189.839506\"/>\r\n    </g>\r\n    <g clip-path=\"url(#p40caf103f7)\">\r\n     <use style=\"fill:#440154;stroke:#440154;\" x=\"116.06951\" xlink:href=\"#C0_0_9a0d8db78e\" y=\"204.852624\"/>\r\n    </g>\r\n    <g clip-path=\"url(#p40caf103f7)\">\r\n     <use style=\"fill:#440154;stroke:#440154;\" x=\"162.725131\" xlink:href=\"#C0_0_9a0d8db78e\" y=\"172.324201\"/>\r\n    </g>\r\n    <g clip-path=\"url(#p40caf103f7)\">\r\n     <use style=\"fill:#440154;stroke:#440154;\" x=\"172.276675\" xlink:href=\"#C0_0_9a0d8db78e\" y=\"162.315455\"/>\r\n    </g>\r\n    <g clip-path=\"url(#p40caf103f7)\">\r\n     <use style=\"fill:#440154;stroke:#440154;\" x=\"139.029953\" xlink:href=\"#C0_0_9a0d8db78e\" y=\"124.782659\"/>\r\n    </g>\r\n    <g clip-path=\"url(#p40caf103f7)\">\r\n     <use style=\"fill:#440154;stroke:#440154;\" x=\"113.314257\" xlink:href=\"#C0_0_9a0d8db78e\" y=\"189.839506\"/>\r\n    </g>\r\n    <g clip-path=\"url(#p40caf103f7)\">\r\n     <use style=\"fill:#440154;stroke:#440154;\" x=\"119.008447\" xlink:href=\"#C0_0_9a0d8db78e\" y=\"207.354811\"/>\r\n    </g>\r\n    <g clip-path=\"url(#p40caf103f7)\">\r\n     <use style=\"fill:#440154;stroke:#440154;\" x=\"188.808194\" xlink:href=\"#C0_0_9a0d8db78e\" y=\"142.297964\"/>\r\n    </g>\r\n    <g clip-path=\"url(#p40caf103f7)\">\r\n     <use style=\"fill:#440154;stroke:#440154;\" x=\"169.888789\" xlink:href=\"#C0_0_9a0d8db78e\" y=\"119.778286\"/>\r\n    </g>\r\n    <g clip-path=\"url(#p40caf103f7)\">\r\n     <use style=\"fill:#440154;stroke:#440154;\" x=\"135.356282\" xlink:href=\"#C0_0_9a0d8db78e\" y=\"197.346065\"/>\r\n    </g>\r\n    <g clip-path=\"url(#p40caf103f7)\">\r\n     <use style=\"fill:#440154;stroke:#440154;\" x=\"112.94689\" xlink:href=\"#C0_0_9a0d8db78e\" y=\"217.363557\"/>\r\n    </g>\r\n    <g clip-path=\"url(#p40caf103f7)\">\r\n     <use style=\"fill:#440154;stroke:#440154;\" x=\"153.908321\" xlink:href=\"#C0_0_9a0d8db78e\" y=\"179.83076\"/>\r\n    </g>\r\n    <g clip-path=\"url(#p40caf103f7)\">\r\n     <use style=\"fill:#440154;stroke:#440154;\" x=\"145.642561\" xlink:href=\"#C0_0_9a0d8db78e\" y=\"159.813269\"/>\r\n    </g>\r\n    <g clip-path=\"url(#p40caf103f7)\">\r\n     <use style=\"fill:#440154;stroke:#440154;\" x=\"111.477421\" xlink:href=\"#C0_0_9a0d8db78e\" y=\"197.346065\"/>\r\n    </g>\r\n    <g clip-path=\"url(#p40caf103f7)\">\r\n     <use style=\"fill:#440154;stroke:#440154;\" x=\"121.028966\" xlink:href=\"#C0_0_9a0d8db78e\" y=\"187.337319\"/>\r\n    </g>\r\n    <g clip-path=\"url(#p40caf103f7)\">\r\n     <use style=\"fill:#440154;stroke:#440154;\" x=\"271.649474\" xlink:href=\"#C0_0_9a0d8db78e\" y=\"129.787032\"/>\r\n    </g>\r\n    <g clip-path=\"url(#p40caf103f7)\">\r\n     <use style=\"fill:#440154;stroke:#440154;\" x=\"129.111042\" xlink:href=\"#C0_0_9a0d8db78e\" y=\"197.346065\"/>\r\n    </g>\r\n    <g clip-path=\"url(#p40caf103f7)\">\r\n     <use style=\"fill:#440154;stroke:#440154;\" x=\"162.541447\" xlink:href=\"#C0_0_9a0d8db78e\" y=\"197.346065\"/>\r\n    </g>\r\n    <g clip-path=\"url(#p40caf103f7)\">\r\n     <use style=\"fill:#440154;stroke:#440154;\" x=\"121.7637\" xlink:href=\"#C0_0_9a0d8db78e\" y=\"219.865743\"/>\r\n    </g>\r\n    <g clip-path=\"url(#p40caf103f7)\">\r\n     <use style=\"fill:#440154;stroke:#440154;\" x=\"118.824763\" xlink:href=\"#C0_0_9a0d8db78e\" y=\"227.372302\"/>\r\n    </g>\r\n    <g clip-path=\"url(#p40caf103f7)\">\r\n     <use style=\"fill:#440154;stroke:#440154;\" x=\"169.705106\" xlink:href=\"#C0_0_9a0d8db78e\" y=\"174.826387\"/>\r\n    </g>\r\n    <g clip-path=\"url(#p40caf103f7)\">\r\n     <use style=\"fill:#440154;stroke:#440154;\" x=\"109.089535\" xlink:href=\"#C0_0_9a0d8db78e\" y=\"189.839506\"/>\r\n    </g>\r\n    <g clip-path=\"url(#p40caf103f7)\">\r\n     <use style=\"fill:#440154;stroke:#440154;\" x=\"115.702143\" xlink:href=\"#C0_0_9a0d8db78e\" y=\"214.86137\"/>\r\n    </g>\r\n    <g clip-path=\"url(#p40caf103f7)\">\r\n     <use style=\"fill:#440154;stroke:#440154;\" x=\"108.722168\" xlink:href=\"#C0_0_9a0d8db78e\" y=\"209.856997\"/>\r\n    </g>\r\n    <g clip-path=\"url(#p40caf103f7)\">\r\n     <use style=\"fill:#440154;stroke:#440154;\" x=\"138.295219\" xlink:href=\"#C0_0_9a0d8db78e\" y=\"199.848252\"/>\r\n    </g>\r\n    <g clip-path=\"url(#p40caf103f7)\">\r\n     <use style=\"fill:#440154;stroke:#440154;\" x=\"128.376308\" xlink:href=\"#C0_0_9a0d8db78e\" y=\"192.341692\"/>\r\n    </g>\r\n    <g clip-path=\"url(#p40caf103f7)\">\r\n     <use style=\"fill:#440154;stroke:#440154;\" x=\"120.110548\" xlink:href=\"#C0_0_9a0d8db78e\" y=\"222.367929\"/>\r\n    </g>\r\n    <g clip-path=\"url(#p40caf103f7)\">\r\n     <use style=\"fill:#440154;stroke:#440154;\" x=\"197.808688\" xlink:href=\"#C0_0_9a0d8db78e\" y=\"147.302337\"/>\r\n    </g>\r\n    <g clip-path=\"url(#p40caf103f7)\">\r\n     <use style=\"fill:#440154;stroke:#440154;\" x=\"118.824763\" xlink:href=\"#C0_0_9a0d8db78e\" y=\"214.86137\"/>\r\n    </g>\r\n    <g clip-path=\"url(#p40caf103f7)\">\r\n     <use style=\"fill:#440154;stroke:#440154;\" x=\"129.845776\" xlink:href=\"#C0_0_9a0d8db78e\" y=\"209.856997\"/>\r\n    </g>\r\n    <g clip-path=\"url(#p40caf103f7)\">\r\n     <use style=\"fill:#440154;stroke:#440154;\" x=\"153.908321\" xlink:href=\"#C0_0_9a0d8db78e\" y=\"199.848252\"/>\r\n    </g>\r\n    <g clip-path=\"url(#p40caf103f7)\">\r\n     <use style=\"fill:#440154;stroke:#440154;\" x=\"103.211662\" xlink:href=\"#C0_0_9a0d8db78e\" y=\"192.341692\"/>\r\n    </g>\r\n    <g clip-path=\"url(#p40caf103f7)\">\r\n     <use style=\"fill:#440154;stroke:#440154;\" x=\"125.804738\" xlink:href=\"#C0_0_9a0d8db78e\" y=\"202.350438\"/>\r\n    </g>\r\n    <g clip-path=\"url(#p40caf103f7)\">\r\n     <use style=\"fill:#440154;stroke:#440154;\" x=\"166.031435\" xlink:href=\"#C0_0_9a0d8db78e\" y=\"162.315455\"/>\r\n    </g>\r\n    <g clip-path=\"url(#p40caf103f7)\">\r\n     <use style=\"fill:#440154;stroke:#440154;\" x=\"129.294725\" xlink:href=\"#C0_0_9a0d8db78e\" y=\"209.856997\"/>\r\n    </g>\r\n    <g clip-path=\"url(#p40caf103f7)\">\r\n     <use style=\"fill:#440154;stroke:#440154;\" x=\"127.45789\" xlink:href=\"#C0_0_9a0d8db78e\" y=\"217.363557\"/>\r\n    </g>\r\n    <g clip-path=\"url(#p40caf103f7)\">\r\n     <use style=\"fill:#440154;stroke:#440154;\" x=\"150.050966\" xlink:href=\"#C0_0_9a0d8db78e\" y=\"197.346065\"/>\r\n    </g>\r\n    <g clip-path=\"url(#p40caf103f7)\">\r\n     <use style=\"fill:#440154;stroke:#440154;\" x=\"102.109561\" xlink:href=\"#C0_0_9a0d8db78e\" y=\"212.359184\"/>\r\n    </g>\r\n    <g clip-path=\"url(#p40caf103f7)\">\r\n     <use style=\"fill:#440154;stroke:#440154;\" x=\"206.809182\" xlink:href=\"#C0_0_9a0d8db78e\" y=\"32.201761\"/>\r\n    </g>\r\n    <g clip-path=\"url(#p40caf103f7)\">\r\n     <use style=\"fill:#440154;stroke:#440154;\" x=\"108.722168\" xlink:href=\"#C0_0_9a0d8db78e\" y=\"202.350438\"/>\r\n    </g>\r\n    <g clip-path=\"url(#p40caf103f7)\">\r\n     <use style=\"fill:#440154;stroke:#440154;\" x=\"135.907333\" xlink:href=\"#C0_0_9a0d8db78e\" y=\"184.835133\"/>\r\n    </g>\r\n    <g clip-path=\"url(#p40caf103f7)\">\r\n     <use style=\"fill:#440154;stroke:#440154;\" x=\"112.579523\" xlink:href=\"#C0_0_9a0d8db78e\" y=\"199.848252\"/>\r\n    </g>\r\n    <g clip-path=\"url(#p40caf103f7)\">\r\n     <use style=\"fill:#440154;stroke:#440154;\" x=\"162.908814\" xlink:href=\"#C0_0_9a0d8db78e\" y=\"189.839506\"/>\r\n    </g>\r\n    <g clip-path=\"url(#p40caf103f7)\">\r\n     <use style=\"fill:#fde725;stroke:#fde725;\" x=\"122.865801\" xlink:href=\"#C0_0_9a0d8db78e\" y=\"212.359184\"/>\r\n    </g>\r\n    <g clip-path=\"url(#p40caf103f7)\">\r\n     <use style=\"fill:#fde725;stroke:#fde725;\" x=\"161.990397\" xlink:href=\"#C0_0_9a0d8db78e\" y=\"179.83076\"/>\r\n    </g>\r\n    <g clip-path=\"url(#p40caf103f7)\">\r\n     <use style=\"fill:#440154;stroke:#440154;\" x=\"121.580016\" xlink:href=\"#C0_0_9a0d8db78e\" y=\"187.337319\"/>\r\n    </g>\r\n    <g clip-path=\"url(#p40caf103f7)\">\r\n     <use style=\"fill:#440154;stroke:#440154;\" x=\"127.45789\" xlink:href=\"#C0_0_9a0d8db78e\" y=\"172.324201\"/>\r\n    </g>\r\n    <g clip-path=\"url(#p40caf103f7)\">\r\n     <use style=\"fill:#440154;stroke:#440154;\" x=\"119.743181\" xlink:href=\"#C0_0_9a0d8db78e\" y=\"199.848252\"/>\r\n    </g>\r\n    <g clip-path=\"url(#p40caf103f7)\">\r\n     <use style=\"fill:#440154;stroke:#440154;\" x=\"104.13008\" xlink:href=\"#C0_0_9a0d8db78e\" y=\"227.372302\"/>\r\n    </g>\r\n    <g clip-path=\"url(#p40caf103f7)\">\r\n     <use style=\"fill:#440154;stroke:#440154;\" x=\"137.193118\" xlink:href=\"#C0_0_9a0d8db78e\" y=\"199.848252\"/>\r\n    </g>\r\n    <g clip-path=\"url(#p40caf103f7)\">\r\n     <use style=\"fill:#440154;stroke:#440154;\" x=\"120.110548\" xlink:href=\"#C0_0_9a0d8db78e\" y=\"214.86137\"/>\r\n    </g>\r\n    <g clip-path=\"url(#p40caf103f7)\">\r\n     <use style=\"fill:#440154;stroke:#440154;\" x=\"130.02946\" xlink:href=\"#C0_0_9a0d8db78e\" y=\"209.856997\"/>\r\n    </g>\r\n    <g clip-path=\"url(#p40caf103f7)\">\r\n     <use style=\"fill:#440154;stroke:#440154;\" x=\"157.214624\" xlink:href=\"#C0_0_9a0d8db78e\" y=\"194.843879\"/>\r\n    </g>\r\n    <g clip-path=\"url(#p40caf103f7)\">\r\n     <use style=\"fill:#440154;stroke:#440154;\" x=\"106.701649\" xlink:href=\"#C0_0_9a0d8db78e\" y=\"204.852624\"/>\r\n    </g>\r\n    <g clip-path=\"url(#p40caf103f7)\">\r\n     <use style=\"fill:#440154;stroke:#440154;\" x=\"110.559004\" xlink:href=\"#C0_0_9a0d8db78e\" y=\"212.359184\"/>\r\n    </g>\r\n    <g clip-path=\"url(#p40caf103f7)\">\r\n     <use style=\"fill:#440154;stroke:#440154;\" x=\"139.39732\" xlink:href=\"#C0_0_9a0d8db78e\" y=\"194.843879\"/>\r\n    </g>\r\n    <g clip-path=\"url(#p40caf103f7)\">\r\n     <use style=\"fill:#440154;stroke:#440154;\" x=\"106.517966\" xlink:href=\"#C0_0_9a0d8db78e\" y=\"222.367929\"/>\r\n    </g>\r\n    <g clip-path=\"url(#p40caf103f7)\">\r\n     <use style=\"fill:#440154;stroke:#440154;\" x=\"157.214624\" xlink:href=\"#C0_0_9a0d8db78e\" y=\"152.30671\"/>\r\n    </g>\r\n    <g clip-path=\"url(#p40caf103f7)\">\r\n     <use style=\"fill:#440154;stroke:#440154;\" x=\"117.355295\" xlink:href=\"#C0_0_9a0d8db78e\" y=\"209.856997\"/>\r\n    </g>\r\n    <g clip-path=\"url(#p40caf103f7)\">\r\n     <use style=\"fill:#440154;stroke:#440154;\" x=\"121.212649\" xlink:href=\"#C0_0_9a0d8db78e\" y=\"192.341692\"/>\r\n    </g>\r\n    <g clip-path=\"url(#p40caf103f7)\">\r\n     <use style=\"fill:#440154;stroke:#440154;\" x=\"133.519447\" xlink:href=\"#C0_0_9a0d8db78e\" y=\"222.367929\"/>\r\n    </g>\r\n    <g clip-path=\"url(#p40caf103f7)\">\r\n     <use style=\"fill:#440154;stroke:#440154;\" x=\"135.723649\" xlink:href=\"#C0_0_9a0d8db78e\" y=\"212.359184\"/>\r\n    </g>\r\n    <g clip-path=\"url(#p40caf103f7)\">\r\n     <use style=\"fill:#440154;stroke:#440154;\" x=\"124.88632\" xlink:href=\"#C0_0_9a0d8db78e\" y=\"162.315455\"/>\r\n    </g>\r\n    <g clip-path=\"url(#p40caf103f7)\">\r\n     <use style=\"fill:#440154;stroke:#440154;\" x=\"122.682118\" xlink:href=\"#C0_0_9a0d8db78e\" y=\"227.372302\"/>\r\n    </g>\r\n    <g clip-path=\"url(#p40caf103f7)\">\r\n     <use style=\"fill:#440154;stroke:#440154;\" x=\"134.988915\" xlink:href=\"#C0_0_9a0d8db78e\" y=\"214.86137\"/>\r\n    </g>\r\n    <g clip-path=\"url(#p40caf103f7)\">\r\n     <use style=\"fill:#440154;stroke:#440154;\" x=\"132.601029\" xlink:href=\"#C0_0_9a0d8db78e\" y=\"209.856997\"/>\r\n    </g>\r\n    <g clip-path=\"url(#p40caf103f7)\">\r\n     <use style=\"fill:#440154;stroke:#440154;\" x=\"125.070004\" xlink:href=\"#C0_0_9a0d8db78e\" y=\"219.865743\"/>\r\n    </g>\r\n    <g clip-path=\"url(#p40caf103f7)\">\r\n     <use style=\"fill:#440154;stroke:#440154;\" x=\"140.499422\" xlink:href=\"#C0_0_9a0d8db78e\" y=\"194.843879\"/>\r\n    </g>\r\n    <g clip-path=\"url(#p40caf103f7)\">\r\n     <use style=\"fill:#440154;stroke:#440154;\" x=\"131.315244\" xlink:href=\"#C0_0_9a0d8db78e\" y=\"207.354811\"/>\r\n    </g>\r\n    <g clip-path=\"url(#p40caf103f7)\">\r\n     <use style=\"fill:#440154;stroke:#440154;\" x=\"107.80375\" xlink:href=\"#C0_0_9a0d8db78e\" y=\"192.341692\"/>\r\n    </g>\r\n    <g clip-path=\"url(#p40caf103f7)\">\r\n     <use style=\"fill:#440154;stroke:#440154;\" x=\"108.171118\" xlink:href=\"#C0_0_9a0d8db78e\" y=\"204.852624\"/>\r\n    </g>\r\n    <g clip-path=\"url(#p40caf103f7)\">\r\n     <use style=\"fill:#440154;stroke:#440154;\" x=\"127.825257\" xlink:href=\"#C0_0_9a0d8db78e\" y=\"202.350438\"/>\r\n    </g>\r\n    <g clip-path=\"url(#p40caf103f7)\">\r\n     <use style=\"fill:#440154;stroke:#440154;\" x=\"115.702143\" xlink:href=\"#C0_0_9a0d8db78e\" y=\"222.367929\"/>\r\n    </g>\r\n    <g clip-path=\"url(#p40caf103f7)\">\r\n     <use style=\"fill:#440154;stroke:#440154;\" x=\"104.313763\" xlink:href=\"#C0_0_9a0d8db78e\" y=\"212.359184\"/>\r\n    </g>\r\n    <g clip-path=\"url(#p40caf103f7)\">\r\n     <use style=\"fill:#440154;stroke:#440154;\" x=\"119.008447\" xlink:href=\"#C0_0_9a0d8db78e\" y=\"209.856997\"/>\r\n    </g>\r\n    <g clip-path=\"url(#p40caf103f7)\">\r\n     <use style=\"fill:#440154;stroke:#440154;\" x=\"107.80375\" xlink:href=\"#C0_0_9a0d8db78e\" y=\"219.865743\"/>\r\n    </g>\r\n    <g clip-path=\"url(#p40caf103f7)\">\r\n     <use style=\"fill:#440154;stroke:#440154;\" x=\"130.213143\" xlink:href=\"#C0_0_9a0d8db78e\" y=\"209.856997\"/>\r\n    </g>\r\n    <g clip-path=\"url(#p40caf103f7)\">\r\n     <use style=\"fill:#440154;stroke:#440154;\" x=\"121.7637\" xlink:href=\"#C0_0_9a0d8db78e\" y=\"217.363557\"/>\r\n    </g>\r\n    <g clip-path=\"url(#p40caf103f7)\">\r\n     <use style=\"fill:#440154;stroke:#440154;\" x=\"123.784219\" xlink:href=\"#C0_0_9a0d8db78e\" y=\"219.865743\"/>\r\n    </g>\r\n    <g clip-path=\"url(#p40caf103f7)\">\r\n     <use style=\"fill:#440154;stroke:#440154;\" x=\"129.111042\" xlink:href=\"#C0_0_9a0d8db78e\" y=\"197.346065\"/>\r\n    </g>\r\n    <g clip-path=\"url(#p40caf103f7)\">\r\n     <use style=\"fill:#440154;stroke:#440154;\" x=\"138.111536\" xlink:href=\"#C0_0_9a0d8db78e\" y=\"184.835133\"/>\r\n    </g>\r\n    <g clip-path=\"url(#p40caf103f7)\">\r\n     <use style=\"fill:#440154;stroke:#440154;\" x=\"122.682118\" xlink:href=\"#C0_0_9a0d8db78e\" y=\"219.865743\"/>\r\n    </g>\r\n    <g clip-path=\"url(#p40caf103f7)\">\r\n     <use style=\"fill:#440154;stroke:#440154;\" x=\"115.151092\" xlink:href=\"#C0_0_9a0d8db78e\" y=\"199.848252\"/>\r\n    </g>\r\n    <g clip-path=\"url(#p40caf103f7)\">\r\n     <use style=\"fill:#440154;stroke:#440154;\" x=\"141.96889\" xlink:href=\"#C0_0_9a0d8db78e\" y=\"177.328574\"/>\r\n    </g>\r\n    <g clip-path=\"url(#p40caf103f7)\">\r\n     <use style=\"fill:#440154;stroke:#440154;\" x=\"137.744169\" xlink:href=\"#C0_0_9a0d8db78e\" y=\"177.328574\"/>\r\n    </g>\r\n    <g clip-path=\"url(#p40caf103f7)\">\r\n     <use style=\"fill:#440154;stroke:#440154;\" x=\"116.804244\" xlink:href=\"#C0_0_9a0d8db78e\" y=\"209.856997\"/>\r\n    </g>\r\n    <g clip-path=\"url(#p40caf103f7)\">\r\n     <use style=\"fill:#440154;stroke:#440154;\" x=\"124.88632\" xlink:href=\"#C0_0_9a0d8db78e\" y=\"179.83076\"/>\r\n    </g>\r\n    <g clip-path=\"url(#p40caf103f7)\">\r\n     <use style=\"fill:#440154;stroke:#440154;\" x=\"153.540953\" xlink:href=\"#C0_0_9a0d8db78e\" y=\"204.852624\"/>\r\n    </g>\r\n    <g clip-path=\"url(#p40caf103f7)\">\r\n     <use style=\"fill:#440154;stroke:#440154;\" x=\"117.538978\" xlink:href=\"#C0_0_9a0d8db78e\" y=\"174.826387\"/>\r\n    </g>\r\n    <g clip-path=\"url(#p40caf103f7)\">\r\n     <use style=\"fill:#440154;stroke:#440154;\" x=\"122.682118\" xlink:href=\"#C0_0_9a0d8db78e\" y=\"184.835133\"/>\r\n    </g>\r\n    <g clip-path=\"url(#p40caf103f7)\">\r\n     <use style=\"fill:#440154;stroke:#440154;\" x=\"102.476928\" xlink:href=\"#C0_0_9a0d8db78e\" y=\"227.372302\"/>\r\n    </g>\r\n    <g clip-path=\"url(#p40caf103f7)\">\r\n     <use style=\"fill:#440154;stroke:#440154;\" x=\"114.600042\" xlink:href=\"#C0_0_9a0d8db78e\" y=\"217.363557\"/>\r\n    </g>\r\n    <g clip-path=\"url(#p40caf103f7)\">\r\n     <use style=\"fill:#440154;stroke:#440154;\" x=\"115.334776\" xlink:href=\"#C0_0_9a0d8db78e\" y=\"212.359184\"/>\r\n    </g>\r\n    <g clip-path=\"url(#p40caf103f7)\">\r\n     <use style=\"fill:#440154;stroke:#440154;\" x=\"110.37532\" xlink:href=\"#C0_0_9a0d8db78e\" y=\"217.363557\"/>\r\n    </g>\r\n    <g clip-path=\"url(#p40caf103f7)\">\r\n     <use style=\"fill:#440154;stroke:#440154;\" x=\"123.049485\" xlink:href=\"#C0_0_9a0d8db78e\" y=\"212.359184\"/>\r\n    </g>\r\n    <g clip-path=\"url(#p40caf103f7)\">\r\n     <use style=\"fill:#440154;stroke:#440154;\" x=\"122.498434\" xlink:href=\"#C0_0_9a0d8db78e\" y=\"204.852624\"/>\r\n    </g>\r\n    <g clip-path=\"url(#p40caf103f7)\">\r\n     <use style=\"fill:#440154;stroke:#440154;\" x=\"89.435396\" xlink:href=\"#C0_0_9a0d8db78e\" y=\"219.865743\"/>\r\n    </g>\r\n    <g clip-path=\"url(#p40caf103f7)\">\r\n     <use style=\"fill:#440154;stroke:#440154;\" x=\"85.394358\" xlink:href=\"#C0_0_9a0d8db78e\" y=\"224.870116\"/>\r\n    </g>\r\n    <g clip-path=\"url(#p40caf103f7)\">\r\n     <use style=\"fill:#440154;stroke:#440154;\" x=\"105.415864\" xlink:href=\"#C0_0_9a0d8db78e\" y=\"207.354811\"/>\r\n    </g>\r\n    <g clip-path=\"url(#p40caf103f7)\">\r\n     <use style=\"fill:#440154;stroke:#440154;\" x=\"101.374826\" xlink:href=\"#C0_0_9a0d8db78e\" y=\"209.856997\"/>\r\n    </g>\r\n    <g clip-path=\"url(#p40caf103f7)\">\r\n     <use style=\"fill:#440154;stroke:#440154;\" x=\"99.170624\" xlink:href=\"#C0_0_9a0d8db78e\" y=\"217.363557\"/>\r\n    </g>\r\n    <g clip-path=\"url(#p40caf103f7)\">\r\n     <use style=\"fill:#440154;stroke:#440154;\" x=\"101.55851\" xlink:href=\"#C0_0_9a0d8db78e\" y=\"212.359184\"/>\r\n    </g>\r\n    <g clip-path=\"url(#p40caf103f7)\">\r\n     <use style=\"fill:#440154;stroke:#440154;\" x=\"93.660117\" xlink:href=\"#C0_0_9a0d8db78e\" y=\"209.856997\"/>\r\n    </g>\r\n    <g clip-path=\"url(#p40caf103f7)\">\r\n     <use style=\"fill:#440154;stroke:#440154;\" x=\"101.925877\" xlink:href=\"#C0_0_9a0d8db78e\" y=\"217.363557\"/>\r\n    </g>\r\n    <g clip-path=\"url(#p40caf103f7)\">\r\n     <use style=\"fill:#440154;stroke:#440154;\" x=\"95.680636\" xlink:href=\"#C0_0_9a0d8db78e\" y=\"177.328574\"/>\r\n    </g>\r\n    <g clip-path=\"url(#p40caf103f7)\">\r\n     <use style=\"fill:#440154;stroke:#440154;\" x=\"80.985953\" xlink:href=\"#C0_0_9a0d8db78e\" y=\"219.865743\"/>\r\n    </g>\r\n    <g clip-path=\"url(#p40caf103f7)\">\r\n     <use style=\"fill:#440154;stroke:#440154;\" x=\"89.802763\" xlink:href=\"#C0_0_9a0d8db78e\" y=\"199.848252\"/>\r\n    </g>\r\n    <g clip-path=\"url(#p40caf103f7)\">\r\n     <use style=\"fill:#440154;stroke:#440154;\" x=\"115.518459\" xlink:href=\"#C0_0_9a0d8db78e\" y=\"179.83076\"/>\r\n    </g>\r\n    <g clip-path=\"url(#p40caf103f7)\">\r\n     <use style=\"fill:#440154;stroke:#440154;\" x=\"103.027978\" xlink:href=\"#C0_0_9a0d8db78e\" y=\"194.843879\"/>\r\n    </g>\r\n    <g clip-path=\"url(#p40caf103f7)\">\r\n     <use style=\"fill:#440154;stroke:#440154;\" x=\"123.784219\" xlink:href=\"#C0_0_9a0d8db78e\" y=\"62.227998\"/>\r\n    </g>\r\n    <g clip-path=\"url(#p40caf103f7)\">\r\n     <use style=\"fill:#440154;stroke:#440154;\" x=\"83.741206\" xlink:href=\"#C0_0_9a0d8db78e\" y=\"219.865743\"/>\r\n    </g>\r\n    <g clip-path=\"url(#p40caf103f7)\">\r\n     <use style=\"fill:#440154;stroke:#440154;\" x=\"99.721674\" xlink:href=\"#C0_0_9a0d8db78e\" y=\"199.848252\"/>\r\n    </g>\r\n    <g clip-path=\"url(#p40caf103f7)\">\r\n     <use style=\"fill:#440154;stroke:#440154;\" x=\"146.009928\" xlink:href=\"#C0_0_9a0d8db78e\" y=\"159.813269\"/>\r\n    </g>\r\n    <g clip-path=\"url(#p40caf103f7)\">\r\n     <use style=\"fill:#440154;stroke:#440154;\" x=\"98.43589\" xlink:href=\"#C0_0_9a0d8db78e\" y=\"212.359184\"/>\r\n    </g>\r\n    <g clip-path=\"url(#p40caf103f7)\">\r\n     <use style=\"fill:#440154;stroke:#440154;\" x=\"101.925877\" xlink:href=\"#C0_0_9a0d8db78e\" y=\"189.839506\"/>\r\n    </g>\r\n    <g clip-path=\"url(#p40caf103f7)\">\r\n     <use style=\"fill:#440154;stroke:#440154;\" x=\"80.067535\" xlink:href=\"#C0_0_9a0d8db78e\" y=\"202.350438\"/>\r\n    </g>\r\n    <g clip-path=\"url(#p40caf103f7)\">\r\n     <use style=\"fill:#440154;stroke:#440154;\" x=\"97.333788\" xlink:href=\"#C0_0_9a0d8db78e\" y=\"214.86137\"/>\r\n    </g>\r\n    <g clip-path=\"url(#p40caf103f7)\">\r\n     <use style=\"fill:#440154;stroke:#440154;\" x=\"98.252206\" xlink:href=\"#C0_0_9a0d8db78e\" y=\"207.354811\"/>\r\n    </g>\r\n    <g clip-path=\"url(#p40caf103f7)\">\r\n     <use style=\"fill:#440154;stroke:#440154;\" x=\"76.393864\" xlink:href=\"#C0_0_9a0d8db78e\" y=\"224.870116\"/>\r\n    </g>\r\n    <g clip-path=\"url(#p40caf103f7)\">\r\n     <use style=\"fill:#440154;stroke:#440154;\" x=\"98.068522\" xlink:href=\"#C0_0_9a0d8db78e\" y=\"199.848252\"/>\r\n    </g>\r\n    <g clip-path=\"url(#p40caf103f7)\">\r\n     <use style=\"fill:#440154;stroke:#440154;\" x=\"102.660611\" xlink:href=\"#C0_0_9a0d8db78e\" y=\"212.359184\"/>\r\n    </g>\r\n    <g clip-path=\"url(#p40caf103f7)\">\r\n     <use style=\"fill:#440154;stroke:#440154;\" x=\"105.232181\" xlink:href=\"#C0_0_9a0d8db78e\" y=\"222.367929\"/>\r\n    </g>\r\n    <g clip-path=\"url(#p40caf103f7)\">\r\n     <use style=\"fill:#440154;stroke:#440154;\" x=\"92.374333\" xlink:href=\"#C0_0_9a0d8db78e\" y=\"217.363557\"/>\r\n    </g>\r\n    <g clip-path=\"url(#p40caf103f7)\">\r\n     <use style=\"fill:#440154;stroke:#440154;\" x=\"99.170624\" xlink:href=\"#C0_0_9a0d8db78e\" y=\"204.852624\"/>\r\n    </g>\r\n    <g clip-path=\"url(#p40caf103f7)\">\r\n     <use style=\"fill:#440154;stroke:#440154;\" x=\"83.006472\" xlink:href=\"#C0_0_9a0d8db78e\" y=\"219.865743\"/>\r\n    </g>\r\n    <g clip-path=\"url(#p40caf103f7)\">\r\n     <use style=\"fill:#440154;stroke:#440154;\" x=\"98.803257\" xlink:href=\"#C0_0_9a0d8db78e\" y=\"197.346065\"/>\r\n    </g>\r\n    <g clip-path=\"url(#p40caf103f7)\">\r\n     <use style=\"fill:#440154;stroke:#440154;\" x=\"83.006472\" xlink:href=\"#C0_0_9a0d8db78e\" y=\"212.359184\"/>\r\n    </g>\r\n    <g clip-path=\"url(#p40caf103f7)\">\r\n     <use style=\"fill:#440154;stroke:#440154;\" x=\"98.803257\" xlink:href=\"#C0_0_9a0d8db78e\" y=\"207.354811\"/>\r\n    </g>\r\n    <g clip-path=\"url(#p40caf103f7)\">\r\n     <use style=\"fill:#440154;stroke:#440154;\" x=\"98.252206\" xlink:href=\"#C0_0_9a0d8db78e\" y=\"219.865743\"/>\r\n    </g>\r\n    <g clip-path=\"url(#p40caf103f7)\">\r\n     <use style=\"fill:#440154;stroke:#440154;\" x=\"95.680636\" xlink:href=\"#C0_0_9a0d8db78e\" y=\"199.848252\"/>\r\n    </g>\r\n    <g clip-path=\"url(#p40caf103f7)\">\r\n     <use style=\"fill:#440154;stroke:#440154;\" x=\"86.496459\" xlink:href=\"#C0_0_9a0d8db78e\" y=\"214.86137\"/>\r\n    </g>\r\n    <g clip-path=\"url(#p40caf103f7)\">\r\n     <use style=\"fill:#440154;stroke:#440154;\" x=\"100.089041\" xlink:href=\"#C0_0_9a0d8db78e\" y=\"214.86137\"/>\r\n    </g>\r\n    <g clip-path=\"url(#p40caf103f7)\">\r\n     <use style=\"fill:#440154;stroke:#440154;\" x=\"89.619079\" xlink:href=\"#C0_0_9a0d8db78e\" y=\"214.86137\"/>\r\n    </g>\r\n    <g clip-path=\"url(#p40caf103f7)\">\r\n     <use style=\"fill:#440154;stroke:#440154;\" x=\"93.109067\" xlink:href=\"#C0_0_9a0d8db78e\" y=\"197.346065\"/>\r\n    </g>\r\n    <g clip-path=\"url(#p40caf103f7)\">\r\n     <use style=\"fill:#440154;stroke:#440154;\" x=\"94.945902\" xlink:href=\"#C0_0_9a0d8db78e\" y=\"204.852624\"/>\r\n    </g>\r\n    <g clip-path=\"url(#p40caf103f7)\">\r\n     <use style=\"fill:#440154;stroke:#440154;\" x=\"88.884345\" xlink:href=\"#C0_0_9a0d8db78e\" y=\"227.372302\"/>\r\n    </g>\r\n    <g clip-path=\"url(#p40caf103f7)\">\r\n     <use style=\"fill:#440154;stroke:#440154;\" x=\"83.006472\" xlink:href=\"#C0_0_9a0d8db78e\" y=\"217.363557\"/>\r\n    </g>\r\n    <g clip-path=\"url(#p40caf103f7)\">\r\n     <use style=\"fill:#440154;stroke:#440154;\" x=\"102.844295\" xlink:href=\"#C0_0_9a0d8db78e\" y=\"202.350438\"/>\r\n    </g>\r\n    <g clip-path=\"url(#p40caf103f7)\">\r\n     <use style=\"fill:#440154;stroke:#440154;\" x=\"87.231193\" xlink:href=\"#C0_0_9a0d8db78e\" y=\"204.852624\"/>\r\n    </g>\r\n    <g clip-path=\"url(#p40caf103f7)\">\r\n     <use style=\"fill:#440154;stroke:#440154;\" x=\"100.640092\" xlink:href=\"#C0_0_9a0d8db78e\" y=\"187.337319\"/>\r\n    </g>\r\n    <g clip-path=\"url(#p40caf103f7)\">\r\n     <use style=\"fill:#440154;stroke:#440154;\" x=\"85.761725\" xlink:href=\"#C0_0_9a0d8db78e\" y=\"197.346065\"/>\r\n    </g>\r\n    <g clip-path=\"url(#p40caf103f7)\">\r\n     <use style=\"fill:#440154;stroke:#440154;\" x=\"83.190155\" xlink:href=\"#C0_0_9a0d8db78e\" y=\"204.852624\"/>\r\n    </g>\r\n    <g clip-path=\"url(#p40caf103f7)\">\r\n     <use style=\"fill:#440154;stroke:#440154;\" x=\"97.150105\" xlink:href=\"#C0_0_9a0d8db78e\" y=\"194.843879\"/>\r\n    </g>\r\n    <g clip-path=\"url(#p40caf103f7)\">\r\n     <use style=\"fill:#440154;stroke:#440154;\" x=\"87.965927\" xlink:href=\"#C0_0_9a0d8db78e\" y=\"194.843879\"/>\r\n    </g>\r\n    <g clip-path=\"url(#p40caf103f7)\">\r\n     <use style=\"fill:#440154;stroke:#440154;\" x=\"93.476434\" xlink:href=\"#C0_0_9a0d8db78e\" y=\"192.341692\"/>\r\n    </g>\r\n    <g clip-path=\"url(#p40caf103f7)\">\r\n     <use style=\"fill:#440154;stroke:#440154;\" x=\"88.149611\" xlink:href=\"#C0_0_9a0d8db78e\" y=\"207.354811\"/>\r\n    </g>\r\n    <g clip-path=\"url(#p40caf103f7)\">\r\n     <use style=\"fill:#440154;stroke:#440154;\" x=\"91.639598\" xlink:href=\"#C0_0_9a0d8db78e\" y=\"189.839506\"/>\r\n    </g>\r\n    <g clip-path=\"url(#p40caf103f7)\">\r\n     <use style=\"fill:#440154;stroke:#440154;\" x=\"83.373839\" xlink:href=\"#C0_0_9a0d8db78e\" y=\"192.341692\"/>\r\n    </g>\r\n    <g clip-path=\"url(#p40caf103f7)\">\r\n     <use style=\"fill:#440154;stroke:#440154;\" x=\"86.680143\" xlink:href=\"#C0_0_9a0d8db78e\" y=\"217.363557\"/>\r\n    </g>\r\n    <g clip-path=\"url(#p40caf103f7)\">\r\n     <use style=\"fill:#440154;stroke:#440154;\" x=\"96.415371\" xlink:href=\"#C0_0_9a0d8db78e\" y=\"204.852624\"/>\r\n    </g>\r\n    <g clip-path=\"url(#p40caf103f7)\">\r\n     <use style=\"fill:#440154;stroke:#440154;\" x=\"89.619079\" xlink:href=\"#C0_0_9a0d8db78e\" y=\"207.354811\"/>\r\n    </g>\r\n    <g clip-path=\"url(#p40caf103f7)\">\r\n     <use style=\"fill:#440154;stroke:#440154;\" x=\"83.557522\" xlink:href=\"#C0_0_9a0d8db78e\" y=\"227.372302\"/>\r\n    </g>\r\n    <g clip-path=\"url(#p40caf103f7)\">\r\n     <use style=\"fill:#440154;stroke:#440154;\" x=\"85.210674\" xlink:href=\"#C0_0_9a0d8db78e\" y=\"214.86137\"/>\r\n    </g>\r\n    <g clip-path=\"url(#p40caf103f7)\">\r\n     <use style=\"fill:#440154;stroke:#440154;\" x=\"92.374333\" xlink:href=\"#C0_0_9a0d8db78e\" y=\"209.856997\"/>\r\n    </g>\r\n    <g clip-path=\"url(#p40caf103f7)\">\r\n     <use style=\"fill:#440154;stroke:#440154;\" x=\"86.312776\" xlink:href=\"#C0_0_9a0d8db78e\" y=\"209.856997\"/>\r\n    </g>\r\n    <g clip-path=\"url(#p40caf103f7)\">\r\n     <use style=\"fill:#440154;stroke:#440154;\" x=\"92.558016\" xlink:href=\"#C0_0_9a0d8db78e\" y=\"194.843879\"/>\r\n    </g>\r\n    <g clip-path=\"url(#p40caf103f7)\">\r\n     <use style=\"fill:#440154;stroke:#440154;\" x=\"87.231193\" xlink:href=\"#C0_0_9a0d8db78e\" y=\"202.350438\"/>\r\n    </g>\r\n    <g clip-path=\"url(#p40caf103f7)\">\r\n     <use style=\"fill:#440154;stroke:#440154;\" x=\"81.720687\" xlink:href=\"#C0_0_9a0d8db78e\" y=\"222.367929\"/>\r\n    </g>\r\n    <g clip-path=\"url(#p40caf103f7)\">\r\n     <use style=\"fill:#440154;stroke:#440154;\" x=\"89.619079\" xlink:href=\"#C0_0_9a0d8db78e\" y=\"197.346065\"/>\r\n    </g>\r\n    <g clip-path=\"url(#p40caf103f7)\">\r\n     <use style=\"fill:#440154;stroke:#440154;\" x=\"75.842813\" xlink:href=\"#C0_0_9a0d8db78e\" y=\"204.852624\"/>\r\n    </g>\r\n    <g clip-path=\"url(#p40caf103f7)\">\r\n     <use style=\"fill:#440154;stroke:#440154;\" x=\"75.291763\" xlink:href=\"#C0_0_9a0d8db78e\" y=\"227.372302\"/>\r\n    </g>\r\n    <g clip-path=\"url(#p40caf103f7)\">\r\n     <use style=\"fill:#440154;stroke:#440154;\" x=\"80.618586\" xlink:href=\"#C0_0_9a0d8db78e\" y=\"217.363557\"/>\r\n    </g>\r\n    <g clip-path=\"url(#p40caf103f7)\">\r\n     <use style=\"fill:#440154;stroke:#440154;\" x=\"86.496459\" xlink:href=\"#C0_0_9a0d8db78e\" y=\"204.852624\"/>\r\n    </g>\r\n    <g clip-path=\"url(#p40caf103f7)\">\r\n     <use style=\"fill:#440154;stroke:#440154;\" x=\"85.761725\" xlink:href=\"#C0_0_9a0d8db78e\" y=\"212.359184\"/>\r\n    </g>\r\n    <g clip-path=\"url(#p40caf103f7)\">\r\n     <use style=\"fill:#440154;stroke:#440154;\" x=\"78.598067\" xlink:href=\"#C0_0_9a0d8db78e\" y=\"212.359184\"/>\r\n    </g>\r\n    <g clip-path=\"url(#p40caf103f7)\">\r\n     <use style=\"fill:#440154;stroke:#440154;\" x=\"75.65913\" xlink:href=\"#C0_0_9a0d8db78e\" y=\"217.363557\"/>\r\n    </g>\r\n    <g clip-path=\"url(#p40caf103f7)\">\r\n     <use style=\"fill:#440154;stroke:#440154;\" x=\"72.903877\" xlink:href=\"#C0_0_9a0d8db78e\" y=\"227.372302\"/>\r\n    </g>\r\n    <g clip-path=\"url(#p40caf103f7)\">\r\n     <use style=\"fill:#440154;stroke:#440154;\" x=\"70.699674\" xlink:href=\"#C0_0_9a0d8db78e\" y=\"212.359184\"/>\r\n    </g>\r\n    <g clip-path=\"url(#p40caf103f7)\">\r\n     <use style=\"fill:#440154;stroke:#440154;\" x=\"79.883851\" xlink:href=\"#C0_0_9a0d8db78e\" y=\"212.359184\"/>\r\n    </g>\r\n    <g clip-path=\"url(#p40caf103f7)\">\r\n     <use style=\"fill:#440154;stroke:#440154;\" x=\"77.128598\" xlink:href=\"#C0_0_9a0d8db78e\" y=\"209.856997\"/>\r\n    </g>\r\n    <g clip-path=\"url(#p40caf103f7)\">\r\n     <use style=\"fill:#440154;stroke:#440154;\" x=\"88.700662\" xlink:href=\"#C0_0_9a0d8db78e\" y=\"194.843879\"/>\r\n    </g>\r\n    <g clip-path=\"url(#p40caf103f7)\">\r\n     <use style=\"fill:#440154;stroke:#440154;\" x=\"73.638611\" xlink:href=\"#C0_0_9a0d8db78e\" y=\"224.870116\"/>\r\n    </g>\r\n    <g clip-path=\"url(#p40caf103f7)\">\r\n     <use style=\"fill:#440154;stroke:#440154;\" x=\"74.557029\" xlink:href=\"#C0_0_9a0d8db78e\" y=\"217.363557\"/>\r\n    </g>\r\n    <g clip-path=\"url(#p40caf103f7)\">\r\n     <use style=\"fill:#440154;stroke:#440154;\" x=\"76.21018\" xlink:href=\"#C0_0_9a0d8db78e\" y=\"219.865743\"/>\r\n    </g>\r\n    <g clip-path=\"url(#p40caf103f7)\">\r\n     <use style=\"fill:#440154;stroke:#440154;\" x=\"76.026497\" xlink:href=\"#C0_0_9a0d8db78e\" y=\"229.874489\"/>\r\n    </g>\r\n    <g clip-path=\"url(#p40caf103f7)\">\r\n     <use style=\"fill:#440154;stroke:#440154;\" x=\"76.577548\" xlink:href=\"#C0_0_9a0d8db78e\" y=\"229.874489\"/>\r\n    </g>\r\n    <g clip-path=\"url(#p40caf103f7)\">\r\n     <use style=\"fill:#440154;stroke:#440154;\" x=\"83.006472\" xlink:href=\"#C0_0_9a0d8db78e\" y=\"202.350438\"/>\r\n    </g>\r\n    <g clip-path=\"url(#p40caf103f7)\">\r\n     <use style=\"fill:#440154;stroke:#440154;\" x=\"76.761231\" xlink:href=\"#C0_0_9a0d8db78e\" y=\"217.363557\"/>\r\n    </g>\r\n    <g clip-path=\"url(#p40caf103f7)\">\r\n     <use style=\"fill:#440154;stroke:#440154;\" x=\"75.108079\" xlink:href=\"#C0_0_9a0d8db78e\" y=\"224.870116\"/>\r\n    </g>\r\n    <g clip-path=\"url(#p40caf103f7)\">\r\n     <use style=\"fill:#440154;stroke:#440154;\" x=\"77.128598\" xlink:href=\"#C0_0_9a0d8db78e\" y=\"224.870116\"/>\r\n    </g>\r\n    <g clip-path=\"url(#p40caf103f7)\">\r\n     <use style=\"fill:#440154;stroke:#440154;\" x=\"78.414383\" xlink:href=\"#C0_0_9a0d8db78e\" y=\"214.86137\"/>\r\n    </g>\r\n    <g clip-path=\"url(#p40caf103f7)\">\r\n     <use style=\"fill:#440154;stroke:#440154;\" x=\"72.169142\" xlink:href=\"#C0_0_9a0d8db78e\" y=\"204.852624\"/>\r\n    </g>\r\n    <g clip-path=\"url(#p40caf103f7)\">\r\n     <use style=\"fill:#440154;stroke:#440154;\" x=\"74.740712\" xlink:href=\"#C0_0_9a0d8db78e\" y=\"224.870116\"/>\r\n    </g>\r\n    <g clip-path=\"url(#p40caf103f7)\">\r\n     <use style=\"fill:#440154;stroke:#440154;\" x=\"76.393864\" xlink:href=\"#C0_0_9a0d8db78e\" y=\"212.359184\"/>\r\n    </g>\r\n    <g clip-path=\"url(#p40caf103f7)\">\r\n     <use style=\"fill:#440154;stroke:#440154;\" x=\"77.679649\" xlink:href=\"#C0_0_9a0d8db78e\" y=\"224.870116\"/>\r\n    </g>\r\n    <g clip-path=\"url(#p40caf103f7)\">\r\n     <use style=\"fill:#440154;stroke:#440154;\" x=\"74.924396\" xlink:href=\"#C0_0_9a0d8db78e\" y=\"217.363557\"/>\r\n    </g>\r\n    <g clip-path=\"url(#p40caf103f7)\">\r\n     <use style=\"fill:#440154;stroke:#440154;\" x=\"73.08756\" xlink:href=\"#C0_0_9a0d8db78e\" y=\"229.874489\"/>\r\n    </g>\r\n    <g clip-path=\"url(#p40caf103f7)\">\r\n     <use style=\"fill:#440154;stroke:#440154;\" x=\"78.230699\" xlink:href=\"#C0_0_9a0d8db78e\" y=\"207.354811\"/>\r\n    </g>\r\n    <g clip-path=\"url(#p40caf103f7)\">\r\n     <use style=\"fill:#440154;stroke:#440154;\" x=\"75.291763\" xlink:href=\"#C0_0_9a0d8db78e\" y=\"224.870116\"/>\r\n    </g>\r\n    <g clip-path=\"url(#p40caf103f7)\">\r\n     <use style=\"fill:#440154;stroke:#440154;\" x=\"82.088054\" xlink:href=\"#C0_0_9a0d8db78e\" y=\"177.328574\"/>\r\n    </g>\r\n    <g clip-path=\"url(#p40caf103f7)\">\r\n     <use style=\"fill:#440154;stroke:#440154;\" x=\"74.189661\" xlink:href=\"#C0_0_9a0d8db78e\" y=\"219.865743\"/>\r\n    </g>\r\n    <g clip-path=\"url(#p40caf103f7)\">\r\n     <use style=\"fill:#440154;stroke:#440154;\" x=\"68.495472\" xlink:href=\"#C0_0_9a0d8db78e\" y=\"224.870116\"/>\r\n    </g>\r\n    <g clip-path=\"url(#p40caf103f7)\">\r\n     <use style=\"fill:#440154;stroke:#440154;\" x=\"76.21018\" xlink:href=\"#C0_0_9a0d8db78e\" y=\"212.359184\"/>\r\n    </g>\r\n    <g clip-path=\"url(#p40caf103f7)\">\r\n     <use style=\"fill:#440154;stroke:#440154;\" x=\"74.189661\" xlink:href=\"#C0_0_9a0d8db78e\" y=\"209.856997\"/>\r\n    </g>\r\n    <g clip-path=\"url(#p40caf103f7)\">\r\n     <use style=\"fill:#440154;stroke:#440154;\" x=\"76.944915\" xlink:href=\"#C0_0_9a0d8db78e\" y=\"219.865743\"/>\r\n    </g>\r\n    <g clip-path=\"url(#p40caf103f7)\">\r\n     <use style=\"fill:#440154;stroke:#440154;\" x=\"77.495965\" xlink:href=\"#C0_0_9a0d8db78e\" y=\"187.337319\"/>\r\n    </g>\r\n    <g clip-path=\"url(#p40caf103f7)\">\r\n     <use style=\"fill:#440154;stroke:#440154;\" x=\"72.169142\" xlink:href=\"#C0_0_9a0d8db78e\" y=\"217.363557\"/>\r\n    </g>\r\n    <g clip-path=\"url(#p40caf103f7)\">\r\n     <use style=\"fill:#440154;stroke:#440154;\" x=\"75.291763\" xlink:href=\"#C0_0_9a0d8db78e\" y=\"214.86137\"/>\r\n    </g>\r\n    <g clip-path=\"url(#p40caf103f7)\">\r\n     <use style=\"fill:#440154;stroke:#440154;\" x=\"69.230206\" xlink:href=\"#C0_0_9a0d8db78e\" y=\"227.372302\"/>\r\n    </g>\r\n    <g clip-path=\"url(#p40caf103f7)\">\r\n     <use style=\"fill:#440154;stroke:#440154;\" x=\"72.352826\" xlink:href=\"#C0_0_9a0d8db78e\" y=\"222.367929\"/>\r\n    </g>\r\n    <g clip-path=\"url(#p40caf103f7)\">\r\n     <use style=\"fill:#440154;stroke:#440154;\" x=\"74.924396\" xlink:href=\"#C0_0_9a0d8db78e\" y=\"227.372302\"/>\r\n    </g>\r\n    <g clip-path=\"url(#p40caf103f7)\">\r\n     <use style=\"fill:#440154;stroke:#440154;\" x=\"69.597573\" xlink:href=\"#C0_0_9a0d8db78e\" y=\"229.874489\"/>\r\n    </g>\r\n    <g clip-path=\"url(#p40caf103f7)\">\r\n     <use style=\"fill:#440154;stroke:#440154;\" x=\"70.883358\" xlink:href=\"#C0_0_9a0d8db78e\" y=\"227.372302\"/>\r\n    </g>\r\n    <g clip-path=\"url(#p40caf103f7)\">\r\n     <use style=\"fill:#440154;stroke:#440154;\" x=\"71.801775\" xlink:href=\"#C0_0_9a0d8db78e\" y=\"219.865743\"/>\r\n    </g>\r\n    <g clip-path=\"url(#p40caf103f7)\">\r\n     <use style=\"fill:#440154;stroke:#440154;\" x=\"71.067041\" xlink:href=\"#C0_0_9a0d8db78e\" y=\"214.86137\"/>\r\n    </g>\r\n    <g clip-path=\"url(#p40caf103f7)\">\r\n     <use style=\"fill:#440154;stroke:#440154;\" x=\"69.781256\" xlink:href=\"#C0_0_9a0d8db78e\" y=\"224.870116\"/>\r\n    </g>\r\n    <g clip-path=\"url(#p40caf103f7)\">\r\n     <use style=\"fill:#440154;stroke:#440154;\" x=\"70.699674\" xlink:href=\"#C0_0_9a0d8db78e\" y=\"224.870116\"/>\r\n    </g>\r\n    <g clip-path=\"url(#p40caf103f7)\">\r\n     <use style=\"fill:#440154;stroke:#440154;\" x=\"73.454927\" xlink:href=\"#C0_0_9a0d8db78e\" y=\"224.870116\"/>\r\n    </g>\r\n    <g clip-path=\"url(#p40caf103f7)\">\r\n     <use style=\"fill:#440154;stroke:#440154;\" x=\"77.679649\" xlink:href=\"#C0_0_9a0d8db78e\" y=\"202.350438\"/>\r\n    </g>\r\n    <g clip-path=\"url(#p40caf103f7)\">\r\n     <use style=\"fill:#440154;stroke:#440154;\" x=\"78.598067\" xlink:href=\"#C0_0_9a0d8db78e\" y=\"184.835133\"/>\r\n    </g>\r\n    <g clip-path=\"url(#p40caf103f7)\">\r\n     <use style=\"fill:#440154;stroke:#440154;\" x=\"67.944421\" xlink:href=\"#C0_0_9a0d8db78e\" y=\"224.870116\"/>\r\n    </g>\r\n    <g clip-path=\"url(#p40caf103f7)\">\r\n     <use style=\"fill:#440154;stroke:#440154;\" x=\"65.740218\" xlink:href=\"#C0_0_9a0d8db78e\" y=\"222.367929\"/>\r\n    </g>\r\n    <g clip-path=\"url(#p40caf103f7)\">\r\n     <use style=\"fill:#440154;stroke:#440154;\" x=\"69.230206\" xlink:href=\"#C0_0_9a0d8db78e\" y=\"224.870116\"/>\r\n    </g>\r\n    <g clip-path=\"url(#p40caf103f7)\">\r\n     <use style=\"fill:#440154;stroke:#440154;\" x=\"66.291269\" xlink:href=\"#C0_0_9a0d8db78e\" y=\"229.874489\"/>\r\n    </g>\r\n    <g clip-path=\"url(#p40caf103f7)\">\r\n     <use style=\"fill:#440154;stroke:#440154;\" x=\"69.96494\" xlink:href=\"#C0_0_9a0d8db78e\" y=\"219.865743\"/>\r\n    </g>\r\n    <g clip-path=\"url(#p40caf103f7)\">\r\n     <use style=\"fill:#440154;stroke:#440154;\" x=\"71.434408\" xlink:href=\"#C0_0_9a0d8db78e\" y=\"219.865743\"/>\r\n    </g>\r\n    <g clip-path=\"url(#p40caf103f7)\">\r\n     <use style=\"fill:#440154;stroke:#440154;\" x=\"69.046522\" xlink:href=\"#C0_0_9a0d8db78e\" y=\"227.372302\"/>\r\n    </g>\r\n    <g clip-path=\"url(#p40caf103f7)\">\r\n     <use style=\"fill:#440154;stroke:#440154;\" x=\"71.067041\" xlink:href=\"#C0_0_9a0d8db78e\" y=\"204.852624\"/>\r\n    </g>\r\n    <g clip-path=\"url(#p40caf103f7)\">\r\n     <use style=\"fill:#440154;stroke:#440154;\" x=\"68.495472\" xlink:href=\"#C0_0_9a0d8db78e\" y=\"229.874489\"/>\r\n    </g>\r\n    <g clip-path=\"url(#p40caf103f7)\">\r\n     <use style=\"fill:#440154;stroke:#440154;\" x=\"69.96494\" xlink:href=\"#C0_0_9a0d8db78e\" y=\"214.86137\"/>\r\n    </g>\r\n    <g clip-path=\"url(#p40caf103f7)\">\r\n     <use style=\"fill:#440154;stroke:#440154;\" x=\"71.250725\" xlink:href=\"#C0_0_9a0d8db78e\" y=\"219.865743\"/>\r\n    </g>\r\n    <g clip-path=\"url(#p40caf103f7)\">\r\n     <use style=\"fill:#440154;stroke:#440154;\" x=\"67.577054\" xlink:href=\"#C0_0_9a0d8db78e\" y=\"229.874489\"/>\r\n    </g>\r\n    <g clip-path=\"url(#p40caf103f7)\">\r\n     <use style=\"fill:#440154;stroke:#440154;\" x=\"66.107585\" xlink:href=\"#C0_0_9a0d8db78e\" y=\"227.372302\"/>\r\n    </g>\r\n    <g clip-path=\"url(#p40caf103f7)\">\r\n     <use style=\"fill:#440154;stroke:#440154;\" x=\"69.96494\" xlink:href=\"#C0_0_9a0d8db78e\" y=\"227.372302\"/>\r\n    </g>\r\n    <g clip-path=\"url(#p40caf103f7)\">\r\n     <use style=\"fill:#440154;stroke:#440154;\" x=\"66.84232\" xlink:href=\"#C0_0_9a0d8db78e\" y=\"224.870116\"/>\r\n    </g>\r\n    <g clip-path=\"url(#p40caf103f7)\">\r\n     <use style=\"fill:#440154;stroke:#440154;\" x=\"68.679155\" xlink:href=\"#C0_0_9a0d8db78e\" y=\"199.848252\"/>\r\n    </g>\r\n    <g clip-path=\"url(#p40caf103f7)\">\r\n     <use style=\"fill:#440154;stroke:#440154;\" x=\"62.984965\" xlink:href=\"#C0_0_9a0d8db78e\" y=\"224.870116\"/>\r\n    </g>\r\n    <g clip-path=\"url(#p40caf103f7)\">\r\n     <use style=\"fill:#440154;stroke:#440154;\" x=\"67.39337\" xlink:href=\"#C0_0_9a0d8db78e\" y=\"219.865743\"/>\r\n    </g>\r\n    <g clip-path=\"url(#p40caf103f7)\">\r\n     <use style=\"fill:#440154;stroke:#440154;\" x=\"67.760737\" xlink:href=\"#C0_0_9a0d8db78e\" y=\"219.865743\"/>\r\n    </g>\r\n    <g clip-path=\"url(#p40caf103f7)\">\r\n     <use style=\"fill:#440154;stroke:#440154;\" x=\"62.250231\" xlink:href=\"#C0_0_9a0d8db78e\" y=\"227.372302\"/>\r\n    </g>\r\n    <g clip-path=\"url(#p40caf103f7)\">\r\n     <use style=\"fill:#440154;stroke:#440154;\" x=\"66.291269\" xlink:href=\"#C0_0_9a0d8db78e\" y=\"229.874489\"/>\r\n    </g>\r\n    <g clip-path=\"url(#p40caf103f7)\">\r\n     <use style=\"fill:#440154;stroke:#440154;\" x=\"65.372851\" xlink:href=\"#C0_0_9a0d8db78e\" y=\"229.874489\"/>\r\n    </g>\r\n    <g clip-path=\"url(#p40caf103f7)\">\r\n     <use style=\"fill:#440154;stroke:#440154;\" x=\"68.128104\" xlink:href=\"#C0_0_9a0d8db78e\" y=\"207.354811\"/>\r\n    </g>\r\n    <g clip-path=\"url(#p40caf103f7)\">\r\n     <use style=\"fill:#440154;stroke:#440154;\" x=\"67.026003\" xlink:href=\"#C0_0_9a0d8db78e\" y=\"227.372302\"/>\r\n    </g>\r\n    <g clip-path=\"url(#p40caf103f7)\">\r\n     <use style=\"fill:#440154;stroke:#440154;\" x=\"67.209687\" xlink:href=\"#C0_0_9a0d8db78e\" y=\"227.372302\"/>\r\n    </g>\r\n    <g clip-path=\"url(#p40caf103f7)\">\r\n     <use style=\"fill:#440154;stroke:#440154;\" x=\"69.413889\" xlink:href=\"#C0_0_9a0d8db78e\" y=\"217.363557\"/>\r\n    </g>\r\n    <g clip-path=\"url(#p40caf103f7)\">\r\n     <use style=\"fill:#440154;stroke:#440154;\" x=\"65.923902\" xlink:href=\"#C0_0_9a0d8db78e\" y=\"217.363557\"/>\r\n    </g>\r\n    <g clip-path=\"url(#p40caf103f7)\">\r\n     <use style=\"fill:#440154;stroke:#440154;\" x=\"65.923902\" xlink:href=\"#C0_0_9a0d8db78e\" y=\"222.367929\"/>\r\n    </g>\r\n    <g clip-path=\"url(#p40caf103f7)\">\r\n     <use style=\"fill:#440154;stroke:#440154;\" x=\"65.189168\" xlink:href=\"#C0_0_9a0d8db78e\" y=\"227.372302\"/>\r\n    </g>\r\n    <g clip-path=\"url(#p40caf103f7)\">\r\n     <use style=\"fill:#440154;stroke:#440154;\" x=\"66.474953\" xlink:href=\"#C0_0_9a0d8db78e\" y=\"227.372302\"/>\r\n    </g>\r\n    <g clip-path=\"url(#p40caf103f7)\">\r\n     <use style=\"fill:#440154;stroke:#440154;\" x=\"71.985459\" xlink:href=\"#C0_0_9a0d8db78e\" y=\"222.367929\"/>\r\n    </g>\r\n    <g clip-path=\"url(#p40caf103f7)\">\r\n     <use style=\"fill:#440154;stroke:#440154;\" x=\"64.087066\" xlink:href=\"#C0_0_9a0d8db78e\" y=\"224.870116\"/>\r\n    </g>\r\n    <g clip-path=\"url(#p40caf103f7)\">\r\n     <use style=\"fill:#440154;stroke:#440154;\" x=\"62.066547\" xlink:href=\"#C0_0_9a0d8db78e\" y=\"224.870116\"/>\r\n    </g>\r\n    <g clip-path=\"url(#p40caf103f7)\">\r\n     <use style=\"fill:#440154;stroke:#440154;\" x=\"63.536016\" xlink:href=\"#C0_0_9a0d8db78e\" y=\"227.372302\"/>\r\n    </g>\r\n    <g clip-path=\"url(#p40caf103f7)\">\r\n     <use style=\"fill:#440154;stroke:#440154;\" x=\"65.005484\" xlink:href=\"#C0_0_9a0d8db78e\" y=\"229.874489\"/>\r\n    </g>\r\n    <g clip-path=\"url(#p40caf103f7)\">\r\n     <use style=\"fill:#440154;stroke:#440154;\" x=\"60.413395\" xlink:href=\"#C0_0_9a0d8db78e\" y=\"227.372302\"/>\r\n    </g>\r\n    <g clip-path=\"url(#p40caf103f7)\">\r\n     <use style=\"fill:#440154;stroke:#440154;\" x=\"61.882864\" xlink:href=\"#C0_0_9a0d8db78e\" y=\"224.870116\"/>\r\n    </g>\r\n    <g clip-path=\"url(#p40caf103f7)\">\r\n     <use style=\"fill:#440154;stroke:#440154;\" x=\"64.27075\" xlink:href=\"#C0_0_9a0d8db78e\" y=\"224.870116\"/>\r\n    </g>\r\n    <g clip-path=\"url(#p40caf103f7)\">\r\n     <use style=\"fill:#440154;stroke:#440154;\" x=\"66.107585\" xlink:href=\"#C0_0_9a0d8db78e\" y=\"212.359184\"/>\r\n    </g>\r\n    <g clip-path=\"url(#p40caf103f7)\">\r\n     <use style=\"fill:#440154;stroke:#440154;\" x=\"60.780763\" xlink:href=\"#C0_0_9a0d8db78e\" y=\"222.367929\"/>\r\n    </g>\r\n    <g clip-path=\"url(#p40caf103f7)\">\r\n     <use style=\"fill:#440154;stroke:#440154;\" x=\"62.066547\" xlink:href=\"#C0_0_9a0d8db78e\" y=\"224.870116\"/>\r\n    </g>\r\n    <g clip-path=\"url(#p40caf103f7)\">\r\n     <use style=\"fill:#440154;stroke:#440154;\" x=\"62.250231\" xlink:href=\"#C0_0_9a0d8db78e\" y=\"227.372302\"/>\r\n    </g>\r\n    <g clip-path=\"url(#p40caf103f7)\">\r\n     <use style=\"fill:#440154;stroke:#440154;\" x=\"65.372851\" xlink:href=\"#C0_0_9a0d8db78e\" y=\"214.86137\"/>\r\n    </g>\r\n    <g clip-path=\"url(#p40caf103f7)\">\r\n     <use style=\"fill:#440154;stroke:#440154;\" x=\"63.168649\" xlink:href=\"#C0_0_9a0d8db78e\" y=\"222.367929\"/>\r\n    </g>\r\n    <g clip-path=\"url(#p40caf103f7)\">\r\n     <use style=\"fill:#440154;stroke:#440154;\" x=\"64.821801\" xlink:href=\"#C0_0_9a0d8db78e\" y=\"222.367929\"/>\r\n    </g>\r\n    <g clip-path=\"url(#p40caf103f7)\">\r\n     <use style=\"fill:#440154;stroke:#440154;\" x=\"65.556535\" xlink:href=\"#C0_0_9a0d8db78e\" y=\"227.372302\"/>\r\n    </g>\r\n    <g clip-path=\"url(#p40caf103f7)\">\r\n     <use style=\"fill:#440154;stroke:#440154;\" x=\"62.617598\" xlink:href=\"#C0_0_9a0d8db78e\" y=\"224.870116\"/>\r\n    </g>\r\n    <g clip-path=\"url(#p40caf103f7)\">\r\n     <use style=\"fill:#440154;stroke:#440154;\" x=\"64.638117\" xlink:href=\"#C0_0_9a0d8db78e\" y=\"219.865743\"/>\r\n    </g>\r\n    <g clip-path=\"url(#p40caf103f7)\">\r\n     <use style=\"fill:#440154;stroke:#440154;\" x=\"61.331813\" xlink:href=\"#C0_0_9a0d8db78e\" y=\"229.874489\"/>\r\n    </g>\r\n    <g clip-path=\"url(#p40caf103f7)\">\r\n     <use style=\"fill:#440154;stroke:#440154;\" x=\"62.066547\" xlink:href=\"#C0_0_9a0d8db78e\" y=\"229.874489\"/>\r\n    </g>\r\n    <g clip-path=\"url(#p40caf103f7)\">\r\n     <use style=\"fill:#440154;stroke:#440154;\" x=\"62.433914\" xlink:href=\"#C0_0_9a0d8db78e\" y=\"227.372302\"/>\r\n    </g>\r\n    <g clip-path=\"url(#p40caf103f7)\">\r\n     <use style=\"fill:#440154;stroke:#440154;\" x=\"59.311294\" xlink:href=\"#C0_0_9a0d8db78e\" y=\"229.874489\"/>\r\n    </g>\r\n    <g clip-path=\"url(#p40caf103f7)\">\r\n     <use style=\"fill:#440154;stroke:#440154;\" x=\"61.515497\" xlink:href=\"#C0_0_9a0d8db78e\" y=\"222.367929\"/>\r\n    </g>\r\n    <g clip-path=\"url(#p40caf103f7)\">\r\n     <use style=\"fill:#440154;stroke:#440154;\" x=\"62.801282\" xlink:href=\"#C0_0_9a0d8db78e\" y=\"222.367929\"/>\r\n    </g>\r\n    <g clip-path=\"url(#p40caf103f7)\">\r\n     <use style=\"fill:#440154;stroke:#440154;\" x=\"64.821801\" xlink:href=\"#C0_0_9a0d8db78e\" y=\"222.367929\"/>\r\n    </g>\r\n    <g clip-path=\"url(#p40caf103f7)\">\r\n     <use style=\"fill:#440154;stroke:#440154;\" x=\"61.882864\" xlink:href=\"#C0_0_9a0d8db78e\" y=\"224.870116\"/>\r\n    </g>\r\n    <g clip-path=\"url(#p40caf103f7)\">\r\n     <use style=\"fill:#440154;stroke:#440154;\" x=\"64.638117\" xlink:href=\"#C0_0_9a0d8db78e\" y=\"227.372302\"/>\r\n    </g>\r\n    <g clip-path=\"url(#p40caf103f7)\">\r\n     <use style=\"fill:#440154;stroke:#440154;\" x=\"63.719699\" xlink:href=\"#C0_0_9a0d8db78e\" y=\"227.372302\"/>\r\n    </g>\r\n    <g clip-path=\"url(#p40caf103f7)\">\r\n     <use style=\"fill:#440154;stroke:#440154;\" x=\"61.515497\" xlink:href=\"#C0_0_9a0d8db78e\" y=\"224.870116\"/>\r\n    </g>\r\n    <g clip-path=\"url(#p40caf103f7)\">\r\n     <use style=\"fill:#440154;stroke:#440154;\" x=\"61.331813\" xlink:href=\"#C0_0_9a0d8db78e\" y=\"229.874489\"/>\r\n    </g>\r\n    <g clip-path=\"url(#p40caf103f7)\">\r\n     <use style=\"fill:#440154;stroke:#440154;\" x=\"62.617598\" xlink:href=\"#C0_0_9a0d8db78e\" y=\"229.874489\"/>\r\n    </g>\r\n    <g clip-path=\"url(#p40caf103f7)\">\r\n     <use style=\"fill:#440154;stroke:#440154;\" x=\"62.617598\" xlink:href=\"#C0_0_9a0d8db78e\" y=\"224.870116\"/>\r\n    </g>\r\n    <g clip-path=\"url(#p40caf103f7)\">\r\n     <use style=\"fill:#440154;stroke:#440154;\" x=\"62.984965\" xlink:href=\"#C0_0_9a0d8db78e\" y=\"227.372302\"/>\r\n    </g>\r\n    <g clip-path=\"url(#p40caf103f7)\">\r\n     <use style=\"fill:#440154;stroke:#440154;\" x=\"59.862345\" xlink:href=\"#C0_0_9a0d8db78e\" y=\"227.372302\"/>\r\n    </g>\r\n    <g clip-path=\"url(#p40caf103f7)\">\r\n     <use style=\"fill:#440154;stroke:#440154;\" x=\"64.638117\" xlink:href=\"#C0_0_9a0d8db78e\" y=\"224.870116\"/>\r\n    </g>\r\n    <g clip-path=\"url(#p40caf103f7)\">\r\n     <use style=\"fill:#440154;stroke:#440154;\" x=\"59.862345\" xlink:href=\"#C0_0_9a0d8db78e\" y=\"229.874489\"/>\r\n    </g>\r\n    <g clip-path=\"url(#p40caf103f7)\">\r\n     <use style=\"fill:#440154;stroke:#440154;\" x=\"62.433914\" xlink:href=\"#C0_0_9a0d8db78e\" y=\"224.870116\"/>\r\n    </g>\r\n    <g clip-path=\"url(#p40caf103f7)\">\r\n     <use style=\"fill:#440154;stroke:#440154;\" x=\"59.494978\" xlink:href=\"#C0_0_9a0d8db78e\" y=\"229.874489\"/>\r\n    </g>\r\n    <g clip-path=\"url(#p40caf103f7)\">\r\n     <use style=\"fill:#440154;stroke:#440154;\" x=\"58.760244\" xlink:href=\"#C0_0_9a0d8db78e\" y=\"229.874489\"/>\r\n    </g>\r\n    <g clip-path=\"url(#p40caf103f7)\">\r\n     <use style=\"fill:#440154;stroke:#440154;\" x=\"60.964446\" xlink:href=\"#C0_0_9a0d8db78e\" y=\"229.874489\"/>\r\n    </g>\r\n    <g clip-path=\"url(#p40caf103f7)\">\r\n     <use style=\"fill:#440154;stroke:#440154;\" x=\"60.046028\" xlink:href=\"#C0_0_9a0d8db78e\" y=\"229.874489\"/>\r\n    </g>\r\n    <g clip-path=\"url(#p40caf103f7)\">\r\n     <use style=\"fill:#440154;stroke:#440154;\" x=\"71.801775\" xlink:href=\"#C0_0_9a0d8db78e\" y=\"192.341692\"/>\r\n    </g>\r\n    <g clip-path=\"url(#p40caf103f7)\">\r\n     <use style=\"fill:#440154;stroke:#440154;\" x=\"59.311294\" xlink:href=\"#C0_0_9a0d8db78e\" y=\"229.874489\"/>\r\n    </g>\r\n    <g clip-path=\"url(#p40caf103f7)\">\r\n     <use style=\"fill:#440154;stroke:#440154;\" x=\"62.250231\" xlink:href=\"#C0_0_9a0d8db78e\" y=\"229.874489\"/>\r\n    </g>\r\n    <g clip-path=\"url(#p40caf103f7)\">\r\n     <use style=\"fill:#440154;stroke:#440154;\" x=\"59.494978\" xlink:href=\"#C0_0_9a0d8db78e\" y=\"229.874489\"/>\r\n    </g>\r\n    <g clip-path=\"url(#p40caf103f7)\">\r\n     <use style=\"fill:#440154;stroke:#440154;\" x=\"58.760244\" xlink:href=\"#C0_0_9a0d8db78e\" y=\"227.372302\"/>\r\n    </g>\r\n    <g clip-path=\"url(#p40caf103f7)\">\r\n     <use style=\"fill:#440154;stroke:#440154;\" x=\"60.964446\" xlink:href=\"#C0_0_9a0d8db78e\" y=\"229.874489\"/>\r\n    </g>\r\n    <g clip-path=\"url(#p40caf103f7)\">\r\n     <use style=\"fill:#440154;stroke:#440154;\" x=\"60.780763\" xlink:href=\"#C0_0_9a0d8db78e\" y=\"229.874489\"/>\r\n    </g>\r\n    <g clip-path=\"url(#p40caf103f7)\">\r\n     <use style=\"fill:#440154;stroke:#440154;\" x=\"59.862345\" xlink:href=\"#C0_0_9a0d8db78e\" y=\"214.86137\"/>\r\n    </g>\r\n    <g clip-path=\"url(#p40caf103f7)\">\r\n     <use style=\"fill:#440154;stroke:#440154;\" x=\"58.392876\" xlink:href=\"#C0_0_9a0d8db78e\" y=\"222.367929\"/>\r\n    </g>\r\n    <g clip-path=\"url(#p40caf103f7)\">\r\n     <use style=\"fill:#440154;stroke:#440154;\" x=\"60.413395\" xlink:href=\"#C0_0_9a0d8db78e\" y=\"222.367929\"/>\r\n    </g>\r\n    <g clip-path=\"url(#p40caf103f7)\">\r\n     <use style=\"fill:#440154;stroke:#440154;\" x=\"60.780763\" xlink:href=\"#C0_0_9a0d8db78e\" y=\"227.372302\"/>\r\n    </g>\r\n    <g clip-path=\"url(#p40caf103f7)\">\r\n     <use style=\"fill:#440154;stroke:#440154;\" x=\"61.331813\" xlink:href=\"#C0_0_9a0d8db78e\" y=\"222.367929\"/>\r\n    </g>\r\n    <g clip-path=\"url(#p40caf103f7)\">\r\n     <use style=\"fill:#440154;stroke:#440154;\" x=\"61.14813\" xlink:href=\"#C0_0_9a0d8db78e\" y=\"219.865743\"/>\r\n    </g>\r\n    <g clip-path=\"url(#p40caf103f7)\">\r\n     <use style=\"fill:#440154;stroke:#440154;\" x=\"62.433914\" xlink:href=\"#C0_0_9a0d8db78e\" y=\"227.372302\"/>\r\n    </g>\r\n    <g clip-path=\"url(#p40caf103f7)\">\r\n     <use style=\"fill:#440154;stroke:#440154;\" x=\"58.943927\" xlink:href=\"#C0_0_9a0d8db78e\" y=\"227.372302\"/>\r\n    </g>\r\n    <g clip-path=\"url(#p40caf103f7)\">\r\n     <use style=\"fill:#440154;stroke:#440154;\" x=\"67.209687\" xlink:href=\"#C0_0_9a0d8db78e\" y=\"217.363557\"/>\r\n    </g>\r\n    <g clip-path=\"url(#p40caf103f7)\">\r\n     <use style=\"fill:#440154;stroke:#440154;\" x=\"58.943927\" xlink:href=\"#C0_0_9a0d8db78e\" y=\"222.367929\"/>\r\n    </g>\r\n    <g clip-path=\"url(#p40caf103f7)\">\r\n     <use style=\"fill:#440154;stroke:#440154;\" x=\"59.678661\" xlink:href=\"#C0_0_9a0d8db78e\" y=\"214.86137\"/>\r\n    </g>\r\n    <g clip-path=\"url(#p40caf103f7)\">\r\n     <use style=\"fill:#440154;stroke:#440154;\" x=\"62.617598\" xlink:href=\"#C0_0_9a0d8db78e\" y=\"222.367929\"/>\r\n    </g>\r\n    <g clip-path=\"url(#p40caf103f7)\">\r\n     <use style=\"fill:#440154;stroke:#440154;\" x=\"62.066547\" xlink:href=\"#C0_0_9a0d8db78e\" y=\"219.865743\"/>\r\n    </g>\r\n    <g clip-path=\"url(#p40caf103f7)\">\r\n     <use style=\"fill:#440154;stroke:#440154;\" x=\"60.597079\" xlink:href=\"#C0_0_9a0d8db78e\" y=\"227.372302\"/>\r\n    </g>\r\n    <g clip-path=\"url(#p40caf103f7)\">\r\n     <use style=\"fill:#440154;stroke:#440154;\" x=\"58.943927\" xlink:href=\"#C0_0_9a0d8db78e\" y=\"222.367929\"/>\r\n    </g>\r\n    <g clip-path=\"url(#p40caf103f7)\">\r\n     <use style=\"fill:#440154;stroke:#440154;\" x=\"61.331813\" xlink:href=\"#C0_0_9a0d8db78e\" y=\"222.367929\"/>\r\n    </g>\r\n    <g clip-path=\"url(#p40caf103f7)\">\r\n     <use style=\"fill:#440154;stroke:#440154;\" x=\"60.413395\" xlink:href=\"#C0_0_9a0d8db78e\" y=\"229.874489\"/>\r\n    </g>\r\n    <g clip-path=\"url(#p40caf103f7)\">\r\n     <use style=\"fill:#440154;stroke:#440154;\" x=\"56.372357\" xlink:href=\"#C0_0_9a0d8db78e\" y=\"224.870116\"/>\r\n    </g>\r\n    <g clip-path=\"url(#p40caf103f7)\">\r\n     <use style=\"fill:#440154;stroke:#440154;\" x=\"59.311294\" xlink:href=\"#C0_0_9a0d8db78e\" y=\"229.874489\"/>\r\n    </g>\r\n    <g clip-path=\"url(#p40caf103f7)\">\r\n     <use style=\"fill:#440154;stroke:#440154;\" x=\"60.964446\" xlink:href=\"#C0_0_9a0d8db78e\" y=\"229.874489\"/>\r\n    </g>\r\n    <g clip-path=\"url(#p40caf103f7)\">\r\n     <use style=\"fill:#440154;stroke:#440154;\" x=\"57.658142\" xlink:href=\"#C0_0_9a0d8db78e\" y=\"222.367929\"/>\r\n    </g>\r\n    <g clip-path=\"url(#p40caf103f7)\">\r\n     <use style=\"fill:#440154;stroke:#440154;\" x=\"87.414877\" xlink:href=\"#C0_0_9a0d8db78e\" y=\"202.350438\"/>\r\n    </g>\r\n    <g clip-path=\"url(#p40caf103f7)\">\r\n     <use style=\"fill:#440154;stroke:#440154;\" x=\"56.739725\" xlink:href=\"#C0_0_9a0d8db78e\" y=\"227.372302\"/>\r\n    </g>\r\n    <g clip-path=\"url(#p40caf103f7)\">\r\n     <use style=\"fill:#440154;stroke:#440154;\" x=\"59.127611\" xlink:href=\"#C0_0_9a0d8db78e\" y=\"229.874489\"/>\r\n    </g>\r\n    <g clip-path=\"url(#p40caf103f7)\">\r\n     <use style=\"fill:#440154;stroke:#440154;\" x=\"58.025509\" xlink:href=\"#C0_0_9a0d8db78e\" y=\"217.363557\"/>\r\n    </g>\r\n    <g clip-path=\"url(#p40caf103f7)\">\r\n     <use style=\"fill:#440154;stroke:#440154;\" x=\"60.964446\" xlink:href=\"#C0_0_9a0d8db78e\" y=\"224.870116\"/>\r\n    </g>\r\n    <g clip-path=\"url(#p40caf103f7)\">\r\n     <use style=\"fill:#440154;stroke:#440154;\" x=\"60.413395\" xlink:href=\"#C0_0_9a0d8db78e\" y=\"229.874489\"/>\r\n    </g>\r\n    <g clip-path=\"url(#p40caf103f7)\">\r\n     <use style=\"fill:#440154;stroke:#440154;\" x=\"56.923408\" xlink:href=\"#C0_0_9a0d8db78e\" y=\"229.874489\"/>\r\n    </g>\r\n    <g clip-path=\"url(#p40caf103f7)\">\r\n     <use style=\"fill:#440154;stroke:#440154;\" x=\"59.862345\" xlink:href=\"#C0_0_9a0d8db78e\" y=\"227.372302\"/>\r\n    </g>\r\n    <g clip-path=\"url(#p40caf103f7)\">\r\n     <use style=\"fill:#440154;stroke:#440154;\" x=\"58.57656\" xlink:href=\"#C0_0_9a0d8db78e\" y=\"227.372302\"/>\r\n    </g>\r\n    <g clip-path=\"url(#p40caf103f7)\">\r\n     <use style=\"fill:#440154;stroke:#440154;\" x=\"59.311294\" xlink:href=\"#C0_0_9a0d8db78e\" y=\"229.874489\"/>\r\n    </g>\r\n    <g clip-path=\"url(#p40caf103f7)\">\r\n     <use style=\"fill:#440154;stroke:#440154;\" x=\"59.311294\" xlink:href=\"#C0_0_9a0d8db78e\" y=\"229.874489\"/>\r\n    </g>\r\n    <g clip-path=\"url(#p40caf103f7)\">\r\n     <use style=\"fill:#440154;stroke:#440154;\" x=\"59.311294\" xlink:href=\"#C0_0_9a0d8db78e\" y=\"229.874489\"/>\r\n    </g>\r\n    <g clip-path=\"url(#p40caf103f7)\">\r\n     <use style=\"fill:#440154;stroke:#440154;\" x=\"58.57656\" xlink:href=\"#C0_0_9a0d8db78e\" y=\"229.874489\"/>\r\n    </g>\r\n    <g clip-path=\"url(#p40caf103f7)\">\r\n     <use style=\"fill:#440154;stroke:#440154;\" x=\"58.025509\" xlink:href=\"#C0_0_9a0d8db78e\" y=\"229.874489\"/>\r\n    </g>\r\n    <g clip-path=\"url(#p40caf103f7)\">\r\n     <use style=\"fill:#440154;stroke:#440154;\" x=\"57.107092\" xlink:href=\"#C0_0_9a0d8db78e\" y=\"227.372302\"/>\r\n    </g>\r\n    <g clip-path=\"url(#p40caf103f7)\">\r\n     <use style=\"fill:#440154;stroke:#440154;\" x=\"57.841826\" xlink:href=\"#C0_0_9a0d8db78e\" y=\"229.874489\"/>\r\n    </g>\r\n    <g clip-path=\"url(#p40caf103f7)\">\r\n     <use style=\"fill:#440154;stroke:#440154;\" x=\"58.57656\" xlink:href=\"#C0_0_9a0d8db78e\" y=\"227.372302\"/>\r\n    </g>\r\n    <g clip-path=\"url(#p40caf103f7)\">\r\n     <use style=\"fill:#440154;stroke:#440154;\" x=\"58.209193\" xlink:href=\"#C0_0_9a0d8db78e\" y=\"229.874489\"/>\r\n    </g>\r\n    <g clip-path=\"url(#p40caf103f7)\">\r\n     <use style=\"fill:#440154;stroke:#440154;\" x=\"59.678661\" xlink:href=\"#C0_0_9a0d8db78e\" y=\"222.367929\"/>\r\n    </g>\r\n    <g clip-path=\"url(#p40caf103f7)\">\r\n     <use style=\"fill:#440154;stroke:#440154;\" x=\"57.841826\" xlink:href=\"#C0_0_9a0d8db78e\" y=\"229.874489\"/>\r\n    </g>\r\n    <g clip-path=\"url(#p40caf103f7)\">\r\n     <use style=\"fill:#440154;stroke:#440154;\" x=\"58.943927\" xlink:href=\"#C0_0_9a0d8db78e\" y=\"224.870116\"/>\r\n    </g>\r\n    <g clip-path=\"url(#p40caf103f7)\">\r\n     <use style=\"fill:#440154;stroke:#440154;\" x=\"57.290775\" xlink:href=\"#C0_0_9a0d8db78e\" y=\"229.874489\"/>\r\n    </g>\r\n    <g clip-path=\"url(#p40caf103f7)\">\r\n     <use style=\"fill:#440154;stroke:#440154;\" x=\"57.841826\" xlink:href=\"#C0_0_9a0d8db78e\" y=\"229.874489\"/>\r\n    </g>\r\n    <g clip-path=\"url(#p40caf103f7)\">\r\n     <use style=\"fill:#440154;stroke:#440154;\" x=\"58.760244\" xlink:href=\"#C0_0_9a0d8db78e\" y=\"229.874489\"/>\r\n    </g>\r\n    <g clip-path=\"url(#p40caf103f7)\">\r\n     <use style=\"fill:#440154;stroke:#440154;\" x=\"60.597079\" xlink:href=\"#C0_0_9a0d8db78e\" y=\"229.874489\"/>\r\n    </g>\r\n    <g clip-path=\"url(#p40caf103f7)\">\r\n     <use style=\"fill:#440154;stroke:#440154;\" x=\"58.025509\" xlink:href=\"#C0_0_9a0d8db78e\" y=\"229.874489\"/>\r\n    </g>\r\n    <g clip-path=\"url(#p40caf103f7)\">\r\n     <use style=\"fill:#440154;stroke:#440154;\" x=\"56.556041\" xlink:href=\"#C0_0_9a0d8db78e\" y=\"227.372302\"/>\r\n    </g>\r\n    <g clip-path=\"url(#p40caf103f7)\">\r\n     <use style=\"fill:#440154;stroke:#440154;\" x=\"56.556041\" xlink:href=\"#C0_0_9a0d8db78e\" y=\"224.870116\"/>\r\n    </g>\r\n    <g clip-path=\"url(#p40caf103f7)\">\r\n     <use style=\"fill:#440154;stroke:#440154;\" x=\"57.658142\" xlink:href=\"#C0_0_9a0d8db78e\" y=\"227.372302\"/>\r\n    </g>\r\n    <g clip-path=\"url(#p40caf103f7)\">\r\n     <use style=\"fill:#440154;stroke:#440154;\" x=\"59.311294\" xlink:href=\"#C0_0_9a0d8db78e\" y=\"224.870116\"/>\r\n    </g>\r\n    <g clip-path=\"url(#p40caf103f7)\">\r\n     <use style=\"fill:#440154;stroke:#440154;\" x=\"57.841826\" xlink:href=\"#C0_0_9a0d8db78e\" y=\"229.874489\"/>\r\n    </g>\r\n    <g clip-path=\"url(#p40caf103f7)\">\r\n     <use style=\"fill:#440154;stroke:#440154;\" x=\"60.413395\" xlink:href=\"#C0_0_9a0d8db78e\" y=\"229.874489\"/>\r\n    </g>\r\n    <g clip-path=\"url(#p40caf103f7)\">\r\n     <use style=\"fill:#440154;stroke:#440154;\" x=\"60.597079\" xlink:href=\"#C0_0_9a0d8db78e\" y=\"229.874489\"/>\r\n    </g>\r\n    <g clip-path=\"url(#p40caf103f7)\">\r\n     <use style=\"fill:#440154;stroke:#440154;\" x=\"62.617598\" xlink:href=\"#C0_0_9a0d8db78e\" y=\"222.367929\"/>\r\n    </g>\r\n    <g clip-path=\"url(#p40caf103f7)\">\r\n     <use style=\"fill:#440154;stroke:#440154;\" x=\"60.229712\" xlink:href=\"#C0_0_9a0d8db78e\" y=\"229.874489\"/>\r\n    </g>\r\n    <g clip-path=\"url(#p40caf103f7)\">\r\n     <use style=\"fill:#440154;stroke:#440154;\" x=\"57.841826\" xlink:href=\"#C0_0_9a0d8db78e\" y=\"229.874489\"/>\r\n    </g>\r\n    <g clip-path=\"url(#p40caf103f7)\">\r\n     <use style=\"fill:#440154;stroke:#440154;\" x=\"59.127611\" xlink:href=\"#C0_0_9a0d8db78e\" y=\"229.874489\"/>\r\n    </g>\r\n    <g clip-path=\"url(#p40caf103f7)\">\r\n     <use style=\"fill:#440154;stroke:#440154;\" x=\"59.678661\" xlink:href=\"#C0_0_9a0d8db78e\" y=\"224.870116\"/>\r\n    </g>\r\n    <g clip-path=\"url(#p40caf103f7)\">\r\n     <use style=\"fill:#440154;stroke:#440154;\" x=\"62.617598\" xlink:href=\"#C0_0_9a0d8db78e\" y=\"229.874489\"/>\r\n    </g>\r\n    <g clip-path=\"url(#p40caf103f7)\">\r\n     <use style=\"fill:#440154;stroke:#440154;\" x=\"56.372357\" xlink:href=\"#C0_0_9a0d8db78e\" y=\"229.874489\"/>\r\n    </g>\r\n    <g clip-path=\"url(#p40caf103f7)\">\r\n     <use style=\"fill:#440154;stroke:#440154;\" x=\"61.69918\" xlink:href=\"#C0_0_9a0d8db78e\" y=\"229.874489\"/>\r\n    </g>\r\n    <g clip-path=\"url(#p40caf103f7)\">\r\n     <use style=\"fill:#440154;stroke:#440154;\" x=\"61.331813\" xlink:href=\"#C0_0_9a0d8db78e\" y=\"222.367929\"/>\r\n    </g>\r\n    <g clip-path=\"url(#p40caf103f7)\">\r\n     <use style=\"fill:#440154;stroke:#440154;\" x=\"61.331813\" xlink:href=\"#C0_0_9a0d8db78e\" y=\"219.865743\"/>\r\n    </g>\r\n    <g clip-path=\"url(#p40caf103f7)\">\r\n     <use style=\"fill:#440154;stroke:#440154;\" x=\"59.127611\" xlink:href=\"#C0_0_9a0d8db78e\" y=\"229.874489\"/>\r\n    </g>\r\n    <g clip-path=\"url(#p40caf103f7)\">\r\n     <use style=\"fill:#440154;stroke:#440154;\" x=\"60.229712\" xlink:href=\"#C0_0_9a0d8db78e\" y=\"224.870116\"/>\r\n    </g>\r\n    <g clip-path=\"url(#p40caf103f7)\">\r\n     <use style=\"fill:#440154;stroke:#440154;\" x=\"62.433914\" xlink:href=\"#C0_0_9a0d8db78e\" y=\"229.874489\"/>\r\n    </g>\r\n    <g clip-path=\"url(#p40caf103f7)\">\r\n     <use style=\"fill:#440154;stroke:#440154;\" x=\"58.392876\" xlink:href=\"#C0_0_9a0d8db78e\" y=\"229.874489\"/>\r\n    </g>\r\n    <g clip-path=\"url(#p40caf103f7)\">\r\n     <use style=\"fill:#440154;stroke:#440154;\" x=\"62.617598\" xlink:href=\"#C0_0_9a0d8db78e\" y=\"219.865743\"/>\r\n    </g>\r\n    <g clip-path=\"url(#p40caf103f7)\">\r\n     <use style=\"fill:#440154;stroke:#440154;\" x=\"58.392876\" xlink:href=\"#C0_0_9a0d8db78e\" y=\"224.870116\"/>\r\n    </g>\r\n    <g clip-path=\"url(#p40caf103f7)\">\r\n     <use style=\"fill:#440154;stroke:#440154;\" x=\"59.678661\" xlink:href=\"#C0_0_9a0d8db78e\" y=\"217.363557\"/>\r\n    </g>\r\n    <g clip-path=\"url(#p40caf103f7)\">\r\n     <use style=\"fill:#440154;stroke:#440154;\" x=\"59.311294\" xlink:href=\"#C0_0_9a0d8db78e\" y=\"229.874489\"/>\r\n    </g>\r\n    <g clip-path=\"url(#p40caf103f7)\">\r\n     <use style=\"fill:#440154;stroke:#440154;\" x=\"59.862345\" xlink:href=\"#C0_0_9a0d8db78e\" y=\"229.874489\"/>\r\n    </g>\r\n    <g clip-path=\"url(#p40caf103f7)\">\r\n     <use style=\"fill:#440154;stroke:#440154;\" x=\"60.046028\" xlink:href=\"#C0_0_9a0d8db78e\" y=\"219.865743\"/>\r\n    </g>\r\n    <g clip-path=\"url(#p40caf103f7)\">\r\n     <use style=\"fill:#440154;stroke:#440154;\" x=\"59.862345\" xlink:href=\"#C0_0_9a0d8db78e\" y=\"229.874489\"/>\r\n    </g>\r\n    <g clip-path=\"url(#p40caf103f7)\">\r\n     <use style=\"fill:#440154;stroke:#440154;\" x=\"59.311294\" xlink:href=\"#C0_0_9a0d8db78e\" y=\"227.372302\"/>\r\n    </g>\r\n    <g clip-path=\"url(#p40caf103f7)\">\r\n     <use style=\"fill:#440154;stroke:#440154;\" x=\"60.046028\" xlink:href=\"#C0_0_9a0d8db78e\" y=\"229.874489\"/>\r\n    </g>\r\n    <g clip-path=\"url(#p40caf103f7)\">\r\n     <use style=\"fill:#440154;stroke:#440154;\" x=\"58.57656\" xlink:href=\"#C0_0_9a0d8db78e\" y=\"219.865743\"/>\r\n    </g>\r\n    <g clip-path=\"url(#p40caf103f7)\">\r\n     <use style=\"fill:#440154;stroke:#440154;\" x=\"60.597079\" xlink:href=\"#C0_0_9a0d8db78e\" y=\"202.350438\"/>\r\n    </g>\r\n    <g clip-path=\"url(#p40caf103f7)\">\r\n     <use style=\"fill:#440154;stroke:#440154;\" x=\"60.413395\" xlink:href=\"#C0_0_9a0d8db78e\" y=\"214.86137\"/>\r\n    </g>\r\n    <g clip-path=\"url(#p40caf103f7)\">\r\n     <use style=\"fill:#440154;stroke:#440154;\" x=\"61.515497\" xlink:href=\"#C0_0_9a0d8db78e\" y=\"229.874489\"/>\r\n    </g>\r\n    <g clip-path=\"url(#p40caf103f7)\">\r\n     <use style=\"fill:#440154;stroke:#440154;\" x=\"60.413395\" xlink:href=\"#C0_0_9a0d8db78e\" y=\"222.367929\"/>\r\n    </g>\r\n    <g clip-path=\"url(#p40caf103f7)\">\r\n     <use style=\"fill:#440154;stroke:#440154;\" x=\"57.474459\" xlink:href=\"#C0_0_9a0d8db78e\" y=\"219.865743\"/>\r\n    </g>\r\n    <g clip-path=\"url(#p40caf103f7)\">\r\n     <use style=\"fill:#440154;stroke:#440154;\" x=\"58.943927\" xlink:href=\"#C0_0_9a0d8db78e\" y=\"229.874489\"/>\r\n    </g>\r\n    <g clip-path=\"url(#p40caf103f7)\">\r\n     <use style=\"fill:#440154;stroke:#440154;\" x=\"60.229712\" xlink:href=\"#C0_0_9a0d8db78e\" y=\"229.874489\"/>\r\n    </g>\r\n    <g clip-path=\"url(#p40caf103f7)\">\r\n     <use style=\"fill:#440154;stroke:#440154;\" x=\"59.127611\" xlink:href=\"#C0_0_9a0d8db78e\" y=\"229.874489\"/>\r\n    </g>\r\n    <g clip-path=\"url(#p40caf103f7)\">\r\n     <use style=\"fill:#440154;stroke:#440154;\" x=\"58.57656\" xlink:href=\"#C0_0_9a0d8db78e\" y=\"229.874489\"/>\r\n    </g>\r\n    <g clip-path=\"url(#p40caf103f7)\">\r\n     <use style=\"fill:#440154;stroke:#440154;\" x=\"58.943927\" xlink:href=\"#C0_0_9a0d8db78e\" y=\"219.865743\"/>\r\n    </g>\r\n    <g clip-path=\"url(#p40caf103f7)\">\r\n     <use style=\"fill:#440154;stroke:#440154;\" x=\"56.372357\" xlink:href=\"#C0_0_9a0d8db78e\" y=\"229.874489\"/>\r\n    </g>\r\n    <g clip-path=\"url(#p40caf103f7)\">\r\n     <use style=\"fill:#440154;stroke:#440154;\" x=\"57.290775\" xlink:href=\"#C0_0_9a0d8db78e\" y=\"229.874489\"/>\r\n    </g>\r\n    <g clip-path=\"url(#p40caf103f7)\">\r\n     <use style=\"fill:#440154;stroke:#440154;\" x=\"59.127611\" xlink:href=\"#C0_0_9a0d8db78e\" y=\"224.870116\"/>\r\n    </g>\r\n    <g clip-path=\"url(#p40caf103f7)\">\r\n     <use style=\"fill:#440154;stroke:#440154;\" x=\"59.678661\" xlink:href=\"#C0_0_9a0d8db78e\" y=\"229.874489\"/>\r\n    </g>\r\n    <g clip-path=\"url(#p40caf103f7)\">\r\n     <use style=\"fill:#440154;stroke:#440154;\" x=\"57.658142\" xlink:href=\"#C0_0_9a0d8db78e\" y=\"224.870116\"/>\r\n    </g>\r\n    <g clip-path=\"url(#p40caf103f7)\">\r\n     <use style=\"fill:#440154;stroke:#440154;\" x=\"60.046028\" xlink:href=\"#C0_0_9a0d8db78e\" y=\"222.367929\"/>\r\n    </g>\r\n    <g clip-path=\"url(#p40caf103f7)\">\r\n     <use style=\"fill:#440154;stroke:#440154;\" x=\"56.556041\" xlink:href=\"#C0_0_9a0d8db78e\" y=\"229.874489\"/>\r\n    </g>\r\n    <g clip-path=\"url(#p40caf103f7)\">\r\n     <use style=\"fill:#440154;stroke:#440154;\" x=\"59.311294\" xlink:href=\"#C0_0_9a0d8db78e\" y=\"217.363557\"/>\r\n    </g>\r\n    <g clip-path=\"url(#p40caf103f7)\">\r\n     <use style=\"fill:#440154;stroke:#440154;\" x=\"58.025509\" xlink:href=\"#C0_0_9a0d8db78e\" y=\"229.874489\"/>\r\n    </g>\r\n    <g clip-path=\"url(#p40caf103f7)\">\r\n     <use style=\"fill:#440154;stroke:#440154;\" x=\"59.311294\" xlink:href=\"#C0_0_9a0d8db78e\" y=\"229.874489\"/>\r\n    </g>\r\n    <g clip-path=\"url(#p40caf103f7)\">\r\n     <use style=\"fill:#440154;stroke:#440154;\" x=\"58.392876\" xlink:href=\"#C0_0_9a0d8db78e\" y=\"229.874489\"/>\r\n    </g>\r\n    <g clip-path=\"url(#p40caf103f7)\">\r\n     <use style=\"fill:#440154;stroke:#440154;\" x=\"59.311294\" xlink:href=\"#C0_0_9a0d8db78e\" y=\"227.372302\"/>\r\n    </g>\r\n    <g clip-path=\"url(#p40caf103f7)\">\r\n     <use style=\"fill:#440154;stroke:#440154;\" x=\"58.57656\" xlink:href=\"#C0_0_9a0d8db78e\" y=\"229.874489\"/>\r\n    </g>\r\n    <g clip-path=\"url(#p40caf103f7)\">\r\n     <use style=\"fill:#440154;stroke:#440154;\" x=\"58.209193\" xlink:href=\"#C0_0_9a0d8db78e\" y=\"229.874489\"/>\r\n    </g>\r\n    <g clip-path=\"url(#p40caf103f7)\">\r\n     <use style=\"fill:#440154;stroke:#440154;\" x=\"57.841826\" xlink:href=\"#C0_0_9a0d8db78e\" y=\"219.865743\"/>\r\n    </g>\r\n    <g clip-path=\"url(#p40caf103f7)\">\r\n     <use style=\"fill:#440154;stroke:#440154;\" x=\"59.678661\" xlink:href=\"#C0_0_9a0d8db78e\" y=\"229.874489\"/>\r\n    </g>\r\n    <g clip-path=\"url(#p40caf103f7)\">\r\n     <use style=\"fill:#440154;stroke:#440154;\" x=\"57.658142\" xlink:href=\"#C0_0_9a0d8db78e\" y=\"229.874489\"/>\r\n    </g>\r\n    <g clip-path=\"url(#p40caf103f7)\">\r\n     <use style=\"fill:#440154;stroke:#440154;\" x=\"59.678661\" xlink:href=\"#C0_0_9a0d8db78e\" y=\"224.870116\"/>\r\n    </g>\r\n    <g clip-path=\"url(#p40caf103f7)\">\r\n     <use style=\"fill:#440154;stroke:#440154;\" x=\"57.474459\" xlink:href=\"#C0_0_9a0d8db78e\" y=\"229.874489\"/>\r\n    </g>\r\n    <g clip-path=\"url(#p40caf103f7)\">\r\n     <use style=\"fill:#440154;stroke:#440154;\" x=\"59.494978\" xlink:href=\"#C0_0_9a0d8db78e\" y=\"224.870116\"/>\r\n    </g>\r\n    <g clip-path=\"url(#p40caf103f7)\">\r\n     <use style=\"fill:#440154;stroke:#440154;\" x=\"59.678661\" xlink:href=\"#C0_0_9a0d8db78e\" y=\"224.870116\"/>\r\n    </g>\r\n    <g clip-path=\"url(#p40caf103f7)\">\r\n     <use style=\"fill:#440154;stroke:#440154;\" x=\"58.57656\" xlink:href=\"#C0_0_9a0d8db78e\" y=\"229.874489\"/>\r\n    </g>\r\n    <g clip-path=\"url(#p40caf103f7)\">\r\n     <use style=\"fill:#440154;stroke:#440154;\" x=\"57.658142\" xlink:href=\"#C0_0_9a0d8db78e\" y=\"227.372302\"/>\r\n    </g>\r\n    <g clip-path=\"url(#p40caf103f7)\">\r\n     <use style=\"fill:#440154;stroke:#440154;\" x=\"60.046028\" xlink:href=\"#C0_0_9a0d8db78e\" y=\"219.865743\"/>\r\n    </g>\r\n    <g clip-path=\"url(#p40caf103f7)\">\r\n     <use style=\"fill:#440154;stroke:#440154;\" x=\"59.862345\" xlink:href=\"#C0_0_9a0d8db78e\" y=\"219.865743\"/>\r\n    </g>\r\n    <g clip-path=\"url(#p40caf103f7)\">\r\n     <use style=\"fill:#440154;stroke:#440154;\" x=\"59.311294\" xlink:href=\"#C0_0_9a0d8db78e\" y=\"229.874489\"/>\r\n    </g>\r\n    <g clip-path=\"url(#p40caf103f7)\">\r\n     <use style=\"fill:#440154;stroke:#440154;\" x=\"60.046028\" xlink:href=\"#C0_0_9a0d8db78e\" y=\"224.870116\"/>\r\n    </g>\r\n    <g clip-path=\"url(#p40caf103f7)\">\r\n     <use style=\"fill:#440154;stroke:#440154;\" x=\"57.474459\" xlink:href=\"#C0_0_9a0d8db78e\" y=\"229.874489\"/>\r\n    </g>\r\n    <g clip-path=\"url(#p40caf103f7)\">\r\n     <use style=\"fill:#440154;stroke:#440154;\" x=\"58.57656\" xlink:href=\"#C0_0_9a0d8db78e\" y=\"224.870116\"/>\r\n    </g>\r\n    <g clip-path=\"url(#p40caf103f7)\">\r\n     <use style=\"fill:#440154;stroke:#440154;\" x=\"58.57656\" xlink:href=\"#C0_0_9a0d8db78e\" y=\"224.870116\"/>\r\n    </g>\r\n    <g clip-path=\"url(#p40caf103f7)\">\r\n     <use style=\"fill:#440154;stroke:#440154;\" x=\"59.311294\" xlink:href=\"#C0_0_9a0d8db78e\" y=\"224.870116\"/>\r\n    </g>\r\n    <g clip-path=\"url(#p40caf103f7)\">\r\n     <use style=\"fill:#440154;stroke:#440154;\" x=\"57.841826\" xlink:href=\"#C0_0_9a0d8db78e\" y=\"224.870116\"/>\r\n    </g>\r\n    <g clip-path=\"url(#p40caf103f7)\">\r\n     <use style=\"fill:#440154;stroke:#440154;\" x=\"59.862345\" xlink:href=\"#C0_0_9a0d8db78e\" y=\"227.372302\"/>\r\n    </g>\r\n    <g clip-path=\"url(#p40caf103f7)\">\r\n     <use style=\"fill:#440154;stroke:#440154;\" x=\"57.841826\" xlink:href=\"#C0_0_9a0d8db78e\" y=\"224.870116\"/>\r\n    </g>\r\n    <g clip-path=\"url(#p40caf103f7)\">\r\n     <use style=\"fill:#440154;stroke:#440154;\" x=\"58.760244\" xlink:href=\"#C0_0_9a0d8db78e\" y=\"229.874489\"/>\r\n    </g>\r\n    <g clip-path=\"url(#p40caf103f7)\">\r\n     <use style=\"fill:#440154;stroke:#440154;\" x=\"61.14813\" xlink:href=\"#C0_0_9a0d8db78e\" y=\"219.865743\"/>\r\n    </g>\r\n    <g clip-path=\"url(#p40caf103f7)\">\r\n     <use style=\"fill:#440154;stroke:#440154;\" x=\"57.658142\" xlink:href=\"#C0_0_9a0d8db78e\" y=\"229.874489\"/>\r\n    </g>\r\n    <g clip-path=\"url(#p40caf103f7)\">\r\n     <use style=\"fill:#440154;stroke:#440154;\" x=\"58.57656\" xlink:href=\"#C0_0_9a0d8db78e\" y=\"229.874489\"/>\r\n    </g>\r\n    <g clip-path=\"url(#p40caf103f7)\">\r\n     <use style=\"fill:#440154;stroke:#440154;\" x=\"58.57656\" xlink:href=\"#C0_0_9a0d8db78e\" y=\"229.874489\"/>\r\n    </g>\r\n    <g clip-path=\"url(#p40caf103f7)\">\r\n     <use style=\"fill:#440154;stroke:#440154;\" x=\"55.821307\" xlink:href=\"#C0_0_9a0d8db78e\" y=\"224.870116\"/>\r\n    </g>\r\n    <g clip-path=\"url(#p40caf103f7)\">\r\n     <use style=\"fill:#440154;stroke:#440154;\" x=\"56.739725\" xlink:href=\"#C0_0_9a0d8db78e\" y=\"229.874489\"/>\r\n    </g>\r\n    <g clip-path=\"url(#p40caf103f7)\">\r\n     <use style=\"fill:#440154;stroke:#440154;\" x=\"56.923408\" xlink:href=\"#C0_0_9a0d8db78e\" y=\"229.874489\"/>\r\n    </g>\r\n    <g clip-path=\"url(#p40caf103f7)\">\r\n     <use style=\"fill:#440154;stroke:#440154;\" x=\"57.107092\" xlink:href=\"#C0_0_9a0d8db78e\" y=\"229.874489\"/>\r\n    </g>\r\n    <g clip-path=\"url(#p40caf103f7)\">\r\n     <use style=\"fill:#440154;stroke:#440154;\" x=\"57.290775\" xlink:href=\"#C0_0_9a0d8db78e\" y=\"229.874489\"/>\r\n    </g>\r\n    <g clip-path=\"url(#p40caf103f7)\">\r\n     <use style=\"fill:#440154;stroke:#440154;\" x=\"57.107092\" xlink:href=\"#C0_0_9a0d8db78e\" y=\"227.372302\"/>\r\n    </g>\r\n    <g clip-path=\"url(#p40caf103f7)\">\r\n     <use style=\"fill:#440154;stroke:#440154;\" x=\"60.229712\" xlink:href=\"#C0_0_9a0d8db78e\" y=\"222.367929\"/>\r\n    </g>\r\n    <g clip-path=\"url(#p40caf103f7)\">\r\n     <use style=\"fill:#440154;stroke:#440154;\" x=\"56.739725\" xlink:href=\"#C0_0_9a0d8db78e\" y=\"229.874489\"/>\r\n    </g>\r\n    <g clip-path=\"url(#p40caf103f7)\">\r\n     <use style=\"fill:#440154;stroke:#440154;\" x=\"58.025509\" xlink:href=\"#C0_0_9a0d8db78e\" y=\"224.870116\"/>\r\n    </g>\r\n    <g clip-path=\"url(#p40caf103f7)\">\r\n     <use style=\"fill:#440154;stroke:#440154;\" x=\"57.290775\" xlink:href=\"#C0_0_9a0d8db78e\" y=\"229.874489\"/>\r\n    </g>\r\n    <g clip-path=\"url(#p40caf103f7)\">\r\n     <use style=\"fill:#440154;stroke:#440154;\" x=\"59.311294\" xlink:href=\"#C0_0_9a0d8db78e\" y=\"227.372302\"/>\r\n    </g>\r\n    <g clip-path=\"url(#p40caf103f7)\">\r\n     <use style=\"fill:#440154;stroke:#440154;\" x=\"56.556041\" xlink:href=\"#C0_0_9a0d8db78e\" y=\"224.870116\"/>\r\n    </g>\r\n    <g clip-path=\"url(#p40caf103f7)\">\r\n     <use style=\"fill:#440154;stroke:#440154;\" x=\"56.739725\" xlink:href=\"#C0_0_9a0d8db78e\" y=\"224.870116\"/>\r\n    </g>\r\n    <g clip-path=\"url(#p40caf103f7)\">\r\n     <use style=\"fill:#440154;stroke:#440154;\" x=\"58.943927\" xlink:href=\"#C0_0_9a0d8db78e\" y=\"227.372302\"/>\r\n    </g>\r\n    <g clip-path=\"url(#p40caf103f7)\">\r\n     <use style=\"fill:#440154;stroke:#440154;\" x=\"58.392876\" xlink:href=\"#C0_0_9a0d8db78e\" y=\"227.372302\"/>\r\n    </g>\r\n    <g clip-path=\"url(#p40caf103f7)\">\r\n     <use style=\"fill:#440154;stroke:#440154;\" x=\"58.392876\" xlink:href=\"#C0_0_9a0d8db78e\" y=\"229.874489\"/>\r\n    </g>\r\n    <g clip-path=\"url(#p40caf103f7)\">\r\n     <use style=\"fill:#440154;stroke:#440154;\" x=\"57.107092\" xlink:href=\"#C0_0_9a0d8db78e\" y=\"229.874489\"/>\r\n    </g>\r\n    <g clip-path=\"url(#p40caf103f7)\">\r\n     <use style=\"fill:#440154;stroke:#440154;\" x=\"60.780763\" xlink:href=\"#C0_0_9a0d8db78e\" y=\"229.874489\"/>\r\n    </g>\r\n    <g clip-path=\"url(#p40caf103f7)\">\r\n     <use style=\"fill:#440154;stroke:#440154;\" x=\"58.57656\" xlink:href=\"#C0_0_9a0d8db78e\" y=\"219.865743\"/>\r\n    </g>\r\n    <g clip-path=\"url(#p40caf103f7)\">\r\n     <use style=\"fill:#440154;stroke:#440154;\" x=\"58.57656\" xlink:href=\"#C0_0_9a0d8db78e\" y=\"229.874489\"/>\r\n    </g>\r\n    <g clip-path=\"url(#p40caf103f7)\">\r\n     <use style=\"fill:#440154;stroke:#440154;\" x=\"58.025509\" xlink:href=\"#C0_0_9a0d8db78e\" y=\"229.874489\"/>\r\n    </g>\r\n    <g clip-path=\"url(#p40caf103f7)\">\r\n     <use style=\"fill:#440154;stroke:#440154;\" x=\"59.678661\" xlink:href=\"#C0_0_9a0d8db78e\" y=\"227.372302\"/>\r\n    </g>\r\n    <g clip-path=\"url(#p40caf103f7)\">\r\n     <use style=\"fill:#440154;stroke:#440154;\" x=\"58.209193\" xlink:href=\"#C0_0_9a0d8db78e\" y=\"229.874489\"/>\r\n    </g>\r\n    <g clip-path=\"url(#p40caf103f7)\">\r\n     <use style=\"fill:#440154;stroke:#440154;\" x=\"57.474459\" xlink:href=\"#C0_0_9a0d8db78e\" y=\"229.874489\"/>\r\n    </g>\r\n    <g clip-path=\"url(#p40caf103f7)\">\r\n     <use style=\"fill:#440154;stroke:#440154;\" x=\"57.658142\" xlink:href=\"#C0_0_9a0d8db78e\" y=\"224.870116\"/>\r\n    </g>\r\n    <g clip-path=\"url(#p40caf103f7)\">\r\n     <use style=\"fill:#440154;stroke:#440154;\" x=\"57.841826\" xlink:href=\"#C0_0_9a0d8db78e\" y=\"229.874489\"/>\r\n    </g>\r\n    <g clip-path=\"url(#p40caf103f7)\">\r\n     <use style=\"fill:#440154;stroke:#440154;\" x=\"59.127611\" xlink:href=\"#C0_0_9a0d8db78e\" y=\"229.874489\"/>\r\n    </g>\r\n    <g clip-path=\"url(#p40caf103f7)\">\r\n     <use style=\"fill:#440154;stroke:#440154;\" x=\"58.209193\" xlink:href=\"#C0_0_9a0d8db78e\" y=\"222.367929\"/>\r\n    </g>\r\n    <g clip-path=\"url(#p40caf103f7)\">\r\n     <use style=\"fill:#440154;stroke:#440154;\" x=\"58.025509\" xlink:href=\"#C0_0_9a0d8db78e\" y=\"229.874489\"/>\r\n    </g>\r\n    <g clip-path=\"url(#p40caf103f7)\">\r\n     <use style=\"fill:#440154;stroke:#440154;\" x=\"56.188674\" xlink:href=\"#C0_0_9a0d8db78e\" y=\"229.874489\"/>\r\n    </g>\r\n    <g clip-path=\"url(#p40caf103f7)\">\r\n     <use style=\"fill:#440154;stroke:#440154;\" x=\"57.841826\" xlink:href=\"#C0_0_9a0d8db78e\" y=\"224.870116\"/>\r\n    </g>\r\n    <g clip-path=\"url(#p40caf103f7)\">\r\n     <use style=\"fill:#440154;stroke:#440154;\" x=\"67.209687\" xlink:href=\"#C0_0_9a0d8db78e\" y=\"214.86137\"/>\r\n    </g>\r\n    <g clip-path=\"url(#p40caf103f7)\">\r\n     <use style=\"fill:#440154;stroke:#440154;\" x=\"56.923408\" xlink:href=\"#C0_0_9a0d8db78e\" y=\"229.874489\"/>\r\n    </g>\r\n    <g clip-path=\"url(#p40caf103f7)\">\r\n     <use style=\"fill:#440154;stroke:#440154;\" x=\"58.392876\" xlink:href=\"#C0_0_9a0d8db78e\" y=\"227.372302\"/>\r\n    </g>\r\n   </g>\r\n   <g id=\"matplotlib.axis_1\">\r\n    <g id=\"xtick_1\">\r\n     <g id=\"line2d_1\">\r\n      <defs>\r\n       <path d=\"M 0 0 \r\nL 0 3.5 \r\n\" id=\"m9aaac4ac9a\" style=\"stroke:#000000;stroke-width:0.8;\"/>\r\n      </defs>\r\n      <g>\r\n       <use style=\"stroke:#000000;stroke-width:0.8;\" x=\"52.698687\" xlink:href=\"#m9aaac4ac9a\" y=\"239.758125\"/>\r\n      </g>\r\n     </g>\r\n     <g id=\"text_1\">\r\n      <!-- 0 -->\r\n      <g transform=\"translate(49.517437 254.356562)scale(0.1 -0.1)\">\r\n       <defs>\r\n        <path d=\"M 31.78125 66.40625 \r\nQ 24.171875 66.40625 20.328125 58.90625 \r\nQ 16.5 51.421875 16.5 36.375 \r\nQ 16.5 21.390625 20.328125 13.890625 \r\nQ 24.171875 6.390625 31.78125 6.390625 \r\nQ 39.453125 6.390625 43.28125 13.890625 \r\nQ 47.125 21.390625 47.125 36.375 \r\nQ 47.125 51.421875 43.28125 58.90625 \r\nQ 39.453125 66.40625 31.78125 66.40625 \r\nz\r\nM 31.78125 74.21875 \r\nQ 44.046875 74.21875 50.515625 64.515625 \r\nQ 56.984375 54.828125 56.984375 36.375 \r\nQ 56.984375 17.96875 50.515625 8.265625 \r\nQ 44.046875 -1.421875 31.78125 -1.421875 \r\nQ 19.53125 -1.421875 13.0625 8.265625 \r\nQ 6.59375 17.96875 6.59375 36.375 \r\nQ 6.59375 54.828125 13.0625 64.515625 \r\nQ 19.53125 74.21875 31.78125 74.21875 \r\nz\r\n\" id=\"DejaVuSans-48\"/>\r\n       </defs>\r\n       <use xlink:href=\"#DejaVuSans-48\"/>\r\n      </g>\r\n     </g>\r\n    </g>\r\n    <g id=\"xtick_2\">\r\n     <g id=\"line2d_2\">\r\n      <g>\r\n       <use style=\"stroke:#000000;stroke-width:0.8;\" x=\"98.619573\" xlink:href=\"#m9aaac4ac9a\" y=\"239.758125\"/>\r\n      </g>\r\n     </g>\r\n     <g id=\"text_2\">\r\n      <!-- 250 -->\r\n      <g transform=\"translate(89.075823 254.356562)scale(0.1 -0.1)\">\r\n       <defs>\r\n        <path d=\"M 19.1875 8.296875 \r\nL 53.609375 8.296875 \r\nL 53.609375 0 \r\nL 7.328125 0 \r\nL 7.328125 8.296875 \r\nQ 12.9375 14.109375 22.625 23.890625 \r\nQ 32.328125 33.6875 34.8125 36.53125 \r\nQ 39.546875 41.84375 41.421875 45.53125 \r\nQ 43.3125 49.21875 43.3125 52.78125 \r\nQ 43.3125 58.59375 39.234375 62.25 \r\nQ 35.15625 65.921875 28.609375 65.921875 \r\nQ 23.96875 65.921875 18.8125 64.3125 \r\nQ 13.671875 62.703125 7.8125 59.421875 \r\nL 7.8125 69.390625 \r\nQ 13.765625 71.78125 18.9375 73 \r\nQ 24.125 74.21875 28.421875 74.21875 \r\nQ 39.75 74.21875 46.484375 68.546875 \r\nQ 53.21875 62.890625 53.21875 53.421875 \r\nQ 53.21875 48.921875 51.53125 44.890625 \r\nQ 49.859375 40.875 45.40625 35.40625 \r\nQ 44.1875 33.984375 37.640625 27.21875 \r\nQ 31.109375 20.453125 19.1875 8.296875 \r\nz\r\n\" id=\"DejaVuSans-50\"/>\r\n        <path d=\"M 10.796875 72.90625 \r\nL 49.515625 72.90625 \r\nL 49.515625 64.59375 \r\nL 19.828125 64.59375 \r\nL 19.828125 46.734375 \r\nQ 21.96875 47.46875 24.109375 47.828125 \r\nQ 26.265625 48.1875 28.421875 48.1875 \r\nQ 40.625 48.1875 47.75 41.5 \r\nQ 54.890625 34.8125 54.890625 23.390625 \r\nQ 54.890625 11.625 47.5625 5.09375 \r\nQ 40.234375 -1.421875 26.90625 -1.421875 \r\nQ 22.3125 -1.421875 17.546875 -0.640625 \r\nQ 12.796875 0.140625 7.71875 1.703125 \r\nL 7.71875 11.625 \r\nQ 12.109375 9.234375 16.796875 8.0625 \r\nQ 21.484375 6.890625 26.703125 6.890625 \r\nQ 35.15625 6.890625 40.078125 11.328125 \r\nQ 45.015625 15.765625 45.015625 23.390625 \r\nQ 45.015625 31 40.078125 35.4375 \r\nQ 35.15625 39.890625 26.703125 39.890625 \r\nQ 22.75 39.890625 18.8125 39.015625 \r\nQ 14.890625 38.140625 10.796875 36.28125 \r\nz\r\n\" id=\"DejaVuSans-53\"/>\r\n       </defs>\r\n       <use xlink:href=\"#DejaVuSans-50\"/>\r\n       <use x=\"63.623047\" xlink:href=\"#DejaVuSans-53\"/>\r\n       <use x=\"127.246094\" xlink:href=\"#DejaVuSans-48\"/>\r\n      </g>\r\n     </g>\r\n    </g>\r\n    <g id=\"xtick_3\">\r\n     <g id=\"line2d_3\">\r\n      <g>\r\n       <use style=\"stroke:#000000;stroke-width:0.8;\" x=\"144.54046\" xlink:href=\"#m9aaac4ac9a\" y=\"239.758125\"/>\r\n      </g>\r\n     </g>\r\n     <g id=\"text_3\">\r\n      <!-- 500 -->\r\n      <g transform=\"translate(134.99671 254.356562)scale(0.1 -0.1)\">\r\n       <use xlink:href=\"#DejaVuSans-53\"/>\r\n       <use x=\"63.623047\" xlink:href=\"#DejaVuSans-48\"/>\r\n       <use x=\"127.246094\" xlink:href=\"#DejaVuSans-48\"/>\r\n      </g>\r\n     </g>\r\n    </g>\r\n    <g id=\"xtick_4\">\r\n     <g id=\"line2d_4\">\r\n      <g>\r\n       <use style=\"stroke:#000000;stroke-width:0.8;\" x=\"190.461346\" xlink:href=\"#m9aaac4ac9a\" y=\"239.758125\"/>\r\n      </g>\r\n     </g>\r\n     <g id=\"text_4\">\r\n      <!-- 750 -->\r\n      <g transform=\"translate(180.917596 254.356562)scale(0.1 -0.1)\">\r\n       <defs>\r\n        <path d=\"M 8.203125 72.90625 \r\nL 55.078125 72.90625 \r\nL 55.078125 68.703125 \r\nL 28.609375 0 \r\nL 18.3125 0 \r\nL 43.21875 64.59375 \r\nL 8.203125 64.59375 \r\nz\r\n\" id=\"DejaVuSans-55\"/>\r\n       </defs>\r\n       <use xlink:href=\"#DejaVuSans-55\"/>\r\n       <use x=\"63.623047\" xlink:href=\"#DejaVuSans-53\"/>\r\n       <use x=\"127.246094\" xlink:href=\"#DejaVuSans-48\"/>\r\n      </g>\r\n     </g>\r\n    </g>\r\n    <g id=\"xtick_5\">\r\n     <g id=\"line2d_5\">\r\n      <g>\r\n       <use style=\"stroke:#000000;stroke-width:0.8;\" x=\"236.382233\" xlink:href=\"#m9aaac4ac9a\" y=\"239.758125\"/>\r\n      </g>\r\n     </g>\r\n     <g id=\"text_5\">\r\n      <!-- 1000 -->\r\n      <g transform=\"translate(223.657233 254.356562)scale(0.1 -0.1)\">\r\n       <defs>\r\n        <path d=\"M 12.40625 8.296875 \r\nL 28.515625 8.296875 \r\nL 28.515625 63.921875 \r\nL 10.984375 60.40625 \r\nL 10.984375 69.390625 \r\nL 28.421875 72.90625 \r\nL 38.28125 72.90625 \r\nL 38.28125 8.296875 \r\nL 54.390625 8.296875 \r\nL 54.390625 0 \r\nL 12.40625 0 \r\nz\r\n\" id=\"DejaVuSans-49\"/>\r\n       </defs>\r\n       <use xlink:href=\"#DejaVuSans-49\"/>\r\n       <use x=\"63.623047\" xlink:href=\"#DejaVuSans-48\"/>\r\n       <use x=\"127.246094\" xlink:href=\"#DejaVuSans-48\"/>\r\n       <use x=\"190.869141\" xlink:href=\"#DejaVuSans-48\"/>\r\n      </g>\r\n     </g>\r\n    </g>\r\n    <g id=\"xtick_6\">\r\n     <g id=\"line2d_6\">\r\n      <g>\r\n       <use style=\"stroke:#000000;stroke-width:0.8;\" x=\"282.30312\" xlink:href=\"#m9aaac4ac9a\" y=\"239.758125\"/>\r\n      </g>\r\n     </g>\r\n     <g id=\"text_6\">\r\n      <!-- 1250 -->\r\n      <g transform=\"translate(269.57812 254.356562)scale(0.1 -0.1)\">\r\n       <use xlink:href=\"#DejaVuSans-49\"/>\r\n       <use x=\"63.623047\" xlink:href=\"#DejaVuSans-50\"/>\r\n       <use x=\"127.246094\" xlink:href=\"#DejaVuSans-53\"/>\r\n       <use x=\"190.869141\" xlink:href=\"#DejaVuSans-48\"/>\r\n      </g>\r\n     </g>\r\n    </g>\r\n    <g id=\"xtick_7\">\r\n     <g id=\"line2d_7\">\r\n      <g>\r\n       <use style=\"stroke:#000000;stroke-width:0.8;\" x=\"328.224006\" xlink:href=\"#m9aaac4ac9a\" y=\"239.758125\"/>\r\n      </g>\r\n     </g>\r\n     <g id=\"text_7\">\r\n      <!-- 1500 -->\r\n      <g transform=\"translate(315.499006 254.356562)scale(0.1 -0.1)\">\r\n       <use xlink:href=\"#DejaVuSans-49\"/>\r\n       <use x=\"63.623047\" xlink:href=\"#DejaVuSans-53\"/>\r\n       <use x=\"127.246094\" xlink:href=\"#DejaVuSans-48\"/>\r\n       <use x=\"190.869141\" xlink:href=\"#DejaVuSans-48\"/>\r\n      </g>\r\n     </g>\r\n    </g>\r\n    <g id=\"xtick_8\">\r\n     <g id=\"line2d_8\">\r\n      <g>\r\n       <use style=\"stroke:#000000;stroke-width:0.8;\" x=\"374.144893\" xlink:href=\"#m9aaac4ac9a\" y=\"239.758125\"/>\r\n      </g>\r\n     </g>\r\n     <g id=\"text_8\">\r\n      <!-- 1750 -->\r\n      <g transform=\"translate(361.419893 254.356562)scale(0.1 -0.1)\">\r\n       <use xlink:href=\"#DejaVuSans-49\"/>\r\n       <use x=\"63.623047\" xlink:href=\"#DejaVuSans-55\"/>\r\n       <use x=\"127.246094\" xlink:href=\"#DejaVuSans-53\"/>\r\n       <use x=\"190.869141\" xlink:href=\"#DejaVuSans-48\"/>\r\n      </g>\r\n     </g>\r\n    </g>\r\n    <g id=\"text_9\">\r\n     <!-- Comentarios -->\r\n     <g transform=\"translate(176.203906 268.034687)scale(0.1 -0.1)\">\r\n      <defs>\r\n       <path d=\"M 64.40625 67.28125 \r\nL 64.40625 56.890625 \r\nQ 59.421875 61.53125 53.78125 63.8125 \r\nQ 48.140625 66.109375 41.796875 66.109375 \r\nQ 29.296875 66.109375 22.65625 58.46875 \r\nQ 16.015625 50.828125 16.015625 36.375 \r\nQ 16.015625 21.96875 22.65625 14.328125 \r\nQ 29.296875 6.6875 41.796875 6.6875 \r\nQ 48.140625 6.6875 53.78125 8.984375 \r\nQ 59.421875 11.28125 64.40625 15.921875 \r\nL 64.40625 5.609375 \r\nQ 59.234375 2.09375 53.4375 0.328125 \r\nQ 47.65625 -1.421875 41.21875 -1.421875 \r\nQ 24.65625 -1.421875 15.125 8.703125 \r\nQ 5.609375 18.84375 5.609375 36.375 \r\nQ 5.609375 53.953125 15.125 64.078125 \r\nQ 24.65625 74.21875 41.21875 74.21875 \r\nQ 47.75 74.21875 53.53125 72.484375 \r\nQ 59.328125 70.75 64.40625 67.28125 \r\nz\r\n\" id=\"DejaVuSans-67\"/>\r\n       <path d=\"M 30.609375 48.390625 \r\nQ 23.390625 48.390625 19.1875 42.75 \r\nQ 14.984375 37.109375 14.984375 27.296875 \r\nQ 14.984375 17.484375 19.15625 11.84375 \r\nQ 23.34375 6.203125 30.609375 6.203125 \r\nQ 37.796875 6.203125 41.984375 11.859375 \r\nQ 46.1875 17.53125 46.1875 27.296875 \r\nQ 46.1875 37.015625 41.984375 42.703125 \r\nQ 37.796875 48.390625 30.609375 48.390625 \r\nz\r\nM 30.609375 56 \r\nQ 42.328125 56 49.015625 48.375 \r\nQ 55.71875 40.765625 55.71875 27.296875 \r\nQ 55.71875 13.875 49.015625 6.21875 \r\nQ 42.328125 -1.421875 30.609375 -1.421875 \r\nQ 18.84375 -1.421875 12.171875 6.21875 \r\nQ 5.515625 13.875 5.515625 27.296875 \r\nQ 5.515625 40.765625 12.171875 48.375 \r\nQ 18.84375 56 30.609375 56 \r\nz\r\n\" id=\"DejaVuSans-111\"/>\r\n       <path d=\"M 52 44.1875 \r\nQ 55.375 50.25 60.0625 53.125 \r\nQ 64.75 56 71.09375 56 \r\nQ 79.640625 56 84.28125 50.015625 \r\nQ 88.921875 44.046875 88.921875 33.015625 \r\nL 88.921875 0 \r\nL 79.890625 0 \r\nL 79.890625 32.71875 \r\nQ 79.890625 40.578125 77.09375 44.375 \r\nQ 74.3125 48.1875 68.609375 48.1875 \r\nQ 61.625 48.1875 57.5625 43.546875 \r\nQ 53.515625 38.921875 53.515625 30.90625 \r\nL 53.515625 0 \r\nL 44.484375 0 \r\nL 44.484375 32.71875 \r\nQ 44.484375 40.625 41.703125 44.40625 \r\nQ 38.921875 48.1875 33.109375 48.1875 \r\nQ 26.21875 48.1875 22.15625 43.53125 \r\nQ 18.109375 38.875 18.109375 30.90625 \r\nL 18.109375 0 \r\nL 9.078125 0 \r\nL 9.078125 54.6875 \r\nL 18.109375 54.6875 \r\nL 18.109375 46.1875 \r\nQ 21.1875 51.21875 25.484375 53.609375 \r\nQ 29.78125 56 35.6875 56 \r\nQ 41.65625 56 45.828125 52.96875 \r\nQ 50 49.953125 52 44.1875 \r\nz\r\n\" id=\"DejaVuSans-109\"/>\r\n       <path d=\"M 56.203125 29.59375 \r\nL 56.203125 25.203125 \r\nL 14.890625 25.203125 \r\nQ 15.484375 15.921875 20.484375 11.0625 \r\nQ 25.484375 6.203125 34.421875 6.203125 \r\nQ 39.59375 6.203125 44.453125 7.46875 \r\nQ 49.3125 8.734375 54.109375 11.28125 \r\nL 54.109375 2.78125 \r\nQ 49.265625 0.734375 44.1875 -0.34375 \r\nQ 39.109375 -1.421875 33.890625 -1.421875 \r\nQ 20.796875 -1.421875 13.15625 6.1875 \r\nQ 5.515625 13.8125 5.515625 26.8125 \r\nQ 5.515625 40.234375 12.765625 48.109375 \r\nQ 20.015625 56 32.328125 56 \r\nQ 43.359375 56 49.78125 48.890625 \r\nQ 56.203125 41.796875 56.203125 29.59375 \r\nz\r\nM 47.21875 32.234375 \r\nQ 47.125 39.59375 43.09375 43.984375 \r\nQ 39.0625 48.390625 32.421875 48.390625 \r\nQ 24.90625 48.390625 20.390625 44.140625 \r\nQ 15.875 39.890625 15.1875 32.171875 \r\nz\r\n\" id=\"DejaVuSans-101\"/>\r\n       <path d=\"M 54.890625 33.015625 \r\nL 54.890625 0 \r\nL 45.90625 0 \r\nL 45.90625 32.71875 \r\nQ 45.90625 40.484375 42.875 44.328125 \r\nQ 39.84375 48.1875 33.796875 48.1875 \r\nQ 26.515625 48.1875 22.3125 43.546875 \r\nQ 18.109375 38.921875 18.109375 30.90625 \r\nL 18.109375 0 \r\nL 9.078125 0 \r\nL 9.078125 54.6875 \r\nL 18.109375 54.6875 \r\nL 18.109375 46.1875 \r\nQ 21.34375 51.125 25.703125 53.5625 \r\nQ 30.078125 56 35.796875 56 \r\nQ 45.21875 56 50.046875 50.171875 \r\nQ 54.890625 44.34375 54.890625 33.015625 \r\nz\r\n\" id=\"DejaVuSans-110\"/>\r\n       <path d=\"M 18.3125 70.21875 \r\nL 18.3125 54.6875 \r\nL 36.8125 54.6875 \r\nL 36.8125 47.703125 \r\nL 18.3125 47.703125 \r\nL 18.3125 18.015625 \r\nQ 18.3125 11.328125 20.140625 9.421875 \r\nQ 21.96875 7.515625 27.59375 7.515625 \r\nL 36.8125 7.515625 \r\nL 36.8125 0 \r\nL 27.59375 0 \r\nQ 17.1875 0 13.234375 3.875 \r\nQ 9.28125 7.765625 9.28125 18.015625 \r\nL 9.28125 47.703125 \r\nL 2.6875 47.703125 \r\nL 2.6875 54.6875 \r\nL 9.28125 54.6875 \r\nL 9.28125 70.21875 \r\nz\r\n\" id=\"DejaVuSans-116\"/>\r\n       <path d=\"M 34.28125 27.484375 \r\nQ 23.390625 27.484375 19.1875 25 \r\nQ 14.984375 22.515625 14.984375 16.5 \r\nQ 14.984375 11.71875 18.140625 8.90625 \r\nQ 21.296875 6.109375 26.703125 6.109375 \r\nQ 34.1875 6.109375 38.703125 11.40625 \r\nQ 43.21875 16.703125 43.21875 25.484375 \r\nL 43.21875 27.484375 \r\nz\r\nM 52.203125 31.203125 \r\nL 52.203125 0 \r\nL 43.21875 0 \r\nL 43.21875 8.296875 \r\nQ 40.140625 3.328125 35.546875 0.953125 \r\nQ 30.953125 -1.421875 24.3125 -1.421875 \r\nQ 15.921875 -1.421875 10.953125 3.296875 \r\nQ 6 8.015625 6 15.921875 \r\nQ 6 25.140625 12.171875 29.828125 \r\nQ 18.359375 34.515625 30.609375 34.515625 \r\nL 43.21875 34.515625 \r\nL 43.21875 35.40625 \r\nQ 43.21875 41.609375 39.140625 45 \r\nQ 35.0625 48.390625 27.6875 48.390625 \r\nQ 23 48.390625 18.546875 47.265625 \r\nQ 14.109375 46.140625 10.015625 43.890625 \r\nL 10.015625 52.203125 \r\nQ 14.9375 54.109375 19.578125 55.046875 \r\nQ 24.21875 56 28.609375 56 \r\nQ 40.484375 56 46.34375 49.84375 \r\nQ 52.203125 43.703125 52.203125 31.203125 \r\nz\r\n\" id=\"DejaVuSans-97\"/>\r\n       <path d=\"M 41.109375 46.296875 \r\nQ 39.59375 47.171875 37.8125 47.578125 \r\nQ 36.03125 48 33.890625 48 \r\nQ 26.265625 48 22.1875 43.046875 \r\nQ 18.109375 38.09375 18.109375 28.8125 \r\nL 18.109375 0 \r\nL 9.078125 0 \r\nL 9.078125 54.6875 \r\nL 18.109375 54.6875 \r\nL 18.109375 46.1875 \r\nQ 20.953125 51.171875 25.484375 53.578125 \r\nQ 30.03125 56 36.53125 56 \r\nQ 37.453125 56 38.578125 55.875 \r\nQ 39.703125 55.765625 41.0625 55.515625 \r\nz\r\n\" id=\"DejaVuSans-114\"/>\r\n       <path d=\"M 9.421875 54.6875 \r\nL 18.40625 54.6875 \r\nL 18.40625 0 \r\nL 9.421875 0 \r\nz\r\nM 9.421875 75.984375 \r\nL 18.40625 75.984375 \r\nL 18.40625 64.59375 \r\nL 9.421875 64.59375 \r\nz\r\n\" id=\"DejaVuSans-105\"/>\r\n       <path d=\"M 44.28125 53.078125 \r\nL 44.28125 44.578125 \r\nQ 40.484375 46.53125 36.375 47.5 \r\nQ 32.28125 48.484375 27.875 48.484375 \r\nQ 21.1875 48.484375 17.84375 46.4375 \r\nQ 14.5 44.390625 14.5 40.28125 \r\nQ 14.5 37.15625 16.890625 35.375 \r\nQ 19.28125 33.59375 26.515625 31.984375 \r\nL 29.59375 31.296875 \r\nQ 39.15625 29.25 43.1875 25.515625 \r\nQ 47.21875 21.78125 47.21875 15.09375 \r\nQ 47.21875 7.46875 41.1875 3.015625 \r\nQ 35.15625 -1.421875 24.609375 -1.421875 \r\nQ 20.21875 -1.421875 15.453125 -0.5625 \r\nQ 10.6875 0.296875 5.421875 2 \r\nL 5.421875 11.28125 \r\nQ 10.40625 8.6875 15.234375 7.390625 \r\nQ 20.0625 6.109375 24.8125 6.109375 \r\nQ 31.15625 6.109375 34.5625 8.28125 \r\nQ 37.984375 10.453125 37.984375 14.40625 \r\nQ 37.984375 18.0625 35.515625 20.015625 \r\nQ 33.0625 21.96875 24.703125 23.78125 \r\nL 21.578125 24.515625 \r\nQ 13.234375 26.265625 9.515625 29.90625 \r\nQ 5.8125 33.546875 5.8125 39.890625 \r\nQ 5.8125 47.609375 11.28125 51.796875 \r\nQ 16.75 56 26.8125 56 \r\nQ 31.78125 56 36.171875 55.265625 \r\nQ 40.578125 54.546875 44.28125 53.078125 \r\nz\r\n\" id=\"DejaVuSans-115\"/>\r\n      </defs>\r\n      <use xlink:href=\"#DejaVuSans-67\"/>\r\n      <use x=\"69.824219\" xlink:href=\"#DejaVuSans-111\"/>\r\n      <use x=\"131.005859\" xlink:href=\"#DejaVuSans-109\"/>\r\n      <use x=\"228.417969\" xlink:href=\"#DejaVuSans-101\"/>\r\n      <use x=\"289.941406\" xlink:href=\"#DejaVuSans-110\"/>\r\n      <use x=\"353.320312\" xlink:href=\"#DejaVuSans-116\"/>\r\n      <use x=\"392.529297\" xlink:href=\"#DejaVuSans-97\"/>\r\n      <use x=\"453.808594\" xlink:href=\"#DejaVuSans-114\"/>\r\n      <use x=\"494.921875\" xlink:href=\"#DejaVuSans-105\"/>\r\n      <use x=\"522.705078\" xlink:href=\"#DejaVuSans-111\"/>\r\n      <use x=\"583.886719\" xlink:href=\"#DejaVuSans-115\"/>\r\n     </g>\r\n    </g>\r\n   </g>\r\n   <g id=\"matplotlib.axis_2\">\r\n    <g id=\"ytick_1\">\r\n     <g id=\"line2d_9\">\r\n      <defs>\r\n       <path d=\"M 0 0 \r\nL -3.5 0 \r\n\" id=\"mceef5ba118\" style=\"stroke:#000000;stroke-width:0.8;\"/>\r\n      </defs>\r\n      <g>\r\n       <use style=\"stroke:#000000;stroke-width:0.8;\" x=\"40.603125\" xlink:href=\"#mceef5ba118\" y=\"229.874489\"/>\r\n      </g>\r\n     </g>\r\n     <g id=\"text_10\">\r\n      <!-- 0 -->\r\n      <g transform=\"translate(27.240625 233.673707)scale(0.1 -0.1)\">\r\n       <use xlink:href=\"#DejaVuSans-48\"/>\r\n      </g>\r\n     </g>\r\n    </g>\r\n    <g id=\"ytick_2\">\r\n     <g id=\"line2d_10\">\r\n      <g>\r\n       <use style=\"stroke:#000000;stroke-width:0.8;\" x=\"40.603125\" xlink:href=\"#mceef5ba118\" y=\"204.852624\"/>\r\n      </g>\r\n     </g>\r\n     <g id=\"text_11\">\r\n      <!-- 10 -->\r\n      <g transform=\"translate(20.878125 208.651843)scale(0.1 -0.1)\">\r\n       <use xlink:href=\"#DejaVuSans-49\"/>\r\n       <use x=\"63.623047\" xlink:href=\"#DejaVuSans-48\"/>\r\n      </g>\r\n     </g>\r\n    </g>\r\n    <g id=\"ytick_3\">\r\n     <g id=\"line2d_11\">\r\n      <g>\r\n       <use style=\"stroke:#000000;stroke-width:0.8;\" x=\"40.603125\" xlink:href=\"#mceef5ba118\" y=\"179.83076\"/>\r\n      </g>\r\n     </g>\r\n     <g id=\"text_12\">\r\n      <!-- 20 -->\r\n      <g transform=\"translate(20.878125 183.629979)scale(0.1 -0.1)\">\r\n       <use xlink:href=\"#DejaVuSans-50\"/>\r\n       <use x=\"63.623047\" xlink:href=\"#DejaVuSans-48\"/>\r\n      </g>\r\n     </g>\r\n    </g>\r\n    <g id=\"ytick_4\">\r\n     <g id=\"line2d_12\">\r\n      <g>\r\n       <use style=\"stroke:#000000;stroke-width:0.8;\" x=\"40.603125\" xlink:href=\"#mceef5ba118\" y=\"154.808896\"/>\r\n      </g>\r\n     </g>\r\n     <g id=\"text_13\">\r\n      <!-- 30 -->\r\n      <g transform=\"translate(20.878125 158.608115)scale(0.1 -0.1)\">\r\n       <defs>\r\n        <path d=\"M 40.578125 39.3125 \r\nQ 47.65625 37.796875 51.625 33 \r\nQ 55.609375 28.21875 55.609375 21.1875 \r\nQ 55.609375 10.40625 48.1875 4.484375 \r\nQ 40.765625 -1.421875 27.09375 -1.421875 \r\nQ 22.515625 -1.421875 17.65625 -0.515625 \r\nQ 12.796875 0.390625 7.625 2.203125 \r\nL 7.625 11.71875 \r\nQ 11.71875 9.328125 16.59375 8.109375 \r\nQ 21.484375 6.890625 26.8125 6.890625 \r\nQ 36.078125 6.890625 40.9375 10.546875 \r\nQ 45.796875 14.203125 45.796875 21.1875 \r\nQ 45.796875 27.640625 41.28125 31.265625 \r\nQ 36.765625 34.90625 28.71875 34.90625 \r\nL 20.21875 34.90625 \r\nL 20.21875 43.015625 \r\nL 29.109375 43.015625 \r\nQ 36.375 43.015625 40.234375 45.921875 \r\nQ 44.09375 48.828125 44.09375 54.296875 \r\nQ 44.09375 59.90625 40.109375 62.90625 \r\nQ 36.140625 65.921875 28.71875 65.921875 \r\nQ 24.65625 65.921875 20.015625 65.03125 \r\nQ 15.375 64.15625 9.8125 62.3125 \r\nL 9.8125 71.09375 \r\nQ 15.4375 72.65625 20.34375 73.4375 \r\nQ 25.25 74.21875 29.59375 74.21875 \r\nQ 40.828125 74.21875 47.359375 69.109375 \r\nQ 53.90625 64.015625 53.90625 55.328125 \r\nQ 53.90625 49.265625 50.4375 45.09375 \r\nQ 46.96875 40.921875 40.578125 39.3125 \r\nz\r\n\" id=\"DejaVuSans-51\"/>\r\n       </defs>\r\n       <use xlink:href=\"#DejaVuSans-51\"/>\r\n       <use x=\"63.623047\" xlink:href=\"#DejaVuSans-48\"/>\r\n      </g>\r\n     </g>\r\n    </g>\r\n    <g id=\"ytick_5\">\r\n     <g id=\"line2d_13\">\r\n      <g>\r\n       <use style=\"stroke:#000000;stroke-width:0.8;\" x=\"40.603125\" xlink:href=\"#mceef5ba118\" y=\"129.787032\"/>\r\n      </g>\r\n     </g>\r\n     <g id=\"text_14\">\r\n      <!-- 40 -->\r\n      <g transform=\"translate(20.878125 133.586251)scale(0.1 -0.1)\">\r\n       <defs>\r\n        <path d=\"M 37.796875 64.3125 \r\nL 12.890625 25.390625 \r\nL 37.796875 25.390625 \r\nz\r\nM 35.203125 72.90625 \r\nL 47.609375 72.90625 \r\nL 47.609375 25.390625 \r\nL 58.015625 25.390625 \r\nL 58.015625 17.1875 \r\nL 47.609375 17.1875 \r\nL 47.609375 0 \r\nL 37.796875 0 \r\nL 37.796875 17.1875 \r\nL 4.890625 17.1875 \r\nL 4.890625 26.703125 \r\nz\r\n\" id=\"DejaVuSans-52\"/>\r\n       </defs>\r\n       <use xlink:href=\"#DejaVuSans-52\"/>\r\n       <use x=\"63.623047\" xlink:href=\"#DejaVuSans-48\"/>\r\n      </g>\r\n     </g>\r\n    </g>\r\n    <g id=\"ytick_6\">\r\n     <g id=\"line2d_14\">\r\n      <g>\r\n       <use style=\"stroke:#000000;stroke-width:0.8;\" x=\"40.603125\" xlink:href=\"#mceef5ba118\" y=\"104.765168\"/>\r\n      </g>\r\n     </g>\r\n     <g id=\"text_15\">\r\n      <!-- 50 -->\r\n      <g transform=\"translate(20.878125 108.564386)scale(0.1 -0.1)\">\r\n       <use xlink:href=\"#DejaVuSans-53\"/>\r\n       <use x=\"63.623047\" xlink:href=\"#DejaVuSans-48\"/>\r\n      </g>\r\n     </g>\r\n    </g>\r\n    <g id=\"ytick_7\">\r\n     <g id=\"line2d_15\">\r\n      <g>\r\n       <use style=\"stroke:#000000;stroke-width:0.8;\" x=\"40.603125\" xlink:href=\"#mceef5ba118\" y=\"79.743303\"/>\r\n      </g>\r\n     </g>\r\n     <g id=\"text_16\">\r\n      <!-- 60 -->\r\n      <g transform=\"translate(20.878125 83.542522)scale(0.1 -0.1)\">\r\n       <defs>\r\n        <path d=\"M 33.015625 40.375 \r\nQ 26.375 40.375 22.484375 35.828125 \r\nQ 18.609375 31.296875 18.609375 23.390625 \r\nQ 18.609375 15.53125 22.484375 10.953125 \r\nQ 26.375 6.390625 33.015625 6.390625 \r\nQ 39.65625 6.390625 43.53125 10.953125 \r\nQ 47.40625 15.53125 47.40625 23.390625 \r\nQ 47.40625 31.296875 43.53125 35.828125 \r\nQ 39.65625 40.375 33.015625 40.375 \r\nz\r\nM 52.59375 71.296875 \r\nL 52.59375 62.3125 \r\nQ 48.875 64.0625 45.09375 64.984375 \r\nQ 41.3125 65.921875 37.59375 65.921875 \r\nQ 27.828125 65.921875 22.671875 59.328125 \r\nQ 17.53125 52.734375 16.796875 39.40625 \r\nQ 19.671875 43.65625 24.015625 45.921875 \r\nQ 28.375 48.1875 33.59375 48.1875 \r\nQ 44.578125 48.1875 50.953125 41.515625 \r\nQ 57.328125 34.859375 57.328125 23.390625 \r\nQ 57.328125 12.15625 50.6875 5.359375 \r\nQ 44.046875 -1.421875 33.015625 -1.421875 \r\nQ 20.359375 -1.421875 13.671875 8.265625 \r\nQ 6.984375 17.96875 6.984375 36.375 \r\nQ 6.984375 53.65625 15.1875 63.9375 \r\nQ 23.390625 74.21875 37.203125 74.21875 \r\nQ 40.921875 74.21875 44.703125 73.484375 \r\nQ 48.484375 72.75 52.59375 71.296875 \r\nz\r\n\" id=\"DejaVuSans-54\"/>\r\n       </defs>\r\n       <use xlink:href=\"#DejaVuSans-54\"/>\r\n       <use x=\"63.623047\" xlink:href=\"#DejaVuSans-48\"/>\r\n      </g>\r\n     </g>\r\n    </g>\r\n    <g id=\"ytick_8\">\r\n     <g id=\"line2d_16\">\r\n      <g>\r\n       <use style=\"stroke:#000000;stroke-width:0.8;\" x=\"40.603125\" xlink:href=\"#mceef5ba118\" y=\"54.721439\"/>\r\n      </g>\r\n     </g>\r\n     <g id=\"text_17\">\r\n      <!-- 70 -->\r\n      <g transform=\"translate(20.878125 58.520658)scale(0.1 -0.1)\">\r\n       <use xlink:href=\"#DejaVuSans-55\"/>\r\n       <use x=\"63.623047\" xlink:href=\"#DejaVuSans-48\"/>\r\n      </g>\r\n     </g>\r\n    </g>\r\n    <g id=\"ytick_9\">\r\n     <g id=\"line2d_17\">\r\n      <g>\r\n       <use style=\"stroke:#000000;stroke-width:0.8;\" x=\"40.603125\" xlink:href=\"#mceef5ba118\" y=\"29.699575\"/>\r\n      </g>\r\n     </g>\r\n     <g id=\"text_18\">\r\n      <!-- 80 -->\r\n      <g transform=\"translate(20.878125 33.498794)scale(0.1 -0.1)\">\r\n       <defs>\r\n        <path d=\"M 31.78125 34.625 \r\nQ 24.75 34.625 20.71875 30.859375 \r\nQ 16.703125 27.09375 16.703125 20.515625 \r\nQ 16.703125 13.921875 20.71875 10.15625 \r\nQ 24.75 6.390625 31.78125 6.390625 \r\nQ 38.8125 6.390625 42.859375 10.171875 \r\nQ 46.921875 13.96875 46.921875 20.515625 \r\nQ 46.921875 27.09375 42.890625 30.859375 \r\nQ 38.875 34.625 31.78125 34.625 \r\nz\r\nM 21.921875 38.8125 \r\nQ 15.578125 40.375 12.03125 44.71875 \r\nQ 8.5 49.078125 8.5 55.328125 \r\nQ 8.5 64.0625 14.71875 69.140625 \r\nQ 20.953125 74.21875 31.78125 74.21875 \r\nQ 42.671875 74.21875 48.875 69.140625 \r\nQ 55.078125 64.0625 55.078125 55.328125 \r\nQ 55.078125 49.078125 51.53125 44.71875 \r\nQ 48 40.375 41.703125 38.8125 \r\nQ 48.828125 37.15625 52.796875 32.3125 \r\nQ 56.78125 27.484375 56.78125 20.515625 \r\nQ 56.78125 9.90625 50.3125 4.234375 \r\nQ 43.84375 -1.421875 31.78125 -1.421875 \r\nQ 19.734375 -1.421875 13.25 4.234375 \r\nQ 6.78125 9.90625 6.78125 20.515625 \r\nQ 6.78125 27.484375 10.78125 32.3125 \r\nQ 14.796875 37.15625 21.921875 38.8125 \r\nz\r\nM 18.3125 54.390625 \r\nQ 18.3125 48.734375 21.84375 45.5625 \r\nQ 25.390625 42.390625 31.78125 42.390625 \r\nQ 38.140625 42.390625 41.71875 45.5625 \r\nQ 45.3125 48.734375 45.3125 54.390625 \r\nQ 45.3125 60.0625 41.71875 63.234375 \r\nQ 38.140625 66.40625 31.78125 66.40625 \r\nQ 25.390625 66.40625 21.84375 63.234375 \r\nQ 18.3125 60.0625 18.3125 54.390625 \r\nz\r\n\" id=\"DejaVuSans-56\"/>\r\n       </defs>\r\n       <use xlink:href=\"#DejaVuSans-56\"/>\r\n       <use x=\"63.623047\" xlink:href=\"#DejaVuSans-48\"/>\r\n      </g>\r\n     </g>\r\n    </g>\r\n    <g id=\"text_19\">\r\n     <!-- Likes -->\r\n     <g transform=\"translate(14.798438 143.608437)rotate(-90)scale(0.1 -0.1)\">\r\n      <defs>\r\n       <path d=\"M 9.8125 72.90625 \r\nL 19.671875 72.90625 \r\nL 19.671875 8.296875 \r\nL 55.171875 8.296875 \r\nL 55.171875 0 \r\nL 9.8125 0 \r\nz\r\n\" id=\"DejaVuSans-76\"/>\r\n       <path d=\"M 9.078125 75.984375 \r\nL 18.109375 75.984375 \r\nL 18.109375 31.109375 \r\nL 44.921875 54.6875 \r\nL 56.390625 54.6875 \r\nL 27.390625 29.109375 \r\nL 57.625 0 \r\nL 45.90625 0 \r\nL 18.109375 26.703125 \r\nL 18.109375 0 \r\nL 9.078125 0 \r\nz\r\n\" id=\"DejaVuSans-107\"/>\r\n      </defs>\r\n      <use xlink:href=\"#DejaVuSans-76\"/>\r\n      <use x=\"55.712891\" xlink:href=\"#DejaVuSans-105\"/>\r\n      <use x=\"83.496094\" xlink:href=\"#DejaVuSans-107\"/>\r\n      <use x=\"137.78125\" xlink:href=\"#DejaVuSans-101\"/>\r\n      <use x=\"199.304688\" xlink:href=\"#DejaVuSans-115\"/>\r\n     </g>\r\n    </g>\r\n   </g>\r\n   <g id=\"patch_3\">\r\n    <path d=\"M 40.603125 239.758125 \r\nL 40.603125 22.318125 \r\n\" style=\"fill:none;stroke:#000000;stroke-linecap:square;stroke-linejoin:miter;stroke-width:0.8;\"/>\r\n   </g>\r\n   <g id=\"patch_4\">\r\n    <path d=\"M 375.403125 239.758125 \r\nL 375.403125 22.318125 \r\n\" style=\"fill:none;stroke:#000000;stroke-linecap:square;stroke-linejoin:miter;stroke-width:0.8;\"/>\r\n   </g>\r\n   <g id=\"patch_5\">\r\n    <path d=\"M 40.603125 239.758125 \r\nL 375.403125 239.758125 \r\n\" style=\"fill:none;stroke:#000000;stroke-linecap:square;stroke-linejoin:miter;stroke-width:0.8;\"/>\r\n   </g>\r\n   <g id=\"patch_6\">\r\n    <path d=\"M 40.603125 22.318125 \r\nL 375.403125 22.318125 \r\n\" style=\"fill:none;stroke:#000000;stroke-linecap:square;stroke-linejoin:miter;stroke-width:0.8;\"/>\r\n   </g>\r\n   <g id=\"text_20\">\r\n    <!-- Scatter plot comments vs likes Buthewestie -->\r\n    <g transform=\"translate(76.404375 16.318125)scale(0.12 -0.12)\">\r\n     <defs>\r\n      <path d=\"M 53.515625 70.515625 \r\nL 53.515625 60.890625 \r\nQ 47.90625 63.578125 42.921875 64.890625 \r\nQ 37.9375 66.21875 33.296875 66.21875 \r\nQ 25.25 66.21875 20.875 63.09375 \r\nQ 16.5 59.96875 16.5 54.203125 \r\nQ 16.5 49.359375 19.40625 46.890625 \r\nQ 22.3125 44.4375 30.421875 42.921875 \r\nL 36.375 41.703125 \r\nQ 47.40625 39.59375 52.65625 34.296875 \r\nQ 57.90625 29 57.90625 20.125 \r\nQ 57.90625 9.515625 50.796875 4.046875 \r\nQ 43.703125 -1.421875 29.984375 -1.421875 \r\nQ 24.8125 -1.421875 18.96875 -0.25 \r\nQ 13.140625 0.921875 6.890625 3.21875 \r\nL 6.890625 13.375 \r\nQ 12.890625 10.015625 18.65625 8.296875 \r\nQ 24.421875 6.59375 29.984375 6.59375 \r\nQ 38.421875 6.59375 43.015625 9.90625 \r\nQ 47.609375 13.234375 47.609375 19.390625 \r\nQ 47.609375 24.75 44.3125 27.78125 \r\nQ 41.015625 30.8125 33.5 32.328125 \r\nL 27.484375 33.5 \r\nQ 16.453125 35.6875 11.515625 40.375 \r\nQ 6.59375 45.0625 6.59375 53.421875 \r\nQ 6.59375 63.09375 13.40625 68.65625 \r\nQ 20.21875 74.21875 32.171875 74.21875 \r\nQ 37.3125 74.21875 42.625 73.28125 \r\nQ 47.953125 72.359375 53.515625 70.515625 \r\nz\r\n\" id=\"DejaVuSans-83\"/>\r\n      <path d=\"M 48.78125 52.59375 \r\nL 48.78125 44.1875 \r\nQ 44.96875 46.296875 41.140625 47.34375 \r\nQ 37.3125 48.390625 33.40625 48.390625 \r\nQ 24.65625 48.390625 19.8125 42.84375 \r\nQ 14.984375 37.3125 14.984375 27.296875 \r\nQ 14.984375 17.28125 19.8125 11.734375 \r\nQ 24.65625 6.203125 33.40625 6.203125 \r\nQ 37.3125 6.203125 41.140625 7.25 \r\nQ 44.96875 8.296875 48.78125 10.40625 \r\nL 48.78125 2.09375 \r\nQ 45.015625 0.34375 40.984375 -0.53125 \r\nQ 36.96875 -1.421875 32.421875 -1.421875 \r\nQ 20.0625 -1.421875 12.78125 6.34375 \r\nQ 5.515625 14.109375 5.515625 27.296875 \r\nQ 5.515625 40.671875 12.859375 48.328125 \r\nQ 20.21875 56 33.015625 56 \r\nQ 37.15625 56 41.109375 55.140625 \r\nQ 45.0625 54.296875 48.78125 52.59375 \r\nz\r\n\" id=\"DejaVuSans-99\"/>\r\n      <path id=\"DejaVuSans-32\"/>\r\n      <path d=\"M 18.109375 8.203125 \r\nL 18.109375 -20.796875 \r\nL 9.078125 -20.796875 \r\nL 9.078125 54.6875 \r\nL 18.109375 54.6875 \r\nL 18.109375 46.390625 \r\nQ 20.953125 51.265625 25.265625 53.625 \r\nQ 29.59375 56 35.59375 56 \r\nQ 45.5625 56 51.78125 48.09375 \r\nQ 58.015625 40.1875 58.015625 27.296875 \r\nQ 58.015625 14.40625 51.78125 6.484375 \r\nQ 45.5625 -1.421875 35.59375 -1.421875 \r\nQ 29.59375 -1.421875 25.265625 0.953125 \r\nQ 20.953125 3.328125 18.109375 8.203125 \r\nz\r\nM 48.6875 27.296875 \r\nQ 48.6875 37.203125 44.609375 42.84375 \r\nQ 40.53125 48.484375 33.40625 48.484375 \r\nQ 26.265625 48.484375 22.1875 42.84375 \r\nQ 18.109375 37.203125 18.109375 27.296875 \r\nQ 18.109375 17.390625 22.1875 11.75 \r\nQ 26.265625 6.109375 33.40625 6.109375 \r\nQ 40.53125 6.109375 44.609375 11.75 \r\nQ 48.6875 17.390625 48.6875 27.296875 \r\nz\r\n\" id=\"DejaVuSans-112\"/>\r\n      <path d=\"M 9.421875 75.984375 \r\nL 18.40625 75.984375 \r\nL 18.40625 0 \r\nL 9.421875 0 \r\nz\r\n\" id=\"DejaVuSans-108\"/>\r\n      <path d=\"M 2.984375 54.6875 \r\nL 12.5 54.6875 \r\nL 29.59375 8.796875 \r\nL 46.6875 54.6875 \r\nL 56.203125 54.6875 \r\nL 35.6875 0 \r\nL 23.484375 0 \r\nz\r\n\" id=\"DejaVuSans-118\"/>\r\n      <path d=\"M 19.671875 34.8125 \r\nL 19.671875 8.109375 \r\nL 35.5 8.109375 \r\nQ 43.453125 8.109375 47.28125 11.40625 \r\nQ 51.125 14.703125 51.125 21.484375 \r\nQ 51.125 28.328125 47.28125 31.5625 \r\nQ 43.453125 34.8125 35.5 34.8125 \r\nz\r\nM 19.671875 64.796875 \r\nL 19.671875 42.828125 \r\nL 34.28125 42.828125 \r\nQ 41.5 42.828125 45.03125 45.53125 \r\nQ 48.578125 48.25 48.578125 53.8125 \r\nQ 48.578125 59.328125 45.03125 62.0625 \r\nQ 41.5 64.796875 34.28125 64.796875 \r\nz\r\nM 9.8125 72.90625 \r\nL 35.015625 72.90625 \r\nQ 46.296875 72.90625 52.390625 68.21875 \r\nQ 58.5 63.53125 58.5 54.890625 \r\nQ 58.5 48.1875 55.375 44.234375 \r\nQ 52.25 40.28125 46.1875 39.3125 \r\nQ 53.46875 37.75 57.5 32.78125 \r\nQ 61.53125 27.828125 61.53125 20.40625 \r\nQ 61.53125 10.640625 54.890625 5.3125 \r\nQ 48.25 0 35.984375 0 \r\nL 9.8125 0 \r\nz\r\n\" id=\"DejaVuSans-66\"/>\r\n      <path d=\"M 8.5 21.578125 \r\nL 8.5 54.6875 \r\nL 17.484375 54.6875 \r\nL 17.484375 21.921875 \r\nQ 17.484375 14.15625 20.5 10.265625 \r\nQ 23.53125 6.390625 29.59375 6.390625 \r\nQ 36.859375 6.390625 41.078125 11.03125 \r\nQ 45.3125 15.671875 45.3125 23.6875 \r\nL 45.3125 54.6875 \r\nL 54.296875 54.6875 \r\nL 54.296875 0 \r\nL 45.3125 0 \r\nL 45.3125 8.40625 \r\nQ 42.046875 3.421875 37.71875 1 \r\nQ 33.40625 -1.421875 27.6875 -1.421875 \r\nQ 18.265625 -1.421875 13.375 4.4375 \r\nQ 8.5 10.296875 8.5 21.578125 \r\nz\r\nM 31.109375 56 \r\nz\r\n\" id=\"DejaVuSans-117\"/>\r\n      <path d=\"M 54.890625 33.015625 \r\nL 54.890625 0 \r\nL 45.90625 0 \r\nL 45.90625 32.71875 \r\nQ 45.90625 40.484375 42.875 44.328125 \r\nQ 39.84375 48.1875 33.796875 48.1875 \r\nQ 26.515625 48.1875 22.3125 43.546875 \r\nQ 18.109375 38.921875 18.109375 30.90625 \r\nL 18.109375 0 \r\nL 9.078125 0 \r\nL 9.078125 75.984375 \r\nL 18.109375 75.984375 \r\nL 18.109375 46.1875 \r\nQ 21.34375 51.125 25.703125 53.5625 \r\nQ 30.078125 56 35.796875 56 \r\nQ 45.21875 56 50.046875 50.171875 \r\nQ 54.890625 44.34375 54.890625 33.015625 \r\nz\r\n\" id=\"DejaVuSans-104\"/>\r\n      <path d=\"M 4.203125 54.6875 \r\nL 13.1875 54.6875 \r\nL 24.421875 12.015625 \r\nL 35.59375 54.6875 \r\nL 46.1875 54.6875 \r\nL 57.421875 12.015625 \r\nL 68.609375 54.6875 \r\nL 77.59375 54.6875 \r\nL 63.28125 0 \r\nL 52.6875 0 \r\nL 40.921875 44.828125 \r\nL 29.109375 0 \r\nL 18.5 0 \r\nz\r\n\" id=\"DejaVuSans-119\"/>\r\n     </defs>\r\n     <use xlink:href=\"#DejaVuSans-83\"/>\r\n     <use x=\"63.476562\" xlink:href=\"#DejaVuSans-99\"/>\r\n     <use x=\"118.457031\" xlink:href=\"#DejaVuSans-97\"/>\r\n     <use x=\"179.736328\" xlink:href=\"#DejaVuSans-116\"/>\r\n     <use x=\"218.945312\" xlink:href=\"#DejaVuSans-116\"/>\r\n     <use x=\"258.154297\" xlink:href=\"#DejaVuSans-101\"/>\r\n     <use x=\"319.677734\" xlink:href=\"#DejaVuSans-114\"/>\r\n     <use x=\"360.791016\" xlink:href=\"#DejaVuSans-32\"/>\r\n     <use x=\"392.578125\" xlink:href=\"#DejaVuSans-112\"/>\r\n     <use x=\"456.054688\" xlink:href=\"#DejaVuSans-108\"/>\r\n     <use x=\"483.837891\" xlink:href=\"#DejaVuSans-111\"/>\r\n     <use x=\"545.019531\" xlink:href=\"#DejaVuSans-116\"/>\r\n     <use x=\"584.228516\" xlink:href=\"#DejaVuSans-32\"/>\r\n     <use x=\"616.015625\" xlink:href=\"#DejaVuSans-99\"/>\r\n     <use x=\"670.996094\" xlink:href=\"#DejaVuSans-111\"/>\r\n     <use x=\"732.177734\" xlink:href=\"#DejaVuSans-109\"/>\r\n     <use x=\"829.589844\" xlink:href=\"#DejaVuSans-109\"/>\r\n     <use x=\"927.001953\" xlink:href=\"#DejaVuSans-101\"/>\r\n     <use x=\"988.525391\" xlink:href=\"#DejaVuSans-110\"/>\r\n     <use x=\"1051.904297\" xlink:href=\"#DejaVuSans-116\"/>\r\n     <use x=\"1091.113281\" xlink:href=\"#DejaVuSans-115\"/>\r\n     <use x=\"1143.212891\" xlink:href=\"#DejaVuSans-32\"/>\r\n     <use x=\"1175\" xlink:href=\"#DejaVuSans-118\"/>\r\n     <use x=\"1234.179688\" xlink:href=\"#DejaVuSans-115\"/>\r\n     <use x=\"1286.279297\" xlink:href=\"#DejaVuSans-32\"/>\r\n     <use x=\"1318.066406\" xlink:href=\"#DejaVuSans-108\"/>\r\n     <use x=\"1345.849609\" xlink:href=\"#DejaVuSans-105\"/>\r\n     <use x=\"1373.632812\" xlink:href=\"#DejaVuSans-107\"/>\r\n     <use x=\"1427.917969\" xlink:href=\"#DejaVuSans-101\"/>\r\n     <use x=\"1489.441406\" xlink:href=\"#DejaVuSans-115\"/>\r\n     <use x=\"1541.541016\" xlink:href=\"#DejaVuSans-32\"/>\r\n     <use x=\"1573.328125\" xlink:href=\"#DejaVuSans-66\"/>\r\n     <use x=\"1641.931641\" xlink:href=\"#DejaVuSans-117\"/>\r\n     <use x=\"1705.310547\" xlink:href=\"#DejaVuSans-116\"/>\r\n     <use x=\"1744.519531\" xlink:href=\"#DejaVuSans-104\"/>\r\n     <use x=\"1807.898438\" xlink:href=\"#DejaVuSans-101\"/>\r\n     <use x=\"1869.421875\" xlink:href=\"#DejaVuSans-119\"/>\r\n     <use x=\"1951.208984\" xlink:href=\"#DejaVuSans-101\"/>\r\n     <use x=\"2012.732422\" xlink:href=\"#DejaVuSans-115\"/>\r\n     <use x=\"2064.832031\" xlink:href=\"#DejaVuSans-116\"/>\r\n     <use x=\"2104.041016\" xlink:href=\"#DejaVuSans-105\"/>\r\n     <use x=\"2131.824219\" xlink:href=\"#DejaVuSans-101\"/>\r\n    </g>\r\n   </g>\r\n  </g>\r\n </g>\r\n <defs>\r\n  <clipPath id=\"p40caf103f7\">\r\n   <rect height=\"217.44\" width=\"334.8\" x=\"40.603125\" y=\"22.318125\"/>\r\n  </clipPath>\r\n </defs>\r\n</svg>\r\n",
      "image/png": "[encoded data removed]"
     },
     "metadata": {
      "needs_background": "light"
     }
    }
   ],
   "source": [
    "plt.scatter(x=buthewestie_df1[\"likes\"], y = buthewestie_df1[\"comments\"], c = buthewestie_df1[\"giveaway\"])\n",
    "plt.xlabel(\"Comentarios\")\n",
    "plt.ylabel(\"Likes\")\n",
    "plt.title(\"Scatter plot comments vs likes Buthewestie\")"
   ]
  },
  {
   "source": [
    "## Mapa de calor por horas del día\n",
    "\n",
    "Exisitirá una combinación de hora del día y día de la semana que sea mejor para maximizar la cantidad de likes? "
   ],
   "cell_type": "markdown",
   "metadata": {}
  },
  {
   "source": [
    "### Ejemplo\n",
    "\n",
    "Este mapa de calor utiliza una dataset llamada *heatmap.csv*. La columna *cost* representa el costo de la plataforma en la fecha indicada. La columna *flag* tiene un 1 si el costo es mayor que 0."
   ],
   "cell_type": "markdown",
   "metadata": {}
  },
  {
   "source": [
    "df = pd.read_csv('heatmap.csv')\n",
    "df.head()"
   ],
   "cell_type": "code",
   "metadata": {},
   "execution_count": 119,
   "outputs": [
    {
     "output_type": "execute_result",
     "data": {
      "text/plain": [
       "       date platform        cost  flag\n",
       "0  3/1/2021   Google  511.975395     1\n",
       "1  3/2/2021   Google  586.273582     1\n",
       "2  3/3/2021   Google   11.186823     1\n",
       "3  3/4/2021   Google  449.370816     1\n",
       "4  3/5/2021   Google  908.432428     1"
      ],
      "text/html": "<div>\n<style scoped>\n    .dataframe tbody tr th:only-of-type {\n        vertical-align: middle;\n    }\n\n    .dataframe tbody tr th {\n        vertical-align: top;\n    }\n\n    .dataframe thead th {\n        text-align: right;\n    }\n</style>\n<table border=\"1\" class=\"dataframe\">\n  <thead>\n    <tr style=\"text-align: right;\">\n      <th></th>\n      <th>date</th>\n      <th>platform</th>\n      <th>cost</th>\n      <th>flag</th>\n    </tr>\n  </thead>\n  <tbody>\n    <tr>\n      <th>0</th>\n      <td>3/1/2021</td>\n      <td>Google</td>\n      <td>511.975395</td>\n      <td>1</td>\n    </tr>\n    <tr>\n      <th>1</th>\n      <td>3/2/2021</td>\n      <td>Google</td>\n      <td>586.273582</td>\n      <td>1</td>\n    </tr>\n    <tr>\n      <th>2</th>\n      <td>3/3/2021</td>\n      <td>Google</td>\n      <td>11.186823</td>\n      <td>1</td>\n    </tr>\n    <tr>\n      <th>3</th>\n      <td>3/4/2021</td>\n      <td>Google</td>\n      <td>449.370816</td>\n      <td>1</td>\n    </tr>\n    <tr>\n      <th>4</th>\n      <td>3/5/2021</td>\n      <td>Google</td>\n      <td>908.432428</td>\n      <td>1</td>\n    </tr>\n  </tbody>\n</table>\n</div>"
     },
     "metadata": {},
     "execution_count": 119
    }
   ]
  },
  {
   "source": [
    "En este ejemplo utilizamos la columna *flag* y veremos en amarillo los días en que no tenemos costo. Podemos utilizar esto como un método para validar que los datos estén correctos. "
   ],
   "cell_type": "markdown",
   "metadata": {}
  },
  {
   "cell_type": "code",
   "execution_count": 120,
   "metadata": {},
   "outputs": [
    {
     "output_type": "execute_result",
     "data": {
      "text/plain": [
       "<AxesSubplot:xlabel='date', ylabel='platform'>"
      ]
     },
     "metadata": {},
     "execution_count": 120
    },
    {
     "output_type": "display_data",
     "data": {
      "text/plain": "<Figure size 432x288 with 2 Axes>",
      "image/svg+xml": "<?xml version=\"1.0\" encoding=\"utf-8\" standalone=\"no\"?>\r\n<!DOCTYPE svg PUBLIC \"-//W3C//DTD SVG 1.1//EN\"\r\n  \"http://www.w3.org/Graphics/SVG/1.1/DTD/svg11.dtd\">\r\n<!-- Created with matplotlib (https://matplotlib.org/) -->\r\n<svg height=\"307.592344pt\" version=\"1.1\" viewBox=\"0 0 363.111375 307.592344\" width=\"363.111375pt\" xmlns=\"http://www.w3.org/2000/svg\" xmlns:xlink=\"http://www.w3.org/1999/xlink\">\r\n <metadata>\r\n  <rdf:RDF xmlns:cc=\"http://creativecommons.org/ns#\" xmlns:dc=\"http://purl.org/dc/elements/1.1/\" xmlns:rdf=\"http://www.w3.org/1999/02/22-rdf-syntax-ns#\">\r\n   <cc:Work>\r\n    <dc:type rdf:resource=\"http://purl.org/dc/dcmitype/StillImage\"/>\r\n    <dc:date>2021-04-11T00:44:26.782773</dc:date>\r\n    <dc:format>image/svg+xml</dc:format>\r\n    <dc:creator>\r\n     <cc:Agent>\r\n      <dc:title>Matplotlib v3.3.2, https://matplotlib.org/</dc:title>\r\n     </cc:Agent>\r\n    </dc:creator>\r\n   </cc:Work>\r\n  </rdf:RDF>\r\n </metadata>\r\n <defs>\r\n  <style type=\"text/css\">*{stroke-linecap:butt;stroke-linejoin:round;}</style>\r\n </defs>\r\n <g id=\"figure_1\">\r\n  <g id=\"patch_1\">\r\n   <path d=\"M 0 307.592344 \r\nL 363.111375 307.592344 \r\nL 363.111375 0 \r\nL 0 0 \r\nz\r\n\" style=\"fill:none;\"/>\r\n  </g>\r\n  <g id=\"axes_1\">\r\n   <g id=\"patch_2\">\r\n    <path d=\"M 37.55625 228.439219 \r\nL 305.39625 228.439219 \r\nL 305.39625 10.999219 \r\nL 37.55625 10.999219 \r\nz\r\n\" style=\"fill:#ffffff;\"/>\r\n   </g>\r\n   <g id=\"QuadMesh_1\">\r\n    <path clip-path=\"url(#p49f2d78674)\" d=\"M 37.55625 10.999219 \r\nL 55.41225 10.999219 \r\nL 55.41225 83.479219 \r\nL 37.55625 83.479219 \r\nL 37.55625 10.999219 \r\n\" style=\"fill:#ffffd9;stroke:#ffffff;stroke-width:0.5;\"/>\r\n    <path clip-path=\"url(#p49f2d78674)\" d=\"M 55.41225 10.999219 \r\nL 73.26825 10.999219 \r\nL 73.26825 83.479219 \r\nL 55.41225 83.479219 \r\nL 55.41225 10.999219 \r\n\" style=\"fill:#ffffd9;stroke:#ffffff;stroke-width:0.5;\"/>\r\n    <path clip-path=\"url(#p49f2d78674)\" d=\"M 73.26825 10.999219 \r\nL 91.12425 10.999219 \r\nL 91.12425 83.479219 \r\nL 73.26825 83.479219 \r\nL 73.26825 10.999219 \r\n\" style=\"fill:#ffffd9;stroke:#ffffff;stroke-width:0.5;\"/>\r\n    <path clip-path=\"url(#p49f2d78674)\" d=\"M 91.12425 10.999219 \r\nL 108.98025 10.999219 \r\nL 108.98025 83.479219 \r\nL 91.12425 83.479219 \r\nL 91.12425 10.999219 \r\n\" style=\"fill:#ffffd9;stroke:#ffffff;stroke-width:0.5;\"/>\r\n    <path clip-path=\"url(#p49f2d78674)\" d=\"M 108.98025 10.999219 \r\nL 126.83625 10.999219 \r\nL 126.83625 83.479219 \r\nL 108.98025 83.479219 \r\nL 108.98025 10.999219 \r\n\" style=\"fill:#081d58;stroke:#ffffff;stroke-width:0.5;\"/>\r\n    <path clip-path=\"url(#p49f2d78674)\" d=\"M 126.83625 10.999219 \r\nL 144.69225 10.999219 \r\nL 144.69225 83.479219 \r\nL 126.83625 83.479219 \r\nL 126.83625 10.999219 \r\n\" style=\"fill:#081d58;stroke:#ffffff;stroke-width:0.5;\"/>\r\n    <path clip-path=\"url(#p49f2d78674)\" d=\"M 144.69225 10.999219 \r\nL 162.54825 10.999219 \r\nL 162.54825 83.479219 \r\nL 144.69225 83.479219 \r\nL 144.69225 10.999219 \r\n\" style=\"fill:#ffffd9;stroke:#ffffff;stroke-width:0.5;\"/>\r\n    <path clip-path=\"url(#p49f2d78674)\" d=\"M 162.54825 10.999219 \r\nL 180.40425 10.999219 \r\nL 180.40425 83.479219 \r\nL 162.54825 83.479219 \r\nL 162.54825 10.999219 \r\n\" style=\"fill:#ffffd9;stroke:#ffffff;stroke-width:0.5;\"/>\r\n    <path clip-path=\"url(#p49f2d78674)\" d=\"M 180.40425 10.999219 \r\nL 198.26025 10.999219 \r\nL 198.26025 83.479219 \r\nL 180.40425 83.479219 \r\nL 180.40425 10.999219 \r\n\" style=\"fill:#ffffd9;stroke:#ffffff;stroke-width:0.5;\"/>\r\n    <path clip-path=\"url(#p49f2d78674)\" d=\"M 198.26025 10.999219 \r\nL 216.11625 10.999219 \r\nL 216.11625 83.479219 \r\nL 198.26025 83.479219 \r\nL 198.26025 10.999219 \r\n\" style=\"fill:#ffffd9;stroke:#ffffff;stroke-width:0.5;\"/>\r\n    <path clip-path=\"url(#p49f2d78674)\" d=\"M 216.11625 10.999219 \r\nL 233.97225 10.999219 \r\nL 233.97225 83.479219 \r\nL 216.11625 83.479219 \r\nL 216.11625 10.999219 \r\n\" style=\"fill:#ffffd9;stroke:#ffffff;stroke-width:0.5;\"/>\r\n    <path clip-path=\"url(#p49f2d78674)\" d=\"M 233.97225 10.999219 \r\nL 251.82825 10.999219 \r\nL 251.82825 83.479219 \r\nL 233.97225 83.479219 \r\nL 233.97225 10.999219 \r\n\" style=\"fill:#081d58;stroke:#ffffff;stroke-width:0.5;\"/>\r\n    <path clip-path=\"url(#p49f2d78674)\" d=\"M 251.82825 10.999219 \r\nL 269.68425 10.999219 \r\nL 269.68425 83.479219 \r\nL 251.82825 83.479219 \r\nL 251.82825 10.999219 \r\n\" style=\"fill:#081d58;stroke:#ffffff;stroke-width:0.5;\"/>\r\n    <path clip-path=\"url(#p49f2d78674)\" d=\"M 269.68425 10.999219 \r\nL 287.54025 10.999219 \r\nL 287.54025 83.479219 \r\nL 269.68425 83.479219 \r\nL 269.68425 10.999219 \r\n\" style=\"fill:#081d58;stroke:#ffffff;stroke-width:0.5;\"/>\r\n    <path clip-path=\"url(#p49f2d78674)\" d=\"M 287.54025 10.999219 \r\nL 305.39625 10.999219 \r\nL 305.39625 83.479219 \r\nL 287.54025 83.479219 \r\nL 287.54025 10.999219 \r\n\" style=\"fill:#081d58;stroke:#ffffff;stroke-width:0.5;\"/>\r\n    <path clip-path=\"url(#p49f2d78674)\" d=\"M 37.55625 83.479219 \r\nL 55.41225 83.479219 \r\nL 55.41225 155.959219 \r\nL 37.55625 155.959219 \r\nL 37.55625 83.479219 \r\n\" style=\"fill:#081d58;stroke:#ffffff;stroke-width:0.5;\"/>\r\n    <path clip-path=\"url(#p49f2d78674)\" d=\"M 55.41225 83.479219 \r\nL 73.26825 83.479219 \r\nL 73.26825 155.959219 \r\nL 55.41225 155.959219 \r\nL 55.41225 83.479219 \r\n\" style=\"fill:#ffffd9;stroke:#ffffff;stroke-width:0.5;\"/>\r\n    <path clip-path=\"url(#p49f2d78674)\" d=\"M 73.26825 83.479219 \r\nL 91.12425 83.479219 \r\nL 91.12425 155.959219 \r\nL 73.26825 155.959219 \r\nL 73.26825 83.479219 \r\n\" style=\"fill:#ffffd9;stroke:#ffffff;stroke-width:0.5;\"/>\r\n    <path clip-path=\"url(#p49f2d78674)\" d=\"M 91.12425 83.479219 \r\nL 108.98025 83.479219 \r\nL 108.98025 155.959219 \r\nL 91.12425 155.959219 \r\nL 91.12425 83.479219 \r\n\" style=\"fill:#ffffd9;stroke:#ffffff;stroke-width:0.5;\"/>\r\n    <path clip-path=\"url(#p49f2d78674)\" d=\"M 108.98025 83.479219 \r\nL 126.83625 83.479219 \r\nL 126.83625 155.959219 \r\nL 108.98025 155.959219 \r\nL 108.98025 83.479219 \r\n\" style=\"fill:#081d58;stroke:#ffffff;stroke-width:0.5;\"/>\r\n    <path clip-path=\"url(#p49f2d78674)\" d=\"M 126.83625 83.479219 \r\nL 144.69225 83.479219 \r\nL 144.69225 155.959219 \r\nL 126.83625 155.959219 \r\nL 126.83625 83.479219 \r\n\" style=\"fill:#081d58;stroke:#ffffff;stroke-width:0.5;\"/>\r\n    <path clip-path=\"url(#p49f2d78674)\" d=\"M 144.69225 83.479219 \r\nL 162.54825 83.479219 \r\nL 162.54825 155.959219 \r\nL 144.69225 155.959219 \r\nL 144.69225 83.479219 \r\n\" style=\"fill:#081d58;stroke:#ffffff;stroke-width:0.5;\"/>\r\n    <path clip-path=\"url(#p49f2d78674)\" d=\"M 162.54825 83.479219 \r\nL 180.40425 83.479219 \r\nL 180.40425 155.959219 \r\nL 162.54825 155.959219 \r\nL 162.54825 83.479219 \r\n\" style=\"fill:#081d58;stroke:#ffffff;stroke-width:0.5;\"/>\r\n    <path clip-path=\"url(#p49f2d78674)\" d=\"M 180.40425 83.479219 \r\nL 198.26025 83.479219 \r\nL 198.26025 155.959219 \r\nL 180.40425 155.959219 \r\nL 180.40425 83.479219 \r\n\" style=\"fill:#081d58;stroke:#ffffff;stroke-width:0.5;\"/>\r\n    <path clip-path=\"url(#p49f2d78674)\" d=\"M 198.26025 83.479219 \r\nL 216.11625 83.479219 \r\nL 216.11625 155.959219 \r\nL 198.26025 155.959219 \r\nL 198.26025 83.479219 \r\n\" style=\"fill:#081d58;stroke:#ffffff;stroke-width:0.5;\"/>\r\n    <path clip-path=\"url(#p49f2d78674)\" d=\"M 216.11625 83.479219 \r\nL 233.97225 83.479219 \r\nL 233.97225 155.959219 \r\nL 216.11625 155.959219 \r\nL 216.11625 83.479219 \r\n\" style=\"fill:#081d58;stroke:#ffffff;stroke-width:0.5;\"/>\r\n    <path clip-path=\"url(#p49f2d78674)\" d=\"M 233.97225 83.479219 \r\nL 251.82825 83.479219 \r\nL 251.82825 155.959219 \r\nL 233.97225 155.959219 \r\nL 233.97225 83.479219 \r\n\" style=\"fill:#081d58;stroke:#ffffff;stroke-width:0.5;\"/>\r\n    <path clip-path=\"url(#p49f2d78674)\" d=\"M 251.82825 83.479219 \r\nL 269.68425 83.479219 \r\nL 269.68425 155.959219 \r\nL 251.82825 155.959219 \r\nL 251.82825 83.479219 \r\n\" style=\"fill:#081d58;stroke:#ffffff;stroke-width:0.5;\"/>\r\n    <path clip-path=\"url(#p49f2d78674)\" d=\"M 269.68425 83.479219 \r\nL 287.54025 83.479219 \r\nL 287.54025 155.959219 \r\nL 269.68425 155.959219 \r\nL 269.68425 83.479219 \r\n\" style=\"fill:#081d58;stroke:#ffffff;stroke-width:0.5;\"/>\r\n    <path clip-path=\"url(#p49f2d78674)\" d=\"M 287.54025 83.479219 \r\nL 305.39625 83.479219 \r\nL 305.39625 155.959219 \r\nL 287.54025 155.959219 \r\nL 287.54025 83.479219 \r\n\" style=\"fill:#081d58;stroke:#ffffff;stroke-width:0.5;\"/>\r\n    <path clip-path=\"url(#p49f2d78674)\" d=\"M 37.55625 155.959219 \r\nL 55.41225 155.959219 \r\nL 55.41225 228.439219 \r\nL 37.55625 228.439219 \r\nL 37.55625 155.959219 \r\n\" style=\"fill:#ffffd9;stroke:#ffffff;stroke-width:0.5;\"/>\r\n    <path clip-path=\"url(#p49f2d78674)\" d=\"M 55.41225 155.959219 \r\nL 73.26825 155.959219 \r\nL 73.26825 228.439219 \r\nL 55.41225 228.439219 \r\nL 55.41225 155.959219 \r\n\" style=\"fill:#081d58;stroke:#ffffff;stroke-width:0.5;\"/>\r\n    <path clip-path=\"url(#p49f2d78674)\" d=\"M 73.26825 155.959219 \r\nL 91.12425 155.959219 \r\nL 91.12425 228.439219 \r\nL 73.26825 228.439219 \r\nL 73.26825 155.959219 \r\n\" style=\"fill:#ffffd9;stroke:#ffffff;stroke-width:0.5;\"/>\r\n    <path clip-path=\"url(#p49f2d78674)\" d=\"M 91.12425 155.959219 \r\nL 108.98025 155.959219 \r\nL 108.98025 228.439219 \r\nL 91.12425 228.439219 \r\nL 91.12425 155.959219 \r\n\" style=\"fill:#081d58;stroke:#ffffff;stroke-width:0.5;\"/>\r\n    <path clip-path=\"url(#p49f2d78674)\" d=\"M 108.98025 155.959219 \r\nL 126.83625 155.959219 \r\nL 126.83625 228.439219 \r\nL 108.98025 228.439219 \r\nL 108.98025 155.959219 \r\n\" style=\"fill:#ffffd9;stroke:#ffffff;stroke-width:0.5;\"/>\r\n    <path clip-path=\"url(#p49f2d78674)\" d=\"M 126.83625 155.959219 \r\nL 144.69225 155.959219 \r\nL 144.69225 228.439219 \r\nL 126.83625 228.439219 \r\nL 126.83625 155.959219 \r\n\" style=\"fill:#081d58;stroke:#ffffff;stroke-width:0.5;\"/>\r\n    <path clip-path=\"url(#p49f2d78674)\" d=\"M 144.69225 155.959219 \r\nL 162.54825 155.959219 \r\nL 162.54825 228.439219 \r\nL 144.69225 228.439219 \r\nL 144.69225 155.959219 \r\n\" style=\"fill:#081d58;stroke:#ffffff;stroke-width:0.5;\"/>\r\n    <path clip-path=\"url(#p49f2d78674)\" d=\"M 162.54825 155.959219 \r\nL 180.40425 155.959219 \r\nL 180.40425 228.439219 \r\nL 162.54825 228.439219 \r\nL 162.54825 155.959219 \r\n\" style=\"fill:#081d58;stroke:#ffffff;stroke-width:0.5;\"/>\r\n    <path clip-path=\"url(#p49f2d78674)\" d=\"M 180.40425 155.959219 \r\nL 198.26025 155.959219 \r\nL 198.26025 228.439219 \r\nL 180.40425 228.439219 \r\nL 180.40425 155.959219 \r\n\" style=\"fill:#ffffd9;stroke:#ffffff;stroke-width:0.5;\"/>\r\n    <path clip-path=\"url(#p49f2d78674)\" d=\"M 198.26025 155.959219 \r\nL 216.11625 155.959219 \r\nL 216.11625 228.439219 \r\nL 198.26025 228.439219 \r\nL 198.26025 155.959219 \r\n\" style=\"fill:#081d58;stroke:#ffffff;stroke-width:0.5;\"/>\r\n    <path clip-path=\"url(#p49f2d78674)\" d=\"M 216.11625 155.959219 \r\nL 233.97225 155.959219 \r\nL 233.97225 228.439219 \r\nL 216.11625 228.439219 \r\nL 216.11625 155.959219 \r\n\" style=\"fill:#ffffd9;stroke:#ffffff;stroke-width:0.5;\"/>\r\n    <path clip-path=\"url(#p49f2d78674)\" d=\"M 233.97225 155.959219 \r\nL 251.82825 155.959219 \r\nL 251.82825 228.439219 \r\nL 233.97225 228.439219 \r\nL 233.97225 155.959219 \r\n\" style=\"fill:#081d58;stroke:#ffffff;stroke-width:0.5;\"/>\r\n    <path clip-path=\"url(#p49f2d78674)\" d=\"M 251.82825 155.959219 \r\nL 269.68425 155.959219 \r\nL 269.68425 228.439219 \r\nL 251.82825 228.439219 \r\nL 251.82825 155.959219 \r\n\" style=\"fill:#081d58;stroke:#ffffff;stroke-width:0.5;\"/>\r\n    <path clip-path=\"url(#p49f2d78674)\" d=\"M 269.68425 155.959219 \r\nL 287.54025 155.959219 \r\nL 287.54025 228.439219 \r\nL 269.68425 228.439219 \r\nL 269.68425 155.959219 \r\n\" style=\"fill:#ffffd9;stroke:#ffffff;stroke-width:0.5;\"/>\r\n    <path clip-path=\"url(#p49f2d78674)\" d=\"M 287.54025 155.959219 \r\nL 305.39625 155.959219 \r\nL 305.39625 228.439219 \r\nL 287.54025 228.439219 \r\nL 287.54025 155.959219 \r\n\" style=\"fill:#081d58;stroke:#ffffff;stroke-width:0.5;\"/>\r\n   </g>\r\n   <g id=\"matplotlib.axis_1\">\r\n    <g id=\"xtick_1\">\r\n     <g id=\"line2d_1\">\r\n      <defs>\r\n       <path d=\"M 0 0 \r\nL 0 3.5 \r\n\" id=\"mfa2e4cdd46\" style=\"stroke:#000000;stroke-width:0.8;\"/>\r\n      </defs>\r\n      <g>\r\n       <use style=\"stroke:#000000;stroke-width:0.8;\" x=\"46.48425\" xlink:href=\"#mfa2e4cdd46\" y=\"228.439219\"/>\r\n      </g>\r\n     </g>\r\n     <g id=\"text_1\">\r\n      <!-- 3/1/2021 -->\r\n      <g transform=\"translate(49.243625 280.351719)rotate(-90)scale(0.1 -0.1)\">\r\n       <defs>\r\n        <path d=\"M 40.578125 39.3125 \r\nQ 47.65625 37.796875 51.625 33 \r\nQ 55.609375 28.21875 55.609375 21.1875 \r\nQ 55.609375 10.40625 48.1875 4.484375 \r\nQ 40.765625 -1.421875 27.09375 -1.421875 \r\nQ 22.515625 -1.421875 17.65625 -0.515625 \r\nQ 12.796875 0.390625 7.625 2.203125 \r\nL 7.625 11.71875 \r\nQ 11.71875 9.328125 16.59375 8.109375 \r\nQ 21.484375 6.890625 26.8125 6.890625 \r\nQ 36.078125 6.890625 40.9375 10.546875 \r\nQ 45.796875 14.203125 45.796875 21.1875 \r\nQ 45.796875 27.640625 41.28125 31.265625 \r\nQ 36.765625 34.90625 28.71875 34.90625 \r\nL 20.21875 34.90625 \r\nL 20.21875 43.015625 \r\nL 29.109375 43.015625 \r\nQ 36.375 43.015625 40.234375 45.921875 \r\nQ 44.09375 48.828125 44.09375 54.296875 \r\nQ 44.09375 59.90625 40.109375 62.90625 \r\nQ 36.140625 65.921875 28.71875 65.921875 \r\nQ 24.65625 65.921875 20.015625 65.03125 \r\nQ 15.375 64.15625 9.8125 62.3125 \r\nL 9.8125 71.09375 \r\nQ 15.4375 72.65625 20.34375 73.4375 \r\nQ 25.25 74.21875 29.59375 74.21875 \r\nQ 40.828125 74.21875 47.359375 69.109375 \r\nQ 53.90625 64.015625 53.90625 55.328125 \r\nQ 53.90625 49.265625 50.4375 45.09375 \r\nQ 46.96875 40.921875 40.578125 39.3125 \r\nz\r\n\" id=\"DejaVuSans-51\"/>\r\n        <path d=\"M 25.390625 72.90625 \r\nL 33.6875 72.90625 \r\nL 8.296875 -9.28125 \r\nL 0 -9.28125 \r\nz\r\n\" id=\"DejaVuSans-47\"/>\r\n        <path d=\"M 12.40625 8.296875 \r\nL 28.515625 8.296875 \r\nL 28.515625 63.921875 \r\nL 10.984375 60.40625 \r\nL 10.984375 69.390625 \r\nL 28.421875 72.90625 \r\nL 38.28125 72.90625 \r\nL 38.28125 8.296875 \r\nL 54.390625 8.296875 \r\nL 54.390625 0 \r\nL 12.40625 0 \r\nz\r\n\" id=\"DejaVuSans-49\"/>\r\n        <path d=\"M 19.1875 8.296875 \r\nL 53.609375 8.296875 \r\nL 53.609375 0 \r\nL 7.328125 0 \r\nL 7.328125 8.296875 \r\nQ 12.9375 14.109375 22.625 23.890625 \r\nQ 32.328125 33.6875 34.8125 36.53125 \r\nQ 39.546875 41.84375 41.421875 45.53125 \r\nQ 43.3125 49.21875 43.3125 52.78125 \r\nQ 43.3125 58.59375 39.234375 62.25 \r\nQ 35.15625 65.921875 28.609375 65.921875 \r\nQ 23.96875 65.921875 18.8125 64.3125 \r\nQ 13.671875 62.703125 7.8125 59.421875 \r\nL 7.8125 69.390625 \r\nQ 13.765625 71.78125 18.9375 73 \r\nQ 24.125 74.21875 28.421875 74.21875 \r\nQ 39.75 74.21875 46.484375 68.546875 \r\nQ 53.21875 62.890625 53.21875 53.421875 \r\nQ 53.21875 48.921875 51.53125 44.890625 \r\nQ 49.859375 40.875 45.40625 35.40625 \r\nQ 44.1875 33.984375 37.640625 27.21875 \r\nQ 31.109375 20.453125 19.1875 8.296875 \r\nz\r\n\" id=\"DejaVuSans-50\"/>\r\n        <path d=\"M 31.78125 66.40625 \r\nQ 24.171875 66.40625 20.328125 58.90625 \r\nQ 16.5 51.421875 16.5 36.375 \r\nQ 16.5 21.390625 20.328125 13.890625 \r\nQ 24.171875 6.390625 31.78125 6.390625 \r\nQ 39.453125 6.390625 43.28125 13.890625 \r\nQ 47.125 21.390625 47.125 36.375 \r\nQ 47.125 51.421875 43.28125 58.90625 \r\nQ 39.453125 66.40625 31.78125 66.40625 \r\nz\r\nM 31.78125 74.21875 \r\nQ 44.046875 74.21875 50.515625 64.515625 \r\nQ 56.984375 54.828125 56.984375 36.375 \r\nQ 56.984375 17.96875 50.515625 8.265625 \r\nQ 44.046875 -1.421875 31.78125 -1.421875 \r\nQ 19.53125 -1.421875 13.0625 8.265625 \r\nQ 6.59375 17.96875 6.59375 36.375 \r\nQ 6.59375 54.828125 13.0625 64.515625 \r\nQ 19.53125 74.21875 31.78125 74.21875 \r\nz\r\n\" id=\"DejaVuSans-48\"/>\r\n       </defs>\r\n       <use xlink:href=\"#DejaVuSans-51\"/>\r\n       <use x=\"63.623047\" xlink:href=\"#DejaVuSans-47\"/>\r\n       <use x=\"97.314453\" xlink:href=\"#DejaVuSans-49\"/>\r\n       <use x=\"160.9375\" xlink:href=\"#DejaVuSans-47\"/>\r\n       <use x=\"194.628906\" xlink:href=\"#DejaVuSans-50\"/>\r\n       <use x=\"258.251953\" xlink:href=\"#DejaVuSans-48\"/>\r\n       <use x=\"321.875\" xlink:href=\"#DejaVuSans-50\"/>\r\n       <use x=\"385.498047\" xlink:href=\"#DejaVuSans-49\"/>\r\n      </g>\r\n     </g>\r\n    </g>\r\n    <g id=\"xtick_2\">\r\n     <g id=\"line2d_2\">\r\n      <g>\r\n       <use style=\"stroke:#000000;stroke-width:0.8;\" x=\"64.34025\" xlink:href=\"#mfa2e4cdd46\" y=\"228.439219\"/>\r\n      </g>\r\n     </g>\r\n     <g id=\"text_2\">\r\n      <!-- 3/10/2021 -->\r\n      <g transform=\"translate(67.099625 286.714219)rotate(-90)scale(0.1 -0.1)\">\r\n       <use xlink:href=\"#DejaVuSans-51\"/>\r\n       <use x=\"63.623047\" xlink:href=\"#DejaVuSans-47\"/>\r\n       <use x=\"97.314453\" xlink:href=\"#DejaVuSans-49\"/>\r\n       <use x=\"160.9375\" xlink:href=\"#DejaVuSans-48\"/>\r\n       <use x=\"224.560547\" xlink:href=\"#DejaVuSans-47\"/>\r\n       <use x=\"258.251953\" xlink:href=\"#DejaVuSans-50\"/>\r\n       <use x=\"321.875\" xlink:href=\"#DejaVuSans-48\"/>\r\n       <use x=\"385.498047\" xlink:href=\"#DejaVuSans-50\"/>\r\n       <use x=\"449.121094\" xlink:href=\"#DejaVuSans-49\"/>\r\n      </g>\r\n     </g>\r\n    </g>\r\n    <g id=\"xtick_3\">\r\n     <g id=\"line2d_3\">\r\n      <g>\r\n       <use style=\"stroke:#000000;stroke-width:0.8;\" x=\"82.19625\" xlink:href=\"#mfa2e4cdd46\" y=\"228.439219\"/>\r\n      </g>\r\n     </g>\r\n     <g id=\"text_3\">\r\n      <!-- 3/11/2021 -->\r\n      <g transform=\"translate(84.955625 286.714219)rotate(-90)scale(0.1 -0.1)\">\r\n       <use xlink:href=\"#DejaVuSans-51\"/>\r\n       <use x=\"63.623047\" xlink:href=\"#DejaVuSans-47\"/>\r\n       <use x=\"97.314453\" xlink:href=\"#DejaVuSans-49\"/>\r\n       <use x=\"160.9375\" xlink:href=\"#DejaVuSans-49\"/>\r\n       <use x=\"224.560547\" xlink:href=\"#DejaVuSans-47\"/>\r\n       <use x=\"258.251953\" xlink:href=\"#DejaVuSans-50\"/>\r\n       <use x=\"321.875\" xlink:href=\"#DejaVuSans-48\"/>\r\n       <use x=\"385.498047\" xlink:href=\"#DejaVuSans-50\"/>\r\n       <use x=\"449.121094\" xlink:href=\"#DejaVuSans-49\"/>\r\n      </g>\r\n     </g>\r\n    </g>\r\n    <g id=\"xtick_4\">\r\n     <g id=\"line2d_4\">\r\n      <g>\r\n       <use style=\"stroke:#000000;stroke-width:0.8;\" x=\"100.05225\" xlink:href=\"#mfa2e4cdd46\" y=\"228.439219\"/>\r\n      </g>\r\n     </g>\r\n     <g id=\"text_4\">\r\n      <!-- 3/12/2021 -->\r\n      <g transform=\"translate(102.811625 286.714219)rotate(-90)scale(0.1 -0.1)\">\r\n       <use xlink:href=\"#DejaVuSans-51\"/>\r\n       <use x=\"63.623047\" xlink:href=\"#DejaVuSans-47\"/>\r\n       <use x=\"97.314453\" xlink:href=\"#DejaVuSans-49\"/>\r\n       <use x=\"160.9375\" xlink:href=\"#DejaVuSans-50\"/>\r\n       <use x=\"224.560547\" xlink:href=\"#DejaVuSans-47\"/>\r\n       <use x=\"258.251953\" xlink:href=\"#DejaVuSans-50\"/>\r\n       <use x=\"321.875\" xlink:href=\"#DejaVuSans-48\"/>\r\n       <use x=\"385.498047\" xlink:href=\"#DejaVuSans-50\"/>\r\n       <use x=\"449.121094\" xlink:href=\"#DejaVuSans-49\"/>\r\n      </g>\r\n     </g>\r\n    </g>\r\n    <g id=\"xtick_5\">\r\n     <g id=\"line2d_5\">\r\n      <g>\r\n       <use style=\"stroke:#000000;stroke-width:0.8;\" x=\"117.90825\" xlink:href=\"#mfa2e4cdd46\" y=\"228.439219\"/>\r\n      </g>\r\n     </g>\r\n     <g id=\"text_5\">\r\n      <!-- 3/13/2021 -->\r\n      <g transform=\"translate(120.667625 286.714219)rotate(-90)scale(0.1 -0.1)\">\r\n       <use xlink:href=\"#DejaVuSans-51\"/>\r\n       <use x=\"63.623047\" xlink:href=\"#DejaVuSans-47\"/>\r\n       <use x=\"97.314453\" xlink:href=\"#DejaVuSans-49\"/>\r\n       <use x=\"160.9375\" xlink:href=\"#DejaVuSans-51\"/>\r\n       <use x=\"224.560547\" xlink:href=\"#DejaVuSans-47\"/>\r\n       <use x=\"258.251953\" xlink:href=\"#DejaVuSans-50\"/>\r\n       <use x=\"321.875\" xlink:href=\"#DejaVuSans-48\"/>\r\n       <use x=\"385.498047\" xlink:href=\"#DejaVuSans-50\"/>\r\n       <use x=\"449.121094\" xlink:href=\"#DejaVuSans-49\"/>\r\n      </g>\r\n     </g>\r\n    </g>\r\n    <g id=\"xtick_6\">\r\n     <g id=\"line2d_6\">\r\n      <g>\r\n       <use style=\"stroke:#000000;stroke-width:0.8;\" x=\"135.76425\" xlink:href=\"#mfa2e4cdd46\" y=\"228.439219\"/>\r\n      </g>\r\n     </g>\r\n     <g id=\"text_6\">\r\n      <!-- 3/14/2021 -->\r\n      <g transform=\"translate(138.523625 286.714219)rotate(-90)scale(0.1 -0.1)\">\r\n       <defs>\r\n        <path d=\"M 37.796875 64.3125 \r\nL 12.890625 25.390625 \r\nL 37.796875 25.390625 \r\nz\r\nM 35.203125 72.90625 \r\nL 47.609375 72.90625 \r\nL 47.609375 25.390625 \r\nL 58.015625 25.390625 \r\nL 58.015625 17.1875 \r\nL 47.609375 17.1875 \r\nL 47.609375 0 \r\nL 37.796875 0 \r\nL 37.796875 17.1875 \r\nL 4.890625 17.1875 \r\nL 4.890625 26.703125 \r\nz\r\n\" id=\"DejaVuSans-52\"/>\r\n       </defs>\r\n       <use xlink:href=\"#DejaVuSans-51\"/>\r\n       <use x=\"63.623047\" xlink:href=\"#DejaVuSans-47\"/>\r\n       <use x=\"97.314453\" xlink:href=\"#DejaVuSans-49\"/>\r\n       <use x=\"160.9375\" xlink:href=\"#DejaVuSans-52\"/>\r\n       <use x=\"224.560547\" xlink:href=\"#DejaVuSans-47\"/>\r\n       <use x=\"258.251953\" xlink:href=\"#DejaVuSans-50\"/>\r\n       <use x=\"321.875\" xlink:href=\"#DejaVuSans-48\"/>\r\n       <use x=\"385.498047\" xlink:href=\"#DejaVuSans-50\"/>\r\n       <use x=\"449.121094\" xlink:href=\"#DejaVuSans-49\"/>\r\n      </g>\r\n     </g>\r\n    </g>\r\n    <g id=\"xtick_7\">\r\n     <g id=\"line2d_7\">\r\n      <g>\r\n       <use style=\"stroke:#000000;stroke-width:0.8;\" x=\"153.62025\" xlink:href=\"#mfa2e4cdd46\" y=\"228.439219\"/>\r\n      </g>\r\n     </g>\r\n     <g id=\"text_7\">\r\n      <!-- 3/15/2021 -->\r\n      <g transform=\"translate(156.379625 286.714219)rotate(-90)scale(0.1 -0.1)\">\r\n       <defs>\r\n        <path d=\"M 10.796875 72.90625 \r\nL 49.515625 72.90625 \r\nL 49.515625 64.59375 \r\nL 19.828125 64.59375 \r\nL 19.828125 46.734375 \r\nQ 21.96875 47.46875 24.109375 47.828125 \r\nQ 26.265625 48.1875 28.421875 48.1875 \r\nQ 40.625 48.1875 47.75 41.5 \r\nQ 54.890625 34.8125 54.890625 23.390625 \r\nQ 54.890625 11.625 47.5625 5.09375 \r\nQ 40.234375 -1.421875 26.90625 -1.421875 \r\nQ 22.3125 -1.421875 17.546875 -0.640625 \r\nQ 12.796875 0.140625 7.71875 1.703125 \r\nL 7.71875 11.625 \r\nQ 12.109375 9.234375 16.796875 8.0625 \r\nQ 21.484375 6.890625 26.703125 6.890625 \r\nQ 35.15625 6.890625 40.078125 11.328125 \r\nQ 45.015625 15.765625 45.015625 23.390625 \r\nQ 45.015625 31 40.078125 35.4375 \r\nQ 35.15625 39.890625 26.703125 39.890625 \r\nQ 22.75 39.890625 18.8125 39.015625 \r\nQ 14.890625 38.140625 10.796875 36.28125 \r\nz\r\n\" id=\"DejaVuSans-53\"/>\r\n       </defs>\r\n       <use xlink:href=\"#DejaVuSans-51\"/>\r\n       <use x=\"63.623047\" xlink:href=\"#DejaVuSans-47\"/>\r\n       <use x=\"97.314453\" xlink:href=\"#DejaVuSans-49\"/>\r\n       <use x=\"160.9375\" xlink:href=\"#DejaVuSans-53\"/>\r\n       <use x=\"224.560547\" xlink:href=\"#DejaVuSans-47\"/>\r\n       <use x=\"258.251953\" xlink:href=\"#DejaVuSans-50\"/>\r\n       <use x=\"321.875\" xlink:href=\"#DejaVuSans-48\"/>\r\n       <use x=\"385.498047\" xlink:href=\"#DejaVuSans-50\"/>\r\n       <use x=\"449.121094\" xlink:href=\"#DejaVuSans-49\"/>\r\n      </g>\r\n     </g>\r\n    </g>\r\n    <g id=\"xtick_8\">\r\n     <g id=\"line2d_8\">\r\n      <g>\r\n       <use style=\"stroke:#000000;stroke-width:0.8;\" x=\"171.47625\" xlink:href=\"#mfa2e4cdd46\" y=\"228.439219\"/>\r\n      </g>\r\n     </g>\r\n     <g id=\"text_8\">\r\n      <!-- 3/2/2021 -->\r\n      <g transform=\"translate(174.235625 280.351719)rotate(-90)scale(0.1 -0.1)\">\r\n       <use xlink:href=\"#DejaVuSans-51\"/>\r\n       <use x=\"63.623047\" xlink:href=\"#DejaVuSans-47\"/>\r\n       <use x=\"97.314453\" xlink:href=\"#DejaVuSans-50\"/>\r\n       <use x=\"160.9375\" xlink:href=\"#DejaVuSans-47\"/>\r\n       <use x=\"194.628906\" xlink:href=\"#DejaVuSans-50\"/>\r\n       <use x=\"258.251953\" xlink:href=\"#DejaVuSans-48\"/>\r\n       <use x=\"321.875\" xlink:href=\"#DejaVuSans-50\"/>\r\n       <use x=\"385.498047\" xlink:href=\"#DejaVuSans-49\"/>\r\n      </g>\r\n     </g>\r\n    </g>\r\n    <g id=\"xtick_9\">\r\n     <g id=\"line2d_9\">\r\n      <g>\r\n       <use style=\"stroke:#000000;stroke-width:0.8;\" x=\"189.33225\" xlink:href=\"#mfa2e4cdd46\" y=\"228.439219\"/>\r\n      </g>\r\n     </g>\r\n     <g id=\"text_9\">\r\n      <!-- 3/3/2021 -->\r\n      <g transform=\"translate(192.091625 280.351719)rotate(-90)scale(0.1 -0.1)\">\r\n       <use xlink:href=\"#DejaVuSans-51\"/>\r\n       <use x=\"63.623047\" xlink:href=\"#DejaVuSans-47\"/>\r\n       <use x=\"97.314453\" xlink:href=\"#DejaVuSans-51\"/>\r\n       <use x=\"160.9375\" xlink:href=\"#DejaVuSans-47\"/>\r\n       <use x=\"194.628906\" xlink:href=\"#DejaVuSans-50\"/>\r\n       <use x=\"258.251953\" xlink:href=\"#DejaVuSans-48\"/>\r\n       <use x=\"321.875\" xlink:href=\"#DejaVuSans-50\"/>\r\n       <use x=\"385.498047\" xlink:href=\"#DejaVuSans-49\"/>\r\n      </g>\r\n     </g>\r\n    </g>\r\n    <g id=\"xtick_10\">\r\n     <g id=\"line2d_10\">\r\n      <g>\r\n       <use style=\"stroke:#000000;stroke-width:0.8;\" x=\"207.18825\" xlink:href=\"#mfa2e4cdd46\" y=\"228.439219\"/>\r\n      </g>\r\n     </g>\r\n     <g id=\"text_10\">\r\n      <!-- 3/4/2021 -->\r\n      <g transform=\"translate(209.947625 280.351719)rotate(-90)scale(0.1 -0.1)\">\r\n       <use xlink:href=\"#DejaVuSans-51\"/>\r\n       <use x=\"63.623047\" xlink:href=\"#DejaVuSans-47\"/>\r\n       <use x=\"97.314453\" xlink:href=\"#DejaVuSans-52\"/>\r\n       <use x=\"160.9375\" xlink:href=\"#DejaVuSans-47\"/>\r\n       <use x=\"194.628906\" xlink:href=\"#DejaVuSans-50\"/>\r\n       <use x=\"258.251953\" xlink:href=\"#DejaVuSans-48\"/>\r\n       <use x=\"321.875\" xlink:href=\"#DejaVuSans-50\"/>\r\n       <use x=\"385.498047\" xlink:href=\"#DejaVuSans-49\"/>\r\n      </g>\r\n     </g>\r\n    </g>\r\n    <g id=\"xtick_11\">\r\n     <g id=\"line2d_11\">\r\n      <g>\r\n       <use style=\"stroke:#000000;stroke-width:0.8;\" x=\"225.04425\" xlink:href=\"#mfa2e4cdd46\" y=\"228.439219\"/>\r\n      </g>\r\n     </g>\r\n     <g id=\"text_11\">\r\n      <!-- 3/5/2021 -->\r\n      <g transform=\"translate(227.803625 280.351719)rotate(-90)scale(0.1 -0.1)\">\r\n       <use xlink:href=\"#DejaVuSans-51\"/>\r\n       <use x=\"63.623047\" xlink:href=\"#DejaVuSans-47\"/>\r\n       <use x=\"97.314453\" xlink:href=\"#DejaVuSans-53\"/>\r\n       <use x=\"160.9375\" xlink:href=\"#DejaVuSans-47\"/>\r\n       <use x=\"194.628906\" xlink:href=\"#DejaVuSans-50\"/>\r\n       <use x=\"258.251953\" xlink:href=\"#DejaVuSans-48\"/>\r\n       <use x=\"321.875\" xlink:href=\"#DejaVuSans-50\"/>\r\n       <use x=\"385.498047\" xlink:href=\"#DejaVuSans-49\"/>\r\n      </g>\r\n     </g>\r\n    </g>\r\n    <g id=\"xtick_12\">\r\n     <g id=\"line2d_12\">\r\n      <g>\r\n       <use style=\"stroke:#000000;stroke-width:0.8;\" x=\"242.90025\" xlink:href=\"#mfa2e4cdd46\" y=\"228.439219\"/>\r\n      </g>\r\n     </g>\r\n     <g id=\"text_12\">\r\n      <!-- 3/6/2021 -->\r\n      <g transform=\"translate(245.659625 280.351719)rotate(-90)scale(0.1 -0.1)\">\r\n       <defs>\r\n        <path d=\"M 33.015625 40.375 \r\nQ 26.375 40.375 22.484375 35.828125 \r\nQ 18.609375 31.296875 18.609375 23.390625 \r\nQ 18.609375 15.53125 22.484375 10.953125 \r\nQ 26.375 6.390625 33.015625 6.390625 \r\nQ 39.65625 6.390625 43.53125 10.953125 \r\nQ 47.40625 15.53125 47.40625 23.390625 \r\nQ 47.40625 31.296875 43.53125 35.828125 \r\nQ 39.65625 40.375 33.015625 40.375 \r\nz\r\nM 52.59375 71.296875 \r\nL 52.59375 62.3125 \r\nQ 48.875 64.0625 45.09375 64.984375 \r\nQ 41.3125 65.921875 37.59375 65.921875 \r\nQ 27.828125 65.921875 22.671875 59.328125 \r\nQ 17.53125 52.734375 16.796875 39.40625 \r\nQ 19.671875 43.65625 24.015625 45.921875 \r\nQ 28.375 48.1875 33.59375 48.1875 \r\nQ 44.578125 48.1875 50.953125 41.515625 \r\nQ 57.328125 34.859375 57.328125 23.390625 \r\nQ 57.328125 12.15625 50.6875 5.359375 \r\nQ 44.046875 -1.421875 33.015625 -1.421875 \r\nQ 20.359375 -1.421875 13.671875 8.265625 \r\nQ 6.984375 17.96875 6.984375 36.375 \r\nQ 6.984375 53.65625 15.1875 63.9375 \r\nQ 23.390625 74.21875 37.203125 74.21875 \r\nQ 40.921875 74.21875 44.703125 73.484375 \r\nQ 48.484375 72.75 52.59375 71.296875 \r\nz\r\n\" id=\"DejaVuSans-54\"/>\r\n       </defs>\r\n       <use xlink:href=\"#DejaVuSans-51\"/>\r\n       <use x=\"63.623047\" xlink:href=\"#DejaVuSans-47\"/>\r\n       <use x=\"97.314453\" xlink:href=\"#DejaVuSans-54\"/>\r\n       <use x=\"160.9375\" xlink:href=\"#DejaVuSans-47\"/>\r\n       <use x=\"194.628906\" xlink:href=\"#DejaVuSans-50\"/>\r\n       <use x=\"258.251953\" xlink:href=\"#DejaVuSans-48\"/>\r\n       <use x=\"321.875\" xlink:href=\"#DejaVuSans-50\"/>\r\n       <use x=\"385.498047\" xlink:href=\"#DejaVuSans-49\"/>\r\n      </g>\r\n     </g>\r\n    </g>\r\n    <g id=\"xtick_13\">\r\n     <g id=\"line2d_13\">\r\n      <g>\r\n       <use style=\"stroke:#000000;stroke-width:0.8;\" x=\"260.75625\" xlink:href=\"#mfa2e4cdd46\" y=\"228.439219\"/>\r\n      </g>\r\n     </g>\r\n     <g id=\"text_13\">\r\n      <!-- 3/7/2021 -->\r\n      <g transform=\"translate(263.515625 280.351719)rotate(-90)scale(0.1 -0.1)\">\r\n       <defs>\r\n        <path d=\"M 8.203125 72.90625 \r\nL 55.078125 72.90625 \r\nL 55.078125 68.703125 \r\nL 28.609375 0 \r\nL 18.3125 0 \r\nL 43.21875 64.59375 \r\nL 8.203125 64.59375 \r\nz\r\n\" id=\"DejaVuSans-55\"/>\r\n       </defs>\r\n       <use xlink:href=\"#DejaVuSans-51\"/>\r\n       <use x=\"63.623047\" xlink:href=\"#DejaVuSans-47\"/>\r\n       <use x=\"97.314453\" xlink:href=\"#DejaVuSans-55\"/>\r\n       <use x=\"160.9375\" xlink:href=\"#DejaVuSans-47\"/>\r\n       <use x=\"194.628906\" xlink:href=\"#DejaVuSans-50\"/>\r\n       <use x=\"258.251953\" xlink:href=\"#DejaVuSans-48\"/>\r\n       <use x=\"321.875\" xlink:href=\"#DejaVuSans-50\"/>\r\n       <use x=\"385.498047\" xlink:href=\"#DejaVuSans-49\"/>\r\n      </g>\r\n     </g>\r\n    </g>\r\n    <g id=\"xtick_14\">\r\n     <g id=\"line2d_14\">\r\n      <g>\r\n       <use style=\"stroke:#000000;stroke-width:0.8;\" x=\"278.61225\" xlink:href=\"#mfa2e4cdd46\" y=\"228.439219\"/>\r\n      </g>\r\n     </g>\r\n     <g id=\"text_14\">\r\n      <!-- 3/8/2021 -->\r\n      <g transform=\"translate(281.371625 280.351719)rotate(-90)scale(0.1 -0.1)\">\r\n       <defs>\r\n        <path d=\"M 31.78125 34.625 \r\nQ 24.75 34.625 20.71875 30.859375 \r\nQ 16.703125 27.09375 16.703125 20.515625 \r\nQ 16.703125 13.921875 20.71875 10.15625 \r\nQ 24.75 6.390625 31.78125 6.390625 \r\nQ 38.8125 6.390625 42.859375 10.171875 \r\nQ 46.921875 13.96875 46.921875 20.515625 \r\nQ 46.921875 27.09375 42.890625 30.859375 \r\nQ 38.875 34.625 31.78125 34.625 \r\nz\r\nM 21.921875 38.8125 \r\nQ 15.578125 40.375 12.03125 44.71875 \r\nQ 8.5 49.078125 8.5 55.328125 \r\nQ 8.5 64.0625 14.71875 69.140625 \r\nQ 20.953125 74.21875 31.78125 74.21875 \r\nQ 42.671875 74.21875 48.875 69.140625 \r\nQ 55.078125 64.0625 55.078125 55.328125 \r\nQ 55.078125 49.078125 51.53125 44.71875 \r\nQ 48 40.375 41.703125 38.8125 \r\nQ 48.828125 37.15625 52.796875 32.3125 \r\nQ 56.78125 27.484375 56.78125 20.515625 \r\nQ 56.78125 9.90625 50.3125 4.234375 \r\nQ 43.84375 -1.421875 31.78125 -1.421875 \r\nQ 19.734375 -1.421875 13.25 4.234375 \r\nQ 6.78125 9.90625 6.78125 20.515625 \r\nQ 6.78125 27.484375 10.78125 32.3125 \r\nQ 14.796875 37.15625 21.921875 38.8125 \r\nz\r\nM 18.3125 54.390625 \r\nQ 18.3125 48.734375 21.84375 45.5625 \r\nQ 25.390625 42.390625 31.78125 42.390625 \r\nQ 38.140625 42.390625 41.71875 45.5625 \r\nQ 45.3125 48.734375 45.3125 54.390625 \r\nQ 45.3125 60.0625 41.71875 63.234375 \r\nQ 38.140625 66.40625 31.78125 66.40625 \r\nQ 25.390625 66.40625 21.84375 63.234375 \r\nQ 18.3125 60.0625 18.3125 54.390625 \r\nz\r\n\" id=\"DejaVuSans-56\"/>\r\n       </defs>\r\n       <use xlink:href=\"#DejaVuSans-51\"/>\r\n       <use x=\"63.623047\" xlink:href=\"#DejaVuSans-47\"/>\r\n       <use x=\"97.314453\" xlink:href=\"#DejaVuSans-56\"/>\r\n       <use x=\"160.9375\" xlink:href=\"#DejaVuSans-47\"/>\r\n       <use x=\"194.628906\" xlink:href=\"#DejaVuSans-50\"/>\r\n       <use x=\"258.251953\" xlink:href=\"#DejaVuSans-48\"/>\r\n       <use x=\"321.875\" xlink:href=\"#DejaVuSans-50\"/>\r\n       <use x=\"385.498047\" xlink:href=\"#DejaVuSans-49\"/>\r\n      </g>\r\n     </g>\r\n    </g>\r\n    <g id=\"xtick_15\">\r\n     <g id=\"line2d_15\">\r\n      <g>\r\n       <use style=\"stroke:#000000;stroke-width:0.8;\" x=\"296.46825\" xlink:href=\"#mfa2e4cdd46\" y=\"228.439219\"/>\r\n      </g>\r\n     </g>\r\n     <g id=\"text_15\">\r\n      <!-- 3/9/2021 -->\r\n      <g transform=\"translate(299.227625 280.351719)rotate(-90)scale(0.1 -0.1)\">\r\n       <defs>\r\n        <path d=\"M 10.984375 1.515625 \r\nL 10.984375 10.5 \r\nQ 14.703125 8.734375 18.5 7.8125 \r\nQ 22.3125 6.890625 25.984375 6.890625 \r\nQ 35.75 6.890625 40.890625 13.453125 \r\nQ 46.046875 20.015625 46.78125 33.40625 \r\nQ 43.953125 29.203125 39.59375 26.953125 \r\nQ 35.25 24.703125 29.984375 24.703125 \r\nQ 19.046875 24.703125 12.671875 31.3125 \r\nQ 6.296875 37.9375 6.296875 49.421875 \r\nQ 6.296875 60.640625 12.9375 67.421875 \r\nQ 19.578125 74.21875 30.609375 74.21875 \r\nQ 43.265625 74.21875 49.921875 64.515625 \r\nQ 56.59375 54.828125 56.59375 36.375 \r\nQ 56.59375 19.140625 48.40625 8.859375 \r\nQ 40.234375 -1.421875 26.421875 -1.421875 \r\nQ 22.703125 -1.421875 18.890625 -0.6875 \r\nQ 15.09375 0.046875 10.984375 1.515625 \r\nz\r\nM 30.609375 32.421875 \r\nQ 37.25 32.421875 41.125 36.953125 \r\nQ 45.015625 41.5 45.015625 49.421875 \r\nQ 45.015625 57.28125 41.125 61.84375 \r\nQ 37.25 66.40625 30.609375 66.40625 \r\nQ 23.96875 66.40625 20.09375 61.84375 \r\nQ 16.21875 57.28125 16.21875 49.421875 \r\nQ 16.21875 41.5 20.09375 36.953125 \r\nQ 23.96875 32.421875 30.609375 32.421875 \r\nz\r\n\" id=\"DejaVuSans-57\"/>\r\n       </defs>\r\n       <use xlink:href=\"#DejaVuSans-51\"/>\r\n       <use x=\"63.623047\" xlink:href=\"#DejaVuSans-47\"/>\r\n       <use x=\"97.314453\" xlink:href=\"#DejaVuSans-57\"/>\r\n       <use x=\"160.9375\" xlink:href=\"#DejaVuSans-47\"/>\r\n       <use x=\"194.628906\" xlink:href=\"#DejaVuSans-50\"/>\r\n       <use x=\"258.251953\" xlink:href=\"#DejaVuSans-48\"/>\r\n       <use x=\"321.875\" xlink:href=\"#DejaVuSans-50\"/>\r\n       <use x=\"385.498047\" xlink:href=\"#DejaVuSans-49\"/>\r\n      </g>\r\n     </g>\r\n    </g>\r\n    <g id=\"text_16\">\r\n     <!-- date -->\r\n     <g transform=\"translate(160.20125 298.312656)scale(0.1 -0.1)\">\r\n      <defs>\r\n       <path d=\"M 45.40625 46.390625 \r\nL 45.40625 75.984375 \r\nL 54.390625 75.984375 \r\nL 54.390625 0 \r\nL 45.40625 0 \r\nL 45.40625 8.203125 \r\nQ 42.578125 3.328125 38.25 0.953125 \r\nQ 33.9375 -1.421875 27.875 -1.421875 \r\nQ 17.96875 -1.421875 11.734375 6.484375 \r\nQ 5.515625 14.40625 5.515625 27.296875 \r\nQ 5.515625 40.1875 11.734375 48.09375 \r\nQ 17.96875 56 27.875 56 \r\nQ 33.9375 56 38.25 53.625 \r\nQ 42.578125 51.265625 45.40625 46.390625 \r\nz\r\nM 14.796875 27.296875 \r\nQ 14.796875 17.390625 18.875 11.75 \r\nQ 22.953125 6.109375 30.078125 6.109375 \r\nQ 37.203125 6.109375 41.296875 11.75 \r\nQ 45.40625 17.390625 45.40625 27.296875 \r\nQ 45.40625 37.203125 41.296875 42.84375 \r\nQ 37.203125 48.484375 30.078125 48.484375 \r\nQ 22.953125 48.484375 18.875 42.84375 \r\nQ 14.796875 37.203125 14.796875 27.296875 \r\nz\r\n\" id=\"DejaVuSans-100\"/>\r\n       <path d=\"M 34.28125 27.484375 \r\nQ 23.390625 27.484375 19.1875 25 \r\nQ 14.984375 22.515625 14.984375 16.5 \r\nQ 14.984375 11.71875 18.140625 8.90625 \r\nQ 21.296875 6.109375 26.703125 6.109375 \r\nQ 34.1875 6.109375 38.703125 11.40625 \r\nQ 43.21875 16.703125 43.21875 25.484375 \r\nL 43.21875 27.484375 \r\nz\r\nM 52.203125 31.203125 \r\nL 52.203125 0 \r\nL 43.21875 0 \r\nL 43.21875 8.296875 \r\nQ 40.140625 3.328125 35.546875 0.953125 \r\nQ 30.953125 -1.421875 24.3125 -1.421875 \r\nQ 15.921875 -1.421875 10.953125 3.296875 \r\nQ 6 8.015625 6 15.921875 \r\nQ 6 25.140625 12.171875 29.828125 \r\nQ 18.359375 34.515625 30.609375 34.515625 \r\nL 43.21875 34.515625 \r\nL 43.21875 35.40625 \r\nQ 43.21875 41.609375 39.140625 45 \r\nQ 35.0625 48.390625 27.6875 48.390625 \r\nQ 23 48.390625 18.546875 47.265625 \r\nQ 14.109375 46.140625 10.015625 43.890625 \r\nL 10.015625 52.203125 \r\nQ 14.9375 54.109375 19.578125 55.046875 \r\nQ 24.21875 56 28.609375 56 \r\nQ 40.484375 56 46.34375 49.84375 \r\nQ 52.203125 43.703125 52.203125 31.203125 \r\nz\r\n\" id=\"DejaVuSans-97\"/>\r\n       <path d=\"M 18.3125 70.21875 \r\nL 18.3125 54.6875 \r\nL 36.8125 54.6875 \r\nL 36.8125 47.703125 \r\nL 18.3125 47.703125 \r\nL 18.3125 18.015625 \r\nQ 18.3125 11.328125 20.140625 9.421875 \r\nQ 21.96875 7.515625 27.59375 7.515625 \r\nL 36.8125 7.515625 \r\nL 36.8125 0 \r\nL 27.59375 0 \r\nQ 17.1875 0 13.234375 3.875 \r\nQ 9.28125 7.765625 9.28125 18.015625 \r\nL 9.28125 47.703125 \r\nL 2.6875 47.703125 \r\nL 2.6875 54.6875 \r\nL 9.28125 54.6875 \r\nL 9.28125 70.21875 \r\nz\r\n\" id=\"DejaVuSans-116\"/>\r\n       <path d=\"M 56.203125 29.59375 \r\nL 56.203125 25.203125 \r\nL 14.890625 25.203125 \r\nQ 15.484375 15.921875 20.484375 11.0625 \r\nQ 25.484375 6.203125 34.421875 6.203125 \r\nQ 39.59375 6.203125 44.453125 7.46875 \r\nQ 49.3125 8.734375 54.109375 11.28125 \r\nL 54.109375 2.78125 \r\nQ 49.265625 0.734375 44.1875 -0.34375 \r\nQ 39.109375 -1.421875 33.890625 -1.421875 \r\nQ 20.796875 -1.421875 13.15625 6.1875 \r\nQ 5.515625 13.8125 5.515625 26.8125 \r\nQ 5.515625 40.234375 12.765625 48.109375 \r\nQ 20.015625 56 32.328125 56 \r\nQ 43.359375 56 49.78125 48.890625 \r\nQ 56.203125 41.796875 56.203125 29.59375 \r\nz\r\nM 47.21875 32.234375 \r\nQ 47.125 39.59375 43.09375 43.984375 \r\nQ 39.0625 48.390625 32.421875 48.390625 \r\nQ 24.90625 48.390625 20.390625 44.140625 \r\nQ 15.875 39.890625 15.1875 32.171875 \r\nz\r\n\" id=\"DejaVuSans-101\"/>\r\n      </defs>\r\n      <use xlink:href=\"#DejaVuSans-100\"/>\r\n      <use x=\"63.476562\" xlink:href=\"#DejaVuSans-97\"/>\r\n      <use x=\"124.755859\" xlink:href=\"#DejaVuSans-116\"/>\r\n      <use x=\"163.964844\" xlink:href=\"#DejaVuSans-101\"/>\r\n     </g>\r\n    </g>\r\n   </g>\r\n   <g id=\"matplotlib.axis_2\">\r\n    <g id=\"ytick_1\">\r\n     <g id=\"line2d_16\">\r\n      <defs>\r\n       <path d=\"M 0 0 \r\nL -3.5 0 \r\n\" id=\"m0b10f28b31\" style=\"stroke:#000000;stroke-width:0.8;\"/>\r\n      </defs>\r\n      <g>\r\n       <use style=\"stroke:#000000;stroke-width:0.8;\" x=\"37.55625\" xlink:href=\"#m0b10f28b31\" y=\"47.239219\"/>\r\n      </g>\r\n     </g>\r\n     <g id=\"text_17\">\r\n      <!-- Facebook -->\r\n      <g transform=\"translate(28.476563 90.435313)rotate(-90)scale(0.1 -0.1)\">\r\n       <defs>\r\n        <path d=\"M 9.8125 72.90625 \r\nL 51.703125 72.90625 \r\nL 51.703125 64.59375 \r\nL 19.671875 64.59375 \r\nL 19.671875 43.109375 \r\nL 48.578125 43.109375 \r\nL 48.578125 34.8125 \r\nL 19.671875 34.8125 \r\nL 19.671875 0 \r\nL 9.8125 0 \r\nz\r\n\" id=\"DejaVuSans-70\"/>\r\n        <path d=\"M 48.78125 52.59375 \r\nL 48.78125 44.1875 \r\nQ 44.96875 46.296875 41.140625 47.34375 \r\nQ 37.3125 48.390625 33.40625 48.390625 \r\nQ 24.65625 48.390625 19.8125 42.84375 \r\nQ 14.984375 37.3125 14.984375 27.296875 \r\nQ 14.984375 17.28125 19.8125 11.734375 \r\nQ 24.65625 6.203125 33.40625 6.203125 \r\nQ 37.3125 6.203125 41.140625 7.25 \r\nQ 44.96875 8.296875 48.78125 10.40625 \r\nL 48.78125 2.09375 \r\nQ 45.015625 0.34375 40.984375 -0.53125 \r\nQ 36.96875 -1.421875 32.421875 -1.421875 \r\nQ 20.0625 -1.421875 12.78125 6.34375 \r\nQ 5.515625 14.109375 5.515625 27.296875 \r\nQ 5.515625 40.671875 12.859375 48.328125 \r\nQ 20.21875 56 33.015625 56 \r\nQ 37.15625 56 41.109375 55.140625 \r\nQ 45.0625 54.296875 48.78125 52.59375 \r\nz\r\n\" id=\"DejaVuSans-99\"/>\r\n        <path d=\"M 48.6875 27.296875 \r\nQ 48.6875 37.203125 44.609375 42.84375 \r\nQ 40.53125 48.484375 33.40625 48.484375 \r\nQ 26.265625 48.484375 22.1875 42.84375 \r\nQ 18.109375 37.203125 18.109375 27.296875 \r\nQ 18.109375 17.390625 22.1875 11.75 \r\nQ 26.265625 6.109375 33.40625 6.109375 \r\nQ 40.53125 6.109375 44.609375 11.75 \r\nQ 48.6875 17.390625 48.6875 27.296875 \r\nz\r\nM 18.109375 46.390625 \r\nQ 20.953125 51.265625 25.265625 53.625 \r\nQ 29.59375 56 35.59375 56 \r\nQ 45.5625 56 51.78125 48.09375 \r\nQ 58.015625 40.1875 58.015625 27.296875 \r\nQ 58.015625 14.40625 51.78125 6.484375 \r\nQ 45.5625 -1.421875 35.59375 -1.421875 \r\nQ 29.59375 -1.421875 25.265625 0.953125 \r\nQ 20.953125 3.328125 18.109375 8.203125 \r\nL 18.109375 0 \r\nL 9.078125 0 \r\nL 9.078125 75.984375 \r\nL 18.109375 75.984375 \r\nz\r\n\" id=\"DejaVuSans-98\"/>\r\n        <path d=\"M 30.609375 48.390625 \r\nQ 23.390625 48.390625 19.1875 42.75 \r\nQ 14.984375 37.109375 14.984375 27.296875 \r\nQ 14.984375 17.484375 19.15625 11.84375 \r\nQ 23.34375 6.203125 30.609375 6.203125 \r\nQ 37.796875 6.203125 41.984375 11.859375 \r\nQ 46.1875 17.53125 46.1875 27.296875 \r\nQ 46.1875 37.015625 41.984375 42.703125 \r\nQ 37.796875 48.390625 30.609375 48.390625 \r\nz\r\nM 30.609375 56 \r\nQ 42.328125 56 49.015625 48.375 \r\nQ 55.71875 40.765625 55.71875 27.296875 \r\nQ 55.71875 13.875 49.015625 6.21875 \r\nQ 42.328125 -1.421875 30.609375 -1.421875 \r\nQ 18.84375 -1.421875 12.171875 6.21875 \r\nQ 5.515625 13.875 5.515625 27.296875 \r\nQ 5.515625 40.765625 12.171875 48.375 \r\nQ 18.84375 56 30.609375 56 \r\nz\r\n\" id=\"DejaVuSans-111\"/>\r\n        <path d=\"M 9.078125 75.984375 \r\nL 18.109375 75.984375 \r\nL 18.109375 31.109375 \r\nL 44.921875 54.6875 \r\nL 56.390625 54.6875 \r\nL 27.390625 29.109375 \r\nL 57.625 0 \r\nL 45.90625 0 \r\nL 18.109375 26.703125 \r\nL 18.109375 0 \r\nL 9.078125 0 \r\nz\r\n\" id=\"DejaVuSans-107\"/>\r\n       </defs>\r\n       <use xlink:href=\"#DejaVuSans-70\"/>\r\n       <use x=\"48.394531\" xlink:href=\"#DejaVuSans-97\"/>\r\n       <use x=\"109.673828\" xlink:href=\"#DejaVuSans-99\"/>\r\n       <use x=\"164.654297\" xlink:href=\"#DejaVuSans-101\"/>\r\n       <use x=\"226.177734\" xlink:href=\"#DejaVuSans-98\"/>\r\n       <use x=\"289.654297\" xlink:href=\"#DejaVuSans-111\"/>\r\n       <use x=\"350.835938\" xlink:href=\"#DejaVuSans-111\"/>\r\n       <use x=\"412.017578\" xlink:href=\"#DejaVuSans-107\"/>\r\n      </g>\r\n     </g>\r\n    </g>\r\n    <g id=\"ytick_2\">\r\n     <g id=\"line2d_17\">\r\n      <g>\r\n       <use style=\"stroke:#000000;stroke-width:0.8;\" x=\"37.55625\" xlink:href=\"#m0b10f28b31\" y=\"119.719219\"/>\r\n      </g>\r\n     </g>\r\n     <g id=\"text_18\">\r\n      <!-- Google -->\r\n      <g transform=\"translate(28.476563 151.185625)rotate(-90)scale(0.1 -0.1)\">\r\n       <defs>\r\n        <path d=\"M 59.515625 10.40625 \r\nL 59.515625 29.984375 \r\nL 43.40625 29.984375 \r\nL 43.40625 38.09375 \r\nL 69.28125 38.09375 \r\nL 69.28125 6.78125 \r\nQ 63.578125 2.734375 56.6875 0.65625 \r\nQ 49.8125 -1.421875 42 -1.421875 \r\nQ 24.90625 -1.421875 15.25 8.5625 \r\nQ 5.609375 18.5625 5.609375 36.375 \r\nQ 5.609375 54.25 15.25 64.234375 \r\nQ 24.90625 74.21875 42 74.21875 \r\nQ 49.125 74.21875 55.546875 72.453125 \r\nQ 61.96875 70.703125 67.390625 67.28125 \r\nL 67.390625 56.78125 \r\nQ 61.921875 61.421875 55.765625 63.765625 \r\nQ 49.609375 66.109375 42.828125 66.109375 \r\nQ 29.4375 66.109375 22.71875 58.640625 \r\nQ 16.015625 51.171875 16.015625 36.375 \r\nQ 16.015625 21.625 22.71875 14.15625 \r\nQ 29.4375 6.6875 42.828125 6.6875 \r\nQ 48.046875 6.6875 52.140625 7.59375 \r\nQ 56.25 8.5 59.515625 10.40625 \r\nz\r\n\" id=\"DejaVuSans-71\"/>\r\n        <path d=\"M 45.40625 27.984375 \r\nQ 45.40625 37.75 41.375 43.109375 \r\nQ 37.359375 48.484375 30.078125 48.484375 \r\nQ 22.859375 48.484375 18.828125 43.109375 \r\nQ 14.796875 37.75 14.796875 27.984375 \r\nQ 14.796875 18.265625 18.828125 12.890625 \r\nQ 22.859375 7.515625 30.078125 7.515625 \r\nQ 37.359375 7.515625 41.375 12.890625 \r\nQ 45.40625 18.265625 45.40625 27.984375 \r\nz\r\nM 54.390625 6.78125 \r\nQ 54.390625 -7.171875 48.1875 -13.984375 \r\nQ 42 -20.796875 29.203125 -20.796875 \r\nQ 24.46875 -20.796875 20.265625 -20.09375 \r\nQ 16.0625 -19.390625 12.109375 -17.921875 \r\nL 12.109375 -9.1875 \r\nQ 16.0625 -11.328125 19.921875 -12.34375 \r\nQ 23.78125 -13.375 27.78125 -13.375 \r\nQ 36.625 -13.375 41.015625 -8.765625 \r\nQ 45.40625 -4.15625 45.40625 5.171875 \r\nL 45.40625 9.625 \r\nQ 42.625 4.78125 38.28125 2.390625 \r\nQ 33.9375 0 27.875 0 \r\nQ 17.828125 0 11.671875 7.65625 \r\nQ 5.515625 15.328125 5.515625 27.984375 \r\nQ 5.515625 40.671875 11.671875 48.328125 \r\nQ 17.828125 56 27.875 56 \r\nQ 33.9375 56 38.28125 53.609375 \r\nQ 42.625 51.21875 45.40625 46.390625 \r\nL 45.40625 54.6875 \r\nL 54.390625 54.6875 \r\nz\r\n\" id=\"DejaVuSans-103\"/>\r\n        <path d=\"M 9.421875 75.984375 \r\nL 18.40625 75.984375 \r\nL 18.40625 0 \r\nL 9.421875 0 \r\nz\r\n\" id=\"DejaVuSans-108\"/>\r\n       </defs>\r\n       <use xlink:href=\"#DejaVuSans-71\"/>\r\n       <use x=\"77.490234\" xlink:href=\"#DejaVuSans-111\"/>\r\n       <use x=\"138.671875\" xlink:href=\"#DejaVuSans-111\"/>\r\n       <use x=\"199.853516\" xlink:href=\"#DejaVuSans-103\"/>\r\n       <use x=\"263.330078\" xlink:href=\"#DejaVuSans-108\"/>\r\n       <use x=\"291.113281\" xlink:href=\"#DejaVuSans-101\"/>\r\n      </g>\r\n     </g>\r\n    </g>\r\n    <g id=\"ytick_3\">\r\n     <g id=\"line2d_18\">\r\n      <g>\r\n       <use style=\"stroke:#000000;stroke-width:0.8;\" x=\"37.55625\" xlink:href=\"#m0b10f28b31\" y=\"192.199219\"/>\r\n      </g>\r\n     </g>\r\n     <g id=\"text_19\">\r\n      <!-- Instagram -->\r\n      <g transform=\"translate(28.476563 239.273438)rotate(-90)scale(0.1 -0.1)\">\r\n       <defs>\r\n        <path d=\"M 9.8125 72.90625 \r\nL 19.671875 72.90625 \r\nL 19.671875 0 \r\nL 9.8125 0 \r\nz\r\n\" id=\"DejaVuSans-73\"/>\r\n        <path d=\"M 54.890625 33.015625 \r\nL 54.890625 0 \r\nL 45.90625 0 \r\nL 45.90625 32.71875 \r\nQ 45.90625 40.484375 42.875 44.328125 \r\nQ 39.84375 48.1875 33.796875 48.1875 \r\nQ 26.515625 48.1875 22.3125 43.546875 \r\nQ 18.109375 38.921875 18.109375 30.90625 \r\nL 18.109375 0 \r\nL 9.078125 0 \r\nL 9.078125 54.6875 \r\nL 18.109375 54.6875 \r\nL 18.109375 46.1875 \r\nQ 21.34375 51.125 25.703125 53.5625 \r\nQ 30.078125 56 35.796875 56 \r\nQ 45.21875 56 50.046875 50.171875 \r\nQ 54.890625 44.34375 54.890625 33.015625 \r\nz\r\n\" id=\"DejaVuSans-110\"/>\r\n        <path d=\"M 44.28125 53.078125 \r\nL 44.28125 44.578125 \r\nQ 40.484375 46.53125 36.375 47.5 \r\nQ 32.28125 48.484375 27.875 48.484375 \r\nQ 21.1875 48.484375 17.84375 46.4375 \r\nQ 14.5 44.390625 14.5 40.28125 \r\nQ 14.5 37.15625 16.890625 35.375 \r\nQ 19.28125 33.59375 26.515625 31.984375 \r\nL 29.59375 31.296875 \r\nQ 39.15625 29.25 43.1875 25.515625 \r\nQ 47.21875 21.78125 47.21875 15.09375 \r\nQ 47.21875 7.46875 41.1875 3.015625 \r\nQ 35.15625 -1.421875 24.609375 -1.421875 \r\nQ 20.21875 -1.421875 15.453125 -0.5625 \r\nQ 10.6875 0.296875 5.421875 2 \r\nL 5.421875 11.28125 \r\nQ 10.40625 8.6875 15.234375 7.390625 \r\nQ 20.0625 6.109375 24.8125 6.109375 \r\nQ 31.15625 6.109375 34.5625 8.28125 \r\nQ 37.984375 10.453125 37.984375 14.40625 \r\nQ 37.984375 18.0625 35.515625 20.015625 \r\nQ 33.0625 21.96875 24.703125 23.78125 \r\nL 21.578125 24.515625 \r\nQ 13.234375 26.265625 9.515625 29.90625 \r\nQ 5.8125 33.546875 5.8125 39.890625 \r\nQ 5.8125 47.609375 11.28125 51.796875 \r\nQ 16.75 56 26.8125 56 \r\nQ 31.78125 56 36.171875 55.265625 \r\nQ 40.578125 54.546875 44.28125 53.078125 \r\nz\r\n\" id=\"DejaVuSans-115\"/>\r\n        <path d=\"M 41.109375 46.296875 \r\nQ 39.59375 47.171875 37.8125 47.578125 \r\nQ 36.03125 48 33.890625 48 \r\nQ 26.265625 48 22.1875 43.046875 \r\nQ 18.109375 38.09375 18.109375 28.8125 \r\nL 18.109375 0 \r\nL 9.078125 0 \r\nL 9.078125 54.6875 \r\nL 18.109375 54.6875 \r\nL 18.109375 46.1875 \r\nQ 20.953125 51.171875 25.484375 53.578125 \r\nQ 30.03125 56 36.53125 56 \r\nQ 37.453125 56 38.578125 55.875 \r\nQ 39.703125 55.765625 41.0625 55.515625 \r\nz\r\n\" id=\"DejaVuSans-114\"/>\r\n        <path d=\"M 52 44.1875 \r\nQ 55.375 50.25 60.0625 53.125 \r\nQ 64.75 56 71.09375 56 \r\nQ 79.640625 56 84.28125 50.015625 \r\nQ 88.921875 44.046875 88.921875 33.015625 \r\nL 88.921875 0 \r\nL 79.890625 0 \r\nL 79.890625 32.71875 \r\nQ 79.890625 40.578125 77.09375 44.375 \r\nQ 74.3125 48.1875 68.609375 48.1875 \r\nQ 61.625 48.1875 57.5625 43.546875 \r\nQ 53.515625 38.921875 53.515625 30.90625 \r\nL 53.515625 0 \r\nL 44.484375 0 \r\nL 44.484375 32.71875 \r\nQ 44.484375 40.625 41.703125 44.40625 \r\nQ 38.921875 48.1875 33.109375 48.1875 \r\nQ 26.21875 48.1875 22.15625 43.53125 \r\nQ 18.109375 38.875 18.109375 30.90625 \r\nL 18.109375 0 \r\nL 9.078125 0 \r\nL 9.078125 54.6875 \r\nL 18.109375 54.6875 \r\nL 18.109375 46.1875 \r\nQ 21.1875 51.21875 25.484375 53.609375 \r\nQ 29.78125 56 35.6875 56 \r\nQ 41.65625 56 45.828125 52.96875 \r\nQ 50 49.953125 52 44.1875 \r\nz\r\n\" id=\"DejaVuSans-109\"/>\r\n       </defs>\r\n       <use xlink:href=\"#DejaVuSans-73\"/>\r\n       <use x=\"29.492188\" xlink:href=\"#DejaVuSans-110\"/>\r\n       <use x=\"92.871094\" xlink:href=\"#DejaVuSans-115\"/>\r\n       <use x=\"144.970703\" xlink:href=\"#DejaVuSans-116\"/>\r\n       <use x=\"184.179688\" xlink:href=\"#DejaVuSans-97\"/>\r\n       <use x=\"245.458984\" xlink:href=\"#DejaVuSans-103\"/>\r\n       <use x=\"308.935547\" xlink:href=\"#DejaVuSans-114\"/>\r\n       <use x=\"350.048828\" xlink:href=\"#DejaVuSans-97\"/>\r\n       <use x=\"411.328125\" xlink:href=\"#DejaVuSans-109\"/>\r\n      </g>\r\n     </g>\r\n    </g>\r\n    <g id=\"text_20\">\r\n     <!-- platform -->\r\n     <g transform=\"translate(14.798438 140.964531)rotate(-90)scale(0.1 -0.1)\">\r\n      <defs>\r\n       <path d=\"M 18.109375 8.203125 \r\nL 18.109375 -20.796875 \r\nL 9.078125 -20.796875 \r\nL 9.078125 54.6875 \r\nL 18.109375 54.6875 \r\nL 18.109375 46.390625 \r\nQ 20.953125 51.265625 25.265625 53.625 \r\nQ 29.59375 56 35.59375 56 \r\nQ 45.5625 56 51.78125 48.09375 \r\nQ 58.015625 40.1875 58.015625 27.296875 \r\nQ 58.015625 14.40625 51.78125 6.484375 \r\nQ 45.5625 -1.421875 35.59375 -1.421875 \r\nQ 29.59375 -1.421875 25.265625 0.953125 \r\nQ 20.953125 3.328125 18.109375 8.203125 \r\nz\r\nM 48.6875 27.296875 \r\nQ 48.6875 37.203125 44.609375 42.84375 \r\nQ 40.53125 48.484375 33.40625 48.484375 \r\nQ 26.265625 48.484375 22.1875 42.84375 \r\nQ 18.109375 37.203125 18.109375 27.296875 \r\nQ 18.109375 17.390625 22.1875 11.75 \r\nQ 26.265625 6.109375 33.40625 6.109375 \r\nQ 40.53125 6.109375 44.609375 11.75 \r\nQ 48.6875 17.390625 48.6875 27.296875 \r\nz\r\n\" id=\"DejaVuSans-112\"/>\r\n       <path d=\"M 37.109375 75.984375 \r\nL 37.109375 68.5 \r\nL 28.515625 68.5 \r\nQ 23.6875 68.5 21.796875 66.546875 \r\nQ 19.921875 64.59375 19.921875 59.515625 \r\nL 19.921875 54.6875 \r\nL 34.71875 54.6875 \r\nL 34.71875 47.703125 \r\nL 19.921875 47.703125 \r\nL 19.921875 0 \r\nL 10.890625 0 \r\nL 10.890625 47.703125 \r\nL 2.296875 47.703125 \r\nL 2.296875 54.6875 \r\nL 10.890625 54.6875 \r\nL 10.890625 58.5 \r\nQ 10.890625 67.625 15.140625 71.796875 \r\nQ 19.390625 75.984375 28.609375 75.984375 \r\nz\r\n\" id=\"DejaVuSans-102\"/>\r\n      </defs>\r\n      <use xlink:href=\"#DejaVuSans-112\"/>\r\n      <use x=\"63.476562\" xlink:href=\"#DejaVuSans-108\"/>\r\n      <use x=\"91.259766\" xlink:href=\"#DejaVuSans-97\"/>\r\n      <use x=\"152.539062\" xlink:href=\"#DejaVuSans-116\"/>\r\n      <use x=\"191.748047\" xlink:href=\"#DejaVuSans-102\"/>\r\n      <use x=\"226.953125\" xlink:href=\"#DejaVuSans-111\"/>\r\n      <use x=\"288.134766\" xlink:href=\"#DejaVuSans-114\"/>\r\n      <use x=\"327.498047\" xlink:href=\"#DejaVuSans-109\"/>\r\n     </g>\r\n    </g>\r\n   </g>\r\n  </g>\r\n  <g id=\"axes_2\">\r\n   <g id=\"patch_3\">\r\n    <path clip-path=\"url(#p0259275726)\" d=\"M 322.13625 228.439219 \r\nL 322.13625 227.589844 \r\nL 322.13625 11.848594 \r\nL 322.13625 10.999219 \r\nL 333.00825 10.999219 \r\nL 333.00825 11.848594 \r\nL 333.00825 227.589844 \r\nL 333.00825 228.439219 \r\nz\r\n\" style=\"fill:#ffffff;stroke:#ffffff;stroke-linejoin:miter;stroke-width:0.01;\"/>\r\n   </g>\r\n   <image height=\"218\" id=\"imagea315e27e7f\" transform=\"scale(1 -1)translate(0 -218)\" width=\"11\" x=\"322\" xlink:href=\"data:image/png;base64,\r\niVBORw0KGgoAAAANSUhEUgAAAAsAAADaCAYAAABwzrisAAABa0lEQVR4nO2a0W3DQAxD6UL775dZYp+6gl6BF6hA8k0QFKmT5Yuv7ldn+KvOM8WmusfEqQSAm4CTMwefBmCoWWMWfbbi9hJEzM3i1mQwN6wCzRa1rIMyxtjUvPUpM8Cmui+J+UGaxQIBeN5GmFnz+XjWITBq/h1xeydlSYGon1EjIfD7AOuYjDkWnkGUINJ8A9H1EM1egshnMW5tyKDeYM2/Q4bZz+RYzYnVfkY+z4lTz5ZZh8CWG2jWeTI8N+5/2KJsY/y68VcZqPnZ4iqCwQvvAdOcvi5ZzB74gEfs141PyRALtJjZVadXIBlfIXGHFHiBCAtc16WCmBGYuHGhC3ZPM5KB4iYytsSN3AB7jxk3Yx5jU3nI1T2Ke8mBRTKQG4h5yWD0RgFiXnK6vWEuFkiYl8StFQhHLmAOWJIgM1sCrf9hD1hzK5oMVuAONzwZnhvsa5ZzSzK8rywQ+LRWoPdliDY3NDd+xsgkv/ZPpO9Fc31EAAAAAElFTkSuQmCC\" y=\"-10\"/>\r\n   <g id=\"matplotlib.axis_3\"/>\r\n   <g id=\"matplotlib.axis_4\">\r\n    <g id=\"ytick_4\">\r\n     <g id=\"line2d_19\">\r\n      <defs>\r\n       <path d=\"M 0 0 \r\nL 3.5 0 \r\n\" id=\"m3c7246361c\" style=\"stroke:#000000;stroke-width:0.8;\"/>\r\n      </defs>\r\n      <g>\r\n       <use style=\"stroke:#000000;stroke-width:0.8;\" x=\"333.00825\" xlink:href=\"#m3c7246361c\" y=\"228.439219\"/>\r\n      </g>\r\n     </g>\r\n     <g id=\"text_21\">\r\n      <!-- 0.0 -->\r\n      <g transform=\"translate(340.00825 232.238437)scale(0.1 -0.1)\">\r\n       <defs>\r\n        <path d=\"M 10.6875 12.40625 \r\nL 21 12.40625 \r\nL 21 0 \r\nL 10.6875 0 \r\nz\r\n\" id=\"DejaVuSans-46\"/>\r\n       </defs>\r\n       <use xlink:href=\"#DejaVuSans-48\"/>\r\n       <use x=\"63.623047\" xlink:href=\"#DejaVuSans-46\"/>\r\n       <use x=\"95.410156\" xlink:href=\"#DejaVuSans-48\"/>\r\n      </g>\r\n     </g>\r\n    </g>\r\n    <g id=\"ytick_5\">\r\n     <g id=\"line2d_20\">\r\n      <g>\r\n       <use style=\"stroke:#000000;stroke-width:0.8;\" x=\"333.00825\" xlink:href=\"#m3c7246361c\" y=\"184.951219\"/>\r\n      </g>\r\n     </g>\r\n     <g id=\"text_22\">\r\n      <!-- 0.2 -->\r\n      <g transform=\"translate(340.00825 188.750437)scale(0.1 -0.1)\">\r\n       <use xlink:href=\"#DejaVuSans-48\"/>\r\n       <use x=\"63.623047\" xlink:href=\"#DejaVuSans-46\"/>\r\n       <use x=\"95.410156\" xlink:href=\"#DejaVuSans-50\"/>\r\n      </g>\r\n     </g>\r\n    </g>\r\n    <g id=\"ytick_6\">\r\n     <g id=\"line2d_21\">\r\n      <g>\r\n       <use style=\"stroke:#000000;stroke-width:0.8;\" x=\"333.00825\" xlink:href=\"#m3c7246361c\" y=\"141.463219\"/>\r\n      </g>\r\n     </g>\r\n     <g id=\"text_23\">\r\n      <!-- 0.4 -->\r\n      <g transform=\"translate(340.00825 145.262437)scale(0.1 -0.1)\">\r\n       <use xlink:href=\"#DejaVuSans-48\"/>\r\n       <use x=\"63.623047\" xlink:href=\"#DejaVuSans-46\"/>\r\n       <use x=\"95.410156\" xlink:href=\"#DejaVuSans-52\"/>\r\n      </g>\r\n     </g>\r\n    </g>\r\n    <g id=\"ytick_7\">\r\n     <g id=\"line2d_22\">\r\n      <g>\r\n       <use style=\"stroke:#000000;stroke-width:0.8;\" x=\"333.00825\" xlink:href=\"#m3c7246361c\" y=\"97.975219\"/>\r\n      </g>\r\n     </g>\r\n     <g id=\"text_24\">\r\n      <!-- 0.6 -->\r\n      <g transform=\"translate(340.00825 101.774437)scale(0.1 -0.1)\">\r\n       <use xlink:href=\"#DejaVuSans-48\"/>\r\n       <use x=\"63.623047\" xlink:href=\"#DejaVuSans-46\"/>\r\n       <use x=\"95.410156\" xlink:href=\"#DejaVuSans-54\"/>\r\n      </g>\r\n     </g>\r\n    </g>\r\n    <g id=\"ytick_8\">\r\n     <g id=\"line2d_23\">\r\n      <g>\r\n       <use style=\"stroke:#000000;stroke-width:0.8;\" x=\"333.00825\" xlink:href=\"#m3c7246361c\" y=\"54.487219\"/>\r\n      </g>\r\n     </g>\r\n     <g id=\"text_25\">\r\n      <!-- 0.8 -->\r\n      <g transform=\"translate(340.00825 58.286437)scale(0.1 -0.1)\">\r\n       <use xlink:href=\"#DejaVuSans-48\"/>\r\n       <use x=\"63.623047\" xlink:href=\"#DejaVuSans-46\"/>\r\n       <use x=\"95.410156\" xlink:href=\"#DejaVuSans-56\"/>\r\n      </g>\r\n     </g>\r\n    </g>\r\n    <g id=\"ytick_9\">\r\n     <g id=\"line2d_24\">\r\n      <g>\r\n       <use style=\"stroke:#000000;stroke-width:0.8;\" x=\"333.00825\" xlink:href=\"#m3c7246361c\" y=\"10.999219\"/>\r\n      </g>\r\n     </g>\r\n     <g id=\"text_26\">\r\n      <!-- 1.0 -->\r\n      <g transform=\"translate(340.00825 14.798438)scale(0.1 -0.1)\">\r\n       <use xlink:href=\"#DejaVuSans-49\"/>\r\n       <use x=\"63.623047\" xlink:href=\"#DejaVuSans-46\"/>\r\n       <use x=\"95.410156\" xlink:href=\"#DejaVuSans-48\"/>\r\n      </g>\r\n     </g>\r\n    </g>\r\n   </g>\r\n   <g id=\"patch_4\">\r\n    <path d=\"M 322.13625 228.439219 \r\nL 322.13625 227.589844 \r\nL 322.13625 11.848594 \r\nL 322.13625 10.999219 \r\nL 333.00825 10.999219 \r\nL 333.00825 11.848594 \r\nL 333.00825 227.589844 \r\nL 333.00825 228.439219 \r\nz\r\n\" style=\"fill:none;\"/>\r\n   </g>\r\n  </g>\r\n </g>\r\n <defs>\r\n  <clipPath id=\"p49f2d78674\">\r\n   <rect height=\"217.44\" width=\"267.84\" x=\"37.55625\" y=\"10.999219\"/>\r\n  </clipPath>\r\n  <clipPath id=\"p0259275726\">\r\n   <rect height=\"217.44\" width=\"10.872\" x=\"322.13625\" y=\"10.999219\"/>\r\n  </clipPath>\r\n </defs>\r\n</svg>\r\n",
      "image/png": "[encoded data removed]"
     },
     "metadata": {
      "needs_background": "light"
     }
    }
   ],
   "source": [
    "test = df.pivot(\"platform\", \"date\", \"flag\") \n",
    "sns.heatmap(test, linewidths=.5,cmap=\"YlGnBu\")"
   ]
  },
  {
   "source": [
    "Podemos usar la columna costo y la escala de color nos ayudará a visualizar los días y plataformas con mayores o menores costos. Mientras mas azul, mayor es el costo."
   ],
   "cell_type": "markdown",
   "metadata": {}
  },
  {
   "cell_type": "code",
   "execution_count": 121,
   "metadata": {},
   "outputs": [
    {
     "output_type": "execute_result",
     "data": {
      "text/plain": [
       "<AxesSubplot:xlabel='date', ylabel='platform'>"
      ]
     },
     "metadata": {},
     "execution_count": 121
    },
    {
     "output_type": "display_data",
     "data": {
      "text/plain": "<Figure size 432x288 with 2 Axes>",
      "image/svg+xml": "<?xml version=\"1.0\" encoding=\"utf-8\" standalone=\"no\"?>\r\n<!DOCTYPE svg PUBLIC \"-//W3C//DTD SVG 1.1//EN\"\r\n  \"http://www.w3.org/Graphics/SVG/1.1/DTD/svg11.dtd\">\r\n<!-- Created with matplotlib (https://matplotlib.org/) -->\r\n<svg height=\"303.793125pt\" version=\"1.1\" viewBox=\"0 0 366.29575 303.793125\" width=\"366.29575pt\" xmlns=\"http://www.w3.org/2000/svg\" xmlns:xlink=\"http://www.w3.org/1999/xlink\">\r\n <metadata>\r\n  <rdf:RDF xmlns:cc=\"http://creativecommons.org/ns#\" xmlns:dc=\"http://purl.org/dc/elements/1.1/\" xmlns:rdf=\"http://www.w3.org/1999/02/22-rdf-syntax-ns#\">\r\n   <cc:Work>\r\n    <dc:type rdf:resource=\"http://purl.org/dc/dcmitype/StillImage\"/>\r\n    <dc:date>2021-04-11T00:44:31.279749</dc:date>\r\n    <dc:format>image/svg+xml</dc:format>\r\n    <dc:creator>\r\n     <cc:Agent>\r\n      <dc:title>Matplotlib v3.3.2, https://matplotlib.org/</dc:title>\r\n     </cc:Agent>\r\n    </dc:creator>\r\n   </cc:Work>\r\n  </rdf:RDF>\r\n </metadata>\r\n <defs>\r\n  <style type=\"text/css\">*{stroke-linecap:butt;stroke-linejoin:round;}</style>\r\n </defs>\r\n <g id=\"figure_1\">\r\n  <g id=\"patch_1\">\r\n   <path d=\"M 0 303.793125 \r\nL 366.29575 303.793125 \r\nL 366.29575 0 \r\nL 0 0 \r\nz\r\n\" style=\"fill:none;\"/>\r\n  </g>\r\n  <g id=\"axes_1\">\r\n   <g id=\"patch_2\">\r\n    <path d=\"M 37.55625 224.64 \r\nL 305.39625 224.64 \r\nL 305.39625 7.2 \r\nL 37.55625 7.2 \r\nz\r\n\" style=\"fill:#ffffff;\"/>\r\n   </g>\r\n   <g id=\"QuadMesh_1\">\r\n    <path clip-path=\"url(#pe814260477)\" d=\"M 37.55625 7.2 \r\nL 55.41225 7.2 \r\nL 55.41225 79.68 \r\nL 37.55625 79.68 \r\nL 37.55625 7.2 \r\n\" style=\"fill:#ffffd9;stroke:#ffffff;stroke-width:0.5;\"/>\r\n    <path clip-path=\"url(#pe814260477)\" d=\"M 55.41225 7.2 \r\nL 73.26825 7.2 \r\nL 73.26825 79.68 \r\nL 55.41225 79.68 \r\nL 55.41225 7.2 \r\n\" style=\"fill:#ffffd9;stroke:#ffffff;stroke-width:0.5;\"/>\r\n    <path clip-path=\"url(#pe814260477)\" d=\"M 73.26825 7.2 \r\nL 91.12425 7.2 \r\nL 91.12425 79.68 \r\nL 73.26825 79.68 \r\nL 73.26825 7.2 \r\n\" style=\"fill:#ffffd9;stroke:#ffffff;stroke-width:0.5;\"/>\r\n    <path clip-path=\"url(#pe814260477)\" d=\"M 91.12425 7.2 \r\nL 108.98025 7.2 \r\nL 108.98025 79.68 \r\nL 91.12425 79.68 \r\nL 91.12425 7.2 \r\n\" style=\"fill:#ffffd9;stroke:#ffffff;stroke-width:0.5;\"/>\r\n    <path clip-path=\"url(#pe814260477)\" d=\"M 108.98025 7.2 \r\nL 126.83625 7.2 \r\nL 126.83625 79.68 \r\nL 108.98025 79.68 \r\nL 108.98025 7.2 \r\n\" style=\"fill:#e0f3b2;stroke:#ffffff;stroke-width:0.5;\"/>\r\n    <path clip-path=\"url(#pe814260477)\" d=\"M 126.83625 7.2 \r\nL 144.69225 7.2 \r\nL 144.69225 79.68 \r\nL 126.83625 79.68 \r\nL 126.83625 7.2 \r\n\" style=\"fill:#1f82b9;stroke:#ffffff;stroke-width:0.5;\"/>\r\n    <path clip-path=\"url(#pe814260477)\" d=\"M 144.69225 7.2 \r\nL 162.54825 7.2 \r\nL 162.54825 79.68 \r\nL 144.69225 79.68 \r\nL 144.69225 7.2 \r\n\" style=\"fill:#ffffd9;stroke:#ffffff;stroke-width:0.5;\"/>\r\n    <path clip-path=\"url(#pe814260477)\" d=\"M 162.54825 7.2 \r\nL 180.40425 7.2 \r\nL 180.40425 79.68 \r\nL 162.54825 79.68 \r\nL 162.54825 7.2 \r\n\" style=\"fill:#ffffd9;stroke:#ffffff;stroke-width:0.5;\"/>\r\n    <path clip-path=\"url(#pe814260477)\" d=\"M 180.40425 7.2 \r\nL 198.26025 7.2 \r\nL 198.26025 79.68 \r\nL 180.40425 79.68 \r\nL 180.40425 7.2 \r\n\" style=\"fill:#ffffd9;stroke:#ffffff;stroke-width:0.5;\"/>\r\n    <path clip-path=\"url(#pe814260477)\" d=\"M 198.26025 7.2 \r\nL 216.11625 7.2 \r\nL 216.11625 79.68 \r\nL 198.26025 79.68 \r\nL 198.26025 7.2 \r\n\" style=\"fill:#ffffd9;stroke:#ffffff;stroke-width:0.5;\"/>\r\n    <path clip-path=\"url(#pe814260477)\" d=\"M 216.11625 7.2 \r\nL 233.97225 7.2 \r\nL 233.97225 79.68 \r\nL 216.11625 79.68 \r\nL 216.11625 7.2 \r\n\" style=\"fill:#ffffd9;stroke:#ffffff;stroke-width:0.5;\"/>\r\n    <path clip-path=\"url(#pe814260477)\" d=\"M 233.97225 7.2 \r\nL 251.82825 7.2 \r\nL 251.82825 79.68 \r\nL 233.97225 79.68 \r\nL 233.97225 7.2 \r\n\" style=\"fill:#1f7db6;stroke:#ffffff;stroke-width:0.5;\"/>\r\n    <path clip-path=\"url(#pe814260477)\" d=\"M 251.82825 7.2 \r\nL 269.68425 7.2 \r\nL 269.68425 79.68 \r\nL 251.82825 79.68 \r\nL 251.82825 7.2 \r\n\" style=\"fill:#97d6b9;stroke:#ffffff;stroke-width:0.5;\"/>\r\n    <path clip-path=\"url(#pe814260477)\" d=\"M 269.68425 7.2 \r\nL 287.54025 7.2 \r\nL 287.54025 79.68 \r\nL 269.68425 79.68 \r\nL 269.68425 7.2 \r\n\" style=\"fill:#e3f4b2;stroke:#ffffff;stroke-width:0.5;\"/>\r\n    <path clip-path=\"url(#pe814260477)\" d=\"M 287.54025 7.2 \r\nL 305.39625 7.2 \r\nL 305.39625 79.68 \r\nL 287.54025 79.68 \r\nL 287.54025 7.2 \r\n\" style=\"fill:#0d2163;stroke:#ffffff;stroke-width:0.5;\"/>\r\n    <path clip-path=\"url(#pe814260477)\" d=\"M 37.55625 79.68 \r\nL 55.41225 79.68 \r\nL 55.41225 152.16 \r\nL 37.55625 152.16 \r\nL 37.55625 79.68 \r\n\" style=\"fill:#39adc3;stroke:#ffffff;stroke-width:0.5;\"/>\r\n    <path clip-path=\"url(#pe814260477)\" d=\"M 55.41225 79.68 \r\nL 73.26825 79.68 \r\nL 73.26825 152.16 \r\nL 55.41225 152.16 \r\nL 55.41225 79.68 \r\n\" style=\"fill:#ffffd9;stroke:#ffffff;stroke-width:0.5;\"/>\r\n    <path clip-path=\"url(#pe814260477)\" d=\"M 73.26825 79.68 \r\nL 91.12425 79.68 \r\nL 91.12425 152.16 \r\nL 73.26825 152.16 \r\nL 73.26825 79.68 \r\n\" style=\"fill:#ffffd9;stroke:#ffffff;stroke-width:0.5;\"/>\r\n    <path clip-path=\"url(#pe814260477)\" d=\"M 91.12425 79.68 \r\nL 108.98025 79.68 \r\nL 108.98025 152.16 \r\nL 91.12425 152.16 \r\nL 91.12425 79.68 \r\n\" style=\"fill:#ffffd9;stroke:#ffffff;stroke-width:0.5;\"/>\r\n    <path clip-path=\"url(#pe814260477)\" d=\"M 108.98025 79.68 \r\nL 126.83625 79.68 \r\nL 126.83625 152.16 \r\nL 108.98025 152.16 \r\nL 108.98025 79.68 \r\n\" style=\"fill:#1e83ba;stroke:#ffffff;stroke-width:0.5;\"/>\r\n    <path clip-path=\"url(#pe814260477)\" d=\"M 126.83625 79.68 \r\nL 144.69225 79.68 \r\nL 144.69225 152.16 \r\nL 126.83625 152.16 \r\nL 126.83625 79.68 \r\n\" style=\"fill:#e1f3b2;stroke:#ffffff;stroke-width:0.5;\"/>\r\n    <path clip-path=\"url(#pe814260477)\" d=\"M 144.69225 79.68 \r\nL 162.54825 79.68 \r\nL 162.54825 152.16 \r\nL 144.69225 152.16 \r\nL 144.69225 79.68 \r\n\" style=\"fill:#ffffd9;stroke:#ffffff;stroke-width:0.5;\"/>\r\n    <path clip-path=\"url(#pe814260477)\" d=\"M 162.54825 79.68 \r\nL 180.40425 79.68 \r\nL 180.40425 152.16 \r\nL 162.54825 152.16 \r\nL 162.54825 79.68 \r\n\" style=\"fill:#2296c1;stroke:#ffffff;stroke-width:0.5;\"/>\r\n    <path clip-path=\"url(#pe814260477)\" d=\"M 180.40425 79.68 \r\nL 198.26025 79.68 \r\nL 198.26025 152.16 \r\nL 180.40425 152.16 \r\nL 180.40425 79.68 \r\n\" style=\"fill:#feffd6;stroke:#ffffff;stroke-width:0.5;\"/>\r\n    <path clip-path=\"url(#pe814260477)\" d=\"M 198.26025 79.68 \r\nL 216.11625 79.68 \r\nL 216.11625 152.16 \r\nL 198.26025 152.16 \r\nL 198.26025 79.68 \r\n\" style=\"fill:#53bdc1;stroke:#ffffff;stroke-width:0.5;\"/>\r\n    <path clip-path=\"url(#pe814260477)\" d=\"M 216.11625 79.68 \r\nL 233.97225 79.68 \r\nL 233.97225 152.16 \r\nL 216.11625 152.16 \r\nL 216.11625 79.68 \r\n\" style=\"fill:#162874;stroke:#ffffff;stroke-width:0.5;\"/>\r\n    <path clip-path=\"url(#pe814260477)\" d=\"M 233.97225 79.68 \r\nL 251.82825 79.68 \r\nL 251.82825 152.16 \r\nL 233.97225 152.16 \r\nL 233.97225 79.68 \r\n\" style=\"fill:#d5efb3;stroke:#ffffff;stroke-width:0.5;\"/>\r\n    <path clip-path=\"url(#pe814260477)\" d=\"M 251.82825 79.68 \r\nL 269.68425 79.68 \r\nL 269.68425 152.16 \r\nL 251.82825 152.16 \r\nL 251.82825 79.68 \r\n\" style=\"fill:#fcfed1;stroke:#ffffff;stroke-width:0.5;\"/>\r\n    <path clip-path=\"url(#pe814260477)\" d=\"M 269.68425 79.68 \r\nL 287.54025 79.68 \r\nL 287.54025 152.16 \r\nL 269.68425 152.16 \r\nL 269.68425 79.68 \r\n\" style=\"fill:#f8fcca;stroke:#ffffff;stroke-width:0.5;\"/>\r\n    <path clip-path=\"url(#pe814260477)\" d=\"M 287.54025 79.68 \r\nL 305.39625 79.68 \r\nL 305.39625 152.16 \r\nL 287.54025 152.16 \r\nL 287.54025 79.68 \r\n\" style=\"fill:#d0edb3;stroke:#ffffff;stroke-width:0.5;\"/>\r\n    <path clip-path=\"url(#pe814260477)\" d=\"M 37.55625 152.16 \r\nL 55.41225 152.16 \r\nL 55.41225 224.64 \r\nL 37.55625 224.64 \r\nL 37.55625 152.16 \r\n\" style=\"fill:#ffffd9;stroke:#ffffff;stroke-width:0.5;\"/>\r\n    <path clip-path=\"url(#pe814260477)\" d=\"M 55.41225 152.16 \r\nL 73.26825 152.16 \r\nL 73.26825 224.64 \r\nL 55.41225 224.64 \r\nL 55.41225 152.16 \r\n\" style=\"fill:#081d58;stroke:#ffffff;stroke-width:0.5;\"/>\r\n    <path clip-path=\"url(#pe814260477)\" d=\"M 73.26825 152.16 \r\nL 91.12425 152.16 \r\nL 91.12425 224.64 \r\nL 73.26825 224.64 \r\nL 73.26825 152.16 \r\n\" style=\"fill:#ffffd9;stroke:#ffffff;stroke-width:0.5;\"/>\r\n    <path clip-path=\"url(#pe814260477)\" d=\"M 91.12425 152.16 \r\nL 108.98025 152.16 \r\nL 108.98025 224.64 \r\nL 91.12425 224.64 \r\nL 91.12425 152.16 \r\n\" style=\"fill:#4ebbc2;stroke:#ffffff;stroke-width:0.5;\"/>\r\n    <path clip-path=\"url(#pe814260477)\" d=\"M 108.98025 152.16 \r\nL 126.83625 152.16 \r\nL 126.83625 224.64 \r\nL 108.98025 224.64 \r\nL 108.98025 152.16 \r\n\" style=\"fill:#ffffd9;stroke:#ffffff;stroke-width:0.5;\"/>\r\n    <path clip-path=\"url(#pe814260477)\" d=\"M 126.83625 152.16 \r\nL 144.69225 152.16 \r\nL 144.69225 224.64 \r\nL 126.83625 224.64 \r\nL 126.83625 152.16 \r\n\" style=\"fill:#3aaec3;stroke:#ffffff;stroke-width:0.5;\"/>\r\n    <path clip-path=\"url(#pe814260477)\" d=\"M 144.69225 152.16 \r\nL 162.54825 152.16 \r\nL 162.54825 224.64 \r\nL 144.69225 224.64 \r\nL 144.69225 152.16 \r\n\" style=\"fill:#cbebb4;stroke:#ffffff;stroke-width:0.5;\"/>\r\n    <path clip-path=\"url(#pe814260477)\" d=\"M 162.54825 152.16 \r\nL 180.40425 152.16 \r\nL 180.40425 224.64 \r\nL 162.54825 224.64 \r\nL 162.54825 152.16 \r\n\" style=\"fill:#a0dab8;stroke:#ffffff;stroke-width:0.5;\"/>\r\n    <path clip-path=\"url(#pe814260477)\" d=\"M 180.40425 152.16 \r\nL 198.26025 152.16 \r\nL 198.26025 224.64 \r\nL 180.40425 224.64 \r\nL 180.40425 152.16 \r\n\" style=\"fill:#ffffd9;stroke:#ffffff;stroke-width:0.5;\"/>\r\n    <path clip-path=\"url(#pe814260477)\" d=\"M 198.26025 152.16 \r\nL 216.11625 152.16 \r\nL 216.11625 224.64 \r\nL 198.26025 224.64 \r\nL 198.26025 152.16 \r\n\" style=\"fill:#1f82b9;stroke:#ffffff;stroke-width:0.5;\"/>\r\n    <path clip-path=\"url(#pe814260477)\" d=\"M 216.11625 152.16 \r\nL 233.97225 152.16 \r\nL 233.97225 224.64 \r\nL 216.11625 224.64 \r\nL 216.11625 152.16 \r\n\" style=\"fill:#ffffd9;stroke:#ffffff;stroke-width:0.5;\"/>\r\n    <path clip-path=\"url(#pe814260477)\" d=\"M 233.97225 152.16 \r\nL 251.82825 152.16 \r\nL 251.82825 224.64 \r\nL 233.97225 224.64 \r\nL 233.97225 152.16 \r\n\" style=\"fill:#23499e;stroke:#ffffff;stroke-width:0.5;\"/>\r\n    <path clip-path=\"url(#pe814260477)\" d=\"M 251.82825 152.16 \r\nL 269.68425 152.16 \r\nL 269.68425 224.64 \r\nL 251.82825 224.64 \r\nL 251.82825 152.16 \r\n\" style=\"fill:#1e2e85;stroke:#ffffff;stroke-width:0.5;\"/>\r\n    <path clip-path=\"url(#pe814260477)\" d=\"M 269.68425 152.16 \r\nL 287.54025 152.16 \r\nL 287.54025 224.64 \r\nL 269.68425 224.64 \r\nL 269.68425 152.16 \r\n\" style=\"fill:#ffffd9;stroke:#ffffff;stroke-width:0.5;\"/>\r\n    <path clip-path=\"url(#pe814260477)\" d=\"M 287.54025 152.16 \r\nL 305.39625 152.16 \r\nL 305.39625 224.64 \r\nL 287.54025 224.64 \r\nL 287.54025 152.16 \r\n\" style=\"fill:#2296c1;stroke:#ffffff;stroke-width:0.5;\"/>\r\n   </g>\r\n   <g id=\"matplotlib.axis_1\">\r\n    <g id=\"xtick_1\">\r\n     <g id=\"line2d_1\">\r\n      <defs>\r\n       <path d=\"M 0 0 \r\nL 0 3.5 \r\n\" id=\"mb320995baa\" style=\"stroke:#000000;stroke-width:0.8;\"/>\r\n      </defs>\r\n      <g>\r\n       <use style=\"stroke:#000000;stroke-width:0.8;\" x=\"46.48425\" xlink:href=\"#mb320995baa\" y=\"224.64\"/>\r\n      </g>\r\n     </g>\r\n     <g id=\"text_1\">\r\n      <!-- 3/1/2021 -->\r\n      <g transform=\"translate(49.243625 276.5525)rotate(-90)scale(0.1 -0.1)\">\r\n       <defs>\r\n        <path d=\"M 40.578125 39.3125 \r\nQ 47.65625 37.796875 51.625 33 \r\nQ 55.609375 28.21875 55.609375 21.1875 \r\nQ 55.609375 10.40625 48.1875 4.484375 \r\nQ 40.765625 -1.421875 27.09375 -1.421875 \r\nQ 22.515625 -1.421875 17.65625 -0.515625 \r\nQ 12.796875 0.390625 7.625 2.203125 \r\nL 7.625 11.71875 \r\nQ 11.71875 9.328125 16.59375 8.109375 \r\nQ 21.484375 6.890625 26.8125 6.890625 \r\nQ 36.078125 6.890625 40.9375 10.546875 \r\nQ 45.796875 14.203125 45.796875 21.1875 \r\nQ 45.796875 27.640625 41.28125 31.265625 \r\nQ 36.765625 34.90625 28.71875 34.90625 \r\nL 20.21875 34.90625 \r\nL 20.21875 43.015625 \r\nL 29.109375 43.015625 \r\nQ 36.375 43.015625 40.234375 45.921875 \r\nQ 44.09375 48.828125 44.09375 54.296875 \r\nQ 44.09375 59.90625 40.109375 62.90625 \r\nQ 36.140625 65.921875 28.71875 65.921875 \r\nQ 24.65625 65.921875 20.015625 65.03125 \r\nQ 15.375 64.15625 9.8125 62.3125 \r\nL 9.8125 71.09375 \r\nQ 15.4375 72.65625 20.34375 73.4375 \r\nQ 25.25 74.21875 29.59375 74.21875 \r\nQ 40.828125 74.21875 47.359375 69.109375 \r\nQ 53.90625 64.015625 53.90625 55.328125 \r\nQ 53.90625 49.265625 50.4375 45.09375 \r\nQ 46.96875 40.921875 40.578125 39.3125 \r\nz\r\n\" id=\"DejaVuSans-51\"/>\r\n        <path d=\"M 25.390625 72.90625 \r\nL 33.6875 72.90625 \r\nL 8.296875 -9.28125 \r\nL 0 -9.28125 \r\nz\r\n\" id=\"DejaVuSans-47\"/>\r\n        <path d=\"M 12.40625 8.296875 \r\nL 28.515625 8.296875 \r\nL 28.515625 63.921875 \r\nL 10.984375 60.40625 \r\nL 10.984375 69.390625 \r\nL 28.421875 72.90625 \r\nL 38.28125 72.90625 \r\nL 38.28125 8.296875 \r\nL 54.390625 8.296875 \r\nL 54.390625 0 \r\nL 12.40625 0 \r\nz\r\n\" id=\"DejaVuSans-49\"/>\r\n        <path d=\"M 19.1875 8.296875 \r\nL 53.609375 8.296875 \r\nL 53.609375 0 \r\nL 7.328125 0 \r\nL 7.328125 8.296875 \r\nQ 12.9375 14.109375 22.625 23.890625 \r\nQ 32.328125 33.6875 34.8125 36.53125 \r\nQ 39.546875 41.84375 41.421875 45.53125 \r\nQ 43.3125 49.21875 43.3125 52.78125 \r\nQ 43.3125 58.59375 39.234375 62.25 \r\nQ 35.15625 65.921875 28.609375 65.921875 \r\nQ 23.96875 65.921875 18.8125 64.3125 \r\nQ 13.671875 62.703125 7.8125 59.421875 \r\nL 7.8125 69.390625 \r\nQ 13.765625 71.78125 18.9375 73 \r\nQ 24.125 74.21875 28.421875 74.21875 \r\nQ 39.75 74.21875 46.484375 68.546875 \r\nQ 53.21875 62.890625 53.21875 53.421875 \r\nQ 53.21875 48.921875 51.53125 44.890625 \r\nQ 49.859375 40.875 45.40625 35.40625 \r\nQ 44.1875 33.984375 37.640625 27.21875 \r\nQ 31.109375 20.453125 19.1875 8.296875 \r\nz\r\n\" id=\"DejaVuSans-50\"/>\r\n        <path d=\"M 31.78125 66.40625 \r\nQ 24.171875 66.40625 20.328125 58.90625 \r\nQ 16.5 51.421875 16.5 36.375 \r\nQ 16.5 21.390625 20.328125 13.890625 \r\nQ 24.171875 6.390625 31.78125 6.390625 \r\nQ 39.453125 6.390625 43.28125 13.890625 \r\nQ 47.125 21.390625 47.125 36.375 \r\nQ 47.125 51.421875 43.28125 58.90625 \r\nQ 39.453125 66.40625 31.78125 66.40625 \r\nz\r\nM 31.78125 74.21875 \r\nQ 44.046875 74.21875 50.515625 64.515625 \r\nQ 56.984375 54.828125 56.984375 36.375 \r\nQ 56.984375 17.96875 50.515625 8.265625 \r\nQ 44.046875 -1.421875 31.78125 -1.421875 \r\nQ 19.53125 -1.421875 13.0625 8.265625 \r\nQ 6.59375 17.96875 6.59375 36.375 \r\nQ 6.59375 54.828125 13.0625 64.515625 \r\nQ 19.53125 74.21875 31.78125 74.21875 \r\nz\r\n\" id=\"DejaVuSans-48\"/>\r\n       </defs>\r\n       <use xlink:href=\"#DejaVuSans-51\"/>\r\n       <use x=\"63.623047\" xlink:href=\"#DejaVuSans-47\"/>\r\n       <use x=\"97.314453\" xlink:href=\"#DejaVuSans-49\"/>\r\n       <use x=\"160.9375\" xlink:href=\"#DejaVuSans-47\"/>\r\n       <use x=\"194.628906\" xlink:href=\"#DejaVuSans-50\"/>\r\n       <use x=\"258.251953\" xlink:href=\"#DejaVuSans-48\"/>\r\n       <use x=\"321.875\" xlink:href=\"#DejaVuSans-50\"/>\r\n       <use x=\"385.498047\" xlink:href=\"#DejaVuSans-49\"/>\r\n      </g>\r\n     </g>\r\n    </g>\r\n    <g id=\"xtick_2\">\r\n     <g id=\"line2d_2\">\r\n      <g>\r\n       <use style=\"stroke:#000000;stroke-width:0.8;\" x=\"64.34025\" xlink:href=\"#mb320995baa\" y=\"224.64\"/>\r\n      </g>\r\n     </g>\r\n     <g id=\"text_2\">\r\n      <!-- 3/10/2021 -->\r\n      <g transform=\"translate(67.099625 282.915)rotate(-90)scale(0.1 -0.1)\">\r\n       <use xlink:href=\"#DejaVuSans-51\"/>\r\n       <use x=\"63.623047\" xlink:href=\"#DejaVuSans-47\"/>\r\n       <use x=\"97.314453\" xlink:href=\"#DejaVuSans-49\"/>\r\n       <use x=\"160.9375\" xlink:href=\"#DejaVuSans-48\"/>\r\n       <use x=\"224.560547\" xlink:href=\"#DejaVuSans-47\"/>\r\n       <use x=\"258.251953\" xlink:href=\"#DejaVuSans-50\"/>\r\n       <use x=\"321.875\" xlink:href=\"#DejaVuSans-48\"/>\r\n       <use x=\"385.498047\" xlink:href=\"#DejaVuSans-50\"/>\r\n       <use x=\"449.121094\" xlink:href=\"#DejaVuSans-49\"/>\r\n      </g>\r\n     </g>\r\n    </g>\r\n    <g id=\"xtick_3\">\r\n     <g id=\"line2d_3\">\r\n      <g>\r\n       <use style=\"stroke:#000000;stroke-width:0.8;\" x=\"82.19625\" xlink:href=\"#mb320995baa\" y=\"224.64\"/>\r\n      </g>\r\n     </g>\r\n     <g id=\"text_3\">\r\n      <!-- 3/11/2021 -->\r\n      <g transform=\"translate(84.955625 282.915)rotate(-90)scale(0.1 -0.1)\">\r\n       <use xlink:href=\"#DejaVuSans-51\"/>\r\n       <use x=\"63.623047\" xlink:href=\"#DejaVuSans-47\"/>\r\n       <use x=\"97.314453\" xlink:href=\"#DejaVuSans-49\"/>\r\n       <use x=\"160.9375\" xlink:href=\"#DejaVuSans-49\"/>\r\n       <use x=\"224.560547\" xlink:href=\"#DejaVuSans-47\"/>\r\n       <use x=\"258.251953\" xlink:href=\"#DejaVuSans-50\"/>\r\n       <use x=\"321.875\" xlink:href=\"#DejaVuSans-48\"/>\r\n       <use x=\"385.498047\" xlink:href=\"#DejaVuSans-50\"/>\r\n       <use x=\"449.121094\" xlink:href=\"#DejaVuSans-49\"/>\r\n      </g>\r\n     </g>\r\n    </g>\r\n    <g id=\"xtick_4\">\r\n     <g id=\"line2d_4\">\r\n      <g>\r\n       <use style=\"stroke:#000000;stroke-width:0.8;\" x=\"100.05225\" xlink:href=\"#mb320995baa\" y=\"224.64\"/>\r\n      </g>\r\n     </g>\r\n     <g id=\"text_4\">\r\n      <!-- 3/12/2021 -->\r\n      <g transform=\"translate(102.811625 282.915)rotate(-90)scale(0.1 -0.1)\">\r\n       <use xlink:href=\"#DejaVuSans-51\"/>\r\n       <use x=\"63.623047\" xlink:href=\"#DejaVuSans-47\"/>\r\n       <use x=\"97.314453\" xlink:href=\"#DejaVuSans-49\"/>\r\n       <use x=\"160.9375\" xlink:href=\"#DejaVuSans-50\"/>\r\n       <use x=\"224.560547\" xlink:href=\"#DejaVuSans-47\"/>\r\n       <use x=\"258.251953\" xlink:href=\"#DejaVuSans-50\"/>\r\n       <use x=\"321.875\" xlink:href=\"#DejaVuSans-48\"/>\r\n       <use x=\"385.498047\" xlink:href=\"#DejaVuSans-50\"/>\r\n       <use x=\"449.121094\" xlink:href=\"#DejaVuSans-49\"/>\r\n      </g>\r\n     </g>\r\n    </g>\r\n    <g id=\"xtick_5\">\r\n     <g id=\"line2d_5\">\r\n      <g>\r\n       <use style=\"stroke:#000000;stroke-width:0.8;\" x=\"117.90825\" xlink:href=\"#mb320995baa\" y=\"224.64\"/>\r\n      </g>\r\n     </g>\r\n     <g id=\"text_5\">\r\n      <!-- 3/13/2021 -->\r\n      <g transform=\"translate(120.667625 282.915)rotate(-90)scale(0.1 -0.1)\">\r\n       <use xlink:href=\"#DejaVuSans-51\"/>\r\n       <use x=\"63.623047\" xlink:href=\"#DejaVuSans-47\"/>\r\n       <use x=\"97.314453\" xlink:href=\"#DejaVuSans-49\"/>\r\n       <use x=\"160.9375\" xlink:href=\"#DejaVuSans-51\"/>\r\n       <use x=\"224.560547\" xlink:href=\"#DejaVuSans-47\"/>\r\n       <use x=\"258.251953\" xlink:href=\"#DejaVuSans-50\"/>\r\n       <use x=\"321.875\" xlink:href=\"#DejaVuSans-48\"/>\r\n       <use x=\"385.498047\" xlink:href=\"#DejaVuSans-50\"/>\r\n       <use x=\"449.121094\" xlink:href=\"#DejaVuSans-49\"/>\r\n      </g>\r\n     </g>\r\n    </g>\r\n    <g id=\"xtick_6\">\r\n     <g id=\"line2d_6\">\r\n      <g>\r\n       <use style=\"stroke:#000000;stroke-width:0.8;\" x=\"135.76425\" xlink:href=\"#mb320995baa\" y=\"224.64\"/>\r\n      </g>\r\n     </g>\r\n     <g id=\"text_6\">\r\n      <!-- 3/14/2021 -->\r\n      <g transform=\"translate(138.523625 282.915)rotate(-90)scale(0.1 -0.1)\">\r\n       <defs>\r\n        <path d=\"M 37.796875 64.3125 \r\nL 12.890625 25.390625 \r\nL 37.796875 25.390625 \r\nz\r\nM 35.203125 72.90625 \r\nL 47.609375 72.90625 \r\nL 47.609375 25.390625 \r\nL 58.015625 25.390625 \r\nL 58.015625 17.1875 \r\nL 47.609375 17.1875 \r\nL 47.609375 0 \r\nL 37.796875 0 \r\nL 37.796875 17.1875 \r\nL 4.890625 17.1875 \r\nL 4.890625 26.703125 \r\nz\r\n\" id=\"DejaVuSans-52\"/>\r\n       </defs>\r\n       <use xlink:href=\"#DejaVuSans-51\"/>\r\n       <use x=\"63.623047\" xlink:href=\"#DejaVuSans-47\"/>\r\n       <use x=\"97.314453\" xlink:href=\"#DejaVuSans-49\"/>\r\n       <use x=\"160.9375\" xlink:href=\"#DejaVuSans-52\"/>\r\n       <use x=\"224.560547\" xlink:href=\"#DejaVuSans-47\"/>\r\n       <use x=\"258.251953\" xlink:href=\"#DejaVuSans-50\"/>\r\n       <use x=\"321.875\" xlink:href=\"#DejaVuSans-48\"/>\r\n       <use x=\"385.498047\" xlink:href=\"#DejaVuSans-50\"/>\r\n       <use x=\"449.121094\" xlink:href=\"#DejaVuSans-49\"/>\r\n      </g>\r\n     </g>\r\n    </g>\r\n    <g id=\"xtick_7\">\r\n     <g id=\"line2d_7\">\r\n      <g>\r\n       <use style=\"stroke:#000000;stroke-width:0.8;\" x=\"153.62025\" xlink:href=\"#mb320995baa\" y=\"224.64\"/>\r\n      </g>\r\n     </g>\r\n     <g id=\"text_7\">\r\n      <!-- 3/15/2021 -->\r\n      <g transform=\"translate(156.379625 282.915)rotate(-90)scale(0.1 -0.1)\">\r\n       <defs>\r\n        <path d=\"M 10.796875 72.90625 \r\nL 49.515625 72.90625 \r\nL 49.515625 64.59375 \r\nL 19.828125 64.59375 \r\nL 19.828125 46.734375 \r\nQ 21.96875 47.46875 24.109375 47.828125 \r\nQ 26.265625 48.1875 28.421875 48.1875 \r\nQ 40.625 48.1875 47.75 41.5 \r\nQ 54.890625 34.8125 54.890625 23.390625 \r\nQ 54.890625 11.625 47.5625 5.09375 \r\nQ 40.234375 -1.421875 26.90625 -1.421875 \r\nQ 22.3125 -1.421875 17.546875 -0.640625 \r\nQ 12.796875 0.140625 7.71875 1.703125 \r\nL 7.71875 11.625 \r\nQ 12.109375 9.234375 16.796875 8.0625 \r\nQ 21.484375 6.890625 26.703125 6.890625 \r\nQ 35.15625 6.890625 40.078125 11.328125 \r\nQ 45.015625 15.765625 45.015625 23.390625 \r\nQ 45.015625 31 40.078125 35.4375 \r\nQ 35.15625 39.890625 26.703125 39.890625 \r\nQ 22.75 39.890625 18.8125 39.015625 \r\nQ 14.890625 38.140625 10.796875 36.28125 \r\nz\r\n\" id=\"DejaVuSans-53\"/>\r\n       </defs>\r\n       <use xlink:href=\"#DejaVuSans-51\"/>\r\n       <use x=\"63.623047\" xlink:href=\"#DejaVuSans-47\"/>\r\n       <use x=\"97.314453\" xlink:href=\"#DejaVuSans-49\"/>\r\n       <use x=\"160.9375\" xlink:href=\"#DejaVuSans-53\"/>\r\n       <use x=\"224.560547\" xlink:href=\"#DejaVuSans-47\"/>\r\n       <use x=\"258.251953\" xlink:href=\"#DejaVuSans-50\"/>\r\n       <use x=\"321.875\" xlink:href=\"#DejaVuSans-48\"/>\r\n       <use x=\"385.498047\" xlink:href=\"#DejaVuSans-50\"/>\r\n       <use x=\"449.121094\" xlink:href=\"#DejaVuSans-49\"/>\r\n      </g>\r\n     </g>\r\n    </g>\r\n    <g id=\"xtick_8\">\r\n     <g id=\"line2d_8\">\r\n      <g>\r\n       <use style=\"stroke:#000000;stroke-width:0.8;\" x=\"171.47625\" xlink:href=\"#mb320995baa\" y=\"224.64\"/>\r\n      </g>\r\n     </g>\r\n     <g id=\"text_8\">\r\n      <!-- 3/2/2021 -->\r\n      <g transform=\"translate(174.235625 276.5525)rotate(-90)scale(0.1 -0.1)\">\r\n       <use xlink:href=\"#DejaVuSans-51\"/>\r\n       <use x=\"63.623047\" xlink:href=\"#DejaVuSans-47\"/>\r\n       <use x=\"97.314453\" xlink:href=\"#DejaVuSans-50\"/>\r\n       <use x=\"160.9375\" xlink:href=\"#DejaVuSans-47\"/>\r\n       <use x=\"194.628906\" xlink:href=\"#DejaVuSans-50\"/>\r\n       <use x=\"258.251953\" xlink:href=\"#DejaVuSans-48\"/>\r\n       <use x=\"321.875\" xlink:href=\"#DejaVuSans-50\"/>\r\n       <use x=\"385.498047\" xlink:href=\"#DejaVuSans-49\"/>\r\n      </g>\r\n     </g>\r\n    </g>\r\n    <g id=\"xtick_9\">\r\n     <g id=\"line2d_9\">\r\n      <g>\r\n       <use style=\"stroke:#000000;stroke-width:0.8;\" x=\"189.33225\" xlink:href=\"#mb320995baa\" y=\"224.64\"/>\r\n      </g>\r\n     </g>\r\n     <g id=\"text_9\">\r\n      <!-- 3/3/2021 -->\r\n      <g transform=\"translate(192.091625 276.5525)rotate(-90)scale(0.1 -0.1)\">\r\n       <use xlink:href=\"#DejaVuSans-51\"/>\r\n       <use x=\"63.623047\" xlink:href=\"#DejaVuSans-47\"/>\r\n       <use x=\"97.314453\" xlink:href=\"#DejaVuSans-51\"/>\r\n       <use x=\"160.9375\" xlink:href=\"#DejaVuSans-47\"/>\r\n       <use x=\"194.628906\" xlink:href=\"#DejaVuSans-50\"/>\r\n       <use x=\"258.251953\" xlink:href=\"#DejaVuSans-48\"/>\r\n       <use x=\"321.875\" xlink:href=\"#DejaVuSans-50\"/>\r\n       <use x=\"385.498047\" xlink:href=\"#DejaVuSans-49\"/>\r\n      </g>\r\n     </g>\r\n    </g>\r\n    <g id=\"xtick_10\">\r\n     <g id=\"line2d_10\">\r\n      <g>\r\n       <use style=\"stroke:#000000;stroke-width:0.8;\" x=\"207.18825\" xlink:href=\"#mb320995baa\" y=\"224.64\"/>\r\n      </g>\r\n     </g>\r\n     <g id=\"text_10\">\r\n      <!-- 3/4/2021 -->\r\n      <g transform=\"translate(209.947625 276.5525)rotate(-90)scale(0.1 -0.1)\">\r\n       <use xlink:href=\"#DejaVuSans-51\"/>\r\n       <use x=\"63.623047\" xlink:href=\"#DejaVuSans-47\"/>\r\n       <use x=\"97.314453\" xlink:href=\"#DejaVuSans-52\"/>\r\n       <use x=\"160.9375\" xlink:href=\"#DejaVuSans-47\"/>\r\n       <use x=\"194.628906\" xlink:href=\"#DejaVuSans-50\"/>\r\n       <use x=\"258.251953\" xlink:href=\"#DejaVuSans-48\"/>\r\n       <use x=\"321.875\" xlink:href=\"#DejaVuSans-50\"/>\r\n       <use x=\"385.498047\" xlink:href=\"#DejaVuSans-49\"/>\r\n      </g>\r\n     </g>\r\n    </g>\r\n    <g id=\"xtick_11\">\r\n     <g id=\"line2d_11\">\r\n      <g>\r\n       <use style=\"stroke:#000000;stroke-width:0.8;\" x=\"225.04425\" xlink:href=\"#mb320995baa\" y=\"224.64\"/>\r\n      </g>\r\n     </g>\r\n     <g id=\"text_11\">\r\n      <!-- 3/5/2021 -->\r\n      <g transform=\"translate(227.803625 276.5525)rotate(-90)scale(0.1 -0.1)\">\r\n       <use xlink:href=\"#DejaVuSans-51\"/>\r\n       <use x=\"63.623047\" xlink:href=\"#DejaVuSans-47\"/>\r\n       <use x=\"97.314453\" xlink:href=\"#DejaVuSans-53\"/>\r\n       <use x=\"160.9375\" xlink:href=\"#DejaVuSans-47\"/>\r\n       <use x=\"194.628906\" xlink:href=\"#DejaVuSans-50\"/>\r\n       <use x=\"258.251953\" xlink:href=\"#DejaVuSans-48\"/>\r\n       <use x=\"321.875\" xlink:href=\"#DejaVuSans-50\"/>\r\n       <use x=\"385.498047\" xlink:href=\"#DejaVuSans-49\"/>\r\n      </g>\r\n     </g>\r\n    </g>\r\n    <g id=\"xtick_12\">\r\n     <g id=\"line2d_12\">\r\n      <g>\r\n       <use style=\"stroke:#000000;stroke-width:0.8;\" x=\"242.90025\" xlink:href=\"#mb320995baa\" y=\"224.64\"/>\r\n      </g>\r\n     </g>\r\n     <g id=\"text_12\">\r\n      <!-- 3/6/2021 -->\r\n      <g transform=\"translate(245.659625 276.5525)rotate(-90)scale(0.1 -0.1)\">\r\n       <defs>\r\n        <path d=\"M 33.015625 40.375 \r\nQ 26.375 40.375 22.484375 35.828125 \r\nQ 18.609375 31.296875 18.609375 23.390625 \r\nQ 18.609375 15.53125 22.484375 10.953125 \r\nQ 26.375 6.390625 33.015625 6.390625 \r\nQ 39.65625 6.390625 43.53125 10.953125 \r\nQ 47.40625 15.53125 47.40625 23.390625 \r\nQ 47.40625 31.296875 43.53125 35.828125 \r\nQ 39.65625 40.375 33.015625 40.375 \r\nz\r\nM 52.59375 71.296875 \r\nL 52.59375 62.3125 \r\nQ 48.875 64.0625 45.09375 64.984375 \r\nQ 41.3125 65.921875 37.59375 65.921875 \r\nQ 27.828125 65.921875 22.671875 59.328125 \r\nQ 17.53125 52.734375 16.796875 39.40625 \r\nQ 19.671875 43.65625 24.015625 45.921875 \r\nQ 28.375 48.1875 33.59375 48.1875 \r\nQ 44.578125 48.1875 50.953125 41.515625 \r\nQ 57.328125 34.859375 57.328125 23.390625 \r\nQ 57.328125 12.15625 50.6875 5.359375 \r\nQ 44.046875 -1.421875 33.015625 -1.421875 \r\nQ 20.359375 -1.421875 13.671875 8.265625 \r\nQ 6.984375 17.96875 6.984375 36.375 \r\nQ 6.984375 53.65625 15.1875 63.9375 \r\nQ 23.390625 74.21875 37.203125 74.21875 \r\nQ 40.921875 74.21875 44.703125 73.484375 \r\nQ 48.484375 72.75 52.59375 71.296875 \r\nz\r\n\" id=\"DejaVuSans-54\"/>\r\n       </defs>\r\n       <use xlink:href=\"#DejaVuSans-51\"/>\r\n       <use x=\"63.623047\" xlink:href=\"#DejaVuSans-47\"/>\r\n       <use x=\"97.314453\" xlink:href=\"#DejaVuSans-54\"/>\r\n       <use x=\"160.9375\" xlink:href=\"#DejaVuSans-47\"/>\r\n       <use x=\"194.628906\" xlink:href=\"#DejaVuSans-50\"/>\r\n       <use x=\"258.251953\" xlink:href=\"#DejaVuSans-48\"/>\r\n       <use x=\"321.875\" xlink:href=\"#DejaVuSans-50\"/>\r\n       <use x=\"385.498047\" xlink:href=\"#DejaVuSans-49\"/>\r\n      </g>\r\n     </g>\r\n    </g>\r\n    <g id=\"xtick_13\">\r\n     <g id=\"line2d_13\">\r\n      <g>\r\n       <use style=\"stroke:#000000;stroke-width:0.8;\" x=\"260.75625\" xlink:href=\"#mb320995baa\" y=\"224.64\"/>\r\n      </g>\r\n     </g>\r\n     <g id=\"text_13\">\r\n      <!-- 3/7/2021 -->\r\n      <g transform=\"translate(263.515625 276.5525)rotate(-90)scale(0.1 -0.1)\">\r\n       <defs>\r\n        <path d=\"M 8.203125 72.90625 \r\nL 55.078125 72.90625 \r\nL 55.078125 68.703125 \r\nL 28.609375 0 \r\nL 18.3125 0 \r\nL 43.21875 64.59375 \r\nL 8.203125 64.59375 \r\nz\r\n\" id=\"DejaVuSans-55\"/>\r\n       </defs>\r\n       <use xlink:href=\"#DejaVuSans-51\"/>\r\n       <use x=\"63.623047\" xlink:href=\"#DejaVuSans-47\"/>\r\n       <use x=\"97.314453\" xlink:href=\"#DejaVuSans-55\"/>\r\n       <use x=\"160.9375\" xlink:href=\"#DejaVuSans-47\"/>\r\n       <use x=\"194.628906\" xlink:href=\"#DejaVuSans-50\"/>\r\n       <use x=\"258.251953\" xlink:href=\"#DejaVuSans-48\"/>\r\n       <use x=\"321.875\" xlink:href=\"#DejaVuSans-50\"/>\r\n       <use x=\"385.498047\" xlink:href=\"#DejaVuSans-49\"/>\r\n      </g>\r\n     </g>\r\n    </g>\r\n    <g id=\"xtick_14\">\r\n     <g id=\"line2d_14\">\r\n      <g>\r\n       <use style=\"stroke:#000000;stroke-width:0.8;\" x=\"278.61225\" xlink:href=\"#mb320995baa\" y=\"224.64\"/>\r\n      </g>\r\n     </g>\r\n     <g id=\"text_14\">\r\n      <!-- 3/8/2021 -->\r\n      <g transform=\"translate(281.371625 276.5525)rotate(-90)scale(0.1 -0.1)\">\r\n       <defs>\r\n        <path d=\"M 31.78125 34.625 \r\nQ 24.75 34.625 20.71875 30.859375 \r\nQ 16.703125 27.09375 16.703125 20.515625 \r\nQ 16.703125 13.921875 20.71875 10.15625 \r\nQ 24.75 6.390625 31.78125 6.390625 \r\nQ 38.8125 6.390625 42.859375 10.171875 \r\nQ 46.921875 13.96875 46.921875 20.515625 \r\nQ 46.921875 27.09375 42.890625 30.859375 \r\nQ 38.875 34.625 31.78125 34.625 \r\nz\r\nM 21.921875 38.8125 \r\nQ 15.578125 40.375 12.03125 44.71875 \r\nQ 8.5 49.078125 8.5 55.328125 \r\nQ 8.5 64.0625 14.71875 69.140625 \r\nQ 20.953125 74.21875 31.78125 74.21875 \r\nQ 42.671875 74.21875 48.875 69.140625 \r\nQ 55.078125 64.0625 55.078125 55.328125 \r\nQ 55.078125 49.078125 51.53125 44.71875 \r\nQ 48 40.375 41.703125 38.8125 \r\nQ 48.828125 37.15625 52.796875 32.3125 \r\nQ 56.78125 27.484375 56.78125 20.515625 \r\nQ 56.78125 9.90625 50.3125 4.234375 \r\nQ 43.84375 -1.421875 31.78125 -1.421875 \r\nQ 19.734375 -1.421875 13.25 4.234375 \r\nQ 6.78125 9.90625 6.78125 20.515625 \r\nQ 6.78125 27.484375 10.78125 32.3125 \r\nQ 14.796875 37.15625 21.921875 38.8125 \r\nz\r\nM 18.3125 54.390625 \r\nQ 18.3125 48.734375 21.84375 45.5625 \r\nQ 25.390625 42.390625 31.78125 42.390625 \r\nQ 38.140625 42.390625 41.71875 45.5625 \r\nQ 45.3125 48.734375 45.3125 54.390625 \r\nQ 45.3125 60.0625 41.71875 63.234375 \r\nQ 38.140625 66.40625 31.78125 66.40625 \r\nQ 25.390625 66.40625 21.84375 63.234375 \r\nQ 18.3125 60.0625 18.3125 54.390625 \r\nz\r\n\" id=\"DejaVuSans-56\"/>\r\n       </defs>\r\n       <use xlink:href=\"#DejaVuSans-51\"/>\r\n       <use x=\"63.623047\" xlink:href=\"#DejaVuSans-47\"/>\r\n       <use x=\"97.314453\" xlink:href=\"#DejaVuSans-56\"/>\r\n       <use x=\"160.9375\" xlink:href=\"#DejaVuSans-47\"/>\r\n       <use x=\"194.628906\" xlink:href=\"#DejaVuSans-50\"/>\r\n       <use x=\"258.251953\" xlink:href=\"#DejaVuSans-48\"/>\r\n       <use x=\"321.875\" xlink:href=\"#DejaVuSans-50\"/>\r\n       <use x=\"385.498047\" xlink:href=\"#DejaVuSans-49\"/>\r\n      </g>\r\n     </g>\r\n    </g>\r\n    <g id=\"xtick_15\">\r\n     <g id=\"line2d_15\">\r\n      <g>\r\n       <use style=\"stroke:#000000;stroke-width:0.8;\" x=\"296.46825\" xlink:href=\"#mb320995baa\" y=\"224.64\"/>\r\n      </g>\r\n     </g>\r\n     <g id=\"text_15\">\r\n      <!-- 3/9/2021 -->\r\n      <g transform=\"translate(299.227625 276.5525)rotate(-90)scale(0.1 -0.1)\">\r\n       <defs>\r\n        <path d=\"M 10.984375 1.515625 \r\nL 10.984375 10.5 \r\nQ 14.703125 8.734375 18.5 7.8125 \r\nQ 22.3125 6.890625 25.984375 6.890625 \r\nQ 35.75 6.890625 40.890625 13.453125 \r\nQ 46.046875 20.015625 46.78125 33.40625 \r\nQ 43.953125 29.203125 39.59375 26.953125 \r\nQ 35.25 24.703125 29.984375 24.703125 \r\nQ 19.046875 24.703125 12.671875 31.3125 \r\nQ 6.296875 37.9375 6.296875 49.421875 \r\nQ 6.296875 60.640625 12.9375 67.421875 \r\nQ 19.578125 74.21875 30.609375 74.21875 \r\nQ 43.265625 74.21875 49.921875 64.515625 \r\nQ 56.59375 54.828125 56.59375 36.375 \r\nQ 56.59375 19.140625 48.40625 8.859375 \r\nQ 40.234375 -1.421875 26.421875 -1.421875 \r\nQ 22.703125 -1.421875 18.890625 -0.6875 \r\nQ 15.09375 0.046875 10.984375 1.515625 \r\nz\r\nM 30.609375 32.421875 \r\nQ 37.25 32.421875 41.125 36.953125 \r\nQ 45.015625 41.5 45.015625 49.421875 \r\nQ 45.015625 57.28125 41.125 61.84375 \r\nQ 37.25 66.40625 30.609375 66.40625 \r\nQ 23.96875 66.40625 20.09375 61.84375 \r\nQ 16.21875 57.28125 16.21875 49.421875 \r\nQ 16.21875 41.5 20.09375 36.953125 \r\nQ 23.96875 32.421875 30.609375 32.421875 \r\nz\r\n\" id=\"DejaVuSans-57\"/>\r\n       </defs>\r\n       <use xlink:href=\"#DejaVuSans-51\"/>\r\n       <use x=\"63.623047\" xlink:href=\"#DejaVuSans-47\"/>\r\n       <use x=\"97.314453\" xlink:href=\"#DejaVuSans-57\"/>\r\n       <use x=\"160.9375\" xlink:href=\"#DejaVuSans-47\"/>\r\n       <use x=\"194.628906\" xlink:href=\"#DejaVuSans-50\"/>\r\n       <use x=\"258.251953\" xlink:href=\"#DejaVuSans-48\"/>\r\n       <use x=\"321.875\" xlink:href=\"#DejaVuSans-50\"/>\r\n       <use x=\"385.498047\" xlink:href=\"#DejaVuSans-49\"/>\r\n      </g>\r\n     </g>\r\n    </g>\r\n    <g id=\"text_16\">\r\n     <!-- date -->\r\n     <g transform=\"translate(160.20125 294.513437)scale(0.1 -0.1)\">\r\n      <defs>\r\n       <path d=\"M 45.40625 46.390625 \r\nL 45.40625 75.984375 \r\nL 54.390625 75.984375 \r\nL 54.390625 0 \r\nL 45.40625 0 \r\nL 45.40625 8.203125 \r\nQ 42.578125 3.328125 38.25 0.953125 \r\nQ 33.9375 -1.421875 27.875 -1.421875 \r\nQ 17.96875 -1.421875 11.734375 6.484375 \r\nQ 5.515625 14.40625 5.515625 27.296875 \r\nQ 5.515625 40.1875 11.734375 48.09375 \r\nQ 17.96875 56 27.875 56 \r\nQ 33.9375 56 38.25 53.625 \r\nQ 42.578125 51.265625 45.40625 46.390625 \r\nz\r\nM 14.796875 27.296875 \r\nQ 14.796875 17.390625 18.875 11.75 \r\nQ 22.953125 6.109375 30.078125 6.109375 \r\nQ 37.203125 6.109375 41.296875 11.75 \r\nQ 45.40625 17.390625 45.40625 27.296875 \r\nQ 45.40625 37.203125 41.296875 42.84375 \r\nQ 37.203125 48.484375 30.078125 48.484375 \r\nQ 22.953125 48.484375 18.875 42.84375 \r\nQ 14.796875 37.203125 14.796875 27.296875 \r\nz\r\n\" id=\"DejaVuSans-100\"/>\r\n       <path d=\"M 34.28125 27.484375 \r\nQ 23.390625 27.484375 19.1875 25 \r\nQ 14.984375 22.515625 14.984375 16.5 \r\nQ 14.984375 11.71875 18.140625 8.90625 \r\nQ 21.296875 6.109375 26.703125 6.109375 \r\nQ 34.1875 6.109375 38.703125 11.40625 \r\nQ 43.21875 16.703125 43.21875 25.484375 \r\nL 43.21875 27.484375 \r\nz\r\nM 52.203125 31.203125 \r\nL 52.203125 0 \r\nL 43.21875 0 \r\nL 43.21875 8.296875 \r\nQ 40.140625 3.328125 35.546875 0.953125 \r\nQ 30.953125 -1.421875 24.3125 -1.421875 \r\nQ 15.921875 -1.421875 10.953125 3.296875 \r\nQ 6 8.015625 6 15.921875 \r\nQ 6 25.140625 12.171875 29.828125 \r\nQ 18.359375 34.515625 30.609375 34.515625 \r\nL 43.21875 34.515625 \r\nL 43.21875 35.40625 \r\nQ 43.21875 41.609375 39.140625 45 \r\nQ 35.0625 48.390625 27.6875 48.390625 \r\nQ 23 48.390625 18.546875 47.265625 \r\nQ 14.109375 46.140625 10.015625 43.890625 \r\nL 10.015625 52.203125 \r\nQ 14.9375 54.109375 19.578125 55.046875 \r\nQ 24.21875 56 28.609375 56 \r\nQ 40.484375 56 46.34375 49.84375 \r\nQ 52.203125 43.703125 52.203125 31.203125 \r\nz\r\n\" id=\"DejaVuSans-97\"/>\r\n       <path d=\"M 18.3125 70.21875 \r\nL 18.3125 54.6875 \r\nL 36.8125 54.6875 \r\nL 36.8125 47.703125 \r\nL 18.3125 47.703125 \r\nL 18.3125 18.015625 \r\nQ 18.3125 11.328125 20.140625 9.421875 \r\nQ 21.96875 7.515625 27.59375 7.515625 \r\nL 36.8125 7.515625 \r\nL 36.8125 0 \r\nL 27.59375 0 \r\nQ 17.1875 0 13.234375 3.875 \r\nQ 9.28125 7.765625 9.28125 18.015625 \r\nL 9.28125 47.703125 \r\nL 2.6875 47.703125 \r\nL 2.6875 54.6875 \r\nL 9.28125 54.6875 \r\nL 9.28125 70.21875 \r\nz\r\n\" id=\"DejaVuSans-116\"/>\r\n       <path d=\"M 56.203125 29.59375 \r\nL 56.203125 25.203125 \r\nL 14.890625 25.203125 \r\nQ 15.484375 15.921875 20.484375 11.0625 \r\nQ 25.484375 6.203125 34.421875 6.203125 \r\nQ 39.59375 6.203125 44.453125 7.46875 \r\nQ 49.3125 8.734375 54.109375 11.28125 \r\nL 54.109375 2.78125 \r\nQ 49.265625 0.734375 44.1875 -0.34375 \r\nQ 39.109375 -1.421875 33.890625 -1.421875 \r\nQ 20.796875 -1.421875 13.15625 6.1875 \r\nQ 5.515625 13.8125 5.515625 26.8125 \r\nQ 5.515625 40.234375 12.765625 48.109375 \r\nQ 20.015625 56 32.328125 56 \r\nQ 43.359375 56 49.78125 48.890625 \r\nQ 56.203125 41.796875 56.203125 29.59375 \r\nz\r\nM 47.21875 32.234375 \r\nQ 47.125 39.59375 43.09375 43.984375 \r\nQ 39.0625 48.390625 32.421875 48.390625 \r\nQ 24.90625 48.390625 20.390625 44.140625 \r\nQ 15.875 39.890625 15.1875 32.171875 \r\nz\r\n\" id=\"DejaVuSans-101\"/>\r\n      </defs>\r\n      <use xlink:href=\"#DejaVuSans-100\"/>\r\n      <use x=\"63.476562\" xlink:href=\"#DejaVuSans-97\"/>\r\n      <use x=\"124.755859\" xlink:href=\"#DejaVuSans-116\"/>\r\n      <use x=\"163.964844\" xlink:href=\"#DejaVuSans-101\"/>\r\n     </g>\r\n    </g>\r\n   </g>\r\n   <g id=\"matplotlib.axis_2\">\r\n    <g id=\"ytick_1\">\r\n     <g id=\"line2d_16\">\r\n      <defs>\r\n       <path d=\"M 0 0 \r\nL -3.5 0 \r\n\" id=\"mf7fe8bb364\" style=\"stroke:#000000;stroke-width:0.8;\"/>\r\n      </defs>\r\n      <g>\r\n       <use style=\"stroke:#000000;stroke-width:0.8;\" x=\"37.55625\" xlink:href=\"#mf7fe8bb364\" y=\"43.44\"/>\r\n      </g>\r\n     </g>\r\n     <g id=\"text_17\">\r\n      <!-- Facebook -->\r\n      <g transform=\"translate(28.476563 86.636094)rotate(-90)scale(0.1 -0.1)\">\r\n       <defs>\r\n        <path d=\"M 9.8125 72.90625 \r\nL 51.703125 72.90625 \r\nL 51.703125 64.59375 \r\nL 19.671875 64.59375 \r\nL 19.671875 43.109375 \r\nL 48.578125 43.109375 \r\nL 48.578125 34.8125 \r\nL 19.671875 34.8125 \r\nL 19.671875 0 \r\nL 9.8125 0 \r\nz\r\n\" id=\"DejaVuSans-70\"/>\r\n        <path d=\"M 48.78125 52.59375 \r\nL 48.78125 44.1875 \r\nQ 44.96875 46.296875 41.140625 47.34375 \r\nQ 37.3125 48.390625 33.40625 48.390625 \r\nQ 24.65625 48.390625 19.8125 42.84375 \r\nQ 14.984375 37.3125 14.984375 27.296875 \r\nQ 14.984375 17.28125 19.8125 11.734375 \r\nQ 24.65625 6.203125 33.40625 6.203125 \r\nQ 37.3125 6.203125 41.140625 7.25 \r\nQ 44.96875 8.296875 48.78125 10.40625 \r\nL 48.78125 2.09375 \r\nQ 45.015625 0.34375 40.984375 -0.53125 \r\nQ 36.96875 -1.421875 32.421875 -1.421875 \r\nQ 20.0625 -1.421875 12.78125 6.34375 \r\nQ 5.515625 14.109375 5.515625 27.296875 \r\nQ 5.515625 40.671875 12.859375 48.328125 \r\nQ 20.21875 56 33.015625 56 \r\nQ 37.15625 56 41.109375 55.140625 \r\nQ 45.0625 54.296875 48.78125 52.59375 \r\nz\r\n\" id=\"DejaVuSans-99\"/>\r\n        <path d=\"M 48.6875 27.296875 \r\nQ 48.6875 37.203125 44.609375 42.84375 \r\nQ 40.53125 48.484375 33.40625 48.484375 \r\nQ 26.265625 48.484375 22.1875 42.84375 \r\nQ 18.109375 37.203125 18.109375 27.296875 \r\nQ 18.109375 17.390625 22.1875 11.75 \r\nQ 26.265625 6.109375 33.40625 6.109375 \r\nQ 40.53125 6.109375 44.609375 11.75 \r\nQ 48.6875 17.390625 48.6875 27.296875 \r\nz\r\nM 18.109375 46.390625 \r\nQ 20.953125 51.265625 25.265625 53.625 \r\nQ 29.59375 56 35.59375 56 \r\nQ 45.5625 56 51.78125 48.09375 \r\nQ 58.015625 40.1875 58.015625 27.296875 \r\nQ 58.015625 14.40625 51.78125 6.484375 \r\nQ 45.5625 -1.421875 35.59375 -1.421875 \r\nQ 29.59375 -1.421875 25.265625 0.953125 \r\nQ 20.953125 3.328125 18.109375 8.203125 \r\nL 18.109375 0 \r\nL 9.078125 0 \r\nL 9.078125 75.984375 \r\nL 18.109375 75.984375 \r\nz\r\n\" id=\"DejaVuSans-98\"/>\r\n        <path d=\"M 30.609375 48.390625 \r\nQ 23.390625 48.390625 19.1875 42.75 \r\nQ 14.984375 37.109375 14.984375 27.296875 \r\nQ 14.984375 17.484375 19.15625 11.84375 \r\nQ 23.34375 6.203125 30.609375 6.203125 \r\nQ 37.796875 6.203125 41.984375 11.859375 \r\nQ 46.1875 17.53125 46.1875 27.296875 \r\nQ 46.1875 37.015625 41.984375 42.703125 \r\nQ 37.796875 48.390625 30.609375 48.390625 \r\nz\r\nM 30.609375 56 \r\nQ 42.328125 56 49.015625 48.375 \r\nQ 55.71875 40.765625 55.71875 27.296875 \r\nQ 55.71875 13.875 49.015625 6.21875 \r\nQ 42.328125 -1.421875 30.609375 -1.421875 \r\nQ 18.84375 -1.421875 12.171875 6.21875 \r\nQ 5.515625 13.875 5.515625 27.296875 \r\nQ 5.515625 40.765625 12.171875 48.375 \r\nQ 18.84375 56 30.609375 56 \r\nz\r\n\" id=\"DejaVuSans-111\"/>\r\n        <path d=\"M 9.078125 75.984375 \r\nL 18.109375 75.984375 \r\nL 18.109375 31.109375 \r\nL 44.921875 54.6875 \r\nL 56.390625 54.6875 \r\nL 27.390625 29.109375 \r\nL 57.625 0 \r\nL 45.90625 0 \r\nL 18.109375 26.703125 \r\nL 18.109375 0 \r\nL 9.078125 0 \r\nz\r\n\" id=\"DejaVuSans-107\"/>\r\n       </defs>\r\n       <use xlink:href=\"#DejaVuSans-70\"/>\r\n       <use x=\"48.394531\" xlink:href=\"#DejaVuSans-97\"/>\r\n       <use x=\"109.673828\" xlink:href=\"#DejaVuSans-99\"/>\r\n       <use x=\"164.654297\" xlink:href=\"#DejaVuSans-101\"/>\r\n       <use x=\"226.177734\" xlink:href=\"#DejaVuSans-98\"/>\r\n       <use x=\"289.654297\" xlink:href=\"#DejaVuSans-111\"/>\r\n       <use x=\"350.835938\" xlink:href=\"#DejaVuSans-111\"/>\r\n       <use x=\"412.017578\" xlink:href=\"#DejaVuSans-107\"/>\r\n      </g>\r\n     </g>\r\n    </g>\r\n    <g id=\"ytick_2\">\r\n     <g id=\"line2d_17\">\r\n      <g>\r\n       <use style=\"stroke:#000000;stroke-width:0.8;\" x=\"37.55625\" xlink:href=\"#mf7fe8bb364\" y=\"115.92\"/>\r\n      </g>\r\n     </g>\r\n     <g id=\"text_18\">\r\n      <!-- Google -->\r\n      <g transform=\"translate(28.476563 147.386406)rotate(-90)scale(0.1 -0.1)\">\r\n       <defs>\r\n        <path d=\"M 59.515625 10.40625 \r\nL 59.515625 29.984375 \r\nL 43.40625 29.984375 \r\nL 43.40625 38.09375 \r\nL 69.28125 38.09375 \r\nL 69.28125 6.78125 \r\nQ 63.578125 2.734375 56.6875 0.65625 \r\nQ 49.8125 -1.421875 42 -1.421875 \r\nQ 24.90625 -1.421875 15.25 8.5625 \r\nQ 5.609375 18.5625 5.609375 36.375 \r\nQ 5.609375 54.25 15.25 64.234375 \r\nQ 24.90625 74.21875 42 74.21875 \r\nQ 49.125 74.21875 55.546875 72.453125 \r\nQ 61.96875 70.703125 67.390625 67.28125 \r\nL 67.390625 56.78125 \r\nQ 61.921875 61.421875 55.765625 63.765625 \r\nQ 49.609375 66.109375 42.828125 66.109375 \r\nQ 29.4375 66.109375 22.71875 58.640625 \r\nQ 16.015625 51.171875 16.015625 36.375 \r\nQ 16.015625 21.625 22.71875 14.15625 \r\nQ 29.4375 6.6875 42.828125 6.6875 \r\nQ 48.046875 6.6875 52.140625 7.59375 \r\nQ 56.25 8.5 59.515625 10.40625 \r\nz\r\n\" id=\"DejaVuSans-71\"/>\r\n        <path d=\"M 45.40625 27.984375 \r\nQ 45.40625 37.75 41.375 43.109375 \r\nQ 37.359375 48.484375 30.078125 48.484375 \r\nQ 22.859375 48.484375 18.828125 43.109375 \r\nQ 14.796875 37.75 14.796875 27.984375 \r\nQ 14.796875 18.265625 18.828125 12.890625 \r\nQ 22.859375 7.515625 30.078125 7.515625 \r\nQ 37.359375 7.515625 41.375 12.890625 \r\nQ 45.40625 18.265625 45.40625 27.984375 \r\nz\r\nM 54.390625 6.78125 \r\nQ 54.390625 -7.171875 48.1875 -13.984375 \r\nQ 42 -20.796875 29.203125 -20.796875 \r\nQ 24.46875 -20.796875 20.265625 -20.09375 \r\nQ 16.0625 -19.390625 12.109375 -17.921875 \r\nL 12.109375 -9.1875 \r\nQ 16.0625 -11.328125 19.921875 -12.34375 \r\nQ 23.78125 -13.375 27.78125 -13.375 \r\nQ 36.625 -13.375 41.015625 -8.765625 \r\nQ 45.40625 -4.15625 45.40625 5.171875 \r\nL 45.40625 9.625 \r\nQ 42.625 4.78125 38.28125 2.390625 \r\nQ 33.9375 0 27.875 0 \r\nQ 17.828125 0 11.671875 7.65625 \r\nQ 5.515625 15.328125 5.515625 27.984375 \r\nQ 5.515625 40.671875 11.671875 48.328125 \r\nQ 17.828125 56 27.875 56 \r\nQ 33.9375 56 38.28125 53.609375 \r\nQ 42.625 51.21875 45.40625 46.390625 \r\nL 45.40625 54.6875 \r\nL 54.390625 54.6875 \r\nz\r\n\" id=\"DejaVuSans-103\"/>\r\n        <path d=\"M 9.421875 75.984375 \r\nL 18.40625 75.984375 \r\nL 18.40625 0 \r\nL 9.421875 0 \r\nz\r\n\" id=\"DejaVuSans-108\"/>\r\n       </defs>\r\n       <use xlink:href=\"#DejaVuSans-71\"/>\r\n       <use x=\"77.490234\" xlink:href=\"#DejaVuSans-111\"/>\r\n       <use x=\"138.671875\" xlink:href=\"#DejaVuSans-111\"/>\r\n       <use x=\"199.853516\" xlink:href=\"#DejaVuSans-103\"/>\r\n       <use x=\"263.330078\" xlink:href=\"#DejaVuSans-108\"/>\r\n       <use x=\"291.113281\" xlink:href=\"#DejaVuSans-101\"/>\r\n      </g>\r\n     </g>\r\n    </g>\r\n    <g id=\"ytick_3\">\r\n     <g id=\"line2d_18\">\r\n      <g>\r\n       <use style=\"stroke:#000000;stroke-width:0.8;\" x=\"37.55625\" xlink:href=\"#mf7fe8bb364\" y=\"188.4\"/>\r\n      </g>\r\n     </g>\r\n     <g id=\"text_19\">\r\n      <!-- Instagram -->\r\n      <g transform=\"translate(28.476563 235.474219)rotate(-90)scale(0.1 -0.1)\">\r\n       <defs>\r\n        <path d=\"M 9.8125 72.90625 \r\nL 19.671875 72.90625 \r\nL 19.671875 0 \r\nL 9.8125 0 \r\nz\r\n\" id=\"DejaVuSans-73\"/>\r\n        <path d=\"M 54.890625 33.015625 \r\nL 54.890625 0 \r\nL 45.90625 0 \r\nL 45.90625 32.71875 \r\nQ 45.90625 40.484375 42.875 44.328125 \r\nQ 39.84375 48.1875 33.796875 48.1875 \r\nQ 26.515625 48.1875 22.3125 43.546875 \r\nQ 18.109375 38.921875 18.109375 30.90625 \r\nL 18.109375 0 \r\nL 9.078125 0 \r\nL 9.078125 54.6875 \r\nL 18.109375 54.6875 \r\nL 18.109375 46.1875 \r\nQ 21.34375 51.125 25.703125 53.5625 \r\nQ 30.078125 56 35.796875 56 \r\nQ 45.21875 56 50.046875 50.171875 \r\nQ 54.890625 44.34375 54.890625 33.015625 \r\nz\r\n\" id=\"DejaVuSans-110\"/>\r\n        <path d=\"M 44.28125 53.078125 \r\nL 44.28125 44.578125 \r\nQ 40.484375 46.53125 36.375 47.5 \r\nQ 32.28125 48.484375 27.875 48.484375 \r\nQ 21.1875 48.484375 17.84375 46.4375 \r\nQ 14.5 44.390625 14.5 40.28125 \r\nQ 14.5 37.15625 16.890625 35.375 \r\nQ 19.28125 33.59375 26.515625 31.984375 \r\nL 29.59375 31.296875 \r\nQ 39.15625 29.25 43.1875 25.515625 \r\nQ 47.21875 21.78125 47.21875 15.09375 \r\nQ 47.21875 7.46875 41.1875 3.015625 \r\nQ 35.15625 -1.421875 24.609375 -1.421875 \r\nQ 20.21875 -1.421875 15.453125 -0.5625 \r\nQ 10.6875 0.296875 5.421875 2 \r\nL 5.421875 11.28125 \r\nQ 10.40625 8.6875 15.234375 7.390625 \r\nQ 20.0625 6.109375 24.8125 6.109375 \r\nQ 31.15625 6.109375 34.5625 8.28125 \r\nQ 37.984375 10.453125 37.984375 14.40625 \r\nQ 37.984375 18.0625 35.515625 20.015625 \r\nQ 33.0625 21.96875 24.703125 23.78125 \r\nL 21.578125 24.515625 \r\nQ 13.234375 26.265625 9.515625 29.90625 \r\nQ 5.8125 33.546875 5.8125 39.890625 \r\nQ 5.8125 47.609375 11.28125 51.796875 \r\nQ 16.75 56 26.8125 56 \r\nQ 31.78125 56 36.171875 55.265625 \r\nQ 40.578125 54.546875 44.28125 53.078125 \r\nz\r\n\" id=\"DejaVuSans-115\"/>\r\n        <path d=\"M 41.109375 46.296875 \r\nQ 39.59375 47.171875 37.8125 47.578125 \r\nQ 36.03125 48 33.890625 48 \r\nQ 26.265625 48 22.1875 43.046875 \r\nQ 18.109375 38.09375 18.109375 28.8125 \r\nL 18.109375 0 \r\nL 9.078125 0 \r\nL 9.078125 54.6875 \r\nL 18.109375 54.6875 \r\nL 18.109375 46.1875 \r\nQ 20.953125 51.171875 25.484375 53.578125 \r\nQ 30.03125 56 36.53125 56 \r\nQ 37.453125 56 38.578125 55.875 \r\nQ 39.703125 55.765625 41.0625 55.515625 \r\nz\r\n\" id=\"DejaVuSans-114\"/>\r\n        <path d=\"M 52 44.1875 \r\nQ 55.375 50.25 60.0625 53.125 \r\nQ 64.75 56 71.09375 56 \r\nQ 79.640625 56 84.28125 50.015625 \r\nQ 88.921875 44.046875 88.921875 33.015625 \r\nL 88.921875 0 \r\nL 79.890625 0 \r\nL 79.890625 32.71875 \r\nQ 79.890625 40.578125 77.09375 44.375 \r\nQ 74.3125 48.1875 68.609375 48.1875 \r\nQ 61.625 48.1875 57.5625 43.546875 \r\nQ 53.515625 38.921875 53.515625 30.90625 \r\nL 53.515625 0 \r\nL 44.484375 0 \r\nL 44.484375 32.71875 \r\nQ 44.484375 40.625 41.703125 44.40625 \r\nQ 38.921875 48.1875 33.109375 48.1875 \r\nQ 26.21875 48.1875 22.15625 43.53125 \r\nQ 18.109375 38.875 18.109375 30.90625 \r\nL 18.109375 0 \r\nL 9.078125 0 \r\nL 9.078125 54.6875 \r\nL 18.109375 54.6875 \r\nL 18.109375 46.1875 \r\nQ 21.1875 51.21875 25.484375 53.609375 \r\nQ 29.78125 56 35.6875 56 \r\nQ 41.65625 56 45.828125 52.96875 \r\nQ 50 49.953125 52 44.1875 \r\nz\r\n\" id=\"DejaVuSans-109\"/>\r\n       </defs>\r\n       <use xlink:href=\"#DejaVuSans-73\"/>\r\n       <use x=\"29.492188\" xlink:href=\"#DejaVuSans-110\"/>\r\n       <use x=\"92.871094\" xlink:href=\"#DejaVuSans-115\"/>\r\n       <use x=\"144.970703\" xlink:href=\"#DejaVuSans-116\"/>\r\n       <use x=\"184.179688\" xlink:href=\"#DejaVuSans-97\"/>\r\n       <use x=\"245.458984\" xlink:href=\"#DejaVuSans-103\"/>\r\n       <use x=\"308.935547\" xlink:href=\"#DejaVuSans-114\"/>\r\n       <use x=\"350.048828\" xlink:href=\"#DejaVuSans-97\"/>\r\n       <use x=\"411.328125\" xlink:href=\"#DejaVuSans-109\"/>\r\n      </g>\r\n     </g>\r\n    </g>\r\n    <g id=\"text_20\">\r\n     <!-- platform -->\r\n     <g transform=\"translate(14.798438 137.165312)rotate(-90)scale(0.1 -0.1)\">\r\n      <defs>\r\n       <path d=\"M 18.109375 8.203125 \r\nL 18.109375 -20.796875 \r\nL 9.078125 -20.796875 \r\nL 9.078125 54.6875 \r\nL 18.109375 54.6875 \r\nL 18.109375 46.390625 \r\nQ 20.953125 51.265625 25.265625 53.625 \r\nQ 29.59375 56 35.59375 56 \r\nQ 45.5625 56 51.78125 48.09375 \r\nQ 58.015625 40.1875 58.015625 27.296875 \r\nQ 58.015625 14.40625 51.78125 6.484375 \r\nQ 45.5625 -1.421875 35.59375 -1.421875 \r\nQ 29.59375 -1.421875 25.265625 0.953125 \r\nQ 20.953125 3.328125 18.109375 8.203125 \r\nz\r\nM 48.6875 27.296875 \r\nQ 48.6875 37.203125 44.609375 42.84375 \r\nQ 40.53125 48.484375 33.40625 48.484375 \r\nQ 26.265625 48.484375 22.1875 42.84375 \r\nQ 18.109375 37.203125 18.109375 27.296875 \r\nQ 18.109375 17.390625 22.1875 11.75 \r\nQ 26.265625 6.109375 33.40625 6.109375 \r\nQ 40.53125 6.109375 44.609375 11.75 \r\nQ 48.6875 17.390625 48.6875 27.296875 \r\nz\r\n\" id=\"DejaVuSans-112\"/>\r\n       <path d=\"M 37.109375 75.984375 \r\nL 37.109375 68.5 \r\nL 28.515625 68.5 \r\nQ 23.6875 68.5 21.796875 66.546875 \r\nQ 19.921875 64.59375 19.921875 59.515625 \r\nL 19.921875 54.6875 \r\nL 34.71875 54.6875 \r\nL 34.71875 47.703125 \r\nL 19.921875 47.703125 \r\nL 19.921875 0 \r\nL 10.890625 0 \r\nL 10.890625 47.703125 \r\nL 2.296875 47.703125 \r\nL 2.296875 54.6875 \r\nL 10.890625 54.6875 \r\nL 10.890625 58.5 \r\nQ 10.890625 67.625 15.140625 71.796875 \r\nQ 19.390625 75.984375 28.609375 75.984375 \r\nz\r\n\" id=\"DejaVuSans-102\"/>\r\n      </defs>\r\n      <use xlink:href=\"#DejaVuSans-112\"/>\r\n      <use x=\"63.476562\" xlink:href=\"#DejaVuSans-108\"/>\r\n      <use x=\"91.259766\" xlink:href=\"#DejaVuSans-97\"/>\r\n      <use x=\"152.539062\" xlink:href=\"#DejaVuSans-116\"/>\r\n      <use x=\"191.748047\" xlink:href=\"#DejaVuSans-102\"/>\r\n      <use x=\"226.953125\" xlink:href=\"#DejaVuSans-111\"/>\r\n      <use x=\"288.134766\" xlink:href=\"#DejaVuSans-114\"/>\r\n      <use x=\"327.498047\" xlink:href=\"#DejaVuSans-109\"/>\r\n     </g>\r\n    </g>\r\n   </g>\r\n  </g>\r\n  <g id=\"axes_2\">\r\n   <g id=\"patch_3\">\r\n    <path clip-path=\"url(#pf186ee4241)\" d=\"M 322.13625 224.64 \r\nL 322.13625 223.790625 \r\nL 322.13625 8.049375 \r\nL 322.13625 7.2 \r\nL 333.00825 7.2 \r\nL 333.00825 8.049375 \r\nL 333.00825 223.790625 \r\nL 333.00825 224.64 \r\nz\r\n\" style=\"fill:#ffffff;stroke:#ffffff;stroke-linejoin:miter;stroke-width:0.01;\"/>\r\n   </g>\r\n   <image height=\"218\" id=\"imagef8df53517a\" transform=\"scale(1 -1)translate(0 -218)\" width=\"11\" x=\"322\" xlink:href=\"data:image/png;base64,\r\niVBORw0KGgoAAAANSUhEUgAAAAsAAADaCAYAAABwzrisAAABa0lEQVR4nO2a0W3DQAxD6UL775dZYp+6gl6BF6hA8k0QFKmT5Yuv7ldn+KvOM8WmusfEqQSAm4CTMwefBmCoWWMWfbbi9hJEzM3i1mQwN6wCzRa1rIMyxtjUvPUpM8Cmui+J+UGaxQIBeN5GmFnz+XjWITBq/h1xeydlSYGon1EjIfD7AOuYjDkWnkGUINJ8A9H1EM1egshnMW5tyKDeYM2/Q4bZz+RYzYnVfkY+z4lTz5ZZh8CWG2jWeTI8N+5/2KJsY/y68VcZqPnZ4iqCwQvvAdOcvi5ZzB74gEfs141PyRALtJjZVadXIBlfIXGHFHiBCAtc16WCmBGYuHGhC3ZPM5KB4iYytsSN3AB7jxk3Yx5jU3nI1T2Ke8mBRTKQG4h5yWD0RgFiXnK6vWEuFkiYl8StFQhHLmAOWJIgM1sCrf9hD1hzK5oMVuAONzwZnhvsa5ZzSzK8rywQ+LRWoPdliDY3NDd+xsgkv/ZPpO9Fc31EAAAAAElFTkSuQmCC\" y=\"-6\"/>\r\n   <g id=\"matplotlib.axis_3\"/>\r\n   <g id=\"matplotlib.axis_4\">\r\n    <g id=\"ytick_4\">\r\n     <g id=\"line2d_19\">\r\n      <defs>\r\n       <path d=\"M 0 0 \r\nL 3.5 0 \r\n\" id=\"m3230bdfe10\" style=\"stroke:#000000;stroke-width:0.8;\"/>\r\n      </defs>\r\n      <g>\r\n       <use style=\"stroke:#000000;stroke-width:0.8;\" x=\"333.00825\" xlink:href=\"#m3230bdfe10\" y=\"224.64\"/>\r\n      </g>\r\n     </g>\r\n     <g id=\"text_21\">\r\n      <!-- 0 -->\r\n      <g transform=\"translate(340.00825 228.439219)scale(0.1 -0.1)\">\r\n       <use xlink:href=\"#DejaVuSans-48\"/>\r\n      </g>\r\n     </g>\r\n    </g>\r\n    <g id=\"ytick_5\">\r\n     <g id=\"line2d_20\">\r\n      <g>\r\n       <use style=\"stroke:#000000;stroke-width:0.8;\" x=\"333.00825\" xlink:href=\"#m3230bdfe10\" y=\"179.721332\"/>\r\n      </g>\r\n     </g>\r\n     <g id=\"text_22\">\r\n      <!-- 200 -->\r\n      <g transform=\"translate(340.00825 183.520551)scale(0.1 -0.1)\">\r\n       <use xlink:href=\"#DejaVuSans-50\"/>\r\n       <use x=\"63.623047\" xlink:href=\"#DejaVuSans-48\"/>\r\n       <use x=\"127.246094\" xlink:href=\"#DejaVuSans-48\"/>\r\n      </g>\r\n     </g>\r\n    </g>\r\n    <g id=\"ytick_6\">\r\n     <g id=\"line2d_21\">\r\n      <g>\r\n       <use style=\"stroke:#000000;stroke-width:0.8;\" x=\"333.00825\" xlink:href=\"#m3230bdfe10\" y=\"134.802664\"/>\r\n      </g>\r\n     </g>\r\n     <g id=\"text_23\">\r\n      <!-- 400 -->\r\n      <g transform=\"translate(340.00825 138.601883)scale(0.1 -0.1)\">\r\n       <use xlink:href=\"#DejaVuSans-52\"/>\r\n       <use x=\"63.623047\" xlink:href=\"#DejaVuSans-48\"/>\r\n       <use x=\"127.246094\" xlink:href=\"#DejaVuSans-48\"/>\r\n      </g>\r\n     </g>\r\n    </g>\r\n    <g id=\"ytick_7\">\r\n     <g id=\"line2d_22\">\r\n      <g>\r\n       <use style=\"stroke:#000000;stroke-width:0.8;\" x=\"333.00825\" xlink:href=\"#m3230bdfe10\" y=\"89.883996\"/>\r\n      </g>\r\n     </g>\r\n     <g id=\"text_24\">\r\n      <!-- 600 -->\r\n      <g transform=\"translate(340.00825 93.683215)scale(0.1 -0.1)\">\r\n       <use xlink:href=\"#DejaVuSans-54\"/>\r\n       <use x=\"63.623047\" xlink:href=\"#DejaVuSans-48\"/>\r\n       <use x=\"127.246094\" xlink:href=\"#DejaVuSans-48\"/>\r\n      </g>\r\n     </g>\r\n    </g>\r\n    <g id=\"ytick_8\">\r\n     <g id=\"line2d_23\">\r\n      <g>\r\n       <use style=\"stroke:#000000;stroke-width:0.8;\" x=\"333.00825\" xlink:href=\"#m3230bdfe10\" y=\"44.965328\"/>\r\n      </g>\r\n     </g>\r\n     <g id=\"text_25\">\r\n      <!-- 800 -->\r\n      <g transform=\"translate(340.00825 48.764547)scale(0.1 -0.1)\">\r\n       <use xlink:href=\"#DejaVuSans-56\"/>\r\n       <use x=\"63.623047\" xlink:href=\"#DejaVuSans-48\"/>\r\n       <use x=\"127.246094\" xlink:href=\"#DejaVuSans-48\"/>\r\n      </g>\r\n     </g>\r\n    </g>\r\n   </g>\r\n   <g id=\"patch_4\">\r\n    <path d=\"M 322.13625 224.64 \r\nL 322.13625 223.790625 \r\nL 322.13625 8.049375 \r\nL 322.13625 7.2 \r\nL 333.00825 7.2 \r\nL 333.00825 8.049375 \r\nL 333.00825 223.790625 \r\nL 333.00825 224.64 \r\nz\r\n\" style=\"fill:none;\"/>\r\n   </g>\r\n  </g>\r\n </g>\r\n <defs>\r\n  <clipPath id=\"pe814260477\">\r\n   <rect height=\"217.44\" width=\"267.84\" x=\"37.55625\" y=\"7.2\"/>\r\n  </clipPath>\r\n  <clipPath id=\"pf186ee4241\">\r\n   <rect height=\"217.44\" width=\"10.872\" x=\"322.13625\" y=\"7.2\"/>\r\n  </clipPath>\r\n </defs>\r\n</svg>\r\n",
      "image/png": "[encoded data removed]"
     },
     "metadata": {
      "needs_background": "light"
     }
    }
   ],
   "source": [
    "test = df.pivot(\"platform\", \"date\", \"cost\") \n",
    "sns.heatmap(test, linewidths=.5,cmap=\"YlGnBu\")"
   ]
  },
  {
   "source": [
    "Basándose en el ejemplo anterior construya un mapa de calor con el día de la semana en el eje x y la hora del día en el eje y. Utilice solo los datos de buthewestie."
   ],
   "cell_type": "markdown",
   "metadata": {}
  },
  {
   "cell_type": "code",
   "execution_count": 123,
   "metadata": {},
   "outputs": [
    {
     "output_type": "stream",
     "name": "stderr",
     "text": [
      "<ipython-input-123-8c4dfd4b8671>:1: SettingWithCopyWarning:\n\n\nA value is trying to be set on a copy of a slice from a DataFrame.\nTry using .loc[row_indexer,col_indexer] = value instead\n\nSee the caveats in the documentation: https://pandas.pydata.org/pandas-docs/stable/user_guide/indexing.html#returning-a-view-versus-a-copy\n\n<ipython-input-123-8c4dfd4b8671>:2: SettingWithCopyWarning:\n\n\nA value is trying to be set on a copy of a slice from a DataFrame.\nTry using .loc[row_indexer,col_indexer] = value instead\n\nSee the caveats in the documentation: https://pandas.pydata.org/pandas-docs/stable/user_guide/indexing.html#returning-a-view-versus-a-copy\n\n"
     ]
    }
   ],
   "source": [
    "buthewestie_df1[\"weekday\"] = buthewestie_df1[\"upload_date\"].dt.weekday\n",
    "buthewestie_df1[\"hora\"] = buthewestie_df1[\"upload_date\"].dt.hour"
   ]
  },
  {
   "cell_type": "code",
   "execution_count": 145,
   "metadata": {},
   "outputs": [],
   "source": [
    "prueba = buthewestie_df1.pivot_table(index = \"hora\", columns = \"weekday\" , values=\"likes\", aggfunc = \"sum\")"
   ]
  },
  {
   "cell_type": "code",
   "execution_count": 149,
   "metadata": {},
   "outputs": [
    {
     "output_type": "execute_result",
     "data": {
      "text/plain": [
       "<AxesSubplot:xlabel='weekday', ylabel='hora'>"
      ]
     },
     "metadata": {},
     "execution_count": 149
    },
    {
     "output_type": "display_data",
     "data": {
      "text/plain": "<Figure size 432x288 with 2 Axes>",
      "image/svg+xml": "<?xml version=\"1.0\" encoding=\"utf-8\" standalone=\"no\"?>\r\n<!DOCTYPE svg PUBLIC \"-//W3C//DTD SVG 1.1//EN\"\r\n  \"http://www.w3.org/Graphics/SVG/1.1/DTD/svg11.dtd\">\r\n<!-- Created with matplotlib (https://matplotlib.org/) -->\r\n<svg height=\"262.19625pt\" version=\"1.1\" viewBox=\"0 0 375.705125 262.19625\" width=\"375.705125pt\" xmlns=\"http://www.w3.org/2000/svg\" xmlns:xlink=\"http://www.w3.org/1999/xlink\">\r\n <metadata>\r\n  <rdf:RDF xmlns:cc=\"http://creativecommons.org/ns#\" xmlns:dc=\"http://purl.org/dc/elements/1.1/\" xmlns:rdf=\"http://www.w3.org/1999/02/22-rdf-syntax-ns#\">\r\n   <cc:Work>\r\n    <dc:type rdf:resource=\"http://purl.org/dc/dcmitype/StillImage\"/>\r\n    <dc:date>2021-04-11T01:00:51.832024</dc:date>\r\n    <dc:format>image/svg+xml</dc:format>\r\n    <dc:creator>\r\n     <cc:Agent>\r\n      <dc:title>Matplotlib v3.3.2, https://matplotlib.org/</dc:title>\r\n     </cc:Agent>\r\n    </dc:creator>\r\n   </cc:Work>\r\n  </rdf:RDF>\r\n </metadata>\r\n <defs>\r\n  <style type=\"text/css\">*{stroke-linecap:butt;stroke-linejoin:round;}</style>\r\n </defs>\r\n <g id=\"figure_1\">\r\n  <g id=\"patch_1\">\r\n   <path d=\"M 0 262.19625 \r\nL 375.705125 262.19625 \r\nL 375.705125 0 \r\nL 0 0 \r\nz\r\n\" style=\"fill:none;\"/>\r\n  </g>\r\n  <g id=\"axes_1\">\r\n   <g id=\"patch_2\">\r\n    <path d=\"M 40.603125 224.64 \r\nL 308.443125 224.64 \r\nL 308.443125 7.2 \r\nL 40.603125 7.2 \r\nz\r\n\" style=\"fill:#ffffff;\"/>\r\n   </g>\r\n   <g id=\"QuadMesh_1\">\r\n    <path clip-path=\"url(#peebb2970f7)\" d=\"M 40.603125 7.2 \r\nL 78.865982 7.2 \r\nL 78.865982 18.072 \r\nL 40.603125 18.072 \r\nL 40.603125 7.2 \r\n\" style=\"fill:none;stroke:#ffffff;stroke-width:0.5;\"/>\r\n    <path clip-path=\"url(#peebb2970f7)\" d=\"M 78.865982 7.2 \r\nL 117.128839 7.2 \r\nL 117.128839 18.072 \r\nL 78.865982 18.072 \r\nL 78.865982 7.2 \r\n\" style=\"fill:none;stroke:#ffffff;stroke-width:0.5;\"/>\r\n    <path clip-path=\"url(#peebb2970f7)\" d=\"M 117.128839 7.2 \r\nL 155.391696 7.2 \r\nL 155.391696 18.072 \r\nL 117.128839 18.072 \r\nL 117.128839 7.2 \r\n\" style=\"fill:none;stroke:#ffffff;stroke-width:0.5;\"/>\r\n    <path clip-path=\"url(#peebb2970f7)\" d=\"M 155.391696 7.2 \r\nL 193.654554 7.2 \r\nL 193.654554 18.072 \r\nL 155.391696 18.072 \r\nL 155.391696 7.2 \r\n\" style=\"fill:none;stroke:#ffffff;stroke-width:0.5;\"/>\r\n    <path clip-path=\"url(#peebb2970f7)\" d=\"M 193.654554 7.2 \r\nL 231.917411 7.2 \r\nL 231.917411 18.072 \r\nL 193.654554 18.072 \r\nL 193.654554 7.2 \r\n\" style=\"fill:#ffffd9;stroke:#ffffff;stroke-width:0.5;\"/>\r\n    <path clip-path=\"url(#peebb2970f7)\" d=\"M 231.917411 7.2 \r\nL 270.180268 7.2 \r\nL 270.180268 18.072 \r\nL 231.917411 18.072 \r\nL 231.917411 7.2 \r\n\" style=\"fill:none;stroke:#ffffff;stroke-width:0.5;\"/>\r\n    <path clip-path=\"url(#peebb2970f7)\" d=\"M 270.180268 7.2 \r\nL 308.443125 7.2 \r\nL 308.443125 18.072 \r\nL 270.180268 18.072 \r\nL 270.180268 7.2 \r\n\" style=\"fill:none;stroke:#ffffff;stroke-width:0.5;\"/>\r\n    <path clip-path=\"url(#peebb2970f7)\" d=\"M 40.603125 18.072 \r\nL 78.865982 18.072 \r\nL 78.865982 28.944 \r\nL 40.603125 28.944 \r\nL 40.603125 18.072 \r\n\" style=\"fill:#ffffd9;stroke:#ffffff;stroke-width:0.5;\"/>\r\n    <path clip-path=\"url(#peebb2970f7)\" d=\"M 78.865982 18.072 \r\nL 117.128839 18.072 \r\nL 117.128839 28.944 \r\nL 78.865982 28.944 \r\nL 78.865982 18.072 \r\n\" style=\"fill:none;stroke:#ffffff;stroke-width:0.5;\"/>\r\n    <path clip-path=\"url(#peebb2970f7)\" d=\"M 117.128839 18.072 \r\nL 155.391696 18.072 \r\nL 155.391696 28.944 \r\nL 117.128839 28.944 \r\nL 117.128839 18.072 \r\n\" style=\"fill:none;stroke:#ffffff;stroke-width:0.5;\"/>\r\n    <path clip-path=\"url(#peebb2970f7)\" d=\"M 155.391696 18.072 \r\nL 193.654554 18.072 \r\nL 193.654554 28.944 \r\nL 155.391696 28.944 \r\nL 155.391696 18.072 \r\n\" style=\"fill:none;stroke:#ffffff;stroke-width:0.5;\"/>\r\n    <path clip-path=\"url(#peebb2970f7)\" d=\"M 193.654554 18.072 \r\nL 231.917411 18.072 \r\nL 231.917411 28.944 \r\nL 193.654554 28.944 \r\nL 193.654554 18.072 \r\n\" style=\"fill:none;stroke:#ffffff;stroke-width:0.5;\"/>\r\n    <path clip-path=\"url(#peebb2970f7)\" d=\"M 231.917411 18.072 \r\nL 270.180268 18.072 \r\nL 270.180268 28.944 \r\nL 231.917411 28.944 \r\nL 231.917411 18.072 \r\n\" style=\"fill:none;stroke:#ffffff;stroke-width:0.5;\"/>\r\n    <path clip-path=\"url(#peebb2970f7)\" d=\"M 270.180268 18.072 \r\nL 308.443125 18.072 \r\nL 308.443125 28.944 \r\nL 270.180268 28.944 \r\nL 270.180268 18.072 \r\n\" style=\"fill:none;stroke:#ffffff;stroke-width:0.5;\"/>\r\n    <path clip-path=\"url(#peebb2970f7)\" d=\"M 40.603125 28.944 \r\nL 78.865982 28.944 \r\nL 78.865982 39.816 \r\nL 40.603125 39.816 \r\nL 40.603125 28.944 \r\n\" style=\"fill:#f7fcc7;stroke:#ffffff;stroke-width:0.5;\"/>\r\n    <path clip-path=\"url(#peebb2970f7)\" d=\"M 78.865982 28.944 \r\nL 117.128839 28.944 \r\nL 117.128839 39.816 \r\nL 78.865982 39.816 \r\nL 78.865982 28.944 \r\n\" style=\"fill:none;stroke:#ffffff;stroke-width:0.5;\"/>\r\n    <path clip-path=\"url(#peebb2970f7)\" d=\"M 117.128839 28.944 \r\nL 155.391696 28.944 \r\nL 155.391696 39.816 \r\nL 117.128839 39.816 \r\nL 117.128839 28.944 \r\n\" style=\"fill:none;stroke:#ffffff;stroke-width:0.5;\"/>\r\n    <path clip-path=\"url(#peebb2970f7)\" d=\"M 155.391696 28.944 \r\nL 193.654554 28.944 \r\nL 193.654554 39.816 \r\nL 155.391696 39.816 \r\nL 155.391696 28.944 \r\n\" style=\"fill:#f4fbc0;stroke:#ffffff;stroke-width:0.5;\"/>\r\n    <path clip-path=\"url(#peebb2970f7)\" d=\"M 193.654554 28.944 \r\nL 231.917411 28.944 \r\nL 231.917411 39.816 \r\nL 193.654554 39.816 \r\nL 193.654554 28.944 \r\n\" style=\"fill:#f2fabc;stroke:#ffffff;stroke-width:0.5;\"/>\r\n    <path clip-path=\"url(#peebb2970f7)\" d=\"M 231.917411 28.944 \r\nL 270.180268 28.944 \r\nL 270.180268 39.816 \r\nL 231.917411 39.816 \r\nL 231.917411 28.944 \r\n\" style=\"fill:#f5fbc2;stroke:#ffffff;stroke-width:0.5;\"/>\r\n    <path clip-path=\"url(#peebb2970f7)\" d=\"M 270.180268 28.944 \r\nL 308.443125 28.944 \r\nL 308.443125 39.816 \r\nL 270.180268 39.816 \r\nL 270.180268 28.944 \r\n\" style=\"fill:none;stroke:#ffffff;stroke-width:0.5;\"/>\r\n    <path clip-path=\"url(#peebb2970f7)\" d=\"M 40.603125 39.816 \r\nL 78.865982 39.816 \r\nL 78.865982 50.688 \r\nL 40.603125 50.688 \r\nL 40.603125 39.816 \r\n\" style=\"fill:#f1fabb;stroke:#ffffff;stroke-width:0.5;\"/>\r\n    <path clip-path=\"url(#peebb2970f7)\" d=\"M 78.865982 39.816 \r\nL 117.128839 39.816 \r\nL 117.128839 50.688 \r\nL 78.865982 50.688 \r\nL 78.865982 39.816 \r\n\" style=\"fill:#eaf7b1;stroke:#ffffff;stroke-width:0.5;\"/>\r\n    <path clip-path=\"url(#peebb2970f7)\" d=\"M 117.128839 39.816 \r\nL 155.391696 39.816 \r\nL 155.391696 50.688 \r\nL 117.128839 50.688 \r\nL 117.128839 39.816 \r\n\" style=\"fill:#bde5b5;stroke:#ffffff;stroke-width:0.5;\"/>\r\n    <path clip-path=\"url(#peebb2970f7)\" d=\"M 155.391696 39.816 \r\nL 193.654554 39.816 \r\nL 193.654554 50.688 \r\nL 155.391696 50.688 \r\nL 155.391696 39.816 \r\n\" style=\"fill:#e9f7b1;stroke:#ffffff;stroke-width:0.5;\"/>\r\n    <path clip-path=\"url(#peebb2970f7)\" d=\"M 193.654554 39.816 \r\nL 231.917411 39.816 \r\nL 231.917411 50.688 \r\nL 193.654554 50.688 \r\nL 193.654554 39.816 \r\n\" style=\"fill:#f8fcca;stroke:#ffffff;stroke-width:0.5;\"/>\r\n    <path clip-path=\"url(#peebb2970f7)\" d=\"M 231.917411 39.816 \r\nL 270.180268 39.816 \r\nL 270.180268 50.688 \r\nL 231.917411 50.688 \r\nL 231.917411 39.816 \r\n\" style=\"fill:#90d4b9;stroke:#ffffff;stroke-width:0.5;\"/>\r\n    <path clip-path=\"url(#peebb2970f7)\" d=\"M 270.180268 39.816 \r\nL 308.443125 39.816 \r\nL 308.443125 50.688 \r\nL 270.180268 50.688 \r\nL 270.180268 39.816 \r\n\" style=\"fill:#71c8bd;stroke:#ffffff;stroke-width:0.5;\"/>\r\n    <path clip-path=\"url(#peebb2970f7)\" d=\"M 40.603125 50.688 \r\nL 78.865982 50.688 \r\nL 78.865982 61.56 \r\nL 40.603125 61.56 \r\nL 40.603125 50.688 \r\n\" style=\"fill:#3db2c4;stroke:#ffffff;stroke-width:0.5;\"/>\r\n    <path clip-path=\"url(#peebb2970f7)\" d=\"M 78.865982 50.688 \r\nL 117.128839 50.688 \r\nL 117.128839 61.56 \r\nL 78.865982 61.56 \r\nL 78.865982 50.688 \r\n\" style=\"fill:#b0e0b6;stroke:#ffffff;stroke-width:0.5;\"/>\r\n    <path clip-path=\"url(#peebb2970f7)\" d=\"M 117.128839 50.688 \r\nL 155.391696 50.688 \r\nL 155.391696 61.56 \r\nL 117.128839 61.56 \r\nL 117.128839 50.688 \r\n\" style=\"fill:#87d0ba;stroke:#ffffff;stroke-width:0.5;\"/>\r\n    <path clip-path=\"url(#peebb2970f7)\" d=\"M 155.391696 50.688 \r\nL 193.654554 50.688 \r\nL 193.654554 61.56 \r\nL 155.391696 61.56 \r\nL 155.391696 50.688 \r\n\" style=\"fill:#55bec1;stroke:#ffffff;stroke-width:0.5;\"/>\r\n    <path clip-path=\"url(#peebb2970f7)\" d=\"M 193.654554 50.688 \r\nL 231.917411 50.688 \r\nL 231.917411 61.56 \r\nL 193.654554 61.56 \r\nL 193.654554 50.688 \r\n\" style=\"fill:#fbfdd0;stroke:#ffffff;stroke-width:0.5;\"/>\r\n    <path clip-path=\"url(#peebb2970f7)\" d=\"M 231.917411 50.688 \r\nL 270.180268 50.688 \r\nL 270.180268 61.56 \r\nL 231.917411 61.56 \r\nL 231.917411 50.688 \r\n\" style=\"fill:#d5efb3;stroke:#ffffff;stroke-width:0.5;\"/>\r\n    <path clip-path=\"url(#peebb2970f7)\" d=\"M 270.180268 50.688 \r\nL 308.443125 50.688 \r\nL 308.443125 61.56 \r\nL 270.180268 61.56 \r\nL 270.180268 50.688 \r\n\" style=\"fill:#a7dcb7;stroke:#ffffff;stroke-width:0.5;\"/>\r\n    <path clip-path=\"url(#peebb2970f7)\" d=\"M 40.603125 61.56 \r\nL 78.865982 61.56 \r\nL 78.865982 72.432 \r\nL 40.603125 72.432 \r\nL 40.603125 61.56 \r\n\" style=\"fill:#34a9c3;stroke:#ffffff;stroke-width:0.5;\"/>\r\n    <path clip-path=\"url(#peebb2970f7)\" d=\"M 78.865982 61.56 \r\nL 117.128839 61.56 \r\nL 117.128839 72.432 \r\nL 78.865982 72.432 \r\nL 78.865982 61.56 \r\n\" style=\"fill:#e8f6b1;stroke:#ffffff;stroke-width:0.5;\"/>\r\n    <path clip-path=\"url(#peebb2970f7)\" d=\"M 117.128839 61.56 \r\nL 155.391696 61.56 \r\nL 155.391696 72.432 \r\nL 117.128839 72.432 \r\nL 117.128839 61.56 \r\n\" style=\"fill:#90d4b9;stroke:#ffffff;stroke-width:0.5;\"/>\r\n    <path clip-path=\"url(#peebb2970f7)\" d=\"M 155.391696 61.56 \r\nL 193.654554 61.56 \r\nL 193.654554 72.432 \r\nL 155.391696 72.432 \r\nL 155.391696 61.56 \r\n\" style=\"fill:#edf8b1;stroke:#ffffff;stroke-width:0.5;\"/>\r\n    <path clip-path=\"url(#peebb2970f7)\" d=\"M 193.654554 61.56 \r\nL 231.917411 61.56 \r\nL 231.917411 72.432 \r\nL 193.654554 72.432 \r\nL 193.654554 61.56 \r\n\" style=\"fill:#eef8b3;stroke:#ffffff;stroke-width:0.5;\"/>\r\n    <path clip-path=\"url(#peebb2970f7)\" d=\"M 231.917411 61.56 \r\nL 270.180268 61.56 \r\nL 270.180268 72.432 \r\nL 231.917411 72.432 \r\nL 231.917411 61.56 \r\n\" style=\"fill:#edf8b2;stroke:#ffffff;stroke-width:0.5;\"/>\r\n    <path clip-path=\"url(#peebb2970f7)\" d=\"M 270.180268 61.56 \r\nL 308.443125 61.56 \r\nL 308.443125 72.432 \r\nL 270.180268 72.432 \r\nL 270.180268 61.56 \r\n\" style=\"fill:#f4fbc1;stroke:#ffffff;stroke-width:0.5;\"/>\r\n    <path clip-path=\"url(#peebb2970f7)\" d=\"M 40.603125 72.432 \r\nL 78.865982 72.432 \r\nL 78.865982 83.304 \r\nL 40.603125 83.304 \r\nL 40.603125 72.432 \r\n\" style=\"fill:#e1f3b2;stroke:#ffffff;stroke-width:0.5;\"/>\r\n    <path clip-path=\"url(#peebb2970f7)\" d=\"M 78.865982 72.432 \r\nL 117.128839 72.432 \r\nL 117.128839 83.304 \r\nL 78.865982 83.304 \r\nL 78.865982 72.432 \r\n\" style=\"fill:#61c2bf;stroke:#ffffff;stroke-width:0.5;\"/>\r\n    <path clip-path=\"url(#peebb2970f7)\" d=\"M 117.128839 72.432 \r\nL 155.391696 72.432 \r\nL 155.391696 83.304 \r\nL 117.128839 83.304 \r\nL 117.128839 72.432 \r\n\" style=\"fill:#d1edb3;stroke:#ffffff;stroke-width:0.5;\"/>\r\n    <path clip-path=\"url(#peebb2970f7)\" d=\"M 155.391696 72.432 \r\nL 193.654554 72.432 \r\nL 193.654554 83.304 \r\nL 155.391696 83.304 \r\nL 155.391696 72.432 \r\n\" style=\"fill:#83cebb;stroke:#ffffff;stroke-width:0.5;\"/>\r\n    <path clip-path=\"url(#peebb2970f7)\" d=\"M 193.654554 72.432 \r\nL 231.917411 72.432 \r\nL 231.917411 83.304 \r\nL 193.654554 83.304 \r\nL 193.654554 72.432 \r\n\" style=\"fill:#5bc0c0;stroke:#ffffff;stroke-width:0.5;\"/>\r\n    <path clip-path=\"url(#peebb2970f7)\" d=\"M 231.917411 72.432 \r\nL 270.180268 72.432 \r\nL 270.180268 83.304 \r\nL 231.917411 83.304 \r\nL 231.917411 72.432 \r\n\" style=\"fill:#c0e6b5;stroke:#ffffff;stroke-width:0.5;\"/>\r\n    <path clip-path=\"url(#peebb2970f7)\" d=\"M 270.180268 72.432 \r\nL 308.443125 72.432 \r\nL 308.443125 83.304 \r\nL 270.180268 83.304 \r\nL 270.180268 72.432 \r\n\" style=\"fill:#d1edb3;stroke:#ffffff;stroke-width:0.5;\"/>\r\n    <path clip-path=\"url(#peebb2970f7)\" d=\"M 40.603125 83.304 \r\nL 78.865982 83.304 \r\nL 78.865982 94.176 \r\nL 40.603125 94.176 \r\nL 40.603125 83.304 \r\n\" style=\"fill:#eaf7b1;stroke:#ffffff;stroke-width:0.5;\"/>\r\n    <path clip-path=\"url(#peebb2970f7)\" d=\"M 78.865982 83.304 \r\nL 117.128839 83.304 \r\nL 117.128839 94.176 \r\nL 78.865982 94.176 \r\nL 78.865982 83.304 \r\n\" style=\"fill:#89d1ba;stroke:#ffffff;stroke-width:0.5;\"/>\r\n    <path clip-path=\"url(#peebb2970f7)\" d=\"M 117.128839 83.304 \r\nL 155.391696 83.304 \r\nL 155.391696 94.176 \r\nL 117.128839 94.176 \r\nL 117.128839 83.304 \r\n\" style=\"fill:#76cabc;stroke:#ffffff;stroke-width:0.5;\"/>\r\n    <path clip-path=\"url(#peebb2970f7)\" d=\"M 155.391696 83.304 \r\nL 193.654554 83.304 \r\nL 193.654554 94.176 \r\nL 155.391696 94.176 \r\nL 155.391696 83.304 \r\n\" style=\"fill:#67c4be;stroke:#ffffff;stroke-width:0.5;\"/>\r\n    <path clip-path=\"url(#peebb2970f7)\" d=\"M 193.654554 83.304 \r\nL 231.917411 83.304 \r\nL 231.917411 94.176 \r\nL 193.654554 94.176 \r\nL 193.654554 83.304 \r\n\" style=\"fill:#e0f3b2;stroke:#ffffff;stroke-width:0.5;\"/>\r\n    <path clip-path=\"url(#peebb2970f7)\" d=\"M 231.917411 83.304 \r\nL 270.180268 83.304 \r\nL 270.180268 94.176 \r\nL 231.917411 94.176 \r\nL 231.917411 83.304 \r\n\" style=\"fill:#f0f9b7;stroke:#ffffff;stroke-width:0.5;\"/>\r\n    <path clip-path=\"url(#peebb2970f7)\" d=\"M 270.180268 83.304 \r\nL 308.443125 83.304 \r\nL 308.443125 94.176 \r\nL 270.180268 94.176 \r\nL 270.180268 83.304 \r\n\" style=\"fill:#e6f5b2;stroke:#ffffff;stroke-width:0.5;\"/>\r\n    <path clip-path=\"url(#peebb2970f7)\" d=\"M 40.603125 94.176 \r\nL 78.865982 94.176 \r\nL 78.865982 105.048 \r\nL 40.603125 105.048 \r\nL 40.603125 94.176 \r\n\" style=\"fill:#daf0b3;stroke:#ffffff;stroke-width:0.5;\"/>\r\n    <path clip-path=\"url(#peebb2970f7)\" d=\"M 78.865982 94.176 \r\nL 117.128839 94.176 \r\nL 117.128839 105.048 \r\nL 78.865982 105.048 \r\nL 78.865982 94.176 \r\n\" style=\"fill:#c4e8b4;stroke:#ffffff;stroke-width:0.5;\"/>\r\n    <path clip-path=\"url(#peebb2970f7)\" d=\"M 117.128839 94.176 \r\nL 155.391696 94.176 \r\nL 155.391696 105.048 \r\nL 117.128839 105.048 \r\nL 117.128839 94.176 \r\n\" style=\"fill:#7acbbc;stroke:#ffffff;stroke-width:0.5;\"/>\r\n    <path clip-path=\"url(#peebb2970f7)\" d=\"M 155.391696 94.176 \r\nL 193.654554 94.176 \r\nL 193.654554 105.048 \r\nL 155.391696 105.048 \r\nL 155.391696 94.176 \r\n\" style=\"fill:#d0edb3;stroke:#ffffff;stroke-width:0.5;\"/>\r\n    <path clip-path=\"url(#peebb2970f7)\" d=\"M 193.654554 94.176 \r\nL 231.917411 94.176 \r\nL 231.917411 105.048 \r\nL 193.654554 105.048 \r\nL 193.654554 94.176 \r\n\" style=\"fill:#bbe4b5;stroke:#ffffff;stroke-width:0.5;\"/>\r\n    <path clip-path=\"url(#peebb2970f7)\" d=\"M 231.917411 94.176 \r\nL 270.180268 94.176 \r\nL 270.180268 105.048 \r\nL 231.917411 105.048 \r\nL 231.917411 94.176 \r\n\" style=\"fill:#feffd6;stroke:#ffffff;stroke-width:0.5;\"/>\r\n    <path clip-path=\"url(#peebb2970f7)\" d=\"M 270.180268 94.176 \r\nL 308.443125 94.176 \r\nL 308.443125 105.048 \r\nL 270.180268 105.048 \r\nL 270.180268 94.176 \r\n\" style=\"fill:#8cd2ba;stroke:#ffffff;stroke-width:0.5;\"/>\r\n    <path clip-path=\"url(#peebb2970f7)\" d=\"M 40.603125 105.048 \r\nL 78.865982 105.048 \r\nL 78.865982 115.92 \r\nL 40.603125 115.92 \r\nL 40.603125 105.048 \r\n\" style=\"fill:#f1fabb;stroke:#ffffff;stroke-width:0.5;\"/>\r\n    <path clip-path=\"url(#peebb2970f7)\" d=\"M 78.865982 105.048 \r\nL 117.128839 105.048 \r\nL 117.128839 115.92 \r\nL 78.865982 115.92 \r\nL 78.865982 105.048 \r\n\" style=\"fill:#f4fbc0;stroke:#ffffff;stroke-width:0.5;\"/>\r\n    <path clip-path=\"url(#peebb2970f7)\" d=\"M 117.128839 105.048 \r\nL 155.391696 105.048 \r\nL 155.391696 115.92 \r\nL 117.128839 115.92 \r\nL 117.128839 105.048 \r\n\" style=\"fill:#ceecb3;stroke:#ffffff;stroke-width:0.5;\"/>\r\n    <path clip-path=\"url(#peebb2970f7)\" d=\"M 155.391696 105.048 \r\nL 193.654554 105.048 \r\nL 193.654554 115.92 \r\nL 155.391696 115.92 \r\nL 155.391696 105.048 \r\n\" style=\"fill:#259ac1;stroke:#ffffff;stroke-width:0.5;\"/>\r\n    <path clip-path=\"url(#peebb2970f7)\" d=\"M 193.654554 105.048 \r\nL 231.917411 105.048 \r\nL 231.917411 115.92 \r\nL 193.654554 115.92 \r\nL 193.654554 105.048 \r\n\" style=\"fill:#9cd8b8;stroke:#ffffff;stroke-width:0.5;\"/>\r\n    <path clip-path=\"url(#peebb2970f7)\" d=\"M 231.917411 105.048 \r\nL 270.180268 105.048 \r\nL 270.180268 115.92 \r\nL 231.917411 115.92 \r\nL 231.917411 105.048 \r\n\" style=\"fill:#c4e8b4;stroke:#ffffff;stroke-width:0.5;\"/>\r\n    <path clip-path=\"url(#peebb2970f7)\" d=\"M 270.180268 105.048 \r\nL 308.443125 105.048 \r\nL 308.443125 115.92 \r\nL 270.180268 115.92 \r\nL 270.180268 105.048 \r\n\" style=\"fill:#b9e4b5;stroke:#ffffff;stroke-width:0.5;\"/>\r\n    <path clip-path=\"url(#peebb2970f7)\" d=\"M 40.603125 115.92 \r\nL 78.865982 115.92 \r\nL 78.865982 126.792 \r\nL 40.603125 126.792 \r\nL 40.603125 115.92 \r\n\" style=\"fill:#95d5b9;stroke:#ffffff;stroke-width:0.5;\"/>\r\n    <path clip-path=\"url(#peebb2970f7)\" d=\"M 78.865982 115.92 \r\nL 117.128839 115.92 \r\nL 117.128839 126.792 \r\nL 78.865982 126.792 \r\nL 78.865982 115.92 \r\n\" style=\"fill:#7cccbb;stroke:#ffffff;stroke-width:0.5;\"/>\r\n    <path clip-path=\"url(#peebb2970f7)\" d=\"M 117.128839 115.92 \r\nL 155.391696 115.92 \r\nL 155.391696 126.792 \r\nL 117.128839 126.792 \r\nL 117.128839 115.92 \r\n\" style=\"fill:#87d0ba;stroke:#ffffff;stroke-width:0.5;\"/>\r\n    <path clip-path=\"url(#peebb2970f7)\" d=\"M 155.391696 115.92 \r\nL 193.654554 115.92 \r\nL 193.654554 126.792 \r\nL 155.391696 126.792 \r\nL 155.391696 115.92 \r\n\" style=\"fill:#7acbbc;stroke:#ffffff;stroke-width:0.5;\"/>\r\n    <path clip-path=\"url(#peebb2970f7)\" d=\"M 193.654554 115.92 \r\nL 231.917411 115.92 \r\nL 231.917411 126.792 \r\nL 193.654554 126.792 \r\nL 193.654554 115.92 \r\n\" style=\"fill:#cdebb4;stroke:#ffffff;stroke-width:0.5;\"/>\r\n    <path clip-path=\"url(#peebb2970f7)\" d=\"M 231.917411 115.92 \r\nL 270.180268 115.92 \r\nL 270.180268 126.792 \r\nL 231.917411 126.792 \r\nL 231.917411 115.92 \r\n\" style=\"fill:#9ed9b8;stroke:#ffffff;stroke-width:0.5;\"/>\r\n    <path clip-path=\"url(#peebb2970f7)\" d=\"M 270.180268 115.92 \r\nL 308.443125 115.92 \r\nL 308.443125 126.792 \r\nL 270.180268 126.792 \r\nL 270.180268 115.92 \r\n\" style=\"fill:#55bec1;stroke:#ffffff;stroke-width:0.5;\"/>\r\n    <path clip-path=\"url(#peebb2970f7)\" d=\"M 40.603125 126.792 \r\nL 78.865982 126.792 \r\nL 78.865982 137.664 \r\nL 40.603125 137.664 \r\nL 40.603125 126.792 \r\n\" style=\"fill:#daf0b3;stroke:#ffffff;stroke-width:0.5;\"/>\r\n    <path clip-path=\"url(#peebb2970f7)\" d=\"M 78.865982 126.792 \r\nL 117.128839 126.792 \r\nL 117.128839 137.664 \r\nL 78.865982 137.664 \r\nL 78.865982 126.792 \r\n\" style=\"fill:#f5fbc4;stroke:#ffffff;stroke-width:0.5;\"/>\r\n    <path clip-path=\"url(#peebb2970f7)\" d=\"M 117.128839 126.792 \r\nL 155.391696 126.792 \r\nL 155.391696 137.664 \r\nL 117.128839 137.664 \r\nL 117.128839 126.792 \r\n\" style=\"fill:#3fb4c4;stroke:#ffffff;stroke-width:0.5;\"/>\r\n    <path clip-path=\"url(#peebb2970f7)\" d=\"M 155.391696 126.792 \r\nL 193.654554 126.792 \r\nL 193.654554 137.664 \r\nL 155.391696 137.664 \r\nL 155.391696 126.792 \r\n\" style=\"fill:#33a7c2;stroke:#ffffff;stroke-width:0.5;\"/>\r\n    <path clip-path=\"url(#peebb2970f7)\" d=\"M 193.654554 126.792 \r\nL 231.917411 126.792 \r\nL 231.917411 137.664 \r\nL 193.654554 137.664 \r\nL 193.654554 126.792 \r\n\" style=\"fill:#e0f3b2;stroke:#ffffff;stroke-width:0.5;\"/>\r\n    <path clip-path=\"url(#peebb2970f7)\" d=\"M 231.917411 126.792 \r\nL 270.180268 126.792 \r\nL 270.180268 137.664 \r\nL 231.917411 137.664 \r\nL 231.917411 126.792 \r\n\" style=\"fill:#f3fabd;stroke:#ffffff;stroke-width:0.5;\"/>\r\n    <path clip-path=\"url(#peebb2970f7)\" d=\"M 270.180268 126.792 \r\nL 308.443125 126.792 \r\nL 308.443125 137.664 \r\nL 270.180268 137.664 \r\nL 270.180268 126.792 \r\n\" style=\"fill:#5bc0c0;stroke:#ffffff;stroke-width:0.5;\"/>\r\n    <path clip-path=\"url(#peebb2970f7)\" d=\"M 40.603125 137.664 \r\nL 78.865982 137.664 \r\nL 78.865982 148.536 \r\nL 40.603125 148.536 \r\nL 40.603125 137.664 \r\n\" style=\"fill:#b9e4b5;stroke:#ffffff;stroke-width:0.5;\"/>\r\n    <path clip-path=\"url(#peebb2970f7)\" d=\"M 78.865982 137.664 \r\nL 117.128839 137.664 \r\nL 117.128839 148.536 \r\nL 78.865982 148.536 \r\nL 78.865982 137.664 \r\n\" style=\"fill:#1f80b8;stroke:#ffffff;stroke-width:0.5;\"/>\r\n    <path clip-path=\"url(#peebb2970f7)\" d=\"M 117.128839 137.664 \r\nL 155.391696 137.664 \r\nL 155.391696 148.536 \r\nL 117.128839 148.536 \r\nL 117.128839 137.664 \r\n\" style=\"fill:#081d58;stroke:#ffffff;stroke-width:0.5;\"/>\r\n    <path clip-path=\"url(#peebb2970f7)\" d=\"M 155.391696 137.664 \r\nL 193.654554 137.664 \r\nL 193.654554 148.536 \r\nL 155.391696 148.536 \r\nL 155.391696 137.664 \r\n\" style=\"fill:#2397c1;stroke:#ffffff;stroke-width:0.5;\"/>\r\n    <path clip-path=\"url(#peebb2970f7)\" d=\"M 193.654554 137.664 \r\nL 231.917411 137.664 \r\nL 231.917411 148.536 \r\nL 193.654554 148.536 \r\nL 193.654554 137.664 \r\n\" style=\"fill:#6bc6be;stroke:#ffffff;stroke-width:0.5;\"/>\r\n    <path clip-path=\"url(#peebb2970f7)\" d=\"M 231.917411 137.664 \r\nL 270.180268 137.664 \r\nL 270.180268 148.536 \r\nL 231.917411 148.536 \r\nL 231.917411 137.664 \r\n\" style=\"fill:#c8e9b4;stroke:#ffffff;stroke-width:0.5;\"/>\r\n    <path clip-path=\"url(#peebb2970f7)\" d=\"M 270.180268 137.664 \r\nL 308.443125 137.664 \r\nL 308.443125 148.536 \r\nL 270.180268 148.536 \r\nL 270.180268 137.664 \r\n\" style=\"fill:#1f93c0;stroke:#ffffff;stroke-width:0.5;\"/>\r\n    <path clip-path=\"url(#peebb2970f7)\" d=\"M 40.603125 148.536 \r\nL 78.865982 148.536 \r\nL 78.865982 159.408 \r\nL 40.603125 159.408 \r\nL 40.603125 148.536 \r\n\" style=\"fill:#edf8b1;stroke:#ffffff;stroke-width:0.5;\"/>\r\n    <path clip-path=\"url(#peebb2970f7)\" d=\"M 78.865982 148.536 \r\nL 117.128839 148.536 \r\nL 117.128839 159.408 \r\nL 78.865982 159.408 \r\nL 78.865982 148.536 \r\n\" style=\"fill:#9ed9b8;stroke:#ffffff;stroke-width:0.5;\"/>\r\n    <path clip-path=\"url(#peebb2970f7)\" d=\"M 117.128839 148.536 \r\nL 155.391696 148.536 \r\nL 155.391696 159.408 \r\nL 117.128839 159.408 \r\nL 117.128839 148.536 \r\n\" style=\"fill:#cbebb4;stroke:#ffffff;stroke-width:0.5;\"/>\r\n    <path clip-path=\"url(#peebb2970f7)\" d=\"M 155.391696 148.536 \r\nL 193.654554 148.536 \r\nL 193.654554 159.408 \r\nL 155.391696 159.408 \r\nL 155.391696 148.536 \r\n\" style=\"fill:#a5dcb7;stroke:#ffffff;stroke-width:0.5;\"/>\r\n    <path clip-path=\"url(#peebb2970f7)\" d=\"M 193.654554 148.536 \r\nL 231.917411 148.536 \r\nL 231.917411 159.408 \r\nL 193.654554 159.408 \r\nL 193.654554 148.536 \r\n\" style=\"fill:#1a2b7e;stroke:#ffffff;stroke-width:0.5;\"/>\r\n    <path clip-path=\"url(#peebb2970f7)\" d=\"M 231.917411 148.536 \r\nL 270.180268 148.536 \r\nL 270.180268 159.408 \r\nL 231.917411 159.408 \r\nL 231.917411 148.536 \r\n\" style=\"fill:#a9ddb7;stroke:#ffffff;stroke-width:0.5;\"/>\r\n    <path clip-path=\"url(#peebb2970f7)\" d=\"M 270.180268 148.536 \r\nL 308.443125 148.536 \r\nL 308.443125 159.408 \r\nL 270.180268 159.408 \r\nL 270.180268 148.536 \r\n\" style=\"fill:#216aad;stroke:#ffffff;stroke-width:0.5;\"/>\r\n    <path clip-path=\"url(#peebb2970f7)\" d=\"M 40.603125 159.408 \r\nL 78.865982 159.408 \r\nL 78.865982 170.28 \r\nL 40.603125 170.28 \r\nL 40.603125 159.408 \r\n\" style=\"fill:#b9e4b5;stroke:#ffffff;stroke-width:0.5;\"/>\r\n    <path clip-path=\"url(#peebb2970f7)\" d=\"M 78.865982 159.408 \r\nL 117.128839 159.408 \r\nL 117.128839 170.28 \r\nL 78.865982 170.28 \r\nL 78.865982 159.408 \r\n\" style=\"fill:#83cebb;stroke:#ffffff;stroke-width:0.5;\"/>\r\n    <path clip-path=\"url(#peebb2970f7)\" d=\"M 117.128839 159.408 \r\nL 155.391696 159.408 \r\nL 155.391696 170.28 \r\nL 117.128839 170.28 \r\nL 117.128839 159.408 \r\n\" style=\"fill:#f3fabf;stroke:#ffffff;stroke-width:0.5;\"/>\r\n    <path clip-path=\"url(#peebb2970f7)\" d=\"M 155.391696 159.408 \r\nL 193.654554 159.408 \r\nL 193.654554 170.28 \r\nL 155.391696 170.28 \r\nL 155.391696 159.408 \r\n\" style=\"fill:#eaf7b1;stroke:#ffffff;stroke-width:0.5;\"/>\r\n    <path clip-path=\"url(#peebb2970f7)\" d=\"M 193.654554 159.408 \r\nL 231.917411 159.408 \r\nL 231.917411 170.28 \r\nL 193.654554 170.28 \r\nL 193.654554 159.408 \r\n\" style=\"fill:#ecf7b1;stroke:#ffffff;stroke-width:0.5;\"/>\r\n    <path clip-path=\"url(#peebb2970f7)\" d=\"M 231.917411 159.408 \r\nL 270.180268 159.408 \r\nL 270.180268 170.28 \r\nL 231.917411 170.28 \r\nL 231.917411 159.408 \r\n\" style=\"fill:#2fa4c2;stroke:#ffffff;stroke-width:0.5;\"/>\r\n    <path clip-path=\"url(#peebb2970f7)\" d=\"M 270.180268 159.408 \r\nL 308.443125 159.408 \r\nL 308.443125 170.28 \r\nL 270.180268 170.28 \r\nL 270.180268 159.408 \r\n\" style=\"fill:#6bc6be;stroke:#ffffff;stroke-width:0.5;\"/>\r\n    <path clip-path=\"url(#peebb2970f7)\" d=\"M 40.603125 170.28 \r\nL 78.865982 170.28 \r\nL 78.865982 181.152 \r\nL 40.603125 181.152 \r\nL 40.603125 170.28 \r\n\" style=\"fill:#d5efb3;stroke:#ffffff;stroke-width:0.5;\"/>\r\n    <path clip-path=\"url(#peebb2970f7)\" d=\"M 78.865982 170.28 \r\nL 117.128839 170.28 \r\nL 117.128839 181.152 \r\nL 78.865982 181.152 \r\nL 78.865982 170.28 \r\n\" style=\"fill:#e3f4b2;stroke:#ffffff;stroke-width:0.5;\"/>\r\n    <path clip-path=\"url(#peebb2970f7)\" d=\"M 117.128839 170.28 \r\nL 155.391696 170.28 \r\nL 155.391696 181.152 \r\nL 117.128839 181.152 \r\nL 117.128839 170.28 \r\n\" style=\"fill:#75c9bd;stroke:#ffffff;stroke-width:0.5;\"/>\r\n    <path clip-path=\"url(#peebb2970f7)\" d=\"M 155.391696 170.28 \r\nL 193.654554 170.28 \r\nL 193.654554 181.152 \r\nL 155.391696 181.152 \r\nL 155.391696 170.28 \r\n\" style=\"fill:#d3eeb3;stroke:#ffffff;stroke-width:0.5;\"/>\r\n    <path clip-path=\"url(#peebb2970f7)\" d=\"M 193.654554 170.28 \r\nL 231.917411 170.28 \r\nL 231.917411 181.152 \r\nL 193.654554 181.152 \r\nL 193.654554 170.28 \r\n\" style=\"fill:#c0e6b5;stroke:#ffffff;stroke-width:0.5;\"/>\r\n    <path clip-path=\"url(#peebb2970f7)\" d=\"M 231.917411 170.28 \r\nL 270.180268 170.28 \r\nL 270.180268 181.152 \r\nL 231.917411 181.152 \r\nL 231.917411 170.28 \r\n\" style=\"fill:#50bbc2;stroke:#ffffff;stroke-width:0.5;\"/>\r\n    <path clip-path=\"url(#peebb2970f7)\" d=\"M 270.180268 170.28 \r\nL 308.443125 170.28 \r\nL 308.443125 181.152 \r\nL 270.180268 181.152 \r\nL 270.180268 170.28 \r\n\" style=\"fill:#2073b2;stroke:#ffffff;stroke-width:0.5;\"/>\r\n    <path clip-path=\"url(#peebb2970f7)\" d=\"M 40.603125 181.152 \r\nL 78.865982 181.152 \r\nL 78.865982 192.024 \r\nL 40.603125 192.024 \r\nL 40.603125 181.152 \r\n\" style=\"fill:#67c4be;stroke:#ffffff;stroke-width:0.5;\"/>\r\n    <path clip-path=\"url(#peebb2970f7)\" d=\"M 78.865982 181.152 \r\nL 117.128839 181.152 \r\nL 117.128839 192.024 \r\nL 78.865982 192.024 \r\nL 78.865982 181.152 \r\n\" style=\"fill:#fafdcf;stroke:#ffffff;stroke-width:0.5;\"/>\r\n    <path clip-path=\"url(#peebb2970f7)\" d=\"M 117.128839 181.152 \r\nL 155.391696 181.152 \r\nL 155.391696 192.024 \r\nL 117.128839 192.024 \r\nL 117.128839 181.152 \r\n\" style=\"fill:#caeab4;stroke:#ffffff;stroke-width:0.5;\"/>\r\n    <path clip-path=\"url(#peebb2970f7)\" d=\"M 155.391696 181.152 \r\nL 193.654554 181.152 \r\nL 193.654554 192.024 \r\nL 155.391696 192.024 \r\nL 155.391696 181.152 \r\n\" style=\"fill:#f4fbc1;stroke:#ffffff;stroke-width:0.5;\"/>\r\n    <path clip-path=\"url(#peebb2970f7)\" d=\"M 193.654554 181.152 \r\nL 231.917411 181.152 \r\nL 231.917411 192.024 \r\nL 193.654554 192.024 \r\nL 193.654554 181.152 \r\n\" style=\"fill:#c2e7b4;stroke:#ffffff;stroke-width:0.5;\"/>\r\n    <path clip-path=\"url(#peebb2970f7)\" d=\"M 231.917411 181.152 \r\nL 270.180268 181.152 \r\nL 270.180268 192.024 \r\nL 231.917411 192.024 \r\nL 231.917411 181.152 \r\n\" style=\"fill:#3bb0c3;stroke:#ffffff;stroke-width:0.5;\"/>\r\n    <path clip-path=\"url(#peebb2970f7)\" d=\"M 270.180268 181.152 \r\nL 308.443125 181.152 \r\nL 308.443125 192.024 \r\nL 270.180268 192.024 \r\nL 270.180268 181.152 \r\n\" style=\"fill:#dff2b2;stroke:#ffffff;stroke-width:0.5;\"/>\r\n    <path clip-path=\"url(#peebb2970f7)\" d=\"M 40.603125 192.024 \r\nL 78.865982 192.024 \r\nL 78.865982 202.896 \r\nL 40.603125 202.896 \r\nL 40.603125 192.024 \r\n\" style=\"fill:#feffd8;stroke:#ffffff;stroke-width:0.5;\"/>\r\n    <path clip-path=\"url(#peebb2970f7)\" d=\"M 78.865982 192.024 \r\nL 117.128839 192.024 \r\nL 117.128839 202.896 \r\nL 78.865982 202.896 \r\nL 78.865982 192.024 \r\n\" style=\"fill:#f4fbc0;stroke:#ffffff;stroke-width:0.5;\"/>\r\n    <path clip-path=\"url(#peebb2970f7)\" d=\"M 117.128839 192.024 \r\nL 155.391696 192.024 \r\nL 155.391696 202.896 \r\nL 117.128839 202.896 \r\nL 117.128839 192.024 \r\n\" style=\"fill:#85cfba;stroke:#ffffff;stroke-width:0.5;\"/>\r\n    <path clip-path=\"url(#peebb2970f7)\" d=\"M 155.391696 192.024 \r\nL 193.654554 192.024 \r\nL 193.654554 202.896 \r\nL 155.391696 202.896 \r\nL 155.391696 192.024 \r\n\" style=\"fill:#eaf7b1;stroke:#ffffff;stroke-width:0.5;\"/>\r\n    <path clip-path=\"url(#peebb2970f7)\" d=\"M 193.654554 192.024 \r\nL 231.917411 192.024 \r\nL 231.917411 202.896 \r\nL 193.654554 202.896 \r\nL 193.654554 192.024 \r\n\" style=\"fill:none;stroke:#ffffff;stroke-width:0.5;\"/>\r\n    <path clip-path=\"url(#peebb2970f7)\" d=\"M 231.917411 192.024 \r\nL 270.180268 192.024 \r\nL 270.180268 202.896 \r\nL 231.917411 202.896 \r\nL 231.917411 192.024 \r\n\" style=\"fill:#feffd8;stroke:#ffffff;stroke-width:0.5;\"/>\r\n    <path clip-path=\"url(#peebb2970f7)\" d=\"M 270.180268 192.024 \r\nL 308.443125 192.024 \r\nL 308.443125 202.896 \r\nL 270.180268 202.896 \r\nL 270.180268 192.024 \r\n\" style=\"fill:#f1faba;stroke:#ffffff;stroke-width:0.5;\"/>\r\n    <path clip-path=\"url(#peebb2970f7)\" d=\"M 40.603125 202.896 \r\nL 78.865982 202.896 \r\nL 78.865982 213.768 \r\nL 40.603125 213.768 \r\nL 40.603125 202.896 \r\n\" style=\"fill:#d0edb3;stroke:#ffffff;stroke-width:0.5;\"/>\r\n    <path clip-path=\"url(#peebb2970f7)\" d=\"M 78.865982 202.896 \r\nL 117.128839 202.896 \r\nL 117.128839 213.768 \r\nL 78.865982 213.768 \r\nL 78.865982 202.896 \r\n\" style=\"fill:#fdfed5;stroke:#ffffff;stroke-width:0.5;\"/>\r\n    <path clip-path=\"url(#peebb2970f7)\" d=\"M 117.128839 202.896 \r\nL 155.391696 202.896 \r\nL 155.391696 213.768 \r\nL 117.128839 213.768 \r\nL 117.128839 202.896 \r\n\" style=\"fill:none;stroke:#ffffff;stroke-width:0.5;\"/>\r\n    <path clip-path=\"url(#peebb2970f7)\" d=\"M 155.391696 202.896 \r\nL 193.654554 202.896 \r\nL 193.654554 213.768 \r\nL 155.391696 213.768 \r\nL 155.391696 202.896 \r\n\" style=\"fill:none;stroke:#ffffff;stroke-width:0.5;\"/>\r\n    <path clip-path=\"url(#peebb2970f7)\" d=\"M 193.654554 202.896 \r\nL 231.917411 202.896 \r\nL 231.917411 213.768 \r\nL 193.654554 213.768 \r\nL 193.654554 202.896 \r\n\" style=\"fill:none;stroke:#ffffff;stroke-width:0.5;\"/>\r\n    <path clip-path=\"url(#peebb2970f7)\" d=\"M 231.917411 202.896 \r\nL 270.180268 202.896 \r\nL 270.180268 213.768 \r\nL 231.917411 213.768 \r\nL 231.917411 202.896 \r\n\" style=\"fill:none;stroke:#ffffff;stroke-width:0.5;\"/>\r\n    <path clip-path=\"url(#peebb2970f7)\" d=\"M 270.180268 202.896 \r\nL 308.443125 202.896 \r\nL 308.443125 213.768 \r\nL 270.180268 213.768 \r\nL 270.180268 202.896 \r\n\" style=\"fill:#fcfed3;stroke:#ffffff;stroke-width:0.5;\"/>\r\n    <path clip-path=\"url(#peebb2970f7)\" d=\"M 40.603125 213.768 \r\nL 78.865982 213.768 \r\nL 78.865982 224.64 \r\nL 40.603125 224.64 \r\nL 40.603125 213.768 \r\n\" style=\"fill:none;stroke:#ffffff;stroke-width:0.5;\"/>\r\n    <path clip-path=\"url(#peebb2970f7)\" d=\"M 78.865982 213.768 \r\nL 117.128839 213.768 \r\nL 117.128839 224.64 \r\nL 78.865982 224.64 \r\nL 78.865982 213.768 \r\n\" style=\"fill:none;stroke:#ffffff;stroke-width:0.5;\"/>\r\n    <path clip-path=\"url(#peebb2970f7)\" d=\"M 117.128839 213.768 \r\nL 155.391696 213.768 \r\nL 155.391696 224.64 \r\nL 117.128839 224.64 \r\nL 117.128839 213.768 \r\n\" style=\"fill:none;stroke:#ffffff;stroke-width:0.5;\"/>\r\n    <path clip-path=\"url(#peebb2970f7)\" d=\"M 155.391696 213.768 \r\nL 193.654554 213.768 \r\nL 193.654554 224.64 \r\nL 155.391696 224.64 \r\nL 155.391696 213.768 \r\n\" style=\"fill:none;stroke:#ffffff;stroke-width:0.5;\"/>\r\n    <path clip-path=\"url(#peebb2970f7)\" d=\"M 193.654554 213.768 \r\nL 231.917411 213.768 \r\nL 231.917411 224.64 \r\nL 193.654554 224.64 \r\nL 193.654554 213.768 \r\n\" style=\"fill:none;stroke:#ffffff;stroke-width:0.5;\"/>\r\n    <path clip-path=\"url(#peebb2970f7)\" d=\"M 231.917411 213.768 \r\nL 270.180268 213.768 \r\nL 270.180268 224.64 \r\nL 231.917411 224.64 \r\nL 231.917411 213.768 \r\n\" style=\"fill:#feffd6;stroke:#ffffff;stroke-width:0.5;\"/>\r\n    <path clip-path=\"url(#peebb2970f7)\" d=\"M 270.180268 213.768 \r\nL 308.443125 213.768 \r\nL 308.443125 224.64 \r\nL 270.180268 224.64 \r\nL 270.180268 213.768 \r\n\" style=\"fill:none;stroke:#ffffff;stroke-width:0.5;\"/>\r\n   </g>\r\n   <g id=\"matplotlib.axis_1\">\r\n    <g id=\"xtick_1\">\r\n     <g id=\"line2d_1\">\r\n      <defs>\r\n       <path d=\"M 0 0 \r\nL 0 3.5 \r\n\" id=\"m479f91085c\" style=\"stroke:#000000;stroke-width:0.8;\"/>\r\n      </defs>\r\n      <g>\r\n       <use style=\"stroke:#000000;stroke-width:0.8;\" x=\"59.734554\" xlink:href=\"#m479f91085c\" y=\"224.64\"/>\r\n      </g>\r\n     </g>\r\n     <g id=\"text_1\">\r\n      <!-- 0 -->\r\n      <g transform=\"translate(56.553304 239.238437)scale(0.1 -0.1)\">\r\n       <defs>\r\n        <path d=\"M 31.78125 66.40625 \r\nQ 24.171875 66.40625 20.328125 58.90625 \r\nQ 16.5 51.421875 16.5 36.375 \r\nQ 16.5 21.390625 20.328125 13.890625 \r\nQ 24.171875 6.390625 31.78125 6.390625 \r\nQ 39.453125 6.390625 43.28125 13.890625 \r\nQ 47.125 21.390625 47.125 36.375 \r\nQ 47.125 51.421875 43.28125 58.90625 \r\nQ 39.453125 66.40625 31.78125 66.40625 \r\nz\r\nM 31.78125 74.21875 \r\nQ 44.046875 74.21875 50.515625 64.515625 \r\nQ 56.984375 54.828125 56.984375 36.375 \r\nQ 56.984375 17.96875 50.515625 8.265625 \r\nQ 44.046875 -1.421875 31.78125 -1.421875 \r\nQ 19.53125 -1.421875 13.0625 8.265625 \r\nQ 6.59375 17.96875 6.59375 36.375 \r\nQ 6.59375 54.828125 13.0625 64.515625 \r\nQ 19.53125 74.21875 31.78125 74.21875 \r\nz\r\n\" id=\"DejaVuSans-48\"/>\r\n       </defs>\r\n       <use xlink:href=\"#DejaVuSans-48\"/>\r\n      </g>\r\n     </g>\r\n    </g>\r\n    <g id=\"xtick_2\">\r\n     <g id=\"line2d_2\">\r\n      <g>\r\n       <use style=\"stroke:#000000;stroke-width:0.8;\" x=\"97.997411\" xlink:href=\"#m479f91085c\" y=\"224.64\"/>\r\n      </g>\r\n     </g>\r\n     <g id=\"text_2\">\r\n      <!-- 1 -->\r\n      <g transform=\"translate(94.816161 239.238437)scale(0.1 -0.1)\">\r\n       <defs>\r\n        <path d=\"M 12.40625 8.296875 \r\nL 28.515625 8.296875 \r\nL 28.515625 63.921875 \r\nL 10.984375 60.40625 \r\nL 10.984375 69.390625 \r\nL 28.421875 72.90625 \r\nL 38.28125 72.90625 \r\nL 38.28125 8.296875 \r\nL 54.390625 8.296875 \r\nL 54.390625 0 \r\nL 12.40625 0 \r\nz\r\n\" id=\"DejaVuSans-49\"/>\r\n       </defs>\r\n       <use xlink:href=\"#DejaVuSans-49\"/>\r\n      </g>\r\n     </g>\r\n    </g>\r\n    <g id=\"xtick_3\">\r\n     <g id=\"line2d_3\">\r\n      <g>\r\n       <use style=\"stroke:#000000;stroke-width:0.8;\" x=\"136.260268\" xlink:href=\"#m479f91085c\" y=\"224.64\"/>\r\n      </g>\r\n     </g>\r\n     <g id=\"text_3\">\r\n      <!-- 2 -->\r\n      <g transform=\"translate(133.079018 239.238437)scale(0.1 -0.1)\">\r\n       <defs>\r\n        <path d=\"M 19.1875 8.296875 \r\nL 53.609375 8.296875 \r\nL 53.609375 0 \r\nL 7.328125 0 \r\nL 7.328125 8.296875 \r\nQ 12.9375 14.109375 22.625 23.890625 \r\nQ 32.328125 33.6875 34.8125 36.53125 \r\nQ 39.546875 41.84375 41.421875 45.53125 \r\nQ 43.3125 49.21875 43.3125 52.78125 \r\nQ 43.3125 58.59375 39.234375 62.25 \r\nQ 35.15625 65.921875 28.609375 65.921875 \r\nQ 23.96875 65.921875 18.8125 64.3125 \r\nQ 13.671875 62.703125 7.8125 59.421875 \r\nL 7.8125 69.390625 \r\nQ 13.765625 71.78125 18.9375 73 \r\nQ 24.125 74.21875 28.421875 74.21875 \r\nQ 39.75 74.21875 46.484375 68.546875 \r\nQ 53.21875 62.890625 53.21875 53.421875 \r\nQ 53.21875 48.921875 51.53125 44.890625 \r\nQ 49.859375 40.875 45.40625 35.40625 \r\nQ 44.1875 33.984375 37.640625 27.21875 \r\nQ 31.109375 20.453125 19.1875 8.296875 \r\nz\r\n\" id=\"DejaVuSans-50\"/>\r\n       </defs>\r\n       <use xlink:href=\"#DejaVuSans-50\"/>\r\n      </g>\r\n     </g>\r\n    </g>\r\n    <g id=\"xtick_4\">\r\n     <g id=\"line2d_4\">\r\n      <g>\r\n       <use style=\"stroke:#000000;stroke-width:0.8;\" x=\"174.523125\" xlink:href=\"#m479f91085c\" y=\"224.64\"/>\r\n      </g>\r\n     </g>\r\n     <g id=\"text_4\">\r\n      <!-- 3 -->\r\n      <g transform=\"translate(171.341875 239.238437)scale(0.1 -0.1)\">\r\n       <defs>\r\n        <path d=\"M 40.578125 39.3125 \r\nQ 47.65625 37.796875 51.625 33 \r\nQ 55.609375 28.21875 55.609375 21.1875 \r\nQ 55.609375 10.40625 48.1875 4.484375 \r\nQ 40.765625 -1.421875 27.09375 -1.421875 \r\nQ 22.515625 -1.421875 17.65625 -0.515625 \r\nQ 12.796875 0.390625 7.625 2.203125 \r\nL 7.625 11.71875 \r\nQ 11.71875 9.328125 16.59375 8.109375 \r\nQ 21.484375 6.890625 26.8125 6.890625 \r\nQ 36.078125 6.890625 40.9375 10.546875 \r\nQ 45.796875 14.203125 45.796875 21.1875 \r\nQ 45.796875 27.640625 41.28125 31.265625 \r\nQ 36.765625 34.90625 28.71875 34.90625 \r\nL 20.21875 34.90625 \r\nL 20.21875 43.015625 \r\nL 29.109375 43.015625 \r\nQ 36.375 43.015625 40.234375 45.921875 \r\nQ 44.09375 48.828125 44.09375 54.296875 \r\nQ 44.09375 59.90625 40.109375 62.90625 \r\nQ 36.140625 65.921875 28.71875 65.921875 \r\nQ 24.65625 65.921875 20.015625 65.03125 \r\nQ 15.375 64.15625 9.8125 62.3125 \r\nL 9.8125 71.09375 \r\nQ 15.4375 72.65625 20.34375 73.4375 \r\nQ 25.25 74.21875 29.59375 74.21875 \r\nQ 40.828125 74.21875 47.359375 69.109375 \r\nQ 53.90625 64.015625 53.90625 55.328125 \r\nQ 53.90625 49.265625 50.4375 45.09375 \r\nQ 46.96875 40.921875 40.578125 39.3125 \r\nz\r\n\" id=\"DejaVuSans-51\"/>\r\n       </defs>\r\n       <use xlink:href=\"#DejaVuSans-51\"/>\r\n      </g>\r\n     </g>\r\n    </g>\r\n    <g id=\"xtick_5\">\r\n     <g id=\"line2d_5\">\r\n      <g>\r\n       <use style=\"stroke:#000000;stroke-width:0.8;\" x=\"212.785982\" xlink:href=\"#m479f91085c\" y=\"224.64\"/>\r\n      </g>\r\n     </g>\r\n     <g id=\"text_5\">\r\n      <!-- 4 -->\r\n      <g transform=\"translate(209.604732 239.238437)scale(0.1 -0.1)\">\r\n       <defs>\r\n        <path d=\"M 37.796875 64.3125 \r\nL 12.890625 25.390625 \r\nL 37.796875 25.390625 \r\nz\r\nM 35.203125 72.90625 \r\nL 47.609375 72.90625 \r\nL 47.609375 25.390625 \r\nL 58.015625 25.390625 \r\nL 58.015625 17.1875 \r\nL 47.609375 17.1875 \r\nL 47.609375 0 \r\nL 37.796875 0 \r\nL 37.796875 17.1875 \r\nL 4.890625 17.1875 \r\nL 4.890625 26.703125 \r\nz\r\n\" id=\"DejaVuSans-52\"/>\r\n       </defs>\r\n       <use xlink:href=\"#DejaVuSans-52\"/>\r\n      </g>\r\n     </g>\r\n    </g>\r\n    <g id=\"xtick_6\">\r\n     <g id=\"line2d_6\">\r\n      <g>\r\n       <use style=\"stroke:#000000;stroke-width:0.8;\" x=\"251.048839\" xlink:href=\"#m479f91085c\" y=\"224.64\"/>\r\n      </g>\r\n     </g>\r\n     <g id=\"text_6\">\r\n      <!-- 5 -->\r\n      <g transform=\"translate(247.867589 239.238437)scale(0.1 -0.1)\">\r\n       <defs>\r\n        <path d=\"M 10.796875 72.90625 \r\nL 49.515625 72.90625 \r\nL 49.515625 64.59375 \r\nL 19.828125 64.59375 \r\nL 19.828125 46.734375 \r\nQ 21.96875 47.46875 24.109375 47.828125 \r\nQ 26.265625 48.1875 28.421875 48.1875 \r\nQ 40.625 48.1875 47.75 41.5 \r\nQ 54.890625 34.8125 54.890625 23.390625 \r\nQ 54.890625 11.625 47.5625 5.09375 \r\nQ 40.234375 -1.421875 26.90625 -1.421875 \r\nQ 22.3125 -1.421875 17.546875 -0.640625 \r\nQ 12.796875 0.140625 7.71875 1.703125 \r\nL 7.71875 11.625 \r\nQ 12.109375 9.234375 16.796875 8.0625 \r\nQ 21.484375 6.890625 26.703125 6.890625 \r\nQ 35.15625 6.890625 40.078125 11.328125 \r\nQ 45.015625 15.765625 45.015625 23.390625 \r\nQ 45.015625 31 40.078125 35.4375 \r\nQ 35.15625 39.890625 26.703125 39.890625 \r\nQ 22.75 39.890625 18.8125 39.015625 \r\nQ 14.890625 38.140625 10.796875 36.28125 \r\nz\r\n\" id=\"DejaVuSans-53\"/>\r\n       </defs>\r\n       <use xlink:href=\"#DejaVuSans-53\"/>\r\n      </g>\r\n     </g>\r\n    </g>\r\n    <g id=\"xtick_7\">\r\n     <g id=\"line2d_7\">\r\n      <g>\r\n       <use style=\"stroke:#000000;stroke-width:0.8;\" x=\"289.311696\" xlink:href=\"#m479f91085c\" y=\"224.64\"/>\r\n      </g>\r\n     </g>\r\n     <g id=\"text_7\">\r\n      <!-- 6 -->\r\n      <g transform=\"translate(286.130446 239.238437)scale(0.1 -0.1)\">\r\n       <defs>\r\n        <path d=\"M 33.015625 40.375 \r\nQ 26.375 40.375 22.484375 35.828125 \r\nQ 18.609375 31.296875 18.609375 23.390625 \r\nQ 18.609375 15.53125 22.484375 10.953125 \r\nQ 26.375 6.390625 33.015625 6.390625 \r\nQ 39.65625 6.390625 43.53125 10.953125 \r\nQ 47.40625 15.53125 47.40625 23.390625 \r\nQ 47.40625 31.296875 43.53125 35.828125 \r\nQ 39.65625 40.375 33.015625 40.375 \r\nz\r\nM 52.59375 71.296875 \r\nL 52.59375 62.3125 \r\nQ 48.875 64.0625 45.09375 64.984375 \r\nQ 41.3125 65.921875 37.59375 65.921875 \r\nQ 27.828125 65.921875 22.671875 59.328125 \r\nQ 17.53125 52.734375 16.796875 39.40625 \r\nQ 19.671875 43.65625 24.015625 45.921875 \r\nQ 28.375 48.1875 33.59375 48.1875 \r\nQ 44.578125 48.1875 50.953125 41.515625 \r\nQ 57.328125 34.859375 57.328125 23.390625 \r\nQ 57.328125 12.15625 50.6875 5.359375 \r\nQ 44.046875 -1.421875 33.015625 -1.421875 \r\nQ 20.359375 -1.421875 13.671875 8.265625 \r\nQ 6.984375 17.96875 6.984375 36.375 \r\nQ 6.984375 53.65625 15.1875 63.9375 \r\nQ 23.390625 74.21875 37.203125 74.21875 \r\nQ 40.921875 74.21875 44.703125 73.484375 \r\nQ 48.484375 72.75 52.59375 71.296875 \r\nz\r\n\" id=\"DejaVuSans-54\"/>\r\n       </defs>\r\n       <use xlink:href=\"#DejaVuSans-54\"/>\r\n      </g>\r\n     </g>\r\n    </g>\r\n    <g id=\"text_8\">\r\n     <!-- weekday -->\r\n     <g transform=\"translate(152.187969 252.916562)scale(0.1 -0.1)\">\r\n      <defs>\r\n       <path d=\"M 4.203125 54.6875 \r\nL 13.1875 54.6875 \r\nL 24.421875 12.015625 \r\nL 35.59375 54.6875 \r\nL 46.1875 54.6875 \r\nL 57.421875 12.015625 \r\nL 68.609375 54.6875 \r\nL 77.59375 54.6875 \r\nL 63.28125 0 \r\nL 52.6875 0 \r\nL 40.921875 44.828125 \r\nL 29.109375 0 \r\nL 18.5 0 \r\nz\r\n\" id=\"DejaVuSans-119\"/>\r\n       <path d=\"M 56.203125 29.59375 \r\nL 56.203125 25.203125 \r\nL 14.890625 25.203125 \r\nQ 15.484375 15.921875 20.484375 11.0625 \r\nQ 25.484375 6.203125 34.421875 6.203125 \r\nQ 39.59375 6.203125 44.453125 7.46875 \r\nQ 49.3125 8.734375 54.109375 11.28125 \r\nL 54.109375 2.78125 \r\nQ 49.265625 0.734375 44.1875 -0.34375 \r\nQ 39.109375 -1.421875 33.890625 -1.421875 \r\nQ 20.796875 -1.421875 13.15625 6.1875 \r\nQ 5.515625 13.8125 5.515625 26.8125 \r\nQ 5.515625 40.234375 12.765625 48.109375 \r\nQ 20.015625 56 32.328125 56 \r\nQ 43.359375 56 49.78125 48.890625 \r\nQ 56.203125 41.796875 56.203125 29.59375 \r\nz\r\nM 47.21875 32.234375 \r\nQ 47.125 39.59375 43.09375 43.984375 \r\nQ 39.0625 48.390625 32.421875 48.390625 \r\nQ 24.90625 48.390625 20.390625 44.140625 \r\nQ 15.875 39.890625 15.1875 32.171875 \r\nz\r\n\" id=\"DejaVuSans-101\"/>\r\n       <path d=\"M 9.078125 75.984375 \r\nL 18.109375 75.984375 \r\nL 18.109375 31.109375 \r\nL 44.921875 54.6875 \r\nL 56.390625 54.6875 \r\nL 27.390625 29.109375 \r\nL 57.625 0 \r\nL 45.90625 0 \r\nL 18.109375 26.703125 \r\nL 18.109375 0 \r\nL 9.078125 0 \r\nz\r\n\" id=\"DejaVuSans-107\"/>\r\n       <path d=\"M 45.40625 46.390625 \r\nL 45.40625 75.984375 \r\nL 54.390625 75.984375 \r\nL 54.390625 0 \r\nL 45.40625 0 \r\nL 45.40625 8.203125 \r\nQ 42.578125 3.328125 38.25 0.953125 \r\nQ 33.9375 -1.421875 27.875 -1.421875 \r\nQ 17.96875 -1.421875 11.734375 6.484375 \r\nQ 5.515625 14.40625 5.515625 27.296875 \r\nQ 5.515625 40.1875 11.734375 48.09375 \r\nQ 17.96875 56 27.875 56 \r\nQ 33.9375 56 38.25 53.625 \r\nQ 42.578125 51.265625 45.40625 46.390625 \r\nz\r\nM 14.796875 27.296875 \r\nQ 14.796875 17.390625 18.875 11.75 \r\nQ 22.953125 6.109375 30.078125 6.109375 \r\nQ 37.203125 6.109375 41.296875 11.75 \r\nQ 45.40625 17.390625 45.40625 27.296875 \r\nQ 45.40625 37.203125 41.296875 42.84375 \r\nQ 37.203125 48.484375 30.078125 48.484375 \r\nQ 22.953125 48.484375 18.875 42.84375 \r\nQ 14.796875 37.203125 14.796875 27.296875 \r\nz\r\n\" id=\"DejaVuSans-100\"/>\r\n       <path d=\"M 34.28125 27.484375 \r\nQ 23.390625 27.484375 19.1875 25 \r\nQ 14.984375 22.515625 14.984375 16.5 \r\nQ 14.984375 11.71875 18.140625 8.90625 \r\nQ 21.296875 6.109375 26.703125 6.109375 \r\nQ 34.1875 6.109375 38.703125 11.40625 \r\nQ 43.21875 16.703125 43.21875 25.484375 \r\nL 43.21875 27.484375 \r\nz\r\nM 52.203125 31.203125 \r\nL 52.203125 0 \r\nL 43.21875 0 \r\nL 43.21875 8.296875 \r\nQ 40.140625 3.328125 35.546875 0.953125 \r\nQ 30.953125 -1.421875 24.3125 -1.421875 \r\nQ 15.921875 -1.421875 10.953125 3.296875 \r\nQ 6 8.015625 6 15.921875 \r\nQ 6 25.140625 12.171875 29.828125 \r\nQ 18.359375 34.515625 30.609375 34.515625 \r\nL 43.21875 34.515625 \r\nL 43.21875 35.40625 \r\nQ 43.21875 41.609375 39.140625 45 \r\nQ 35.0625 48.390625 27.6875 48.390625 \r\nQ 23 48.390625 18.546875 47.265625 \r\nQ 14.109375 46.140625 10.015625 43.890625 \r\nL 10.015625 52.203125 \r\nQ 14.9375 54.109375 19.578125 55.046875 \r\nQ 24.21875 56 28.609375 56 \r\nQ 40.484375 56 46.34375 49.84375 \r\nQ 52.203125 43.703125 52.203125 31.203125 \r\nz\r\n\" id=\"DejaVuSans-97\"/>\r\n       <path d=\"M 32.171875 -5.078125 \r\nQ 28.375 -14.84375 24.75 -17.8125 \r\nQ 21.140625 -20.796875 15.09375 -20.796875 \r\nL 7.90625 -20.796875 \r\nL 7.90625 -13.28125 \r\nL 13.1875 -13.28125 \r\nQ 16.890625 -13.28125 18.9375 -11.515625 \r\nQ 21 -9.765625 23.484375 -3.21875 \r\nL 25.09375 0.875 \r\nL 2.984375 54.6875 \r\nL 12.5 54.6875 \r\nL 29.59375 11.921875 \r\nL 46.6875 54.6875 \r\nL 56.203125 54.6875 \r\nz\r\n\" id=\"DejaVuSans-121\"/>\r\n      </defs>\r\n      <use xlink:href=\"#DejaVuSans-119\"/>\r\n      <use x=\"81.787109\" xlink:href=\"#DejaVuSans-101\"/>\r\n      <use x=\"143.310547\" xlink:href=\"#DejaVuSans-101\"/>\r\n      <use x=\"204.833984\" xlink:href=\"#DejaVuSans-107\"/>\r\n      <use x=\"262.744141\" xlink:href=\"#DejaVuSans-100\"/>\r\n      <use x=\"326.220703\" xlink:href=\"#DejaVuSans-97\"/>\r\n      <use x=\"387.5\" xlink:href=\"#DejaVuSans-121\"/>\r\n     </g>\r\n    </g>\r\n   </g>\r\n   <g id=\"matplotlib.axis_2\">\r\n    <g id=\"ytick_1\">\r\n     <g id=\"line2d_8\">\r\n      <defs>\r\n       <path d=\"M 0 0 \r\nL -3.5 0 \r\n\" id=\"m72df008472\" style=\"stroke:#000000;stroke-width:0.8;\"/>\r\n      </defs>\r\n      <g>\r\n       <use style=\"stroke:#000000;stroke-width:0.8;\" x=\"40.603125\" xlink:href=\"#m72df008472\" y=\"12.636\"/>\r\n      </g>\r\n     </g>\r\n     <g id=\"text_9\">\r\n      <!-- 3 -->\r\n      <g transform=\"translate(27.240625 16.435219)scale(0.1 -0.1)\">\r\n       <use xlink:href=\"#DejaVuSans-51\"/>\r\n      </g>\r\n     </g>\r\n    </g>\r\n    <g id=\"ytick_2\">\r\n     <g id=\"line2d_9\">\r\n      <g>\r\n       <use style=\"stroke:#000000;stroke-width:0.8;\" x=\"40.603125\" xlink:href=\"#m72df008472\" y=\"23.508\"/>\r\n      </g>\r\n     </g>\r\n     <g id=\"text_10\">\r\n      <!-- 5 -->\r\n      <g transform=\"translate(27.240625 27.307219)scale(0.1 -0.1)\">\r\n       <use xlink:href=\"#DejaVuSans-53\"/>\r\n      </g>\r\n     </g>\r\n    </g>\r\n    <g id=\"ytick_3\">\r\n     <g id=\"line2d_10\">\r\n      <g>\r\n       <use style=\"stroke:#000000;stroke-width:0.8;\" x=\"40.603125\" xlink:href=\"#m72df008472\" y=\"34.38\"/>\r\n      </g>\r\n     </g>\r\n     <g id=\"text_11\">\r\n      <!-- 6 -->\r\n      <g transform=\"translate(27.240625 38.179219)scale(0.1 -0.1)\">\r\n       <use xlink:href=\"#DejaVuSans-54\"/>\r\n      </g>\r\n     </g>\r\n    </g>\r\n    <g id=\"ytick_4\">\r\n     <g id=\"line2d_11\">\r\n      <g>\r\n       <use style=\"stroke:#000000;stroke-width:0.8;\" x=\"40.603125\" xlink:href=\"#m72df008472\" y=\"45.252\"/>\r\n      </g>\r\n     </g>\r\n     <g id=\"text_12\">\r\n      <!-- 7 -->\r\n      <g transform=\"translate(27.240625 49.051219)scale(0.1 -0.1)\">\r\n       <defs>\r\n        <path d=\"M 8.203125 72.90625 \r\nL 55.078125 72.90625 \r\nL 55.078125 68.703125 \r\nL 28.609375 0 \r\nL 18.3125 0 \r\nL 43.21875 64.59375 \r\nL 8.203125 64.59375 \r\nz\r\n\" id=\"DejaVuSans-55\"/>\r\n       </defs>\r\n       <use xlink:href=\"#DejaVuSans-55\"/>\r\n      </g>\r\n     </g>\r\n    </g>\r\n    <g id=\"ytick_5\">\r\n     <g id=\"line2d_12\">\r\n      <g>\r\n       <use style=\"stroke:#000000;stroke-width:0.8;\" x=\"40.603125\" xlink:href=\"#m72df008472\" y=\"56.124\"/>\r\n      </g>\r\n     </g>\r\n     <g id=\"text_13\">\r\n      <!-- 8 -->\r\n      <g transform=\"translate(27.240625 59.923219)scale(0.1 -0.1)\">\r\n       <defs>\r\n        <path d=\"M 31.78125 34.625 \r\nQ 24.75 34.625 20.71875 30.859375 \r\nQ 16.703125 27.09375 16.703125 20.515625 \r\nQ 16.703125 13.921875 20.71875 10.15625 \r\nQ 24.75 6.390625 31.78125 6.390625 \r\nQ 38.8125 6.390625 42.859375 10.171875 \r\nQ 46.921875 13.96875 46.921875 20.515625 \r\nQ 46.921875 27.09375 42.890625 30.859375 \r\nQ 38.875 34.625 31.78125 34.625 \r\nz\r\nM 21.921875 38.8125 \r\nQ 15.578125 40.375 12.03125 44.71875 \r\nQ 8.5 49.078125 8.5 55.328125 \r\nQ 8.5 64.0625 14.71875 69.140625 \r\nQ 20.953125 74.21875 31.78125 74.21875 \r\nQ 42.671875 74.21875 48.875 69.140625 \r\nQ 55.078125 64.0625 55.078125 55.328125 \r\nQ 55.078125 49.078125 51.53125 44.71875 \r\nQ 48 40.375 41.703125 38.8125 \r\nQ 48.828125 37.15625 52.796875 32.3125 \r\nQ 56.78125 27.484375 56.78125 20.515625 \r\nQ 56.78125 9.90625 50.3125 4.234375 \r\nQ 43.84375 -1.421875 31.78125 -1.421875 \r\nQ 19.734375 -1.421875 13.25 4.234375 \r\nQ 6.78125 9.90625 6.78125 20.515625 \r\nQ 6.78125 27.484375 10.78125 32.3125 \r\nQ 14.796875 37.15625 21.921875 38.8125 \r\nz\r\nM 18.3125 54.390625 \r\nQ 18.3125 48.734375 21.84375 45.5625 \r\nQ 25.390625 42.390625 31.78125 42.390625 \r\nQ 38.140625 42.390625 41.71875 45.5625 \r\nQ 45.3125 48.734375 45.3125 54.390625 \r\nQ 45.3125 60.0625 41.71875 63.234375 \r\nQ 38.140625 66.40625 31.78125 66.40625 \r\nQ 25.390625 66.40625 21.84375 63.234375 \r\nQ 18.3125 60.0625 18.3125 54.390625 \r\nz\r\n\" id=\"DejaVuSans-56\"/>\r\n       </defs>\r\n       <use xlink:href=\"#DejaVuSans-56\"/>\r\n      </g>\r\n     </g>\r\n    </g>\r\n    <g id=\"ytick_6\">\r\n     <g id=\"line2d_13\">\r\n      <g>\r\n       <use style=\"stroke:#000000;stroke-width:0.8;\" x=\"40.603125\" xlink:href=\"#m72df008472\" y=\"66.996\"/>\r\n      </g>\r\n     </g>\r\n     <g id=\"text_14\">\r\n      <!-- 9 -->\r\n      <g transform=\"translate(27.240625 70.795219)scale(0.1 -0.1)\">\r\n       <defs>\r\n        <path d=\"M 10.984375 1.515625 \r\nL 10.984375 10.5 \r\nQ 14.703125 8.734375 18.5 7.8125 \r\nQ 22.3125 6.890625 25.984375 6.890625 \r\nQ 35.75 6.890625 40.890625 13.453125 \r\nQ 46.046875 20.015625 46.78125 33.40625 \r\nQ 43.953125 29.203125 39.59375 26.953125 \r\nQ 35.25 24.703125 29.984375 24.703125 \r\nQ 19.046875 24.703125 12.671875 31.3125 \r\nQ 6.296875 37.9375 6.296875 49.421875 \r\nQ 6.296875 60.640625 12.9375 67.421875 \r\nQ 19.578125 74.21875 30.609375 74.21875 \r\nQ 43.265625 74.21875 49.921875 64.515625 \r\nQ 56.59375 54.828125 56.59375 36.375 \r\nQ 56.59375 19.140625 48.40625 8.859375 \r\nQ 40.234375 -1.421875 26.421875 -1.421875 \r\nQ 22.703125 -1.421875 18.890625 -0.6875 \r\nQ 15.09375 0.046875 10.984375 1.515625 \r\nz\r\nM 30.609375 32.421875 \r\nQ 37.25 32.421875 41.125 36.953125 \r\nQ 45.015625 41.5 45.015625 49.421875 \r\nQ 45.015625 57.28125 41.125 61.84375 \r\nQ 37.25 66.40625 30.609375 66.40625 \r\nQ 23.96875 66.40625 20.09375 61.84375 \r\nQ 16.21875 57.28125 16.21875 49.421875 \r\nQ 16.21875 41.5 20.09375 36.953125 \r\nQ 23.96875 32.421875 30.609375 32.421875 \r\nz\r\n\" id=\"DejaVuSans-57\"/>\r\n       </defs>\r\n       <use xlink:href=\"#DejaVuSans-57\"/>\r\n      </g>\r\n     </g>\r\n    </g>\r\n    <g id=\"ytick_7\">\r\n     <g id=\"line2d_14\">\r\n      <g>\r\n       <use style=\"stroke:#000000;stroke-width:0.8;\" x=\"40.603125\" xlink:href=\"#m72df008472\" y=\"77.868\"/>\r\n      </g>\r\n     </g>\r\n     <g id=\"text_15\">\r\n      <!-- 10 -->\r\n      <g transform=\"translate(20.878125 81.667219)scale(0.1 -0.1)\">\r\n       <use xlink:href=\"#DejaVuSans-49\"/>\r\n       <use x=\"63.623047\" xlink:href=\"#DejaVuSans-48\"/>\r\n      </g>\r\n     </g>\r\n    </g>\r\n    <g id=\"ytick_8\">\r\n     <g id=\"line2d_15\">\r\n      <g>\r\n       <use style=\"stroke:#000000;stroke-width:0.8;\" x=\"40.603125\" xlink:href=\"#m72df008472\" y=\"88.74\"/>\r\n      </g>\r\n     </g>\r\n     <g id=\"text_16\">\r\n      <!-- 11 -->\r\n      <g transform=\"translate(20.878125 92.539219)scale(0.1 -0.1)\">\r\n       <use xlink:href=\"#DejaVuSans-49\"/>\r\n       <use x=\"63.623047\" xlink:href=\"#DejaVuSans-49\"/>\r\n      </g>\r\n     </g>\r\n    </g>\r\n    <g id=\"ytick_9\">\r\n     <g id=\"line2d_16\">\r\n      <g>\r\n       <use style=\"stroke:#000000;stroke-width:0.8;\" x=\"40.603125\" xlink:href=\"#m72df008472\" y=\"99.612\"/>\r\n      </g>\r\n     </g>\r\n     <g id=\"text_17\">\r\n      <!-- 12 -->\r\n      <g transform=\"translate(20.878125 103.411219)scale(0.1 -0.1)\">\r\n       <use xlink:href=\"#DejaVuSans-49\"/>\r\n       <use x=\"63.623047\" xlink:href=\"#DejaVuSans-50\"/>\r\n      </g>\r\n     </g>\r\n    </g>\r\n    <g id=\"ytick_10\">\r\n     <g id=\"line2d_17\">\r\n      <g>\r\n       <use style=\"stroke:#000000;stroke-width:0.8;\" x=\"40.603125\" xlink:href=\"#m72df008472\" y=\"110.484\"/>\r\n      </g>\r\n     </g>\r\n     <g id=\"text_18\">\r\n      <!-- 13 -->\r\n      <g transform=\"translate(20.878125 114.283219)scale(0.1 -0.1)\">\r\n       <use xlink:href=\"#DejaVuSans-49\"/>\r\n       <use x=\"63.623047\" xlink:href=\"#DejaVuSans-51\"/>\r\n      </g>\r\n     </g>\r\n    </g>\r\n    <g id=\"ytick_11\">\r\n     <g id=\"line2d_18\">\r\n      <g>\r\n       <use style=\"stroke:#000000;stroke-width:0.8;\" x=\"40.603125\" xlink:href=\"#m72df008472\" y=\"121.356\"/>\r\n      </g>\r\n     </g>\r\n     <g id=\"text_19\">\r\n      <!-- 14 -->\r\n      <g transform=\"translate(20.878125 125.155219)scale(0.1 -0.1)\">\r\n       <use xlink:href=\"#DejaVuSans-49\"/>\r\n       <use x=\"63.623047\" xlink:href=\"#DejaVuSans-52\"/>\r\n      </g>\r\n     </g>\r\n    </g>\r\n    <g id=\"ytick_12\">\r\n     <g id=\"line2d_19\">\r\n      <g>\r\n       <use style=\"stroke:#000000;stroke-width:0.8;\" x=\"40.603125\" xlink:href=\"#m72df008472\" y=\"132.228\"/>\r\n      </g>\r\n     </g>\r\n     <g id=\"text_20\">\r\n      <!-- 15 -->\r\n      <g transform=\"translate(20.878125 136.027219)scale(0.1 -0.1)\">\r\n       <use xlink:href=\"#DejaVuSans-49\"/>\r\n       <use x=\"63.623047\" xlink:href=\"#DejaVuSans-53\"/>\r\n      </g>\r\n     </g>\r\n    </g>\r\n    <g id=\"ytick_13\">\r\n     <g id=\"line2d_20\">\r\n      <g>\r\n       <use style=\"stroke:#000000;stroke-width:0.8;\" x=\"40.603125\" xlink:href=\"#m72df008472\" y=\"143.1\"/>\r\n      </g>\r\n     </g>\r\n     <g id=\"text_21\">\r\n      <!-- 16 -->\r\n      <g transform=\"translate(20.878125 146.899219)scale(0.1 -0.1)\">\r\n       <use xlink:href=\"#DejaVuSans-49\"/>\r\n       <use x=\"63.623047\" xlink:href=\"#DejaVuSans-54\"/>\r\n      </g>\r\n     </g>\r\n    </g>\r\n    <g id=\"ytick_14\">\r\n     <g id=\"line2d_21\">\r\n      <g>\r\n       <use style=\"stroke:#000000;stroke-width:0.8;\" x=\"40.603125\" xlink:href=\"#m72df008472\" y=\"153.972\"/>\r\n      </g>\r\n     </g>\r\n     <g id=\"text_22\">\r\n      <!-- 17 -->\r\n      <g transform=\"translate(20.878125 157.771219)scale(0.1 -0.1)\">\r\n       <use xlink:href=\"#DejaVuSans-49\"/>\r\n       <use x=\"63.623047\" xlink:href=\"#DejaVuSans-55\"/>\r\n      </g>\r\n     </g>\r\n    </g>\r\n    <g id=\"ytick_15\">\r\n     <g id=\"line2d_22\">\r\n      <g>\r\n       <use style=\"stroke:#000000;stroke-width:0.8;\" x=\"40.603125\" xlink:href=\"#m72df008472\" y=\"164.844\"/>\r\n      </g>\r\n     </g>\r\n     <g id=\"text_23\">\r\n      <!-- 18 -->\r\n      <g transform=\"translate(20.878125 168.643219)scale(0.1 -0.1)\">\r\n       <use xlink:href=\"#DejaVuSans-49\"/>\r\n       <use x=\"63.623047\" xlink:href=\"#DejaVuSans-56\"/>\r\n      </g>\r\n     </g>\r\n    </g>\r\n    <g id=\"ytick_16\">\r\n     <g id=\"line2d_23\">\r\n      <g>\r\n       <use style=\"stroke:#000000;stroke-width:0.8;\" x=\"40.603125\" xlink:href=\"#m72df008472\" y=\"175.716\"/>\r\n      </g>\r\n     </g>\r\n     <g id=\"text_24\">\r\n      <!-- 19 -->\r\n      <g transform=\"translate(20.878125 179.515219)scale(0.1 -0.1)\">\r\n       <use xlink:href=\"#DejaVuSans-49\"/>\r\n       <use x=\"63.623047\" xlink:href=\"#DejaVuSans-57\"/>\r\n      </g>\r\n     </g>\r\n    </g>\r\n    <g id=\"ytick_17\">\r\n     <g id=\"line2d_24\">\r\n      <g>\r\n       <use style=\"stroke:#000000;stroke-width:0.8;\" x=\"40.603125\" xlink:href=\"#m72df008472\" y=\"186.588\"/>\r\n      </g>\r\n     </g>\r\n     <g id=\"text_25\">\r\n      <!-- 20 -->\r\n      <g transform=\"translate(20.878125 190.387219)scale(0.1 -0.1)\">\r\n       <use xlink:href=\"#DejaVuSans-50\"/>\r\n       <use x=\"63.623047\" xlink:href=\"#DejaVuSans-48\"/>\r\n      </g>\r\n     </g>\r\n    </g>\r\n    <g id=\"ytick_18\">\r\n     <g id=\"line2d_25\">\r\n      <g>\r\n       <use style=\"stroke:#000000;stroke-width:0.8;\" x=\"40.603125\" xlink:href=\"#m72df008472\" y=\"197.46\"/>\r\n      </g>\r\n     </g>\r\n     <g id=\"text_26\">\r\n      <!-- 21 -->\r\n      <g transform=\"translate(20.878125 201.259219)scale(0.1 -0.1)\">\r\n       <use xlink:href=\"#DejaVuSans-50\"/>\r\n       <use x=\"63.623047\" xlink:href=\"#DejaVuSans-49\"/>\r\n      </g>\r\n     </g>\r\n    </g>\r\n    <g id=\"ytick_19\">\r\n     <g id=\"line2d_26\">\r\n      <g>\r\n       <use style=\"stroke:#000000;stroke-width:0.8;\" x=\"40.603125\" xlink:href=\"#m72df008472\" y=\"208.332\"/>\r\n      </g>\r\n     </g>\r\n     <g id=\"text_27\">\r\n      <!-- 22 -->\r\n      <g transform=\"translate(20.878125 212.131219)scale(0.1 -0.1)\">\r\n       <use xlink:href=\"#DejaVuSans-50\"/>\r\n       <use x=\"63.623047\" xlink:href=\"#DejaVuSans-50\"/>\r\n      </g>\r\n     </g>\r\n    </g>\r\n    <g id=\"ytick_20\">\r\n     <g id=\"line2d_27\">\r\n      <g>\r\n       <use style=\"stroke:#000000;stroke-width:0.8;\" x=\"40.603125\" xlink:href=\"#m72df008472\" y=\"219.204\"/>\r\n      </g>\r\n     </g>\r\n     <g id=\"text_28\">\r\n      <!-- 23 -->\r\n      <g transform=\"translate(20.878125 223.003219)scale(0.1 -0.1)\">\r\n       <use xlink:href=\"#DejaVuSans-50\"/>\r\n       <use x=\"63.623047\" xlink:href=\"#DejaVuSans-51\"/>\r\n      </g>\r\n     </g>\r\n    </g>\r\n    <g id=\"text_29\">\r\n     <!-- hora -->\r\n     <g transform=\"translate(14.798438 127.267656)rotate(-90)scale(0.1 -0.1)\">\r\n      <defs>\r\n       <path d=\"M 54.890625 33.015625 \r\nL 54.890625 0 \r\nL 45.90625 0 \r\nL 45.90625 32.71875 \r\nQ 45.90625 40.484375 42.875 44.328125 \r\nQ 39.84375 48.1875 33.796875 48.1875 \r\nQ 26.515625 48.1875 22.3125 43.546875 \r\nQ 18.109375 38.921875 18.109375 30.90625 \r\nL 18.109375 0 \r\nL 9.078125 0 \r\nL 9.078125 75.984375 \r\nL 18.109375 75.984375 \r\nL 18.109375 46.1875 \r\nQ 21.34375 51.125 25.703125 53.5625 \r\nQ 30.078125 56 35.796875 56 \r\nQ 45.21875 56 50.046875 50.171875 \r\nQ 54.890625 44.34375 54.890625 33.015625 \r\nz\r\n\" id=\"DejaVuSans-104\"/>\r\n       <path d=\"M 30.609375 48.390625 \r\nQ 23.390625 48.390625 19.1875 42.75 \r\nQ 14.984375 37.109375 14.984375 27.296875 \r\nQ 14.984375 17.484375 19.15625 11.84375 \r\nQ 23.34375 6.203125 30.609375 6.203125 \r\nQ 37.796875 6.203125 41.984375 11.859375 \r\nQ 46.1875 17.53125 46.1875 27.296875 \r\nQ 46.1875 37.015625 41.984375 42.703125 \r\nQ 37.796875 48.390625 30.609375 48.390625 \r\nz\r\nM 30.609375 56 \r\nQ 42.328125 56 49.015625 48.375 \r\nQ 55.71875 40.765625 55.71875 27.296875 \r\nQ 55.71875 13.875 49.015625 6.21875 \r\nQ 42.328125 -1.421875 30.609375 -1.421875 \r\nQ 18.84375 -1.421875 12.171875 6.21875 \r\nQ 5.515625 13.875 5.515625 27.296875 \r\nQ 5.515625 40.765625 12.171875 48.375 \r\nQ 18.84375 56 30.609375 56 \r\nz\r\n\" id=\"DejaVuSans-111\"/>\r\n       <path d=\"M 41.109375 46.296875 \r\nQ 39.59375 47.171875 37.8125 47.578125 \r\nQ 36.03125 48 33.890625 48 \r\nQ 26.265625 48 22.1875 43.046875 \r\nQ 18.109375 38.09375 18.109375 28.8125 \r\nL 18.109375 0 \r\nL 9.078125 0 \r\nL 9.078125 54.6875 \r\nL 18.109375 54.6875 \r\nL 18.109375 46.1875 \r\nQ 20.953125 51.171875 25.484375 53.578125 \r\nQ 30.03125 56 36.53125 56 \r\nQ 37.453125 56 38.578125 55.875 \r\nQ 39.703125 55.765625 41.0625 55.515625 \r\nz\r\n\" id=\"DejaVuSans-114\"/>\r\n      </defs>\r\n      <use xlink:href=\"#DejaVuSans-104\"/>\r\n      <use x=\"63.378906\" xlink:href=\"#DejaVuSans-111\"/>\r\n      <use x=\"124.560547\" xlink:href=\"#DejaVuSans-114\"/>\r\n      <use x=\"165.673828\" xlink:href=\"#DejaVuSans-97\"/>\r\n     </g>\r\n    </g>\r\n   </g>\r\n  </g>\r\n  <g id=\"axes_2\">\r\n   <g id=\"patch_3\">\r\n    <path clip-path=\"url(#p859d3366fc)\" d=\"M 325.183125 224.64 \r\nL 325.183125 223.790625 \r\nL 325.183125 8.049375 \r\nL 325.183125 7.2 \r\nL 336.055125 7.2 \r\nL 336.055125 8.049375 \r\nL 336.055125 223.790625 \r\nL 336.055125 224.64 \r\nz\r\n\" style=\"fill:#ffffff;stroke:#ffffff;stroke-linejoin:miter;stroke-width:0.01;\"/>\r\n   </g>\r\n   <image height=\"217\" id=\"image96cc842756\" transform=\"scale(1 -1)translate(0 -217)\" width=\"11\" x=\"325\" xlink:href=\"data:image/png;base64,\r\niVBORw0KGgoAAAANSUhEUgAAAAsAAADZCAYAAAD2WsoCAAABWklEQVR4nNWawQ0DMQgEsUT/9V0vOUNaYB4jcXkjtJ5dE8fxqX46hp+MqGltZDcpjrEKLAN0hjJQ5wuKiWYoA6BDnYvYzRz0TGGcgebSOKNtBbNhca4G4Yc0xrWRc3ARCRpHFpHRfVbIIJ0ZZ88UcYGWKXeHKV6QzNQBU5YECdntcS6CztP87pDhFf+KRFQbjBftFJEG6mxpnp821G0FaXjFZA/OG0e+nt1Ehnf6grMOFC+h4Q1zL6LeFF1Cw4voF2mI2UDFZNax4yW6oUKdNc1XpEGKgYWijDU0UGdygaOdZJbkmd1vaKlDnME9WWQQzUGyccDPNihD0wxuZyMP2N5bNMPOO+zWNIt2ew7uQGfaPa5Vs0FkwGyAzl8cBWJEta+2g2Sg8H8wz0wGocE4e3nWFgifN2gvFtDfwaS4+pVkQBor0Hk0xEc1bIHogcoKzWaQkN3a3FhB4w9t6ajtRcvsGQAAAABJRU5ErkJggg==\" y=\"-7\"/>\r\n   <g id=\"matplotlib.axis_3\"/>\r\n   <g id=\"matplotlib.axis_4\">\r\n    <g id=\"ytick_21\">\r\n     <g id=\"line2d_28\">\r\n      <defs>\r\n       <path d=\"M 0 0 \r\nL 3.5 0 \r\n\" id=\"m74eadbde6d\" style=\"stroke:#000000;stroke-width:0.8;\"/>\r\n      </defs>\r\n      <g>\r\n       <use style=\"stroke:#000000;stroke-width:0.8;\" x=\"336.055125\" xlink:href=\"#m74eadbde6d\" y=\"200.005714\"/>\r\n      </g>\r\n     </g>\r\n     <g id=\"text_30\">\r\n      <!-- 500 -->\r\n      <g transform=\"translate(343.055125 203.804933)scale(0.1 -0.1)\">\r\n       <use xlink:href=\"#DejaVuSans-53\"/>\r\n       <use x=\"63.623047\" xlink:href=\"#DejaVuSans-48\"/>\r\n       <use x=\"127.246094\" xlink:href=\"#DejaVuSans-48\"/>\r\n      </g>\r\n     </g>\r\n    </g>\r\n    <g id=\"ytick_22\">\r\n     <g id=\"line2d_29\">\r\n      <g>\r\n       <use style=\"stroke:#000000;stroke-width:0.8;\" x=\"336.055125\" xlink:href=\"#m74eadbde6d\" y=\"174.291429\"/>\r\n      </g>\r\n     </g>\r\n     <g id=\"text_31\">\r\n      <!-- 1000 -->\r\n      <g transform=\"translate(343.055125 178.090647)scale(0.1 -0.1)\">\r\n       <use xlink:href=\"#DejaVuSans-49\"/>\r\n       <use x=\"63.623047\" xlink:href=\"#DejaVuSans-48\"/>\r\n       <use x=\"127.246094\" xlink:href=\"#DejaVuSans-48\"/>\r\n       <use x=\"190.869141\" xlink:href=\"#DejaVuSans-48\"/>\r\n      </g>\r\n     </g>\r\n    </g>\r\n    <g id=\"ytick_23\">\r\n     <g id=\"line2d_30\">\r\n      <g>\r\n       <use style=\"stroke:#000000;stroke-width:0.8;\" x=\"336.055125\" xlink:href=\"#m74eadbde6d\" y=\"148.577143\"/>\r\n      </g>\r\n     </g>\r\n     <g id=\"text_32\">\r\n      <!-- 1500 -->\r\n      <g transform=\"translate(343.055125 152.376362)scale(0.1 -0.1)\">\r\n       <use xlink:href=\"#DejaVuSans-49\"/>\r\n       <use x=\"63.623047\" xlink:href=\"#DejaVuSans-53\"/>\r\n       <use x=\"127.246094\" xlink:href=\"#DejaVuSans-48\"/>\r\n       <use x=\"190.869141\" xlink:href=\"#DejaVuSans-48\"/>\r\n      </g>\r\n     </g>\r\n    </g>\r\n    <g id=\"ytick_24\">\r\n     <g id=\"line2d_31\">\r\n      <g>\r\n       <use style=\"stroke:#000000;stroke-width:0.8;\" x=\"336.055125\" xlink:href=\"#m74eadbde6d\" y=\"122.862857\"/>\r\n      </g>\r\n     </g>\r\n     <g id=\"text_33\">\r\n      <!-- 2000 -->\r\n      <g transform=\"translate(343.055125 126.662076)scale(0.1 -0.1)\">\r\n       <use xlink:href=\"#DejaVuSans-50\"/>\r\n       <use x=\"63.623047\" xlink:href=\"#DejaVuSans-48\"/>\r\n       <use x=\"127.246094\" xlink:href=\"#DejaVuSans-48\"/>\r\n       <use x=\"190.869141\" xlink:href=\"#DejaVuSans-48\"/>\r\n      </g>\r\n     </g>\r\n    </g>\r\n    <g id=\"ytick_25\">\r\n     <g id=\"line2d_32\">\r\n      <g>\r\n       <use style=\"stroke:#000000;stroke-width:0.8;\" x=\"336.055125\" xlink:href=\"#m74eadbde6d\" y=\"97.148571\"/>\r\n      </g>\r\n     </g>\r\n     <g id=\"text_34\">\r\n      <!-- 2500 -->\r\n      <g transform=\"translate(343.055125 100.94779)scale(0.1 -0.1)\">\r\n       <use xlink:href=\"#DejaVuSans-50\"/>\r\n       <use x=\"63.623047\" xlink:href=\"#DejaVuSans-53\"/>\r\n       <use x=\"127.246094\" xlink:href=\"#DejaVuSans-48\"/>\r\n       <use x=\"190.869141\" xlink:href=\"#DejaVuSans-48\"/>\r\n      </g>\r\n     </g>\r\n    </g>\r\n    <g id=\"ytick_26\">\r\n     <g id=\"line2d_33\">\r\n      <g>\r\n       <use style=\"stroke:#000000;stroke-width:0.8;\" x=\"336.055125\" xlink:href=\"#m74eadbde6d\" y=\"71.434286\"/>\r\n      </g>\r\n     </g>\r\n     <g id=\"text_35\">\r\n      <!-- 3000 -->\r\n      <g transform=\"translate(343.055125 75.233504)scale(0.1 -0.1)\">\r\n       <use xlink:href=\"#DejaVuSans-51\"/>\r\n       <use x=\"63.623047\" xlink:href=\"#DejaVuSans-48\"/>\r\n       <use x=\"127.246094\" xlink:href=\"#DejaVuSans-48\"/>\r\n       <use x=\"190.869141\" xlink:href=\"#DejaVuSans-48\"/>\r\n      </g>\r\n     </g>\r\n    </g>\r\n    <g id=\"ytick_27\">\r\n     <g id=\"line2d_34\">\r\n      <g>\r\n       <use style=\"stroke:#000000;stroke-width:0.8;\" x=\"336.055125\" xlink:href=\"#m74eadbde6d\" y=\"45.72\"/>\r\n      </g>\r\n     </g>\r\n     <g id=\"text_36\">\r\n      <!-- 3500 -->\r\n      <g transform=\"translate(343.055125 49.519219)scale(0.1 -0.1)\">\r\n       <use xlink:href=\"#DejaVuSans-51\"/>\r\n       <use x=\"63.623047\" xlink:href=\"#DejaVuSans-53\"/>\r\n       <use x=\"127.246094\" xlink:href=\"#DejaVuSans-48\"/>\r\n       <use x=\"190.869141\" xlink:href=\"#DejaVuSans-48\"/>\r\n      </g>\r\n     </g>\r\n    </g>\r\n    <g id=\"ytick_28\">\r\n     <g id=\"line2d_35\">\r\n      <g>\r\n       <use style=\"stroke:#000000;stroke-width:0.8;\" x=\"336.055125\" xlink:href=\"#m74eadbde6d\" y=\"20.005714\"/>\r\n      </g>\r\n     </g>\r\n     <g id=\"text_37\">\r\n      <!-- 4000 -->\r\n      <g transform=\"translate(343.055125 23.804933)scale(0.1 -0.1)\">\r\n       <use xlink:href=\"#DejaVuSans-52\"/>\r\n       <use x=\"63.623047\" xlink:href=\"#DejaVuSans-48\"/>\r\n       <use x=\"127.246094\" xlink:href=\"#DejaVuSans-48\"/>\r\n       <use x=\"190.869141\" xlink:href=\"#DejaVuSans-48\"/>\r\n      </g>\r\n     </g>\r\n    </g>\r\n   </g>\r\n   <g id=\"patch_4\">\r\n    <path d=\"M 325.183125 224.64 \r\nL 325.183125 223.790625 \r\nL 325.183125 8.049375 \r\nL 325.183125 7.2 \r\nL 336.055125 7.2 \r\nL 336.055125 8.049375 \r\nL 336.055125 223.790625 \r\nL 336.055125 224.64 \r\nz\r\n\" style=\"fill:none;\"/>\r\n   </g>\r\n  </g>\r\n </g>\r\n <defs>\r\n  <clipPath id=\"peebb2970f7\">\r\n   <rect height=\"217.44\" width=\"267.84\" x=\"40.603125\" y=\"7.2\"/>\r\n  </clipPath>\r\n  <clipPath id=\"p859d3366fc\">\r\n   <rect height=\"217.44\" width=\"10.872\" x=\"325.183125\" y=\"7.2\"/>\r\n  </clipPath>\r\n </defs>\r\n</svg>\r\n",
      "image/png": "[encoded data removed]"
     },
     "metadata": {
      "needs_background": "light"
     }
    }
   ],
   "source": [
    "sns.heatmap(prueba, linewidths=.5,cmap=\"YlGnBu\")"
   ]
  },
  {
   "source": [
    "#### Las horas en las que se consiguen más likes por publicación son las 16 horas, generalmente los días martes y jueves."
   ],
   "cell_type": "markdown",
   "metadata": {}
  }
 ]
}